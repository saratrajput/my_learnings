{
 "cells": [
  {
   "cell_type": "markdown",
   "metadata": {},
   "source": [
    "Ref: http://alexanderfabisch.github.io/pybullet.html\n",
    "\n",
    "## Pybullet\n",
    "Pybullet is a simple Python interface to the physics engine Bullet. It is easy to install (via pip install pybullet) and use and it is yet a powerful tool. this article will give a brief glimplse at what you can do with it. A more detailed guide can be found in the pybullet quickstart guide. A great overview of the new features of Bullet 2.87 can be found here. It might become the de facto standard simulation environment for reinforcement learning in the next years."
   ]
  },
  {
   "cell_type": "code",
   "execution_count": 1,
   "metadata": {},
   "outputs": [],
   "source": [
    "import pybullet"
   ]
  },
  {
   "cell_type": "markdown",
   "metadata": {},
   "source": [
    "Start the simulation"
   ]
  },
  {
   "cell_type": "code",
   "execution_count": 2,
   "metadata": {},
   "outputs": [
    {
     "data": {
      "text/plain": [
       "0"
      ]
     },
     "execution_count": 2,
     "metadata": {},
     "output_type": "execute_result"
    }
   ],
   "source": [
    "pybullet.connect(pybullet.GUI)"
   ]
  },
  {
   "cell_type": "markdown",
   "metadata": {},
   "source": [
    "You can reset the simulation to its original state whenever you want which makes it appealing for all kind of reinforcement learning algorithms. After resetting the environment, all modesl have to be recreated. Hence, it makes sense to move all initialization / reset code to one function."
   ]
  },
  {
   "cell_type": "code",
   "execution_count": 3,
   "metadata": {},
   "outputs": [],
   "source": [
    "pybullet.resetSimulation()"
   ]
  },
  {
   "cell_type": "markdown",
   "metadata": {},
   "source": [
    "Why is this important? For example, Gazebo doesn't have a way to reset the entire simulation properly, even though it uses other physics engines and one of them is Bullet. Part of the problem are controllers that are used in ROS.\n",
    "\n",
    "Pybullet can load kinematic descriptions of robots or other objects from URDF files. You could also create your robot manually with a bunch of function calls but you usually don't want that because there are so many tools that support URDF, for example, inverse kinematics solvers, visualization tools, etc.. Other supported formats are Bullet's own format, Gazebo's SDF, and MuJoCo's MJCF files. These support multiple objects and allow you to load entire simulation scenarios at once. Pybullet also comes with some objects that are often useful, for example, a plane:"
   ]
  },
  {
   "cell_type": "code",
   "execution_count": 4,
   "metadata": {},
   "outputs": [],
   "source": [
    "import pybullet_data"
   ]
  },
  {
   "cell_type": "code",
   "execution_count": 6,
   "metadata": {},
   "outputs": [],
   "source": [
    "pybullet.setAdditionalSearchPath(pybullet_data.getDataPath())"
   ]
  },
  {
   "cell_type": "code",
   "execution_count": 8,
   "metadata": {},
   "outputs": [],
   "source": [
    "plane = pybullet.loadURDF(\"plane.urdf\")"
   ]
  },
  {
   "cell_type": "markdown",
   "metadata": {},
   "source": [
    "Let's load some more complicated object: ROS-Industrial has some URDFs for Kuka robots."
   ]
  },
  {
   "cell_type": "code",
   "execution_count": null,
   "metadata": {},
   "outputs": [],
   "source": [
    "import os\n",
    "os.system(\"git clone https://github.com/ros-industrial/kuka_experimental.git\")"
   ]
  },
  {
   "cell_type": "code",
   "execution_count": 9,
   "metadata": {},
   "outputs": [],
   "source": [
    "robot = pybullet.loadURDF(\"kuka_experimental/kuka_kr210_support/urdf/kr210l150.urdf\")"
   ]
  },
  {
   "cell_type": "markdown",
   "metadata": {},
   "source": [
    "We can request the position and orientation of the robot in the world."
   ]
  },
  {
   "cell_type": "code",
   "execution_count": 10,
   "metadata": {},
   "outputs": [],
   "source": [
    "position, orientation = pybullet.getBasePositionAndOrientation(robot)"
   ]
  },
  {
   "cell_type": "code",
   "execution_count": null,
   "metadata": {},
   "outputs": [],
   "source": [
    "orientation"
   ]
  },
  {
   "cell_type": "markdown",
   "metadata": {},
   "source": [
    "Orientation is usually given in quaternions(x, y, z, w).\n",
    "We can ask for the number of joints of the robot."
   ]
  },
  {
   "cell_type": "code",
   "execution_count": 11,
   "metadata": {
    "scrolled": true
   },
   "outputs": [
    {
     "data": {
      "text/plain": [
       "8"
      ]
     },
     "execution_count": 11,
     "metadata": {},
     "output_type": "execute_result"
    }
   ],
   "source": [
    "pybullet.getNumJoints(robot)"
   ]
  },
  {
   "cell_type": "markdown",
   "metadata": {},
   "source": [
    "The arm doesn't really have 8 joints. It has 6 revolute joints and 2 fixed joints. We can request information about each joint."
   ]
  },
  {
   "cell_type": "code",
   "execution_count": 12,
   "metadata": {},
   "outputs": [],
   "source": [
    "joint_index = 2\n",
    "joint_info = pybullet.getJointInfo(robot, joint_index)"
   ]
  },
  {
   "cell_type": "code",
   "execution_count": 16,
   "metadata": {},
   "outputs": [],
   "source": [
    "name, joint_type, lower_limit, upper_limit = joint_info[1], \\\n",
    "                                             joint_info[2], \\\n",
    "                                             joint_info[8], \\\n",
    "                                             joint_info[9]"
   ]
  },
  {
   "cell_type": "code",
   "execution_count": 17,
   "metadata": {},
   "outputs": [
    {
     "data": {
      "text/plain": [
       "(b'joint_a3', 0, -3.66519153, 1.134464045)"
      ]
     },
     "execution_count": 17,
     "metadata": {},
     "output_type": "execute_result"
    }
   ],
   "source": [
    "name, joint_type, lower_limit, upper_limit"
   ]
  },
  {
   "cell_type": "markdown",
   "metadata": {},
   "source": [
    "There are more information in the tuple returned by pybullet.getJointInfo(...)\n",
    "\n",
    "We could as well request the current state of each joint, for example, the positions."
   ]
  },
  {
   "cell_type": "code",
   "execution_count": 18,
   "metadata": {},
   "outputs": [],
   "source": [
    "joint_positions = [j[0] for j in pybullet.getJointStates(robot, range(6))]"
   ]
  },
  {
   "cell_type": "code",
   "execution_count": 19,
   "metadata": {},
   "outputs": [
    {
     "data": {
      "text/plain": [
       "[0.0, 0.0, 0.0, 0.0, 0.0, 0.0]"
      ]
     },
     "execution_count": 19,
     "metadata": {},
     "output_type": "execute_result"
    }
   ],
   "source": [
    "joint_positions"
   ]
  },
  {
   "cell_type": "markdown",
   "metadata": {},
   "source": [
    "... or we could ask for the current position of a link."
   ]
  },
  {
   "cell_type": "code",
   "execution_count": 20,
   "metadata": {},
   "outputs": [
    {
     "data": {
      "text/plain": [
       "(0.538471517, -0.0005601400000000145, 1.957291)"
      ]
     },
     "execution_count": 20,
     "metadata": {},
     "output_type": "execute_result"
    }
   ],
   "source": [
    "world_position, world_orientation = pybullet.getLinkState(robot, 2)[:2]\n",
    "world_position"
   ]
  },
  {
   "cell_type": "markdown",
   "metadata": {},
   "source": [
    "Let's setup the simulation:"
   ]
  },
  {
   "cell_type": "code",
   "execution_count": 21,
   "metadata": {},
   "outputs": [],
   "source": [
    "pybullet.setGravity(0, 0, -9.81)"
   ]
  },
  {
   "cell_type": "code",
   "execution_count": 22,
   "metadata": {},
   "outputs": [],
   "source": [
    "pybullet.setTimeStep(0.0001)\n",
    "pybullet.setRealTimeSimulation(0)"
   ]
  },
  {
   "cell_type": "markdown",
   "metadata": {},
   "source": [
    "Let's give the robot something to do. We will set the desired joint angle. There are other control nodes: velocity control and torque control."
   ]
  },
  {
   "cell_type": "code",
   "execution_count": 23,
   "metadata": {},
   "outputs": [],
   "source": [
    "pybullet.setJointMotorControlArray(robot, range(6), pybullet.POSITION_CONTROL,\n",
    "                                   targetPositions=[0.1] * 6)"
   ]
  },
  {
   "cell_type": "markdown",
   "metadata": {},
   "source": [
    "Now, we can step through the simulation:"
   ]
  },
  {
   "cell_type": "code",
   "execution_count": 25,
   "metadata": {},
   "outputs": [],
   "source": [
    "for _ in range(10000):\n",
    "    pybullet.stepSimulation()"
   ]
  },
  {
   "cell_type": "markdown",
   "metadata": {},
   "source": [
    "The robot moves, but it will almost fall over since we forgot to attach it to the ground! Let's do that now:"
   ]
  },
  {
   "cell_type": "code",
   "execution_count": 36,
   "metadata": {},
   "outputs": [],
   "source": [
    "pybullet.resetSimulation()\n",
    "plane = pybullet.loadURDF(\"plane.urdf\")\n",
    "robot = pybullet.loadURDF(\"kuka_experimental/kuka_kr210_support/urdf/kr210l150.urdf\",\n",
    "                         [0, 0, 0], useFixedBase=1)\n",
    "pybullet.setGravity(0, 0, -9.81)\n",
    "pybullet.setTimeStep(0.001)\n",
    "pybullet.setRealTimeSimulation(0)"
   ]
  },
  {
   "cell_type": "code",
   "execution_count": 37,
   "metadata": {},
   "outputs": [],
   "source": [
    "pybullet.setJointMotorControlArray(robot, range(6),\n",
    "                                   pybullet.POSITION_CONTROL,\n",
    "                                   targetPositions=[0.1] * 6)\n",
    "\n",
    "for _ in range(10000):\n",
    "    pybullet.stepSimulation()"
   ]
  },
  {
   "cell_type": "markdown",
   "metadata": {},
   "source": [
    "Apart from that, like in every good physics simulation, you can\n",
    "* add a force/torque sensor for each joint.\n",
    "* add cameras, you can even get a depth image and a segmentation mask (the object ID for each pixel) from the camera\n",
    "* show debug information in the GUI."
   ]
  }
 ],
 "metadata": {
  "kernelspec": {
   "display_name": "Python 3",
   "language": "python",
   "name": "python3"
  },
  "language_info": {
   "codemirror_mode": {
    "name": "ipython",
    "version": 3
   },
   "file_extension": ".py",
   "mimetype": "text/x-python",
   "name": "python",
   "nbconvert_exporter": "python",
   "pygments_lexer": "ipython3",
   "version": "3.6.10"
  }
 },
 "nbformat": 4,
 "nbformat_minor": 4
}
