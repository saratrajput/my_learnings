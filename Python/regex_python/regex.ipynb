{
 "cells": [
  {
   "cell_type": "markdown",
   "id": "1405ffd3-7125-4a2f-ad11-5c232c7bd836",
   "metadata": {},
   "source": [
    "# Regex in Python"
   ]
  },
  {
   "cell_type": "code",
   "execution_count": 35,
   "id": "7a7c79b9-377a-4a1c-92d3-865d294548ee",
   "metadata": {},
   "outputs": [],
   "source": [
    "text_to_search = '''\n",
    "abcdefghijklmnopqurtuvwxyz\n",
    "ABCDEFGHIJKLMNOPQRSTUVWXYZ\n",
    "1234567890\n",
    "Ha HaHa\n",
    "MetaCharacters (Need to be escaped):\n",
    ". ^ $ * + ? { } [ ] \\ | ( )\n",
    "coreyms.com\n",
    "321-555-4321\n",
    "123.555.1234\n",
    "123*555*1234\n",
    "800-555-1234\n",
    "900-555-1234\n",
    "Mr. Schafer\n",
    "Mr Smith\n",
    "Ms Davis\n",
    "Mrs. Robinson\n",
    "Mr. T\n",
    "\n",
    "'''\n",
    "\n",
    "sentence = 'Start a sentence and then bring it to an end'\n"
   ]
  },
  {
   "cell_type": "code",
   "execution_count": 3,
   "id": "ef4bceed-3dbf-4a15-aa79-b697dbce84f5",
   "metadata": {},
   "outputs": [],
   "source": [
    "import re"
   ]
  },
  {
   "cell_type": "code",
   "execution_count": 4,
   "id": "96b4f0b1-b6d6-4188-b41e-674ba4d5d49d",
   "metadata": {},
   "outputs": [
    {
     "name": "stdout",
     "output_type": "stream",
     "text": [
      "\tTab\n"
     ]
    }
   ],
   "source": [
    "print('\\tTab')"
   ]
  },
  {
   "cell_type": "code",
   "execution_count": 5,
   "id": "9f68f659-89ac-46de-a160-4300b556e2de",
   "metadata": {},
   "outputs": [
    {
     "name": "stdout",
     "output_type": "stream",
     "text": [
      "\\tTab\n"
     ]
    }
   ],
   "source": [
    "print(r'\\tTab')"
   ]
  },
  {
   "cell_type": "code",
   "execution_count": 8,
   "id": "a06cac28-9658-49b6-8495-6953a82f93e8",
   "metadata": {},
   "outputs": [],
   "source": [
    "# Compile method\n",
    "pattern = re.compile(r'abc')\n",
    "\n",
    "matches = pattern.finditer(text_to_search)\n",
    "\n",
    "for match in matches:\n",
    "    print(match)"
   ]
  },
  {
   "cell_type": "code",
   "execution_count": null,
   "id": "60861902-f0fb-45f1-a094-2e28702fcf4d",
   "metadata": {},
   "outputs": [],
   "source": [
    "# Search for period\n",
    "pattern = re.compile(r'\\.')\n",
    "\n",
    "pattern = re.compile(r'coreyms\\.com')"
   ]
  },
  {
   "cell_type": "code",
   "execution_count": null,
   "id": "5edb0355-eb38-4a59-8112-b2e0210d0ba1",
   "metadata": {},
   "outputs": [],
   "source": [
    "# Search for digits\n",
    "pattern = re.compile(r'\\d')\n",
    "\n",
    "# Not a digit\n",
    "pattern = re.compile(r'\\D')"
   ]
  },
  {
   "cell_type": "code",
   "execution_count": 12,
   "id": "e794960d-c057-4d9c-ae92-33ea502e6a21",
   "metadata": {},
   "outputs": [
    {
     "name": "stdout",
     "output_type": "stream",
     "text": [
      "<re.Match object; span=(0, 5), match='Start'>\n"
     ]
    }
   ],
   "source": [
    "# Start and end of sentence\n",
    "pattern = re.compile(r'^Start')\n",
    "pattern = re.compile(r'$end')\n",
    "\n",
    "matches = pattern.finditer(sentence)\n",
    "\n",
    "for match in matches:\n",
    "    print(match)"
   ]
  },
  {
   "cell_type": "code",
   "execution_count": 16,
   "id": "f5ead156-5cfa-42a6-9e31-f9a06fc9b416",
   "metadata": {},
   "outputs": [],
   "source": [
    "def find_matches(pattern, text_to_search):\n",
    "    matches = pattern.finditer(text_to_search)\n",
    "    \n",
    "    for match in matches:\n",
    "        print(match)"
   ]
  },
  {
   "cell_type": "code",
   "execution_count": 17,
   "id": "a72b2895-e914-4bb5-8164-4fcf9f3be717",
   "metadata": {},
   "outputs": [
    {
     "name": "stdout",
     "output_type": "stream",
     "text": [
      "<re.Match object; span=(55, 58), match='123'>\n",
      "<re.Match object; span=(58, 61), match='456'>\n",
      "<re.Match object; span=(61, 64), match='789'>\n",
      "<re.Match object; span=(151, 154), match='321'>\n",
      "<re.Match object; span=(155, 158), match='555'>\n",
      "<re.Match object; span=(159, 162), match='432'>\n",
      "<re.Match object; span=(164, 167), match='123'>\n",
      "<re.Match object; span=(168, 171), match='555'>\n",
      "<re.Match object; span=(172, 175), match='123'>\n",
      "<re.Match object; span=(177, 180), match='123'>\n",
      "<re.Match object; span=(181, 184), match='555'>\n",
      "<re.Match object; span=(185, 188), match='123'>\n",
      "<re.Match object; span=(190, 193), match='800'>\n",
      "<re.Match object; span=(194, 197), match='555'>\n",
      "<re.Match object; span=(198, 201), match='123'>\n",
      "<re.Match object; span=(203, 206), match='900'>\n",
      "<re.Match object; span=(207, 210), match='555'>\n",
      "<re.Match object; span=(211, 214), match='123'>\n"
     ]
    }
   ],
   "source": [
    "# Look for sequence of digits\n",
    "pattern = re.compile(r'\\d\\d\\d')\n",
    "find_matches(pattern, text_to_search)"
   ]
  },
  {
   "cell_type": "code",
   "execution_count": 21,
   "id": "2ed8ba14-d2eb-4549-a512-fedd5856864c",
   "metadata": {},
   "outputs": [
    {
     "name": "stdout",
     "output_type": "stream",
     "text": [
      "<re.Match object; span=(151, 163), match='321-555-4321'>\n",
      "<re.Match object; span=(164, 176), match='123.555.1234'>\n",
      "<re.Match object; span=(177, 189), match='123*555*1234'>\n",
      "<re.Match object; span=(190, 202), match='800-555-1234'>\n",
      "<re.Match object; span=(203, 215), match='900-555-1234'>\n"
     ]
    }
   ],
   "source": [
    "# Look for phone number\n",
    "pattern = re.compile(r'\\d\\d\\d.\\d\\d\\d.\\d\\d\\d\\d')\n",
    "find_matches(pattern, text_to_search)"
   ]
  },
  {
   "cell_type": "code",
   "execution_count": 22,
   "id": "599ea4f5-d00c-475b-b22f-f3b83addeb9a",
   "metadata": {},
   "outputs": [
    {
     "name": "stdout",
     "output_type": "stream",
     "text": [
      "<re.Match object; span=(151, 163), match='321-555-4321'>\n",
      "<re.Match object; span=(164, 176), match='123.555.1234'>\n",
      "<re.Match object; span=(190, 202), match='800-555-1234'>\n",
      "<re.Match object; span=(203, 215), match='900-555-1234'>\n"
     ]
    }
   ],
   "source": [
    "# Look for phone number with - or . separator\n",
    "pattern = re.compile(r'\\d\\d\\d[-.]\\d\\d\\d[-.]\\d\\d\\d\\d')\n",
    "find_matches(pattern, text_to_search)"
   ]
  },
  {
   "cell_type": "code",
   "execution_count": 24,
   "id": "114a7f46-87ec-42d4-9d96-a90af8fdb4e1",
   "metadata": {},
   "outputs": [
    {
     "name": "stdout",
     "output_type": "stream",
     "text": [
      "<re.Match object; span=(190, 202), match='800-555-1234'>\n",
      "<re.Match object; span=(203, 215), match='900-555-1234'>\n"
     ]
    }
   ],
   "source": [
    "# Look for 800 and 900 numbers\n",
    "pattern = re.compile(r'[89]00[-.]\\d\\d\\d[-.]\\d\\d\\d\\d')\n",
    "find_matches(pattern, text_to_search)"
   ]
  },
  {
   "cell_type": "code",
   "execution_count": 30,
   "id": "e3450e9e-fc29-4405-b7da-50d323724c02",
   "metadata": {},
   "outputs": [],
   "source": [
    "# Look for phone numbers in file\n",
    "pattern = re.compile(r'\\d\\d\\d.\\d\\d\\d.\\d\\d\\d')\n",
    "\n",
    "with open('data.txt', 'r') as f:\n",
    "    contents = f.read()\n",
    "    \n",
    "    find_matches(pattern, contents)"
   ]
  },
  {
   "cell_type": "code",
   "execution_count": 29,
   "id": "fd80354a-8a3a-44ea-a719-c5d5d2df4666",
   "metadata": {},
   "outputs": [],
   "source": [
    "# Look for 800, 900 phone numbers in file\n",
    "pattern = re.compile(r'[89]\\d\\d.\\d\\d\\d.\\d\\d\\d\\d')\n",
    "\n",
    "with open('data.txt', 'r') as f:\n",
    "    contents = f.read()\n",
    "    \n",
    "    find_matches(pattern, contents)"
   ]
  },
  {
   "cell_type": "code",
   "execution_count": 28,
   "id": "b07d90c2-1a23-4bc5-bcbc-bc76aa33f165",
   "metadata": {},
   "outputs": [],
   "source": [
    "# Range in brackets in character set\n",
    "pattern = re.compile(r'[a-zA-Z]')\n",
    "\n",
    "# Match NOT the characters in character set\n",
    "pattern = re.compile(r'[^a-zA-Z]')\n",
    "find_matches(pattern, text_to_search)"
   ]
  },
  {
   "cell_type": "code",
   "execution_count": 36,
   "id": "f78104c6-fb76-4756-86c1-5613bd1b7794",
   "metadata": {},
   "outputs": [
    {
     "name": "stdout",
     "output_type": "stream",
     "text": [
      "<re.Match object; span=(1, 4), match='cat'>\n",
      "<re.Match object; span=(5, 8), match='mat'>\n",
      "<re.Match object; span=(9, 12), match='pat'>\n",
      "<re.Match object; span=(17, 20), match='sat'>\n"
     ]
    }
   ],
   "source": [
    "# Match anything that is not a \"b\"\n",
    "my_text = \"\"\"\n",
    "cat\n",
    "mat\n",
    "pat\n",
    "bat\n",
    "sat\n",
    "\"\"\"\n",
    "pattern = re.compile(r'[^b]at')\n",
    "find_matches(pattern, my_text)"
   ]
  },
  {
   "cell_type": "markdown",
   "id": "7e0c0cb3-a3e5-4118-bee6-09eba14f3118",
   "metadata": {},
   "source": [
    "## Quantifiers"
   ]
  },
  {
   "cell_type": "code",
   "execution_count": 37,
   "id": "ebbe933f-2ca1-40e4-b5df-d0bd88cd7651",
   "metadata": {},
   "outputs": [
    {
     "name": "stdout",
     "output_type": "stream",
     "text": [
      "<re.Match object; span=(151, 163), match='321-555-4321'>\n",
      "<re.Match object; span=(164, 176), match='123.555.1234'>\n",
      "<re.Match object; span=(177, 189), match='123*555*1234'>\n",
      "<re.Match object; span=(190, 202), match='800-555-1234'>\n",
      "<re.Match object; span=(203, 215), match='900-555-1234'>\n"
     ]
    }
   ],
   "source": [
    "pattern = re.compile(r'\\d\\d\\d.\\d\\d\\d.\\d\\d\\d\\d')\n",
    "# Quantifier to match multiple characters at a time\n",
    "pattern = re.compile(r'\\d{3}.\\d{3}.\\d{4}')\n",
    "find_matches(pattern, text_to_search)"
   ]
  },
  {
   "cell_type": "code",
   "execution_count": 38,
   "id": "57d71172-cd41-469c-a5fe-b42f47623f52",
   "metadata": {},
   "outputs": [
    {
     "name": "stdout",
     "output_type": "stream",
     "text": [
      "<re.Match object; span=(216, 219), match='Mr.'>\n",
      "<re.Match object; span=(260, 263), match='Mr.'>\n"
     ]
    }
   ],
   "source": [
    "# Mr *\n",
    "pattern = re.compile(r'Mr\\.')\n",
    "find_matches(pattern, text_to_search)"
   ]
  },
  {
   "cell_type": "code",
   "execution_count": 40,
   "id": "26e7f861-f0e5-471b-8ddd-377500c6869e",
   "metadata": {},
   "outputs": [
    {
     "name": "stdout",
     "output_type": "stream",
     "text": [
      "<re.Match object; span=(216, 219), match='Mr.'>\n",
      "<re.Match object; span=(228, 230), match='Mr'>\n",
      "<re.Match object; span=(246, 248), match='Mr'>\n",
      "<re.Match object; span=(260, 263), match='Mr.'>\n"
     ]
    }
   ],
   "source": [
    "pattern = re.compile(r'Mr\\.?')\n",
    "find_matches(pattern, text_to_search)"
   ]
  },
  {
   "cell_type": "code",
   "execution_count": 41,
   "id": "07cc9f52-2842-42f3-b92c-f28c9b4048fb",
   "metadata": {},
   "outputs": [
    {
     "name": "stdout",
     "output_type": "stream",
     "text": [
      "<re.Match object; span=(216, 221), match='Mr. S'>\n",
      "<re.Match object; span=(228, 232), match='Mr S'>\n",
      "<re.Match object; span=(260, 265), match='Mr. T'>\n"
     ]
    }
   ],
   "source": [
    "# Upto first letter of name\n",
    "pattern = re.compile(r'Mr\\.?\\s[A-Z]')\n",
    "find_matches(pattern, text_to_search)"
   ]
  },
  {
   "cell_type": "code",
   "execution_count": 43,
   "id": "4e85a6bc-c063-4ceb-a58e-0cf87bd4a01f",
   "metadata": {},
   "outputs": [
    {
     "name": "stdout",
     "output_type": "stream",
     "text": [
      "<re.Match object; span=(216, 227), match='Mr. Schafer'>\n",
      "<re.Match object; span=(228, 236), match='Mr Smith'>\n",
      "<re.Match object; span=(260, 265), match='Mr. T'>\n"
     ]
    }
   ],
   "source": [
    "# Upto first name\n",
    "pattern = re.compile(r'Mr\\.?\\s[A-Z]\\w*')\n",
    "find_matches(pattern, text_to_search)"
   ]
  },
  {
   "cell_type": "markdown",
   "id": "7e909a35-e557-415a-894c-0065835876b0",
   "metadata": {},
   "source": [
    "## Groups"
   ]
  },
  {
   "cell_type": "code",
   "execution_count": 44,
   "id": "9229c6b8-7408-45bb-b205-1bfe89606224",
   "metadata": {},
   "outputs": [
    {
     "name": "stdout",
     "output_type": "stream",
     "text": [
      "<re.Match object; span=(216, 227), match='Mr. Schafer'>\n",
      "<re.Match object; span=(228, 236), match='Mr Smith'>\n",
      "<re.Match object; span=(237, 245), match='Ms Davis'>\n",
      "<re.Match object; span=(246, 259), match='Mrs. Robinson'>\n",
      "<re.Match object; span=(260, 265), match='Mr. T'>\n"
     ]
    }
   ],
   "source": [
    "pattern = re.compile(r'M(r|s|rs)\\.?\\s[A-Z]\\w*')\n",
    "find_matches(pattern, text_to_search)"
   ]
  },
  {
   "cell_type": "markdown",
   "id": "369371f0-0146-4736-bfef-170b8ee5c74b",
   "metadata": {},
   "source": [
    "### Emails"
   ]
  },
  {
   "cell_type": "code",
   "execution_count": 45,
   "id": "f450b893-3cba-4576-b221-3e620a6f6ae4",
   "metadata": {},
   "outputs": [],
   "source": [
    "emails = '''\n",
    "CoreyMSchafer@gmail.com\n",
    "corey.schafer@university.edu\n",
    "core-321-schafer@my-work.net\n",
    "'''"
   ]
  },
  {
   "cell_type": "code",
   "execution_count": 56,
   "id": "f8a77fa4-2e0a-43a8-be34-a47e837860aa",
   "metadata": {},
   "outputs": [
    {
     "name": "stdout",
     "output_type": "stream",
     "text": [
      "<re.Match object; span=(1, 24), match='CoreyMSchafer@gmail.com'>\n",
      "<re.Match object; span=(25, 53), match='corey.schafer@university.edu'>\n",
      "<re.Match object; span=(54, 82), match='core-321-schafer@my-work.net'>\n"
     ]
    }
   ],
   "source": [
    "pattern = re.compile(r'[a-zA-Z.0-9-]+@[a-zA-Z-]+\\.(com|edu|net)')\n",
    "find_matches(pattern, emails)"
   ]
  },
  {
   "cell_type": "markdown",
   "id": "8d743bc0-158d-4dcc-844f-5e2795b2736a",
   "metadata": {},
   "source": [
    "### URLs"
   ]
  },
  {
   "cell_type": "code",
   "execution_count": 59,
   "id": "8d4503f4-8ea9-4375-b0e4-1a91d0e5b9a4",
   "metadata": {},
   "outputs": [],
   "source": [
    "urls = '''\n",
    "https://www.google.com\n",
    "http://coreyms.com\n",
    "https://youtube.com\n",
    "https://www.nasa.gov\n",
    "'''"
   ]
  },
  {
   "cell_type": "code",
   "execution_count": 64,
   "id": "b9c15821-be23-4b71-b2ff-dda01ff58beb",
   "metadata": {},
   "outputs": [
    {
     "name": "stdout",
     "output_type": "stream",
     "text": [
      "<re.Match object; span=(1, 23), match='https://www.google.com'>\n",
      "<re.Match object; span=(24, 42), match='http://coreyms.com'>\n",
      "<re.Match object; span=(43, 62), match='https://youtube.com'>\n",
      "<re.Match object; span=(63, 83), match='https://www.nasa.gov'>\n"
     ]
    }
   ],
   "source": [
    "pattern = re.compile(r'https?://(www\\.)?(\\w+)(\\.\\w+)')\n",
    "find_matches(pattern, urls)"
   ]
  },
  {
   "cell_type": "code",
   "execution_count": 71,
   "id": "028cbe08-ab12-46c1-acce-ffa41e5dbead",
   "metadata": {},
   "outputs": [
    {
     "name": "stdout",
     "output_type": "stream",
     "text": [
      "https://www.google.com\n",
      "http://coreyms.com\n",
      "https://youtube.com\n",
      "https://www.nasa.gov\n"
     ]
    }
   ],
   "source": [
    "matches = pattern.finditer(urls)\n",
    "\n",
    "for match in matches:\n",
    "    print(match.group(0))"
   ]
  },
  {
   "cell_type": "code",
   "execution_count": 73,
   "id": "62a001bd-1a5d-46ed-9f28-9379d988aab4",
   "metadata": {},
   "outputs": [
    {
     "name": "stdout",
     "output_type": "stream",
     "text": [
      "www.\n",
      "None\n",
      "None\n",
      "www.\n"
     ]
    }
   ],
   "source": [
    "matches = pattern.finditer(urls)\n",
    "\n",
    "for match in matches:\n",
    "    print(match.group(1))"
   ]
  },
  {
   "cell_type": "code",
   "execution_count": 74,
   "id": "45e45c70-d5a7-4899-9b66-6def0965329f",
   "metadata": {},
   "outputs": [
    {
     "name": "stdout",
     "output_type": "stream",
     "text": [
      "google\n",
      "coreyms\n",
      "youtube\n",
      "nasa\n"
     ]
    }
   ],
   "source": [
    "matches = pattern.finditer(urls)\n",
    "\n",
    "for match in matches:\n",
    "    print(match.group(2))"
   ]
  },
  {
   "cell_type": "code",
   "execution_count": 75,
   "id": "2bf21dc0-db1f-4e9f-89ce-f11456c9c7a0",
   "metadata": {},
   "outputs": [
    {
     "name": "stdout",
     "output_type": "stream",
     "text": [
      ".com\n",
      ".com\n",
      ".com\n",
      ".gov\n"
     ]
    }
   ],
   "source": [
    "matches = pattern.finditer(urls)\n",
    "\n",
    "for match in matches:\n",
    "    print(match.group(3))"
   ]
  },
  {
   "cell_type": "markdown",
   "id": "16ebe196-bbf0-4cd8-9ff0-d5ba382d3341",
   "metadata": {},
   "source": [
    "## Substitutions"
   ]
  },
  {
   "cell_type": "code",
   "execution_count": 76,
   "id": "5908148f-7daa-497f-8f4a-13e655a4cd5a",
   "metadata": {},
   "outputs": [
    {
     "name": "stdout",
     "output_type": "stream",
     "text": [
      "\n",
      "google.com\n",
      "coreyms.com\n",
      "youtube.com\n",
      "nasa.gov\n",
      "\n"
     ]
    }
   ],
   "source": [
    "pattern = re.compile(r'https?://(www\\.)?(\\w+)(\\.\\w+)')\n",
    "\n",
    "# Backreferences to groups\n",
    "subbed_urls = pattern.sub(r'\\2\\3', urls)\n",
    "\n",
    "print(subbed_urls)"
   ]
  },
  {
   "cell_type": "markdown",
   "id": "d46d9c4a-9218-4417-be57-235b251315ea",
   "metadata": {},
   "source": [
    "## Find Methods"
   ]
  },
  {
   "cell_type": "code",
   "execution_count": 78,
   "id": "a590848e-3400-45e3-bbf7-8c07e71b7e65",
   "metadata": {},
   "outputs": [
    {
     "name": "stdout",
     "output_type": "stream",
     "text": [
      "Mr\n",
      "Mr\n",
      "Ms\n",
      "Mrs\n",
      "Mr\n"
     ]
    }
   ],
   "source": [
    "# Find all\n",
    "pattern = re.compile(r'(Mr|Ms|Mrs)\\.?\\s[A-Z]\\w*')\n",
    "\n",
    "# Returns only the groups\n",
    "matches = pattern.findall(text_to_search)\n",
    "\n",
    "for match in matches:\n",
    "    print(match)"
   ]
  },
  {
   "cell_type": "code",
   "execution_count": 81,
   "id": "fc45bade-ad03-4c7b-8ce8-6d45f59befa0",
   "metadata": {},
   "outputs": [
    {
     "name": "stdout",
     "output_type": "stream",
     "text": [
      "<re.Match object; span=(0, 5), match='Start'>\n"
     ]
    }
   ],
   "source": [
    "# Match\n",
    "sentence = 'Start a sentence and then bring it to an end'\n",
    "\n",
    "pattern = re.compile(r'Start')\n",
    "\n",
    "matches = pattern.match(sentence)\n",
    "\n",
    "print(matches)"
   ]
  },
  {
   "cell_type": "code",
   "execution_count": 82,
   "id": "561a98e5-ec6a-48ea-a12e-3a654413abcc",
   "metadata": {},
   "outputs": [
    {
     "name": "stdout",
     "output_type": "stream",
     "text": [
      "<re.Match object; span=(0, 5), match='Start'>\n"
     ]
    }
   ],
   "source": [
    "# Search\n",
    "matches = pattern.search(sentence)\n",
    "print(matches)"
   ]
  },
  {
   "cell_type": "markdown",
   "id": "e28eac7f-2dd5-432a-a03a-079f516800c5",
   "metadata": {},
   "source": [
    "## Flags"
   ]
  },
  {
   "cell_type": "code",
   "execution_count": 83,
   "id": "df7f1a92-899c-4a12-b9f7-7397a6578a37",
   "metadata": {},
   "outputs": [
    {
     "name": "stdout",
     "output_type": "stream",
     "text": [
      "<re.Match object; span=(0, 5), match='Start'>\n"
     ]
    }
   ],
   "source": [
    "# Ignore case\n",
    "pattern = re.compile(r'start', re.IGNORECASE)\n",
    "# pattern = re.compile(r'start', re.I)\n",
    "matches = pattern.search(sentence)\n",
    "print(matches)"
   ]
  }
 ],
 "metadata": {
  "kernelspec": {
   "display_name": "Python 3 (ipykernel)",
   "language": "python",
   "name": "python3"
  },
  "language_info": {
   "codemirror_mode": {
    "name": "ipython",
    "version": 3
   },
   "file_extension": ".py",
   "mimetype": "text/x-python",
   "name": "python",
   "nbconvert_exporter": "python",
   "pygments_lexer": "ipython3",
   "version": "3.7.11"
  }
 },
 "nbformat": 4,
 "nbformat_minor": 5
}
