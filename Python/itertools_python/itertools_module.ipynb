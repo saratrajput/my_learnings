{
 "cells": [
  {
   "cell_type": "markdown",
   "id": "00af8a74-f702-496e-b29f-a2e2b2d19770",
   "metadata": {},
   "source": [
    "# Itertools Module - Iterator Functions for Efficient Looping\n",
    "[Youtube](https://youtu.be/Qu3dThVy6KQ)"
   ]
  },
  {
   "cell_type": "markdown",
   "id": "064d8d3b-fdb6-4ea5-9197-f889457d005b",
   "metadata": {},
   "source": [
    "## Count"
   ]
  },
  {
   "cell_type": "code",
   "execution_count": 1,
   "id": "4c9729e3-7c11-4f18-b563-7ca7cc964eb1",
   "metadata": {},
   "outputs": [],
   "source": [
    "import itertools"
   ]
  },
  {
   "cell_type": "code",
   "execution_count": 6,
   "id": "12e71a17-4828-427e-8f03-ca2ab421fdd4",
   "metadata": {},
   "outputs": [],
   "source": [
    "counter = itertools.count()"
   ]
  },
  {
   "cell_type": "code",
   "execution_count": 7,
   "id": "f6dfd9a8-2638-494c-8739-afed1b7bc2b6",
   "metadata": {},
   "outputs": [
    {
     "name": "stdout",
     "output_type": "stream",
     "text": [
      "0\n"
     ]
    }
   ],
   "source": [
    "print(next(counter))"
   ]
  },
  {
   "cell_type": "code",
   "execution_count": 8,
   "id": "f769f2d3-5332-431e-b018-16e67a963d7f",
   "metadata": {},
   "outputs": [
    {
     "name": "stdout",
     "output_type": "stream",
     "text": [
      "1\n"
     ]
    }
   ],
   "source": [
    "print(next(counter))"
   ]
  },
  {
   "cell_type": "code",
   "execution_count": 9,
   "id": "0053ffe2-e0b3-471d-8602-75bbccccd3d1",
   "metadata": {},
   "outputs": [
    {
     "name": "stdout",
     "output_type": "stream",
     "text": [
      "2\n"
     ]
    }
   ],
   "source": [
    "print(next(counter))"
   ]
  },
  {
   "cell_type": "code",
   "execution_count": 11,
   "id": "d7296dd8-85e4-4372-8401-70bd72779d68",
   "metadata": {},
   "outputs": [
    {
     "data": {
      "text/plain": [
       "[(0, 100), (1, 200), (2, 300), (3, 400)]"
      ]
     },
     "execution_count": 11,
     "metadata": {},
     "output_type": "execute_result"
    }
   ],
   "source": [
    "data = [100, 200, 300, 400]\n",
    "\n",
    "daily_data = list(zip(itertools.count(), data))\n",
    "daily_data"
   ]
  },
  {
   "cell_type": "code",
   "execution_count": 12,
   "id": "278c5fe5-d8c7-4671-ac2c-00955a25e136",
   "metadata": {},
   "outputs": [
    {
     "name": "stdout",
     "output_type": "stream",
     "text": [
      "5\n",
      "6\n",
      "7\n"
     ]
    }
   ],
   "source": [
    "# Change counter start\n",
    "counter = itertools.count(start=5)\n",
    "print(next(counter))\n",
    "print(next(counter))\n",
    "print(next(counter))"
   ]
  },
  {
   "cell_type": "code",
   "execution_count": 13,
   "id": "2cf045d6-569d-474a-8ac5-719a1fca8524",
   "metadata": {},
   "outputs": [
    {
     "name": "stdout",
     "output_type": "stream",
     "text": [
      "5\n",
      "10\n",
      "15\n"
     ]
    }
   ],
   "source": [
    "# Change counter step\n",
    "counter = itertools.count(start=5, step=5)\n",
    "print(next(counter))\n",
    "print(next(counter))\n",
    "print(next(counter))"
   ]
  },
  {
   "cell_type": "code",
   "execution_count": 15,
   "id": "5b88edcf-b8d3-4ad6-83b7-ccb21aee5698",
   "metadata": {},
   "outputs": [
    {
     "name": "stdout",
     "output_type": "stream",
     "text": [
      "5\n",
      "2.5\n",
      "0.0\n"
     ]
    }
   ],
   "source": [
    "counter = itertools.count(start=5, step=-2.5)\n",
    "print(next(counter))\n",
    "print(next(counter))\n",
    "print(next(counter))"
   ]
  },
  {
   "cell_type": "code",
   "execution_count": 17,
   "id": "e5fb1566-ede7-48d4-83d4-767a78125821",
   "metadata": {},
   "outputs": [
    {
     "name": "stdout",
     "output_type": "stream",
     "text": [
      "[(0, 100), (1, 200), (2, 300), (3, 400), (4, None), (5, None), (6, None), (7, None), (8, None), (9, None)]\n"
     ]
    }
   ],
   "source": [
    "# Zip-longest\n",
    "data = [100, 200, 300, 400]\n",
    "daily_data = list(itertools.zip_longest(range(10), data))\n",
    "print(daily_data)"
   ]
  },
  {
   "cell_type": "markdown",
   "id": "e5529504-5999-4c01-a557-81c5b153a18f",
   "metadata": {},
   "source": [
    "## Cycle"
   ]
  },
  {
   "cell_type": "code",
   "execution_count": 18,
   "id": "fd7c22f1-f36c-4812-91d9-abff32ac9ecb",
   "metadata": {},
   "outputs": [
    {
     "name": "stdout",
     "output_type": "stream",
     "text": [
      "1\n",
      "2\n",
      "3\n",
      "1\n",
      "2\n",
      "3\n"
     ]
    }
   ],
   "source": [
    "counter = itertools.cycle([1, 2, 3])\n",
    "print(next(counter))\n",
    "print(next(counter))\n",
    "print(next(counter))\n",
    "print(next(counter))\n",
    "print(next(counter))\n",
    "print(next(counter))"
   ]
  },
  {
   "cell_type": "code",
   "execution_count": 19,
   "id": "18b6183c-2258-41a6-bbf2-462f98dfe715",
   "metadata": {},
   "outputs": [
    {
     "name": "stdout",
     "output_type": "stream",
     "text": [
      "On\n",
      "Off\n",
      "On\n",
      "Off\n",
      "On\n",
      "Off\n"
     ]
    }
   ],
   "source": [
    "counter = itertools.cycle([\"On\", \"Off\"])\n",
    "print(next(counter))\n",
    "print(next(counter))\n",
    "print(next(counter))\n",
    "print(next(counter))\n",
    "print(next(counter))\n",
    "print(next(counter))"
   ]
  },
  {
   "cell_type": "markdown",
   "id": "616aa802-d4a7-4543-966b-eb3c78e11240",
   "metadata": {},
   "source": [
    "## Repeat"
   ]
  },
  {
   "cell_type": "code",
   "execution_count": 20,
   "id": "4fb8b5c5-e286-4430-bc1c-55ea09b80f95",
   "metadata": {},
   "outputs": [
    {
     "name": "stdout",
     "output_type": "stream",
     "text": [
      "2\n",
      "2\n",
      "2\n",
      "2\n"
     ]
    }
   ],
   "source": [
    "counter = itertools.repeat(2)\n",
    "print(next(counter))\n",
    "print(next(counter))\n",
    "print(next(counter))\n",
    "print(next(counter))"
   ]
  },
  {
   "cell_type": "code",
   "execution_count": 21,
   "id": "240c3771-4219-4efa-aadd-315c0c4d9d1b",
   "metadata": {},
   "outputs": [
    {
     "name": "stdout",
     "output_type": "stream",
     "text": [
      "2\n",
      "2\n",
      "2\n"
     ]
    },
    {
     "ename": "StopIteration",
     "evalue": "",
     "output_type": "error",
     "traceback": [
      "\u001b[0;31m---------------------------------------------------------------------------\u001b[0m",
      "\u001b[0;31mStopIteration\u001b[0m                             Traceback (most recent call last)",
      "\u001b[0;32m/tmp/ipykernel_22789/3539697016.py\u001b[0m in \u001b[0;36m<module>\u001b[0;34m\u001b[0m\n\u001b[1;32m      4\u001b[0m \u001b[0mprint\u001b[0m\u001b[0;34m(\u001b[0m\u001b[0mnext\u001b[0m\u001b[0;34m(\u001b[0m\u001b[0mcounter\u001b[0m\u001b[0;34m)\u001b[0m\u001b[0;34m)\u001b[0m\u001b[0;34m\u001b[0m\u001b[0;34m\u001b[0m\u001b[0m\n\u001b[1;32m      5\u001b[0m \u001b[0mprint\u001b[0m\u001b[0;34m(\u001b[0m\u001b[0mnext\u001b[0m\u001b[0;34m(\u001b[0m\u001b[0mcounter\u001b[0m\u001b[0;34m)\u001b[0m\u001b[0;34m)\u001b[0m\u001b[0;34m\u001b[0m\u001b[0;34m\u001b[0m\u001b[0m\n\u001b[0;32m----> 6\u001b[0;31m \u001b[0mprint\u001b[0m\u001b[0;34m(\u001b[0m\u001b[0mnext\u001b[0m\u001b[0;34m(\u001b[0m\u001b[0mcounter\u001b[0m\u001b[0;34m)\u001b[0m\u001b[0;34m)\u001b[0m\u001b[0;34m\u001b[0m\u001b[0;34m\u001b[0m\u001b[0m\n\u001b[0m",
      "\u001b[0;31mStopIteration\u001b[0m: "
     ]
    }
   ],
   "source": [
    "# Set limit\n",
    "counter = itertools.repeat(2, times=3)\n",
    "print(next(counter))\n",
    "print(next(counter))\n",
    "print(next(counter))\n",
    "print(next(counter))"
   ]
  },
  {
   "cell_type": "code",
   "execution_count": 22,
   "id": "9db77924-642a-4948-b652-0910995ef314",
   "metadata": {},
   "outputs": [
    {
     "name": "stdout",
     "output_type": "stream",
     "text": [
      "[0, 1, 4, 9, 16, 25, 36, 49, 64, 81]\n"
     ]
    }
   ],
   "source": [
    "# Example: Calculate squares\n",
    "squares = map(pow, range(10), itertools.repeat(2))\n",
    "print(list(squares))"
   ]
  },
  {
   "cell_type": "markdown",
   "id": "77e55070-d333-4e0b-bbb7-cdd4f7663233",
   "metadata": {},
   "source": [
    "```map``` takes a function and iterators as arguments for that function."
   ]
  },
  {
   "cell_type": "markdown",
   "id": "4af6cf1c-1371-40d1-bee9-dbcd68bd2c96",
   "metadata": {},
   "source": [
    "## Star Map\n",
    "Similar to map, but it takes arguments as a list of tuples instead."
   ]
  },
  {
   "cell_type": "code",
   "execution_count": 23,
   "id": "1b6ee531-3010-436b-8284-cbfc39675a89",
   "metadata": {},
   "outputs": [
    {
     "name": "stdout",
     "output_type": "stream",
     "text": [
      "[0, 1, 4]\n"
     ]
    }
   ],
   "source": [
    "squares = itertools.starmap(pow, [(0, 2), (1, 2), (2, 2)])\n",
    "print(list(squares))"
   ]
  },
  {
   "cell_type": "markdown",
   "id": "4fbc4e1d-e166-4c64-8efc-86958cf7536c",
   "metadata": {},
   "source": [
    "## Combinations and Permutations\n",
    "Ways to group items.\n",
    "* Combinations: Order does NOT matter.\n",
    "* Permutations: Order DOES matter."
   ]
  },
  {
   "cell_type": "code",
   "execution_count": 24,
   "id": "3f1a4044-8fb5-48e2-8e74-677b6b326460",
   "metadata": {},
   "outputs": [],
   "source": [
    "letters = ['a', 'b', 'c', 'd']\n",
    "numbers = [0, 1, 2, 3]\n",
    "names = ['Corey', 'Nicole']"
   ]
  },
  {
   "cell_type": "code",
   "execution_count": 25,
   "id": "a5dfcfaa-df6e-4ef9-859f-44c328ddf326",
   "metadata": {},
   "outputs": [
    {
     "name": "stdout",
     "output_type": "stream",
     "text": [
      "('a', 'b')\n",
      "('a', 'c')\n",
      "('a', 'd')\n",
      "('b', 'c')\n",
      "('b', 'd')\n",
      "('c', 'd')\n"
     ]
    }
   ],
   "source": [
    "result = itertools.combinations(letters, 2)\n",
    "\n",
    "for item in result:\n",
    "    print(item)"
   ]
  },
  {
   "cell_type": "code",
   "execution_count": 26,
   "id": "95b0065f-29ee-476f-9fe2-c7555c25b6cd",
   "metadata": {},
   "outputs": [
    {
     "name": "stdout",
     "output_type": "stream",
     "text": [
      "('a', 'b')\n",
      "('a', 'c')\n",
      "('a', 'd')\n",
      "('b', 'a')\n",
      "('b', 'c')\n",
      "('b', 'd')\n",
      "('c', 'a')\n",
      "('c', 'b')\n",
      "('c', 'd')\n",
      "('d', 'a')\n",
      "('d', 'b')\n",
      "('d', 'c')\n"
     ]
    }
   ],
   "source": [
    "result = itertools.permutations(letters, 2)\n",
    "\n",
    "for item in result:\n",
    "    print(item)"
   ]
  },
  {
   "cell_type": "markdown",
   "id": "71f1846e-bec2-460e-9518-9f4dfb9cb9b2",
   "metadata": {},
   "source": [
    "In combinations or permutations, items are NOT repeated."
   ]
  },
  {
   "cell_type": "markdown",
   "id": "26e63cb7-b3b3-44a8-9ce2-2d41f292ced6",
   "metadata": {},
   "source": [
    "## Product"
   ]
  },
  {
   "cell_type": "code",
   "execution_count": 27,
   "id": "6935f058-13ba-4cdb-be1d-561d4bbbeadd",
   "metadata": {
    "collapsed": true,
    "jupyter": {
     "outputs_hidden": true
    },
    "tags": []
   },
   "outputs": [
    {
     "name": "stdout",
     "output_type": "stream",
     "text": [
      "(0, 0, 0, 0)\n",
      "(0, 0, 0, 1)\n",
      "(0, 0, 0, 2)\n",
      "(0, 0, 0, 3)\n",
      "(0, 0, 1, 0)\n",
      "(0, 0, 1, 1)\n",
      "(0, 0, 1, 2)\n",
      "(0, 0, 1, 3)\n",
      "(0, 0, 2, 0)\n",
      "(0, 0, 2, 1)\n",
      "(0, 0, 2, 2)\n",
      "(0, 0, 2, 3)\n",
      "(0, 0, 3, 0)\n",
      "(0, 0, 3, 1)\n",
      "(0, 0, 3, 2)\n",
      "(0, 0, 3, 3)\n",
      "(0, 1, 0, 0)\n",
      "(0, 1, 0, 1)\n",
      "(0, 1, 0, 2)\n",
      "(0, 1, 0, 3)\n",
      "(0, 1, 1, 0)\n",
      "(0, 1, 1, 1)\n",
      "(0, 1, 1, 2)\n",
      "(0, 1, 1, 3)\n",
      "(0, 1, 2, 0)\n",
      "(0, 1, 2, 1)\n",
      "(0, 1, 2, 2)\n",
      "(0, 1, 2, 3)\n",
      "(0, 1, 3, 0)\n",
      "(0, 1, 3, 1)\n",
      "(0, 1, 3, 2)\n",
      "(0, 1, 3, 3)\n",
      "(0, 2, 0, 0)\n",
      "(0, 2, 0, 1)\n",
      "(0, 2, 0, 2)\n",
      "(0, 2, 0, 3)\n",
      "(0, 2, 1, 0)\n",
      "(0, 2, 1, 1)\n",
      "(0, 2, 1, 2)\n",
      "(0, 2, 1, 3)\n",
      "(0, 2, 2, 0)\n",
      "(0, 2, 2, 1)\n",
      "(0, 2, 2, 2)\n",
      "(0, 2, 2, 3)\n",
      "(0, 2, 3, 0)\n",
      "(0, 2, 3, 1)\n",
      "(0, 2, 3, 2)\n",
      "(0, 2, 3, 3)\n",
      "(0, 3, 0, 0)\n",
      "(0, 3, 0, 1)\n",
      "(0, 3, 0, 2)\n",
      "(0, 3, 0, 3)\n",
      "(0, 3, 1, 0)\n",
      "(0, 3, 1, 1)\n",
      "(0, 3, 1, 2)\n",
      "(0, 3, 1, 3)\n",
      "(0, 3, 2, 0)\n",
      "(0, 3, 2, 1)\n",
      "(0, 3, 2, 2)\n",
      "(0, 3, 2, 3)\n",
      "(0, 3, 3, 0)\n",
      "(0, 3, 3, 1)\n",
      "(0, 3, 3, 2)\n",
      "(0, 3, 3, 3)\n",
      "(1, 0, 0, 0)\n",
      "(1, 0, 0, 1)\n",
      "(1, 0, 0, 2)\n",
      "(1, 0, 0, 3)\n",
      "(1, 0, 1, 0)\n",
      "(1, 0, 1, 1)\n",
      "(1, 0, 1, 2)\n",
      "(1, 0, 1, 3)\n",
      "(1, 0, 2, 0)\n",
      "(1, 0, 2, 1)\n",
      "(1, 0, 2, 2)\n",
      "(1, 0, 2, 3)\n",
      "(1, 0, 3, 0)\n",
      "(1, 0, 3, 1)\n",
      "(1, 0, 3, 2)\n",
      "(1, 0, 3, 3)\n",
      "(1, 1, 0, 0)\n",
      "(1, 1, 0, 1)\n",
      "(1, 1, 0, 2)\n",
      "(1, 1, 0, 3)\n",
      "(1, 1, 1, 0)\n",
      "(1, 1, 1, 1)\n",
      "(1, 1, 1, 2)\n",
      "(1, 1, 1, 3)\n",
      "(1, 1, 2, 0)\n",
      "(1, 1, 2, 1)\n",
      "(1, 1, 2, 2)\n",
      "(1, 1, 2, 3)\n",
      "(1, 1, 3, 0)\n",
      "(1, 1, 3, 1)\n",
      "(1, 1, 3, 2)\n",
      "(1, 1, 3, 3)\n",
      "(1, 2, 0, 0)\n",
      "(1, 2, 0, 1)\n",
      "(1, 2, 0, 2)\n",
      "(1, 2, 0, 3)\n",
      "(1, 2, 1, 0)\n",
      "(1, 2, 1, 1)\n",
      "(1, 2, 1, 2)\n",
      "(1, 2, 1, 3)\n",
      "(1, 2, 2, 0)\n",
      "(1, 2, 2, 1)\n",
      "(1, 2, 2, 2)\n",
      "(1, 2, 2, 3)\n",
      "(1, 2, 3, 0)\n",
      "(1, 2, 3, 1)\n",
      "(1, 2, 3, 2)\n",
      "(1, 2, 3, 3)\n",
      "(1, 3, 0, 0)\n",
      "(1, 3, 0, 1)\n",
      "(1, 3, 0, 2)\n",
      "(1, 3, 0, 3)\n",
      "(1, 3, 1, 0)\n",
      "(1, 3, 1, 1)\n",
      "(1, 3, 1, 2)\n",
      "(1, 3, 1, 3)\n",
      "(1, 3, 2, 0)\n",
      "(1, 3, 2, 1)\n",
      "(1, 3, 2, 2)\n",
      "(1, 3, 2, 3)\n",
      "(1, 3, 3, 0)\n",
      "(1, 3, 3, 1)\n",
      "(1, 3, 3, 2)\n",
      "(1, 3, 3, 3)\n",
      "(2, 0, 0, 0)\n",
      "(2, 0, 0, 1)\n",
      "(2, 0, 0, 2)\n",
      "(2, 0, 0, 3)\n",
      "(2, 0, 1, 0)\n",
      "(2, 0, 1, 1)\n",
      "(2, 0, 1, 2)\n",
      "(2, 0, 1, 3)\n",
      "(2, 0, 2, 0)\n",
      "(2, 0, 2, 1)\n",
      "(2, 0, 2, 2)\n",
      "(2, 0, 2, 3)\n",
      "(2, 0, 3, 0)\n",
      "(2, 0, 3, 1)\n",
      "(2, 0, 3, 2)\n",
      "(2, 0, 3, 3)\n",
      "(2, 1, 0, 0)\n",
      "(2, 1, 0, 1)\n",
      "(2, 1, 0, 2)\n",
      "(2, 1, 0, 3)\n",
      "(2, 1, 1, 0)\n",
      "(2, 1, 1, 1)\n",
      "(2, 1, 1, 2)\n",
      "(2, 1, 1, 3)\n",
      "(2, 1, 2, 0)\n",
      "(2, 1, 2, 1)\n",
      "(2, 1, 2, 2)\n",
      "(2, 1, 2, 3)\n",
      "(2, 1, 3, 0)\n",
      "(2, 1, 3, 1)\n",
      "(2, 1, 3, 2)\n",
      "(2, 1, 3, 3)\n",
      "(2, 2, 0, 0)\n",
      "(2, 2, 0, 1)\n",
      "(2, 2, 0, 2)\n",
      "(2, 2, 0, 3)\n",
      "(2, 2, 1, 0)\n",
      "(2, 2, 1, 1)\n",
      "(2, 2, 1, 2)\n",
      "(2, 2, 1, 3)\n",
      "(2, 2, 2, 0)\n",
      "(2, 2, 2, 1)\n",
      "(2, 2, 2, 2)\n",
      "(2, 2, 2, 3)\n",
      "(2, 2, 3, 0)\n",
      "(2, 2, 3, 1)\n",
      "(2, 2, 3, 2)\n",
      "(2, 2, 3, 3)\n",
      "(2, 3, 0, 0)\n",
      "(2, 3, 0, 1)\n",
      "(2, 3, 0, 2)\n",
      "(2, 3, 0, 3)\n",
      "(2, 3, 1, 0)\n",
      "(2, 3, 1, 1)\n",
      "(2, 3, 1, 2)\n",
      "(2, 3, 1, 3)\n",
      "(2, 3, 2, 0)\n",
      "(2, 3, 2, 1)\n",
      "(2, 3, 2, 2)\n",
      "(2, 3, 2, 3)\n",
      "(2, 3, 3, 0)\n",
      "(2, 3, 3, 1)\n",
      "(2, 3, 3, 2)\n",
      "(2, 3, 3, 3)\n",
      "(3, 0, 0, 0)\n",
      "(3, 0, 0, 1)\n",
      "(3, 0, 0, 2)\n",
      "(3, 0, 0, 3)\n",
      "(3, 0, 1, 0)\n",
      "(3, 0, 1, 1)\n",
      "(3, 0, 1, 2)\n",
      "(3, 0, 1, 3)\n",
      "(3, 0, 2, 0)\n",
      "(3, 0, 2, 1)\n",
      "(3, 0, 2, 2)\n",
      "(3, 0, 2, 3)\n",
      "(3, 0, 3, 0)\n",
      "(3, 0, 3, 1)\n",
      "(3, 0, 3, 2)\n",
      "(3, 0, 3, 3)\n",
      "(3, 1, 0, 0)\n",
      "(3, 1, 0, 1)\n",
      "(3, 1, 0, 2)\n",
      "(3, 1, 0, 3)\n",
      "(3, 1, 1, 0)\n",
      "(3, 1, 1, 1)\n",
      "(3, 1, 1, 2)\n",
      "(3, 1, 1, 3)\n",
      "(3, 1, 2, 0)\n",
      "(3, 1, 2, 1)\n",
      "(3, 1, 2, 2)\n",
      "(3, 1, 2, 3)\n",
      "(3, 1, 3, 0)\n",
      "(3, 1, 3, 1)\n",
      "(3, 1, 3, 2)\n",
      "(3, 1, 3, 3)\n",
      "(3, 2, 0, 0)\n",
      "(3, 2, 0, 1)\n",
      "(3, 2, 0, 2)\n",
      "(3, 2, 0, 3)\n",
      "(3, 2, 1, 0)\n",
      "(3, 2, 1, 1)\n",
      "(3, 2, 1, 2)\n",
      "(3, 2, 1, 3)\n",
      "(3, 2, 2, 0)\n",
      "(3, 2, 2, 1)\n",
      "(3, 2, 2, 2)\n",
      "(3, 2, 2, 3)\n",
      "(3, 2, 3, 0)\n",
      "(3, 2, 3, 1)\n",
      "(3, 2, 3, 2)\n",
      "(3, 2, 3, 3)\n",
      "(3, 3, 0, 0)\n",
      "(3, 3, 0, 1)\n",
      "(3, 3, 0, 2)\n",
      "(3, 3, 0, 3)\n",
      "(3, 3, 1, 0)\n",
      "(3, 3, 1, 1)\n",
      "(3, 3, 1, 2)\n",
      "(3, 3, 1, 3)\n",
      "(3, 3, 2, 0)\n",
      "(3, 3, 2, 1)\n",
      "(3, 3, 2, 2)\n",
      "(3, 3, 2, 3)\n",
      "(3, 3, 3, 0)\n",
      "(3, 3, 3, 1)\n",
      "(3, 3, 3, 2)\n",
      "(3, 3, 3, 3)\n"
     ]
    }
   ],
   "source": [
    "# Repeats are allowed\n",
    "result = itertools.product(numbers, repeat=4)\n",
    "\n",
    "for item in result:\n",
    "    print(item)"
   ]
  },
  {
   "cell_type": "markdown",
   "id": "e58bcea7-9cc1-46b4-ac30-5d2675e3ff18",
   "metadata": {},
   "source": [
    "## Combinations with replacement"
   ]
  },
  {
   "cell_type": "code",
   "execution_count": 28,
   "id": "dae727d8-dcd1-4cfa-a90c-9d368c1a10da",
   "metadata": {
    "collapsed": true,
    "jupyter": {
     "outputs_hidden": true
    },
    "tags": []
   },
   "outputs": [
    {
     "name": "stdout",
     "output_type": "stream",
     "text": [
      "(0, 0, 0, 0)\n",
      "(0, 0, 0, 1)\n",
      "(0, 0, 0, 2)\n",
      "(0, 0, 0, 3)\n",
      "(0, 0, 1, 1)\n",
      "(0, 0, 1, 2)\n",
      "(0, 0, 1, 3)\n",
      "(0, 0, 2, 2)\n",
      "(0, 0, 2, 3)\n",
      "(0, 0, 3, 3)\n",
      "(0, 1, 1, 1)\n",
      "(0, 1, 1, 2)\n",
      "(0, 1, 1, 3)\n",
      "(0, 1, 2, 2)\n",
      "(0, 1, 2, 3)\n",
      "(0, 1, 3, 3)\n",
      "(0, 2, 2, 2)\n",
      "(0, 2, 2, 3)\n",
      "(0, 2, 3, 3)\n",
      "(0, 3, 3, 3)\n",
      "(1, 1, 1, 1)\n",
      "(1, 1, 1, 2)\n",
      "(1, 1, 1, 3)\n",
      "(1, 1, 2, 2)\n",
      "(1, 1, 2, 3)\n",
      "(1, 1, 3, 3)\n",
      "(1, 2, 2, 2)\n",
      "(1, 2, 2, 3)\n",
      "(1, 2, 3, 3)\n",
      "(1, 3, 3, 3)\n",
      "(2, 2, 2, 2)\n",
      "(2, 2, 2, 3)\n",
      "(2, 2, 3, 3)\n",
      "(2, 3, 3, 3)\n",
      "(3, 3, 3, 3)\n"
     ]
    }
   ],
   "source": [
    "result = itertools.combinations_with_replacement(numbers, 4)\n",
    "\n",
    "for item in result:\n",
    "    print(item)"
   ]
  },
  {
   "cell_type": "markdown",
   "id": "251278a1-2886-48de-b38f-d7c3b1b31e04",
   "metadata": {},
   "source": [
    "## Chain"
   ]
  },
  {
   "cell_type": "code",
   "execution_count": 2,
   "id": "0e17e55d-baaa-46a9-a10f-2133e99cb86a",
   "metadata": {},
   "outputs": [],
   "source": [
    "letters = ['a', 'b', 'c', 'd']\n",
    "numbers = [0, 1, 2, 3]\n",
    "names = ['Corey', 'Nicole']"
   ]
  },
  {
   "cell_type": "code",
   "execution_count": 30,
   "id": "26a1d227-6328-44ae-be61-c84624f35980",
   "metadata": {},
   "outputs": [],
   "source": [
    "# Usual way: Inefficient\n",
    "combined_list = letters + numbers + names"
   ]
  },
  {
   "cell_type": "code",
   "execution_count": 31,
   "id": "4ed3cb0b-7910-4b55-9bf3-7b4f204c13e7",
   "metadata": {},
   "outputs": [
    {
     "name": "stdout",
     "output_type": "stream",
     "text": [
      "a\n",
      "b\n",
      "c\n",
      "d\n",
      "0\n",
      "1\n",
      "2\n",
      "3\n",
      "Corey\n",
      "Nicole\n"
     ]
    }
   ],
   "source": [
    "# Better way: Use chain\n",
    "combined = itertools.chain(letters, numbers, names)\n",
    "\n",
    "for item in combined:\n",
    "    print(item)"
   ]
  },
  {
   "cell_type": "markdown",
   "id": "983cbd76-13c2-423a-a91f-917ce297f8f3",
   "metadata": {},
   "source": [
    "## islice"
   ]
  },
  {
   "cell_type": "code",
   "execution_count": 3,
   "id": "822533d8-5430-4d64-ab4f-2d63ccbf99c7",
   "metadata": {},
   "outputs": [],
   "source": [
    "result = itertools.islice(range(10), 5)"
   ]
  },
  {
   "cell_type": "code",
   "execution_count": 4,
   "id": "3dd76fb3-32dc-4329-975a-3c4e79d8e3cd",
   "metadata": {},
   "outputs": [
    {
     "name": "stdout",
     "output_type": "stream",
     "text": [
      "0\n",
      "1\n",
      "2\n",
      "3\n",
      "4\n"
     ]
    }
   ],
   "source": [
    "for item in result:\n",
    "    print(item)"
   ]
  },
  {
   "cell_type": "code",
   "execution_count": 5,
   "id": "5eaaa97a-a01c-4e67-8692-c91163a785c3",
   "metadata": {},
   "outputs": [
    {
     "name": "stdout",
     "output_type": "stream",
     "text": [
      "1\n",
      "2\n",
      "3\n",
      "4\n"
     ]
    }
   ],
   "source": [
    "# With a starting argument\n",
    "result = itertools.islice(range(10), 1, 5)\n",
    "for item in result:\n",
    "    print(item)"
   ]
  },
  {
   "cell_type": "code",
   "execution_count": 6,
   "id": "bb77f013-6370-4dad-9f06-8c58af65d7b7",
   "metadata": {},
   "outputs": [
    {
     "name": "stdout",
     "output_type": "stream",
     "text": [
      "1\n",
      "3\n"
     ]
    }
   ],
   "source": [
    "# With steps\n",
    "result = itertools.islice(range(10), 1, 5, 2)\n",
    "for item in result:\n",
    "    print(item)"
   ]
  },
  {
   "cell_type": "code",
   "execution_count": 9,
   "id": "1c48f353-9602-4b4d-a6ea-30f0007b1829",
   "metadata": {},
   "outputs": [
    {
     "name": "stdout",
     "output_type": "stream",
     "text": [
      "Date: 2018-11-08\n",
      "Author: Corey\n",
      "Description: This is a sample log file\n"
     ]
    }
   ],
   "source": [
    "with open('test.log', 'r') as f:\n",
    "    header = itertools.islice(f, 3)\n",
    "    \n",
    "    for line in header:\n",
    "        print(line, end='')"
   ]
  },
  {
   "cell_type": "markdown",
   "id": "7305e48f-dce7-4aaa-ad1b-317ef7924f19",
   "metadata": {},
   "source": [
    "## Compress"
   ]
  },
  {
   "cell_type": "code",
   "execution_count": 10,
   "id": "fdd5f0fd-0da2-4924-9b23-4c9cbec74507",
   "metadata": {},
   "outputs": [],
   "source": [
    "selectors = [True, True, False, True]"
   ]
  },
  {
   "cell_type": "code",
   "execution_count": 11,
   "id": "8a2cdb10-ed2a-4e53-af6e-77d6a0b87769",
   "metadata": {},
   "outputs": [
    {
     "name": "stdout",
     "output_type": "stream",
     "text": [
      "a\n",
      "b\n",
      "d\n"
     ]
    }
   ],
   "source": [
    "result = itertools.compress(letters, selectors)\n",
    "\n",
    "for item in result:\n",
    "    print(item)"
   ]
  },
  {
   "cell_type": "markdown",
   "id": "bc3c5c7f-0584-416a-beaa-21872215d18e",
   "metadata": {},
   "source": [
    "Filter uses a function to determine whether something is true or not.\n",
    "In compress, those values are passed in as an iterable."
   ]
  },
  {
   "cell_type": "code",
   "execution_count": 12,
   "id": "d4652fff-57c2-4552-9e95-2e4c3dce1d9e",
   "metadata": {},
   "outputs": [],
   "source": [
    "def lt_2(n):\n",
    "    if n < 2:\n",
    "        return True\n",
    "    return False"
   ]
  },
  {
   "cell_type": "code",
   "execution_count": 13,
   "id": "b88a52aa-7549-40ed-8abb-ff3992a7dee3",
   "metadata": {},
   "outputs": [
    {
     "name": "stdout",
     "output_type": "stream",
     "text": [
      "0\n",
      "1\n"
     ]
    }
   ],
   "source": [
    "result = filter(lt_2, numbers)\n",
    "\n",
    "for item in result:\n",
    "    print(item)"
   ]
  },
  {
   "cell_type": "markdown",
   "id": "df552fce-7fa6-49de-848b-e9b7e074062a",
   "metadata": {},
   "source": [
    "## FilterFalse\n",
    "Similar to filter function, but it gives you the values that return False instead of True."
   ]
  },
  {
   "cell_type": "code",
   "execution_count": 14,
   "id": "4a71333f-e652-4065-a395-6843e7c18500",
   "metadata": {},
   "outputs": [
    {
     "name": "stdout",
     "output_type": "stream",
     "text": [
      "2\n",
      "3\n"
     ]
    }
   ],
   "source": [
    "result = itertools.filterfalse(lt_2, numbers)\n",
    "\n",
    "for item in result:\n",
    "    print(item)"
   ]
  },
  {
   "cell_type": "markdown",
   "id": "16482daa-e77f-4dd7-969e-6472546d1475",
   "metadata": {},
   "source": [
    "## DropWhile\n",
    "Drop values from an iterable until one of the values returns True."
   ]
  },
  {
   "cell_type": "code",
   "execution_count": 15,
   "id": "9c08cc8e-ae59-4b22-9978-b6163e11dcf8",
   "metadata": {},
   "outputs": [],
   "source": [
    "numbers = [0, 1, 2, 3, 2, 1, 0]"
   ]
  },
  {
   "cell_type": "code",
   "execution_count": 16,
   "id": "03456590-6aaf-47d5-93cb-17d1ddb2b007",
   "metadata": {},
   "outputs": [
    {
     "name": "stdout",
     "output_type": "stream",
     "text": [
      "2\n",
      "3\n",
      "2\n",
      "1\n",
      "0\n"
     ]
    }
   ],
   "source": [
    "result = itertools.dropwhile(lt_2, numbers)\n",
    "\n",
    "for item in result:\n",
    "    print(item)"
   ]
  },
  {
   "cell_type": "markdown",
   "id": "7314b7f4-d229-4bd9-a0da-62c52b4d501a",
   "metadata": {},
   "source": [
    "It stopped applying the value once the condition became true."
   ]
  },
  {
   "cell_type": "markdown",
   "id": "b57c2b0a-c6ba-453a-9806-ec9031d82860",
   "metadata": {},
   "source": [
    "## TakeWhile\n",
    "Will return the values which return true until it hits False."
   ]
  },
  {
   "cell_type": "code",
   "execution_count": 17,
   "id": "d9c9c1a4-95f2-4852-b2af-c8f58ed23739",
   "metadata": {},
   "outputs": [
    {
     "name": "stdout",
     "output_type": "stream",
     "text": [
      "0\n",
      "1\n"
     ]
    }
   ],
   "source": [
    "result = itertools.takewhile(lt_2, numbers)\n",
    "\n",
    "for item in result:\n",
    "    print(item)"
   ]
  },
  {
   "cell_type": "markdown",
   "id": "74cf4b0d-d9f9-4781-ad7d-ae925b19b462",
   "metadata": {},
   "source": [
    "## Accumulate\n",
    "Takes an iterable and returns accumulated sums of the values that it sees. Uses addition by default, but you can use other functions as well."
   ]
  },
  {
   "cell_type": "code",
   "execution_count": 18,
   "id": "25c89d70-902c-4152-b070-e87e11b20780",
   "metadata": {},
   "outputs": [
    {
     "name": "stdout",
     "output_type": "stream",
     "text": [
      "0\n",
      "1\n",
      "3\n",
      "6\n",
      "8\n",
      "9\n",
      "9\n"
     ]
    }
   ],
   "source": [
    "result = itertools.accumulate(numbers)\n",
    "\n",
    "for item in result:\n",
    "    print(item)"
   ]
  },
  {
   "cell_type": "code",
   "execution_count": 20,
   "id": "e969f904-06d3-4674-8642-87a11b9d925e",
   "metadata": {},
   "outputs": [
    {
     "name": "stdout",
     "output_type": "stream",
     "text": [
      "1\n",
      "2\n",
      "6\n",
      "12\n",
      "12\n",
      "0\n"
     ]
    }
   ],
   "source": [
    "# Multiply instead\n",
    "import operator\n",
    "numbers = [1, 2, 3, 2, 1, 0]\n",
    "result = itertools.accumulate(numbers, operator.mul)\n",
    "\n",
    "for item in result:\n",
    "    print(item)"
   ]
  },
  {
   "cell_type": "markdown",
   "id": "277b8224-cbeb-4737-a957-c10111b6b243",
   "metadata": {},
   "source": [
    "## GroupBy"
   ]
  },
  {
   "cell_type": "code",
   "execution_count": 21,
   "id": "bcd7eac9-c17a-4491-bf39-8cf4358b7908",
   "metadata": {
    "jupyter": {
     "source_hidden": true
    },
    "tags": []
   },
   "outputs": [],
   "source": [
    "people = [\n",
    "    {\n",
    "        'name': 'John Doe',\n",
    "        'city': 'Gotham',\n",
    "        'state': 'NY'\n",
    "    },\n",
    "    {\n",
    "        'name': 'Jane Doe',\n",
    "        'city': 'Kings Landing',\n",
    "        'state': 'NY'\n",
    "    },\n",
    "    {\n",
    "        'name': 'Corey Schafer',\n",
    "        'city': 'Boulder',\n",
    "        'state': 'CO'\n",
    "    },\n",
    "    {\n",
    "        'name': 'Al Einstein',\n",
    "        'city': 'Denver',\n",
    "        'state': 'CO'\n",
    "    },\n",
    "    {\n",
    "        'name': 'John Henry',\n",
    "        'city': 'Hinton',\n",
    "        'state': 'WV'\n",
    "    },\n",
    "    {\n",
    "        'name': 'Randy Moss',\n",
    "        'city': 'Rand',\n",
    "        'state': 'WV'\n",
    "    },\n",
    "    {\n",
    "        'name': 'Nicole K',\n",
    "        'city': 'Asheville',\n",
    "        'state': 'NC'\n",
    "    },\n",
    "    {\n",
    "        'name': 'Jim Doe',\n",
    "        'city': 'Charlotte',\n",
    "        'state': 'NC'\n",
    "    },\n",
    "    {\n",
    "        'name': 'Jane Taylor',\n",
    "        'city': 'Faketown',\n",
    "        'state': 'NC'\n",
    "    }\n",
    "]"
   ]
  },
  {
   "cell_type": "code",
   "execution_count": 22,
   "id": "1cb48331-6663-4bfe-8f0f-6857f2eeb9ed",
   "metadata": {},
   "outputs": [],
   "source": [
    "def get_state(person):\n",
    "    return person['state']"
   ]
  },
  {
   "cell_type": "code",
   "execution_count": 26,
   "id": "44ced47c-e281-4c62-b9ba-a84260d2ddb1",
   "metadata": {},
   "outputs": [
    {
     "name": "stdout",
     "output_type": "stream",
     "text": [
      "NY 2\n",
      "CO 2\n",
      "WV 2\n",
      "NC 3\n"
     ]
    }
   ],
   "source": [
    "person_group = itertools.groupby(people, get_state)\n",
    "\n",
    "for key, group in person_group:\n",
    "    print(key, len(list(group)))\n",
    "    # for person in group:\n",
    "    #     print(person)\n",
    "    # print()"
   ]
  },
  {
   "cell_type": "markdown",
   "id": "6f07dbf4-9c7b-4633-8c07-df6a3170f1e6",
   "metadata": {},
   "source": [
    "For groupby to work properly, the initial values need to be sorted."
   ]
  },
  {
   "cell_type": "markdown",
   "id": "4146526a-9168-421b-865f-6a26b0fa079a",
   "metadata": {},
   "source": [
    "## Tee\n",
    "Replicating iterators"
   ]
  },
  {
   "cell_type": "code",
   "execution_count": 27,
   "id": "86249415-1dc1-4aee-abea-0228037ba2ec",
   "metadata": {},
   "outputs": [],
   "source": [
    "person_group = itertools.groupby(people, get_state)\n",
    "\n",
    "copy1, copy2 = itertools.tee(person_group)"
   ]
  }
 ],
 "metadata": {
  "kernelspec": {
   "display_name": "Python 3 (ipykernel)",
   "language": "python",
   "name": "python3"
  },
  "language_info": {
   "codemirror_mode": {
    "name": "ipython",
    "version": 3
   },
   "file_extension": ".py",
   "mimetype": "text/x-python",
   "name": "python",
   "nbconvert_exporter": "python",
   "pygments_lexer": "ipython3",
   "version": "3.7.12"
  }
 },
 "nbformat": 4,
 "nbformat_minor": 5
}
