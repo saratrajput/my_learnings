{
 "cells": [
  {
   "cell_type": "markdown",
   "id": "c71355da-f066-435f-8f21-fc65f65fa1e7",
   "metadata": {},
   "source": [
    "# Functions"
   ]
  },
  {
   "cell_type": "markdown",
   "id": "65bad603-a221-400a-9e61-375fcf9e6ccb",
   "metadata": {},
   "source": [
    "## Writing Functions That Accept Any Number of Arguments"
   ]
  },
  {
   "cell_type": "markdown",
   "id": "6886b7f6-564a-4337-a6d3-5c9e820e632c",
   "metadata": {},
   "source": [
    "### Problem: You want to write a function that accepts any number of input arguments."
   ]
  },
  {
   "cell_type": "markdown",
   "id": "29c03ce8-7a23-42ac-924b-c41530f591c0",
   "metadata": {},
   "source": [
    "#### Positional arguments"
   ]
  },
  {
   "cell_type": "code",
   "execution_count": 1,
   "id": "091e01a9-8702-40fc-8222-004fbcac38bc",
   "metadata": {},
   "outputs": [],
   "source": [
    "# Use a * argument.\n",
    "def avg(first, *rest):\n",
    "    return (first + sum(rest)) / (1 + len(rest))"
   ]
  },
  {
   "cell_type": "code",
   "execution_count": 2,
   "id": "5e6e8287-a7f7-4d23-a3a1-42136a6bf825",
   "metadata": {},
   "outputs": [
    {
     "data": {
      "text/plain": [
       "1.5"
      ]
     },
     "execution_count": 2,
     "metadata": {},
     "output_type": "execute_result"
    }
   ],
   "source": [
    "avg(1, 2)"
   ]
  },
  {
   "cell_type": "code",
   "execution_count": 3,
   "id": "14c04f80-dfa1-4eb0-a89b-0ae723c4c89a",
   "metadata": {},
   "outputs": [
    {
     "data": {
      "text/plain": [
       "2.5"
      ]
     },
     "execution_count": 3,
     "metadata": {},
     "output_type": "execute_result"
    }
   ],
   "source": [
    "avg(1, 2, 3, 4)"
   ]
  },
  {
   "cell_type": "markdown",
   "id": "bf7dfe33-7c50-4281-9188-0bdfced53869",
   "metadata": {},
   "source": [
    "#### Keyword arguments"
   ]
  },
  {
   "cell_type": "code",
   "execution_count": 4,
   "id": "d6f3f7ca-8fd7-48ca-aa52-d291117e1b08",
   "metadata": {},
   "outputs": [],
   "source": [
    "# Use an argument that starts with **.\n",
    "import html\n",
    "\n",
    "def make_element(name, value, **attrs):\n",
    "    keyvals = [' %s = \"%s\" ' % item for item in attrs.items()]\n",
    "    attr_str = ''.join(keyvals)\n",
    "    element = '<{name}{attrs}>{value}</{name}>'.format(\n",
    "                    name=name,\n",
    "                    attrs=attr_str,\n",
    "                    value=html.escape(value))\n",
    "    return element"
   ]
  },
  {
   "cell_type": "code",
   "execution_count": 5,
   "id": "607706af-36ee-473f-9c25-76e0b288fb8a",
   "metadata": {},
   "outputs": [
    {
     "data": {
      "text/plain": [
       "'<item size = \"large\"  quantity = \"6\" >Albatross</item>'"
      ]
     },
     "execution_count": 5,
     "metadata": {},
     "output_type": "execute_result"
    }
   ],
   "source": [
    "# Creates '<item size=\"large\" quantity=\"6\">Albatross</item>'\n",
    "make_element('item', 'Albatross', size='large', quantity=6)"
   ]
  },
  {
   "cell_type": "code",
   "execution_count": 6,
   "id": "50cda547-ce99-41a9-ab25-1513f88c10ff",
   "metadata": {},
   "outputs": [
    {
     "data": {
      "text/plain": [
       "'<p>&lt;spam&gt;</p>'"
      ]
     },
     "execution_count": 6,
     "metadata": {},
     "output_type": "execute_result"
    }
   ],
   "source": [
    "# Creates '<p>&lt;spam&gt;</p>'\n",
    "make_element('p', '<spam>')"
   ]
  },
  {
   "cell_type": "markdown",
   "id": "ea35ab2f-294b-44e1-b737-6f26c2bffed2",
   "metadata": {},
   "source": [
    "#### Both positional and keyword-only arguments"
   ]
  },
  {
   "cell_type": "code",
   "execution_count": 7,
   "id": "31d35e30-5953-4d0f-b5d7-526ba5fdba5d",
   "metadata": {},
   "outputs": [],
   "source": [
    "def anyargs(*args, **kwargs):\n",
    "    print(args)  # A tuple.\n",
    "    print(kwargs)  # A dict."
   ]
  },
  {
   "cell_type": "code",
   "execution_count": 11,
   "id": "6dafe335-7a4b-4c92-bd95-1fbc1c31084e",
   "metadata": {},
   "outputs": [
    {
     "name": "stdout",
     "output_type": "stream",
     "text": [
      "('abc',)\n",
      "{'my_int': 3, 'my_color': 'blue'}\n"
     ]
    }
   ],
   "source": [
    "anyargs(\"abc\", my_int=3, my_color=\"blue\")"
   ]
  },
  {
   "cell_type": "markdown",
   "id": "f955a2ec-8267-447f-b5a9-0703a1bc0d11",
   "metadata": {},
   "source": [
    "Arguments can still appear after a * argument."
   ]
  },
  {
   "cell_type": "code",
   "execution_count": 12,
   "id": "8b33a7a6-eb29-4e23-b7d0-28ac8b120495",
   "metadata": {},
   "outputs": [],
   "source": [
    "def a(x, *args, y):\n",
    "    pass"
   ]
  },
  {
   "cell_type": "markdown",
   "id": "9234bd67-a6fb-484b-8ac2-002167308c72",
   "metadata": {},
   "source": [
    "Keyword argument (**) can only appear as the last argument."
   ]
  },
  {
   "cell_type": "code",
   "execution_count": 13,
   "id": "1ef07390-e1f3-4784-a708-9d521fc05e22",
   "metadata": {},
   "outputs": [],
   "source": [
    "def b(x, *args, y, **kwargs):\n",
    "    pass"
   ]
  },
  {
   "cell_type": "markdown",
   "id": "602c52c4-715a-4d05-be6f-7f5ce5309329",
   "metadata": {},
   "source": [
    "## Writing Functions That Only Accept Keyword Arguments "
   ]
  },
  {
   "cell_type": "markdown",
   "id": "86316bb4-7898-4ff7-891e-acfffa595ffa",
   "metadata": {},
   "source": [
    "### Problem: You want a function to only accept certain arguments by keyword."
   ]
  },
  {
   "cell_type": "markdown",
   "id": "b8770cfd-7fd3-454d-8a30-bbebd6bdb667",
   "metadata": {},
   "source": [
    "Place the keyword arguments after a * argument, or a single unnamed *."
   ]
  },
  {
   "cell_type": "code",
   "execution_count": 14,
   "id": "d58328c6-7848-4baf-bfae-14bc4edf0823",
   "metadata": {},
   "outputs": [],
   "source": [
    "def recv(maxsize, *, block):\n",
    "    'Receives a message'\n",
    "    pass"
   ]
  },
  {
   "cell_type": "code",
   "execution_count": 17,
   "id": "e31509c5-259e-411d-9df6-c206b3063b57",
   "metadata": {},
   "outputs": [
    {
     "ename": "TypeError",
     "evalue": "recv() takes 1 positional argument but 2 were given",
     "output_type": "error",
     "traceback": [
      "\u001b[0;31m---------------------------------------------------------------------------\u001b[0m",
      "\u001b[0;31mTypeError\u001b[0m                                 Traceback (most recent call last)",
      "Input \u001b[0;32mIn [17]\u001b[0m, in \u001b[0;36m<cell line: 1>\u001b[0;34m()\u001b[0m\n\u001b[0;32m----> 1\u001b[0m \u001b[43mrecv\u001b[49m\u001b[43m(\u001b[49m\u001b[38;5;241;43m1024\u001b[39;49m\u001b[43m,\u001b[49m\u001b[43m \u001b[49m\u001b[38;5;28;43;01mTrue\u001b[39;49;00m\u001b[43m)\u001b[49m\n",
      "\u001b[0;31mTypeError\u001b[0m: recv() takes 1 positional argument but 2 were given"
     ]
    }
   ],
   "source": [
    "recv(1024, True)  # Type error."
   ]
  },
  {
   "cell_type": "code",
   "execution_count": 18,
   "id": "e57a2eb8-1de8-406a-afbd-e3ce84a42c57",
   "metadata": {},
   "outputs": [],
   "source": [
    "recv(1024, block=True)  # Ok."
   ]
  },
  {
   "cell_type": "code",
   "execution_count": null,
   "id": "d8efea66-c77f-45d3-9996-e648adbdb0cb",
   "metadata": {},
   "outputs": [],
   "source": []
  }
 ],
 "metadata": {
  "kernelspec": {
   "display_name": "Python 3 (ipykernel)",
   "language": "python",
   "name": "python3"
  },
  "language_info": {
   "codemirror_mode": {
    "name": "ipython",
    "version": 3
   },
   "file_extension": ".py",
   "mimetype": "text/x-python",
   "name": "python",
   "nbconvert_exporter": "python",
   "pygments_lexer": "ipython3",
   "version": "3.9.12"
  }
 },
 "nbformat": 4,
 "nbformat_minor": 5
}
