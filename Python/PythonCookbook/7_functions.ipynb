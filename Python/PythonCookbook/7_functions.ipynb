{
 "cells": [
  {
   "cell_type": "markdown",
   "id": "c71355da-f066-435f-8f21-fc65f65fa1e7",
   "metadata": {},
   "source": [
    "# 7 Functions"
   ]
  },
  {
   "cell_type": "markdown",
   "id": "65bad603-a221-400a-9e61-375fcf9e6ccb",
   "metadata": {},
   "source": [
    "## 7.1 Writing Functions That Accept Any Number of Arguments"
   ]
  },
  {
   "cell_type": "markdown",
   "id": "6886b7f6-564a-4337-a6d3-5c9e820e632c",
   "metadata": {},
   "source": [
    "### Problem: You want to write a function that accepts any number of input arguments."
   ]
  },
  {
   "cell_type": "markdown",
   "id": "29c03ce8-7a23-42ac-924b-c41530f591c0",
   "metadata": {},
   "source": [
    "#### Positional arguments"
   ]
  },
  {
   "cell_type": "code",
   "execution_count": 1,
   "id": "091e01a9-8702-40fc-8222-004fbcac38bc",
   "metadata": {},
   "outputs": [],
   "source": [
    "# Use a * argument.\n",
    "def avg(first, *rest):\n",
    "    return (first + sum(rest)) / (1 + len(rest))"
   ]
  },
  {
   "cell_type": "code",
   "execution_count": 2,
   "id": "5e6e8287-a7f7-4d23-a3a1-42136a6bf825",
   "metadata": {},
   "outputs": [
    {
     "data": {
      "text/plain": [
       "1.5"
      ]
     },
     "execution_count": 2,
     "metadata": {},
     "output_type": "execute_result"
    }
   ],
   "source": [
    "avg(1, 2)"
   ]
  },
  {
   "cell_type": "code",
   "execution_count": 3,
   "id": "14c04f80-dfa1-4eb0-a89b-0ae723c4c89a",
   "metadata": {},
   "outputs": [
    {
     "data": {
      "text/plain": [
       "2.5"
      ]
     },
     "execution_count": 3,
     "metadata": {},
     "output_type": "execute_result"
    }
   ],
   "source": [
    "avg(1, 2, 3, 4)"
   ]
  },
  {
   "cell_type": "markdown",
   "id": "bf7dfe33-7c50-4281-9188-0bdfced53869",
   "metadata": {},
   "source": [
    "#### Keyword arguments"
   ]
  },
  {
   "cell_type": "code",
   "execution_count": 4,
   "id": "d6f3f7ca-8fd7-48ca-aa52-d291117e1b08",
   "metadata": {},
   "outputs": [],
   "source": [
    "# Use an argument that starts with **.\n",
    "import html\n",
    "\n",
    "def make_element(name, value, **attrs):\n",
    "    keyvals = [' %s = \"%s\" ' % item for item in attrs.items()]\n",
    "    attr_str = ''.join(keyvals)\n",
    "    element = '<{name}{attrs}>{value}</{name}>'.format(\n",
    "                    name=name,\n",
    "                    attrs=attr_str,\n",
    "                    value=html.escape(value))\n",
    "    return element"
   ]
  },
  {
   "cell_type": "code",
   "execution_count": 5,
   "id": "607706af-36ee-473f-9c25-76e0b288fb8a",
   "metadata": {},
   "outputs": [
    {
     "data": {
      "text/plain": [
       "'<item size = \"large\"  quantity = \"6\" >Albatross</item>'"
      ]
     },
     "execution_count": 5,
     "metadata": {},
     "output_type": "execute_result"
    }
   ],
   "source": [
    "# Creates '<item size=\"large\" quantity=\"6\">Albatross</item>'\n",
    "make_element('item', 'Albatross', size='large', quantity=6)"
   ]
  },
  {
   "cell_type": "code",
   "execution_count": 6,
   "id": "50cda547-ce99-41a9-ab25-1513f88c10ff",
   "metadata": {},
   "outputs": [
    {
     "data": {
      "text/plain": [
       "'<p>&lt;spam&gt;</p>'"
      ]
     },
     "execution_count": 6,
     "metadata": {},
     "output_type": "execute_result"
    }
   ],
   "source": [
    "# Creates '<p>&lt;spam&gt;</p>'\n",
    "make_element('p', '<spam>')"
   ]
  },
  {
   "cell_type": "markdown",
   "id": "ea35ab2f-294b-44e1-b737-6f26c2bffed2",
   "metadata": {},
   "source": [
    "#### Both positional and keyword-only arguments"
   ]
  },
  {
   "cell_type": "code",
   "execution_count": 7,
   "id": "31d35e30-5953-4d0f-b5d7-526ba5fdba5d",
   "metadata": {},
   "outputs": [],
   "source": [
    "def anyargs(*args, **kwargs):\n",
    "    print(args)  # A tuple.\n",
    "    print(kwargs)  # A dict."
   ]
  },
  {
   "cell_type": "code",
   "execution_count": 11,
   "id": "6dafe335-7a4b-4c92-bd95-1fbc1c31084e",
   "metadata": {},
   "outputs": [
    {
     "name": "stdout",
     "output_type": "stream",
     "text": [
      "('abc',)\n",
      "{'my_int': 3, 'my_color': 'blue'}\n"
     ]
    }
   ],
   "source": [
    "anyargs(\"abc\", my_int=3, my_color=\"blue\")"
   ]
  },
  {
   "cell_type": "markdown",
   "id": "f955a2ec-8267-447f-b5a9-0703a1bc0d11",
   "metadata": {},
   "source": [
    "Arguments can still appear after a * argument."
   ]
  },
  {
   "cell_type": "code",
   "execution_count": 12,
   "id": "8b33a7a6-eb29-4e23-b7d0-28ac8b120495",
   "metadata": {},
   "outputs": [],
   "source": [
    "def a(x, *args, y):\n",
    "    pass"
   ]
  },
  {
   "cell_type": "markdown",
   "id": "9234bd67-a6fb-484b-8ac2-002167308c72",
   "metadata": {},
   "source": [
    "Keyword argument (**) can only appear as the last argument."
   ]
  },
  {
   "cell_type": "code",
   "execution_count": 13,
   "id": "1ef07390-e1f3-4784-a708-9d521fc05e22",
   "metadata": {},
   "outputs": [],
   "source": [
    "def b(x, *args, y, **kwargs):\n",
    "    pass"
   ]
  },
  {
   "cell_type": "markdown",
   "id": "602c52c4-715a-4d05-be6f-7f5ce5309329",
   "metadata": {},
   "source": [
    "## 7.2 Writing Functions That Only Accept Keyword Arguments "
   ]
  },
  {
   "cell_type": "markdown",
   "id": "86316bb4-7898-4ff7-891e-acfffa595ffa",
   "metadata": {},
   "source": [
    "### Problem: You want a function to only accept certain arguments by keyword."
   ]
  },
  {
   "cell_type": "markdown",
   "id": "b8770cfd-7fd3-454d-8a30-bbebd6bdb667",
   "metadata": {},
   "source": [
    "Place the keyword arguments after a * argument, or a single unnamed *."
   ]
  },
  {
   "cell_type": "code",
   "execution_count": 14,
   "id": "d58328c6-7848-4baf-bfae-14bc4edf0823",
   "metadata": {},
   "outputs": [],
   "source": [
    "def recv(maxsize, *, block):\n",
    "    'Receives a message'\n",
    "    pass"
   ]
  },
  {
   "cell_type": "code",
   "execution_count": 17,
   "id": "e31509c5-259e-411d-9df6-c206b3063b57",
   "metadata": {},
   "outputs": [
    {
     "ename": "TypeError",
     "evalue": "recv() takes 1 positional argument but 2 were given",
     "output_type": "error",
     "traceback": [
      "\u001b[0;31m---------------------------------------------------------------------------\u001b[0m",
      "\u001b[0;31mTypeError\u001b[0m                                 Traceback (most recent call last)",
      "Input \u001b[0;32mIn [17]\u001b[0m, in \u001b[0;36m<cell line: 1>\u001b[0;34m()\u001b[0m\n\u001b[0;32m----> 1\u001b[0m \u001b[43mrecv\u001b[49m\u001b[43m(\u001b[49m\u001b[38;5;241;43m1024\u001b[39;49m\u001b[43m,\u001b[49m\u001b[43m \u001b[49m\u001b[38;5;28;43;01mTrue\u001b[39;49;00m\u001b[43m)\u001b[49m\n",
      "\u001b[0;31mTypeError\u001b[0m: recv() takes 1 positional argument but 2 were given"
     ]
    }
   ],
   "source": [
    "recv(1024, True)  # Type error."
   ]
  },
  {
   "cell_type": "code",
   "execution_count": 18,
   "id": "e57a2eb8-1de8-406a-afbd-e3ce84a42c57",
   "metadata": {},
   "outputs": [],
   "source": [
    "recv(1024, block=True)  # Ok."
   ]
  },
  {
   "cell_type": "markdown",
   "id": "d8a0ac86-4071-481b-b9f3-5f164872c82c",
   "metadata": {},
   "source": [
    "This technique can also be used to specify keyword arguments for functions that accept a varying number of positional arguments."
   ]
  },
  {
   "cell_type": "code",
   "execution_count": 1,
   "id": "d8efea66-c77f-45d3-9996-e648adbdb0cb",
   "metadata": {},
   "outputs": [],
   "source": [
    "def minimum(*values, clip=None):\n",
    "    m = min(values)\n",
    "    if clip is not None:\n",
    "        m = clip if clip > m else m\n",
    "    return m"
   ]
  },
  {
   "cell_type": "code",
   "execution_count": 2,
   "id": "6b7c232a-0d88-4cbd-a415-800343376a59",
   "metadata": {},
   "outputs": [
    {
     "data": {
      "text/plain": [
       "-5"
      ]
     },
     "execution_count": 2,
     "metadata": {},
     "output_type": "execute_result"
    }
   ],
   "source": [
    "minimum(1, 5, 2, -5, 10)  # Returns -5"
   ]
  },
  {
   "cell_type": "code",
   "execution_count": 3,
   "id": "c8f4f344-d2c1-4a67-bf56-58e445c05971",
   "metadata": {},
   "outputs": [
    {
     "data": {
      "text/plain": [
       "0"
      ]
     },
     "execution_count": 3,
     "metadata": {},
     "output_type": "execute_result"
    }
   ],
   "source": [
    "minimum(1, 5, 2, -5, 10, clip=0)  # Returns 0"
   ]
  },
  {
   "cell_type": "markdown",
   "id": "33bbbb14-8672-49a7-88a0-982d9d02721c",
   "metadata": {},
   "source": [
    "## 7.3 Attaching Informational Metadata to Function Arguments"
   ]
  },
  {
   "cell_type": "markdown",
   "id": "88b96757-179f-4794-bd87-17ce21cff3a8",
   "metadata": {},
   "source": [
    "### Problem\n",
    "You've written a function, but would like to attach some additional information to the arguments so that others know more about how a function is supposed to be used."
   ]
  },
  {
   "cell_type": "code",
   "execution_count": 4,
   "id": "fd897599-9285-44aa-b19d-41ae92c8f58c",
   "metadata": {},
   "outputs": [],
   "source": [
    "# Function argument annotations.\n",
    "def add(x:int, y:int) -> int:\n",
    "    return x + y"
   ]
  },
  {
   "cell_type": "code",
   "execution_count": 6,
   "id": "eabeddca-2155-46f2-b272-6c1de141bbd0",
   "metadata": {},
   "outputs": [],
   "source": [
    "# They also appear in documentation."
   ]
  },
  {
   "cell_type": "code",
   "execution_count": 5,
   "id": "307293da-698c-4b16-b220-fde21e5fab2a",
   "metadata": {},
   "outputs": [
    {
     "name": "stdout",
     "output_type": "stream",
     "text": [
      "Help on function add in module __main__:\n",
      "\n",
      "add(x: int, y: int) -> int\n",
      "    # Function argument annotations.\n",
      "\n"
     ]
    }
   ],
   "source": [
    "help(add)"
   ]
  },
  {
   "cell_type": "markdown",
   "id": "6ec00e63-6ac3-4cd6-bde8-2d8e212618d8",
   "metadata": {},
   "source": [
    "## 7.4 Returning Multiple Values from a Function"
   ]
  },
  {
   "cell_type": "markdown",
   "id": "42cb8a4c-4e51-4711-b8d4-966c1645f372",
   "metadata": {},
   "source": [
    "### Problem\n",
    "You want to return multiple values from a function."
   ]
  },
  {
   "cell_type": "code",
   "execution_count": 7,
   "id": "7ad49ae4-14ca-436f-a79f-e4b0c6c09598",
   "metadata": {},
   "outputs": [],
   "source": [
    "# Simply return a tuple.\n",
    "def myfun():\n",
    "    return 1, 2, 3"
   ]
  },
  {
   "cell_type": "code",
   "execution_count": 8,
   "id": "b9c62ddb-38b2-4c7e-bf83-5fbb4cfc083c",
   "metadata": {},
   "outputs": [],
   "source": [
    "a, b, c = myfun()"
   ]
  },
  {
   "cell_type": "code",
   "execution_count": 9,
   "id": "a4152c81-390c-4be1-b20d-63f0ed5860db",
   "metadata": {},
   "outputs": [
    {
     "data": {
      "text/plain": [
       "1"
      ]
     },
     "execution_count": 9,
     "metadata": {},
     "output_type": "execute_result"
    }
   ],
   "source": [
    "a"
   ]
  },
  {
   "cell_type": "code",
   "execution_count": 10,
   "id": "505118df-f84b-4f12-9b01-8b1800fe7259",
   "metadata": {},
   "outputs": [
    {
     "data": {
      "text/plain": [
       "2"
      ]
     },
     "execution_count": 10,
     "metadata": {},
     "output_type": "execute_result"
    }
   ],
   "source": [
    "b"
   ]
  },
  {
   "cell_type": "code",
   "execution_count": 11,
   "id": "8c90ea5d-376d-46cf-b1b5-15e7fd218843",
   "metadata": {},
   "outputs": [
    {
     "data": {
      "text/plain": [
       "3"
      ]
     },
     "execution_count": 11,
     "metadata": {},
     "output_type": "execute_result"
    }
   ],
   "source": [
    "c"
   ]
  },
  {
   "cell_type": "code",
   "execution_count": 12,
   "id": "9f2d791f-4a1b-4162-97f2-52842f50f3a3",
   "metadata": {},
   "outputs": [],
   "source": [
    "x = myfun()"
   ]
  },
  {
   "cell_type": "code",
   "execution_count": 13,
   "id": "f9484376-5a54-4561-b9d6-22db64a22d1d",
   "metadata": {},
   "outputs": [
    {
     "data": {
      "text/plain": [
       "(1, 2, 3)"
      ]
     },
     "execution_count": 13,
     "metadata": {},
     "output_type": "execute_result"
    }
   ],
   "source": [
    "x"
   ]
  },
  {
   "cell_type": "markdown",
   "id": "6ff09839-491c-4fc1-a823-cb9707fc9ce3",
   "metadata": {},
   "source": [
    "## 7.5 Defining Functions with Default Arguments"
   ]
  },
  {
   "cell_type": "markdown",
   "id": "f31cfcee-f07d-4e3e-9d5e-a7c2ad34616f",
   "metadata": {},
   "source": [
    "### Problem\n",
    "You want to define a function or method where one or more of the arguments are optional and have a default value."
   ]
  },
  {
   "cell_type": "code",
   "execution_count": 14,
   "id": "d0080dbb-6a9e-4719-b340-a4f737bafce2",
   "metadata": {},
   "outputs": [],
   "source": [
    "# Method-1\n",
    "def spam(a, b=42):\n",
    "    print(a, b)"
   ]
  },
  {
   "cell_type": "code",
   "execution_count": 16,
   "id": "5fff74d6-6f91-4113-97b4-b9736eb41297",
   "metadata": {},
   "outputs": [
    {
     "name": "stdout",
     "output_type": "stream",
     "text": [
      "1 42\n"
     ]
    }
   ],
   "source": [
    "spam(1)  # Ok. a=1, b=42"
   ]
  },
  {
   "cell_type": "code",
   "execution_count": 18,
   "id": "2d37d281-bcdc-4536-9634-3e6658136213",
   "metadata": {},
   "outputs": [
    {
     "name": "stdout",
     "output_type": "stream",
     "text": [
      "1 2\n"
     ]
    }
   ],
   "source": [
    "spam(1, 2) # Ok. a=1, b=2"
   ]
  },
  {
   "cell_type": "code",
   "execution_count": 19,
   "id": "7e87a836-22cc-46d5-ac91-a30186367cd5",
   "metadata": {},
   "outputs": [],
   "source": [
    "# If the default value is supposed to be a mutable container, such as a list, set or dictionary,\n",
    "# use None as the default."
   ]
  },
  {
   "cell_type": "code",
   "execution_count": 20,
   "id": "fb7a8964-4e88-408b-ab9d-08350ca1912d",
   "metadata": {},
   "outputs": [],
   "source": [
    "# Using a list as a default value.\n",
    "def spam(a, b=None):\n",
    "    if b is None:\n",
    "        b = []"
   ]
  },
  {
   "cell_type": "code",
   "execution_count": 21,
   "id": "af5923ec-0c95-48fb-9810-a65fa796c0db",
   "metadata": {},
   "outputs": [],
   "source": [
    "# If, instead of providing a default value, you want to write code that merely tests whether\n",
    "# an optional argument was given an interesting value or not, use this:"
   ]
  },
  {
   "cell_type": "code",
   "execution_count": 22,
   "id": "8d98a47b-6286-42a4-b51c-f8c7917729aa",
   "metadata": {},
   "outputs": [],
   "source": [
    "_no_value = object()"
   ]
  },
  {
   "cell_type": "code",
   "execution_count": 23,
   "id": "23fe51a2-3998-4980-9064-01db45c0bab6",
   "metadata": {},
   "outputs": [],
   "source": [
    "def spam(a, b=_no_value):\n",
    "    if b is _no_value:\n",
    "        print('No b value supplied.')"
   ]
  },
  {
   "cell_type": "code",
   "execution_count": 24,
   "id": "48f41362-7837-45c2-9f38-7a20ad9e40db",
   "metadata": {},
   "outputs": [
    {
     "name": "stdout",
     "output_type": "stream",
     "text": [
      "No b value supplied.\n"
     ]
    }
   ],
   "source": [
    "spam(1)"
   ]
  },
  {
   "cell_type": "code",
   "execution_count": 26,
   "id": "81e85782-5d12-4310-ba52-30b606744bbe",
   "metadata": {},
   "outputs": [],
   "source": [
    "spam(1, 2)  # b = 2"
   ]
  },
  {
   "cell_type": "code",
   "execution_count": 28,
   "id": "6774e4ee-10f1-43dd-9ea0-b4de0ee36d9d",
   "metadata": {},
   "outputs": [],
   "source": [
    "spam(1, None)  # b = None"
   ]
  },
  {
   "cell_type": "code",
   "execution_count": 29,
   "id": "50af770b-3bd7-4b04-9687-a250439295ae",
   "metadata": {},
   "outputs": [],
   "source": [
    "# Above, there is a distinction between passing no value at all and passing a value of None."
   ]
  },
  {
   "cell_type": "markdown",
   "id": "e0fa8026-f1e4-4e6d-9ed5-3403f85a65dd",
   "metadata": {},
   "source": [
    "#### Caution: Never write code like this:"
   ]
  },
  {
   "cell_type": "code",
   "execution_count": 30,
   "id": "5837770a-acb1-48e3-a1b5-488f279003a3",
   "metadata": {},
   "outputs": [],
   "source": [
    "def spam(a, b=[]):   # NO!\n",
    "    ..."
   ]
  },
  {
   "cell_type": "code",
   "execution_count": 31,
   "id": "b49d7238-b1ad-49b9-8368-7ef319ae18da",
   "metadata": {},
   "outputs": [],
   "source": [
    "# You can run into all sorts of trouble if the default value ever escapes the function and gets modified!\n",
    "# Such changes will permanently alter the default value across future function calls."
   ]
  },
  {
   "cell_type": "code",
   "execution_count": 32,
   "id": "58ba972c-4013-43a3-91a1-27bfa7c8dc71",
   "metadata": {},
   "outputs": [],
   "source": [
    "def spam(a, b=[]):\n",
    "    print(b)\n",
    "    return b"
   ]
  },
  {
   "cell_type": "code",
   "execution_count": 33,
   "id": "4e46ae8c-e208-4984-bf17-c39f41a381c6",
   "metadata": {},
   "outputs": [
    {
     "name": "stdout",
     "output_type": "stream",
     "text": [
      "[]\n"
     ]
    }
   ],
   "source": [
    "x = spam(1)"
   ]
  },
  {
   "cell_type": "code",
   "execution_count": 34,
   "id": "90c7c4af-189d-4f9b-9f2b-48578e03d6f0",
   "metadata": {},
   "outputs": [
    {
     "data": {
      "text/plain": [
       "[]"
      ]
     },
     "execution_count": 34,
     "metadata": {},
     "output_type": "execute_result"
    }
   ],
   "source": [
    "x"
   ]
  },
  {
   "cell_type": "code",
   "execution_count": 35,
   "id": "880934c8-afcf-4797-becc-a57832356658",
   "metadata": {},
   "outputs": [],
   "source": [
    "x.append(99)"
   ]
  },
  {
   "cell_type": "code",
   "execution_count": 36,
   "id": "60daaa7e-9dc2-4d82-87dd-64df682b8617",
   "metadata": {},
   "outputs": [],
   "source": [
    "x.append('Yow!')"
   ]
  },
  {
   "cell_type": "code",
   "execution_count": 37,
   "id": "60c13b09-8560-41d0-87af-5ec7f4bce2b2",
   "metadata": {},
   "outputs": [
    {
     "data": {
      "text/plain": [
       "[99, 'Yow!']"
      ]
     },
     "execution_count": 37,
     "metadata": {},
     "output_type": "execute_result"
    }
   ],
   "source": [
    "x"
   ]
  },
  {
   "cell_type": "code",
   "execution_count": 38,
   "id": "882b6685-8c10-48e9-bf87-aeb071811a2e",
   "metadata": {},
   "outputs": [
    {
     "name": "stdout",
     "output_type": "stream",
     "text": [
      "[99, 'Yow!']\n"
     ]
    },
    {
     "data": {
      "text/plain": [
       "[99, 'Yow!']"
      ]
     },
     "execution_count": 38,
     "metadata": {},
     "output_type": "execute_result"
    }
   ],
   "source": [
    "spam(1)"
   ]
  },
  {
   "cell_type": "code",
   "execution_count": 39,
   "id": "1e1ed5bf-253d-4ade-86c4-12de00036a1f",
   "metadata": {},
   "outputs": [],
   "source": [
    "# Modified list gets returned!"
   ]
  },
  {
   "cell_type": "code",
   "execution_count": 40,
   "id": "0d76ebdf-6c02-49ea-9ee9-49b1d6068c2d",
   "metadata": {},
   "outputs": [],
   "source": [
    "# The use of the is operator when testing for None is a critical part of this recipe."
   ]
  },
  {
   "cell_type": "code",
   "execution_count": 41,
   "id": "5408ddfc-d8d7-4a1f-9a64-df2ef29a8056",
   "metadata": {},
   "outputs": [],
   "source": [
    "def spam(a, b=None):\n",
    "    if not b:\n",
    "        b = []\n",
    "    ..."
   ]
  },
  {
   "cell_type": "code",
   "execution_count": 42,
   "id": "e36ccfc9-f84e-4634-a54e-efbfe8073835",
   "metadata": {},
   "outputs": [],
   "source": [
    "# Although None evaluates to False, many other objects (e.g., zero-length strings, lists,\n",
    "# tuples, dicts, etc.) do as well."
   ]
  },
  {
   "cell_type": "code",
   "execution_count": 43,
   "id": "be4ce3a1-48d5-4af4-a610-a00227b0bbf3",
   "metadata": {},
   "outputs": [],
   "source": [
    "spam(1)  # OK."
   ]
  },
  {
   "cell_type": "code",
   "execution_count": 44,
   "id": "19e9d1f3-6893-47fb-b9a0-7a5020a6f5e7",
   "metadata": {},
   "outputs": [],
   "source": [
    "x = []"
   ]
  },
  {
   "cell_type": "code",
   "execution_count": 45,
   "id": "73b6da78-787c-48d6-b354-58a4149170c9",
   "metadata": {},
   "outputs": [],
   "source": [
    "spam(1, x)  # Silent error. x value overwritten by default."
   ]
  },
  {
   "cell_type": "code",
   "execution_count": 46,
   "id": "e3ab4c03-bd1e-4c3a-a96a-5e42bed88e56",
   "metadata": {},
   "outputs": [],
   "source": [
    "spam(1, 0)  # Silent error. 0 is ignored."
   ]
  },
  {
   "cell_type": "code",
   "execution_count": 47,
   "id": "e8a487e6-4747-45a5-9a63-57bedf77af3f",
   "metadata": {},
   "outputs": [],
   "source": [
    "spam(1, '')  # Silent error. '' ignored."
   ]
  },
  {
   "cell_type": "markdown",
   "id": "8010450a-ccc9-4081-b67c-ec6d57bc1a4d",
   "metadata": {},
   "source": [
    "## 7.6 Defining Anonymous or Inline Functions"
   ]
  },
  {
   "cell_type": "markdown",
   "id": "d5314e95-7a49-45f6-abc5-61f693b8e48a",
   "metadata": {},
   "source": [
    "### Problem\n",
    "You need to supply a short callback function for use with an operation such as sort(), but you don't\n",
    "want to write a separate one-line function using the def statement. Instead, you'd like a shortcut\n",
    "that allows you to specify the function \"in line\"."
   ]
  },
  {
   "cell_type": "code",
   "execution_count": 48,
   "id": "f4dc87fa-a8e5-4b20-9d1e-515ec6ed1e37",
   "metadata": {},
   "outputs": [],
   "source": [
    "# Simple functions can be replaced by a lambda expression."
   ]
  },
  {
   "cell_type": "code",
   "execution_count": 49,
   "id": "cb3aae4a-11c3-4b0c-9b0e-625ec3bd4b82",
   "metadata": {},
   "outputs": [],
   "source": [
    "add = lambda x, y: x + y"
   ]
  },
  {
   "cell_type": "code",
   "execution_count": 50,
   "id": "39e05aa2-ad2f-4de9-a148-106e2325953a",
   "metadata": {},
   "outputs": [
    {
     "data": {
      "text/plain": [
       "5"
      ]
     },
     "execution_count": 50,
     "metadata": {},
     "output_type": "execute_result"
    }
   ],
   "source": [
    "add(2, 3)"
   ]
  },
  {
   "cell_type": "code",
   "execution_count": 51,
   "id": "08ae38e0-0f19-4789-9ac5-dd01a7bd592a",
   "metadata": {},
   "outputs": [
    {
     "data": {
      "text/plain": [
       "'helloworld'"
      ]
     },
     "execution_count": 51,
     "metadata": {},
     "output_type": "execute_result"
    }
   ],
   "source": [
    "add('hello', 'world')"
   ]
  },
  {
   "cell_type": "code",
   "execution_count": 52,
   "id": "59b7fe6e-ea2d-45c8-b044-eb980a16e7c2",
   "metadata": {},
   "outputs": [],
   "source": [
    "# The use of lambda here is the same as having typed:\n",
    "def add(x, y):\n",
    "    return x + y"
   ]
  },
  {
   "cell_type": "code",
   "execution_count": 53,
   "id": "213c637a-528e-4b4c-9615-8aaa5d23b238",
   "metadata": {},
   "outputs": [
    {
     "data": {
      "text/plain": [
       "5"
      ]
     },
     "execution_count": 53,
     "metadata": {},
     "output_type": "execute_result"
    }
   ],
   "source": [
    "add(2, 3)"
   ]
  },
  {
   "cell_type": "code",
   "execution_count": 54,
   "id": "ae9e5090-14c5-4454-a210-6e198f4876e8",
   "metadata": {},
   "outputs": [],
   "source": [
    "# Typically labmda is used in the context of some other operation, such as sorting\n",
    "# or a data reduction."
   ]
  },
  {
   "cell_type": "code",
   "execution_count": 55,
   "id": "7bcdb633-1ff7-4777-b26c-577d245b29a9",
   "metadata": {},
   "outputs": [],
   "source": [
    "names = ['David Beazley', 'Brian Jones', 'Raymond Hettinger', 'Ned Batchelder']"
   ]
  },
  {
   "cell_type": "code",
   "execution_count": 56,
   "id": "5ab04983-4e49-472f-a7d2-5b5a6f3d0dde",
   "metadata": {},
   "outputs": [
    {
     "data": {
      "text/plain": [
       "['Ned Batchelder', 'David Beazley', 'Raymond Hettinger', 'Brian Jones']"
      ]
     },
     "execution_count": 56,
     "metadata": {},
     "output_type": "execute_result"
    }
   ],
   "source": [
    "sorted(names, key=lambda name: name.split()[-1].lower())"
   ]
  },
  {
   "cell_type": "markdown",
   "id": "f7d8aafd-b96c-4fd1-8934-9aec901e7ce4",
   "metadata": {},
   "source": [
    "Use of lambda is highly restricted.\n",
    "- Only a single expression can be specified, the result of which is the return value.\n",
    "- No other language features, including multiple statements, conditionals, iteration, and exception handling, can be included."
   ]
  },
  {
   "cell_type": "markdown",
   "id": "0f7b00ee-4860-4f92-ab52-286e42aa9d06",
   "metadata": {},
   "source": [
    "## 7.7 Capturing Variables in Anonymous Functions."
   ]
  },
  {
   "cell_type": "markdown",
   "id": "584de9b1-4e2f-49cb-88af-12084a2c698d",
   "metadata": {},
   "source": [
    "### Problem\n",
    "You've defined an anonymous function using lambda, but you also need to capture the\n",
    "values of certain variables at the time of definition."
   ]
  },
  {
   "cell_type": "code",
   "execution_count": 57,
   "id": "71cf68b0-2c95-4e88-9a6e-486aa4d8ba4c",
   "metadata": {},
   "outputs": [],
   "source": [
    "x = 10\n",
    "a = lambda y: x + y\n",
    "x = 20\n",
    "b = lambda y: x + y"
   ]
  },
  {
   "cell_type": "code",
   "execution_count": 58,
   "id": "acc46587-e950-4089-8d2e-c9fed6f5069f",
   "metadata": {},
   "outputs": [
    {
     "data": {
      "text/plain": [
       "30"
      ]
     },
     "execution_count": 58,
     "metadata": {},
     "output_type": "execute_result"
    }
   ],
   "source": [
    "a(10)"
   ]
  },
  {
   "cell_type": "code",
   "execution_count": 59,
   "id": "967553b9-b957-43d7-8e6f-c9777ad38ec4",
   "metadata": {},
   "outputs": [
    {
     "data": {
      "text/plain": [
       "30"
      ]
     },
     "execution_count": 59,
     "metadata": {},
     "output_type": "execute_result"
    }
   ],
   "source": [
    "b(10)"
   ]
  },
  {
   "cell_type": "code",
   "execution_count": 61,
   "id": "73f469d4-85ab-4aab-9aaf-7bd74b96c645",
   "metadata": {},
   "outputs": [],
   "source": [
    "# The value of x used in the lambda expression is a free variable\n",
    "# that gets bound at runtime, not definition time."
   ]
  },
  {
   "cell_type": "code",
   "execution_count": 62,
   "id": "a131fa1e-2306-4ab5-8dfa-efe1d8c2efd4",
   "metadata": {},
   "outputs": [
    {
     "data": {
      "text/plain": [
       "25"
      ]
     },
     "execution_count": 62,
     "metadata": {},
     "output_type": "execute_result"
    }
   ],
   "source": [
    "x = 15\n",
    "a(10)"
   ]
  },
  {
   "cell_type": "code",
   "execution_count": 63,
   "id": "3c2b673b-d9d0-44cc-b93e-9c7c48f45c51",
   "metadata": {},
   "outputs": [
    {
     "data": {
      "text/plain": [
       "13"
      ]
     },
     "execution_count": 63,
     "metadata": {},
     "output_type": "execute_result"
    }
   ],
   "source": [
    "x = 3\n",
    "a(10)"
   ]
  },
  {
   "cell_type": "code",
   "execution_count": 64,
   "id": "fe441cf0-f6ae-4772-ba6b-123d369f9b91",
   "metadata": {},
   "outputs": [
    {
     "data": {
      "text/plain": [
       "20"
      ]
     },
     "execution_count": 64,
     "metadata": {},
     "output_type": "execute_result"
    }
   ],
   "source": [
    "# If you want an anonymous function to capture a value at the point of definition and keep it,\n",
    "# include the value as a default value, like this:\n",
    "x = 10\n",
    "a = lambda y, x=x: x + y\n",
    "x = 20\n",
    "b = lambda y, x=x: x + y\n",
    "a(10)"
   ]
  },
  {
   "cell_type": "code",
   "execution_count": 66,
   "id": "c76f4986-9588-4a41-9091-db971810f2f8",
   "metadata": {},
   "outputs": [
    {
     "data": {
      "text/plain": [
       "30"
      ]
     },
     "execution_count": 66,
     "metadata": {},
     "output_type": "execute_result"
    }
   ],
   "source": [
    "b(10)"
   ]
  },
  {
   "cell_type": "code",
   "execution_count": 67,
   "id": "849e5fd5-1ee7-40d0-ba20-3677ff48b8f4",
   "metadata": {},
   "outputs": [
    {
     "name": "stdout",
     "output_type": "stream",
     "text": [
      "4\n",
      "4\n",
      "4\n",
      "4\n",
      "4\n"
     ]
    }
   ],
   "source": [
    "# Bad execution using lambda expression.\n",
    "funcs = [lambda x: x+n for n in range(5)]\n",
    "for f in funcs:\n",
    "    print(f(0))"
   ]
  },
  {
   "cell_type": "code",
   "execution_count": 68,
   "id": "87ab5500-e9eb-40df-8041-bb246cc033f9",
   "metadata": {},
   "outputs": [
    {
     "name": "stdout",
     "output_type": "stream",
     "text": [
      "0\n",
      "1\n",
      "2\n",
      "3\n",
      "4\n"
     ]
    }
   ],
   "source": [
    "funcs = [lambda x, n=n: x+n for n in range(5)]\n",
    "for f in funcs:\n",
    "    print(f(0))"
   ]
  },
  {
   "cell_type": "markdown",
   "id": "f867c788-42ad-4476-86c5-14c7818ecd4a",
   "metadata": {},
   "source": [
    "## 7.8 Making an N-Argument Callable Work As a Callable with Fewer Arguments."
   ]
  },
  {
   "cell_type": "markdown",
   "id": "9f4fd71a-e230-45ec-a506-6f73e5a61df7",
   "metadata": {},
   "source": [
    "### Problem\n",
    "You have a callable that you would like to use with some other Python code, possibly as\n",
    "a callback function or handler, but it takes too many arguments and causes an exception when called."
   ]
  },
  {
   "cell_type": "code",
   "execution_count": 69,
   "id": "40d28449-742f-4668-8e8e-b44006f55acb",
   "metadata": {},
   "outputs": [],
   "source": [
    "# If you need to reduce the number of arguments to a function, you should use functools.partial().\n",
    "# The partial() function allows you to assing fixed values to one or more of the arguments, thus\n",
    "# reducing the number of arguments that need to be supplied to subsequent calls."
   ]
  },
  {
   "cell_type": "code",
   "execution_count": 70,
   "id": "92797aa5-e3e8-49cc-bed5-be1b333940e3",
   "metadata": {},
   "outputs": [],
   "source": [
    "def spam(a, b, c, d):\n",
    "    print(a, b, c, d)"
   ]
  },
  {
   "cell_type": "code",
   "execution_count": 71,
   "id": "c155c5a7-3f53-47ca-9e30-58e3a5265a8c",
   "metadata": {},
   "outputs": [],
   "source": [
    "from functools import partial"
   ]
  },
  {
   "cell_type": "code",
   "execution_count": 72,
   "id": "34653ea3-838b-45c5-b3e2-69c98f1121cd",
   "metadata": {},
   "outputs": [],
   "source": [
    "s1 = partial(spam, 1)  # a = 1"
   ]
  },
  {
   "cell_type": "code",
   "execution_count": 73,
   "id": "4af6f1a1-25a3-4828-914f-cbeae7e2825e",
   "metadata": {},
   "outputs": [
    {
     "name": "stdout",
     "output_type": "stream",
     "text": [
      "1 2 3 4\n"
     ]
    }
   ],
   "source": [
    "s1(2, 3, 4)"
   ]
  },
  {
   "cell_type": "code",
   "execution_count": 74,
   "id": "15ad85aa-445a-4156-a1ff-06e2f28f3c78",
   "metadata": {},
   "outputs": [
    {
     "name": "stdout",
     "output_type": "stream",
     "text": [
      "1 4 5 6\n"
     ]
    }
   ],
   "source": [
    "s1(4, 5, 6)"
   ]
  },
  {
   "cell_type": "code",
   "execution_count": 75,
   "id": "9111936e-30ff-41a8-aefb-e6161959272c",
   "metadata": {},
   "outputs": [],
   "source": [
    "s2 = partial(spam, d=42)  # d = 42"
   ]
  },
  {
   "cell_type": "code",
   "execution_count": 76,
   "id": "d9ade77e-d497-450d-8d9c-e2ae818b7fa4",
   "metadata": {},
   "outputs": [
    {
     "name": "stdout",
     "output_type": "stream",
     "text": [
      "1 2 3 42\n"
     ]
    }
   ],
   "source": [
    "s2(1, 2, 3)"
   ]
  },
  {
   "cell_type": "code",
   "execution_count": 77,
   "id": "6e8e3d7c-0d84-4a91-be30-b58269bda84c",
   "metadata": {},
   "outputs": [
    {
     "name": "stdout",
     "output_type": "stream",
     "text": [
      "4 5 5 42\n"
     ]
    }
   ],
   "source": [
    "s2(4, 5, 5)"
   ]
  },
  {
   "cell_type": "code",
   "execution_count": 78,
   "id": "cd022945-0169-4353-9843-d85fae6fcf47",
   "metadata": {},
   "outputs": [],
   "source": [
    "s3 = partial(spam, 1, 2, d=42)  # a = 1, b = 2, d = 42)"
   ]
  },
  {
   "cell_type": "code",
   "execution_count": 79,
   "id": "19b269c7-6cd0-4dfd-aecb-128ce0ae8bc4",
   "metadata": {},
   "outputs": [
    {
     "name": "stdout",
     "output_type": "stream",
     "text": [
      "1 2 5 42\n"
     ]
    }
   ],
   "source": [
    "s3(5)"
   ]
  },
  {
   "cell_type": "code",
   "execution_count": 80,
   "id": "018834fa-fcc4-4cd6-8785-2be61a752b38",
   "metadata": {},
   "outputs": [],
   "source": [
    "# partial fixes the values for certain arguments and returns a new callable as a result."
   ]
  },
  {
   "cell_type": "code",
   "execution_count": 81,
   "id": "caef18d1-3dc8-4385-82ea-053adaafabfa",
   "metadata": {},
   "outputs": [],
   "source": [
    "# This new callable accepts the still unassigned arguments, combines them with the arguments given to\n",
    "# partial(), and passes everything to the original function."
   ]
  },
  {
   "cell_type": "code",
   "execution_count": null,
   "id": "e9f955c0-513b-429b-a80e-73244fe4c504",
   "metadata": {},
   "outputs": [],
   "source": []
  }
 ],
 "metadata": {
  "kernelspec": {
   "display_name": "Python 3 (ipykernel)",
   "language": "python",
   "name": "python3"
  },
  "language_info": {
   "codemirror_mode": {
    "name": "ipython",
    "version": 3
   },
   "file_extension": ".py",
   "mimetype": "text/x-python",
   "name": "python",
   "nbconvert_exporter": "python",
   "pygments_lexer": "ipython3",
   "version": "3.9.7"
  }
 },
 "nbformat": 4,
 "nbformat_minor": 5
}
