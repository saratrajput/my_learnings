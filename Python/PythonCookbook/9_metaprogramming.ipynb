{
 "cells": [
  {
   "cell_type": "markdown",
   "id": "912aa153-0afd-4bcf-85eb-ffd077ed4b4d",
   "metadata": {},
   "source": [
    "# Metaprogramming "
   ]
  },
  {
   "cell_type": "markdown",
   "id": "ff2a17a9-edd0-4dce-988c-920a935fee8a",
   "metadata": {},
   "source": [
    "## Putting a wrapper around a function."
   ]
  },
  {
   "cell_type": "markdown",
   "id": "b9dfdf8d-6d5b-4721-9abe-9f941dea8c85",
   "metadata": {},
   "source": [
    "### Problem: You want to put a wrapper layer around a function that adds extra processing (e.g., logging, timing, etc.)."
   ]
  },
  {
   "cell_type": "code",
   "execution_count": 1,
   "id": "f61dc704-6001-4ff2-b74e-7622f60a1139",
   "metadata": {},
   "outputs": [],
   "source": [
    "# Define a decorator function.\n",
    "import time\n",
    "from functools import wraps\n",
    "\n",
    "def timethis(func):\n",
    "    '''\n",
    "    Decorator that reports the execution time.\n",
    "    '''\n",
    "    @wraps(func)\n",
    "    def wrapper(*args, **kwargs):\n",
    "        start = time.time()\n",
    "        result = func(*args, **kwargs)\n",
    "        end = time.time()\n",
    "        print(func.__name__, end - start)\n",
    "        return result\n",
    "    return wrapper"
   ]
  },
  {
   "cell_type": "code",
   "execution_count": 2,
   "id": "d04d2028-17a6-4b02-9e30-7704f03c1031",
   "metadata": {},
   "outputs": [],
   "source": [
    "@timethis\n",
    "def countdown(n):\n",
    "    '''\n",
    "    Counts down\n",
    "    '''\n",
    "    while n > 0:\n",
    "        n -= 1"
   ]
  },
  {
   "cell_type": "code",
   "execution_count": 3,
   "id": "8e2ded5e-7430-4a7b-905c-56fdf3e1b0ad",
   "metadata": {},
   "outputs": [
    {
     "name": "stdout",
     "output_type": "stream",
     "text": [
      "countdown 0.018427133560180664\n"
     ]
    }
   ],
   "source": [
    "countdown(100_000)"
   ]
  },
  {
   "cell_type": "code",
   "execution_count": 4,
   "id": "1fa17249-4618-4eb9-83f8-8928a48684ca",
   "metadata": {},
   "outputs": [
    {
     "name": "stdout",
     "output_type": "stream",
     "text": [
      "countdown 3.2224884033203125\n"
     ]
    }
   ],
   "source": [
    "countdown(100_000_000)"
   ]
  },
  {
   "cell_type": "markdown",
   "id": "004961a5-258b-47f7-9b51-c3752e8893e8",
   "metadata": {},
   "source": [
    "#### Decorator\n",
    "A decorator is a function that accepts a function as input and returns a new function as output.\n",
    "\n",
    "```\n",
    "@timethis\n",
    "def countdown(n):\n",
    "    ...\n",
    "```\n",
    "is same as:\n",
    "\n",
    "```\n",
    "def countdown(n):\n",
    "    ...\n",
    "    \n",
    "countdown = timethis(countdown)\n",
    "```"
   ]
  },
  {
   "cell_type": "markdown",
   "id": "b9e9c4c5-f6cd-444c-8d6a-dc7c4ed35fe5",
   "metadata": {},
   "source": [
    "The code inside a decorator typically involves creating a new function that accepts any arguments using *args and **kwargs."
   ]
  },
  {
   "cell_type": "markdown",
   "id": "226a4bd3-d802-4377-8bf7-65096b616409",
   "metadata": {},
   "source": [
    "## Preserving Function Metadata when Writing Decorators"
   ]
  },
  {
   "cell_type": "markdown",
   "id": "3c940afa-958a-4265-91b6-10dec72cdc37",
   "metadata": {},
   "source": [
    "### Problem: You've written a decorator, but when you apply it to a function, important metadata such as the name, doc string, annotations, and calling signature are lost. "
   ]
  },
  {
   "cell_type": "code",
   "execution_count": 5,
   "id": "175348f2-e27a-4661-ae41-03c0bd6c3283",
   "metadata": {},
   "outputs": [],
   "source": [
    "# Always remember to apply the @wraps decorator from functools.\n",
    "import time\n",
    "from functools import wraps\n",
    "\n",
    "def timethis(func):\n",
    "    '''\n",
    "    Decorator that reports the execution time.\n",
    "    '''\n",
    "    @wraps(func)\n",
    "    def wrapper(*args, **kwargs):\n",
    "        start = time.time()\n",
    "        result = func(*args, **kwargs)\n",
    "        end = time.time()\n",
    "        print(func.__name__, end - start)\n",
    "        return result\n",
    "    return wrapper"
   ]
  },
  {
   "cell_type": "code",
   "execution_count": 6,
   "id": "bb730e88-bf25-4767-b666-4900d05f2b4c",
   "metadata": {},
   "outputs": [],
   "source": [
    "@timethis\n",
    "def countdown(n:int):\n",
    "    '''\n",
    "    Counts down.\n",
    "    '''\n",
    "    while n > 0:\n",
    "        n -= 1"
   ]
  },
  {
   "cell_type": "code",
   "execution_count": 7,
   "id": "48a2b0af-b8d5-4cf6-baaf-d6ac18843de2",
   "metadata": {},
   "outputs": [
    {
     "name": "stdout",
     "output_type": "stream",
     "text": [
      "countdown 0.006591320037841797\n"
     ]
    }
   ],
   "source": [
    "countdown(100_000)"
   ]
  },
  {
   "cell_type": "markdown",
   "id": "108de557-0caf-4b55-a972-deb28acaa035",
   "metadata": {},
   "source": [
    "Accessing the metadata. This is possible due to the use of @wraps decorator."
   ]
  },
  {
   "cell_type": "code",
   "execution_count": 8,
   "id": "77f26d8f-dd23-4ebd-a6d7-fdfe524d756a",
   "metadata": {},
   "outputs": [
    {
     "data": {
      "text/plain": [
       "'countdown'"
      ]
     },
     "execution_count": 8,
     "metadata": {},
     "output_type": "execute_result"
    }
   ],
   "source": [
    "countdown.__name__"
   ]
  },
  {
   "cell_type": "code",
   "execution_count": 9,
   "id": "dbe5ad88-833a-4854-9fca-63286312dd05",
   "metadata": {},
   "outputs": [
    {
     "data": {
      "text/plain": [
       "'\\n    Counts down.\\n    '"
      ]
     },
     "execution_count": 9,
     "metadata": {},
     "output_type": "execute_result"
    }
   ],
   "source": [
    "countdown.__doc__"
   ]
  },
  {
   "cell_type": "code",
   "execution_count": 10,
   "id": "28ae657c-9492-4f5f-a5d1-281ada3ec3f4",
   "metadata": {},
   "outputs": [
    {
     "data": {
      "text/plain": [
       "{'n': int}"
      ]
     },
     "execution_count": 10,
     "metadata": {},
     "output_type": "execute_result"
    }
   ],
   "source": [
    "countdown.__annotations__"
   ]
  },
  {
   "cell_type": "markdown",
   "id": "50f8d236-72b3-4e89-86be-9f8cc6d5996d",
   "metadata": {},
   "source": [
    "@wraps makes the wrapped function available to you in the ```__wrapped__``` attribute."
   ]
  },
  {
   "cell_type": "code",
   "execution_count": 11,
   "id": "d04675bf-0cee-4e24-8142-dbf53d5cdc71",
   "metadata": {},
   "outputs": [],
   "source": [
    "countdown.__wrapped__(100_000)"
   ]
  },
  {
   "cell_type": "markdown",
   "id": "b8f8a2f3-2e61-4f8c-9e66-da2460764a5d",
   "metadata": {},
   "source": [
    "```__wrapped__``` attribute also makes decorated functions properly expose the underlying signature of the wrapped function."
   ]
  },
  {
   "cell_type": "code",
   "execution_count": 12,
   "id": "ec911116-d513-4fb6-be55-dc2e5dbac9c1",
   "metadata": {},
   "outputs": [
    {
     "name": "stdout",
     "output_type": "stream",
     "text": [
      "(n: int)\n"
     ]
    }
   ],
   "source": [
    "from inspect import signature\n",
    "print(signature(countdown))"
   ]
  },
  {
   "cell_type": "markdown",
   "id": "c3f6fe1f-9706-4eb9-a243-e4447f540d43",
   "metadata": {},
   "source": [
    "## Unwrapping a Decorator"
   ]
  },
  {
   "cell_type": "markdown",
   "id": "25c1c763-242f-43d2-a507-5c129d5d9d76",
   "metadata": {},
   "source": [
    "### Problem: A decorator has been applied to a function, but you want to \"undo\" it, gaining access to the original unwrapped function."
   ]
  },
  {
   "cell_type": "code",
   "execution_count": 17,
   "id": "f036efd0-e365-4b97-b021-590b7fd02c9b",
   "metadata": {},
   "outputs": [],
   "source": [
    "## Assuming the decorator was properly implemented using @wraps\n",
    "@timethis  # somedecorator\n",
    "def add(x, y):\n",
    "    return x + y\n",
    "\n",
    "orig_add = add.__wrapped__"
   ]
  },
  {
   "cell_type": "code",
   "execution_count": 18,
   "id": "f1dbc400-866c-4b56-b601-f411547614ed",
   "metadata": {},
   "outputs": [
    {
     "data": {
      "text/plain": [
       "7"
      ]
     },
     "execution_count": 18,
     "metadata": {},
     "output_type": "execute_result"
    }
   ],
   "source": [
    "orig_add(3, 4)"
   ]
  },
  {
   "cell_type": "markdown",
   "id": "7261d8e5-4c88-43b7-9726-e821cf33b90e",
   "metadata": {},
   "source": [
    "Gaining direct access to the unwrapped function behind a decorator can be useful for debuggin, introspection, and other operations involving functions. But it's only applicable if the decorator was implemented using the @wraps decorator."
   ]
  },
  {
   "cell_type": "markdown",
   "id": "6e9a166e-6e2d-4520-af76-5e3321ecdf1a",
   "metadata": {},
   "source": [
    "#### Multiple decorators\n",
    "```__wrapped__``` is undefined and should not be used in case of multiple decorators."
   ]
  },
  {
   "cell_type": "code",
   "execution_count": 19,
   "id": "fb158067-d4d1-4887-ab2c-85443c0a067b",
   "metadata": {},
   "outputs": [],
   "source": [
    "from functools import wraps\n",
    "\n",
    "def decorator1(func):\n",
    "    @wraps(func)\n",
    "    def wrapper(*args, **kwargs):\n",
    "        print('Decorator 1')\n",
    "        return func(*args, **kwargs)\n",
    "    return wrapper"
   ]
  },
  {
   "cell_type": "code",
   "execution_count": 20,
   "id": "ec0d039a-2da6-4c8b-a1ac-530ea4fd34bf",
   "metadata": {},
   "outputs": [],
   "source": [
    "def decorator2(func):\n",
    "    @wraps(func)\n",
    "    def wrapper(*args, **kwargs):\n",
    "        print('Decorator 2')\n",
    "        return func(*args, **kwargs)\n",
    "    return wrapper"
   ]
  },
  {
   "cell_type": "code",
   "execution_count": 21,
   "id": "42d6551d-bbef-4886-a117-0915fe3192b5",
   "metadata": {},
   "outputs": [],
   "source": [
    "@decorator1\n",
    "@decorator2\n",
    "def add(x, y):\n",
    "    return x + y"
   ]
  },
  {
   "cell_type": "code",
   "execution_count": null,
   "id": "5670afc3-0773-47f1-a0f9-a9b0e9bf0fb1",
   "metadata": {},
   "outputs": [],
   "source": []
  }
 ],
 "metadata": {
  "kernelspec": {
   "display_name": "Python 3 (ipykernel)",
   "language": "python",
   "name": "python3"
  },
  "language_info": {
   "codemirror_mode": {
    "name": "ipython",
    "version": 3
   },
   "file_extension": ".py",
   "mimetype": "text/x-python",
   "name": "python",
   "nbconvert_exporter": "python",
   "pygments_lexer": "ipython3",
   "version": "3.9.12"
  }
 },
 "nbformat": 4,
 "nbformat_minor": 5
}
