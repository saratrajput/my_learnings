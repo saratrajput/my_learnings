{
 "cells": [
  {
   "cell_type": "markdown",
   "id": "88621b7b-93ad-42a2-a423-36ec7286a102",
   "metadata": {},
   "source": [
    "# Scipy for Physicists, Engineers and Mathematicians"
   ]
  },
  {
   "cell_type": "code",
   "execution_count": 1,
   "id": "5af6cc3d-5321-4136-9fc6-570a4f5ac542",
   "metadata": {},
   "outputs": [],
   "source": [
    "import numpy as np\n",
    "import matplotlib.pyplot as plt\n",
    "import scipy as sp"
   ]
  },
  {
   "cell_type": "markdown",
   "id": "51dbc2dc-817c-4898-b7de-411214250c5f",
   "metadata": {},
   "source": [
    "## Basic"
   ]
  },
  {
   "cell_type": "code",
   "execution_count": 2,
   "id": "9f504103-75a4-4498-b3ba-5083ad47a476",
   "metadata": {},
   "outputs": [],
   "source": [
    "from scipy.optimize import minimize"
   ]
  },
  {
   "cell_type": "markdown",
   "id": "81970344-a47c-4f33-9870-4ac1710230a1",
   "metadata": {},
   "source": [
    "Minimize f(x) = (x-3)**2"
   ]
  },
  {
   "cell_type": "code",
   "execution_count": 3,
   "id": "51f26cde-8973-4195-8fae-01cb3e5d2f11",
   "metadata": {},
   "outputs": [],
   "source": [
    "def f(x):\n",
    "    return (x-3)**2\n",
    "\n",
    "res = minimize(f, 2) # Initial guess: 2"
   ]
  },
  {
   "cell_type": "code",
   "execution_count": 4,
   "id": "c42f2e8e-3710-45df-b636-5fbc6a5f0d0e",
   "metadata": {},
   "outputs": [
    {
     "data": {
      "text/plain": [
       "      fun: 5.551437397369767e-17\n",
       " hess_inv: array([[0.5]])\n",
       "      jac: array([-4.3254289e-13])\n",
       "  message: 'Optimization terminated successfully.'\n",
       "     nfev: 6\n",
       "      nit: 2\n",
       "     njev: 3\n",
       "   status: 0\n",
       "  success: True\n",
       "        x: array([2.99999999])"
      ]
     },
     "execution_count": 4,
     "metadata": {},
     "output_type": "execute_result"
    }
   ],
   "source": [
    "res"
   ]
  },
  {
   "cell_type": "code",
   "execution_count": 5,
   "id": "0e7f24c0-bde7-4429-b107-8e6b2e524fd7",
   "metadata": {},
   "outputs": [
    {
     "data": {
      "text/plain": [
       "array([2.99999999])"
      ]
     },
     "execution_count": 5,
     "metadata": {},
     "output_type": "execute_result"
    }
   ],
   "source": [
    "res.x"
   ]
  },
  {
   "cell_type": "markdown",
   "id": "f2308f66-4cf5-48df-b113-aa062e41fb5c",
   "metadata": {},
   "source": [
    "## Ex2\n"
   ]
  }
 ],
 "metadata": {
  "kernelspec": {
   "display_name": "Python 3 (ipykernel)",
   "language": "python",
   "name": "python3"
  },
  "language_info": {
   "codemirror_mode": {
    "name": "ipython",
    "version": 3
   },
   "file_extension": ".py",
   "mimetype": "text/x-python",
   "name": "python",
   "nbconvert_exporter": "python",
   "pygments_lexer": "ipython3",
   "version": "3.9.7"
  }
 },
 "nbformat": 4,
 "nbformat_minor": 5
}
