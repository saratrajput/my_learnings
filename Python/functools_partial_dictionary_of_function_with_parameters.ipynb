{
 "cells": [
  {
   "cell_type": "code",
   "execution_count": 1,
   "id": "9e647009-6eb4-4abe-b07e-f76f75ba3e40",
   "metadata": {},
   "outputs": [],
   "source": [
    "from functools import partial"
   ]
  },
  {
   "cell_type": "code",
   "execution_count": 2,
   "id": "d098f13d-e017-4eeb-83ae-b53737060257",
   "metadata": {},
   "outputs": [],
   "source": [
    "def add(num1, num2):\n",
    "    return num1 + num2"
   ]
  },
  {
   "cell_type": "code",
   "execution_count": 3,
   "id": "f3827e56-3b69-4435-bd8c-6854c769f15c",
   "metadata": {},
   "outputs": [],
   "source": [
    "def product(num1, num2):\n",
    "    return num1 * num2"
   ]
  },
  {
   "cell_type": "code",
   "execution_count": 4,
   "id": "7c8fcc6a-cc67-4397-bf16-b94d7931a7ad",
   "metadata": {},
   "outputs": [],
   "source": [
    "function_dict = {\n",
    "    'add': add,\n",
    "    'product': product,\n",
    "}"
   ]
  },
  {
   "cell_type": "code",
   "execution_count": 8,
   "id": "1cb3180f-6e8c-4342-9b4f-e8a118fb62a9",
   "metadata": {},
   "outputs": [
    {
     "data": {
      "text/plain": [
       "6"
      ]
     },
     "execution_count": 8,
     "metadata": {},
     "output_type": "execute_result"
    }
   ],
   "source": [
    "function_dict['product'](2, 3)"
   ]
  },
  {
   "cell_type": "code",
   "execution_count": 9,
   "id": "f5947063-9570-4b0c-89c8-b57cb6e9f19b",
   "metadata": {},
   "outputs": [
    {
     "data": {
      "text/plain": [
       "5"
      ]
     },
     "execution_count": 9,
     "metadata": {},
     "output_type": "execute_result"
    }
   ],
   "source": [
    "function_dict['add'](2,3)"
   ]
  },
  {
   "cell_type": "code",
   "execution_count": null,
   "id": "4f7c661b-96eb-4420-8042-9dffdf3b08f9",
   "metadata": {},
   "outputs": [],
   "source": []
  }
 ],
 "metadata": {
  "kernelspec": {
   "display_name": "Python 3 (ipykernel)",
   "language": "python",
   "name": "python3"
  },
  "language_info": {
   "codemirror_mode": {
    "name": "ipython",
    "version": 3
   },
   "file_extension": ".py",
   "mimetype": "text/x-python",
   "name": "python",
   "nbconvert_exporter": "python",
   "pygments_lexer": "ipython3",
   "version": "3.7.11"
  }
 },
 "nbformat": 4,
 "nbformat_minor": 5
}
