{
 "cells": [
  {
   "cell_type": "code",
   "execution_count": 1,
   "id": "e26345b5-b8e8-4fa7-ad50-4f425ae7205c",
   "metadata": {},
   "outputs": [],
   "source": [
    "import math"
   ]
  },
  {
   "cell_type": "code",
   "execution_count": 2,
   "id": "8497d140-32b7-4d6c-9661-31ef1c68d4a6",
   "metadata": {},
   "outputs": [],
   "source": [
    "class Circle:\n",
    "    def __init__(self, radius):\n",
    "        self.radius = radius\n",
    "        \n",
    "    def get_area(self):\n",
    "        return math.pi * self.radius * self.radius"
   ]
  },
  {
   "cell_type": "code",
   "execution_count": 3,
   "id": "624322f0-70d0-4beb-bd4a-45cd73af7833",
   "metadata": {},
   "outputs": [
    {
     "name": "stdout",
     "output_type": "stream",
     "text": [
      "A circle with radius 1 has area 3.14\n",
      "A circle with radius 3 has area 28.27\n",
      "A circle with radius 5 has area 78.54\n",
      "A circle with radius 7 has area 153.94\n",
      "A circle with radius 9 has area 254.47\n"
     ]
    }
   ],
   "source": [
    "for i in range(1, 10):\n",
    "    if (i & 1) == 0:\n",
    "        continue\n",
    "    circle = Circle(i)\n",
    "    print(\"A circle with radius {0} has area {1:0.2f}\".format(i, circle.get_area()))"
   ]
  },
  {
   "cell_type": "code",
   "execution_count": 6,
   "id": "f4b2e24e-a411-4978-850c-79fd0b532621",
   "metadata": {},
   "outputs": [
    {
     "data": {
      "text/plain": [
       "1"
      ]
     },
     "execution_count": 6,
     "metadata": {},
     "output_type": "execute_result"
    }
   ],
   "source": [
    "3&1"
   ]
  },
  {
   "cell_type": "markdown",
   "id": "371ea5b3-6e10-4454-ac93-8edcfd94f675",
   "metadata": {},
   "source": [
    "# Hello World"
   ]
  },
  {
   "cell_type": "markdown",
   "id": "62e88591-527a-4314-99bd-b82d5372a1e4",
   "metadata": {},
   "source": [
    "Genetic algorithms use random exploration of the problem space combined with evolutionary processes like mutation and crossover (exchange of genetic information) to improve guesses. But also, because they have no experience in the problem domain, they try things a human would never think to try. Thus, a person using a genetic algorithm may learn more about the problem space and potential solutions."
   ]
  },
  {
   "cell_type": "markdown",
   "id": "0a8a05a7-c11f-48e4-9ea9-afdc8bc8bfeb",
   "metadata": {},
   "source": [
    "## Guess the Password"
   ]
  },
  {
   "cell_type": "code",
   "execution_count": 23,
   "id": "8fbb8c4f-51e9-4b0e-9467-ab04812e991e",
   "metadata": {},
   "outputs": [],
   "source": [
    "gene_set = \" abcdefghijklmnopqrstuvwxyzABCDEFGHIJKLMNOPQRSTUVWXYZ!.\"\n",
    "target = \"Hellow World!\""
   ]
  },
  {
   "cell_type": "code",
   "execution_count": 9,
   "id": "d035a1ab-61f9-43be-8a55-bf051b888295",
   "metadata": {},
   "outputs": [],
   "source": [
    "import random"
   ]
  },
  {
   "cell_type": "markdown",
   "id": "2c0734e7-36a6-49d3-b9f9-199c8ee676b1",
   "metadata": {},
   "source": [
    "### Generate a guess"
   ]
  },
  {
   "cell_type": "code",
   "execution_count": 12,
   "id": "0205f78e-0f50-497a-aff9-16e88fa08972",
   "metadata": {},
   "outputs": [],
   "source": [
    "def generate_parent(length):\n",
    "    \"\"\"\n",
    "    Generate a random string from the gene set.\n",
    "    \"\"\"\n",
    "    genes = []\n",
    "    while len(genes) < length:\n",
    "        sample_size = min(length - len(genes), len(gene_set))\n",
    "        genes.extend(random.sample(gene_set, sample_size))\n",
    "    return ''.join(genes)"
   ]
  },
  {
   "cell_type": "markdown",
   "id": "5bf87672-508e-4f32-adf5-5445327c864c",
   "metadata": {},
   "source": [
    "### Fitness"
   ]
  },
  {
   "cell_type": "code",
   "execution_count": 15,
   "id": "d3e86844-8ceb-44de-85c4-743ccae85f05",
   "metadata": {},
   "outputs": [],
   "source": [
    "def get_fitness(guess):\n",
    "    \"\"\"\n",
    "    Get the total number of letters in the guess that match\n",
    "    the letter in the same position of the password.\n",
    "    \"\"\"\n",
    "    return sum(1 for expected, actual in zip(target, guess) if expected == actual)"
   ]
  },
  {
   "cell_type": "markdown",
   "id": "8c3a777e-ffce-4618-834e-605357d67f10",
   "metadata": {},
   "source": [
    "### Mutate"
   ]
  },
  {
   "cell_type": "code",
   "execution_count": 33,
   "id": "9265a502-3212-4022-bb0a-c53453e9accd",
   "metadata": {},
   "outputs": [],
   "source": [
    "def mutate(parent):\n",
    "    index = random.randrange(0, len(parent))\n",
    "    child_genes = list(parent)\n",
    "    new_gene, alternate = random.sample(gene_set, 2)\n",
    "    child_genes[index] = alternate if new_gene == child_genes[index] else new_gene\n",
    "    return ''.join(child_genes)"
   ]
  },
  {
   "cell_type": "markdown",
   "id": "27fdf0cc-f896-46b7-b536-54ba9576d0c9",
   "metadata": {},
   "source": [
    "### Display"
   ]
  },
  {
   "cell_type": "code",
   "execution_count": 34,
   "id": "fa5af352-df64-40f3-8d11-7ba95c1fcd84",
   "metadata": {},
   "outputs": [],
   "source": [
    "import datetime"
   ]
  },
  {
   "cell_type": "code",
   "execution_count": 35,
   "id": "0e9871b4-977e-49f5-a156-1457dd6cc0e3",
   "metadata": {},
   "outputs": [],
   "source": [
    "def display(guess):\n",
    "    time_diff = datetime.datetime.now() - start_time\n",
    "    fitness = get_fitness(guess)\n",
    "    print(\"{0}\\t{1}\\t{2}\".format(guess, fitness, str(time_diff)))"
   ]
  },
  {
   "cell_type": "code",
   "execution_count": 36,
   "id": "78dbf4dd-6274-4e05-8360-764ff4c31952",
   "metadata": {},
   "outputs": [],
   "source": [
    "random.seed()\n",
    "start_time = datetime.datetime.now()\n",
    "best_parent = generate_parent(len(target))"
   ]
  },
  {
   "cell_type": "code",
   "execution_count": 38,
   "id": "c1badc89-2ad6-46f7-855e-b118b15c9112",
   "metadata": {},
   "outputs": [],
   "source": [
    "best_fitness = get_fitness(best_parent)"
   ]
  },
  {
   "cell_type": "code",
   "execution_count": 40,
   "id": "2cd5c4a1-8a83-490f-8486-43844512a81b",
   "metadata": {},
   "outputs": [
    {
     "name": "stdout",
     "output_type": "stream",
     "text": [
      "SyANuiOsLIlGQ\t1\t0:00:34.276952\n"
     ]
    }
   ],
   "source": [
    "display(best_parent)"
   ]
  },
  {
   "cell_type": "code",
   "execution_count": 45,
   "id": "c3369cf8-2221-4084-b45b-655e56792a54",
   "metadata": {},
   "outputs": [
    {
     "name": "stdout",
     "output_type": "stream",
     "text": [
      "SeANuiOsLIlGQ\t2\t0:03:34.157241\n",
      "SeANui sLIlGQ\t3\t0:03:34.158493\n",
      "SeAlui sLIlGQ\t4\t0:03:34.158899\n",
      "SeAlui sLrlGQ\t5\t0:03:34.160521\n",
      "SeAlui sLrldQ\t6\t0:03:34.162829\n",
      "SeAlui sorldQ\t7\t0:03:34.164018\n",
      "SeAlui sorld!\t8\t0:03:34.165673\n",
      "SeAluw sorld!\t9\t0:03:34.167734\n",
      "SeAlow sorld!\t10\t0:03:34.178134\n",
      "Sellow sorld!\t11\t0:03:34.178647\n",
      "Sellow World!\t12\t0:03:34.178915\n",
      "Hellow World!\t13\t0:03:34.184694\n"
     ]
    }
   ],
   "source": [
    "while True:\n",
    "    child = mutate(best_parent)\n",
    "    child_fitness = get_fitness(child)\n",
    "    \n",
    "    if best_fitness >= child_fitness:\n",
    "        continue\n",
    "    display(child)\n",
    "    \n",
    "    if child_fitness >= len(best_parent):\n",
    "        break\n",
    "    \n",
    "    best_fitness = child_fitness\n",
    "    best_parent = child"
   ]
  },
  {
   "cell_type": "markdown",
   "id": "bbc5beda-0836-4764-ad34-c67ceccccb6c",
   "metadata": {},
   "source": [
    "### Use the genetic module"
   ]
  },
  {
   "cell_type": "code",
   "execution_count": 50,
   "id": "cf4001c4-a55b-4173-98cf-67884b87f76e",
   "metadata": {},
   "outputs": [],
   "source": [
    "import datetime\n",
    "import genetic\n",
    "\n",
    "def test_Hello_World():\n",
    "    target = \"Hello World!\"\n",
    "    guess_password(target)\n",
    "    \n",
    "    \n",
    "def guess_password(target):\n",
    "    gene_set = \" abcdefghijklmnopqrstuvwxyzABCDEFGHIJKLMNOPQRSTUVWXYZ!.\"\n",
    "    start_time = datetime.datetime.now()\n",
    "    \n",
    "    def fn_get_fitness(genes):\n",
    "        return get_fitness(genes, target)\n",
    "    \n",
    "    def fn_display(genes):\n",
    "        display(genes, target, start_time)\n",
    "        \n",
    "    optimal_fitness = len(target)\n",
    "    genetic.get_best(fn_get_fitness, len(target), optimal_fitness, gene_set, fn_display)\n",
    "\n",
    "def display(genes, target, start_time):\n",
    "    time_diff = datetime.datetime.now() - start_time\n",
    "    fitness = get_fitness(genes, target)\n",
    "    print(\"{0}\\t{1}\\t{2}\".format(genes, fitness, str(time_diff)))\n",
    "\n",
    "def get_fitness(genes, target):\n",
    "    return sum(1 for expected, actual in zip(target, genes) if expected == actual)"
   ]
  },
  {
   "cell_type": "markdown",
   "id": "d7ac6088-4d28-4c40-a5c1-8b60468e2374",
   "metadata": {},
   "source": [
    "## Introduce a Chromosome object"
   ]
  },
  {
   "cell_type": "code",
   "execution_count": null,
   "id": "75d33ffc-8beb-49ee-a8a8-55d69b17f13a",
   "metadata": {},
   "outputs": [],
   "source": [
    "class Chromosome:\n",
    "    Genes = None\n",
    "    Fitness = None\n",
    "    \n",
    "    def __init__(self, genes, fitness):\n",
    "        self.genes = genes\n",
    "        self.fitness = fitness"
   ]
  }
 ],
 "metadata": {
  "kernelspec": {
   "display_name": "Python 3 (ipykernel)",
   "language": "python",
   "name": "python3"
  },
  "language_info": {
   "codemirror_mode": {
    "name": "ipython",
    "version": 3
   },
   "file_extension": ".py",
   "mimetype": "text/x-python",
   "name": "python",
   "nbconvert_exporter": "python",
   "pygments_lexer": "ipython3",
   "version": "3.9.7"
  }
 },
 "nbformat": 4,
 "nbformat_minor": 5
}
