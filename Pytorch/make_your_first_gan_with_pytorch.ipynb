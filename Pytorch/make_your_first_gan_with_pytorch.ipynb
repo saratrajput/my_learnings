{
 "cells": [
  {
   "cell_type": "markdown",
   "id": "ab15c704-81ea-4e63-a4ce-9c9e3220c861",
   "metadata": {},
   "source": [
    "# Make Your First GAN with PyTorch"
   ]
  },
  {
   "cell_type": "markdown",
   "id": "9af55bf7-0582-4e86-a7c7-ba9ed266c53e",
   "metadata": {},
   "source": [
    "## PyTorch Basics"
   ]
  },
  {
   "cell_type": "code",
   "execution_count": 1,
   "id": "c86df855-5a62-4fa1-a6c8-b539d6d9447e",
   "metadata": {},
   "outputs": [],
   "source": [
    "import torch"
   ]
  },
  {
   "cell_type": "code",
   "execution_count": 2,
   "id": "0d88f403-6934-4827-8fea-d521aa2b7aa2",
   "metadata": {},
   "outputs": [
    {
     "name": "stdout",
     "output_type": "stream",
     "text": [
      "3.5 14.25\n"
     ]
    }
   ],
   "source": [
    "# normal python variables\n",
    "x = 3.5\n",
    "y = x*x + 2\n",
    "print(x, y)"
   ]
  },
  {
   "cell_type": "code",
   "execution_count": 3,
   "id": "1bbf55bf-80d4-46a3-94d5-038b27a23da9",
   "metadata": {},
   "outputs": [],
   "source": [
    "# simple pytorch tensor\n",
    "x = torch.tensor(3.5)"
   ]
  },
  {
   "cell_type": "code",
   "execution_count": 4,
   "id": "cee359c7-d8eb-45c4-8ad7-53c9594972e1",
   "metadata": {},
   "outputs": [
    {
     "name": "stdout",
     "output_type": "stream",
     "text": [
      "tensor(3.5000)\n"
     ]
    }
   ],
   "source": [
    "print(x)"
   ]
  },
  {
   "cell_type": "code",
   "execution_count": 5,
   "id": "19c3cddd-db78-4ad5-aa76-012abf60f5a1",
   "metadata": {},
   "outputs": [
    {
     "name": "stdout",
     "output_type": "stream",
     "text": [
      "tensor(6.5000)\n"
     ]
    }
   ],
   "source": [
    "# Simple arithmetic with tensors\n",
    "y = x + 3\n",
    "print(y)"
   ]
  },
  {
   "cell_type": "code",
   "execution_count": 6,
   "id": "68e202cf-a708-4e93-8f0a-522a3a51eb51",
   "metadata": {},
   "outputs": [],
   "source": [
    "# Pytorch tensor\n",
    "x = torch.tensor(3.5, requires_grad=True)"
   ]
  },
  {
   "cell_type": "code",
   "execution_count": 7,
   "id": "c3b86935-9ef0-4b23-a216-2dbf80e46bdb",
   "metadata": {},
   "outputs": [
    {
     "name": "stdout",
     "output_type": "stream",
     "text": [
      "tensor(3.5000, requires_grad=True)\n"
     ]
    }
   ],
   "source": [
    "print(x)"
   ]
  },
  {
   "cell_type": "code",
   "execution_count": 8,
   "id": "06214e1a-179f-4cde-aacd-b7ff6517e7f3",
   "metadata": {},
   "outputs": [
    {
     "name": "stdout",
     "output_type": "stream",
     "text": [
      "tensor(1.8750, grad_fn=<MulBackward0>)\n"
     ]
    }
   ],
   "source": [
    "# y is defined as a function of x\n",
    "y = (x-1) * (x-2) * (x-3)\n",
    "print(y)"
   ]
  },
  {
   "cell_type": "markdown",
   "id": "3ef49061-7a8d-45c3-ae8a-a973e8ea381c",
   "metadata": {},
   "source": [
    "PyTorch remembers that y came from x."
   ]
  },
  {
   "cell_type": "code",
   "execution_count": 9,
   "id": "57a96057-993a-48d2-b842-d34a6453ed49",
   "metadata": {},
   "outputs": [],
   "source": [
    "# Work out gradients\n",
    "y.backward()"
   ]
  },
  {
   "cell_type": "code",
   "execution_count": 10,
   "id": "d1cfd4a1-5dad-4383-b773-6ecbcdf1d691",
   "metadata": {},
   "outputs": [
    {
     "data": {
      "text/plain": [
       "tensor(5.7500)"
      ]
     },
     "execution_count": 10,
     "metadata": {},
     "output_type": "execute_result"
    }
   ],
   "source": [
    "# What is gradient at x = 3.5\n",
    "x.grad"
   ]
  },
  {
   "cell_type": "markdown",
   "id": "4de571dc-51fe-4e8a-a4a8-6a7ef229bf04",
   "metadata": {},
   "source": [
    "### Computation Graphs"
   ]
  },
  {
   "cell_type": "code",
   "execution_count": null,
   "id": "95803751-03d0-4fdd-ad89-c21961f6d0d9",
   "metadata": {},
   "outputs": [],
   "source": []
  }
 ],
 "metadata": {
  "kernelspec": {
   "display_name": "Python 3 (ipykernel)",
   "language": "python",
   "name": "python3"
  },
  "language_info": {
   "codemirror_mode": {
    "name": "ipython",
    "version": 3
   },
   "file_extension": ".py",
   "mimetype": "text/x-python",
   "name": "python",
   "nbconvert_exporter": "python",
   "pygments_lexer": "ipython3",
   "version": "3.9.12"
  }
 },
 "nbformat": 4,
 "nbformat_minor": 5
}
