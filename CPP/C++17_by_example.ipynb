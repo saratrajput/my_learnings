{
 "cells": [
  {
   "cell_type": "markdown",
   "id": "61350c3a-a2ec-405a-b6ab-1ae7689310cc",
   "metadata": {},
   "source": [
    "# C++ STL by Example\n",
    "https://www.youtube.com/watch?v=6Gyl5wi3yi4&list=PLZ9NgFYEMxp5oH3mrr4IlFBn03rjS-gN1&index=2"
   ]
  },
  {
   "cell_type": "markdown",
   "id": "ed6a8eb5-fc52-4d94-ad56-274a018c1bb4",
   "metadata": {
    "tags": []
   },
   "source": [
    "## 2.2 Function Templates"
   ]
  },
  {
   "cell_type": "markdown",
   "id": "4b6317bc-f813-41e8-8467-8827ac4734ac",
   "metadata": {},
   "source": [
    "### 2.2 a"
   ]
  },
  {
   "cell_type": "code",
   "execution_count": 12,
   "id": "80125cf8-a97f-408b-9a7e-7cfa4224f330",
   "metadata": {},
   "outputs": [],
   "source": [
    "#include <iostream>"
   ]
  },
  {
   "cell_type": "code",
   "execution_count": 13,
   "id": "9fdd567f-6840-4cca-8d6e-45a8b4cf0eb0",
   "metadata": {},
   "outputs": [],
   "source": [
    "int plus(int a, int b)\n",
    "{\n",
    "    return a + b;\n",
    "}"
   ]
  },
  {
   "cell_type": "code",
   "execution_count": 14,
   "id": "13c7334f-0023-48ac-a92e-c7181b313d78",
   "metadata": {},
   "outputs": [],
   "source": [
    "long plus(long a, long b)\n",
    "{\n",
    "    return a + b;\n",
    "}"
   ]
  },
  {
   "cell_type": "code",
   "execution_count": 15,
   "id": "54edd85c-33dd-4c61-8f7d-3d52ce0f9239",
   "metadata": {},
   "outputs": [],
   "source": [
    "double plus(double a, double b)\n",
    "{\n",
    "    return a + b;\n",
    "}"
   ]
  },
  {
   "cell_type": "code",
   "execution_count": 17,
   "id": "17c6695a-b1fe-4773-bbe8-7d50872ea098",
   "metadata": {},
   "outputs": [],
   "source": [
    "template <typename T>\n",
    "T add(T a, T b)\n",
    "{\n",
    "    return a + b;\n",
    "}"
   ]
  },
  {
   "cell_type": "code",
   "execution_count": 18,
   "id": "4b07ff84-60f4-4327-b102-137ad3b52e7c",
   "metadata": {},
   "outputs": [],
   "source": [
    "int i =5, j = 6;"
   ]
  },
  {
   "cell_type": "code",
   "execution_count": 19,
   "id": "af6a7874-358e-49c7-8852-03a867eb32f4",
   "metadata": {},
   "outputs": [],
   "source": [
    "long l = 10, m = 5;"
   ]
  },
  {
   "cell_type": "code",
   "execution_count": 20,
   "id": "55d35e6c-1148-4300-8e45-a6b002f61a1b",
   "metadata": {},
   "outputs": [],
   "source": [
    "double a = 10.5, b = 5.5;"
   ]
  },
  {
   "cell_type": "code",
   "execution_count": 21,
   "id": "679d80b5-fbf4-42c9-9b95-3db846a3b07a",
   "metadata": {},
   "outputs": [],
   "source": [
    "int k = plus(i, j);\n",
    "long n = plus(l, m);\n",
    "double d = plus(a, b);"
   ]
  },
  {
   "cell_type": "code",
   "execution_count": 23,
   "id": "4acafeb1-8afa-48be-be8b-6bb34f4dde63",
   "metadata": {},
   "outputs": [
    {
     "name": "stdout",
     "output_type": "stream",
     "text": [
      "11\n",
      "15\n",
      "16\n"
     ]
    }
   ],
   "source": [
    "std::cout << k << std::endl;\n",
    "std::cout << n << std::endl;\n",
    "std::cout << d << std::endl;"
   ]
  },
  {
   "cell_type": "code",
   "execution_count": 24,
   "id": "37c3eeb3-698d-4674-8d4d-8899096ad744",
   "metadata": {},
   "outputs": [],
   "source": [
    "// Use explicit template types.\n",
    "k = add<int> (i, j);\n",
    "n = add<long> (l, m);\n",
    "d = add<double> (a, b);"
   ]
  },
  {
   "cell_type": "code",
   "execution_count": 25,
   "id": "f619c287-9353-4c0e-b35c-170cf82b06ec",
   "metadata": {},
   "outputs": [
    {
     "name": "stdout",
     "output_type": "stream",
     "text": [
      "11\n",
      "15\n",
      "16\n"
     ]
    }
   ],
   "source": [
    "std::cout << k << std::endl;\n",
    "std::cout << n << std::endl;\n",
    "std::cout << d << std::endl;"
   ]
  },
  {
   "cell_type": "markdown",
   "id": "ccd8f3b6-2008-4f4d-bb7f-deaf8a42177a",
   "metadata": {},
   "source": [
    "### 2.2 b"
   ]
  },
  {
   "cell_type": "code",
   "execution_count": 26,
   "id": "3e2323bb-0107-49d7-bbe6-a884450fe1e0",
   "metadata": {},
   "outputs": [],
   "source": [
    "#include <iostream>"
   ]
  },
  {
   "cell_type": "code",
   "execution_count": 27,
   "id": "42e2296f-e26f-4318-a71d-d54615328e63",
   "metadata": {},
   "outputs": [],
   "source": [
    "template <typename T>\n",
    "T add(T a, T b)\n",
    "{\n",
    "    return a + b;\n",
    "}"
   ]
  },
  {
   "cell_type": "code",
   "execution_count": 28,
   "id": "c0189535-b484-4803-8ad8-a00108cf13f7",
   "metadata": {},
   "outputs": [],
   "source": [
    "int i = 5, j = 6;\n",
    "long l = 10, m = 5;\n",
    "\n",
    "int k = add(i, j);\n",
    "long n = add(l, m);\n",
    "double d = add(10.5, 16.7);"
   ]
  },
  {
   "cell_type": "code",
   "execution_count": 29,
   "id": "8c75b56d-8d69-4bfb-a86b-548e92c36e04",
   "metadata": {},
   "outputs": [
    {
     "name": "stdout",
     "output_type": "stream",
     "text": [
      "11\n",
      "15\n",
      "27.2\n"
     ]
    }
   ],
   "source": [
    "std::cout << k << std::endl;\n",
    "std::cout << n << std::endl;\n",
    "std::cout << d << std::endl;"
   ]
  },
  {
   "cell_type": "markdown",
   "id": "a27ff632-2a7d-46bf-bc97-465a2aab9cc7",
   "metadata": {},
   "source": [
    "### 2.2 c"
   ]
  },
  {
   "cell_type": "code",
   "execution_count": 30,
   "id": "4218e7a7-3024-4c7d-a4a3-a562f4ad543b",
   "metadata": {},
   "outputs": [],
   "source": [
    "#include <iostream>"
   ]
  },
  {
   "cell_type": "code",
   "execution_count": 32,
   "id": "90c38c40-0be6-46ec-9732-78d3d3c68329",
   "metadata": {},
   "outputs": [],
   "source": [
    "template <typename R, typename T, typename U>\n",
    "R max(T a, U b)\n",
    "{\n",
    "    return a < b ? b : a;\n",
    "}"
   ]
  },
  {
   "cell_type": "code",
   "execution_count": 33,
   "id": "6e23d0ab-0111-4e4a-8ec0-184dc9910ad3",
   "metadata": {},
   "outputs": [],
   "source": [
    "// Must provide return datatype\n",
    "auto d = max<double>(5.5, 2);"
   ]
  },
  {
   "cell_type": "code",
   "execution_count": 42,
   "id": "74a66566-076d-4111-bb45-b353ae8c2d7b",
   "metadata": {},
   "outputs": [],
   "source": [
    "// Can provide all datatypes (though int is optional).\n",
    "int i = max<int, char, char>('a', 'b');"
   ]
  },
  {
   "cell_type": "code",
   "execution_count": 43,
   "id": "ebdd7abe-3f18-4e05-beaa-00464d4e7c56",
   "metadata": {},
   "outputs": [
    {
     "name": "stdout",
     "output_type": "stream",
     "text": [
      "5.5\n",
      "98\n"
     ]
    }
   ],
   "source": [
    "std::cout << d << std::endl;\n",
    "std::cout << i << std::endl;"
   ]
  },
  {
   "cell_type": "code",
   "execution_count": 44,
   "id": "777322a6-fbcb-4a3c-ab2e-0623b03d3479",
   "metadata": {},
   "outputs": [],
   "source": [
    "// Can provide all datatypes (though int is optional).\n",
    "char i = max<char, char, char>('a', 'b');"
   ]
  },
  {
   "cell_type": "code",
   "execution_count": 45,
   "id": "5bdf0030-1387-4e99-8452-b2292f4b51c1",
   "metadata": {},
   "outputs": [
    {
     "name": "stdout",
     "output_type": "stream",
     "text": [
      "5.5\n",
      "b\n"
     ]
    }
   ],
   "source": [
    "std::cout << d << std::endl;\n",
    "std::cout << i << std::endl;"
   ]
  },
  {
   "cell_type": "markdown",
   "id": "975ef347-4f4c-435d-8975-d5da61963dcd",
   "metadata": {},
   "source": [
    "### 2.2 d"
   ]
  },
  {
   "cell_type": "code",
   "execution_count": 46,
   "id": "7cff40ec-09bf-4466-afdf-5c9beee2db9f",
   "metadata": {},
   "outputs": [],
   "source": [
    "#include <iostream>"
   ]
  },
  {
   "cell_type": "code",
   "execution_count": 65,
   "id": "84eff703-8258-42d5-8238-9958b49b0106",
   "metadata": {},
   "outputs": [],
   "source": [
    "template<typename T>\n",
    "void f(T x, T y)\n",
    "{\n",
    "    std::cout << \"Template\" << std::endl;\n",
    "};\n",
    "\n",
    "// An over-loaded non-template function.\n",
    "void f(int w, int z)\n",
    "{\n",
    "    std::cout << \"Non-template\" << std::endl;\n",
    "};"
   ]
  },
  {
   "cell_type": "code",
   "execution_count": 66,
   "id": "f14811dd-0536-42d1-a309-228ceb0811bd",
   "metadata": {},
   "outputs": [
    {
     "name": "stdout",
     "output_type": "stream",
     "text": [
      "Non-template\n",
      "Non-template\n",
      "Non-template\n"
     ]
    }
   ],
   "source": [
    "// This example demonstrates the use of template functions and non-template functions.\n",
    "f(1, 2);\n",
    "f('a', 'b');\n",
    "f(1, 'b');"
   ]
  },
  {
   "cell_type": "markdown",
   "id": "b723b912-45a9-416a-958c-895c016516c5",
   "metadata": {},
   "source": [
    "The original answer with a compiler is supposed to be:\n",
    "```\n",
    "Non-template\n",
    "Template\n",
    "Non-template\n",
    "```"
   ]
  },
  {
   "cell_type": "markdown",
   "id": "a3444faf-7bc6-4d65-a2fa-5c16404da6f1",
   "metadata": {},
   "source": [
    "This is because the template function does not do type promotion for the second example."
   ]
  },
  {
   "cell_type": "markdown",
   "id": "a40f54bf-74e8-436e-8f88-40eb1014626b",
   "metadata": {},
   "source": [
    "### 2.2 e"
   ]
  },
  {
   "cell_type": "code",
   "execution_count": 77,
   "id": "d67bd775-ba7d-4d28-b02d-d28e28ccffbd",
   "metadata": {},
   "outputs": [],
   "source": [
    "// min.h"
   ]
  },
  {
   "cell_type": "code",
   "execution_count": 67,
   "id": "8f24ad13-e892-403d-bb75-7158c7fd8c50",
   "metadata": {},
   "outputs": [],
   "source": [
    "#include <type_traits>"
   ]
  },
  {
   "cell_type": "code",
   "execution_count": 68,
   "id": "5ca765d6-6407-4fcf-b162-d57f3c00ced4",
   "metadata": {},
   "outputs": [],
   "source": [
    "template <typename T>\n",
    "T min(T p1, T p2)\n",
    "{\n",
    "    if (p1 < p2)\n",
    "        return p1;\n",
    "    else\n",
    "        return p2;\n",
    "    // Could also use\n",
    "    // return p1 < p2 ? p1 : p2;\n",
    "}"
   ]
  },
  {
   "cell_type": "code",
   "execution_count": 69,
   "id": "9b5fcbcc-9011-4b3c-8012-bd13a14061ba",
   "metadata": {},
   "outputs": [],
   "source": [
    "template <typename T>\n",
    "T min(T p1, T p2, T p3)\n",
    "{\n",
    "    if (min (p1, p2) < p3)  // Notice this calls the function.\n",
    "        return min(p1, p2);  // So does this line.\n",
    "    else\n",
    "        return p3;\n",
    "}"
   ]
  },
  {
   "cell_type": "code",
   "execution_count": 70,
   "id": "3e66e866-88e7-40d7-98cb-408cb82a6483",
   "metadata": {},
   "outputs": [],
   "source": [
    "/**\n",
    "* A generic function that finds minimum of two values and whose return\n",
    "* type is type of variable that has the higher precision.\n",
    "*/"
   ]
  },
  {
   "cell_type": "code",
   "execution_count": 75,
   "id": "80a90d26-1f91-4ff7-807a-3eb5b2af60d3",
   "metadata": {},
   "outputs": [],
   "source": [
    "template <typename A, typename B>\n",
    "auto min_ex(A a, B b) ->\n",
    "    typename std::remove_reference<decltype(a < b ? a : b)>::type {\n",
    "    return a < b ? a : b;\n",
    "}"
   ]
  },
  {
   "cell_type": "code",
   "execution_count": 76,
   "id": "e68005d9-cca8-4c9f-950c-81113ec3f6d4",
   "metadata": {},
   "outputs": [],
   "source": [
    "// main"
   ]
  },
  {
   "cell_type": "code",
   "execution_count": 78,
   "id": "46860d00-413c-4a30-b057-44832fad61ff",
   "metadata": {},
   "outputs": [],
   "source": [
    "#include <iostream>"
   ]
  },
  {
   "cell_type": "code",
   "execution_count": 79,
   "id": "2392a3d3-e6a4-4e4c-a8bb-a47e6555b5ef",
   "metadata": {},
   "outputs": [
    {
     "name": "stdout",
     "output_type": "stream",
     "text": [
      "Minimum of integers: 6\n"
     ]
    }
   ],
   "source": [
    "auto i = min(9, 6);\n",
    "std::cout << \"Minimum of integers: \" << i << std::endl;"
   ]
  },
  {
   "cell_type": "code",
   "execution_count": 80,
   "id": "e66ad0bf-4b10-4996-83aa-1e33dfccba6e",
   "metadata": {},
   "outputs": [
    {
     "name": "stdout",
     "output_type": "stream",
     "text": [
      "Minimum of doubles: 10.5\n"
     ]
    }
   ],
   "source": [
    "auto d = min(10.5, 11.3);\n",
    "std::cout << \"Minimum of doubles: \" << d << std::endl;"
   ]
  },
  {
   "cell_type": "code",
   "execution_count": 81,
   "id": "31975039-794e-4328-a463-333225a1b851",
   "metadata": {},
   "outputs": [
    {
     "name": "stderr",
     "output_type": "stream",
     "text": [
      "\u001b[1minput_line_87:3:5: \u001b[0m\u001b[0;1;31merror: \u001b[0m\u001b[1mno matching function for call to 'min'\u001b[0m\n",
      "d = min(10, 11.3);\n",
      "\u001b[0;1;32m    ^~~\n",
      "\u001b[0m\u001b[1minput_line_74:2:3: \u001b[0m\u001b[0;1;30mnote: \u001b[0mcandidate template ignored: deduced conflicting types for parameter 'T' ('int' vs. 'double')\u001b[0m\n",
      "T min(T p1, T p2)\n",
      "\u001b[0;1;32m  ^\n",
      "\u001b[0m\u001b[1minput_line_75:2:3: \u001b[0m\u001b[0;1;30mnote: \u001b[0mcandidate function template not viable: requires 3 arguments, but 2 were provided\u001b[0m\n",
      "T min(T p1, T p2, T p3)\n",
      "\u001b[0;1;32m  ^\n",
      "\u001b[0m"
     ]
    },
    {
     "ename": "Interpreter Error",
     "evalue": "",
     "output_type": "error",
     "traceback": [
      "Interpreter Error: "
     ]
    }
   ],
   "source": [
    "// Compile error since implicit cast not acceptable for templates.\n",
    "d = min(10, 11.3);"
   ]
  },
  {
   "cell_type": "code",
   "execution_count": 82,
   "id": "425a0c82-f651-417f-a8c3-bc8683697bcf",
   "metadata": {},
   "outputs": [
    {
     "name": "stdout",
     "output_type": "stream",
     "text": [
      "Minimum of Double: 10\n"
     ]
    }
   ],
   "source": [
    "// Function template will accept an explicit cast though.\n",
    "d = min<double>(10, 11.3);\n",
    "std::cout << \"Minimum of Double: \" << d << std::endl;"
   ]
  },
  {
   "cell_type": "code",
   "execution_count": 83,
   "id": "2f1bf3da-c706-4b81-a19a-7d56a40a05d0",
   "metadata": {},
   "outputs": [
    {
     "name": "stdout",
     "output_type": "stream",
     "text": [
      "Minimum of d: 10\n"
     ]
    }
   ],
   "source": [
    "// Can use type deduction to define the type.\n",
    "auto e = min_ex(10, 11.3);\n",
    "std::cout << \"Minimum of \" << typeid(e).name() << \": \" << e << std::endl;"
   ]
  },
  {
   "cell_type": "code",
   "execution_count": 84,
   "id": "a5e7675a-428e-42dd-8ea0-bf1f28dd5169",
   "metadata": {},
   "outputs": [
    {
     "name": "stdout",
     "output_type": "stream",
     "text": [
      "Minimum int 3 parameters: 3\n"
     ]
    }
   ],
   "source": [
    "// 3 arguments to work to call the overloaded function template.\n",
    "i = min(3, 6, 4);\n",
    "std::cout << \"Minimum int 3 parameters: \" << i << std::endl;"
   ]
  },
  {
   "cell_type": "markdown",
   "id": "52e9ad6b-8d91-4f6a-a49e-b5a93096ef81",
   "metadata": {},
   "source": [
    "## 2.3 Class Templates"
   ]
  },
  {
   "cell_type": "markdown",
   "id": "0705d3fd-e4e1-4a8a-a9f6-4b0c810f1773",
   "metadata": {},
   "source": [
    "### 2.3 a"
   ]
  },
  {
   "cell_type": "code",
   "execution_count": 85,
   "id": "2561d3ce-2242-4cf2-bb91-dbd360f6d135",
   "metadata": {},
   "outputs": [],
   "source": [
    "// simple_string.h"
   ]
  },
  {
   "cell_type": "code",
   "execution_count": 86,
   "id": "74fdfd9f-cf76-4f75-adfb-d3bf718e979a",
   "metadata": {},
   "outputs": [],
   "source": [
    "class simple_string\n",
    "{\n",
    "    public:\n",
    "        simple_string();\n",
    "\n",
    "        simple_string(const char *s);\n",
    "\n",
    "        simple_string(const simple_string &rhs) noexcept;\n",
    "\n",
    "        simple_string(simple_string &&rhs) noexcept;\n",
    "\n",
    "        simple_string &operator=(const simple_string &rhs) noexcept;\n",
    "\n",
    "        simple_string &operator=(simple_string &&rhs) noexcept;\n",
    "\n",
    "        void swap(simple_string &rhs) noexcept;\n",
    "\n",
    "        char &operator[](size_t index);\n",
    "\n",
    "        const char &operator[](size_t index) const;\n",
    "\n",
    "        bool operator<(const simple_string &rhs) const;\n",
    "\n",
    "        size_t length() const;\n",
    "\n",
    "        explicit operator const char *() const;\n",
    "\n",
    "        ~simple_string();\n",
    "    \n",
    "    private:\n",
    "        size_t len_;\n",
    "\n",
    "        char *str_;\n",
    "\n",
    "        char *strnew(const char *s);\n",
    "};"
   ]
  },
  {
   "cell_type": "code",
   "execution_count": 102,
   "id": "fe9561aa-84a0-4fe0-8512-c7d256c33553",
   "metadata": {},
   "outputs": [],
   "source": [
    "std::ostream &operator<<(std::ostream &os, const simple_string &string);"
   ]
  },
  {
   "cell_type": "code",
   "execution_count": 88,
   "id": "b1123fac-0668-4e9d-abc3-b6dc150a1724",
   "metadata": {},
   "outputs": [],
   "source": [
    "// simple_string.cpp"
   ]
  },
  {
   "cell_type": "code",
   "execution_count": 103,
   "id": "be6eb40e-2c31-4934-a771-ad5c2172394b",
   "metadata": {},
   "outputs": [],
   "source": [
    "#include <iostream>\n",
    "#include <cstring>"
   ]
  },
  {
   "cell_type": "code",
   "execution_count": 107,
   "id": "fefb1447-742c-4435-95f5-5f2408bb3cc3",
   "metadata": {},
   "outputs": [],
   "source": [
    "std::ostream & operator<<(std::ostream &os, const simple_string &string);\n",
    "// {\n",
    "//     return os << (const char *) string;\n",
    "// }"
   ]
  },
  {
   "cell_type": "code",
   "execution_count": null,
   "id": "d2949f08-2622-42cf-9050-2991ce1c18f1",
   "metadata": {},
   "outputs": [],
   "source": []
  }
 ],
 "metadata": {
  "kernelspec": {
   "display_name": "C++11",
   "language": "C++11",
   "name": "xcpp11"
  },
  "language_info": {
   "codemirror_mode": "text/x-c++src",
   "file_extension": ".cpp",
   "mimetype": "text/x-c++src",
   "name": "c++",
   "version": "11"
  }
 },
 "nbformat": 4,
 "nbformat_minor": 5
}
