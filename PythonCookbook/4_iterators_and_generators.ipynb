{
 "cells": [
  {
   "cell_type": "markdown",
   "id": "5981ece8-0e2a-46c4-b892-8c7ca7424deb",
   "metadata": {},
   "source": [
    "### Problem\n",
    "You need to process items in an iterable, but for whatever reason, you can't or don't want to use a for loop."
   ]
  },
  {
   "cell_type": "code",
   "execution_count": 2,
   "id": "4ecf398b-4f95-4904-8acf-23fc8d795e62",
   "metadata": {},
   "outputs": [
    {
     "name": "stdout",
     "output_type": "stream",
     "text": [
      "hello\n",
      "12312312\n",
      "13343\n",
      "12343\n"
     ]
    }
   ],
   "source": [
    "# Use the next() function and StopIteration exception\n",
    "with open('etc/passwd') as f:\n",
    "    try:\n",
    "        while True:\n",
    "            line = next(f)\n",
    "            print(line, end='')\n",
    "    except StopIteration:\n",
    "        pass"
   ]
  },
  {
   "cell_type": "code",
   "execution_count": 3,
   "id": "5d8cb2bb-73cd-41f8-99fe-606867498aea",
   "metadata": {},
   "outputs": [
    {
     "name": "stdout",
     "output_type": "stream",
     "text": [
      "hello\n",
      "12312312\n",
      "13343\n",
      "12343\n"
     ]
    }
   ],
   "source": [
    "with open('etc/passwd') as f:\n",
    "    while True:\n",
    "        line = next(f, None)\n",
    "        if line is None:\n",
    "            break\n",
    "        print(line, end='')"
   ]
  },
  {
   "cell_type": "code",
   "execution_count": null,
   "id": "de0d4159-8446-4c98-a455-87b140965138",
   "metadata": {},
   "outputs": [],
   "source": []
  }
 ],
 "metadata": {
  "kernelspec": {
   "display_name": "Python 3 (ipykernel)",
   "language": "python",
   "name": "python3"
  },
  "language_info": {
   "codemirror_mode": {
    "name": "ipython",
    "version": 3
   },
   "file_extension": ".py",
   "mimetype": "text/x-python",
   "name": "python",
   "nbconvert_exporter": "python",
   "pygments_lexer": "ipython3",
   "version": "3.9.7"
  }
 },
 "nbformat": 4,
 "nbformat_minor": 5
}
