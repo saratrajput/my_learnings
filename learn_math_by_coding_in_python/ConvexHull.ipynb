{
 "cells": [
  {
   "cell_type": "markdown",
   "id": "552ff023-52dc-4c48-807b-7be6163a4c66",
   "metadata": {},
   "source": [
    "# Convex Hull Algorithm - Graham Scan and Jarvis March\n",
    "https://www.youtube.com/watch?v=B2AJoQSZf4M"
   ]
  },
  {
   "cell_type": "code",
   "execution_count": 1,
   "id": "08794814-322d-4344-accc-9effa52a3e0e",
   "metadata": {},
   "outputs": [],
   "source": [
    "import matplotlib.pyplot as plt"
   ]
  },
  {
   "cell_type": "code",
   "execution_count": 46,
   "id": "8398a0db-cf37-4b7c-a327-0b66eeb931d8",
   "metadata": {},
   "outputs": [],
   "source": [
    "points = [(1, 2), (3, 3), (3, 1), (4, 5)]"
   ]
  },
  {
   "cell_type": "code",
   "execution_count": 34,
   "id": "dd9e4660-f0da-45ac-9d76-e2a768f19e79",
   "metadata": {},
   "outputs": [
    {
     "data": {
      "image/png": "[encoded data removed]",
      "text/plain": [
       "<Figure size 432x288 with 1 Axes>"
      ]
     },
     "metadata": {
      "needs_background": "light"
     },
     "output_type": "display_data"
    }
   ],
   "source": [
    "x, y = zip(*points)\n",
    "plt.plot(x, y, '*')\n",
    "plt.show()"
   ]
  },
  {
   "cell_type": "markdown",
   "id": "4ae73323-352d-42ae-9b97-1e3999172a1a",
   "metadata": {},
   "source": [
    "* Convex Hull is a polygon that encloses all of the points.\n",
    "* The vertices maximize the area while minimizing the circumference."
   ]
  },
  {
   "cell_type": "markdown",
   "id": "97cf5e0b-3711-4ac0-b1b7-e925136fa1a8",
   "metadata": {},
   "source": [
    "### Graham scan algorithm\n",
    "* Select the point with the lowest Y coordinate. (By convention)."
   ]
  },
  {
   "cell_type": "code",
   "execution_count": 67,
   "id": "087505c6-5938-4709-aacf-1ac4862cb532",
   "metadata": {},
   "outputs": [],
   "source": [
    "# Sort by the second element in the tuple.\n",
    "points_sorted_by_y = sorted(points, key=lambda i: i[1])"
   ]
  },
  {
   "cell_type": "code",
   "execution_count": 68,
   "id": "a447b823-e2c4-4527-bd6f-249b3380efa5",
   "metadata": {},
   "outputs": [
    {
     "data": {
      "text/plain": [
       "[(1, 2), (3, 3), (3, 1), (4, 5)]"
      ]
     },
     "execution_count": 68,
     "metadata": {},
     "output_type": "execute_result"
    }
   ],
   "source": [
    "points"
   ]
  },
  {
   "cell_type": "code",
   "execution_count": 69,
   "id": "aaa81337-af0e-4bc8-8b0d-f0fcdbeb2b6a",
   "metadata": {},
   "outputs": [
    {
     "data": {
      "text/plain": [
       "[(3, 1), (1, 2), (3, 3), (4, 5)]"
      ]
     },
     "execution_count": 69,
     "metadata": {},
     "output_type": "execute_result"
    }
   ],
   "source": [
    "points_sorted_by_y"
   ]
  },
  {
   "cell_type": "markdown",
   "id": "c9e18846-6764-4d6e-8584-bf5dcef83433",
   "metadata": {},
   "source": [
    "* Sort the points by the angle relative to the bottom most point and the horizontal"
   ]
  },
  {
   "cell_type": "code",
   "execution_count": 52,
   "id": "03218f46-a885-4e93-bc98-ff3a36617532",
   "metadata": {},
   "outputs": [],
   "source": [
    "from math import atan2, degrees"
   ]
  },
  {
   "cell_type": "code",
   "execution_count": 45,
   "id": "09a3063e-134c-422c-afc9-fdd6a58056f0",
   "metadata": {},
   "outputs": [],
   "source": [
    "angle_list = []"
   ]
  },
  {
   "cell_type": "code",
   "execution_count": 61,
   "id": "9375647b-4569-482f-bbd5-505c6c1bf89a",
   "metadata": {},
   "outputs": [],
   "source": [
    "def get_angle(point_1, point_2):\n",
    "    angle = atan2(point_2[1] - point_1[1], point_2[0] - point_1[0])\n",
    "    angle = degrees(angle)\n",
    "    return angle "
   ]
  },
  {
   "cell_type": "code",
   "execution_count": 63,
   "id": "18c84cba-bd9e-453a-9403-331009b353db",
   "metadata": {},
   "outputs": [],
   "source": [
    "point_0 = points_sorted_by_y[0]\n",
    "for point in points_sorted_by_y:\n",
    "    angle = get_angle(point_0, point)\n",
    "    angle_list.append(angle)"
   ]
  },
  {
   "cell_type": "code",
   "execution_count": 70,
   "id": "babcea64-cac6-4eaa-a5d9-e3d8792b8444",
   "metadata": {},
   "outputs": [],
   "source": [
    "# https://stackoverflow.com/questions/6618515/sorting-list-based-on-values-from-another-list\n",
    "points_sorted_by_angle = [x for _, x in sorted(zip(angle_list, points_sorted_by_y))]"
   ]
  },
  {
   "cell_type": "code",
   "execution_count": 66,
   "id": "3692223d-eb77-43d3-ae65-3c148c9fd78f",
   "metadata": {},
   "outputs": [
    {
     "data": {
      "text/plain": [
       "[(3, 1), (4, 5), (3, 3), (1, 2)]"
      ]
     },
     "execution_count": 66,
     "metadata": {},
     "output_type": "execute_result"
    }
   ],
   "source": [
    "points_sorted_by_angle"
   ]
  },
  {
   "cell_type": "markdown",
   "id": "ee04810e-70eb-4df2-adac-a7593ebff4c6",
   "metadata": {},
   "source": [
    "* Iterate in sorted order, placing each point on a stack, but only if it makes a **counterclockwise** turn relative to the previous 2 points on the stack.\n",
    "* Pop previous point off of the stack if making a **clockwise** turn."
   ]
  },
  {
   "cell_type": "code",
   "execution_count": 72,
   "id": "5ec09df6-7643-4647-aa35-2dc7e73316d2",
   "metadata": {},
   "outputs": [
    {
     "name": "stdout",
     "output_type": "stream",
     "text": [
      "75.96375653207353\n",
      "-116.56505117707799\n",
      "-153.434948822922\n"
     ]
    }
   ],
   "source": [
    "convex_hull = []\n",
    "\n",
    "for i in range(len(points_sorted_by_angle)-1):\n",
    "    print(get_angle(points_sorted_by_angle[i], points_sorted_by_angle[i+1]))"
   ]
  },
  {
   "cell_type": "code",
   "execution_count": 82,
   "id": "db75e1ef-6fb9-45b0-b984-71ab4dec5141",
   "metadata": {},
   "outputs": [
    {
     "data": {
      "text/plain": [
       "63.43494882292201"
      ]
     },
     "execution_count": 82,
     "metadata": {},
     "output_type": "execute_result"
    }
   ],
   "source": [
    "get_angle(points_sorted_by_angle[2], points_sorted_by_angle[1])"
   ]
  },
  {
   "cell_type": "code",
   "execution_count": null,
   "id": "0c4c06ea-72df-4e92-bb52-d2514af62a59",
   "metadata": {},
   "outputs": [],
   "source": []
  }
 ],
 "metadata": {
  "kernelspec": {
   "display_name": "Python 3 (ipykernel)",
   "language": "python",
   "name": "python3"
  },
  "language_info": {
   "codemirror_mode": {
    "name": "ipython",
    "version": 3
   },
   "file_extension": ".py",
   "mimetype": "text/x-python",
   "name": "python",
   "nbconvert_exporter": "python",
   "pygments_lexer": "ipython3",
   "version": "3.9.12"
  }
 },
 "nbformat": 4,
 "nbformat_minor": 5
}
