{
 "cells": [
  {
   "cell_type": "code",
   "execution_count": 1,
   "id": "21d013a8",
   "metadata": {},
   "outputs": [
    {
     "name": "stdout",
     "output_type": "stream",
     "text": [
      "3\n",
      "5\n",
      "7\n",
      "9\n",
      "42\n",
      "Break condition is met!\n"
     ]
    }
   ],
   "source": [
    "arr = [3, 5, 7, 9, 42, 999, 11, 13, 15, 999, 44]\n",
    "\n",
    "for el ∈ arr\n",
    "    if el == 999\n",
    "        println(\"Break condition is met!\")\n",
    "        break\n",
    "    end\n",
    "    println(el)\n",
    "end"
   ]
  },
  {
   "cell_type": "code",
   "execution_count": 2,
   "id": "09b32757",
   "metadata": {},
   "outputs": [
    {
     "name": "stdout",
     "output_type": "stream",
     "text": [
      "3\n",
      "5\n",
      "7\n",
      "9\n",
      "42\n",
      "Break condition is met!\n"
     ]
    }
   ],
   "source": [
    "i = 1\n",
    "\n",
    "while i ≤ length(arr)\n",
    "    if arr[i] == 999\n",
    "        println(\"Break condition is met!\")\n",
    "        break\n",
    "    end\n",
    "    println(arr[i])\n",
    "    global i += 1\n",
    "end"
   ]
  },
  {
   "cell_type": "code",
   "execution_count": 3,
   "id": "d6fef0a9",
   "metadata": {},
   "outputs": [
    {
     "name": "stdout",
     "output_type": "stream",
     "text": [
      "3\n",
      "5\n",
      "7\n",
      "9\n",
      "42\n",
      "Continue condition is met!\n",
      "11\n",
      "13\n",
      "15\n",
      "Continue condition is met!\n",
      "44\n"
     ]
    }
   ],
   "source": [
    "for el ∈ arr\n",
    "    if el == 999\n",
    "        println(\"Continue condition is met!\")\n",
    "        continue\n",
    "    end\n",
    "    println(el)\n",
    "end"
   ]
  },
  {
   "cell_type": "code",
   "execution_count": 4,
   "id": "a23a6523",
   "metadata": {},
   "outputs": [
    {
     "name": "stdout",
     "output_type": "stream",
     "text": [
      "3\n",
      "5\n",
      "7\n",
      "9\n",
      "42\n",
      "11\n",
      "13\n",
      "15\n",
      "44\n"
     ]
    }
   ],
   "source": [
    "i = 0\n",
    "\n",
    "while i < length(arr)\n",
    "    global i += 1\n",
    "    if arr[i] == 999\n",
    "        continue\n",
    "    end\n",
    "    println(arr[i])\n",
    "end"
   ]
  },
  {
   "cell_type": "code",
   "execution_count": 5,
   "id": "e156f2bd",
   "metadata": {},
   "outputs": [
    {
     "name": "stdout",
     "output_type": "stream",
     "text": [
      "42\n",
      "44\n"
     ]
    }
   ],
   "source": [
    "for el in arr\n",
    "    if el % 2 == 1 continue end\n",
    "    println(el)\n",
    "end"
   ]
  },
  {
   "cell_type": "code",
   "execution_count": 6,
   "id": "5f8b2ad7",
   "metadata": {},
   "outputs": [
    {
     "name": "stdout",
     "output_type": "stream",
     "text": [
      "It took 13 to get (6,6).\n"
     ]
    }
   ],
   "source": [
    "numtries = 0\n",
    "\n",
    "while true\n",
    "    global numtries += 1\n",
    "    m, n = rand((1:6)), rand((1:6))\n",
    "    if (m, n) == (6, 6) break end\n",
    "end\n",
    "\n",
    "println(\"It took $numtries to get (6,6).\")"
   ]
  },
  {
   "cell_type": "code",
   "execution_count": null,
   "id": "7e35135b",
   "metadata": {},
   "outputs": [],
   "source": []
  }
 ],
 "metadata": {
  "kernelspec": {
   "display_name": "Julia 1.8.5",
   "language": "julia",
   "name": "julia-1.8"
  },
  "language_info": {
   "file_extension": ".jl",
   "mimetype": "application/julia",
   "name": "julia",
   "version": "1.8.5"
  }
 },
 "nbformat": 4,
 "nbformat_minor": 5
}
