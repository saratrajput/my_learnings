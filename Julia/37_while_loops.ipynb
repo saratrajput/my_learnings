{
 "cells": [
  {
   "cell_type": "code",
   "execution_count": 1,
   "id": "238a9dea",
   "metadata": {},
   "outputs": [
    {
     "name": "stdout",
     "output_type": "stream",
     "text": [
      "1\n",
      "4\n",
      "9\n",
      "16\n"
     ]
    }
   ],
   "source": [
    "j = 1;\n",
    "\n",
    "while j < 5\n",
    "    println(j^2)\n",
    "    global j += 1\n",
    "end"
   ]
  },
  {
   "cell_type": "code",
   "execution_count": 2,
   "id": "6d201419",
   "metadata": {},
   "outputs": [
    {
     "name": "stdout",
     "output_type": "stream",
     "text": [
      "15 11 9 7 5 4 3 "
     ]
    }
   ],
   "source": [
    "arr = [3, 4, 5, 7, 9, 11, 15]\n",
    "\n",
    "while !isempty(arr)\n",
    "    print(pop!(arr), \" \")\n",
    "end"
   ]
  },
  {
   "cell_type": "code",
   "execution_count": 3,
   "id": "0380e6bd",
   "metadata": {},
   "outputs": [
    {
     "name": "stdout",
     "output_type": "stream",
     "text": [
      "For loop is the most common type of loop.\n",
      "The other type of loop is the while loop.\n",
      "Loops are very powerful and fast in Julia.\n"
     ]
    }
   ],
   "source": [
    "file = open(\"input_file.txt\", \"r\")\n",
    "line = readline(file)\n",
    "\n",
    "while line != \"\"\n",
    "    println(line)\n",
    "    line = readline(file)\n",
    "end\n",
    "close(file)"
   ]
  },
  {
   "cell_type": "code",
   "execution_count": null,
   "id": "5abe5bd1",
   "metadata": {},
   "outputs": [],
   "source": []
  }
 ],
 "metadata": {
  "kernelspec": {
   "display_name": "Julia 1.8.5",
   "language": "julia",
   "name": "julia-1.8"
  },
  "language_info": {
   "file_extension": ".jl",
   "mimetype": "application/julia",
   "name": "julia",
   "version": "1.8.5"
  }
 },
 "nbformat": 4,
 "nbformat_minor": 5
}
