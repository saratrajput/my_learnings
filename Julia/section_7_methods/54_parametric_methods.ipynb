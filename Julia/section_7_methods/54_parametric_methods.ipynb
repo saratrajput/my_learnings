{
 "cells": [
  {
   "cell_type": "code",
   "execution_count": 1,
   "metadata": {},
   "outputs": [
    {
     "data": {
      "text/plain": [
       "test_types (generic function with 1 method)"
      ]
     },
     "metadata": {},
     "output_type": "display_data"
    }
   ],
   "source": [
    "test_types(x::T, y::T) where {T} = \"Arguments have the same type\""
   ]
  },
  {
   "cell_type": "code",
   "execution_count": 2,
   "metadata": {},
   "outputs": [
    {
     "data": {
      "text/plain": [
       "\"Arguments have the same type\""
      ]
     },
     "metadata": {},
     "output_type": "display_data"
    }
   ],
   "source": [
    "test_types(4, 5)"
   ]
  },
  {
   "cell_type": "code",
   "execution_count": 3,
   "metadata": {},
   "outputs": [
    {
     "data": {
      "text/plain": [
       "\"Arguments have the same type\""
      ]
     },
     "metadata": {},
     "output_type": "display_data"
    }
   ],
   "source": [
    "test_types(5.6, 9.8)"
   ]
  },
  {
   "cell_type": "code",
   "execution_count": 4,
   "metadata": {},
   "outputs": [
    {
     "data": {
      "text/plain": [
       "\"Arguments have the same type\""
      ]
     },
     "metadata": {},
     "output_type": "display_data"
    }
   ],
   "source": [
    "test_types(\"abc\", \"def\")"
   ]
  },
  {
   "cell_type": "code",
   "execution_count": 5,
   "metadata": {},
   "outputs": [
    {
     "ename": "MethodError",
     "evalue": "MethodError: no method matching test_types(::Int64, ::Float64)\nClosest candidates are:\n  test_types(::T, !Matched::T) where T at ~/dev_root/my_learnings/Julia/54_parametric_methods.ipynb:1",
     "output_type": "error",
     "traceback": [
      "MethodError: no method matching test_types(::Int64, ::Float64)\n",
      "Closest candidates are:\n",
      "  test_types(::T, !Matched::T) where T at ~/dev_root/my_learnings/Julia/54_parametric_methods.ipynb:1\n",
      "\n",
      "Stacktrace:\n",
      " [1] top-level scope\n",
      "   @ ~/dev_root/my_learnings/Julia/54_parametric_methods.ipynb:1"
     ]
    }
   ],
   "source": [
    "test_types(5, 3.2)"
   ]
  },
  {
   "cell_type": "code",
   "execution_count": 7,
   "metadata": {},
   "outputs": [
    {
     "data": {
      "text/plain": [
       "test_types (generic function with 2 methods)"
      ]
     },
     "metadata": {},
     "output_type": "display_data"
    }
   ],
   "source": [
    "test_types(x, y) = \"Argument types are different\""
   ]
  },
  {
   "cell_type": "code",
   "execution_count": 8,
   "metadata": {},
   "outputs": [
    {
     "data": {
      "text/plain": [
       "\"Argument types are different\""
      ]
     },
     "metadata": {},
     "output_type": "display_data"
    }
   ],
   "source": [
    "test_types(4, 5.6)"
   ]
  },
  {
   "cell_type": "code",
   "execution_count": 9,
   "metadata": {},
   "outputs": [
    {
     "data": {
      "text/plain": [
       "find_type (generic function with 1 method)"
      ]
     },
     "metadata": {},
     "output_type": "display_data"
    }
   ],
   "source": [
    "find_type(x::T) where {T} = T"
   ]
  },
  {
   "cell_type": "code",
   "execution_count": 10,
   "metadata": {},
   "outputs": [
    {
     "data": {
      "text/plain": [
       "String"
      ]
     },
     "metadata": {},
     "output_type": "display_data"
    }
   ],
   "source": [
    "find_type(\"abc\")"
   ]
  },
  {
   "cell_type": "code",
   "execution_count": 11,
   "metadata": {},
   "outputs": [
    {
     "data": {
      "text/plain": [
       "Complex{Int64}"
      ]
     },
     "metadata": {},
     "output_type": "display_data"
    }
   ],
   "source": [
    "find_type(4 + 5im)"
   ]
  },
  {
   "cell_type": "code",
   "execution_count": 12,
   "metadata": {},
   "outputs": [
    {
     "data": {
      "text/plain": [
       "test_types_number (generic function with 1 method)"
      ]
     },
     "metadata": {},
     "output_type": "display_data"
    }
   ],
   "source": [
    "test_types_number(x::T, y::T) where {T <: Number} = \"Same type numbers!\""
   ]
  },
  {
   "cell_type": "code",
   "execution_count": 13,
   "metadata": {},
   "outputs": [
    {
     "data": {
      "text/plain": [
       "\"Same type numbers!\""
      ]
     },
     "metadata": {},
     "output_type": "display_data"
    }
   ],
   "source": [
    "test_types_number(3, 5)"
   ]
  },
  {
   "cell_type": "code",
   "execution_count": 14,
   "metadata": {},
   "outputs": [
    {
     "data": {
      "text/plain": [
       "\"Same type numbers!\""
      ]
     },
     "metadata": {},
     "output_type": "display_data"
    }
   ],
   "source": [
    "test_types_number(4.5, 6.7)"
   ]
  },
  {
   "cell_type": "code",
   "execution_count": 15,
   "metadata": {},
   "outputs": [
    {
     "ename": "MethodError",
     "evalue": "MethodError: no method matching test_types_number(::Int64, ::Float64)\nClosest candidates are:\n  test_types_number(::T, !Matched::T) where T<:Number at ~/dev_root/my_learnings/Julia/54_parametric_methods.ipynb:1",
     "output_type": "error",
     "traceback": [
      "MethodError: no method matching test_types_number(::Int64, ::Float64)\n",
      "Closest candidates are:\n",
      "  test_types_number(::T, !Matched::T) where T<:Number at ~/dev_root/my_learnings/Julia/54_parametric_methods.ipynb:1\n",
      "\n",
      "Stacktrace:\n",
      " [1] top-level scope\n",
      "   @ ~/dev_root/my_learnings/Julia/54_parametric_methods.ipynb:1"
     ]
    }
   ],
   "source": [
    "test_types_number(3, 7.7)"
   ]
  },
  {
   "cell_type": "code",
   "execution_count": 16,
   "metadata": {},
   "outputs": [
    {
     "data": {
      "text/plain": [
       "\"Both numbers but different types\""
      ]
     },
     "metadata": {},
     "output_type": "display_data"
    }
   ],
   "source": [
    "test_types_number(x::Number, y::Number) = \"Both numbers but different types\"\n",
    "test_types_number(4, 5.5)"
   ]
  },
  {
   "cell_type": "code",
   "execution_count": 17,
   "metadata": {},
   "outputs": [
    {
     "ename": "MethodError",
     "evalue": "MethodError: no method matching test_types_number(::Int64, ::String)\nClosest candidates are:\n  test_types_number(::T, !Matched::T) where T<:Number at ~/dev_root/my_learnings/Julia/54_parametric_methods.ipynb:1\n  test_types_number(::Number, !Matched::Number) at ~/dev_root/my_learnings/Julia/54_parametric_methods.ipynb:1",
     "output_type": "error",
     "traceback": [
      "MethodError: no method matching test_types_number(::Int64, ::String)\n",
      "Closest candidates are:\n",
      "  test_types_number(::T, !Matched::T) where T<:Number at ~/dev_root/my_learnings/Julia/54_parametric_methods.ipynb:1\n",
      "  test_types_number(::Number, !Matched::Number) at ~/dev_root/my_learnings/Julia/54_parametric_methods.ipynb:1\n",
      "\n",
      "Stacktrace:\n",
      " [1] top-level scope\n",
      "   @ ~/dev_root/my_learnings/Julia/54_parametric_methods.ipynb:1"
     ]
    }
   ],
   "source": [
    "test_types_number(4, \"abc\")"
   ]
  },
  {
   "cell_type": "code",
   "execution_count": 18,
   "metadata": {},
   "outputs": [
    {
     "data": {
      "text/plain": [
       "test_types_number (generic function with 3 methods)"
      ]
     },
     "metadata": {},
     "output_type": "display_data"
    }
   ],
   "source": [
    "test_types_number(x, y) = \"At least one argument is not number\""
   ]
  },
  {
   "cell_type": "code",
   "execution_count": 19,
   "metadata": {},
   "outputs": [
    {
     "data": {
      "text/plain": [
       "\"At least one argument is not number\""
      ]
     },
     "metadata": {},
     "output_type": "display_data"
    }
   ],
   "source": [
    "test_types_number(\"abc\", 5)"
   ]
  },
  {
   "cell_type": "code",
   "execution_count": 21,
   "metadata": {},
   "outputs": [
    {
     "data": {
      "text/plain": [
       "find_types (generic function with 1 method)"
      ]
     },
     "metadata": {},
     "output_type": "display_data"
    }
   ],
   "source": [
    "find_types(x::T, y::P) where{T<:String, P<:Number} = \"$x is String and $y is Number\""
   ]
  },
  {
   "cell_type": "code",
   "execution_count": 22,
   "metadata": {},
   "outputs": [
    {
     "data": {
      "text/plain": [
       "\"xyz is String and 5 is Number\""
      ]
     },
     "metadata": {},
     "output_type": "display_data"
    }
   ],
   "source": [
    "find_types(\"xyz\", 5)"
   ]
  },
  {
   "cell_type": "code",
   "execution_count": 23,
   "metadata": {},
   "outputs": [
    {
     "data": {
      "text/plain": [
       "\"20 has the same type with the array.\""
      ]
     },
     "metadata": {},
     "output_type": "display_data"
    }
   ],
   "source": [
    "check_types(a::Array{T}, x::T) where {T} = \"$x has the same type with the array.\"\n",
    "check_types(Vector(1:15), 20)"
   ]
  },
  {
   "cell_type": "code",
   "execution_count": 24,
   "metadata": {},
   "outputs": [],
   "source": [
    "abstract type Shape end"
   ]
  },
  {
   "cell_type": "code",
   "execution_count": 25,
   "metadata": {},
   "outputs": [],
   "source": [
    "struct Circle <: Shape\n",
    "    radius::Float64\n",
    "end"
   ]
  },
  {
   "cell_type": "code",
   "execution_count": 26,
   "metadata": {},
   "outputs": [],
   "source": [
    "struct Rectangle <: Shape\n",
    "    width::Float64\n",
    "    height::Float64\n",
    "end"
   ]
  },
  {
   "cell_type": "code",
   "execution_count": 27,
   "metadata": {},
   "outputs": [
    {
     "data": {
      "text/plain": [
       "area (generic function with 2 methods)"
      ]
     },
     "metadata": {},
     "output_type": "display_data"
    }
   ],
   "source": [
    "area(s::Circle) = π * s.radius^2\n",
    "area(s::Rectangle) = s.width * s.height"
   ]
  },
  {
   "cell_type": "code",
   "execution_count": 28,
   "metadata": {},
   "outputs": [
    {
     "data": {
      "text/plain": [
       "Circle(6.4)"
      ]
     },
     "metadata": {},
     "output_type": "display_data"
    }
   ],
   "source": [
    "rect = Rectangle(3.5, 9.6)\n",
    "circ = Circle(6.4)"
   ]
  },
  {
   "cell_type": "code",
   "execution_count": 29,
   "metadata": {},
   "outputs": [
    {
     "data": {
      "text/plain": [
       "33.6"
      ]
     },
     "metadata": {},
     "output_type": "display_data"
    }
   ],
   "source": [
    "area(rect)"
   ]
  },
  {
   "cell_type": "code",
   "execution_count": 30,
   "metadata": {},
   "outputs": [
    {
     "data": {
      "text/plain": [
       "128.67963509103794"
      ]
     },
     "metadata": {},
     "output_type": "display_data"
    }
   ],
   "source": [
    "area(circ)"
   ]
  },
  {
   "cell_type": "code",
   "execution_count": 31,
   "metadata": {},
   "outputs": [
    {
     "data": {
      "text/plain": [
       "Shape: Circle, Area: 128.67963509103794\n"
      ]
     },
     "metadata": {},
     "output_type": "display_data"
    }
   ],
   "source": [
    "Base.show(io::IO, s::Shape) = println(io, \"Shape: \", typeof(s), \", Area: \", area(s))\n",
    "rect\n",
    "circ"
   ]
  },
  {
   "cell_type": "code",
   "execution_count": 32,
   "metadata": {},
   "outputs": [
    {
     "data": {
      "text/plain": [
       "5.0"
      ]
     },
     "metadata": {},
     "output_type": "display_data"
    }
   ],
   "source": [
    "two_args(x::Vararg{Number, 2}) = maximum(x)\n",
    "two_args(5, 3.4)"
   ]
  },
  {
   "cell_type": "code",
   "execution_count": 33,
   "metadata": {},
   "outputs": [
    {
     "ename": "MethodError",
     "evalue": "MethodError: no method matching two_args(::Int64, ::Float64, ::Float64)\nClosest candidates are:\n  two_args(::Number, ::Number) at ~/dev_root/my_learnings/Julia/54_parametric_methods.ipynb:1",
     "output_type": "error",
     "traceback": [
      "MethodError: no method matching two_args(::Int64, ::Float64, ::Float64)\n",
      "Closest candidates are:\n",
      "  two_args(::Number, ::Number) at ~/dev_root/my_learnings/Julia/54_parametric_methods.ipynb:1\n",
      "\n",
      "Stacktrace:\n",
      " [1] top-level scope\n",
      "   @ ~/dev_root/my_learnings/Julia/54_parametric_methods.ipynb:1"
     ]
    }
   ],
   "source": [
    "two_args(3, 5.4, 7.8)"
   ]
  },
  {
   "cell_type": "code",
   "execution_count": 34,
   "metadata": {},
   "outputs": [
    {
     "ename": "MethodError",
     "evalue": "MethodError: no method matching two_args(::Int64)\nClosest candidates are:\n  two_args(::Number, !Matched::Number) at ~/dev_root/my_learnings/Julia/54_parametric_methods.ipynb:1",
     "output_type": "error",
     "traceback": [
      "MethodError: no method matching two_args(::Int64)\n",
      "Closest candidates are:\n",
      "  two_args(::Number, !Matched::Number) at ~/dev_root/my_learnings/Julia/54_parametric_methods.ipynb:1\n",
      "\n",
      "Stacktrace:\n",
      " [1] top-level scope\n",
      "   @ ~/dev_root/my_learnings/Julia/54_parametric_methods.ipynb:1"
     ]
    }
   ],
   "source": [
    "two_args(5)"
   ]
  },
  {
   "cell_type": "code",
   "execution_count": null,
   "metadata": {},
   "outputs": [],
   "source": []
  }
 ],
 "metadata": {
  "kernelspec": {
   "display_name": "Julia 1.8.5",
   "language": "julia",
   "name": "julia-1.8"
  },
  "language_info": {
   "file_extension": ".jl",
   "mimetype": "application/julia",
   "name": "julia",
   "version": "1.8.5"
  },
  "orig_nbformat": 4,
  "vscode": {
   "interpreter": {
    "hash": "49c08a24c23c483922c593ac99877d2b6457a4a5ba0afec1b0e6be2c8f92750e"
   }
  }
 },
 "nbformat": 4,
 "nbformat_minor": 2
}
