{
 "cells": [
  {
   "cell_type": "code",
   "execution_count": 1,
   "metadata": {},
   "outputs": [],
   "source": [
    "mutable struct model{R}\n",
    "    coefficients::Vector{R}\n",
    "end"
   ]
  },
  {
   "cell_type": "code",
   "execution_count": 2,
   "metadata": {},
   "outputs": [],
   "source": [
    "function (m::model)(x)\n",
    "    coeffs = m.coefficients\n",
    "    s = 0\n",
    "    for i in 1:length(x)\n",
    "        s += x[i]*coeffs[i]\n",
    "    end\n",
    "    return s\n",
    "end"
   ]
  },
  {
   "cell_type": "code",
   "execution_count": 3,
   "metadata": {},
   "outputs": [
    {
     "data": {
      "text/plain": [
       "model{Int64}([1, 3, 5])"
      ]
     },
     "metadata": {},
     "output_type": "display_data"
    }
   ],
   "source": [
    "lm = model([1, 3, 5])"
   ]
  },
  {
   "cell_type": "code",
   "execution_count": 4,
   "metadata": {},
   "outputs": [
    {
     "ename": "UndefVarError",
     "evalue": "UndefVarError: coeffs not defined",
     "output_type": "error",
     "traceback": [
      "UndefVarError: coeffs not defined\n",
      "\n",
      "Stacktrace:\n",
      " [1] (::model{Int64})(x::Vector{Int64})\n",
      "   @ Main ~/dev_root/my_learnings/Julia/55_function_like_objects.ipynb:5\n",
      " [2] top-level scope\n",
      "   @ ~/dev_root/my_learnings/Julia/55_function_like_objects.ipynb:1"
     ]
    }
   ],
   "source": [
    "lm([2, 4, 6])"
   ]
  },
  {
   "cell_type": "code",
   "execution_count": null,
   "metadata": {},
   "outputs": [],
   "source": []
  }
 ],
 "metadata": {
  "kernelspec": {
   "display_name": "Julia 1.8.5",
   "language": "julia",
   "name": "julia-1.8"
  },
  "language_info": {
   "file_extension": ".jl",
   "mimetype": "application/julia",
   "name": "julia",
   "version": "1.8.5"
  },
  "orig_nbformat": 4
 },
 "nbformat": 4,
 "nbformat_minor": 2
}
