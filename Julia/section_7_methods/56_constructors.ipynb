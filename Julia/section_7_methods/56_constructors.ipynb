{
 "cells": [
  {
   "cell_type": "code",
   "execution_count": 10,
   "metadata": {},
   "outputs": [],
   "source": [
    "# Constructors\n",
    "mutable struct ModelVars\n",
    "    x₁::Float64\n",
    "    x₂::Float64\n",
    "    x₃::Float64\n",
    "end"
   ]
  },
  {
   "cell_type": "code",
   "execution_count": 11,
   "metadata": {},
   "outputs": [
    {
     "data": {
      "text/plain": [
       "(:x₁, :x₂, :x₃)"
      ]
     },
     "metadata": {},
     "output_type": "display_data"
    }
   ],
   "source": [
    "fieldnames(ModelVars)"
   ]
  },
  {
   "cell_type": "code",
   "execution_count": 12,
   "metadata": {},
   "outputs": [
    {
     "data": {
      "text/plain": [
       "ModelVars(2.5, 5.6, 7.8)"
      ]
     },
     "metadata": {},
     "output_type": "display_data"
    }
   ],
   "source": [
    "m1 = ModelVars(2.5, 5.6, 7.8)"
   ]
  },
  {
   "cell_type": "code",
   "execution_count": 13,
   "metadata": {},
   "outputs": [
    {
     "data": {
      "text/html": [
       "# 2 methods for type constructor:<ul><li> ModelVars(x₁::<b>Float64</b>, x₂::<b>Float64</b>, x₃::<b>Float64</b>) in Main at <a href=\"https://github.com/saratrajput/my_learnings/tree/8c26c0c1f83aba8ea10db7c55078723d540ca84d//Julia/56_constructors.ipynb#L3\" target=\"_blank\">/Users/sp/dev_root/my_learnings/Julia/56_constructors.ipynb:3</a></li> <li> ModelVars(x₁, x₂, x₃) in Main at <a href=\"https://github.com/saratrajput/my_learnings/tree/8c26c0c1f83aba8ea10db7c55078723d540ca84d//Julia/56_constructors.ipynb#L3\" target=\"_blank\">/Users/sp/dev_root/my_learnings/Julia/56_constructors.ipynb:3</a></li> </ul>"
      ],
      "text/plain": [
       "# 2 methods for type constructor:\n",
       "[1] ModelVars(x₁::Float64, x₂::Float64, x₃::Float64) in Main at /Users/sp/dev_root/my_learnings/Julia/56_constructors.ipynb:3\n",
       "[2] ModelVars(x₁, x₂, x₃) in Main at /Users/sp/dev_root/my_learnings/Julia/56_constructors.ipynb:3"
      ]
     },
     "metadata": {},
     "output_type": "display_data"
    }
   ],
   "source": [
    "methods(ModelVars)"
   ]
  },
  {
   "cell_type": "code",
   "execution_count": 14,
   "metadata": {},
   "outputs": [
    {
     "data": {
      "text/plain": [
       "ModelVars(3.0, 5.0, 7.0)"
      ]
     },
     "metadata": {},
     "output_type": "display_data"
    }
   ],
   "source": [
    "ModelVars(3, 5, 7)"
   ]
  },
  {
   "cell_type": "code",
   "execution_count": 15,
   "metadata": {},
   "outputs": [
    {
     "data": {
      "text/plain": [
       "2.5"
      ]
     },
     "metadata": {},
     "output_type": "display_data"
    }
   ],
   "source": [
    "m1.x₁"
   ]
  },
  {
   "cell_type": "code",
   "execution_count": 16,
   "metadata": {},
   "outputs": [
    {
     "data": {
      "text/plain": [
       "5.6"
      ]
     },
     "metadata": {},
     "output_type": "display_data"
    }
   ],
   "source": [
    "m1.x₂"
   ]
  },
  {
   "cell_type": "code",
   "execution_count": 18,
   "metadata": {},
   "outputs": [
    {
     "data": {
      "text/plain": [
       "6.2"
      ]
     },
     "metadata": {},
     "output_type": "display_data"
    }
   ],
   "source": [
    "m1.x₃ = 6.2"
   ]
  },
  {
   "cell_type": "code",
   "execution_count": 19,
   "metadata": {},
   "outputs": [
    {
     "data": {
      "text/plain": [
       "ModelVars(2.5, 5.6, 6.2)"
      ]
     },
     "metadata": {},
     "output_type": "display_data"
    }
   ],
   "source": [
    "m1"
   ]
  },
  {
   "cell_type": "code",
   "execution_count": 20,
   "metadata": {},
   "outputs": [],
   "source": [
    "abstract type Student end"
   ]
  },
  {
   "cell_type": "code",
   "execution_count": 21,
   "metadata": {},
   "outputs": [
    {
     "ename": "MethodError",
     "evalue": "MethodError: no constructors have been defined for Student",
     "output_type": "error",
     "traceback": [
      "MethodError: no constructors have been defined for Student\n",
      "\n",
      "Stacktrace:\n",
      " [1] top-level scope\n",
      "   @ ~/dev_root/my_learnings/Julia/56_constructors.ipynb:1"
     ]
    }
   ],
   "source": [
    "Student()"
   ]
  },
  {
   "cell_type": "code",
   "execution_count": 22,
   "metadata": {},
   "outputs": [],
   "source": [
    "mutable struct CSStudent <: Student\n",
    "    name::String\n",
    "    student_id::Int64\n",
    "    gpa::Float64\n",
    "    specialization::String\n",
    "    programming_language::String\n",
    "end"
   ]
  },
  {
   "cell_type": "code",
   "execution_count": 23,
   "metadata": {},
   "outputs": [
    {
     "data": {
      "text/html": [
       "# 2 methods for type constructor:<ul><li> CSStudent(name::<b>String</b>, student_id::<b>Int64</b>, gpa::<b>Float64</b>, specialization::<b>String</b>, programming_language::<b>String</b>) in Main at <a href=\"https://github.com/saratrajput/my_learnings/tree/8c26c0c1f83aba8ea10db7c55078723d540ca84d//Julia/56_constructors.ipynb#L2\" target=\"_blank\">/Users/sp/dev_root/my_learnings/Julia/56_constructors.ipynb:2</a></li> <li> CSStudent(name, student_id, gpa, specialization, programming_language) in Main at <a href=\"https://github.com/saratrajput/my_learnings/tree/8c26c0c1f83aba8ea10db7c55078723d540ca84d//Julia/56_constructors.ipynb#L2\" target=\"_blank\">/Users/sp/dev_root/my_learnings/Julia/56_constructors.ipynb:2</a></li> </ul>"
      ],
      "text/plain": [
       "# 2 methods for type constructor:\n",
       "[1] CSStudent(name::String, student_id::Int64, gpa::Float64, specialization::String, programming_language::String) in Main at /Users/sp/dev_root/my_learnings/Julia/56_constructors.ipynb:2\n",
       "[2] CSStudent(name, student_id, gpa, specialization, programming_language) in Main at /Users/sp/dev_root/my_learnings/Julia/56_constructors.ipynb:2"
      ]
     },
     "metadata": {},
     "output_type": "display_data"
    }
   ],
   "source": [
    "methods(CSStudent)"
   ]
  },
  {
   "cell_type": "code",
   "execution_count": 24,
   "metadata": {},
   "outputs": [
    {
     "data": {
      "text/plain": [
       "CSStudent(\"George\", 123456, 3.75, \"Data Science\", \"Julia\")"
      ]
     },
     "metadata": {},
     "output_type": "display_data"
    }
   ],
   "source": [
    "cs1 = CSStudent(\"George\", 123456, 3.75, \"Data Science\", \"Julia\")"
   ]
  },
  {
   "cell_type": "code",
   "execution_count": 25,
   "metadata": {},
   "outputs": [
    {
     "data": {
      "text/plain": [
       "CSStudent"
      ]
     },
     "metadata": {},
     "output_type": "display_data"
    }
   ],
   "source": [
    "CSStudent(name, id, gpa) = CSStudent(name, id, gpa, \"Data Science\", \"Julia\")"
   ]
  },
  {
   "cell_type": "code",
   "execution_count": 26,
   "metadata": {},
   "outputs": [
    {
     "data": {
      "text/html": [
       "# 3 methods for type constructor:<ul><li> CSStudent(name::<b>String</b>, student_id::<b>Int64</b>, gpa::<b>Float64</b>, specialization::<b>String</b>, programming_language::<b>String</b>) in Main at <a href=\"https://github.com/saratrajput/my_learnings/tree/8c26c0c1f83aba8ea10db7c55078723d540ca84d//Julia/56_constructors.ipynb#L2\" target=\"_blank\">/Users/sp/dev_root/my_learnings/Julia/56_constructors.ipynb:2</a></li> <li> CSStudent(name, id, gpa) in Main at <a href=\"https://github.com/saratrajput/my_learnings/tree/8c26c0c1f83aba8ea10db7c55078723d540ca84d//Julia/56_constructors.ipynb#L1\" target=\"_blank\">/Users/sp/dev_root/my_learnings/Julia/56_constructors.ipynb:1</a></li> <li> CSStudent(name, student_id, gpa, specialization, programming_language) in Main at <a href=\"https://github.com/saratrajput/my_learnings/tree/8c26c0c1f83aba8ea10db7c55078723d540ca84d//Julia/56_constructors.ipynb#L2\" target=\"_blank\">/Users/sp/dev_root/my_learnings/Julia/56_constructors.ipynb:2</a></li> </ul>"
      ],
      "text/plain": [
       "# 3 methods for type constructor:\n",
       "[1] CSStudent(name::String, student_id::Int64, gpa::Float64, specialization::String, programming_language::String) in Main at /Users/sp/dev_root/my_learnings/Julia/56_constructors.ipynb:2\n",
       "[2] CSStudent(name, id, gpa) in Main at /Users/sp/dev_root/my_learnings/Julia/56_constructors.ipynb:1\n",
       "[3] CSStudent(name, student_id, gpa, specialization, programming_language) in Main at /Users/sp/dev_root/my_learnings/Julia/56_constructors.ipynb:2"
      ]
     },
     "metadata": {},
     "output_type": "display_data"
    }
   ],
   "source": [
    "methods(CSStudent)"
   ]
  },
  {
   "cell_type": "code",
   "execution_count": 27,
   "metadata": {},
   "outputs": [
    {
     "data": {
      "text/plain": [
       "CSStudent(\"Ali\", 1235933, 3.11, \"Development\", \"Java\")"
      ]
     },
     "metadata": {},
     "output_type": "display_data"
    }
   ],
   "source": [
    "cs2 = CSStudent(\"Mary\", 112233, 3.95)\n",
    "cs3 = CSStudent(\"Ali\", 1235933, 3.11, \"Development\", \"Java\")"
   ]
  },
  {
   "cell_type": "code",
   "execution_count": 28,
   "metadata": {},
   "outputs": [
    {
     "ename": "ErrorException",
     "evalue": "invalid subtyping in definition of DataScienceStudent",
     "output_type": "error",
     "traceback": [
      "invalid subtyping in definition of DataScienceStudent\n",
      "\n",
      "Stacktrace:\n",
      " [1] top-level scope\n",
      "   @ ~/dev_root/my_learnings/Julia/56_constructors.ipynb:1"
     ]
    }
   ],
   "source": [
    "mutable struct DataScienceStudent <: CSStudent end"
   ]
  },
  {
   "cell_type": "code",
   "execution_count": 29,
   "metadata": {},
   "outputs": [
    {
     "data": {
      "text/plain": [
       "CSStudent"
      ]
     },
     "metadata": {},
     "output_type": "display_data"
    }
   ],
   "source": [
    "function CSStudent(; name,\n",
    "    student_id,\n",
    "    gpa = NaN,\n",
    "    specialization = \"Data Science\",\n",
    "    programming_language = \"Julia\")\n",
    "    return CSStudent(name, student_id, gpa, specialization, programming_language)\n",
    "end"
   ]
  },
  {
   "cell_type": "code",
   "execution_count": 30,
   "metadata": {},
   "outputs": [
    {
     "data": {
      "text/plain": [
       "CSStudent(\"Mario\", 642343, NaN, \"Mobile Development\", \"Kotlin\")"
      ]
     },
     "metadata": {},
     "output_type": "display_data"
    }
   ],
   "source": [
    "cs4 = CSStudent(name=\"Mario\", student_id=642343, specialization=\"Mobile Development\", programming_language=\"Kotlin\")"
   ]
  },
  {
   "cell_type": "code",
   "execution_count": 31,
   "metadata": {},
   "outputs": [
    {
     "data": {
      "text/plain": [
       "3.4"
      ]
     },
     "metadata": {},
     "output_type": "display_data"
    }
   ],
   "source": [
    "cs4.gpa = 3.4"
   ]
  },
  {
   "cell_type": "code",
   "execution_count": 32,
   "metadata": {},
   "outputs": [
    {
     "data": {
      "text/plain": [
       "CSStudent(\"Mario\", 642343, 3.4, \"Mobile Development\", \"Kotlin\")"
      ]
     },
     "metadata": {},
     "output_type": "display_data"
    }
   ],
   "source": [
    "cs4"
   ]
  },
  {
   "cell_type": "code",
   "execution_count": 33,
   "metadata": {},
   "outputs": [
    {
     "data": {
      "text/plain": [
       "CSStudent[]"
      ]
     },
     "metadata": {},
     "output_type": "display_data"
    }
   ],
   "source": [
    "students = CSStudent[]"
   ]
  },
  {
   "cell_type": "code",
   "execution_count": 34,
   "metadata": {},
   "outputs": [
    {
     "data": {
      "text/plain": [
       "4-element Vector{CSStudent}:\n",
       " CSStudent(\"George\", 123456, 3.75, \"Data Science\", \"Julia\")\n",
       " CSStudent(\"Mary\", 112233, 3.95, \"Data Science\", \"Julia\")\n",
       " CSStudent(\"Ali\", 1235933, 3.11, \"Development\", \"Java\")\n",
       " CSStudent(\"Mario\", 642343, 3.4, \"Mobile Development\", \"Kotlin\")"
      ]
     },
     "metadata": {},
     "output_type": "display_data"
    }
   ],
   "source": [
    "push!(students, cs1, cs2, cs3, cs4)"
   ]
  },
  {
   "cell_type": "code",
   "execution_count": 36,
   "metadata": {},
   "outputs": [],
   "source": [
    "mutable struct MathStudent\n",
    "    name::String\n",
    "    student_id::Int64\n",
    "    gpa::Float64\n",
    "\n",
    "    MathStudent(name, student_id, gpa) = gpa < 0 ? throw(\"gpa cannot be negative\") : new(name, student_id, gpa)\n",
    "end"
   ]
  },
  {
   "cell_type": "code",
   "execution_count": 37,
   "metadata": {},
   "outputs": [
    {
     "data": {
      "text/plain": [
       "MathStudent(\"Karl\", 1112333, 3.4)"
      ]
     },
     "metadata": {},
     "output_type": "display_data"
    }
   ],
   "source": [
    "m1 = MathStudent(\"Karl\", 1112333, 3.4)"
   ]
  },
  {
   "cell_type": "code",
   "execution_count": 38,
   "metadata": {},
   "outputs": [
    {
     "ename": "String",
     "evalue": "\"gpa cannot be negative\"",
     "output_type": "error",
     "traceback": [
      "\"gpa cannot be negative\"\n",
      "\n",
      "Stacktrace:\n",
      " [1] MathStudent(name::String, student_id::Int64, gpa::Float64)\n",
      "   @ Main ~/dev_root/my_learnings/Julia/56_constructors.ipynb:6\n",
      " [2] top-level scope\n",
      "   @ ~/dev_root/my_learnings/Julia/56_constructors.ipynb:1"
     ]
    }
   ],
   "source": [
    "m2 = MathStudent(\"Ben\", 234323, -3.0)"
   ]
  },
  {
   "cell_type": "code",
   "execution_count": 43,
   "metadata": {},
   "outputs": [],
   "source": [
    "mutable struct EconStudent\n",
    "    name::String\n",
    "    student_id::Int64\n",
    "    gpa::Float64\n",
    "    \n",
    "    function EconStudent(name, student_id, gpa)\n",
    "        if name == \"\"\n",
    "            throw(\"Student name cannot be empty\")\n",
    "        elseif student_id == NaN || student_id == 0\n",
    "            throw(\"Student ID cannot be empty\")\n",
    "        elseif gpa < 0 || gpa > 4.0\n",
    "            throw(\"Enter a valid gpa\")\n",
    "        else\n",
    "            new(name, student_id, gpa)\n",
    "        end\n",
    "    end\n",
    "end"
   ]
  },
  {
   "cell_type": "code",
   "execution_count": 44,
   "metadata": {},
   "outputs": [
    {
     "ename": "String",
     "evalue": "\"Student name cannot be empty\"",
     "output_type": "error",
     "traceback": [
      "\"Student name cannot be empty\"\n",
      "\n",
      "Stacktrace:\n",
      " [1] EconStudent(name::String, student_id::Int64, gpa::Float64)\n",
      "   @ Main ~/dev_root/my_learnings/Julia/56_constructors.ipynb:8\n",
      " [2] top-level scope\n",
      "   @ ~/dev_root/my_learnings/Julia/56_constructors.ipynb:1"
     ]
    }
   ],
   "source": [
    "es1 = EconStudent(\"\", 1233, 3.2)"
   ]
  },
  {
   "cell_type": "code",
   "execution_count": 45,
   "metadata": {},
   "outputs": [
    {
     "ename": "String",
     "evalue": "\"Student ID cannot be empty\"",
     "output_type": "error",
     "traceback": [
      "\"Student ID cannot be empty\"\n",
      "\n",
      "Stacktrace:\n",
      " [1] EconStudent(name::String, student_id::Int64, gpa::Float64)\n",
      "   @ Main ~/dev_root/my_learnings/Julia/56_constructors.ipynb:10\n",
      " [2] top-level scope\n",
      "   @ ~/dev_root/my_learnings/Julia/56_constructors.ipynb:1"
     ]
    }
   ],
   "source": [
    "es1 = EconStudent(\"Daniel\", 0, 3.2)"
   ]
  },
  {
   "cell_type": "code",
   "execution_count": 46,
   "metadata": {},
   "outputs": [
    {
     "ename": "String",
     "evalue": "\"Enter a valid gpa\"",
     "output_type": "error",
     "traceback": [
      "\"Enter a valid gpa\"\n",
      "\n",
      "Stacktrace:\n",
      " [1] EconStudent(name::String, student_id::Int64, gpa::Int64)\n",
      "   @ Main ~/dev_root/my_learnings/Julia/56_constructors.ipynb:12\n",
      " [2] top-level scope\n",
      "   @ ~/dev_root/my_learnings/Julia/56_constructors.ipynb:1"
     ]
    }
   ],
   "source": [
    "es1 = EconStudent(\"Daniel\", 432343, 5)"
   ]
  },
  {
   "cell_type": "code",
   "execution_count": 47,
   "metadata": {},
   "outputs": [
    {
     "data": {
      "text/plain": [
       "EconStudent(\"Daniel\", 423432, 3.2)"
      ]
     },
     "metadata": {},
     "output_type": "display_data"
    }
   ],
   "source": [
    "es1 = EconStudent(\"Daniel\", 423432, 3.2)"
   ]
  },
  {
   "cell_type": "code",
   "execution_count": 48,
   "metadata": {},
   "outputs": [
    {
     "ename": "MethodError",
     "evalue": "MethodError: no method matching MathStudent()\nClosest candidates are:\n  MathStudent(!Matched::Any, !Matched::Any, !Matched::Any) at ~/dev_root/my_learnings/Julia/56_constructors.ipynb:6",
     "output_type": "error",
     "traceback": [
      "MethodError: no method matching MathStudent()\n",
      "Closest candidates are:\n",
      "  MathStudent(!Matched::Any, !Matched::Any, !Matched::Any) at ~/dev_root/my_learnings/Julia/56_constructors.ipynb:6\n",
      "\n",
      "Stacktrace:\n",
      " [1] top-level scope\n",
      "   @ ~/dev_root/my_learnings/Julia/56_constructors.ipynb:1"
     ]
    }
   ],
   "source": [
    "MathStudent()"
   ]
  },
  {
   "cell_type": "code",
   "execution_count": 49,
   "metadata": {},
   "outputs": [],
   "source": [
    "mutable struct PhysStudent <: Student\n",
    "    name::String\n",
    "    student_id::Int64\n",
    "    gpa::Float64\n",
    "\n",
    "    PhysStudent() = new()\n",
    "end"
   ]
  },
  {
   "cell_type": "code",
   "execution_count": 50,
   "metadata": {},
   "outputs": [
    {
     "data": {
      "text/plain": [
       "PhysStudent(#undef, 6, 2.2458887674e-314)"
      ]
     },
     "metadata": {},
     "output_type": "display_data"
    }
   ],
   "source": [
    "ps1 = PhysStudent()"
   ]
  },
  {
   "cell_type": "code",
   "execution_count": 51,
   "metadata": {},
   "outputs": [
    {
     "data": {
      "text/html": [
       "# 1 method for type constructor:<ul><li> PhysStudent() in Main at <a href=\"https://github.com/saratrajput/my_learnings/tree/8c26c0c1f83aba8ea10db7c55078723d540ca84d//Julia/56_constructors.ipynb#L6\" target=\"_blank\">/Users/sp/dev_root/my_learnings/Julia/56_constructors.ipynb:6</a></li> </ul>"
      ],
      "text/plain": [
       "# 1 method for type constructor:\n",
       "[1] PhysStudent() in Main at /Users/sp/dev_root/my_learnings/Julia/56_constructors.ipynb:6"
      ]
     },
     "metadata": {},
     "output_type": "display_data"
    }
   ],
   "source": [
    "methods(PhysStudent)"
   ]
  },
  {
   "cell_type": "code",
   "execution_count": 53,
   "metadata": {},
   "outputs": [],
   "source": [
    "mutable struct Course\n",
    "    name::String\n",
    "    student::Array{Union{CSStudent, MathStudent, EconStudent}, 1}\n",
    "    opened::Bool\n",
    "\n",
    "    Course(name::String) = new(name::String, String[], false)\n",
    "    Course(name::String, members) = new(name, members, length(members) ≥ 5)\n",
    "end"
   ]
  },
  {
   "cell_type": "code",
   "execution_count": 54,
   "metadata": {},
   "outputs": [
    {
     "data": {
      "text/plain": [
       "Course(\"Programming with Julia\", Union{CSStudent, EconStudent, MathStudent}[CSStudent(\"George\", 123456, 3.75, \"Data Science\", \"Julia\"), CSStudent(\"Mary\", 112233, 3.95, \"Data Science\", \"Julia\"), CSStudent(\"Ali\", 1235933, 3.11, \"Development\", \"Java\"), CSStudent(\"Mario\", 642343, 3.4, \"Mobile Development\", \"Kotlin\"), MathStudent(\"Karl\", 1112333, 3.4), EconStudent(\"Daniel\", 423432, 3.2)], true)"
      ]
     },
     "metadata": {},
     "output_type": "display_data"
    }
   ],
   "source": [
    "julia101 = Course(\"Programming with Julia\", [cs1, cs2, cs3, cs4, m1, es1])"
   ]
  },
  {
   "cell_type": "code",
   "execution_count": null,
   "metadata": {},
   "outputs": [],
   "source": []
  }
 ],
 "metadata": {
  "kernelspec": {
   "display_name": "Julia 1.8.5",
   "language": "julia",
   "name": "julia-1.8"
  },
  "language_info": {
   "file_extension": ".jl",
   "mimetype": "application/julia",
   "name": "julia",
   "version": "1.8.5"
  },
  "orig_nbformat": 4,
  "vscode": {
   "interpreter": {
    "hash": "eeef6a99530cb63899099d6231a88d8de05e8e19a182849157a12119dd164547"
   }
  }
 },
 "nbformat": 4,
 "nbformat_minor": 2
}
