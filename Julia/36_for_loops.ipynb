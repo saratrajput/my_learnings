{
 "cells": [
  {
   "cell_type": "code",
   "execution_count": 1,
   "id": "54eaa522",
   "metadata": {},
   "outputs": [
    {
     "name": "stdout",
     "output_type": "stream",
     "text": [
      "1\n",
      "4\n",
      "9\n",
      "16\n"
     ]
    }
   ],
   "source": [
    "for i in 1:4\n",
    "    println(i^2)\n",
    "end"
   ]
  },
  {
   "cell_type": "code",
   "execution_count": 2,
   "id": "186d8472",
   "metadata": {},
   "outputs": [
    {
     "ename": "LoadError",
     "evalue": "UndefVarError: i not defined",
     "output_type": "error",
     "traceback": [
      "UndefVarError: i not defined",
      "",
      "Stacktrace:",
      " [1] top-level scope",
      "   @ In[2]:1"
     ]
    }
   ],
   "source": [
    "println(i)"
   ]
  },
  {
   "cell_type": "code",
   "execution_count": 3,
   "id": "2fa6945d",
   "metadata": {},
   "outputs": [
    {
     "name": "stdout",
     "output_type": "stream",
     "text": [
      "Another iteration in the loop.\n",
      "Another iteration in the loop.\n",
      "Another iteration in the loop.\n",
      "Another iteration in the loop.\n"
     ]
    }
   ],
   "source": [
    "for i in 1:4\n",
    "    println(\"Another iteration in the loop.\")\n",
    "end"
   ]
  },
  {
   "cell_type": "code",
   "execution_count": 4,
   "id": "708f54db",
   "metadata": {},
   "outputs": [
    {
     "name": "stdout",
     "output_type": "stream",
     "text": [
      "1\n",
      "8\n",
      "27\n",
      "64\n"
     ]
    }
   ],
   "source": [
    "for j = 1:4\n",
    "    println(j^3)\n",
    "end"
   ]
  },
  {
   "cell_type": "code",
   "execution_count": 5,
   "id": "c8b1581e",
   "metadata": {},
   "outputs": [
    {
     "name": "stdout",
     "output_type": "stream",
     "text": [
      "1\n",
      "4\n",
      "9\n",
      "16\n"
     ]
    }
   ],
   "source": [
    "for k ∈ 1:4\n",
    "    println(k^2)\n",
    "end"
   ]
  },
  {
   "cell_type": "code",
   "execution_count": 6,
   "id": "87792ed8",
   "metadata": {},
   "outputs": [
    {
     "name": "stdout",
     "output_type": "stream",
     "text": [
      "Julia\n",
      "R\n",
      "Python\n",
      "C\n"
     ]
    }
   ],
   "source": [
    "for name ∈ [\"Julia\", \"R\", \"Python\", \"C\"]\n",
    "    println(name)\n",
    "end"
   ]
  },
  {
   "cell_type": "code",
   "execution_count": 7,
   "id": "642961e9",
   "metadata": {},
   "outputs": [
    {
     "data": {
      "text/plain": [
       "5-element Vector{Int64}:\n",
       " 24\n",
       " 22\n",
       " 25\n",
       " 25\n",
       "  8"
      ]
     },
     "execution_count": 7,
     "metadata": {},
     "output_type": "execute_result"
    }
   ],
   "source": [
    "arr = rand(5:25, 5)"
   ]
  },
  {
   "cell_type": "code",
   "execution_count": 8,
   "id": "fb3c4d7b",
   "metadata": {},
   "outputs": [
    {
     "name": "stdout",
     "output_type": "stream",
     "text": [
      "1. element is 24.\n",
      "2. element is 22.\n",
      "3. element is 25.\n",
      "4. element is 25.\n",
      "5. element is 8.\n"
     ]
    }
   ],
   "source": [
    "for i in 1:length(arr)\n",
    "    println(\"$i. element is $(arr[i]).\")\n",
    "end"
   ]
  },
  {
   "cell_type": "code",
   "execution_count": 9,
   "id": "8d371de0",
   "metadata": {},
   "outputs": [
    {
     "name": "stdout",
     "output_type": "stream",
     "text": [
      "The 1. element is 24.\n",
      "The 2. element is 22.\n",
      "The 3. element is 25.\n",
      "The 4. element is 25.\n",
      "The 5. element is 8.\n"
     ]
    }
   ],
   "source": [
    "for (index, value) ∈ enumerate(arr)\n",
    "    println(\"The $(index). element is $(value).\")\n",
    "end"
   ]
  },
  {
   "cell_type": "code",
   "execution_count": 10,
   "id": "ba1ef933",
   "metadata": {},
   "outputs": [
    {
     "data": {
      "text/plain": [
       "3×2 Matrix{Int64}:\n",
       " 35  36\n",
       " 22  33\n",
       " 15  26"
      ]
     },
     "execution_count": 10,
     "metadata": {},
     "output_type": "execute_result"
    }
   ],
   "source": [
    "mat = rand(15:44, (3, 2))"
   ]
  },
  {
   "cell_type": "code",
   "execution_count": 11,
   "id": "10d99b5a",
   "metadata": {},
   "outputs": [
    {
     "name": "stdout",
     "output_type": "stream",
     "text": [
      "Row: 1, Column: 1, Value: 35\n",
      "Row: 1, Column: 2, Value: 36\n",
      "Row: 2, Column: 1, Value: 22\n",
      "Row: 2, Column: 2, Value: 33\n",
      "Row: 3, Column: 1, Value: 15\n",
      "Row: 3, Column: 2, Value: 26\n"
     ]
    }
   ],
   "source": [
    "for row in 1:size(mat, 1)\n",
    "    for col in 1:size(mat, 2)\n",
    "        println(\"Row: $row, Column: $col, Value: $(mat[row, col])\")\n",
    "    end\n",
    "end"
   ]
  },
  {
   "cell_type": "code",
   "execution_count": 12,
   "id": "b43e931e",
   "metadata": {},
   "outputs": [
    {
     "name": "stdout",
     "output_type": "stream",
     "text": [
      "Row: 1, Column: 1, Value: 35\n",
      "Row: 1, Column: 2, Value: 36\n",
      "Row: 2, Column: 1, Value: 22\n",
      "Row: 2, Column: 2, Value: 33\n",
      "Row: 3, Column: 1, Value: 15\n",
      "Row: 3, Column: 2, Value: 26\n"
     ]
    }
   ],
   "source": [
    "for row in 1:size(mat, 1), col in 1:size(mat, 2)\n",
    "    println(\"Row: $row, Column: $col, Value: $(mat[row, col])\")\n",
    "end"
   ]
  },
  {
   "cell_type": "code",
   "execution_count": 13,
   "id": "dde3e37b",
   "metadata": {},
   "outputs": [
    {
     "name": "stdout",
     "output_type": "stream",
     "text": [
      "(1, 1)(1, 2)(1, 3)(1, 4)\n",
      "(2, 1)(2, 2)(2, 3)(2, 4)\n",
      "(3, 1)(3, 2)(3, 3)(3, 4)\n",
      "(4, 1)(4, 2)(4, 3)(4, 4)\n",
      "(5, 1)(5, 2)(5, 3)(5, 4)\n",
      "(6, 1)(6, 2)(6, 3)(6, 4)\n"
     ]
    }
   ],
   "source": [
    "for row in 1:6\n",
    "    for col in 1:4\n",
    "        print((row, col))\n",
    "    end\n",
    "    println()\n",
    "end"
   ]
  },
  {
   "cell_type": "code",
   "execution_count": 14,
   "id": "68f3689c",
   "metadata": {},
   "outputs": [
    {
     "name": "stdout",
     "output_type": "stream",
     "text": [
      "(1, 1)(1, 2)(1, 3)(1, 4)\n",
      "(2, 1)(2, 2)(2, 3)(2, 4)\n",
      "(3, 1)(3, 2)(3, 3)(3, 4)\n",
      "(4, 1)(4, 2)(4, 3)(4, 4)\n",
      "(5, 1)(5, 2)(5, 3)(5, 4)\n",
      "(6, 1)(6, 2)(6, 3)(6, 4)\n"
     ]
    }
   ],
   "source": [
    "for row in 1:6, col in 1:4\n",
    "    print((row, col))\n",
    "    if col == 4\n",
    "        println()\n",
    "    end\n",
    "end"
   ]
  },
  {
   "cell_type": "code",
   "execution_count": 15,
   "id": "b4242306",
   "metadata": {},
   "outputs": [
    {
     "data": {
      "text/plain": [
       "4-element Vector{Int64}:\n",
       " 1879\n",
       " 1867\n",
       " 1643\n",
       " 1918"
      ]
     },
     "execution_count": 15,
     "metadata": {},
     "output_type": "execute_result"
    }
   ],
   "source": [
    "names = [\"Albert\", \"Marie\", \"Isaac\", \"Rosalind\", \"Richard\"]\n",
    "surnames = [\"Einstein\", \"Curie\", \"Newton\", \"Franklin\", \"Feynman\"]\n",
    "birthyears = [1879, 1867, 1643, 1918]"
   ]
  },
  {
   "cell_type": "code",
   "execution_count": 16,
   "id": "67cb6374",
   "metadata": {},
   "outputs": [
    {
     "name": "stdout",
     "output_type": "stream",
     "text": [
      "(\"Albert\", \"Einstein\", 1879)\n",
      "(\"Marie\", \"Curie\", 1867)\n",
      "(\"Isaac\", \"Newton\", 1643)\n",
      "(\"Rosalind\", \"Franklin\", 1918)\n"
     ]
    }
   ],
   "source": [
    "for (name, surname, byear) ∈ zip(names, surnames, birthyears)\n",
    "    println((name, surname, byear))\n",
    "end"
   ]
  },
  {
   "cell_type": "code",
   "execution_count": 17,
   "id": "d077fd3d",
   "metadata": {},
   "outputs": [
    {
     "data": {
      "text/plain": [
       "Dict{String, Int64} with 4 entries:\n",
       "  \"c\" => 30\n",
       "  \"b\" => 20\n",
       "  \"a\" => 10\n",
       "  \"d\" => 40"
      ]
     },
     "execution_count": 17,
     "metadata": {},
     "output_type": "execute_result"
    }
   ],
   "source": [
    "d = Dict(\"a\" => 10, \"b\" => 20, \"c\" => 30, \"d\" => 40)"
   ]
  },
  {
   "cell_type": "code",
   "execution_count": 18,
   "id": "302f77fd",
   "metadata": {},
   "outputs": [
    {
     "name": "stdout",
     "output_type": "stream",
     "text": [
      "Key is: c, Value is: 30\n",
      "Key is: b, Value is: 20\n",
      "Key is: a, Value is: 10\n",
      "Key is: d, Value is: 40\n"
     ]
    }
   ],
   "source": [
    "for (key, val) in d\n",
    "    println(\"Key is: $key, Value is: $val\")\n",
    "end"
   ]
  },
  {
   "cell_type": "code",
   "execution_count": 20,
   "id": "f22e398d",
   "metadata": {},
   "outputs": [
    {
     "name": "stdout",
     "output_type": "stream",
     "text": [
      "Key is: c, Value is: 30\n",
      "Key is: b, Value is: 20\n",
      "Key is: a, Value is: 10\n",
      "Key is: d, Value is: 40\n"
     ]
    }
   ],
   "source": [
    "for item in d\n",
    "    println(\"Key is: $(item.first), Value is: $(item.second)\")\n",
    "end"
   ]
  },
  {
   "cell_type": "code",
   "execution_count": 21,
   "id": "0d844a45",
   "metadata": {},
   "outputs": [
    {
     "name": "stdout",
     "output_type": "stream",
     "text": [
      "J|u|l|i|a| |L|a|n|g|u|a|g|e|"
     ]
    }
   ],
   "source": [
    "str = \"Julia Language\"\n",
    "for c in str\n",
    "    print(\"$c|\")\n",
    "end"
   ]
  },
  {
   "cell_type": "code",
   "execution_count": 22,
   "id": "87449d7c",
   "metadata": {},
   "outputs": [
    {
     "name": "stdout",
     "output_type": "stream",
     "text": [
      "For loop is the most common type of loop.\n",
      "The other type of loop is the while loop.\n",
      "Loops are very powerful and fast in Julia.\n"
     ]
    }
   ],
   "source": [
    "file = \"input_file.txt\"\n",
    "for line in eachline(file)\n",
    "    println(line)\n",
    "end"
   ]
  },
  {
   "cell_type": "code",
   "execution_count": 24,
   "id": "f82e1d68",
   "metadata": {},
   "outputs": [
    {
     "data": {
      "text/plain": [
       "100-element Vector{Int64}:\n",
       "  563626\n",
       " -384868\n",
       " -102319\n",
       " -981435\n",
       " -490489\n",
       " -720691\n",
       "  226930\n",
       "  306192\n",
       "  522477\n",
       "  750606\n",
       " -170691\n",
       "  521139\n",
       " -602745\n",
       "       ⋮\n",
       "  -21601\n",
       " -320530\n",
       " -775431\n",
       " -931993\n",
       "  667955\n",
       "   96197\n",
       "  247148\n",
       "  545369\n",
       "  663799\n",
       " -334699\n",
       " -217292\n",
       "  -78002"
      ]
     },
     "execution_count": 24,
     "metadata": {},
     "output_type": "execute_result"
    }
   ],
   "source": [
    "arr = rand(-1_000_000:1_000_000, 100)"
   ]
  },
  {
   "cell_type": "code",
   "execution_count": 26,
   "id": "9d5f7b2c",
   "metadata": {},
   "outputs": [
    {
     "name": "stdout",
     "output_type": "stream",
     "text": [
      "922815\n"
     ]
    }
   ],
   "source": [
    "maxnum = typemin(Int64)\n",
    "\n",
    "for num ∈ arr\n",
    "    if num > maxnum\n",
    "        maxnum = num\n",
    "    end\n",
    "end\n",
    "println(maxnum)"
   ]
  },
  {
   "cell_type": "code",
   "execution_count": 27,
   "id": "6e7cc1a9",
   "metadata": {},
   "outputs": [
    {
     "name": "stdout",
     "output_type": "stream",
     "text": [
      "-40695.2\n"
     ]
    }
   ],
   "source": [
    "sum = 0\n",
    "n = 0\n",
    "\n",
    "for num = arr\n",
    "    sum += num\n",
    "    n += 1\n",
    "end\n",
    "average = sum / n\n",
    "println(average)"
   ]
  },
  {
   "cell_type": "code",
   "execution_count": null,
   "id": "07584ca8",
   "metadata": {},
   "outputs": [],
   "source": []
  }
 ],
 "metadata": {
  "kernelspec": {
   "display_name": "Julia 1.8.5",
   "language": "julia",
   "name": "julia-1.8"
  },
  "language_info": {
   "file_extension": ".jl",
   "mimetype": "application/julia",
   "name": "julia",
   "version": "1.8.5"
  }
 },
 "nbformat": 4,
 "nbformat_minor": 5
}
