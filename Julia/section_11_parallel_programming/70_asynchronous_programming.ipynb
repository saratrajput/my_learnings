{
 "cells": [
  {
   "attachments": {},
   "cell_type": "markdown",
   "metadata": {},
   "source": [
    "# Asynchronous Programming"
   ]
  },
  {
   "cell_type": "code",
   "execution_count": 1,
   "metadata": {},
   "outputs": [
    {
     "name": "stdout",
     "output_type": "stream",
     "text": [
      "  3.003101 seconds (4.62 k allocations: 238.927 KiB, 0.26% compilation time)\n"
     ]
    }
   ],
   "source": [
    "@time for i ∈ 1:3\n",
    "    sleep(1)\n",
    "end"
   ]
  },
  {
   "cell_type": "code",
   "execution_count": 2,
   "metadata": {},
   "outputs": [
    {
     "name": "stdout",
     "output_type": "stream",
     "text": [
      "  0.011751 seconds (12.79 k allocations: 727.562 KiB, 56.20% compilation time)\n"
     ]
    }
   ],
   "source": [
    "@time for i ∈ 1:3\n",
    "    @async sleep(1)\n",
    "end"
   ]
  },
  {
   "cell_type": "code",
   "execution_count": 3,
   "metadata": {},
   "outputs": [
    {
     "name": "stdout",
     "output_type": "stream",
     "text": [
      "  1.018471 seconds (798 allocations: 46.313 KiB, 1.67% compilation time)\n"
     ]
    }
   ],
   "source": [
    "@time @sync for i ∈ 1:3\n",
    "    @async sleep(1)\n",
    "end"
   ]
  },
  {
   "attachments": {},
   "cell_type": "markdown",
   "metadata": {},
   "source": [
    "### Async macro for accepting multiple connections"
   ]
  },
  {
   "cell_type": "code",
   "execution_count": null,
   "metadata": {},
   "outputs": [],
   "source": [
    "using Sockets\n",
    "server = listen(2001)\n",
    "\n",
    "while true\n",
    "    conn = accept(server)\n",
    "    @async begin\n",
    "        while true\n",
    "            line = readline(conn);\n",
    "            println(\"Incoming message :> \", line)\n",
    "        end\n",
    "    end"
   ]
  },
  {
   "attachments": {},
   "cell_type": "markdown",
   "metadata": {},
   "source": [
    "## Task Macro"
   ]
  },
  {
   "cell_type": "code",
   "execution_count": 4,
   "metadata": {},
   "outputs": [
    {
     "data": {
      "text/plain": [
       "Task (runnable) @0x00007ff9373c42f0"
      ]
     },
     "metadata": {},
     "output_type": "display_data"
    }
   ],
   "source": [
    "t1 = @task begin\n",
    "    println(\"beginnning task t1\")\n",
    "    sleep(3)\n",
    "    println(\"finished task t1\")\n",
    "end"
   ]
  },
  {
   "cell_type": "code",
   "execution_count": 5,
   "metadata": {},
   "outputs": [
    {
     "data": {
      "text/plain": [
       "Task (runnable) @0x00007ff8a3337260"
      ]
     },
     "metadata": {},
     "output_type": "display_data"
    }
   ],
   "source": [
    "t2 = Task( () ->\n",
    "    begin\n",
    "        println(\"beginning task t2\")\n",
    "        sleep(3)\n",
    "        println(\"finished task t2\")\n",
    "    end\n",
    ")"
   ]
  },
  {
   "cell_type": "code",
   "execution_count": 6,
   "metadata": {},
   "outputs": [
    {
     "data": {
      "text/plain": [
       "false"
      ]
     },
     "metadata": {},
     "output_type": "display_data"
    }
   ],
   "source": [
    "istaskstarted(t1)"
   ]
  },
  {
   "cell_type": "code",
   "execution_count": 7,
   "metadata": {},
   "outputs": [
    {
     "data": {
      "text/plain": [
       "false"
      ]
     },
     "metadata": {},
     "output_type": "display_data"
    }
   ],
   "source": [
    "istaskdone(t1)"
   ]
  },
  {
   "cell_type": "code",
   "execution_count": 8,
   "metadata": {},
   "outputs": [
    {
     "name": "stdout",
     "output_type": "stream",
     "text": [
      "beginnning task t1\n"
     ]
    },
    {
     "data": {
      "text/plain": [
       "Task (runnable) @0x00007ff9373c42f0"
      ]
     },
     "metadata": {},
     "output_type": "display_data"
    }
   ],
   "source": [
    "schedule(t1)"
   ]
  },
  {
   "cell_type": "code",
   "execution_count": 9,
   "metadata": {},
   "outputs": [
    {
     "name": "stdout",
     "output_type": "stream",
     "text": [
      "beginning task t2\n"
     ]
    },
    {
     "name": "stdout",
     "output_type": "stream",
     "text": [
      "finished task t2\n"
     ]
    }
   ],
   "source": [
    "schedule(t2); wait(t2)"
   ]
  },
  {
   "cell_type": "code",
   "execution_count": 10,
   "metadata": {},
   "outputs": [
    {
     "data": {
      "text/plain": [
       "true"
      ]
     },
     "metadata": {},
     "output_type": "display_data"
    }
   ],
   "source": [
    "istaskstarted(t1)"
   ]
  },
  {
   "cell_type": "code",
   "execution_count": 11,
   "metadata": {},
   "outputs": [
    {
     "data": {
      "text/plain": [
       "true"
      ]
     },
     "metadata": {},
     "output_type": "display_data"
    }
   ],
   "source": [
    "istaskdone(t1)"
   ]
  },
  {
   "cell_type": "code",
   "execution_count": 12,
   "metadata": {},
   "outputs": [
    {
     "data": {
      "text/plain": [
       "6-element Vector{String}:\n",
       " \"https://www.google.com\"\n",
       " \"https://www.yahoo.com\"\n",
       " \"https://www.facebook.com\"\n",
       " \"https://docs.julialang.org/\"\n",
       " \"https://www.udemy.com\"\n",
       " \"https://www.coursera.org/\""
      ]
     },
     "metadata": {},
     "output_type": "display_data"
    }
   ],
   "source": [
    "urllist = [\"https://www.google.com\", \"https://www.yahoo.com\", \"https://www.facebook.com\",\n",
    "           \"https://docs.julialang.org/\", \"https://www.udemy.com\", \"https://www.coursera.org/\"]"
   ]
  },
  {
   "cell_type": "code",
   "execution_count": 13,
   "metadata": {},
   "outputs": [
    {
     "name": "stdout",
     "output_type": "stream",
     "text": [
      "  6.564221 seconds (881.92 k allocations: 46.542 MiB, 0.93% gc time, 6.96% compilation time: 3% of which was recompilation)\n"
     ]
    }
   ],
   "source": [
    "@time for url ∈ urllist\n",
    "    download(url)\n",
    "end"
   ]
  },
  {
   "cell_type": "code",
   "execution_count": 14,
   "metadata": {},
   "outputs": [
    {
     "name": "stdout",
     "output_type": "stream",
     "text": [
      "  1.344593 seconds (10.36 k allocations: 3.060 MiB, 0.16% compilation time)\n"
     ]
    }
   ],
   "source": [
    "@time @sync for url ∈ urllist\n",
    "    @async download(url)\n",
    "end"
   ]
  },
  {
   "cell_type": "code",
   "execution_count": 15,
   "metadata": {},
   "outputs": [
    {
     "data": {
      "text/plain": [
       "inputTask (generic function with 1 method)"
      ]
     },
     "metadata": {},
     "output_type": "display_data"
    }
   ],
   "source": [
    "function inputTask(ch::Channel)\n",
    "    for i ∈ 1:5\n",
    "        put!(ch, i^2)\n",
    "    end\n",
    "end"
   ]
  },
  {
   "cell_type": "code",
   "execution_count": 16,
   "metadata": {},
   "outputs": [
    {
     "data": {
      "text/plain": [
       "Channel{Any}(0) (1 item available)"
      ]
     },
     "metadata": {},
     "output_type": "display_data"
    }
   ],
   "source": [
    "chnl = Channel(inputTask)"
   ]
  },
  {
   "cell_type": "code",
   "execution_count": 17,
   "metadata": {},
   "outputs": [
    {
     "data": {
      "text/plain": [
       "1"
      ]
     },
     "metadata": {},
     "output_type": "display_data"
    }
   ],
   "source": [
    "take!(chnl)"
   ]
  },
  {
   "cell_type": "code",
   "execution_count": 18,
   "metadata": {},
   "outputs": [
    {
     "data": {
      "text/plain": [
       "4"
      ]
     },
     "metadata": {},
     "output_type": "display_data"
    }
   ],
   "source": [
    "take!(chnl)"
   ]
  },
  {
   "cell_type": "code",
   "execution_count": 19,
   "metadata": {},
   "outputs": [
    {
     "data": {
      "text/plain": [
       "9"
      ]
     },
     "metadata": {},
     "output_type": "display_data"
    }
   ],
   "source": [
    "take!(chnl)"
   ]
  },
  {
   "cell_type": "code",
   "execution_count": 20,
   "metadata": {},
   "outputs": [
    {
     "data": {
      "text/plain": [
       "16"
      ]
     },
     "metadata": {},
     "output_type": "display_data"
    }
   ],
   "source": [
    "take!(chnl)"
   ]
  },
  {
   "cell_type": "code",
   "execution_count": 21,
   "metadata": {},
   "outputs": [
    {
     "data": {
      "text/plain": [
       "25"
      ]
     },
     "metadata": {},
     "output_type": "display_data"
    }
   ],
   "source": [
    "take!(chnl)"
   ]
  },
  {
   "cell_type": "code",
   "execution_count": 22,
   "metadata": {},
   "outputs": [
    {
     "ename": "InvalidStateException",
     "evalue": "InvalidStateException: Channel is closed.",
     "output_type": "error",
     "traceback": [
      "InvalidStateException: Channel is closed.\n",
      "\n",
      "Stacktrace:\n",
      " [1] check_channel_state\n",
      "   @ ./channels.jl:174 [inlined]\n",
      " [2] take_unbuffered(c::Channel{Any})\n",
      "   @ Base ./channels.jl:431\n",
      " [3] take!(c::Channel{Any})\n",
      "   @ Base ./channels.jl:410\n",
      " [4] top-level scope\n",
      "   @ ~/dev_root/my_learnings/Julia/section_11_parallel_programming/70_asynchronous_programming.ipynb:1"
     ]
    }
   ],
   "source": [
    "take!(chnl)"
   ]
  },
  {
   "cell_type": "code",
   "execution_count": 23,
   "metadata": {},
   "outputs": [
    {
     "name": "stdout",
     "output_type": "stream",
     "text": [
      "i = 1\n",
      "i = 4\n",
      "i = 9\n",
      "i = 16\n",
      "i = 25\n"
     ]
    }
   ],
   "source": [
    "for i in Channel(inputTask)\n",
    "    @show i\n",
    "end"
   ]
  },
  {
   "cell_type": "code",
   "execution_count": null,
   "metadata": {},
   "outputs": [],
   "source": []
  }
 ],
 "metadata": {
  "kernelspec": {
   "display_name": "Julia 1.8.5",
   "language": "julia",
   "name": "julia-1.8"
  },
  "language_info": {
   "file_extension": ".jl",
   "mimetype": "application/julia",
   "name": "julia",
   "version": "1.8.5"
  },
  "orig_nbformat": 4,
  "vscode": {
   "interpreter": {
    "hash": "49c08a24c23c483922c593ac99877d2b6457a4a5ba0afec1b0e6be2c8f92750e"
   }
  }
 },
 "nbformat": 4,
 "nbformat_minor": 2
}
