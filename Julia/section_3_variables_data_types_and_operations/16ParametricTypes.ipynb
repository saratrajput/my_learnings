{
 "cells": [
  {
   "cell_type": "code",
   "execution_count": 1,
   "id": "da01ff95",
   "metadata": {},
   "outputs": [],
   "source": [
    "struct Rectangle\n",
    "    width::Float64\n",
    "    height::Float64\n",
    "end"
   ]
  },
  {
   "cell_type": "code",
   "execution_count": 2,
   "id": "43255a35",
   "metadata": {},
   "outputs": [],
   "source": [
    "struct ParRectangle{T}\n",
    "    width::T\n",
    "    height::T\n",
    "end"
   ]
  },
  {
   "cell_type": "code",
   "execution_count": 3,
   "id": "9688be0e",
   "metadata": {},
   "outputs": [
    {
     "data": {
      "text/plain": [
       "ParRectangle{Int64}(3, 8)"
      ]
     },
     "execution_count": 3,
     "metadata": {},
     "output_type": "execute_result"
    }
   ],
   "source": [
    "r1 = ParRectangle{Int}(3, 8)"
   ]
  },
  {
   "cell_type": "code",
   "execution_count": 4,
   "id": "2258c90e",
   "metadata": {},
   "outputs": [
    {
     "data": {
      "text/plain": [
       "ParRectangle{Float32}(2.78f0, 3.14f0)"
      ]
     },
     "execution_count": 4,
     "metadata": {},
     "output_type": "execute_result"
    }
   ],
   "source": [
    "r2 = ParRectangle{Float32}(2.78, 3.14)"
   ]
  },
  {
   "cell_type": "code",
   "execution_count": 10,
   "id": "dbe73aca",
   "metadata": {},
   "outputs": [
    {
     "data": {
      "text/plain": [
       "ParRectangle{String}(\"three\", \"five\")"
      ]
     },
     "execution_count": 10,
     "metadata": {},
     "output_type": "execute_result"
    }
   ],
   "source": [
    "r3 = ParRectangle{String}(\"three\", \"five\")"
   ]
  },
  {
   "cell_type": "code",
   "execution_count": 6,
   "id": "8d05a2b7",
   "metadata": {},
   "outputs": [
    {
     "data": {
      "text/plain": [
       "ParRectangle{Int64}"
      ]
     },
     "execution_count": 6,
     "metadata": {},
     "output_type": "execute_result"
    }
   ],
   "source": [
    "typeof(r1)"
   ]
  },
  {
   "cell_type": "code",
   "execution_count": 7,
   "id": "0b437f35",
   "metadata": {},
   "outputs": [
    {
     "data": {
      "text/plain": [
       "ParRectangle{Float32}"
      ]
     },
     "execution_count": 7,
     "metadata": {},
     "output_type": "execute_result"
    }
   ],
   "source": [
    "typeof(r2)"
   ]
  },
  {
   "cell_type": "code",
   "execution_count": 11,
   "id": "dfbd4ccf",
   "metadata": {},
   "outputs": [
    {
     "data": {
      "text/plain": [
       "ParRectangle{String}"
      ]
     },
     "execution_count": 11,
     "metadata": {},
     "output_type": "execute_result"
    }
   ],
   "source": [
    "typeof(r3)"
   ]
  },
  {
   "cell_type": "code",
   "execution_count": 12,
   "id": "cf4bb39d",
   "metadata": {},
   "outputs": [
    {
     "data": {
      "text/plain": [
       "true"
      ]
     },
     "execution_count": 12,
     "metadata": {},
     "output_type": "execute_result"
    }
   ],
   "source": [
    "ParRectangle{Float64} <: ParRectangle"
   ]
  },
  {
   "cell_type": "code",
   "execution_count": 13,
   "id": "5bfe3907",
   "metadata": {},
   "outputs": [
    {
     "data": {
      "text/plain": [
       "ParRectangle{Int64}(3, 4)"
      ]
     },
     "execution_count": 13,
     "metadata": {},
     "output_type": "execute_result"
    }
   ],
   "source": [
    "r4 = ParRectangle(3, 4)"
   ]
  },
  {
   "cell_type": "code",
   "execution_count": 14,
   "id": "5e98041e",
   "metadata": {},
   "outputs": [
    {
     "data": {
      "text/plain": [
       "ParRectangle{Float64}(2.0, 3.0)"
      ]
     },
     "execution_count": 14,
     "metadata": {},
     "output_type": "execute_result"
    }
   ],
   "source": [
    "r5 = ParRectangle(2.0, 3.0)"
   ]
  },
  {
   "cell_type": "code",
   "execution_count": 15,
   "id": "b783a7e9",
   "metadata": {},
   "outputs": [
    {
     "ename": "LoadError",
     "evalue": "MethodError: no method matching ParRectangle(::Int64, ::Float64)\n\u001b[0mClosest candidates are:\n\u001b[0m  ParRectangle(::T, \u001b[91m::T\u001b[39m) where T at In[2]:2",
     "output_type": "error",
     "traceback": [
      "MethodError: no method matching ParRectangle(::Int64, ::Float64)\n\u001b[0mClosest candidates are:\n\u001b[0m  ParRectangle(::T, \u001b[91m::T\u001b[39m) where T at In[2]:2",
      "",
      "Stacktrace:",
      " [1] top-level scope",
      "   @ In[15]:1"
     ]
    }
   ],
   "source": [
    "r6 = ParRectangle(2, 3.0)"
   ]
  },
  {
   "cell_type": "code",
   "execution_count": 16,
   "id": "2fa67da0",
   "metadata": {},
   "outputs": [],
   "source": [
    "struct NumRectangle{T <: Real}\n",
    "    width::T\n",
    "    height::T\n",
    "end"
   ]
  },
  {
   "cell_type": "code",
   "execution_count": 17,
   "id": "b2ffc174",
   "metadata": {},
   "outputs": [
    {
     "ename": "LoadError",
     "evalue": "TypeError: in NumRectangle, in T, expected T<:Real, got Type{String}",
     "output_type": "error",
     "traceback": [
      "TypeError: in NumRectangle, in T, expected T<:Real, got Type{String}",
      "",
      "Stacktrace:",
      " [1] top-level scope",
      "   @ In[17]:1"
     ]
    }
   ],
   "source": [
    "r4 = NumRectangle{String}(\"three\", \"five\")"
   ]
  },
  {
   "cell_type": "code",
   "execution_count": 18,
   "id": "51751fb6",
   "metadata": {},
   "outputs": [],
   "source": [
    "abstract type Color{T} end"
   ]
  },
  {
   "cell_type": "code",
   "execution_count": 19,
   "id": "947d7cdd",
   "metadata": {},
   "outputs": [
    {
     "data": {
      "text/plain": [
       "true"
      ]
     },
     "execution_count": 19,
     "metadata": {},
     "output_type": "execute_result"
    }
   ],
   "source": [
    "Color{Float64} <: Color"
   ]
  },
  {
   "cell_type": "code",
   "execution_count": 20,
   "id": "3609c0c4",
   "metadata": {},
   "outputs": [
    {
     "data": {
      "text/plain": [
       "true"
      ]
     },
     "execution_count": 20,
     "metadata": {},
     "output_type": "execute_result"
    }
   ],
   "source": [
    "Color{String} <: Color"
   ]
  },
  {
   "cell_type": "code",
   "execution_count": 21,
   "id": "cbafd70d",
   "metadata": {},
   "outputs": [],
   "source": [
    "abstract type NewColor{T<:Real} end"
   ]
  },
  {
   "cell_type": "code",
   "execution_count": 22,
   "id": "e592889e",
   "metadata": {},
   "outputs": [],
   "source": [
    "struct Rational{T<:Integer} <: Real\n",
    "    num::T\n",
    "    den::T\n",
    "end"
   ]
  },
  {
   "cell_type": "code",
   "execution_count": 23,
   "id": "1671d1e3",
   "metadata": {},
   "outputs": [
    {
     "data": {
      "text/plain": [
       "Rational{Int64}(4, 5)"
      ]
     },
     "execution_count": 23,
     "metadata": {},
     "output_type": "execute_result"
    }
   ],
   "source": [
    "r = Rational(4, 5)"
   ]
  },
  {
   "cell_type": "code",
   "execution_count": 24,
   "id": "c6867fde",
   "metadata": {},
   "outputs": [
    {
     "data": {
      "text/plain": [
       "Rational{Int64}"
      ]
     },
     "execution_count": 24,
     "metadata": {},
     "output_type": "execute_result"
    }
   ],
   "source": [
    "typeof(r)"
   ]
  },
  {
   "cell_type": "code",
   "execution_count": 26,
   "id": "7adc9c0b",
   "metadata": {},
   "outputs": [],
   "source": [
    "struct NewShape{T<:AbstractString, P<:Number}\n",
    "    name::T\n",
    "    color::T\n",
    "    x_coord::P\n",
    "    y__coord::P\n",
    "end"
   ]
  },
  {
   "cell_type": "code",
   "execution_count": 27,
   "id": "776eef50",
   "metadata": {},
   "outputs": [
    {
     "data": {
      "text/plain": [
       "NewShape{String, Float64}(\"Rectangle\", \"Red\", 5.5, 7.5)"
      ]
     },
     "execution_count": 27,
     "metadata": {},
     "output_type": "execute_result"
    }
   ],
   "source": [
    "rect = NewShape(\"Rectangle\", \"Red\", 5.5, 7.5)"
   ]
  },
  {
   "cell_type": "code",
   "execution_count": 28,
   "id": "b9845ccd",
   "metadata": {},
   "outputs": [
    {
     "ename": "LoadError",
     "evalue": "MethodError: no method matching NewShape(::String, ::String, ::Int64, ::Float64)\n\u001b[0mClosest candidates are:\n\u001b[0m  NewShape(::T, ::T, ::P, \u001b[91m::P\u001b[39m) where {T<:AbstractString, P<:Number} at In[26]:2",
     "output_type": "error",
     "traceback": [
      "MethodError: no method matching NewShape(::String, ::String, ::Int64, ::Float64)\n\u001b[0mClosest candidates are:\n\u001b[0m  NewShape(::T, ::T, ::P, \u001b[91m::P\u001b[39m) where {T<:AbstractString, P<:Number} at In[26]:2",
      "",
      "Stacktrace:",
      " [1] top-level scope",
      "   @ In[28]:1"
     ]
    }
   ],
   "source": [
    "circle = NewShape(\"Circle\", \"Black\", 3, 4.5)"
   ]
  },
  {
   "cell_type": "code",
   "execution_count": null,
   "id": "a07226bd",
   "metadata": {},
   "outputs": [],
   "source": []
  }
 ],
 "metadata": {
  "kernelspec": {
   "display_name": "Julia 1.8.5",
   "language": "julia",
   "name": "julia-1.8"
  },
  "language_info": {
   "file_extension": ".jl",
   "mimetype": "application/julia",
   "name": "julia",
   "version": "1.8.5"
  }
 },
 "nbformat": 4,
 "nbformat_minor": 5
}
