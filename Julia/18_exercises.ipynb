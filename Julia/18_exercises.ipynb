{
 "cells": [
  {
   "cell_type": "markdown",
   "id": "7425d7ec",
   "metadata": {},
   "source": [
    "# Exercises"
   ]
  },
  {
   "cell_type": "markdown",
   "id": "7e6de90b",
   "metadata": {},
   "source": [
    "## Exercise-1\n",
    "\n",
    "* Create a struct for a rectangular prism.\n",
    "\n",
    "* The struct should include three fields: width, length, height.\n",
    "\n",
    "* Data types of the fields should be the same and they should be a subtype of Real type.\n",
    "\n",
    "* Create an instance of a Prism type. Set the values for width, length, and height any value you like. (What is the point you should be careful about when setting the values?)\n",
    "\n",
    "* Calculate the volume of the prism object using the field values."
   ]
  },
  {
   "cell_type": "code",
   "execution_count": 1,
   "id": "53d44c67",
   "metadata": {},
   "outputs": [],
   "source": [
    "struct Prism{T <: Real}\n",
    "    width::T\n",
    "    length::T\n",
    "    height::T\n",
    "end"
   ]
  },
  {
   "cell_type": "code",
   "execution_count": 2,
   "id": "41badeed",
   "metadata": {},
   "outputs": [
    {
     "data": {
      "text/plain": [
       "Prism{Float64}(2.5, 3.0, 4.2)"
      ]
     },
     "execution_count": 2,
     "metadata": {},
     "output_type": "execute_result"
    }
   ],
   "source": [
    "# create an instance of Prism type\n",
    "my_prism = Prism(2.5, 3.0, 4.2)"
   ]
  },
  {
   "cell_type": "code",
   "execution_count": 3,
   "id": "af0c80e0",
   "metadata": {},
   "outputs": [
    {
     "data": {
      "text/plain": [
       "31.5"
      ]
     },
     "execution_count": 3,
     "metadata": {},
     "output_type": "execute_result"
    }
   ],
   "source": [
    "# calculate volume of the prism object\n",
    "volume = my_prism.width * my_prism.length * my_prism.height"
   ]
  },
  {
   "cell_type": "markdown",
   "id": "c12a74d1",
   "metadata": {},
   "source": [
    "## Exercise-2\n",
    "\n",
    "* Assign the value of 42 to the variable name myint.\n",
    "\n",
    "* Convert the variable myint to float data type. Assign it to the variable name myfloat."
   ]
  },
  {
   "cell_type": "code",
   "execution_count": 17,
   "id": "9d1d90b7",
   "metadata": {},
   "outputs": [
    {
     "data": {
      "text/plain": [
       "42"
      ]
     },
     "execution_count": 17,
     "metadata": {},
     "output_type": "execute_result"
    }
   ],
   "source": [
    "myint = 42"
   ]
  },
  {
   "cell_type": "code",
   "execution_count": 18,
   "id": "1640f69b",
   "metadata": {},
   "outputs": [
    {
     "data": {
      "text/plain": [
       "Int64"
      ]
     },
     "execution_count": 18,
     "metadata": {},
     "output_type": "execute_result"
    }
   ],
   "source": [
    "typeof(myint)"
   ]
  },
  {
   "cell_type": "code",
   "execution_count": 19,
   "id": "368926f2",
   "metadata": {},
   "outputs": [
    {
     "data": {
      "text/plain": [
       "42.0"
      ]
     },
     "execution_count": 19,
     "metadata": {},
     "output_type": "execute_result"
    }
   ],
   "source": [
    "myfloat = float(myint)"
   ]
  },
  {
   "cell_type": "code",
   "execution_count": 20,
   "id": "45e23d18",
   "metadata": {},
   "outputs": [
    {
     "data": {
      "text/plain": [
       "Float64"
      ]
     },
     "execution_count": 20,
     "metadata": {},
     "output_type": "execute_result"
    }
   ],
   "source": [
    "typeof(myfloat)"
   ]
  },
  {
   "cell_type": "markdown",
   "id": "e8fb271b",
   "metadata": {},
   "source": [
    "### Exercise-3\n",
    "Body mass index is calculated with the formula weight/height^2 where weight is in kg and height is in meter.\n",
    "\n",
    "Consider the following variables.\n",
    "\n",
    "name = \"Arthur\"\n",
    "weight = 75\n",
    "height = 1.80 \n",
    "Print the following line to the Julia REPL.\n",
    "\n",
    "Hello Arthur. You are 75 kg and 1.8 m. Your BMI is 23.15.\n",
    "\n",
    "Hint: To round a floating number you can use the round function. For example, round(2.718281828, digits=4) = 2.7183."
   ]
  },
  {
   "cell_type": "code",
   "execution_count": 26,
   "id": "0749b447",
   "metadata": {},
   "outputs": [
    {
     "data": {
      "text/plain": [
       "23.15"
      ]
     },
     "execution_count": 26,
     "metadata": {},
     "output_type": "execute_result"
    }
   ],
   "source": [
    "name = \"Arthur\"\n",
    "weight = 75\n",
    "height = 1.80\n",
    "bmi = round(weight / height^2, digits=2)"
   ]
  },
  {
   "cell_type": "code",
   "execution_count": 27,
   "id": "4189908b",
   "metadata": {},
   "outputs": [
    {
     "name": "stdout",
     "output_type": "stream",
     "text": [
      "Hello Arthur. You are 75 kg and 1.8 m. Your BMI is 23.15."
     ]
    }
   ],
   "source": [
    "print(\"Hello $name. You are $weight kg and $height m. Your BMI is $bmi.\")"
   ]
  },
  {
   "cell_type": "code",
   "execution_count": null,
   "id": "e0a610bd",
   "metadata": {},
   "outputs": [],
   "source": []
  }
 ],
 "metadata": {
  "kernelspec": {
   "display_name": "Julia 1.8.5",
   "language": "julia",
   "name": "julia-1.8"
  },
  "language_info": {
   "file_extension": ".jl",
   "mimetype": "application/julia",
   "name": "julia",
   "version": "1.8.5"
  }
 },
 "nbformat": 4,
 "nbformat_minor": 5
}
