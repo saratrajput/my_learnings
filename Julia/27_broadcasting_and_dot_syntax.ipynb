{
 "cells": [
  {
   "cell_type": "code",
   "execution_count": 1,
   "id": "0aa48848",
   "metadata": {},
   "outputs": [
    {
     "data": {
      "text/plain": [
       "7"
      ]
     },
     "execution_count": 1,
     "metadata": {},
     "output_type": "execute_result"
    }
   ],
   "source": [
    "v = Vector(1:5);\n",
    "n = 7"
   ]
  },
  {
   "cell_type": "code",
   "execution_count": 3,
   "id": "ca075b37",
   "metadata": {},
   "outputs": [
    {
     "ename": "LoadError",
     "evalue": "MethodError: no method matching +(::Vector{Int64}, ::Int64)\nFor element-wise addition, use broadcasting with dot syntax: array .+ scalar\n\u001b[0mClosest candidates are:\n\u001b[0m  +(::Any, ::Any, \u001b[91m::Any\u001b[39m, \u001b[91m::Any...\u001b[39m) at operators.jl:591\n\u001b[0m  +(\u001b[91m::T\u001b[39m, ::T) where T<:Union{Int128, Int16, Int32, Int64, Int8, UInt128, UInt16, UInt32, UInt64, UInt8} at int.jl:87\n\u001b[0m  +(\u001b[91m::LinearAlgebra.UniformScaling\u001b[39m, ::Number) at /julia/julia-1.8.5/share/julia/stdlib/v1.8/LinearAlgebra/src/uniformscaling.jl:144\n\u001b[0m  ...",
     "output_type": "error",
     "traceback": [
      "MethodError: no method matching +(::Vector{Int64}, ::Int64)\nFor element-wise addition, use broadcasting with dot syntax: array .+ scalar\n\u001b[0mClosest candidates are:\n\u001b[0m  +(::Any, ::Any, \u001b[91m::Any\u001b[39m, \u001b[91m::Any...\u001b[39m) at operators.jl:591\n\u001b[0m  +(\u001b[91m::T\u001b[39m, ::T) where T<:Union{Int128, Int16, Int32, Int64, Int8, UInt128, UInt16, UInt32, UInt64, UInt8} at int.jl:87\n\u001b[0m  +(\u001b[91m::LinearAlgebra.UniformScaling\u001b[39m, ::Number) at /julia/julia-1.8.5/share/julia/stdlib/v1.8/LinearAlgebra/src/uniformscaling.jl:144\n\u001b[0m  ...",
      "",
      "Stacktrace:",
      " [1] top-level scope",
      "   @ In[3]:1"
     ]
    }
   ],
   "source": [
    "v + n"
   ]
  },
  {
   "cell_type": "code",
   "execution_count": 4,
   "id": "25c46455",
   "metadata": {},
   "outputs": [
    {
     "data": {
      "text/plain": [
       "5-element Vector{Int64}:\n",
       "  8\n",
       "  9\n",
       " 10\n",
       " 11\n",
       " 12"
      ]
     },
     "execution_count": 4,
     "metadata": {},
     "output_type": "execute_result"
    }
   ],
   "source": [
    "v + repeat([n], size(v, 1))"
   ]
  },
  {
   "cell_type": "code",
   "execution_count": 5,
   "id": "e694429f",
   "metadata": {},
   "outputs": [
    {
     "data": {
      "text/plain": [
       "5-element Vector{Int64}:\n",
       "  8\n",
       "  9\n",
       " 10\n",
       " 11\n",
       " 12"
      ]
     },
     "execution_count": 5,
     "metadata": {},
     "output_type": "execute_result"
    }
   ],
   "source": [
    "broadcast(+, v, n)"
   ]
  },
  {
   "cell_type": "code",
   "execution_count": 6,
   "id": "02988d46",
   "metadata": {},
   "outputs": [
    {
     "data": {
      "text/plain": [
       "5-element Vector{Int64}:\n",
       "  8\n",
       "  9\n",
       " 10\n",
       " 11\n",
       " 12"
      ]
     },
     "execution_count": 6,
     "metadata": {},
     "output_type": "execute_result"
    }
   ],
   "source": [
    "v .+ n"
   ]
  },
  {
   "cell_type": "code",
   "execution_count": 7,
   "id": "c05af590",
   "metadata": {},
   "outputs": [],
   "source": [
    "a = [4 7 2 9 11 15];\n",
    "b = [3 7 3 9 12 15];"
   ]
  },
  {
   "cell_type": "code",
   "execution_count": 8,
   "id": "60c312ac",
   "metadata": {},
   "outputs": [
    {
     "data": {
      "text/plain": [
       "false"
      ]
     },
     "execution_count": 8,
     "metadata": {},
     "output_type": "execute_result"
    }
   ],
   "source": [
    "a == b"
   ]
  },
  {
   "cell_type": "code",
   "execution_count": 9,
   "id": "c0b7fd4b",
   "metadata": {},
   "outputs": [
    {
     "data": {
      "text/plain": [
       "1×6 BitMatrix:\n",
       " 0  1  0  1  0  1"
      ]
     },
     "execution_count": 9,
     "metadata": {},
     "output_type": "execute_result"
    }
   ],
   "source": [
    "a .== b"
   ]
  },
  {
   "cell_type": "code",
   "execution_count": 10,
   "id": "3ade4c27",
   "metadata": {},
   "outputs": [
    {
     "data": {
      "text/plain": [
       "2×3 Matrix{Int64}:\n",
       " 1  2  3\n",
       " 4  5  6"
      ]
     },
     "execution_count": 10,
     "metadata": {},
     "output_type": "execute_result"
    }
   ],
   "source": [
    "mat = [1 2 3; 4 5 6]"
   ]
  },
  {
   "cell_type": "code",
   "execution_count": 11,
   "id": "61ddc46f",
   "metadata": {},
   "outputs": [
    {
     "data": {
      "text/plain": [
       "7.38905609893065"
      ]
     },
     "execution_count": 11,
     "metadata": {},
     "output_type": "execute_result"
    }
   ],
   "source": [
    "ℯ^2  # \\euler TAB"
   ]
  },
  {
   "cell_type": "code",
   "execution_count": 12,
   "id": "8837e698",
   "metadata": {},
   "outputs": [
    {
     "data": {
      "text/plain": [
       "2×3 Matrix{Float64}:\n",
       "  2.71828    7.38906   20.0855\n",
       " 54.5982   148.413    403.429"
      ]
     },
     "execution_count": 12,
     "metadata": {},
     "output_type": "execute_result"
    }
   ],
   "source": [
    "ℯ .^ mat"
   ]
  },
  {
   "cell_type": "code",
   "execution_count": 13,
   "id": "37b65978",
   "metadata": {},
   "outputs": [
    {
     "data": {
      "text/plain": [
       "2×3 Matrix{Float64}:\n",
       "  2.71828    7.38906   20.0855\n",
       " 54.5982   148.413    403.429"
      ]
     },
     "execution_count": 13,
     "metadata": {},
     "output_type": "execute_result"
    }
   ],
   "source": [
    "exp.(mat)"
   ]
  },
  {
   "cell_type": "code",
   "execution_count": 14,
   "id": "6330047d",
   "metadata": {},
   "outputs": [
    {
     "data": {
      "text/plain": [
       "2×3 Matrix{Float64}:\n",
       " 1.0  1.41421  1.73205\n",
       " 2.0  2.23607  2.44949"
      ]
     },
     "execution_count": 14,
     "metadata": {},
     "output_type": "execute_result"
    }
   ],
   "source": [
    "sqrt.(mat)"
   ]
  },
  {
   "cell_type": "code",
   "execution_count": 15,
   "id": "c1e7626e",
   "metadata": {},
   "outputs": [
    {
     "data": {
      "text/plain": [
       "2×3 Matrix{Float64}:\n",
       " 1.0  1.41421  1.73205\n",
       " 2.0  2.23607  2.44949"
      ]
     },
     "execution_count": 15,
     "metadata": {},
     "output_type": "execute_result"
    }
   ],
   "source": [
    ".√mat"
   ]
  },
  {
   "cell_type": "code",
   "execution_count": 16,
   "id": "38ee549a",
   "metadata": {},
   "outputs": [
    {
     "data": {
      "text/plain": [
       "1×6 Matrix{Int64}:\n",
       " 3  5  7  9  12  15"
      ]
     },
     "execution_count": 16,
     "metadata": {},
     "output_type": "execute_result"
    }
   ],
   "source": [
    "x = [3 5 7 9 12 15]"
   ]
  },
  {
   "cell_type": "code",
   "execution_count": 17,
   "id": "aef81207",
   "metadata": {},
   "outputs": [
    {
     "data": {
      "text/plain": [
       "1×6 Matrix{Int64}:\n",
       " 38  90  166  266  461  710"
      ]
     },
     "execution_count": 17,
     "metadata": {},
     "output_type": "execute_result"
    }
   ],
   "source": [
    "3 .* x .^2 .+ 2 .* x .+ 5"
   ]
  },
  {
   "cell_type": "code",
   "execution_count": 18,
   "id": "31550d2d",
   "metadata": {},
   "outputs": [
    {
     "data": {
      "text/plain": [
       "1×6 Matrix{Int64}:\n",
       " 38  90  166  266  461  710"
      ]
     },
     "execution_count": 18,
     "metadata": {},
     "output_type": "execute_result"
    }
   ],
   "source": [
    "3x .^2 .+ 2x .+ 5"
   ]
  },
  {
   "cell_type": "code",
   "execution_count": 19,
   "id": "423da748",
   "metadata": {},
   "outputs": [
    {
     "data": {
      "text/plain": [
       "1×8 Matrix{Int64}:\n",
       " 7  22  12  13  16  21  18  76"
      ]
     },
     "execution_count": 19,
     "metadata": {},
     "output_type": "execute_result"
    }
   ],
   "source": [
    "vec = [7 22 12 13 16 21 18 76]"
   ]
  },
  {
   "cell_type": "code",
   "execution_count": 20,
   "id": "feccd270",
   "metadata": {},
   "outputs": [
    {
     "data": {
      "text/plain": [
       "2-element Vector{Int64}:\n",
       "  7\n",
       " 76"
      ]
     },
     "execution_count": 20,
     "metadata": {},
     "output_type": "execute_result"
    }
   ],
   "source": [
    "vec[ [true false false false false false false true]]"
   ]
  },
  {
   "cell_type": "code",
   "execution_count": 21,
   "id": "dee54aa9",
   "metadata": {},
   "outputs": [
    {
     "data": {
      "text/plain": [
       "1×8 BitMatrix:\n",
       " 0  1  0  0  0  1  0  1"
      ]
     },
     "execution_count": 21,
     "metadata": {},
     "output_type": "execute_result"
    }
   ],
   "source": [
    "vec .> 20"
   ]
  },
  {
   "cell_type": "code",
   "execution_count": 22,
   "id": "c6e4af24",
   "metadata": {},
   "outputs": [
    {
     "data": {
      "text/plain": [
       "3-element Vector{Int64}:\n",
       " 22\n",
       " 21\n",
       " 76"
      ]
     },
     "execution_count": 22,
     "metadata": {},
     "output_type": "execute_result"
    }
   ],
   "source": [
    "vec[ vec .> 20 ]"
   ]
  },
  {
   "cell_type": "code",
   "execution_count": 23,
   "id": "72eb1c1e",
   "metadata": {},
   "outputs": [
    {
     "data": {
      "text/plain": [
       "1×8 Matrix{Int64}:\n",
       " 3  2  0  1  0  1  2  0"
      ]
     },
     "execution_count": 23,
     "metadata": {},
     "output_type": "execute_result"
    }
   ],
   "source": [
    "vec .% 4"
   ]
  },
  {
   "cell_type": "code",
   "execution_count": 24,
   "id": "a14aff00",
   "metadata": {},
   "outputs": [
    {
     "data": {
      "text/plain": [
       "1×8 BitMatrix:\n",
       " 0  0  1  0  1  0  0  1"
      ]
     },
     "execution_count": 24,
     "metadata": {},
     "output_type": "execute_result"
    }
   ],
   "source": [
    "(vec .% 4) .== 0"
   ]
  },
  {
   "cell_type": "code",
   "execution_count": 25,
   "id": "b465dd12",
   "metadata": {},
   "outputs": [
    {
     "data": {
      "text/plain": [
       "3-element Vector{Int64}:\n",
       " 12\n",
       " 16\n",
       " 76"
      ]
     },
     "execution_count": 25,
     "metadata": {},
     "output_type": "execute_result"
    }
   ],
   "source": [
    "vec[ (vec .% 4) .== 0]"
   ]
  },
  {
   "cell_type": "code",
   "execution_count": 26,
   "id": "d8e9e03e",
   "metadata": {},
   "outputs": [
    {
     "data": {
      "text/plain": [
       "1×8 BitMatrix:\n",
       " 0  0  1  0  1  0  0  1"
      ]
     },
     "execution_count": 26,
     "metadata": {},
     "output_type": "execute_result"
    }
   ],
   "source": [
    "cond = (vec .% 4) .== 0"
   ]
  },
  {
   "cell_type": "code",
   "execution_count": 27,
   "id": "5cfdfcf5",
   "metadata": {},
   "outputs": [
    {
     "data": {
      "text/plain": [
       "200×10 Matrix{Int64}:\n",
       "  33   94   9  39   36  66  89  45  25  96\n",
       "  98   83  52  72   43  51  27  56  15  40\n",
       "  28   68  39  75   25  47  27  58  60  45\n",
       "  88   45  41  13   92   2  32  16  98  35\n",
       "  17   91  26  52   57  71  62  53  25  12\n",
       "  38   56  71  83   71   9  84  47  61  73\n",
       "  99   82  21  35   61   9  95  23  37  66\n",
       "  59   80  74  38   86  29  37  18  26  33\n",
       " 100    7  25  56   75  48  26   2  86  45\n",
       "  68  100  59  49   70   3   9  49  77  68\n",
       "  40   28  92  75   97   3  33  77  23  24\n",
       "  52   74  80  76   21  63   7  82   5   7\n",
       "  24    4  79  45   32  17  55  80   8   1\n",
       "   ⋮                     ⋮              \n",
       "  51   37  18  42  100  85   4  65  40  99\n",
       "  78   61  78  35    8  98  26  30  99  14\n",
       "  92   16  14  64   43  74  16  53  53  39\n",
       "  34   55  56  68    9  32  83  28  74  73\n",
       "  77   70  27  61   29  86  31  63  35  27\n",
       "  37   95  12  29   60  82  28  96  81   3\n",
       "  39   71  99  60   93  31  59  17  81  11\n",
       "  72   13  82  34    7   8  26  92  56   3\n",
       " 100   80  10  94   39  84  95  74  80  94\n",
       "  53   43  89  56   26  69  84  40  69  40\n",
       "   6   31  16  61   24  18  58  91  70  16\n",
       "  65   95  98  28   94  15  11  84  47  28"
      ]
     },
     "execution_count": 27,
     "metadata": {},
     "output_type": "execute_result"
    }
   ],
   "source": [
    "mat = rand(1: 100, 200, 10)"
   ]
  },
  {
   "cell_type": "code",
   "execution_count": 28,
   "id": "61bebde6",
   "metadata": {},
   "outputs": [],
   "source": [
    "cond1 = mat[:, 1] .% 3 .== 0;"
   ]
  },
  {
   "cell_type": "code",
   "execution_count": 29,
   "id": "a17a8020",
   "metadata": {},
   "outputs": [
    {
     "data": {
      "text/plain": [
       "200-element BitVector:\n",
       " 0\n",
       " 0\n",
       " 1\n",
       " 0\n",
       " 0\n",
       " 1\n",
       " 0\n",
       " 1\n",
       " 0\n",
       " 1\n",
       " 1\n",
       " 0\n",
       " 1\n",
       " ⋮\n",
       " 0\n",
       " 0\n",
       " 1\n",
       " 0\n",
       " 0\n",
       " 0\n",
       " 0\n",
       " 0\n",
       " 1\n",
       " 0\n",
       " 0\n",
       " 0"
      ]
     },
     "execution_count": 29,
     "metadata": {},
     "output_type": "execute_result"
    }
   ],
   "source": [
    "cond2 = mat[:, 2] .% 4 .== 0"
   ]
  },
  {
   "cell_type": "code",
   "execution_count": 30,
   "id": "7654b519",
   "metadata": {},
   "outputs": [
    {
     "data": {
      "text/plain": [
       "10×10 Matrix{Int64}:\n",
       " 24   4  79  45  32  17  55  80   8   1\n",
       " 66  88  11  99  34  39  32  99  86  93\n",
       "  6  96  39  71   9  99  57  26   2  57\n",
       " 99  48  66  23  22  49  24  51  42  48\n",
       " 15  40  97  85  56   8   4  88  67  28\n",
       " 42  44  41  67  20  57  98  51  99  39\n",
       " 15  84   8  37  41  19  40  37  62  94\n",
       " 63  36  94  38  63  24   2  51  25  41\n",
       "  9  16  24  43  32  70  29  50  21  72\n",
       " 12  48  59  21  52  16  97  78  50   2"
      ]
     },
     "execution_count": 30,
     "metadata": {},
     "output_type": "execute_result"
    }
   ],
   "source": [
    "mat[cond1 .& cond2, :]"
   ]
  },
  {
   "cell_type": "code",
   "execution_count": null,
   "id": "057b9cb7",
   "metadata": {},
   "outputs": [],
   "source": []
  }
 ],
 "metadata": {
  "kernelspec": {
   "display_name": "Julia 1.8.5",
   "language": "julia",
   "name": "julia-1.8"
  },
  "language_info": {
   "file_extension": ".jl",
   "mimetype": "application/julia",
   "name": "julia",
   "version": "1.8.5"
  }
 },
 "nbformat": 4,
 "nbformat_minor": 5
}
