{
 "cells": [
  {
   "cell_type": "code",
   "execution_count": 1,
   "id": "d819ed4c",
   "metadata": {},
   "outputs": [
    {
     "data": {
      "text/plain": [
       "Dict{String, Int64} with 3 entries:\n",
       "  \"computer\" => 50\n",
       "  \"tablet\"   => 30\n",
       "  \"phone\"    => 100"
      ]
     },
     "execution_count": 1,
     "metadata": {},
     "output_type": "execute_result"
    }
   ],
   "source": [
    "sales = Dict(\"phone\" => 100, \"computer\" => 50, \"tablet\" => 30)"
   ]
  },
  {
   "cell_type": "code",
   "execution_count": 2,
   "id": "c0539715",
   "metadata": {},
   "outputs": [
    {
     "data": {
      "text/plain": [
       "Dict{String, Int64} with 3 entries:\n",
       "  \"computer\" => 3000\n",
       "  \"tablet\"   => 1000\n",
       "  \"phone\"    => 1200"
      ]
     },
     "execution_count": 2,
     "metadata": {},
     "output_type": "execute_result"
    }
   ],
   "source": [
    "prices = Dict(\"phone\" => 1200, \"computer\" => 3000, \"tablet\" => 1000)"
   ]
  },
  {
   "cell_type": "code",
   "execution_count": 3,
   "id": "8b8a212f",
   "metadata": {},
   "outputs": [
    {
     "ename": "LoadError",
     "evalue": "MethodError: no method matching *(::Dict{String, Int64}, ::Dict{String, Int64})\n\u001b[0mClosest candidates are:\n\u001b[0m  *(::Any, ::Any, \u001b[91m::Any\u001b[39m, \u001b[91m::Any...\u001b[39m) at operators.jl:591",
     "output_type": "error",
     "traceback": [
      "MethodError: no method matching *(::Dict{String, Int64}, ::Dict{String, Int64})\n\u001b[0mClosest candidates are:\n\u001b[0m  *(::Any, ::Any, \u001b[91m::Any\u001b[39m, \u001b[91m::Any...\u001b[39m) at operators.jl:591",
      "",
      "Stacktrace:",
      " [1] top-level scope",
      "   @ In[3]:1"
     ]
    }
   ],
   "source": [
    "revenue = sales * prices"
   ]
  },
  {
   "cell_type": "code",
   "execution_count": 4,
   "id": "7f026963",
   "metadata": {},
   "outputs": [
    {
     "data": {
      "text/plain": [
       "Dict{String, Int64} with 3 entries:\n",
       "  \"computer\" => 3000\n",
       "  \"tablet\"   => 1000\n",
       "  \"phone\"    => 1200"
      ]
     },
     "execution_count": 4,
     "metadata": {},
     "output_type": "execute_result"
    }
   ],
   "source": [
    "revenue = merge(sales, prices)"
   ]
  },
  {
   "cell_type": "code",
   "execution_count": 5,
   "id": "7df1b2b7",
   "metadata": {},
   "outputs": [
    {
     "data": {
      "text/plain": [
       "Dict{String, Int64} with 3 entries:\n",
       "  \"computer\" => 150000\n",
       "  \"tablet\"   => 30000\n",
       "  \"phone\"    => 120000"
      ]
     },
     "execution_count": 5,
     "metadata": {},
     "output_type": "execute_result"
    }
   ],
   "source": [
    "revenue = mergewith(*, sales, prices)"
   ]
  },
  {
   "cell_type": "code",
   "execution_count": 9,
   "id": "8ae44992",
   "metadata": {},
   "outputs": [
    {
     "data": {
      "text/plain": [
       "100-element Vector{Float64}:\n",
       " 100.0\n",
       "  98.98989898989899\n",
       "  97.97979797979798\n",
       "  96.96969696969697\n",
       "  95.95959595959596\n",
       "  94.94949494949495\n",
       "  93.93939393939394\n",
       "  92.92929292929293\n",
       "  91.91919191919192\n",
       "  90.9090909090909\n",
       "  89.8989898989899\n",
       "  88.88888888888889\n",
       "  87.87878787878788\n",
       "   ⋮\n",
       "  11.11111111111111\n",
       "  10.1010101010101\n",
       "   9.090909090909092\n",
       "   8.080808080808081\n",
       "   7.070707070707071\n",
       "   6.0606060606060606\n",
       "   5.05050505050505\n",
       "   4.040404040404041\n",
       "   3.0303030303030303\n",
       "   2.0202020202020203\n",
       "   1.0101010101010102\n",
       "   0.0"
      ]
     },
     "execution_count": 9,
     "metadata": {},
     "output_type": "execute_result"
    }
   ],
   "source": [
    "collect(range(100, 0, length=100))"
   ]
  },
  {
   "cell_type": "code",
   "execution_count": 8,
   "id": "dff2f199",
   "metadata": {},
   "outputs": [
    {
     "data": {
      "text/plain": [
       "51-element Vector{Int64}:\n",
       " 100\n",
       "  98\n",
       "  96\n",
       "  94\n",
       "  92\n",
       "  90\n",
       "  88\n",
       "  86\n",
       "  84\n",
       "  82\n",
       "  80\n",
       "  78\n",
       "  76\n",
       "   ⋮\n",
       "  22\n",
       "  20\n",
       "  18\n",
       "  16\n",
       "  14\n",
       "  12\n",
       "  10\n",
       "   8\n",
       "   6\n",
       "   4\n",
       "   2\n",
       "   0"
      ]
     },
     "execution_count": 8,
     "metadata": {},
     "output_type": "execute_result"
    }
   ],
   "source": [
    "collect(100:-2:0)"
   ]
  },
  {
   "cell_type": "code",
   "execution_count": 10,
   "id": "545e3257",
   "metadata": {},
   "outputs": [
    {
     "data": {
      "text/plain": [
       "Int64[]"
      ]
     },
     "execution_count": 10,
     "metadata": {},
     "output_type": "execute_result"
    }
   ],
   "source": [
    "collect(range(start=0, step=-2, stop=100))"
   ]
  },
  {
   "cell_type": "code",
   "execution_count": 11,
   "id": "46c1f9e4",
   "metadata": {},
   "outputs": [
    {
     "data": {
      "text/plain": [
       "101-element Vector{Int64}:\n",
       "   0\n",
       "   1\n",
       "   2\n",
       "   3\n",
       "   4\n",
       "   5\n",
       "   6\n",
       "   7\n",
       "   8\n",
       "   9\n",
       "  10\n",
       "  11\n",
       "  12\n",
       "   ⋮\n",
       "  89\n",
       "  90\n",
       "  91\n",
       "  92\n",
       "  93\n",
       "  94\n",
       "  95\n",
       "  96\n",
       "  97\n",
       "  98\n",
       "  99\n",
       " 100"
      ]
     },
     "execution_count": 11,
     "metadata": {},
     "output_type": "execute_result"
    }
   ],
   "source": [
    "collect(0:100)"
   ]
  },
  {
   "cell_type": "code",
   "execution_count": 12,
   "id": "9274c19e",
   "metadata": {},
   "outputs": [
    {
     "data": {
      "text/plain": [
       "(\"Julia\", \"Python\", \"Java\", \"C++\", \"Go\", \"R\", \"C#\", \"Rust\")"
      ]
     },
     "execution_count": 12,
     "metadata": {},
     "output_type": "execute_result"
    }
   ],
   "source": [
    "languages = (\"Julia\", \"Python\", \"Java\", \"C++\", \"Go\", \"R\", \"C#\", \"Rust\")"
   ]
  },
  {
   "cell_type": "code",
   "execution_count": 13,
   "id": "725465ba",
   "metadata": {},
   "outputs": [
    {
     "data": {
      "text/plain": [
       "true"
      ]
     },
     "execution_count": 13,
     "metadata": {},
     "output_type": "execute_result"
    }
   ],
   "source": [
    "\"Julia\" in languages"
   ]
  },
  {
   "cell_type": "code",
   "execution_count": 14,
   "id": "32995935",
   "metadata": {},
   "outputs": [
    {
     "data": {
      "text/plain": [
       "true"
      ]
     },
     "execution_count": 14,
     "metadata": {},
     "output_type": "execute_result"
    }
   ],
   "source": [
    "\"Rust\" ∈ languages"
   ]
  },
  {
   "cell_type": "code",
   "execution_count": 15,
   "id": "829b7754",
   "metadata": {},
   "outputs": [
    {
     "data": {
      "text/plain": [
       "true"
      ]
     },
     "execution_count": 15,
     "metadata": {},
     "output_type": "execute_result"
    }
   ],
   "source": [
    "∈(\"Java\", languages)"
   ]
  },
  {
   "cell_type": "code",
   "execution_count": 16,
   "id": "9cbe31bd",
   "metadata": {},
   "outputs": [
    {
     "ename": "LoadError",
     "evalue": "UndefVarError: ⊂ not defined",
     "output_type": "error",
     "traceback": [
      "UndefVarError: ⊂ not defined",
      "",
      "Stacktrace:",
      " [1] top-level scope",
      "   @ In[16]:1"
     ]
    }
   ],
   "source": [
    "\"Rust\" ⊂ languages"
   ]
  },
  {
   "cell_type": "code",
   "execution_count": 17,
   "id": "6a85227a",
   "metadata": {},
   "outputs": [
    {
     "data": {
      "text/plain": [
       "1×3 Matrix{Int64}:\n",
       " 4  16  25"
      ]
     },
     "execution_count": 17,
     "metadata": {},
     "output_type": "execute_result"
    }
   ],
   "source": [
    "x = [1 2 3]\n",
    "y = [4 16 25]"
   ]
  },
  {
   "cell_type": "code",
   "execution_count": 18,
   "id": "38a569a8",
   "metadata": {},
   "outputs": [
    {
     "ename": "LoadError",
     "evalue": "DimensionMismatch: matrix is not square: dimensions are (1, 3)",
     "output_type": "error",
     "traceback": [
      "DimensionMismatch: matrix is not square: dimensions are (1, 3)",
      "",
      "Stacktrace:",
      " [1] checksquare",
      "   @ /julia/julia-1.8.5/share/julia/stdlib/v1.8/LinearAlgebra/src/LinearAlgebra.jl:234 [inlined]",
      " [2] UpperTriangular",
      "   @ /julia/julia-1.8.5/share/julia/stdlib/v1.8/LinearAlgebra/src/triangular.jl:17 [inlined]",
      " [3] UpperTriangular",
      "   @ /julia/julia-1.8.5/share/julia/stdlib/v1.8/LinearAlgebra/src/triangular.jl:24 [inlined]",
      " [4] sqrt(A::Matrix{Int64})",
      "   @ LinearAlgebra /julia/julia-1.8.5/share/julia/stdlib/v1.8/LinearAlgebra/src/dense.jl:858",
      " [5] top-level scope",
      "   @ In[18]:1"
     ]
    }
   ],
   "source": [
    "√y"
   ]
  },
  {
   "cell_type": "code",
   "execution_count": 19,
   "id": "f2d23f98",
   "metadata": {},
   "outputs": [
    {
     "data": {
      "text/plain": [
       "1×3 Matrix{Float64}:\n",
       " 2.0  4.0  5.0"
      ]
     },
     "execution_count": 19,
     "metadata": {},
     "output_type": "execute_result"
    }
   ],
   "source": [
    ".√y"
   ]
  },
  {
   "cell_type": "code",
   "execution_count": 20,
   "id": "84ebe94b",
   "metadata": {},
   "outputs": [
    {
     "ename": "LoadError",
     "evalue": "DimensionMismatch: matrix A has dimensions (1,3), matrix B has dimensions (1,3)",
     "output_type": "error",
     "traceback": [
      "DimensionMismatch: matrix A has dimensions (1,3), matrix B has dimensions (1,3)",
      "",
      "Stacktrace:",
      " [1] _generic_matmatmul!(C::Matrix{Int64}, tA::Char, tB::Char, A::Matrix{Int64}, B::Matrix{Int64}, _add::LinearAlgebra.MulAddMul{true, true, Bool, Bool})",
      "   @ LinearAlgebra /julia/julia-1.8.5/share/julia/stdlib/v1.8/LinearAlgebra/src/matmul.jl:856",
      " [2] generic_matmatmul!(C::Matrix{Int64}, tA::Char, tB::Char, A::Matrix{Int64}, B::Matrix{Int64}, _add::LinearAlgebra.MulAddMul{true, true, Bool, Bool})",
      "   @ LinearAlgebra /julia/julia-1.8.5/share/julia/stdlib/v1.8/LinearAlgebra/src/matmul.jl:844",
      " [3] mul!",
      "   @ /julia/julia-1.8.5/share/julia/stdlib/v1.8/LinearAlgebra/src/matmul.jl:303 [inlined]",
      " [4] mul!",
      "   @ /julia/julia-1.8.5/share/julia/stdlib/v1.8/LinearAlgebra/src/matmul.jl:276 [inlined]",
      " [5] *",
      "   @ /julia/julia-1.8.5/share/julia/stdlib/v1.8/LinearAlgebra/src/matmul.jl:141 [inlined]",
      " [6] power_by_squaring(x_::Matrix{Int64}, p::Int64)",
      "   @ Base ./intfuncs.jl:271",
      " [7] ^",
      "   @ /julia/julia-1.8.5/share/julia/stdlib/v1.8/LinearAlgebra/src/dense.jl:459 [inlined]",
      " [8] literal_pow(f::typeof(^), x::Matrix{Int64}, #unused#::Val{2})",
      "   @ Base ./intfuncs.jl:340",
      " [9] top-level scope",
      "   @ In[20]:1"
     ]
    }
   ],
   "source": [
    "x^2"
   ]
  },
  {
   "cell_type": "code",
   "execution_count": 21,
   "id": "53f4fed7",
   "metadata": {},
   "outputs": [
    {
     "data": {
      "text/plain": [
       "1×3 Matrix{Int64}:\n",
       " 5  18  28"
      ]
     },
     "execution_count": 21,
     "metadata": {},
     "output_type": "execute_result"
    }
   ],
   "source": [
    "x + y"
   ]
  },
  {
   "cell_type": "code",
   "execution_count": 22,
   "id": "8434cfca",
   "metadata": {},
   "outputs": [
    {
     "data": {
      "text/plain": [
       "1×3 Matrix{Int64}:\n",
       " 5  18  28"
      ]
     },
     "execution_count": 22,
     "metadata": {},
     "output_type": "execute_result"
    }
   ],
   "source": [
    "x .+ y"
   ]
  },
  {
   "cell_type": "code",
   "execution_count": 23,
   "id": "6c323e1b",
   "metadata": {},
   "outputs": [
    {
     "data": {
      "text/plain": [
       "1×1 Matrix{Float64}:\n",
       " 0.00048221694561036805"
      ]
     },
     "execution_count": 23,
     "metadata": {},
     "output_type": "execute_result"
    }
   ],
   "source": [
    "(x.^2 .+ .√y) / (3x + 2y.^3)"
   ]
  },
  {
   "cell_type": "code",
   "execution_count": 25,
   "id": "65538df0",
   "metadata": {},
   "outputs": [
    {
     "data": {
      "text/plain": [
       "1×3 Matrix{Float64}:\n",
       " 0.0229008  0.000975848  0.000447871"
      ]
     },
     "execution_count": 25,
     "metadata": {},
     "output_type": "execute_result"
    }
   ],
   "source": [
    "(x.^2 .+ .√y) ./ (3x + 2y.^3)"
   ]
  },
  {
   "cell_type": "code",
   "execution_count": null,
   "id": "0e79f143",
   "metadata": {},
   "outputs": [],
   "source": []
  }
 ],
 "metadata": {
  "kernelspec": {
   "display_name": "Julia 1.8.5",
   "language": "julia",
   "name": "julia-1.8"
  },
  "language_info": {
   "file_extension": ".jl",
   "mimetype": "application/julia",
   "name": "julia",
   "version": "1.8.5"
  }
 },
 "nbformat": 4,
 "nbformat_minor": 5
}
