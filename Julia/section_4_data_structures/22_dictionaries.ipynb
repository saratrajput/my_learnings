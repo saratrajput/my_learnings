{
 "cells": [
  {
   "cell_type": "code",
   "execution_count": 1,
   "id": "0983eeae",
   "metadata": {},
   "outputs": [
    {
     "data": {
      "text/plain": [
       "Dict{Any, Any}()"
      ]
     },
     "execution_count": 1,
     "metadata": {},
     "output_type": "execute_result"
    }
   ],
   "source": [
    "d1 = Dict()"
   ]
  },
  {
   "cell_type": "code",
   "execution_count": 2,
   "id": "3bd599fb",
   "metadata": {},
   "outputs": [
    {
     "data": {
      "text/plain": [
       "Dict{String, Int64} with 4 entries:\n",
       "  \"albert\"  => 100\n",
       "  \"carl\"    => 97\n",
       "  \"marie\"   => 99\n",
       "  \"richard\" => 98"
      ]
     },
     "execution_count": 2,
     "metadata": {},
     "output_type": "execute_result"
    }
   ],
   "source": [
    "studentgrades = Dict([(\"albert\", 100), (\"marie\", 99), (\"richard\", 98), (\"carl\", 97)])"
   ]
  },
  {
   "cell_type": "code",
   "execution_count": 3,
   "id": "05f3264f",
   "metadata": {},
   "outputs": [
    {
     "data": {
      "text/plain": [
       "Dict{String, Int64} with 4 entries:\n",
       "  \"albert\"  => 100\n",
       "  \"carl\"    => 97\n",
       "  \"marie\"   => 99\n",
       "  \"richard\" => 98"
      ]
     },
     "execution_count": 3,
     "metadata": {},
     "output_type": "execute_result"
    }
   ],
   "source": [
    "studentgrades = Dict(\"albert\" => 100, \"marie\" => 99, \"richard\" => 98, \"carl\" => 97)"
   ]
  },
  {
   "cell_type": "code",
   "execution_count": 4,
   "id": "e31616f2",
   "metadata": {},
   "outputs": [
    {
     "data": {
      "text/plain": [
       "Dict{Any, Any}()"
      ]
     },
     "execution_count": 4,
     "metadata": {},
     "output_type": "execute_result"
    }
   ],
   "source": [
    "grades = Dict()"
   ]
  },
  {
   "cell_type": "code",
   "execution_count": 5,
   "id": "fcc988e1",
   "metadata": {},
   "outputs": [
    {
     "data": {
      "text/plain": [
       "99"
      ]
     },
     "execution_count": 5,
     "metadata": {},
     "output_type": "execute_result"
    }
   ],
   "source": [
    "grades[\"marie\"] = 99"
   ]
  },
  {
   "cell_type": "code",
   "execution_count": 7,
   "id": "29397d61",
   "metadata": {},
   "outputs": [
    {
     "data": {
      "text/plain": [
       "97"
      ]
     },
     "execution_count": 7,
     "metadata": {},
     "output_type": "execute_result"
    }
   ],
   "source": [
    "grades[\"albert\"] = 100\n",
    "grades[\"richard\"] = 98\n",
    "grades[\"carl\"] = 97"
   ]
  },
  {
   "cell_type": "code",
   "execution_count": 8,
   "id": "26118a23",
   "metadata": {},
   "outputs": [
    {
     "data": {
      "text/plain": [
       "Dict{Any, Any} with 4 entries:\n",
       "  \"albert\"  => 100\n",
       "  \"carl\"    => 97\n",
       "  \"marie\"   => 99\n",
       "  \"richard\" => 98"
      ]
     },
     "execution_count": 8,
     "metadata": {},
     "output_type": "execute_result"
    }
   ],
   "source": [
    "grades"
   ]
  },
  {
   "cell_type": "code",
   "execution_count": 9,
   "id": "ab7d9b3a",
   "metadata": {},
   "outputs": [
    {
     "data": {
      "text/plain": [
       "100"
      ]
     },
     "execution_count": 9,
     "metadata": {},
     "output_type": "execute_result"
    }
   ],
   "source": [
    "grades[\"carl\"] = 100"
   ]
  },
  {
   "cell_type": "code",
   "execution_count": 10,
   "id": "9375ce9b",
   "metadata": {},
   "outputs": [
    {
     "data": {
      "text/plain": [
       "Dict{Any, Any} with 4 entries:\n",
       "  \"albert\"  => 100\n",
       "  \"carl\"    => 100\n",
       "  \"marie\"   => 99\n",
       "  \"richard\" => 98"
      ]
     },
     "execution_count": 10,
     "metadata": {},
     "output_type": "execute_result"
    }
   ],
   "source": [
    "grades"
   ]
  },
  {
   "cell_type": "code",
   "execution_count": 11,
   "id": "c627cf65",
   "metadata": {},
   "outputs": [
    {
     "ename": "LoadError",
     "evalue": "KeyError: key 1 not found",
     "output_type": "error",
     "traceback": [
      "KeyError: key 1 not found",
      "",
      "Stacktrace:",
      " [1] getindex(h::Dict{Any, Any}, key::Int64)",
      "   @ Base ./dict.jl:498",
      " [2] top-level scope",
      "   @ In[11]:1"
     ]
    }
   ],
   "source": [
    "grades[1]"
   ]
  },
  {
   "cell_type": "code",
   "execution_count": 12,
   "id": "607eb1ee",
   "metadata": {},
   "outputs": [
    {
     "data": {
      "text/plain": [
       "99"
      ]
     },
     "execution_count": 12,
     "metadata": {},
     "output_type": "execute_result"
    }
   ],
   "source": [
    "grades[\"marie\"]"
   ]
  },
  {
   "cell_type": "code",
   "execution_count": 13,
   "id": "e640a3f1",
   "metadata": {},
   "outputs": [
    {
     "ename": "LoadError",
     "evalue": "KeyError: key \"roslaind\" not found",
     "output_type": "error",
     "traceback": [
      "KeyError: key \"roslaind\" not found",
      "",
      "Stacktrace:",
      " [1] getindex(h::Dict{Any, Any}, key::String)",
      "   @ Base ./dict.jl:498",
      " [2] top-level scope",
      "   @ In[13]:1"
     ]
    }
   ],
   "source": [
    "grades[\"roslaind\"]"
   ]
  },
  {
   "cell_type": "code",
   "execution_count": 14,
   "id": "0808833f",
   "metadata": {},
   "outputs": [
    {
     "data": {
      "text/plain": [
       "4"
      ]
     },
     "execution_count": 14,
     "metadata": {},
     "output_type": "execute_result"
    }
   ],
   "source": [
    "length(grades)"
   ]
  },
  {
   "cell_type": "code",
   "execution_count": 15,
   "id": "83c8d06d",
   "metadata": {},
   "outputs": [
    {
     "data": {
      "text/plain": [
       "KeySet for a Dict{Any, Any} with 4 entries. Keys:\n",
       "  \"albert\"\n",
       "  \"carl\"\n",
       "  \"marie\"\n",
       "  \"richard\""
      ]
     },
     "execution_count": 15,
     "metadata": {},
     "output_type": "execute_result"
    }
   ],
   "source": [
    "keys(grades)"
   ]
  },
  {
   "cell_type": "code",
   "execution_count": 16,
   "id": "c73d4371",
   "metadata": {},
   "outputs": [
    {
     "data": {
      "text/plain": [
       "ValueIterator for a Dict{Any, Any} with 4 entries. Values:\n",
       "  100\n",
       "  100\n",
       "  99\n",
       "  98"
      ]
     },
     "execution_count": 16,
     "metadata": {},
     "output_type": "execute_result"
    }
   ],
   "source": [
    "values(grades)"
   ]
  },
  {
   "cell_type": "code",
   "execution_count": 17,
   "id": "401f95e5",
   "metadata": {},
   "outputs": [
    {
     "data": {
      "text/plain": [
       "true"
      ]
     },
     "execution_count": 17,
     "metadata": {},
     "output_type": "execute_result"
    }
   ],
   "source": [
    "\"albert\" ∈ keys(grades)"
   ]
  },
  {
   "cell_type": "code",
   "execution_count": 18,
   "id": "b51c193d",
   "metadata": {},
   "outputs": [
    {
     "data": {
      "text/plain": [
       "true"
      ]
     },
     "execution_count": 18,
     "metadata": {},
     "output_type": "execute_result"
    }
   ],
   "source": [
    "100 ∈ values(grades)"
   ]
  },
  {
   "cell_type": "code",
   "execution_count": 19,
   "id": "dc09487a",
   "metadata": {},
   "outputs": [
    {
     "data": {
      "text/plain": [
       "false"
      ]
     },
     "execution_count": 19,
     "metadata": {},
     "output_type": "execute_result"
    }
   ],
   "source": [
    "\"isaac\" ∈ keys(grades)"
   ]
  },
  {
   "cell_type": "code",
   "execution_count": 20,
   "id": "d3ce4766",
   "metadata": {},
   "outputs": [
    {
     "data": {
      "text/plain": [
       "false"
      ]
     },
     "execution_count": 20,
     "metadata": {},
     "output_type": "execute_result"
    }
   ],
   "source": [
    "haskey(grades, \"isaac\")"
   ]
  },
  {
   "cell_type": "code",
   "execution_count": 21,
   "id": "a45b2b84",
   "metadata": {},
   "outputs": [
    {
     "data": {
      "text/plain": [
       "true"
      ]
     },
     "execution_count": 21,
     "metadata": {},
     "output_type": "execute_result"
    }
   ],
   "source": [
    "haskey(grades, \"marie\")"
   ]
  },
  {
   "cell_type": "code",
   "execution_count": 22,
   "id": "3feeae7f",
   "metadata": {},
   "outputs": [
    {
     "data": {
      "text/plain": [
       "false"
      ]
     },
     "execution_count": 22,
     "metadata": {},
     "output_type": "execute_result"
    }
   ],
   "source": [
    "haskey(grades, \"suraj\")"
   ]
  },
  {
   "cell_type": "code",
   "execution_count": 23,
   "id": "2e375574",
   "metadata": {},
   "outputs": [
    {
     "data": {
      "text/plain": [
       "100"
      ]
     },
     "execution_count": 23,
     "metadata": {},
     "output_type": "execute_result"
    }
   ],
   "source": [
    "get(grades, \"albert\", \"not found\")"
   ]
  },
  {
   "cell_type": "code",
   "execution_count": 24,
   "id": "95fcb55a",
   "metadata": {},
   "outputs": [
    {
     "data": {
      "text/plain": [
       "\"not found\""
      ]
     },
     "execution_count": 24,
     "metadata": {},
     "output_type": "execute_result"
    }
   ],
   "source": [
    "get(grades, \"betrand\", \"not found\")"
   ]
  },
  {
   "cell_type": "code",
   "execution_count": 25,
   "id": "c996ff73",
   "metadata": {},
   "outputs": [
    {
     "data": {
      "text/plain": [
       "85"
      ]
     },
     "execution_count": 25,
     "metadata": {},
     "output_type": "execute_result"
    }
   ],
   "source": [
    "get!(grades, \"bertrand\", 85)"
   ]
  },
  {
   "cell_type": "code",
   "execution_count": 26,
   "id": "47006939",
   "metadata": {},
   "outputs": [
    {
     "data": {
      "text/plain": [
       "Dict{Any, Any} with 5 entries:\n",
       "  \"albert\"   => 100\n",
       "  \"bertrand\" => 85\n",
       "  \"carl\"     => 100\n",
       "  \"marie\"    => 99\n",
       "  \"richard\"  => 98"
      ]
     },
     "execution_count": 26,
     "metadata": {},
     "output_type": "execute_result"
    }
   ],
   "source": [
    "grades"
   ]
  },
  {
   "cell_type": "code",
   "execution_count": 27,
   "id": "0889a247",
   "metadata": {},
   "outputs": [
    {
     "data": {
      "text/plain": [
       "\"albert\""
      ]
     },
     "execution_count": 27,
     "metadata": {},
     "output_type": "execute_result"
    }
   ],
   "source": [
    "getkey(grades, \"albert\", \"einstein\")"
   ]
  },
  {
   "cell_type": "code",
   "execution_count": 28,
   "id": "a12f9a1c",
   "metadata": {},
   "outputs": [
    {
     "data": {
      "text/plain": [
       "\"newton\""
      ]
     },
     "execution_count": 28,
     "metadata": {},
     "output_type": "execute_result"
    }
   ],
   "source": [
    "getkey(grades, \"isaac\", \"newton\")"
   ]
  },
  {
   "cell_type": "code",
   "execution_count": 29,
   "id": "45869538",
   "metadata": {},
   "outputs": [
    {
     "data": {
      "text/plain": [
       "Dict{Any, Any} with 4 entries:\n",
       "  \"albert\"   => 100\n",
       "  \"bertrand\" => 85\n",
       "  \"marie\"    => 99\n",
       "  \"richard\"  => 98"
      ]
     },
     "execution_count": 29,
     "metadata": {},
     "output_type": "execute_result"
    }
   ],
   "source": [
    "delete!(grades, \"carl\")"
   ]
  },
  {
   "cell_type": "code",
   "execution_count": 30,
   "id": "36197a23",
   "metadata": {},
   "outputs": [
    {
     "data": {
      "text/plain": [
       "Dict{String, Int64} with 3 entries:\n",
       "  \"c\" => 9\n",
       "  \"b\" => 7\n",
       "  \"a\" => 5"
      ]
     },
     "execution_count": 30,
     "metadata": {},
     "output_type": "execute_result"
    }
   ],
   "source": [
    "dict1 = Dict(\"a\" => 5, \"b\" => 7, \"c\" => 9)"
   ]
  },
  {
   "cell_type": "code",
   "execution_count": 31,
   "id": "87e5bd1a",
   "metadata": {},
   "outputs": [
    {
     "data": {
      "text/plain": [
       "Dict{String, Int64} with 3 entries:\n",
       "  \"f\" => 10\n",
       "  \"e\" => 8\n",
       "  \"d\" => 6"
      ]
     },
     "execution_count": 31,
     "metadata": {},
     "output_type": "execute_result"
    }
   ],
   "source": [
    "dict2 = Dict(\"d\" => 6, \"e\" => 8, \"f\" => 10)"
   ]
  },
  {
   "cell_type": "code",
   "execution_count": 32,
   "id": "aa69be62",
   "metadata": {},
   "outputs": [
    {
     "data": {
      "text/plain": [
       "Dict{String, Int64} with 6 entries:\n",
       "  \"f\" => 10\n",
       "  \"c\" => 9\n",
       "  \"e\" => 8\n",
       "  \"b\" => 7\n",
       "  \"a\" => 5\n",
       "  \"d\" => 6"
      ]
     },
     "execution_count": 32,
     "metadata": {},
     "output_type": "execute_result"
    }
   ],
   "source": [
    "merge(dict1, dict2)"
   ]
  },
  {
   "cell_type": "code",
   "execution_count": 33,
   "id": "edd9b4ca",
   "metadata": {},
   "outputs": [
    {
     "data": {
      "text/plain": [
       "Dict{String, Int64} with 3 entries:\n",
       "  \"b\" => 10\n",
       "  \"a\" => 7\n",
       "  \"d\" => 15"
      ]
     },
     "execution_count": 33,
     "metadata": {},
     "output_type": "execute_result"
    }
   ],
   "source": [
    "dict1 = Dict(\"a\" => 5, \"b\" => 7, \"c\" => 9)\n",
    "dict2 = Dict(\"a\" => 7, \"b\" => 10, \"d\" => 15)"
   ]
  },
  {
   "cell_type": "code",
   "execution_count": 35,
   "id": "6a4781a6",
   "metadata": {},
   "outputs": [
    {
     "data": {
      "text/plain": [
       "Dict{String, Int64} with 4 entries:\n",
       "  \"c\" => 9\n",
       "  \"b\" => 17\n",
       "  \"a\" => 12\n",
       "  \"d\" => 15"
      ]
     },
     "execution_count": 35,
     "metadata": {},
     "output_type": "execute_result"
    }
   ],
   "source": [
    "mergewith(+, dict1, dict2)"
   ]
  },
  {
   "cell_type": "code",
   "execution_count": 36,
   "id": "1ef3ea79",
   "metadata": {},
   "outputs": [
    {
     "data": {
      "text/plain": [
       "Dict{Any, Any} with 3 entries:\n",
       "  3.5   => true\n",
       "  \"two\" => 2\n",
       "  1     => \"one\""
      ]
     },
     "execution_count": 36,
     "metadata": {},
     "output_type": "execute_result"
    }
   ],
   "source": [
    "dct = Dict(1 => \"one\", \"two\" => 2, 3.5 => true)"
   ]
  },
  {
   "cell_type": "code",
   "execution_count": 37,
   "id": "36e47de4",
   "metadata": {},
   "outputs": [
    {
     "data": {
      "text/plain": [
       "KeySet for a Dict{Any, Any} with 3 entries. Keys:\n",
       "  3.5\n",
       "  \"two\"\n",
       "  1"
      ]
     },
     "execution_count": 37,
     "metadata": {},
     "output_type": "execute_result"
    }
   ],
   "source": [
    "keys(dct)"
   ]
  },
  {
   "cell_type": "code",
   "execution_count": 38,
   "id": "d173e466",
   "metadata": {},
   "outputs": [
    {
     "data": {
      "text/plain": [
       "ValueIterator for a Dict{Any, Any} with 3 entries. Values:\n",
       "  true\n",
       "  2\n",
       "  \"one\""
      ]
     },
     "execution_count": 38,
     "metadata": {},
     "output_type": "execute_result"
    }
   ],
   "source": [
    "values(dct)"
   ]
  },
  {
   "cell_type": "code",
   "execution_count": null,
   "id": "af8e51b1",
   "metadata": {},
   "outputs": [],
   "source": []
  }
 ],
 "metadata": {
  "kernelspec": {
   "display_name": "Julia 1.8.5",
   "language": "julia",
   "name": "julia-1.8"
  },
  "language_info": {
   "file_extension": ".jl",
   "mimetype": "application/julia",
   "name": "julia",
   "version": "1.8.5"
  }
 },
 "nbformat": 4,
 "nbformat_minor": 5
}
