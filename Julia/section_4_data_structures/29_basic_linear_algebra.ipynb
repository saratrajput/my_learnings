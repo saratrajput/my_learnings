{
 "cells": [
  {
   "cell_type": "code",
   "execution_count": 1,
   "id": "bdae51aa",
   "metadata": {},
   "outputs": [],
   "source": [
    "using LinearAlgebra"
   ]
  },
  {
   "cell_type": "code",
   "execution_count": 2,
   "id": "0afa000f",
   "metadata": {},
   "outputs": [
    {
     "data": {
      "text/plain": [
       "3×3 Matrix{Int64}:\n",
       " 1  4  8\n",
       " 2  5  9\n",
       " 3  6  7"
      ]
     },
     "execution_count": 2,
     "metadata": {},
     "output_type": "execute_result"
    }
   ],
   "source": [
    "mat = [1 4 8; 2 5 9; 3 6 7]"
   ]
  },
  {
   "cell_type": "code",
   "execution_count": 3,
   "id": "8353b428",
   "metadata": {},
   "outputs": [
    {
     "data": {
      "text/plain": [
       "13"
      ]
     },
     "execution_count": 3,
     "metadata": {},
     "output_type": "execute_result"
    }
   ],
   "source": [
    "tr(mat)"
   ]
  },
  {
   "cell_type": "code",
   "execution_count": 4,
   "id": "e14f613c",
   "metadata": {},
   "outputs": [
    {
     "data": {
      "text/plain": [
       "9.0"
      ]
     },
     "execution_count": 4,
     "metadata": {},
     "output_type": "execute_result"
    }
   ],
   "source": [
    "det(mat)"
   ]
  },
  {
   "cell_type": "code",
   "execution_count": 5,
   "id": "956ed378",
   "metadata": {},
   "outputs": [
    {
     "data": {
      "text/plain": [
       "3×3 transpose(::Matrix{Int64}) with eltype Int64:\n",
       " 1  2  3\n",
       " 4  5  6\n",
       " 8  9  7"
      ]
     },
     "execution_count": 5,
     "metadata": {},
     "output_type": "execute_result"
    }
   ],
   "source": [
    "transpose(mat)"
   ]
  },
  {
   "cell_type": "code",
   "execution_count": 6,
   "id": "2918aef8",
   "metadata": {},
   "outputs": [
    {
     "data": {
      "text/plain": [
       "3×3 adjoint(::Matrix{Int64}) with eltype Int64:\n",
       " 1  2  3\n",
       " 4  5  6\n",
       " 8  9  7"
      ]
     },
     "execution_count": 6,
     "metadata": {},
     "output_type": "execute_result"
    }
   ],
   "source": [
    "mat'"
   ]
  },
  {
   "cell_type": "code",
   "execution_count": 7,
   "id": "0cbafc63",
   "metadata": {},
   "outputs": [
    {
     "data": {
      "text/plain": [
       "3×3 Matrix{Int64}:\n",
       " 4  2  1\n",
       " 5  0  3\n",
       " 3  2  1"
      ]
     },
     "execution_count": 7,
     "metadata": {},
     "output_type": "execute_result"
    }
   ],
   "source": [
    "mat2 = [4 2 1; 5 0 3; 3 2 1]"
   ]
  },
  {
   "cell_type": "code",
   "execution_count": 8,
   "id": "385c04da",
   "metadata": {},
   "outputs": [
    {
     "data": {
      "text/plain": [
       "3×3 Matrix{Int64}:\n",
       " 48  18  21\n",
       " 60  22  26\n",
       " 63  20  28"
      ]
     },
     "execution_count": 8,
     "metadata": {},
     "output_type": "execute_result"
    }
   ],
   "source": [
    "mat * mat2"
   ]
  },
  {
   "cell_type": "code",
   "execution_count": 9,
   "id": "86fd1417",
   "metadata": {},
   "outputs": [
    {
     "data": {
      "text/plain": [
       "3×3 Matrix{Int64}:\n",
       "  4   8   8\n",
       " 10   0  27\n",
       "  9  12   7"
      ]
     },
     "execution_count": 9,
     "metadata": {},
     "output_type": "execute_result"
    }
   ],
   "source": [
    "mat .* mat2"
   ]
  },
  {
   "cell_type": "code",
   "execution_count": 10,
   "id": "b3e99e6c",
   "metadata": {},
   "outputs": [
    {
     "data": {
      "text/plain": [
       "0.13157894736842105"
      ]
     },
     "execution_count": 10,
     "metadata": {},
     "output_type": "execute_result"
    }
   ],
   "source": [
    "x = 7.6;\n",
    "y = 1/x"
   ]
  },
  {
   "cell_type": "code",
   "execution_count": 11,
   "id": "f6a8d091",
   "metadata": {},
   "outputs": [
    {
     "data": {
      "text/plain": [
       "3×3 Matrix{Int64}:\n",
       " 1  0  0\n",
       " 0  1  0\n",
       " 0  0  1"
      ]
     },
     "execution_count": 11,
     "metadata": {},
     "output_type": "execute_result"
    }
   ],
   "source": [
    "idt = [1 0 0; 0 1 0; 0 0 1]"
   ]
  },
  {
   "cell_type": "code",
   "execution_count": 12,
   "id": "d44045b6",
   "metadata": {},
   "outputs": [
    {
     "data": {
      "text/plain": [
       "UniformScaling{Bool}\n",
       "true*I"
      ]
     },
     "execution_count": 12,
     "metadata": {},
     "output_type": "execute_result"
    }
   ],
   "source": [
    "I"
   ]
  },
  {
   "cell_type": "code",
   "execution_count": 13,
   "id": "5648bf0a",
   "metadata": {},
   "outputs": [
    {
     "data": {
      "text/plain": [
       "3×3 Diagonal{Bool, Vector{Bool}}:\n",
       " 1  ⋅  ⋅\n",
       " ⋅  1  ⋅\n",
       " ⋅  ⋅  1"
      ]
     },
     "execution_count": 13,
     "metadata": {},
     "output_type": "execute_result"
    }
   ],
   "source": [
    "I(3)"
   ]
  },
  {
   "cell_type": "code",
   "execution_count": 14,
   "id": "37a7d01a",
   "metadata": {},
   "outputs": [
    {
     "data": {
      "text/plain": [
       "true"
      ]
     },
     "execution_count": 14,
     "metadata": {},
     "output_type": "execute_result"
    }
   ],
   "source": [
    "idt == I(3)"
   ]
  },
  {
   "cell_type": "code",
   "execution_count": 16,
   "id": "c2421b48",
   "metadata": {},
   "outputs": [
    {
     "data": {
      "text/plain": [
       "true"
      ]
     },
     "execution_count": 16,
     "metadata": {},
     "output_type": "execute_result"
    }
   ],
   "source": [
    "idt == I"
   ]
  },
  {
   "cell_type": "code",
   "execution_count": 17,
   "id": "7c33717d",
   "metadata": {},
   "outputs": [
    {
     "data": {
      "text/plain": [
       "3×3 Matrix{Float64}:\n",
       " -2.11111    2.22222   -0.444444\n",
       "  1.44444   -1.88889    0.777778\n",
       " -0.333333   0.666667  -0.333333"
      ]
     },
     "execution_count": 17,
     "metadata": {},
     "output_type": "execute_result"
    }
   ],
   "source": [
    "invmat = inv(mat)"
   ]
  },
  {
   "cell_type": "code",
   "execution_count": 18,
   "id": "7b89f788",
   "metadata": {},
   "outputs": [
    {
     "data": {
      "text/plain": [
       "3×3 Matrix{Float64}:\n",
       "  1.0          0.0           0.0\n",
       "  0.0          1.0          -4.44089e-16\n",
       " -8.88178e-16  8.88178e-16   1.0"
      ]
     },
     "execution_count": 18,
     "metadata": {},
     "output_type": "execute_result"
    }
   ],
   "source": [
    "mat * invmat"
   ]
  },
  {
   "cell_type": "code",
   "execution_count": 19,
   "id": "929a3843",
   "metadata": {},
   "outputs": [
    {
     "data": {
      "text/plain": [
       "2×2 Matrix{Int64}:\n",
       " 1   2\n",
       " 2  -4"
      ]
     },
     "execution_count": 19,
     "metadata": {},
     "output_type": "execute_result"
    }
   ],
   "source": [
    "A = [1 2; 2 -4]"
   ]
  },
  {
   "cell_type": "code",
   "execution_count": 20,
   "id": "03269ab2",
   "metadata": {},
   "outputs": [
    {
     "data": {
      "text/plain": [
       "2-element Vector{Int64}:\n",
       " 28\n",
       " -2"
      ]
     },
     "execution_count": 20,
     "metadata": {},
     "output_type": "execute_result"
    }
   ],
   "source": [
    "B = [28; -2]"
   ]
  },
  {
   "cell_type": "code",
   "execution_count": 21,
   "id": "483ba8a0",
   "metadata": {},
   "outputs": [
    {
     "data": {
      "text/plain": [
       "2-element Vector{Float64}:\n",
       " 13.5\n",
       "  7.25"
      ]
     },
     "execution_count": 21,
     "metadata": {},
     "output_type": "execute_result"
    }
   ],
   "source": [
    "# A * X = B\n",
    "X = A\\B"
   ]
  },
  {
   "cell_type": "code",
   "execution_count": 22,
   "id": "e0cfa96b",
   "metadata": {},
   "outputs": [
    {
     "data": {
      "text/plain": [
       "true"
      ]
     },
     "execution_count": 22,
     "metadata": {},
     "output_type": "execute_result"
    }
   ],
   "source": [
    "A*X == B"
   ]
  },
  {
   "cell_type": "code",
   "execution_count": null,
   "id": "b490b8d0",
   "metadata": {},
   "outputs": [],
   "source": []
  }
 ],
 "metadata": {
  "kernelspec": {
   "display_name": "Julia 1.8.5",
   "language": "julia",
   "name": "julia-1.8"
  },
  "language_info": {
   "file_extension": ".jl",
   "mimetype": "application/julia",
   "name": "julia",
   "version": "1.8.5"
  }
 },
 "nbformat": 4,
 "nbformat_minor": 5
}
