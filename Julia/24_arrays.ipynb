{
 "cells": [
  {
   "cell_type": "code",
   "execution_count": 1,
   "id": "be863015",
   "metadata": {},
   "outputs": [
    {
     "data": {
      "text/plain": [
       "4-element Vector{Any}:\n",
       "    3\n",
       "     \"Julia\"\n",
       " 2022\n",
       "    4.12"
      ]
     },
     "execution_count": 1,
     "metadata": {},
     "output_type": "execute_result"
    }
   ],
   "source": [
    "arr = [3, \"Julia\", 2022, 4.12]"
   ]
  },
  {
   "cell_type": "code",
   "execution_count": 2,
   "id": "3c713780",
   "metadata": {},
   "outputs": [
    {
     "data": {
      "text/plain": [
       "3-element Vector{Float64}:\n",
       " 2.2\n",
       " 2.4\n",
       " 2.6"
      ]
     },
     "execution_count": 2,
     "metadata": {},
     "output_type": "execute_result"
    }
   ],
   "source": [
    "arrfloat = [2.2, 2.4, 2.6]"
   ]
  },
  {
   "cell_type": "code",
   "execution_count": 3,
   "id": "dfb5d036",
   "metadata": {},
   "outputs": [
    {
     "data": {
      "text/plain": [
       "3-element Vector{Int64}:\n",
       "  7\n",
       " 11\n",
       " 13"
      ]
     },
     "execution_count": 3,
     "metadata": {},
     "output_type": "execute_result"
    }
   ],
   "source": [
    "arrint = [7, 11, 13]"
   ]
  },
  {
   "cell_type": "code",
   "execution_count": 4,
   "id": "76448444",
   "metadata": {},
   "outputs": [
    {
     "data": {
      "text/plain": [
       "4-element Vector{String}:\n",
       " \"abc\"\n",
       " \"def\"\n",
       " \"xyz\"\n",
       " \"αβγ\""
      ]
     },
     "execution_count": 4,
     "metadata": {},
     "output_type": "execute_result"
    }
   ],
   "source": [
    "arrstr = [\"abc\", \"def\", \"xyz\", \"αβγ\"]"
   ]
  },
  {
   "cell_type": "code",
   "execution_count": 5,
   "id": "ed78ff65",
   "metadata": {},
   "outputs": [
    {
     "data": {
      "text/plain": [
       "Vector{Any}\u001b[90m (alias for \u001b[39m\u001b[90mArray{Any, 1}\u001b[39m\u001b[90m)\u001b[39m"
      ]
     },
     "execution_count": 5,
     "metadata": {},
     "output_type": "execute_result"
    }
   ],
   "source": [
    "typeof(arr)"
   ]
  },
  {
   "cell_type": "code",
   "execution_count": 6,
   "id": "3adf2482",
   "metadata": {},
   "outputs": [
    {
     "data": {
      "text/plain": [
       "Vector{Float64}\u001b[90m (alias for \u001b[39m\u001b[90mArray{Float64, 1}\u001b[39m\u001b[90m)\u001b[39m"
      ]
     },
     "execution_count": 6,
     "metadata": {},
     "output_type": "execute_result"
    }
   ],
   "source": [
    "typeof(arrfloat)"
   ]
  },
  {
   "cell_type": "code",
   "execution_count": 7,
   "id": "aadd3d30",
   "metadata": {},
   "outputs": [
    {
     "data": {
      "text/plain": [
       "Vector{String}\u001b[90m (alias for \u001b[39m\u001b[90mArray{String, 1}\u001b[39m\u001b[90m)\u001b[39m"
      ]
     },
     "execution_count": 7,
     "metadata": {},
     "output_type": "execute_result"
    }
   ],
   "source": [
    "typeof(arrstr)"
   ]
  },
  {
   "cell_type": "code",
   "execution_count": 8,
   "id": "ee2c9b0b",
   "metadata": {},
   "outputs": [
    {
     "data": {
      "text/plain": [
       "4-element Vector{Int64}:\n",
       " 2\n",
       " 3\n",
       " 5\n",
       " 7"
      ]
     },
     "execution_count": 8,
     "metadata": {},
     "output_type": "execute_result"
    }
   ],
   "source": [
    "arrprime = Int64[2, 3, 5, 7]"
   ]
  },
  {
   "cell_type": "code",
   "execution_count": 9,
   "id": "fa20e99b",
   "metadata": {},
   "outputs": [
    {
     "data": {
      "text/plain": [
       "3-element Vector{Float64}:\n",
       " 3.14\n",
       " 2.718\n",
       " 1.6"
      ]
     },
     "execution_count": 9,
     "metadata": {},
     "output_type": "execute_result"
    }
   ],
   "source": [
    "arrdouble = Float64[3.14, 2.718, 1.6]"
   ]
  },
  {
   "cell_type": "code",
   "execution_count": 10,
   "id": "3cfcedde",
   "metadata": {},
   "outputs": [
    {
     "data": {
      "text/plain": [
       "3-element Vector{Any}:\n",
       " 7\n",
       " 8.2\n",
       "  [3, 5, 7]"
      ]
     },
     "execution_count": 10,
     "metadata": {},
     "output_type": "execute_result"
    }
   ],
   "source": [
    "arrmixed = [7, 8.2, [3, 5, 7]]"
   ]
  },
  {
   "cell_type": "code",
   "execution_count": 11,
   "id": "3de58608",
   "metadata": {},
   "outputs": [
    {
     "data": {
      "text/plain": [
       "3"
      ]
     },
     "execution_count": 11,
     "metadata": {},
     "output_type": "execute_result"
    }
   ],
   "source": [
    "arr[1]"
   ]
  },
  {
   "cell_type": "code",
   "execution_count": 12,
   "id": "0a4b86c8",
   "metadata": {},
   "outputs": [
    {
     "data": {
      "text/plain": [
       "4.12"
      ]
     },
     "execution_count": 12,
     "metadata": {},
     "output_type": "execute_result"
    }
   ],
   "source": [
    "arr[end]"
   ]
  },
  {
   "cell_type": "code",
   "execution_count": 13,
   "id": "9eb09510",
   "metadata": {},
   "outputs": [
    {
     "data": {
      "text/plain": [
       "Int64"
      ]
     },
     "execution_count": 13,
     "metadata": {},
     "output_type": "execute_result"
    }
   ],
   "source": [
    "typeof(arr[3])"
   ]
  },
  {
   "cell_type": "code",
   "execution_count": 14,
   "id": "6e4eb893",
   "metadata": {},
   "outputs": [
    {
     "data": {
      "text/plain": [
       "3-element Vector{String}:\n",
       " \"abc\"\n",
       " \"def\"\n",
       " \"xyz\""
      ]
     },
     "execution_count": 14,
     "metadata": {},
     "output_type": "execute_result"
    }
   ],
   "source": [
    "arrstr[1:3]"
   ]
  },
  {
   "cell_type": "code",
   "execution_count": 15,
   "id": "237ee3aa",
   "metadata": {},
   "outputs": [
    {
     "data": {
      "text/plain": [
       "3-element Vector{Any}:\n",
       "     \"Julia\"\n",
       " 2022\n",
       "    4.12"
      ]
     },
     "execution_count": 15,
     "metadata": {},
     "output_type": "execute_result"
    }
   ],
   "source": [
    "arr[2:end]"
   ]
  },
  {
   "cell_type": "code",
   "execution_count": 16,
   "id": "4aca7022",
   "metadata": {},
   "outputs": [
    {
     "data": {
      "text/plain": [
       "4-element Vector{Any}:\n",
       "    3\n",
       "     \"Julia\"\n",
       " 2022\n",
       "    4.12"
      ]
     },
     "execution_count": 16,
     "metadata": {},
     "output_type": "execute_result"
    }
   ],
   "source": [
    "newarray = arr[:]"
   ]
  },
  {
   "cell_type": "code",
   "execution_count": 17,
   "id": "4a69dea8",
   "metadata": {},
   "outputs": [
    {
     "data": {
      "text/plain": [
       "true"
      ]
     },
     "execution_count": 17,
     "metadata": {},
     "output_type": "execute_result"
    }
   ],
   "source": [
    "newarray == arr"
   ]
  },
  {
   "cell_type": "code",
   "execution_count": 18,
   "id": "4f0ab06d",
   "metadata": {},
   "outputs": [
    {
     "data": {
      "text/plain": [
       "false"
      ]
     },
     "execution_count": 18,
     "metadata": {},
     "output_type": "execute_result"
    }
   ],
   "source": [
    "newarray === arr"
   ]
  },
  {
   "cell_type": "code",
   "execution_count": 19,
   "id": "800e484c",
   "metadata": {},
   "outputs": [
    {
     "data": {
      "text/plain": [
       "false"
      ]
     },
     "execution_count": 19,
     "metadata": {},
     "output_type": "execute_result"
    }
   ],
   "source": [
    "newarray ≡ arr"
   ]
  },
  {
   "cell_type": "code",
   "execution_count": 20,
   "id": "77c27711",
   "metadata": {},
   "outputs": [
    {
     "data": {
      "text/plain": [
       "4-element Vector{Any}:\n",
       " 99999\n",
       "      \"Julia\"\n",
       "  2022\n",
       "     4.12"
      ]
     },
     "execution_count": 20,
     "metadata": {},
     "output_type": "execute_result"
    }
   ],
   "source": [
    "arr[1] = 99999;\n",
    "arr"
   ]
  },
  {
   "cell_type": "code",
   "execution_count": 21,
   "id": "f53e139a",
   "metadata": {},
   "outputs": [
    {
     "ename": "LoadError",
     "evalue": "MethodError: \u001b[0mCannot `convert` an object of type \u001b[92mString\u001b[39m\u001b[0m to an object of type \u001b[91mInt64\u001b[39m\n\u001b[0mClosest candidates are:\n\u001b[0m  convert(::Type{T}, \u001b[91m::Ptr\u001b[39m) where T<:Integer at pointer.jl:23\n\u001b[0m  convert(::Type{T}, \u001b[91m::T\u001b[39m) where T<:Number at number.jl:6\n\u001b[0m  convert(::Type{T}, \u001b[91m::Number\u001b[39m) where T<:Number at number.jl:7\n\u001b[0m  ...",
     "output_type": "error",
     "traceback": [
      "MethodError: \u001b[0mCannot `convert` an object of type \u001b[92mString\u001b[39m\u001b[0m to an object of type \u001b[91mInt64\u001b[39m\n\u001b[0mClosest candidates are:\n\u001b[0m  convert(::Type{T}, \u001b[91m::Ptr\u001b[39m) where T<:Integer at pointer.jl:23\n\u001b[0m  convert(::Type{T}, \u001b[91m::T\u001b[39m) where T<:Number at number.jl:6\n\u001b[0m  convert(::Type{T}, \u001b[91m::Number\u001b[39m) where T<:Number at number.jl:7\n\u001b[0m  ...",
      "",
      "Stacktrace:",
      " [1] setindex!(A::Vector{Int64}, x::String, i1::Int64)",
      "   @ Base ./array.jl:966",
      " [2] top-level scope",
      "   @ In[21]:1"
     ]
    }
   ],
   "source": [
    "arrprime[2] = \"three\""
   ]
  },
  {
   "cell_type": "code",
   "execution_count": 22,
   "id": "3cdb4f0b",
   "metadata": {},
   "outputs": [
    {
     "data": {
      "text/plain": [
       "2-element Vector{Int64}:\n",
       " 111\n",
       " 222"
      ]
     },
     "execution_count": 22,
     "metadata": {},
     "output_type": "execute_result"
    }
   ],
   "source": [
    "arr[2:3] = [111, 222]"
   ]
  },
  {
   "cell_type": "code",
   "execution_count": 23,
   "id": "cd5f7809",
   "metadata": {},
   "outputs": [
    {
     "data": {
      "text/plain": [
       "2-element Vector{Int64}:\n",
       " 111\n",
       " 222"
      ]
     },
     "execution_count": 23,
     "metadata": {},
     "output_type": "execute_result"
    }
   ],
   "source": [
    "arr[2:3] = [111, 222]"
   ]
  },
  {
   "cell_type": "code",
   "execution_count": 24,
   "id": "cada11a2",
   "metadata": {},
   "outputs": [
    {
     "ename": "LoadError",
     "evalue": "ArgumentError: indexed assignment with a single value to possibly many locations is not supported; perhaps use broadcasting `.=` instead?",
     "output_type": "error",
     "traceback": [
      "ArgumentError: indexed assignment with a single value to possibly many locations is not supported; perhaps use broadcasting `.=` instead?",
      "",
      "Stacktrace:",
      " [1] setindex_shape_check(::Int64, ::Int64)",
      "   @ Base ./indices.jl:261",
      " [2] _unsafe_setindex!(#unused#::IndexLinear, A::Vector{Any}, x::Int64, I::UnitRange{Int64})",
      "   @ Base ./multidimensional.jl:939",
      " [3] _setindex!",
      "   @ ./multidimensional.jl:930 [inlined]",
      " [4] setindex!(A::Vector{Any}, v::Int64, I::UnitRange{Int64})",
      "   @ Base ./abstractarray.jl:1344",
      " [5] top-level scope",
      "   @ In[24]:1"
     ]
    }
   ],
   "source": [
    "arr[2:3] = 4"
   ]
  },
  {
   "cell_type": "code",
   "execution_count": 25,
   "id": "0eb87ac0",
   "metadata": {},
   "outputs": [
    {
     "data": {
      "text/plain": [
       "true"
      ]
     },
     "execution_count": 25,
     "metadata": {},
     "output_type": "execute_result"
    }
   ],
   "source": [
    "111 ∈ arr"
   ]
  },
  {
   "cell_type": "code",
   "execution_count": 26,
   "id": "45b83c43",
   "metadata": {},
   "outputs": [
    {
     "data": {
      "text/plain": [
       "true"
      ]
     },
     "execution_count": 26,
     "metadata": {},
     "output_type": "execute_result"
    }
   ],
   "source": [
    "\"abc\" ∈ arrstr"
   ]
  },
  {
   "cell_type": "code",
   "execution_count": 27,
   "id": "7661c242",
   "metadata": {},
   "outputs": [
    {
     "data": {
      "text/plain": [
       "true"
      ]
     },
     "execution_count": 27,
     "metadata": {},
     "output_type": "execute_result"
    }
   ],
   "source": [
    "issubset([\"abc\", \"def\"], arrstr)"
   ]
  },
  {
   "cell_type": "code",
   "execution_count": 28,
   "id": "c30220d3",
   "metadata": {},
   "outputs": [
    {
     "data": {
      "text/plain": [
       "true"
      ]
     },
     "execution_count": 28,
     "metadata": {},
     "output_type": "execute_result"
    }
   ],
   "source": [
    "[\"abc\", \"def\"] ⊆ arrstr  # \\subsetq TAB"
   ]
  },
  {
   "cell_type": "code",
   "execution_count": 29,
   "id": "0473292e",
   "metadata": {},
   "outputs": [
    {
     "data": {
      "text/plain": [
       "true"
      ]
     },
     "execution_count": 29,
     "metadata": {},
     "output_type": "execute_result"
    }
   ],
   "source": [
    "[\"abc\", \"def\"] ⊊ arrstr  # \\subsetneq TAB"
   ]
  },
  {
   "cell_type": "code",
   "execution_count": 30,
   "id": "230ac700",
   "metadata": {},
   "outputs": [
    {
     "data": {
      "text/plain": [
       "false"
      ]
     },
     "execution_count": 30,
     "metadata": {},
     "output_type": "execute_result"
    }
   ],
   "source": [
    "arrstr ⊊ arrstr"
   ]
  },
  {
   "cell_type": "code",
   "execution_count": 31,
   "id": "40641d7c",
   "metadata": {},
   "outputs": [
    {
     "data": {
      "text/plain": [
       "true"
      ]
     },
     "execution_count": 31,
     "metadata": {},
     "output_type": "execute_result"
    }
   ],
   "source": [
    "arrstr ⊇ [\"abc\", \"def\"]"
   ]
  },
  {
   "cell_type": "code",
   "execution_count": 32,
   "id": "ba55e2de",
   "metadata": {},
   "outputs": [
    {
     "data": {
      "text/plain": [
       "4-element Vector{String}:\n",
       " \"α\"\n",
       " \"β\"\n",
       " \"γ\"\n",
       " \"δ\""
      ]
     },
     "execution_count": 32,
     "metadata": {},
     "output_type": "execute_result"
    }
   ],
   "source": [
    "arr = [\"α\", \"β\", \"γ\", \"δ\"]"
   ]
  },
  {
   "cell_type": "code",
   "execution_count": 33,
   "id": "fc081eaf",
   "metadata": {},
   "outputs": [
    {
     "data": {
      "text/plain": [
       "String"
      ]
     },
     "execution_count": 33,
     "metadata": {},
     "output_type": "execute_result"
    }
   ],
   "source": [
    "eltype(arr)"
   ]
  },
  {
   "cell_type": "code",
   "execution_count": 34,
   "id": "9c36383f",
   "metadata": {},
   "outputs": [
    {
     "data": {
      "text/plain": [
       "4"
      ]
     },
     "execution_count": 34,
     "metadata": {},
     "output_type": "execute_result"
    }
   ],
   "source": [
    "length(arr)"
   ]
  },
  {
   "cell_type": "code",
   "execution_count": 35,
   "id": "a619b434",
   "metadata": {},
   "outputs": [
    {
     "data": {
      "text/plain": [
       "5-element Vector{String}:\n",
       " \"α\"\n",
       " \"β\"\n",
       " \"γ\"\n",
       " \"δ\"\n",
       " \"σ\""
      ]
     },
     "execution_count": 35,
     "metadata": {},
     "output_type": "execute_result"
    }
   ],
   "source": [
    "push!(arr, \"σ\")"
   ]
  },
  {
   "cell_type": "code",
   "execution_count": 36,
   "id": "babdab1f",
   "metadata": {},
   "outputs": [
    {
     "data": {
      "text/plain": [
       "2-element Vector{String}:\n",
       " \"Δ\"\n",
       " \"θ\""
      ]
     },
     "execution_count": 36,
     "metadata": {},
     "output_type": "execute_result"
    }
   ],
   "source": [
    "arr2 = [\"Δ\", \"θ\"]"
   ]
  },
  {
   "cell_type": "code",
   "execution_count": 38,
   "id": "730c5931",
   "metadata": {},
   "outputs": [
    {
     "data": {
      "text/plain": [
       "7-element Vector{String}:\n",
       " \"α\"\n",
       " \"β\"\n",
       " \"γ\"\n",
       " \"δ\"\n",
       " \"σ\"\n",
       " \"Δ\"\n",
       " \"θ\""
      ]
     },
     "execution_count": 38,
     "metadata": {},
     "output_type": "execute_result"
    }
   ],
   "source": [
    "append!(arr, arr2)"
   ]
  },
  {
   "cell_type": "code",
   "execution_count": 39,
   "id": "88219a4e",
   "metadata": {},
   "outputs": [
    {
     "data": {
      "text/plain": [
       "6-element Vector{String}:\n",
       " \"α\"\n",
       " \"β\"\n",
       " \"δ\"\n",
       " \"σ\"\n",
       " \"Δ\"\n",
       " \"θ\""
      ]
     },
     "execution_count": 39,
     "metadata": {},
     "output_type": "execute_result"
    }
   ],
   "source": [
    "deleteat!(arr, 3)"
   ]
  },
  {
   "cell_type": "code",
   "execution_count": 40,
   "id": "45bb20e0",
   "metadata": {},
   "outputs": [
    {
     "data": {
      "text/plain": [
       "3-element Vector{String}:\n",
       " \"β\"\n",
       " \"Δ\"\n",
       " \"θ\""
      ]
     },
     "execution_count": 40,
     "metadata": {},
     "output_type": "execute_result"
    }
   ],
   "source": [
    "deleteat!(arr, [1, 3, 4])"
   ]
  },
  {
   "cell_type": "code",
   "execution_count": 41,
   "id": "384813f5",
   "metadata": {},
   "outputs": [
    {
     "data": {
      "text/plain": [
       "\"θ\""
      ]
     },
     "execution_count": 41,
     "metadata": {},
     "output_type": "execute_result"
    }
   ],
   "source": [
    "pop!(arr)"
   ]
  },
  {
   "cell_type": "code",
   "execution_count": 42,
   "id": "791d93f3",
   "metadata": {},
   "outputs": [
    {
     "data": {
      "text/plain": [
       "\"β\""
      ]
     },
     "execution_count": 42,
     "metadata": {},
     "output_type": "execute_result"
    }
   ],
   "source": [
    "popfirst!(arr)"
   ]
  },
  {
   "cell_type": "code",
   "execution_count": 43,
   "id": "2965e69a",
   "metadata": {},
   "outputs": [
    {
     "data": {
      "text/plain": [
       "1-element Vector{String}:\n",
       " \"Δ\""
      ]
     },
     "execution_count": 43,
     "metadata": {},
     "output_type": "execute_result"
    }
   ],
   "source": [
    "arr"
   ]
  },
  {
   "cell_type": "code",
   "execution_count": 44,
   "id": "8e952376",
   "metadata": {},
   "outputs": [
    {
     "data": {
      "text/plain": [
       "2-element Vector{String}:\n",
       " \"α\"\n",
       " \"Δ\""
      ]
     },
     "execution_count": 44,
     "metadata": {},
     "output_type": "execute_result"
    }
   ],
   "source": [
    "insert!(arr, 1, \"α\")"
   ]
  },
  {
   "cell_type": "code",
   "execution_count": 46,
   "id": "68d10cdc",
   "metadata": {},
   "outputs": [
    {
     "data": {
      "text/plain": [
       "3-element Vector{String}:\n",
       " \"α\"\n",
       " \"λ\"\n",
       " \"Δ\""
      ]
     },
     "execution_count": 46,
     "metadata": {},
     "output_type": "execute_result"
    }
   ],
   "source": [
    "insert!(arr, 2, \"λ\")"
   ]
  },
  {
   "cell_type": "code",
   "execution_count": 47,
   "id": "027417bb",
   "metadata": {},
   "outputs": [
    {
     "data": {
      "text/plain": [
       "\"Julia,Python,R,Matlab,C,C++,Go,Java\""
      ]
     },
     "execution_count": 47,
     "metadata": {},
     "output_type": "execute_result"
    }
   ],
   "source": [
    "str = \"Julia,Python,R,Matlab,C,C++,Go,Java\""
   ]
  },
  {
   "cell_type": "code",
   "execution_count": 48,
   "id": "a4ba86f4",
   "metadata": {},
   "outputs": [
    {
     "data": {
      "text/plain": [
       "8-element Vector{SubString{String}}:\n",
       " \"Julia\"\n",
       " \"Python\"\n",
       " \"R\"\n",
       " \"Matlab\"\n",
       " \"C\"\n",
       " \"C++\"\n",
       " \"Go\"\n",
       " \"Java\""
      ]
     },
     "execution_count": 48,
     "metadata": {},
     "output_type": "execute_result"
    }
   ],
   "source": [
    "arrstr = split(str, \",\")"
   ]
  },
  {
   "cell_type": "code",
   "execution_count": null,
   "id": "4cd12994",
   "metadata": {},
   "outputs": [],
   "source": []
  }
 ],
 "metadata": {
  "kernelspec": {
   "display_name": "Julia 1.8.5",
   "language": "julia",
   "name": "julia-1.8"
  },
  "language_info": {
   "file_extension": ".jl",
   "mimetype": "application/julia",
   "name": "julia",
   "version": "1.8.5"
  }
 },
 "nbformat": 4,
 "nbformat_minor": 5
}
