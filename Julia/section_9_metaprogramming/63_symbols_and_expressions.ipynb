{
 "cells": [
  {
   "cell_type": "code",
   "execution_count": 1,
   "metadata": {},
   "outputs": [],
   "source": [
    "num = 7 + 8;"
   ]
  },
  {
   "cell_type": "code",
   "execution_count": 2,
   "metadata": {},
   "outputs": [
    {
     "data": {
      "text/plain": [
       ":num"
      ]
     },
     "metadata": {},
     "output_type": "display_data"
    }
   ],
   "source": [
    "s = :num"
   ]
  },
  {
   "cell_type": "code",
   "execution_count": 3,
   "metadata": {},
   "outputs": [
    {
     "data": {
      "text/plain": [
       "Symbol"
      ]
     },
     "metadata": {},
     "output_type": "display_data"
    }
   ],
   "source": [
    "typeof(s)"
   ]
  },
  {
   "cell_type": "code",
   "execution_count": 4,
   "metadata": {},
   "outputs": [
    {
     "data": {
      "text/plain": [
       "Any"
      ]
     },
     "metadata": {},
     "output_type": "display_data"
    }
   ],
   "source": [
    "supertype(Symbol)"
   ]
  },
  {
   "cell_type": "code",
   "execution_count": 5,
   "metadata": {},
   "outputs": [
    {
     "data": {
      "text/plain": [
       ":num"
      ]
     },
     "metadata": {},
     "output_type": "display_data"
    }
   ],
   "source": [
    "s"
   ]
  },
  {
   "cell_type": "code",
   "execution_count": 6,
   "metadata": {},
   "outputs": [
    {
     "data": {
      "text/plain": [
       "15"
      ]
     },
     "metadata": {},
     "output_type": "display_data"
    }
   ],
   "source": [
    "eval(s)"
   ]
  },
  {
   "cell_type": "code",
   "execution_count": 7,
   "metadata": {},
   "outputs": [
    {
     "data": {
      "text/plain": [
       ":num"
      ]
     },
     "metadata": {},
     "output_type": "display_data"
    }
   ],
   "source": [
    "Symbol(\"num\")"
   ]
  },
  {
   "cell_type": "code",
   "execution_count": 8,
   "metadata": {},
   "outputs": [
    {
     "data": {
      "text/plain": [
       ":num2"
      ]
     },
     "metadata": {},
     "output_type": "display_data"
    }
   ],
   "source": [
    "Symbol(\"num\", 2)"
   ]
  },
  {
   "cell_type": "code",
   "execution_count": 9,
   "metadata": {},
   "outputs": [
    {
     "data": {
      "text/plain": [
       ":newnum"
      ]
     },
     "metadata": {},
     "output_type": "display_data"
    }
   ],
   "source": [
    "Symbol(\"new\", \"num\")"
   ]
  },
  {
   "cell_type": "code",
   "execution_count": 10,
   "metadata": {},
   "outputs": [
    {
     "data": {
      "text/plain": [
       ":(a + b)"
      ]
     },
     "metadata": {},
     "output_type": "display_data"
    }
   ],
   "source": [
    ":(a + b)"
   ]
  },
  {
   "cell_type": "code",
   "execution_count": 11,
   "metadata": {},
   "outputs": [
    {
     "data": {
      "text/plain": [
       ":(a + b)"
      ]
     },
     "metadata": {},
     "output_type": "display_data"
    }
   ],
   "source": [
    "ex = :(a + b)"
   ]
  },
  {
   "cell_type": "code",
   "execution_count": 12,
   "metadata": {},
   "outputs": [
    {
     "data": {
      "text/plain": [
       "Expr"
      ]
     },
     "metadata": {},
     "output_type": "display_data"
    }
   ],
   "source": [
    "typeof(ex)"
   ]
  },
  {
   "cell_type": "code",
   "execution_count": 13,
   "metadata": {},
   "outputs": [
    {
     "data": {
      "text/plain": [
       "Any"
      ]
     },
     "metadata": {},
     "output_type": "display_data"
    }
   ],
   "source": [
    "supertype(Expr)"
   ]
  },
  {
   "cell_type": "code",
   "execution_count": 14,
   "metadata": {},
   "outputs": [
    {
     "ename": "UndefVarError",
     "evalue": "UndefVarError: a not defined",
     "output_type": "error",
     "traceback": [
      "UndefVarError: a not defined\n",
      "\n",
      "Stacktrace:\n",
      " [1] top-level scope\n",
      "   @ none:1"
     ]
    }
   ],
   "source": [
    "eval(ex)"
   ]
  },
  {
   "cell_type": "code",
   "execution_count": 15,
   "metadata": {},
   "outputs": [
    {
     "data": {
      "text/plain": [
       "33"
      ]
     },
     "metadata": {},
     "output_type": "display_data"
    }
   ],
   "source": [
    "a = 10\n",
    "b = 23\n",
    "eval(ex)"
   ]
  },
  {
   "cell_type": "code",
   "execution_count": 16,
   "metadata": {},
   "outputs": [
    {
     "data": {
      "text/plain": [
       ":(a + b)"
      ]
     },
     "metadata": {},
     "output_type": "display_data"
    }
   ],
   "source": [
    "Meta.parse(\"a + b\")"
   ]
  },
  {
   "cell_type": "code",
   "execution_count": 17,
   "metadata": {},
   "outputs": [
    {
     "data": {
      "text/plain": [
       "quote\n",
       "    \u001b[90m#= /Users/sp/dev_root/my_learnings/Julia/section_9_metaprogramming/63_symbols_and_expressions.ipynb:3 =#\u001b[39m\n",
       "    c = a + b\n",
       "    \u001b[90m#= /Users/sp/dev_root/my_learnings/Julia/section_9_metaprogramming/63_symbols_and_expressions.ipynb:4 =#\u001b[39m\n",
       "    d = c ^ 2\n",
       "    \u001b[90m#= /Users/sp/dev_root/my_learnings/Julia/section_9_metaprogramming/63_symbols_and_expressions.ipynb:5 =#\u001b[39m\n",
       "    e = π * d\n",
       "end"
      ]
     },
     "metadata": {},
     "output_type": "display_data"
    }
   ],
   "source": [
    ":(\n",
    "    begin\n",
    "        c = a + b\n",
    "        d = c^2\n",
    "        e = π*d\n",
    "    end\n",
    ")"
   ]
  },
  {
   "cell_type": "code",
   "execution_count": 18,
   "metadata": {},
   "outputs": [
    {
     "data": {
      "text/plain": [
       "quote\n",
       "    \u001b[90m#= /Users/sp/dev_root/my_learnings/Julia/section_9_metaprogramming/63_symbols_and_expressions.ipynb:2 =#\u001b[39m\n",
       "    c = a + b\n",
       "    \u001b[90m#= /Users/sp/dev_root/my_learnings/Julia/section_9_metaprogramming/63_symbols_and_expressions.ipynb:3 =#\u001b[39m\n",
       "    d = c ^ 2\n",
       "    \u001b[90m#= /Users/sp/dev_root/my_learnings/Julia/section_9_metaprogramming/63_symbols_and_expressions.ipynb:4 =#\u001b[39m\n",
       "    e = π * d\n",
       "end"
      ]
     },
     "metadata": {},
     "output_type": "display_data"
    }
   ],
   "source": [
    "quote\n",
    "    c = a + b\n",
    "    d = c^2\n",
    "    e = π*d\n",
    "end"
   ]
  },
  {
   "cell_type": "code",
   "execution_count": 19,
   "metadata": {},
   "outputs": [
    {
     "name": "stdout",
     "output_type": "stream",
     "text": [
      "Expr\n",
      "  head: Symbol call\n",
      "  args: Array{Any}((3,))\n",
      "    1: Symbol +\n",
      "    2: Symbol a\n",
      "    3: Symbol b\n"
     ]
    }
   ],
   "source": [
    "dump(ex)"
   ]
  },
  {
   "cell_type": "code",
   "execution_count": 20,
   "metadata": {},
   "outputs": [
    {
     "data": {
      "text/plain": [
       "(:head, :args)"
      ]
     },
     "metadata": {},
     "output_type": "display_data"
    }
   ],
   "source": [
    "propertynames(ex)"
   ]
  },
  {
   "cell_type": "code",
   "execution_count": 21,
   "metadata": {},
   "outputs": [
    {
     "data": {
      "text/plain": [
       ":call"
      ]
     },
     "metadata": {},
     "output_type": "display_data"
    }
   ],
   "source": [
    "ex.head"
   ]
  },
  {
   "cell_type": "code",
   "execution_count": 22,
   "metadata": {},
   "outputs": [
    {
     "data": {
      "text/plain": [
       "3-element Vector{Any}:\n",
       " :+\n",
       " :a\n",
       " :b"
      ]
     },
     "metadata": {},
     "output_type": "display_data"
    }
   ],
   "source": [
    "ex.args"
   ]
  },
  {
   "cell_type": "code",
   "execution_count": 23,
   "metadata": {},
   "outputs": [
    {
     "data": {
      "text/plain": [
       ":(a + b)"
      ]
     },
     "metadata": {},
     "output_type": "display_data"
    }
   ],
   "source": [
    "Expr(:call, :+, :a, :b)"
   ]
  },
  {
   "cell_type": "code",
   "execution_count": 24,
   "metadata": {},
   "outputs": [
    {
     "data": {
      "text/plain": [
       ":((3x - 7y) + z * t)"
      ]
     },
     "metadata": {},
     "output_type": "display_data"
    }
   ],
   "source": [
    "ex2 = :(3x - 7y + z*t)"
   ]
  },
  {
   "cell_type": "code",
   "execution_count": 25,
   "metadata": {},
   "outputs": [
    {
     "name": "stdout",
     "output_type": "stream",
     "text": [
      "Expr\n",
      "  head: Symbol call\n",
      "  args: Array{Any}((3,))\n",
      "    1: Symbol +\n",
      "    2: Expr\n",
      "      head: Symbol call\n",
      "      args: Array{Any}((3,))\n",
      "        1: Symbol -\n",
      "        2: Expr\n",
      "          head: Symbol call\n",
      "          args: Array{Any}((3,))\n",
      "            1: Symbol *\n",
      "            2: Int64 3\n",
      "            3: Symbol x\n",
      "        3: Expr\n",
      "          head: Symbol call\n",
      "          args: Array{Any}((3,))\n",
      "            1: Symbol *\n",
      "            2: Int64 7\n",
      "            3: Symbol y\n",
      "    3: Expr\n",
      "      head: Symbol call\n",
      "      args: Array{Any}((3,))\n",
      "        1: Symbol *\n",
      "        2: Symbol z\n",
      "        3: Symbol t\n"
     ]
    }
   ],
   "source": [
    "dump(ex2)"
   ]
  },
  {
   "cell_type": "code",
   "execution_count": 26,
   "metadata": {},
   "outputs": [
    {
     "data": {
      "text/plain": [
       "3-element Vector{Any}:\n",
       " :+\n",
       " :(3x - 7y)\n",
       " :(z * t)"
      ]
     },
     "metadata": {},
     "output_type": "display_data"
    }
   ],
   "source": [
    "ex2.args"
   ]
  },
  {
   "cell_type": "code",
   "execution_count": 27,
   "metadata": {},
   "outputs": [
    {
     "data": {
      "text/plain": [
       ":+"
      ]
     },
     "metadata": {},
     "output_type": "display_data"
    }
   ],
   "source": [
    "ex2.args[1]"
   ]
  },
  {
   "cell_type": "code",
   "execution_count": 28,
   "metadata": {},
   "outputs": [
    {
     "data": {
      "text/plain": [
       ":(3x - 7y)"
      ]
     },
     "metadata": {},
     "output_type": "display_data"
    }
   ],
   "source": [
    "ex2.args[2]"
   ]
  },
  {
   "cell_type": "code",
   "execution_count": 29,
   "metadata": {},
   "outputs": [
    {
     "data": {
      "text/plain": [
       ":(z * t)"
      ]
     },
     "metadata": {},
     "output_type": "display_data"
    }
   ],
   "source": [
    "ex2.args[3]"
   ]
  },
  {
   "cell_type": "code",
   "execution_count": 30,
   "metadata": {},
   "outputs": [
    {
     "data": {
      "text/plain": [
       "3-element Vector{Any}:\n",
       " :-\n",
       " :(3x)\n",
       " :(7y)"
      ]
     },
     "metadata": {},
     "output_type": "display_data"
    }
   ],
   "source": [
    "ex2.args[2].args"
   ]
  },
  {
   "cell_type": "code",
   "execution_count": 32,
   "metadata": {},
   "outputs": [],
   "source": [
    "# Add GraphRecipes package"
   ]
  },
  {
   "cell_type": "code",
   "execution_count": 34,
   "metadata": {},
   "outputs": [],
   "source": [
    "using GraphRecipes, Plots"
   ]
  },
  {
   "cell_type": "code",
   "execution_count": 35,
   "metadata": {},
   "outputs": [
    {
     "data": {
      "image/png": "[encoded data removed]",
      "image/svg+xml": "<?xml version=\"1.0\" encoding=\"utf-8\"?>\n<svg xmlns=\"http://www.w3.org/2000/svg\" xmlns:xlink=\"http://www.w3.org/1999/xlink\" width=\"600\" height=\"400\" viewBox=\"0 0 2400 1600\">\n<defs>\n  <clipPath id=\"clip960\">\n    <rect x=\"0\" y=\"0\" width=\"2400\" height=\"1600\"/>\n  </clipPath>\n</defs>\n<path clip-path=\"url(#clip960)\" d=\"M0 1600 L2400 1600 L2400 0 L0 0  Z\" fill=\"#ffffff\" fill-rule=\"evenodd\" fill-opacity=\"1\"/>\n<defs>\n  <clipPath id=\"clip961\">\n    <rect x=\"480\" y=\"0\" width=\"1681\" height=\"1600\"/>\n  </clipPath>\n</defs>\n<path clip-path=\"url(#clip960)\" d=\"M447.244 1552.76 L1952.76 1552.76 L1952.76 47.2441 L447.244 47.2441  Z\" fill=\"#ffffff\" fill-rule=\"evenodd\" fill-opacity=\"1\"/>\n<defs>\n  <clipPath id=\"clip962\">\n    <rect x=\"447\" y=\"47\" width=\"1507\" height=\"1507\"/>\n  </clipPath>\n</defs>\n<polyline clip-path=\"url(#clip962)\" style=\"stroke:#000000; stroke-linecap:round; stroke-linejoin:round; stroke-width:4; stroke-opacity:1; fill:none\" points=\"1319.49,262.317 1318.44,276.584 1315.42,290.442 1310.56,303.922 1304,317.054 1295.91,329.868 1286.42,342.395 1275.67,354.665 1263.83,366.708 1251.03,378.554 1237.42,390.234 1223.16,401.777 1208.37,413.215 1193.22,424.577 1177.85,435.894 1162.41,447.196 1147.04,458.512 1131.88,469.875 1117.1,481.312 1102.83,492.856 1089.23,504.536 1076.43,516.382 1064.58,528.425 1053.84,540.695 1044.35,553.222 1036.25,566.036 1029.7,579.168 1024.84,592.648 1021.81,606.506 1020.77,620.772 \"/>\n<polyline clip-path=\"url(#clip962)\" style=\"stroke:#000000; stroke-linecap:round; stroke-linejoin:round; stroke-width:4; stroke-opacity:1; fill:none\" points=\"1319.49,262.317 1320.53,276.584 1323.55,290.442 1328.41,303.922 1334.97,317.054 1343.06,329.868 1352.55,342.395 1363.3,354.665 1375.14,366.708 1387.94,378.554 1401.55,390.234 1415.81,401.777 1430.6,413.215 1445.75,424.577 1461.12,435.894 1476.56,447.196 1491.93,458.512 1507.09,469.875 1521.87,481.312 1536.14,492.856 1549.74,504.536 1562.54,516.382 1574.39,528.425 1585.13,540.695 1594.62,553.222 1602.72,566.036 1609.27,579.168 1614.13,592.648 1617.16,606.506 1618.2,620.772 \"/>\n<polyline clip-path=\"url(#clip962)\" style=\"stroke:#000000; stroke-linecap:round; stroke-linejoin:round; stroke-width:4; stroke-opacity:1; fill:none\" points=\"1020.77,620.772 1019.94,634.04 1017.52,647.114 1013.63,660.007 1008.39,672.735 1001.91,685.312 994.317,697.751 985.724,710.069 976.249,722.278 966.01,734.394 955.124,746.43 943.709,758.402 931.882,770.323 919.762,782.208 907.465,794.072 895.11,805.928 882.813,817.792 870.692,829.677 858.866,841.598 847.451,853.57 836.565,865.606 826.326,877.722 816.851,889.931 808.258,902.249 800.664,914.688 794.187,927.265 788.945,939.993 785.055,952.886 782.635,965.96 781.802,979.228 \"/>\n<polyline clip-path=\"url(#clip962)\" style=\"stroke:#000000; stroke-linecap:round; stroke-linejoin:round; stroke-width:4; stroke-opacity:1; fill:none\" points=\"1020.77,620.772 1021.61,634.04 1024.03,647.114 1027.92,660.007 1033.16,672.735 1039.63,685.312 1047.23,697.751 1055.82,710.069 1065.3,722.278 1075.53,734.394 1086.42,746.43 1097.84,758.402 1109.66,770.323 1121.78,782.208 1134.08,794.072 1146.44,805.928 1158.73,817.792 1170.85,829.677 1182.68,841.598 1194.09,853.57 1204.98,865.606 1215.22,877.722 1224.69,889.931 1233.29,902.249 1240.88,914.688 1247.36,927.265 1252.6,939.993 1256.49,952.886 1258.91,965.96 1259.74,979.228 \"/>\n<polyline clip-path=\"url(#clip962)\" style=\"stroke:#000000; stroke-linecap:round; stroke-linejoin:round; stroke-width:4; stroke-opacity:1; fill:none\" points=\"781.802,979.228 781.386,991.018 780.176,1002.93 778.231,1014.96 775.61,1027.09 772.371,1039.31 768.575,1051.62 764.278,1064.01 759.541,1076.46 754.421,1088.98 748.978,1101.54 743.271,1114.15 737.357,1126.78 731.297,1139.44 725.149,1152.12 718.971,1164.79 712.822,1177.47 706.762,1190.13 700.849,1202.76 695.141,1215.37 689.698,1227.93 684.579,1240.45 679.841,1252.9 675.545,1265.29 671.748,1277.6 668.51,1289.82 665.889,1301.95 663.944,1313.98 662.734,1325.89 662.317,1337.68 \"/>\n<polyline clip-path=\"url(#clip962)\" style=\"stroke:#000000; stroke-linecap:round; stroke-linejoin:round; stroke-width:4; stroke-opacity:1; fill:none\" points=\"781.802,979.228 782.219,991.018 783.429,1002.93 785.374,1014.96 787.995,1027.09 791.233,1039.31 795.03,1051.62 799.326,1064.01 804.064,1076.46 809.184,1088.98 814.626,1101.54 820.334,1114.15 826.247,1126.78 832.307,1139.44 838.456,1152.12 844.634,1164.79 850.782,1177.47 856.842,1190.13 862.756,1202.76 868.463,1215.37 873.906,1227.93 879.026,1240.45 883.763,1252.9 888.06,1265.29 891.856,1277.6 895.095,1289.82 897.716,1301.95 899.661,1313.98 900.871,1325.89 901.287,1337.68 \"/>\n<polyline clip-path=\"url(#clip962)\" style=\"stroke:#000000; stroke-linecap:round; stroke-linejoin:round; stroke-width:4; stroke-opacity:1; fill:none\" points=\"1259.74,979.228 1259.33,991.018 1258.12,1002.93 1256.17,1014.96 1253.55,1027.09 1250.31,1039.31 1246.51,1051.62 1242.22,1064.01 1237.48,1076.46 1232.36,1088.98 1226.92,1101.54 1221.21,1114.15 1215.3,1126.78 1209.24,1139.44 1203.09,1152.12 1196.91,1164.79 1190.76,1177.47 1184.7,1190.13 1178.79,1202.76 1173.08,1215.37 1167.64,1227.93 1162.52,1240.45 1157.78,1252.9 1153.49,1265.29 1149.69,1277.6 1146.45,1289.82 1143.83,1301.95 1141.88,1313.98 1140.67,1325.89 1140.26,1337.68 \"/>\n<polyline clip-path=\"url(#clip962)\" style=\"stroke:#000000; stroke-linecap:round; stroke-linejoin:round; stroke-width:4; stroke-opacity:1; fill:none\" points=\"1259.74,979.228 1260.16,991.018 1261.37,1002.93 1263.31,1014.96 1265.94,1027.09 1269.17,1039.31 1272.97,1051.62 1277.27,1064.01 1282,1076.46 1287.12,1088.98 1292.57,1101.54 1298.27,1114.15 1304.19,1126.78 1310.25,1139.44 1316.4,1152.12 1322.57,1164.79 1328.72,1177.47 1334.78,1190.13 1340.7,1202.76 1346.4,1215.37 1351.85,1227.93 1356.97,1240.45 1361.7,1252.9 1366,1265.29 1369.8,1277.6 1373.04,1289.82 1375.66,1301.95 1377.6,1313.98 1378.81,1325.89 1379.23,1337.68 \"/>\n<polyline clip-path=\"url(#clip962)\" style=\"stroke:#000000; stroke-linecap:round; stroke-linejoin:round; stroke-width:4; stroke-opacity:1; fill:none\" points=\"1618.2,620.772 1617.78,632.563 1616.57,644.475 1614.63,656.501 1612.01,668.631 1608.77,680.855 1604.97,693.166 1600.67,705.554 1595.94,718.009 1590.82,730.524 1585.37,743.088 1579.67,755.693 1573.75,768.329 1567.69,780.989 1561.54,793.661 1555.37,806.339 1549.22,819.011 1543.16,831.671 1537.24,844.307 1531.54,856.912 1526.09,869.476 1520.97,881.991 1516.24,894.446 1511.94,906.834 1508.14,919.145 1504.91,931.369 1502.28,943.499 1500.34,955.525 1499.13,967.437 1498.71,979.228 \"/>\n<polyline clip-path=\"url(#clip962)\" style=\"stroke:#000000; stroke-linecap:round; stroke-linejoin:round; stroke-width:4; stroke-opacity:1; fill:none\" points=\"1618.2,620.772 1618.61,632.563 1619.82,644.475 1621.77,656.501 1624.39,668.631 1627.63,680.855 1631.43,693.166 1635.72,705.554 1640.46,718.009 1645.58,730.524 1651.02,743.088 1656.73,755.693 1662.64,768.329 1668.7,780.989 1674.85,793.661 1681.03,806.339 1687.18,819.011 1693.24,831.671 1699.15,844.307 1704.86,856.912 1710.3,869.476 1715.42,881.991 1720.16,894.446 1724.46,906.834 1728.25,919.145 1731.49,931.369 1734.11,943.499 1736.06,955.525 1737.27,967.437 1737.68,979.228 \"/>\n<path clip-path=\"url(#clip962)\" d=\"M1358.9 262.317 L1339.19 228.181 L1299.78 228.181 L1280.07 262.317 L1299.78 296.453 L1339.19 296.453 L1358.9 262.317 L1358.9 262.317  Z\" fill=\"#009af9\" fill-rule=\"evenodd\" fill-opacity=\"1\"/>\n<polyline clip-path=\"url(#clip962)\" style=\"stroke:#000000; stroke-linecap:round; stroke-linejoin:round; stroke-width:4; stroke-opacity:1; fill:none\" points=\"1358.9,262.317 1339.19,228.181 1299.78,228.181 1280.07,262.317 1299.78,296.453 1339.19,296.453 1358.9,262.317 \"/>\n<path clip-path=\"url(#clip962)\" d=\"M1060.19 620.772 L1040.48 586.636 L1001.06 586.636 L981.355 620.772 L1001.06 654.909 L1040.48 654.909 L1060.19 620.772 L1060.19 620.772  Z\" fill=\"#009af9\" fill-rule=\"evenodd\" fill-opacity=\"1\"/>\n<polyline clip-path=\"url(#clip962)\" style=\"stroke:#000000; stroke-linecap:round; stroke-linejoin:round; stroke-width:4; stroke-opacity:1; fill:none\" points=\"1060.19,620.772 1040.48,586.636 1001.06,586.636 981.355,620.772 1001.06,654.909 1040.48,654.909 1060.19,620.772 \"/>\n<path clip-path=\"url(#clip962)\" d=\"M821.219 979.228 L801.511 945.091 L762.094 945.091 L742.385 979.228 L762.094 1013.36 L801.511 1013.36 L821.219 979.228 L821.219 979.228  Z\" fill=\"#009af9\" fill-rule=\"evenodd\" fill-opacity=\"1\"/>\n<polyline clip-path=\"url(#clip962)\" style=\"stroke:#000000; stroke-linecap:round; stroke-linejoin:round; stroke-width:4; stroke-opacity:1; fill:none\" points=\"821.219,979.228 801.511,945.091 762.094,945.091 742.385,979.228 762.094,1013.36 801.511,1013.36 821.219,979.228 \"/>\n<path clip-path=\"url(#clip962)\" d=\"M701.734 1337.68 L682.026 1303.55 L642.609 1303.55 L622.9 1337.68 L642.609 1371.82 L682.026 1371.82 L701.734 1337.68 L701.734 1337.68  Z\" fill=\"#009af9\" fill-rule=\"evenodd\" fill-opacity=\"1\"/>\n<polyline clip-path=\"url(#clip962)\" style=\"stroke:#000000; stroke-linecap:round; stroke-linejoin:round; stroke-width:4; stroke-opacity:1; fill:none\" points=\"701.734,1337.68 682.026,1303.55 642.609,1303.55 622.9,1337.68 642.609,1371.82 682.026,1371.82 701.734,1337.68 \"/>\n<path clip-path=\"url(#clip962)\" d=\"M940.704 1337.68 L920.996 1303.55 L881.579 1303.55 L861.87 1337.68 L881.579 1371.82 L920.996 1371.82 L940.704 1337.68 L940.704 1337.68  Z\" fill=\"#009af9\" fill-rule=\"evenodd\" fill-opacity=\"1\"/>\n<polyline clip-path=\"url(#clip962)\" style=\"stroke:#000000; stroke-linecap:round; stroke-linejoin:round; stroke-width:4; stroke-opacity:1; fill:none\" points=\"940.704,1337.68 920.996,1303.55 881.579,1303.55 861.87,1337.68 881.579,1371.82 920.996,1371.82 940.704,1337.68 \"/>\n<path clip-path=\"url(#clip962)\" d=\"M1299.16 979.228 L1279.45 945.091 L1240.03 945.091 L1220.33 979.228 L1240.03 1013.36 L1279.45 1013.36 L1299.16 979.228 L1299.16 979.228  Z\" fill=\"#009af9\" fill-rule=\"evenodd\" fill-opacity=\"1\"/>\n<polyline clip-path=\"url(#clip962)\" style=\"stroke:#000000; stroke-linecap:round; stroke-linejoin:round; stroke-width:4; stroke-opacity:1; fill:none\" points=\"1299.16,979.228 1279.45,945.091 1240.03,945.091 1220.33,979.228 1240.03,1013.36 1279.45,1013.36 1299.16,979.228 \"/>\n<path clip-path=\"url(#clip962)\" d=\"M1179.67 1337.68 L1159.97 1303.55 L1120.55 1303.55 L1100.84 1337.68 L1120.55 1371.82 L1159.97 1371.82 L1179.67 1337.68 L1179.67 1337.68  Z\" fill=\"#009af9\" fill-rule=\"evenodd\" fill-opacity=\"1\"/>\n<polyline clip-path=\"url(#clip962)\" style=\"stroke:#000000; stroke-linecap:round; stroke-linejoin:round; stroke-width:4; stroke-opacity:1; fill:none\" points=\"1179.67,1337.68 1159.97,1303.55 1120.55,1303.55 1100.84,1337.68 1120.55,1371.82 1159.97,1371.82 1179.67,1337.68 \"/>\n<path clip-path=\"url(#clip962)\" d=\"M1418.64 1337.68 L1398.94 1303.55 L1359.52 1303.55 L1339.81 1337.68 L1359.52 1371.82 L1398.94 1371.82 L1418.64 1337.68 L1418.64 1337.68  Z\" fill=\"#009af9\" fill-rule=\"evenodd\" fill-opacity=\"1\"/>\n<polyline clip-path=\"url(#clip962)\" style=\"stroke:#000000; stroke-linecap:round; stroke-linejoin:round; stroke-width:4; stroke-opacity:1; fill:none\" points=\"1418.64,1337.68 1398.94,1303.55 1359.52,1303.55 1339.81,1337.68 1359.52,1371.82 1398.94,1371.82 1418.64,1337.68 \"/>\n<path clip-path=\"url(#clip962)\" d=\"M1657.61 620.772 L1637.91 586.636 L1598.49 586.636 L1578.78 620.772 L1598.49 654.909 L1637.91 654.909 L1657.61 620.772 L1657.61 620.772  Z\" fill=\"#009af9\" fill-rule=\"evenodd\" fill-opacity=\"1\"/>\n<polyline clip-path=\"url(#clip962)\" style=\"stroke:#000000; stroke-linecap:round; stroke-linejoin:round; stroke-width:4; stroke-opacity:1; fill:none\" points=\"1657.61,620.772 1637.91,586.636 1598.49,586.636 1578.78,620.772 1598.49,654.909 1637.91,654.909 1657.61,620.772 \"/>\n<path clip-path=\"url(#clip962)\" d=\"M1538.13 979.228 L1518.42 945.091 L1479 945.091 L1459.3 979.228 L1479 1013.36 L1518.42 1013.36 L1538.13 979.228 L1538.13 979.228  Z\" fill=\"#009af9\" fill-rule=\"evenodd\" fill-opacity=\"1\"/>\n<polyline clip-path=\"url(#clip962)\" style=\"stroke:#000000; stroke-linecap:round; stroke-linejoin:round; stroke-width:4; stroke-opacity:1; fill:none\" points=\"1538.13,979.228 1518.42,945.091 1479,945.091 1459.3,979.228 1479,1013.36 1518.42,1013.36 1538.13,979.228 \"/>\n<path clip-path=\"url(#clip962)\" d=\"M1777.1 979.228 L1757.39 945.091 L1717.97 945.091 L1698.27 979.228 L1717.97 1013.36 L1757.39 1013.36 L1777.1 979.228 L1777.1 979.228  Z\" fill=\"#009af9\" fill-rule=\"evenodd\" fill-opacity=\"1\"/>\n<polyline clip-path=\"url(#clip962)\" style=\"stroke:#000000; stroke-linecap:round; stroke-linejoin:round; stroke-width:4; stroke-opacity:1; fill:none\" points=\"1777.1,979.228 1757.39,945.091 1717.97,945.091 1698.27,979.228 1717.97,1013.36 1757.39,1013.36 1777.1,979.228 \"/>\n<path clip-path=\"url(#clip962)\" d=\"M1319.49 262.717 L1319.14 262.517 L1319.14 262.117 L1319.49 261.917 L1319.83 262.117 L1319.83 262.517 Z\" fill=\"#009af9\" fill-rule=\"evenodd\" fill-opacity=\"1\" stroke=\"#000000\" stroke-opacity=\"1\" stroke-width=\"3.2\"/>\n<path clip-path=\"url(#clip962)\" d=\"M1020.77 621.172 L1020.43 620.972 L1020.43 620.572 L1020.77 620.372 L1021.12 620.572 L1021.12 620.972 Z\" fill=\"#009af9\" fill-rule=\"evenodd\" fill-opacity=\"1\" stroke=\"#000000\" stroke-opacity=\"1\" stroke-width=\"3.2\"/>\n<path clip-path=\"url(#clip962)\" d=\"M781.802 979.628 L781.456 979.428 L781.456 979.028 L781.802 978.828 L782.149 979.028 L782.149 979.428 Z\" fill=\"#009af9\" fill-rule=\"evenodd\" fill-opacity=\"1\" stroke=\"#000000\" stroke-opacity=\"1\" stroke-width=\"3.2\"/>\n<path clip-path=\"url(#clip962)\" d=\"M662.317 1338.08 L661.971 1337.88 L661.971 1337.48 L662.317 1337.28 L662.664 1337.48 L662.664 1337.88 Z\" fill=\"#009af9\" fill-rule=\"evenodd\" fill-opacity=\"1\" stroke=\"#000000\" stroke-opacity=\"1\" stroke-width=\"3.2\"/>\n<path clip-path=\"url(#clip962)\" d=\"M901.287 1338.08 L900.941 1337.88 L900.941 1337.48 L901.287 1337.28 L901.634 1337.48 L901.634 1337.88 Z\" fill=\"#009af9\" fill-rule=\"evenodd\" fill-opacity=\"1\" stroke=\"#000000\" stroke-opacity=\"1\" stroke-width=\"3.2\"/>\n<path clip-path=\"url(#clip962)\" d=\"M1259.74 979.628 L1259.4 979.428 L1259.4 979.028 L1259.74 978.828 L1260.09 979.028 L1260.09 979.428 Z\" fill=\"#009af9\" fill-rule=\"evenodd\" fill-opacity=\"1\" stroke=\"#000000\" stroke-opacity=\"1\" stroke-width=\"3.2\"/>\n<path clip-path=\"url(#clip962)\" d=\"M1140.26 1338.08 L1139.91 1337.88 L1139.91 1337.48 L1140.26 1337.28 L1140.6 1337.48 L1140.6 1337.88 Z\" fill=\"#009af9\" fill-rule=\"evenodd\" fill-opacity=\"1\" stroke=\"#000000\" stroke-opacity=\"1\" stroke-width=\"3.2\"/>\n<path clip-path=\"url(#clip962)\" d=\"M1379.23 1338.08 L1378.88 1337.88 L1378.88 1337.48 L1379.23 1337.28 L1379.57 1337.48 L1379.57 1337.88 Z\" fill=\"#009af9\" fill-rule=\"evenodd\" fill-opacity=\"1\" stroke=\"#000000\" stroke-opacity=\"1\" stroke-width=\"3.2\"/>\n<path clip-path=\"url(#clip962)\" d=\"M1618.2 621.172 L1617.85 620.972 L1617.85 620.572 L1618.2 620.372 L1618.54 620.572 L1618.54 620.972 Z\" fill=\"#009af9\" fill-rule=\"evenodd\" fill-opacity=\"1\" stroke=\"#000000\" stroke-opacity=\"1\" stroke-width=\"3.2\"/>\n<path clip-path=\"url(#clip962)\" d=\"M1498.71 979.628 L1498.37 979.428 L1498.37 979.028 L1498.71 978.828 L1499.06 979.028 L1499.06 979.428 Z\" fill=\"#009af9\" fill-rule=\"evenodd\" fill-opacity=\"1\" stroke=\"#000000\" stroke-opacity=\"1\" stroke-width=\"3.2\"/>\n<path clip-path=\"url(#clip962)\" d=\"M1737.68 979.628 L1737.34 979.428 L1737.34 979.028 L1737.68 978.828 L1738.03 979.028 L1738.03 979.428 Z\" fill=\"#009af9\" fill-rule=\"evenodd\" fill-opacity=\"1\" stroke=\"#000000\" stroke-opacity=\"1\" stroke-width=\"3.2\"/>\n<path clip-path=\"url(#clip960)\" d=\"M1323.37 237.433 L1323.37 263.22 L1349.16 263.22 L1349.16 271.09 L1323.37 271.09 L1323.37 296.877 L1315.6 296.877 L1315.6 271.09 L1289.81 271.09 L1289.81 263.22 L1315.6 263.22 L1315.6 237.433 L1323.37 237.433 Z\" fill=\"#000000\" fill-rule=\"nonzero\" fill-opacity=\"1\" /><path clip-path=\"url(#clip960)\" d=\"M1008.3 625.564 L1033.25 625.564 L1033.25 633.157 L1008.3 633.157 L1008.3 625.564 Z\" fill=\"#000000\" fill-rule=\"nonzero\" fill-opacity=\"1\" /><path clip-path=\"url(#clip960)\" d=\"M802.682 956.056 L786.062 965.038 L802.682 974.066 L799.997 978.603 L784.441 969.205 L784.441 986.658 L779.163 986.658 L779.163 969.205 L763.608 978.603 L760.923 974.066 L777.543 965.038 L760.923 956.056 L763.608 951.473 L779.163 960.871 L779.163 943.418 L784.441 943.418 L784.441 960.871 L799.997 951.473 L802.682 956.056 Z\" fill=\"#000000\" fill-rule=\"nonzero\" fill-opacity=\"1\" /><path clip-path=\"url(#clip960)\" d=\"M670.813 1334.97 Q677.525 1336.41 681.275 1340.95 Q685.072 1345.48 685.072 1352.15 Q685.072 1362.38 678.035 1367.98 Q670.998 1373.59 658.035 1373.59 Q653.683 1373.59 649.053 1372.71 Q644.47 1371.87 639.563 1370.16 L639.563 1361.13 Q643.452 1363.4 648.081 1364.56 Q652.711 1365.72 657.757 1365.72 Q666.553 1365.72 671.137 1362.24 Q675.766 1358.77 675.766 1352.15 Q675.766 1346.04 671.461 1342.61 Q667.201 1339.14 659.563 1339.14 L651.507 1339.14 L651.507 1331.46 L659.933 1331.46 Q666.831 1331.46 670.488 1328.72 Q674.146 1325.95 674.146 1320.76 Q674.146 1315.44 670.35 1312.61 Q666.6 1309.74 659.563 1309.74 Q655.72 1309.74 651.322 1310.58 Q646.924 1311.41 641.646 1313.17 L641.646 1304.84 Q646.97 1303.35 651.6 1302.61 Q656.276 1301.87 660.396 1301.87 Q671.044 1301.87 677.248 1306.73 Q683.451 1311.55 683.451 1319.79 Q683.451 1325.53 680.164 1329.51 Q676.877 1333.45 670.813 1334.97 Z\" fill=\"#000000\" fill-rule=\"nonzero\" fill-opacity=\"1\" /><path clip-path=\"url(#clip960)\" d=\"M925.454 1320.39 L906.704 1345.62 L926.426 1372.24 L916.38 1372.24 L901.287 1351.87 L886.195 1372.24 L876.149 1372.24 L896.287 1345.11 L877.862 1320.39 L887.908 1320.39 L901.658 1338.86 L915.408 1320.39 L925.454 1320.39 Z\" fill=\"#000000\" fill-rule=\"nonzero\" fill-opacity=\"1\" /><path clip-path=\"url(#clip960)\" d=\"M1280.62 956.056 L1264 965.038 L1280.62 974.066 L1277.94 978.603 L1262.38 969.205 L1262.38 986.658 L1257.1 986.658 L1257.1 969.205 L1241.55 978.603 L1238.86 974.066 L1255.48 965.038 L1238.86 956.056 L1241.55 951.473 L1257.1 960.871 L1257.1 943.418 L1262.38 943.418 L1262.38 960.871 L1277.94 951.473 L1280.62 956.056 Z\" fill=\"#000000\" fill-rule=\"nonzero\" fill-opacity=\"1\" /><path clip-path=\"url(#clip960)\" d=\"M1118.04 1303.12 L1162.48 1303.12 L1162.48 1307.1 L1137.39 1372.24 L1127.62 1372.24 L1151.23 1310.99 L1118.04 1310.99 L1118.04 1303.12 Z\" fill=\"#000000\" fill-rule=\"nonzero\" fill-opacity=\"1\" /><path clip-path=\"url(#clip960)\" d=\"M1381.68 1377.06 Q1378.07 1386.32 1374.64 1389.14 Q1371.22 1391.96 1365.48 1391.96 L1358.67 1391.96 L1358.67 1384.84 L1363.67 1384.84 Q1367.19 1384.84 1369.14 1383.17 Q1371.08 1381.5 1373.44 1375.3 L1374.97 1371.41 L1354 1320.39 L1363.02 1320.39 L1379.23 1360.95 L1395.43 1320.39 L1404.46 1320.39 L1381.68 1377.06 Z\" fill=\"#000000\" fill-rule=\"nonzero\" fill-opacity=\"1\" /><path clip-path=\"url(#clip960)\" d=\"M1639.08 597.601 L1622.46 606.583 L1639.08 615.61 L1636.39 620.147 L1620.84 610.749 L1620.84 628.203 L1615.56 628.203 L1615.56 610.749 L1600 620.147 L1597.32 615.61 L1613.94 606.583 L1597.32 597.601 L1600 593.018 L1615.56 602.416 L1615.56 584.962 L1620.84 584.962 L1620.84 602.416 L1636.39 593.018 L1639.08 597.601 Z\" fill=\"#000000\" fill-rule=\"nonzero\" fill-opacity=\"1\" /><path clip-path=\"url(#clip960)\" d=\"M1479.06 961.936 L1519.52 961.936 L1519.52 969.714 L1487.49 1006.98 L1519.52 1006.98 L1519.52 1013.79 L1477.9 1013.79 L1477.9 1006.01 L1509.94 968.742 L1479.06 968.742 L1479.06 961.936 Z\" fill=\"#000000\" fill-rule=\"nonzero\" fill-opacity=\"1\" /><path clip-path=\"url(#clip960)\" d=\"M1736.32 947.214 L1736.32 961.936 L1753.86 961.936 L1753.86 968.556 L1736.32 968.556 L1736.32 996.704 Q1736.32 1003.05 1738.03 1004.85 Q1739.79 1006.66 1745.11 1006.66 L1753.86 1006.66 L1753.86 1013.79 L1745.11 1013.79 Q1735.25 1013.79 1731.5 1010.13 Q1727.75 1006.43 1727.75 996.704 L1727.75 968.556 L1721.5 968.556 L1721.5 961.936 L1727.75 961.936 L1727.75 947.214 L1736.32 947.214 Z\" fill=\"#000000\" fill-rule=\"nonzero\" fill-opacity=\"1\" /></svg>\n",
      "text/html": [
       "<?xml version=\"1.0\" encoding=\"utf-8\"?>\n",
       "<svg xmlns=\"http://www.w3.org/2000/svg\" xmlns:xlink=\"http://www.w3.org/1999/xlink\" width=\"600\" height=\"400\" viewBox=\"0 0 2400 1600\">\n",
       "<defs>\n",
       "  <clipPath id=\"clip990\">\n",
       "    <rect x=\"0\" y=\"0\" width=\"2400\" height=\"1600\"/>\n",
       "  </clipPath>\n",
       "</defs>\n",
       "<path clip-path=\"url(#clip990)\" d=\"M0 1600 L2400 1600 L2400 0 L0 0  Z\" fill=\"#ffffff\" fill-rule=\"evenodd\" fill-opacity=\"1\"/>\n",
       "<defs>\n",
       "  <clipPath id=\"clip991\">\n",
       "    <rect x=\"480\" y=\"0\" width=\"1681\" height=\"1600\"/>\n",
       "  </clipPath>\n",
       "</defs>\n",
       "<path clip-path=\"url(#clip990)\" d=\"M447.244 1552.76 L1952.76 1552.76 L1952.76 47.2441 L447.244 47.2441  Z\" fill=\"#ffffff\" fill-rule=\"evenodd\" fill-opacity=\"1\"/>\n",
       "<defs>\n",
       "  <clipPath id=\"clip992\">\n",
       "    <rect x=\"447\" y=\"47\" width=\"1507\" height=\"1507\"/>\n",
       "  </clipPath>\n",
       "</defs>\n",
       "<polyline clip-path=\"url(#clip992)\" style=\"stroke:#000000; stroke-linecap:round; stroke-linejoin:round; stroke-width:4; stroke-opacity:1; fill:none\" points=\"1319.49,262.317 1318.44,276.584 1315.42,290.442 1310.56,303.922 1304,317.054 1295.91,329.868 1286.42,342.395 1275.67,354.665 1263.83,366.708 1251.03,378.554 1237.42,390.234 1223.16,401.777 1208.37,413.215 1193.22,424.577 1177.85,435.894 1162.41,447.196 1147.04,458.512 1131.88,469.875 1117.1,481.312 1102.83,492.856 1089.23,504.536 1076.43,516.382 1064.58,528.425 1053.84,540.695 1044.35,553.222 1036.25,566.036 1029.7,579.168 1024.84,592.648 1021.81,606.506 1020.77,620.772 \"/>\n",
       "<polyline clip-path=\"url(#clip992)\" style=\"stroke:#000000; stroke-linecap:round; stroke-linejoin:round; stroke-width:4; stroke-opacity:1; fill:none\" points=\"1319.49,262.317 1320.53,276.584 1323.55,290.442 1328.41,303.922 1334.97,317.054 1343.06,329.868 1352.55,342.395 1363.3,354.665 1375.14,366.708 1387.94,378.554 1401.55,390.234 1415.81,401.777 1430.6,413.215 1445.75,424.577 1461.12,435.894 1476.56,447.196 1491.93,458.512 1507.09,469.875 1521.87,481.312 1536.14,492.856 1549.74,504.536 1562.54,516.382 1574.39,528.425 1585.13,540.695 1594.62,553.222 1602.72,566.036 1609.27,579.168 1614.13,592.648 1617.16,606.506 1618.2,620.772 \"/>\n",
       "<polyline clip-path=\"url(#clip992)\" style=\"stroke:#000000; stroke-linecap:round; stroke-linejoin:round; stroke-width:4; stroke-opacity:1; fill:none\" points=\"1020.77,620.772 1019.94,634.04 1017.52,647.114 1013.63,660.007 1008.39,672.735 1001.91,685.312 994.317,697.751 985.724,710.069 976.249,722.278 966.01,734.394 955.124,746.43 943.709,758.402 931.882,770.323 919.762,782.208 907.465,794.072 895.11,805.928 882.813,817.792 870.692,829.677 858.866,841.598 847.451,853.57 836.565,865.606 826.326,877.722 816.851,889.931 808.258,902.249 800.664,914.688 794.187,927.265 788.945,939.993 785.055,952.886 782.635,965.96 781.802,979.228 \"/>\n",
       "<polyline clip-path=\"url(#clip992)\" style=\"stroke:#000000; stroke-linecap:round; stroke-linejoin:round; stroke-width:4; stroke-opacity:1; fill:none\" points=\"1020.77,620.772 1021.61,634.04 1024.03,647.114 1027.92,660.007 1033.16,672.735 1039.63,685.312 1047.23,697.751 1055.82,710.069 1065.3,722.278 1075.53,734.394 1086.42,746.43 1097.84,758.402 1109.66,770.323 1121.78,782.208 1134.08,794.072 1146.44,805.928 1158.73,817.792 1170.85,829.677 1182.68,841.598 1194.09,853.57 1204.98,865.606 1215.22,877.722 1224.69,889.931 1233.29,902.249 1240.88,914.688 1247.36,927.265 1252.6,939.993 1256.49,952.886 1258.91,965.96 1259.74,979.228 \"/>\n",
       "<polyline clip-path=\"url(#clip992)\" style=\"stroke:#000000; stroke-linecap:round; stroke-linejoin:round; stroke-width:4; stroke-opacity:1; fill:none\" points=\"781.802,979.228 781.386,991.018 780.176,1002.93 778.231,1014.96 775.61,1027.09 772.371,1039.31 768.575,1051.62 764.278,1064.01 759.541,1076.46 754.421,1088.98 748.978,1101.54 743.271,1114.15 737.357,1126.78 731.297,1139.44 725.149,1152.12 718.971,1164.79 712.822,1177.47 706.762,1190.13 700.849,1202.76 695.141,1215.37 689.698,1227.93 684.579,1240.45 679.841,1252.9 675.545,1265.29 671.748,1277.6 668.51,1289.82 665.889,1301.95 663.944,1313.98 662.734,1325.89 662.317,1337.68 \"/>\n",
       "<polyline clip-path=\"url(#clip992)\" style=\"stroke:#000000; stroke-linecap:round; stroke-linejoin:round; stroke-width:4; stroke-opacity:1; fill:none\" points=\"781.802,979.228 782.219,991.018 783.429,1002.93 785.374,1014.96 787.995,1027.09 791.233,1039.31 795.03,1051.62 799.326,1064.01 804.064,1076.46 809.184,1088.98 814.626,1101.54 820.334,1114.15 826.247,1126.78 832.307,1139.44 838.456,1152.12 844.634,1164.79 850.782,1177.47 856.842,1190.13 862.756,1202.76 868.463,1215.37 873.906,1227.93 879.026,1240.45 883.763,1252.9 888.06,1265.29 891.856,1277.6 895.095,1289.82 897.716,1301.95 899.661,1313.98 900.871,1325.89 901.287,1337.68 \"/>\n",
       "<polyline clip-path=\"url(#clip992)\" style=\"stroke:#000000; stroke-linecap:round; stroke-linejoin:round; stroke-width:4; stroke-opacity:1; fill:none\" points=\"1259.74,979.228 1259.33,991.018 1258.12,1002.93 1256.17,1014.96 1253.55,1027.09 1250.31,1039.31 1246.51,1051.62 1242.22,1064.01 1237.48,1076.46 1232.36,1088.98 1226.92,1101.54 1221.21,1114.15 1215.3,1126.78 1209.24,1139.44 1203.09,1152.12 1196.91,1164.79 1190.76,1177.47 1184.7,1190.13 1178.79,1202.76 1173.08,1215.37 1167.64,1227.93 1162.52,1240.45 1157.78,1252.9 1153.49,1265.29 1149.69,1277.6 1146.45,1289.82 1143.83,1301.95 1141.88,1313.98 1140.67,1325.89 1140.26,1337.68 \"/>\n",
       "<polyline clip-path=\"url(#clip992)\" style=\"stroke:#000000; stroke-linecap:round; stroke-linejoin:round; stroke-width:4; stroke-opacity:1; fill:none\" points=\"1259.74,979.228 1260.16,991.018 1261.37,1002.93 1263.31,1014.96 1265.94,1027.09 1269.17,1039.31 1272.97,1051.62 1277.27,1064.01 1282,1076.46 1287.12,1088.98 1292.57,1101.54 1298.27,1114.15 1304.19,1126.78 1310.25,1139.44 1316.4,1152.12 1322.57,1164.79 1328.72,1177.47 1334.78,1190.13 1340.7,1202.76 1346.4,1215.37 1351.85,1227.93 1356.97,1240.45 1361.7,1252.9 1366,1265.29 1369.8,1277.6 1373.04,1289.82 1375.66,1301.95 1377.6,1313.98 1378.81,1325.89 1379.23,1337.68 \"/>\n",
       "<polyline clip-path=\"url(#clip992)\" style=\"stroke:#000000; stroke-linecap:round; stroke-linejoin:round; stroke-width:4; stroke-opacity:1; fill:none\" points=\"1618.2,620.772 1617.78,632.563 1616.57,644.475 1614.63,656.501 1612.01,668.631 1608.77,680.855 1604.97,693.166 1600.67,705.554 1595.94,718.009 1590.82,730.524 1585.37,743.088 1579.67,755.693 1573.75,768.329 1567.69,780.989 1561.54,793.661 1555.37,806.339 1549.22,819.011 1543.16,831.671 1537.24,844.307 1531.54,856.912 1526.09,869.476 1520.97,881.991 1516.24,894.446 1511.94,906.834 1508.14,919.145 1504.91,931.369 1502.28,943.499 1500.34,955.525 1499.13,967.437 1498.71,979.228 \"/>\n",
       "<polyline clip-path=\"url(#clip992)\" style=\"stroke:#000000; stroke-linecap:round; stroke-linejoin:round; stroke-width:4; stroke-opacity:1; fill:none\" points=\"1618.2,620.772 1618.61,632.563 1619.82,644.475 1621.77,656.501 1624.39,668.631 1627.63,680.855 1631.43,693.166 1635.72,705.554 1640.46,718.009 1645.58,730.524 1651.02,743.088 1656.73,755.693 1662.64,768.329 1668.7,780.989 1674.85,793.661 1681.03,806.339 1687.18,819.011 1693.24,831.671 1699.15,844.307 1704.86,856.912 1710.3,869.476 1715.42,881.991 1720.16,894.446 1724.46,906.834 1728.25,919.145 1731.49,931.369 1734.11,943.499 1736.06,955.525 1737.27,967.437 1737.68,979.228 \"/>\n",
       "<path clip-path=\"url(#clip992)\" d=\"M1358.9 262.317 L1339.19 228.181 L1299.78 228.181 L1280.07 262.317 L1299.78 296.453 L1339.19 296.453 L1358.9 262.317 L1358.9 262.317  Z\" fill=\"#009af9\" fill-rule=\"evenodd\" fill-opacity=\"1\"/>\n",
       "<polyline clip-path=\"url(#clip992)\" style=\"stroke:#000000; stroke-linecap:round; stroke-linejoin:round; stroke-width:4; stroke-opacity:1; fill:none\" points=\"1358.9,262.317 1339.19,228.181 1299.78,228.181 1280.07,262.317 1299.78,296.453 1339.19,296.453 1358.9,262.317 \"/>\n",
       "<path clip-path=\"url(#clip992)\" d=\"M1060.19 620.772 L1040.48 586.636 L1001.06 586.636 L981.355 620.772 L1001.06 654.909 L1040.48 654.909 L1060.19 620.772 L1060.19 620.772  Z\" fill=\"#009af9\" fill-rule=\"evenodd\" fill-opacity=\"1\"/>\n",
       "<polyline clip-path=\"url(#clip992)\" style=\"stroke:#000000; stroke-linecap:round; stroke-linejoin:round; stroke-width:4; stroke-opacity:1; fill:none\" points=\"1060.19,620.772 1040.48,586.636 1001.06,586.636 981.355,620.772 1001.06,654.909 1040.48,654.909 1060.19,620.772 \"/>\n",
       "<path clip-path=\"url(#clip992)\" d=\"M821.219 979.228 L801.511 945.091 L762.094 945.091 L742.385 979.228 L762.094 1013.36 L801.511 1013.36 L821.219 979.228 L821.219 979.228  Z\" fill=\"#009af9\" fill-rule=\"evenodd\" fill-opacity=\"1\"/>\n",
       "<polyline clip-path=\"url(#clip992)\" style=\"stroke:#000000; stroke-linecap:round; stroke-linejoin:round; stroke-width:4; stroke-opacity:1; fill:none\" points=\"821.219,979.228 801.511,945.091 762.094,945.091 742.385,979.228 762.094,1013.36 801.511,1013.36 821.219,979.228 \"/>\n",
       "<path clip-path=\"url(#clip992)\" d=\"M701.734 1337.68 L682.026 1303.55 L642.609 1303.55 L622.9 1337.68 L642.609 1371.82 L682.026 1371.82 L701.734 1337.68 L701.734 1337.68  Z\" fill=\"#009af9\" fill-rule=\"evenodd\" fill-opacity=\"1\"/>\n",
       "<polyline clip-path=\"url(#clip992)\" style=\"stroke:#000000; stroke-linecap:round; stroke-linejoin:round; stroke-width:4; stroke-opacity:1; fill:none\" points=\"701.734,1337.68 682.026,1303.55 642.609,1303.55 622.9,1337.68 642.609,1371.82 682.026,1371.82 701.734,1337.68 \"/>\n",
       "<path clip-path=\"url(#clip992)\" d=\"M940.704 1337.68 L920.996 1303.55 L881.579 1303.55 L861.87 1337.68 L881.579 1371.82 L920.996 1371.82 L940.704 1337.68 L940.704 1337.68  Z\" fill=\"#009af9\" fill-rule=\"evenodd\" fill-opacity=\"1\"/>\n",
       "<polyline clip-path=\"url(#clip992)\" style=\"stroke:#000000; stroke-linecap:round; stroke-linejoin:round; stroke-width:4; stroke-opacity:1; fill:none\" points=\"940.704,1337.68 920.996,1303.55 881.579,1303.55 861.87,1337.68 881.579,1371.82 920.996,1371.82 940.704,1337.68 \"/>\n",
       "<path clip-path=\"url(#clip992)\" d=\"M1299.16 979.228 L1279.45 945.091 L1240.03 945.091 L1220.33 979.228 L1240.03 1013.36 L1279.45 1013.36 L1299.16 979.228 L1299.16 979.228  Z\" fill=\"#009af9\" fill-rule=\"evenodd\" fill-opacity=\"1\"/>\n",
       "<polyline clip-path=\"url(#clip992)\" style=\"stroke:#000000; stroke-linecap:round; stroke-linejoin:round; stroke-width:4; stroke-opacity:1; fill:none\" points=\"1299.16,979.228 1279.45,945.091 1240.03,945.091 1220.33,979.228 1240.03,1013.36 1279.45,1013.36 1299.16,979.228 \"/>\n",
       "<path clip-path=\"url(#clip992)\" d=\"M1179.67 1337.68 L1159.97 1303.55 L1120.55 1303.55 L1100.84 1337.68 L1120.55 1371.82 L1159.97 1371.82 L1179.67 1337.68 L1179.67 1337.68  Z\" fill=\"#009af9\" fill-rule=\"evenodd\" fill-opacity=\"1\"/>\n",
       "<polyline clip-path=\"url(#clip992)\" style=\"stroke:#000000; stroke-linecap:round; stroke-linejoin:round; stroke-width:4; stroke-opacity:1; fill:none\" points=\"1179.67,1337.68 1159.97,1303.55 1120.55,1303.55 1100.84,1337.68 1120.55,1371.82 1159.97,1371.82 1179.67,1337.68 \"/>\n",
       "<path clip-path=\"url(#clip992)\" d=\"M1418.64 1337.68 L1398.94 1303.55 L1359.52 1303.55 L1339.81 1337.68 L1359.52 1371.82 L1398.94 1371.82 L1418.64 1337.68 L1418.64 1337.68  Z\" fill=\"#009af9\" fill-rule=\"evenodd\" fill-opacity=\"1\"/>\n",
       "<polyline clip-path=\"url(#clip992)\" style=\"stroke:#000000; stroke-linecap:round; stroke-linejoin:round; stroke-width:4; stroke-opacity:1; fill:none\" points=\"1418.64,1337.68 1398.94,1303.55 1359.52,1303.55 1339.81,1337.68 1359.52,1371.82 1398.94,1371.82 1418.64,1337.68 \"/>\n",
       "<path clip-path=\"url(#clip992)\" d=\"M1657.61 620.772 L1637.91 586.636 L1598.49 586.636 L1578.78 620.772 L1598.49 654.909 L1637.91 654.909 L1657.61 620.772 L1657.61 620.772  Z\" fill=\"#009af9\" fill-rule=\"evenodd\" fill-opacity=\"1\"/>\n",
       "<polyline clip-path=\"url(#clip992)\" style=\"stroke:#000000; stroke-linecap:round; stroke-linejoin:round; stroke-width:4; stroke-opacity:1; fill:none\" points=\"1657.61,620.772 1637.91,586.636 1598.49,586.636 1578.78,620.772 1598.49,654.909 1637.91,654.909 1657.61,620.772 \"/>\n",
       "<path clip-path=\"url(#clip992)\" d=\"M1538.13 979.228 L1518.42 945.091 L1479 945.091 L1459.3 979.228 L1479 1013.36 L1518.42 1013.36 L1538.13 979.228 L1538.13 979.228  Z\" fill=\"#009af9\" fill-rule=\"evenodd\" fill-opacity=\"1\"/>\n",
       "<polyline clip-path=\"url(#clip992)\" style=\"stroke:#000000; stroke-linecap:round; stroke-linejoin:round; stroke-width:4; stroke-opacity:1; fill:none\" points=\"1538.13,979.228 1518.42,945.091 1479,945.091 1459.3,979.228 1479,1013.36 1518.42,1013.36 1538.13,979.228 \"/>\n",
       "<path clip-path=\"url(#clip992)\" d=\"M1777.1 979.228 L1757.39 945.091 L1717.97 945.091 L1698.27 979.228 L1717.97 1013.36 L1757.39 1013.36 L1777.1 979.228 L1777.1 979.228  Z\" fill=\"#009af9\" fill-rule=\"evenodd\" fill-opacity=\"1\"/>\n",
       "<polyline clip-path=\"url(#clip992)\" style=\"stroke:#000000; stroke-linecap:round; stroke-linejoin:round; stroke-width:4; stroke-opacity:1; fill:none\" points=\"1777.1,979.228 1757.39,945.091 1717.97,945.091 1698.27,979.228 1717.97,1013.36 1757.39,1013.36 1777.1,979.228 \"/>\n",
       "<path clip-path=\"url(#clip992)\" d=\"M1319.49 262.717 L1319.14 262.517 L1319.14 262.117 L1319.49 261.917 L1319.83 262.117 L1319.83 262.517 Z\" fill=\"#009af9\" fill-rule=\"evenodd\" fill-opacity=\"1\" stroke=\"#000000\" stroke-opacity=\"1\" stroke-width=\"3.2\"/>\n",
       "<path clip-path=\"url(#clip992)\" d=\"M1020.77 621.172 L1020.43 620.972 L1020.43 620.572 L1020.77 620.372 L1021.12 620.572 L1021.12 620.972 Z\" fill=\"#009af9\" fill-rule=\"evenodd\" fill-opacity=\"1\" stroke=\"#000000\" stroke-opacity=\"1\" stroke-width=\"3.2\"/>\n",
       "<path clip-path=\"url(#clip992)\" d=\"M781.802 979.628 L781.456 979.428 L781.456 979.028 L781.802 978.828 L782.149 979.028 L782.149 979.428 Z\" fill=\"#009af9\" fill-rule=\"evenodd\" fill-opacity=\"1\" stroke=\"#000000\" stroke-opacity=\"1\" stroke-width=\"3.2\"/>\n",
       "<path clip-path=\"url(#clip992)\" d=\"M662.317 1338.08 L661.971 1337.88 L661.971 1337.48 L662.317 1337.28 L662.664 1337.48 L662.664 1337.88 Z\" fill=\"#009af9\" fill-rule=\"evenodd\" fill-opacity=\"1\" stroke=\"#000000\" stroke-opacity=\"1\" stroke-width=\"3.2\"/>\n",
       "<path clip-path=\"url(#clip992)\" d=\"M901.287 1338.08 L900.941 1337.88 L900.941 1337.48 L901.287 1337.28 L901.634 1337.48 L901.634 1337.88 Z\" fill=\"#009af9\" fill-rule=\"evenodd\" fill-opacity=\"1\" stroke=\"#000000\" stroke-opacity=\"1\" stroke-width=\"3.2\"/>\n",
       "<path clip-path=\"url(#clip992)\" d=\"M1259.74 979.628 L1259.4 979.428 L1259.4 979.028 L1259.74 978.828 L1260.09 979.028 L1260.09 979.428 Z\" fill=\"#009af9\" fill-rule=\"evenodd\" fill-opacity=\"1\" stroke=\"#000000\" stroke-opacity=\"1\" stroke-width=\"3.2\"/>\n",
       "<path clip-path=\"url(#clip992)\" d=\"M1140.26 1338.08 L1139.91 1337.88 L1139.91 1337.48 L1140.26 1337.28 L1140.6 1337.48 L1140.6 1337.88 Z\" fill=\"#009af9\" fill-rule=\"evenodd\" fill-opacity=\"1\" stroke=\"#000000\" stroke-opacity=\"1\" stroke-width=\"3.2\"/>\n",
       "<path clip-path=\"url(#clip992)\" d=\"M1379.23 1338.08 L1378.88 1337.88 L1378.88 1337.48 L1379.23 1337.28 L1379.57 1337.48 L1379.57 1337.88 Z\" fill=\"#009af9\" fill-rule=\"evenodd\" fill-opacity=\"1\" stroke=\"#000000\" stroke-opacity=\"1\" stroke-width=\"3.2\"/>\n",
       "<path clip-path=\"url(#clip992)\" d=\"M1618.2 621.172 L1617.85 620.972 L1617.85 620.572 L1618.2 620.372 L1618.54 620.572 L1618.54 620.972 Z\" fill=\"#009af9\" fill-rule=\"evenodd\" fill-opacity=\"1\" stroke=\"#000000\" stroke-opacity=\"1\" stroke-width=\"3.2\"/>\n",
       "<path clip-path=\"url(#clip992)\" d=\"M1498.71 979.628 L1498.37 979.428 L1498.37 979.028 L1498.71 978.828 L1499.06 979.028 L1499.06 979.428 Z\" fill=\"#009af9\" fill-rule=\"evenodd\" fill-opacity=\"1\" stroke=\"#000000\" stroke-opacity=\"1\" stroke-width=\"3.2\"/>\n",
       "<path clip-path=\"url(#clip992)\" d=\"M1737.68 979.628 L1737.34 979.428 L1737.34 979.028 L1737.68 978.828 L1738.03 979.028 L1738.03 979.428 Z\" fill=\"#009af9\" fill-rule=\"evenodd\" fill-opacity=\"1\" stroke=\"#000000\" stroke-opacity=\"1\" stroke-width=\"3.2\"/>\n",
       "<path clip-path=\"url(#clip990)\" d=\"M1323.37 237.433 L1323.37 263.22 L1349.16 263.22 L1349.16 271.09 L1323.37 271.09 L1323.37 296.877 L1315.6 296.877 L1315.6 271.09 L1289.81 271.09 L1289.81 263.22 L1315.6 263.22 L1315.6 237.433 L1323.37 237.433 Z\" fill=\"#000000\" fill-rule=\"nonzero\" fill-opacity=\"1\" /><path clip-path=\"url(#clip990)\" d=\"M1008.3 625.564 L1033.25 625.564 L1033.25 633.157 L1008.3 633.157 L1008.3 625.564 Z\" fill=\"#000000\" fill-rule=\"nonzero\" fill-opacity=\"1\" /><path clip-path=\"url(#clip990)\" d=\"M802.682 956.056 L786.062 965.038 L802.682 974.066 L799.997 978.603 L784.441 969.205 L784.441 986.658 L779.163 986.658 L779.163 969.205 L763.608 978.603 L760.923 974.066 L777.543 965.038 L760.923 956.056 L763.608 951.473 L779.163 960.871 L779.163 943.418 L784.441 943.418 L784.441 960.871 L799.997 951.473 L802.682 956.056 Z\" fill=\"#000000\" fill-rule=\"nonzero\" fill-opacity=\"1\" /><path clip-path=\"url(#clip990)\" d=\"M670.813 1334.97 Q677.525 1336.41 681.275 1340.95 Q685.072 1345.48 685.072 1352.15 Q685.072 1362.38 678.035 1367.98 Q670.998 1373.59 658.035 1373.59 Q653.683 1373.59 649.053 1372.71 Q644.47 1371.87 639.563 1370.16 L639.563 1361.13 Q643.452 1363.4 648.081 1364.56 Q652.711 1365.72 657.757 1365.72 Q666.553 1365.72 671.137 1362.24 Q675.766 1358.77 675.766 1352.15 Q675.766 1346.04 671.461 1342.61 Q667.201 1339.14 659.563 1339.14 L651.507 1339.14 L651.507 1331.46 L659.933 1331.46 Q666.831 1331.46 670.488 1328.72 Q674.146 1325.95 674.146 1320.76 Q674.146 1315.44 670.35 1312.61 Q666.6 1309.74 659.563 1309.74 Q655.72 1309.74 651.322 1310.58 Q646.924 1311.41 641.646 1313.17 L641.646 1304.84 Q646.97 1303.35 651.6 1302.61 Q656.276 1301.87 660.396 1301.87 Q671.044 1301.87 677.248 1306.73 Q683.451 1311.55 683.451 1319.79 Q683.451 1325.53 680.164 1329.51 Q676.877 1333.45 670.813 1334.97 Z\" fill=\"#000000\" fill-rule=\"nonzero\" fill-opacity=\"1\" /><path clip-path=\"url(#clip990)\" d=\"M925.454 1320.39 L906.704 1345.62 L926.426 1372.24 L916.38 1372.24 L901.287 1351.87 L886.195 1372.24 L876.149 1372.24 L896.287 1345.11 L877.862 1320.39 L887.908 1320.39 L901.658 1338.86 L915.408 1320.39 L925.454 1320.39 Z\" fill=\"#000000\" fill-rule=\"nonzero\" fill-opacity=\"1\" /><path clip-path=\"url(#clip990)\" d=\"M1280.62 956.056 L1264 965.038 L1280.62 974.066 L1277.94 978.603 L1262.38 969.205 L1262.38 986.658 L1257.1 986.658 L1257.1 969.205 L1241.55 978.603 L1238.86 974.066 L1255.48 965.038 L1238.86 956.056 L1241.55 951.473 L1257.1 960.871 L1257.1 943.418 L1262.38 943.418 L1262.38 960.871 L1277.94 951.473 L1280.62 956.056 Z\" fill=\"#000000\" fill-rule=\"nonzero\" fill-opacity=\"1\" /><path clip-path=\"url(#clip990)\" d=\"M1118.04 1303.12 L1162.48 1303.12 L1162.48 1307.1 L1137.39 1372.24 L1127.62 1372.24 L1151.23 1310.99 L1118.04 1310.99 L1118.04 1303.12 Z\" fill=\"#000000\" fill-rule=\"nonzero\" fill-opacity=\"1\" /><path clip-path=\"url(#clip990)\" d=\"M1381.68 1377.06 Q1378.07 1386.32 1374.64 1389.14 Q1371.22 1391.96 1365.48 1391.96 L1358.67 1391.96 L1358.67 1384.84 L1363.67 1384.84 Q1367.19 1384.84 1369.14 1383.17 Q1371.08 1381.5 1373.44 1375.3 L1374.97 1371.41 L1354 1320.39 L1363.02 1320.39 L1379.23 1360.95 L1395.43 1320.39 L1404.46 1320.39 L1381.68 1377.06 Z\" fill=\"#000000\" fill-rule=\"nonzero\" fill-opacity=\"1\" /><path clip-path=\"url(#clip990)\" d=\"M1639.08 597.601 L1622.46 606.583 L1639.08 615.61 L1636.39 620.147 L1620.84 610.749 L1620.84 628.203 L1615.56 628.203 L1615.56 610.749 L1600 620.147 L1597.32 615.61 L1613.94 606.583 L1597.32 597.601 L1600 593.018 L1615.56 602.416 L1615.56 584.962 L1620.84 584.962 L1620.84 602.416 L1636.39 593.018 L1639.08 597.601 Z\" fill=\"#000000\" fill-rule=\"nonzero\" fill-opacity=\"1\" /><path clip-path=\"url(#clip990)\" d=\"M1479.06 961.936 L1519.52 961.936 L1519.52 969.714 L1487.49 1006.98 L1519.52 1006.98 L1519.52 1013.79 L1477.9 1013.79 L1477.9 1006.01 L1509.94 968.742 L1479.06 968.742 L1479.06 961.936 Z\" fill=\"#000000\" fill-rule=\"nonzero\" fill-opacity=\"1\" /><path clip-path=\"url(#clip990)\" d=\"M1736.32 947.214 L1736.32 961.936 L1753.86 961.936 L1753.86 968.556 L1736.32 968.556 L1736.32 996.704 Q1736.32 1003.05 1738.03 1004.85 Q1739.79 1006.66 1745.11 1006.66 L1753.86 1006.66 L1753.86 1013.79 L1745.11 1013.79 Q1735.25 1013.79 1731.5 1010.13 Q1727.75 1006.43 1727.75 996.704 L1727.75 968.556 L1721.5 968.556 L1721.5 961.936 L1727.75 961.936 L1727.75 947.214 L1736.32 947.214 Z\" fill=\"#000000\" fill-rule=\"nonzero\" fill-opacity=\"1\" /></svg>\n"
      ]
     },
     "metadata": {},
     "output_type": "display_data"
    }
   ],
   "source": [
    "plot(ex2, fontsize=16)"
   ]
  },
  {
   "cell_type": "code",
   "execution_count": 36,
   "metadata": {},
   "outputs": [
    {
     "data": {
      "text/plain": [
       ":(function power(a, b)\n",
       "      \u001b[90m#= /Users/sp/dev_root/my_learnings/Julia/section_9_metaprogramming/63_symbols_and_expressions.ipynb:2 =#\u001b[39m\n",
       "      \u001b[90m#= /Users/sp/dev_root/my_learnings/Julia/section_9_metaprogramming/63_symbols_and_expressions.ipynb:3 =#\u001b[39m\n",
       "      return a ^ b\n",
       "  end)"
      ]
     },
     "metadata": {},
     "output_type": "display_data"
    }
   ],
   "source": [
    "exp = :(\n",
    "    function power(a, b)\n",
    "        return a^b\n",
    "    end\n",
    ")"
   ]
  },
  {
   "cell_type": "code",
   "execution_count": 37,
   "metadata": {},
   "outputs": [
    {
     "data": {
      "text/plain": [
       ":function"
      ]
     },
     "metadata": {},
     "output_type": "display_data"
    }
   ],
   "source": [
    "exp.head"
   ]
  },
  {
   "cell_type": "code",
   "execution_count": 38,
   "metadata": {},
   "outputs": [
    {
     "data": {
      "text/plain": [
       ":(for i = 1:5\n",
       "      \u001b[90m#= /Users/sp/dev_root/my_learnings/Julia/section_9_metaprogramming/63_symbols_and_expressions.ipynb:3 =#\u001b[39m\n",
       "      println(i)\n",
       "      \u001b[90m#= /Users/sp/dev_root/my_learnings/Julia/section_9_metaprogramming/63_symbols_and_expressions.ipynb:4 =#\u001b[39m\n",
       "  end)"
      ]
     },
     "metadata": {},
     "output_type": "display_data"
    }
   ],
   "source": [
    "exp2 = :(\n",
    "    for i in 1:5\n",
    "        println(i)\n",
    "    end\n",
    ")"
   ]
  },
  {
   "cell_type": "code",
   "execution_count": 39,
   "metadata": {},
   "outputs": [
    {
     "data": {
      "text/plain": [
       ":for"
      ]
     },
     "metadata": {},
     "output_type": "display_data"
    }
   ],
   "source": [
    "exp2.head"
   ]
  },
  {
   "cell_type": "code",
   "execution_count": 40,
   "metadata": {},
   "outputs": [
    {
     "data": {
      "text/plain": [
       ":(if a < b\n",
       "      \u001b[90m#= /Users/sp/dev_root/my_learnings/Julia/section_9_metaprogramming/63_symbols_and_expressions.ipynb:3 =#\u001b[39m\n",
       "      println(a)\n",
       "  else\n",
       "      \u001b[90m#= /Users/sp/dev_root/my_learnings/Julia/section_9_metaprogramming/63_symbols_and_expressions.ipynb:5 =#\u001b[39m\n",
       "      println(b)\n",
       "  end)"
      ]
     },
     "metadata": {},
     "output_type": "display_data"
    }
   ],
   "source": [
    "expr3 = :(\n",
    "    if a < b\n",
    "        println(a)\n",
    "    else\n",
    "        println(b)\n",
    "    end\n",
    ")"
   ]
  },
  {
   "cell_type": "code",
   "execution_count": 42,
   "metadata": {},
   "outputs": [
    {
     "data": {
      "text/plain": [
       ":if"
      ]
     },
     "metadata": {},
     "output_type": "display_data"
    }
   ],
   "source": [
    "expr3.head"
   ]
  },
  {
   "cell_type": "code",
   "execution_count": 43,
   "metadata": {},
   "outputs": [
    {
     "name": "stdout",
     "output_type": "stream",
     "text": [
      "Expr\n",
      "  head: Symbol vect\n",
      "  args: Array{Any}((4,))\n",
      "    1: Symbol x\n",
      "    2: Symbol y\n",
      "    3: Symbol z\n",
      "    4: Symbol t\n"
     ]
    }
   ],
   "source": [
    ":([x, y, z, t]) |> dump"
   ]
  },
  {
   "cell_type": "code",
   "execution_count": 44,
   "metadata": {},
   "outputs": [],
   "source": [
    "mutable struct Point\n",
    "    a\n",
    "    b\n",
    "end"
   ]
  },
  {
   "cell_type": "code",
   "execution_count": 45,
   "metadata": {},
   "outputs": [
    {
     "data": {
      "text/plain": [
       ":(mutable struct Point\n",
       "      a\n",
       "      b\n",
       "  end)"
      ]
     },
     "metadata": {},
     "output_type": "display_data"
    }
   ],
   "source": [
    "Expr(:struct, true, :Point, Expr(:block, :a, :b))"
   ]
  },
  {
   "cell_type": "code",
   "execution_count": 46,
   "metadata": {},
   "outputs": [],
   "source": [
    "mutable struct Point1\n",
    "    a::Float64\n",
    "    b::Float64\n",
    "end"
   ]
  },
  {
   "cell_type": "code",
   "execution_count": 47,
   "metadata": {},
   "outputs": [
    {
     "data": {
      "text/plain": [
       ":(mutable struct Point1\n",
       "      a::Float64\n",
       "      b::Float64\n",
       "  end)"
      ]
     },
     "metadata": {},
     "output_type": "display_data"
    }
   ],
   "source": [
    "Expr(:struct, true, :Point1,\n",
    "    Expr(:block,\n",
    "        Expr(:(::), :a, :Float64),\n",
    "        Expr(:(::), :b, :Float64)))"
   ]
  },
  {
   "cell_type": "code",
   "execution_count": 48,
   "metadata": {},
   "outputs": [
    {
     "name": "stdout",
     "output_type": "stream",
     "text": [
      "Expr\n",
      "  head: Symbol struct\n",
      "  args: Array{Any}((3,))\n",
      "    1: Bool true\n",
      "    2: Symbol Point\n",
      "    3: Expr\n",
      "      head: Symbol block\n",
      "      args: Array{Any}((4,))\n",
      "        1: LineNumberNode\n",
      "          line: Int64 2\n",
      "          file: Symbol /Users/sp/dev_root/my_learnings/Julia/section_9_metaprogramming/63_symbols_and_expressions.ipynb\n",
      "        2: Expr\n",
      "          head: Symbol ::\n",
      "          args: Array{Any}((2,))\n",
      "            1: Symbol a\n",
      "            2: Symbol Float64\n",
      "        3: LineNumberNode\n",
      "          line: Int64 3\n",
      "          file: Symbol /Users/sp/dev_root/my_learnings/Julia/section_9_metaprogramming/63_symbols_and_expressions.ipynb\n",
      "        4: Expr\n",
      "          head: Symbol ::\n",
      "          args: Array{Any}((2,))\n",
      "            1: Symbol b\n",
      "            2: Symbol Float64\n"
     ]
    }
   ],
   "source": [
    ":(mutable struct Point\n",
    "    a::Float64\n",
    "    b::Float64\n",
    "end) |> dump"
   ]
  },
  {
   "cell_type": "code",
   "execution_count": 49,
   "metadata": {},
   "outputs": [
    {
     "data": {
      "text/plain": [
       ":(x - 3y)"
      ]
     },
     "metadata": {},
     "output_type": "display_data"
    }
   ],
   "source": [
    ":(x - 3y)"
   ]
  },
  {
   "cell_type": "code",
   "execution_count": 50,
   "metadata": {},
   "outputs": [
    {
     "data": {
      "text/plain": [
       "5"
      ]
     },
     "metadata": {},
     "output_type": "display_data"
    }
   ],
   "source": [
    "x = 5"
   ]
  },
  {
   "cell_type": "code",
   "execution_count": 51,
   "metadata": {},
   "outputs": [
    {
     "data": {
      "text/plain": [
       ":(5 - 5y)"
      ]
     },
     "metadata": {},
     "output_type": "display_data"
    }
   ],
   "source": [
    ":($x - 5y)"
   ]
  },
  {
   "cell_type": "code",
   "execution_count": 52,
   "metadata": {},
   "outputs": [
    {
     "name": "stdout",
     "output_type": "stream",
     "text": [
      "QuoteNode\n",
      "  value"
     ]
    },
    {
     "name": "stdout",
     "output_type": "stream",
     "text": [
      ": Symbol x\n"
     ]
    }
   ],
   "source": [
    ":(:x) |> dump"
   ]
  },
  {
   "cell_type": "code",
   "execution_count": 53,
   "metadata": {},
   "outputs": [
    {
     "name": "stdout",
     "output_type": "stream",
     "text": [
      "Expr\n",
      "  head: Symbol =\n",
      "  args: Array{Any}((2,))\n",
      "    1: Symbol a\n",
      "    2: QuoteNode\n",
      "      value: Symbol x\n"
     ]
    }
   ],
   "source": [
    ":(a = :x) |> dump"
   ]
  },
  {
   "cell_type": "code",
   "execution_count": 54,
   "metadata": {},
   "outputs": [
    {
     "data": {
      "text/plain": [
       ":(:variable)"
      ]
     },
     "metadata": {},
     "output_type": "display_data"
    }
   ],
   "source": [
    "ref = QuoteNode(:variable)"
   ]
  },
  {
   "cell_type": "code",
   "execution_count": 55,
   "metadata": {},
   "outputs": [
    {
     "data": {
      "text/plain": [
       ":(var = :variable)"
      ]
     },
     "metadata": {},
     "output_type": "display_data"
    }
   ],
   "source": [
    ":(var = $ref)"
   ]
  },
  {
   "cell_type": "code",
   "execution_count": 56,
   "metadata": {},
   "outputs": [
    {
     "data": {
      "text/plain": [
       ":variable2"
      ]
     },
     "metadata": {},
     "output_type": "display_data"
    }
   ],
   "source": [
    "ref2 = :variable2"
   ]
  },
  {
   "cell_type": "code",
   "execution_count": 57,
   "metadata": {},
   "outputs": [
    {
     "data": {
      "text/plain": [
       ":(var2 = variable2)"
      ]
     },
     "metadata": {},
     "output_type": "display_data"
    }
   ],
   "source": [
    ":(var2 = $ref2)"
   ]
  },
  {
   "cell_type": "code",
   "execution_count": 58,
   "metadata": {},
   "outputs": [
    {
     "name": "stdout",
     "output_type": "stream",
     "text": [
      "Expr\n",
      "  head: Symbol =\n",
      "  args: Array{Any}((2,))\n",
      "    1: Symbol ref\n",
      "    2: QuoteNode\n",
      "      value: Symbol var\n"
     ]
    }
   ],
   "source": [
    ":(ref = :var) |> dump"
   ]
  },
  {
   "cell_type": "code",
   "execution_count": 59,
   "metadata": {},
   "outputs": [
    {
     "data": {
      "text/plain": [
       "7"
      ]
     },
     "metadata": {},
     "output_type": "display_data"
    }
   ],
   "source": [
    "var = 7"
   ]
  },
  {
   "cell_type": "code",
   "execution_count": 60,
   "metadata": {},
   "outputs": [
    {
     "data": {
      "text/plain": [
       ":(ref = $(Expr(:quote, :($(Expr(:$, :var))))))"
      ]
     },
     "metadata": {},
     "output_type": "display_data"
    }
   ],
   "source": [
    ":(ref = :($var))"
   ]
  },
  {
   "cell_type": "code",
   "execution_count": 61,
   "metadata": {},
   "outputs": [
    {
     "data": {
      "text/plain": [
       ":(ref = $(Expr(:quote, :($(Expr(:$, 7))))))"
      ]
     },
     "metadata": {},
     "output_type": "display_data"
    }
   ],
   "source": [
    ":(ref = :($($var)))"
   ]
  },
  {
   "cell_type": "code",
   "execution_count": null,
   "metadata": {},
   "outputs": [],
   "source": []
  }
 ],
 "metadata": {
  "kernelspec": {
   "display_name": "Julia 1.8.5",
   "language": "julia",
   "name": "julia-1.8"
  },
  "language_info": {
   "file_extension": ".jl",
   "mimetype": "application/julia",
   "name": "julia",
   "version": "1.8.5"
  },
  "orig_nbformat": 4,
  "vscode": {
   "interpreter": {
    "hash": "eeef6a99530cb63899099d6231a88d8de05e8e19a182849157a12119dd164547"
   }
  }
 },
 "nbformat": 4,
 "nbformat_minor": 2
}
