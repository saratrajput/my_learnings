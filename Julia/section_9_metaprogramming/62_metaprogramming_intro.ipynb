{
 "cells": [
  {
   "cell_type": "code",
   "execution_count": 1,
   "metadata": {},
   "outputs": [],
   "source": [
    "using Dates"
   ]
  },
  {
   "cell_type": "code",
   "execution_count": 2,
   "metadata": {},
   "outputs": [
    {
     "data": {
      "text/plain": [
       "gettime (generic function with 1 method)"
      ]
     },
     "metadata": {},
     "output_type": "display_data"
    }
   ],
   "source": [
    "function gettime(myfunction)\n",
    "    t0 = Dates.now()\n",
    "    result = myfunction()\n",
    "    t1 = Dates.now()\n",
    "    duration = t1 - t0\n",
    "    println(\"Run time: \", duration)\n",
    "    return result\n",
    "end"
   ]
  },
  {
   "cell_type": "code",
   "execution_count": 3,
   "metadata": {},
   "outputs": [
    {
     "ename": "MethodError",
     "evalue": "MethodError: objects of type Vector{Float64} are not callable\nUse square brackets [] for indexing an Array.",
     "output_type": "error",
     "traceback": [
      "MethodError: objects of type Vector{Float64} are not callable\n",
      "Use square brackets [] for indexing an Array.\n",
      "\n",
      "Stacktrace:\n",
      " [1] gettime(myfunction::Vector{Float64})\n",
      "   @ Main ~/dev_root/my_learnings/Julia/section_9_metaprogramming/62_metaprogramming_intro.ipynb:3\n",
      " [2] top-level scope\n",
      "   @ ~/dev_root/my_learnings/Julia/section_9_metaprogramming/62_metaprogramming_intro.ipynb:1"
     ]
    }
   ],
   "source": [
    "gettime(rand(1_000_000))"
   ]
  },
  {
   "cell_type": "code",
   "execution_count": 4,
   "metadata": {},
   "outputs": [
    {
     "name": "stdout",
     "output_type": "stream",
     "text": [
      "Metaprogramming is nice\n"
     ]
    },
    {
     "ename": "MethodError",
     "evalue": "MethodError: objects of type Nothing are not callable",
     "output_type": "error",
     "traceback": [
      "MethodError: objects of type Nothing are not callable\n",
      "\n",
      "Stacktrace:\n",
      " [1] gettime(myfunction::Nothing)\n",
      "   @ Main ~/dev_root/my_learnings/Julia/section_9_metaprogramming/62_metaprogramming_intro.ipynb:3\n",
      " [2] top-level scope\n",
      "   @ ~/dev_root/my_learnings/Julia/section_9_metaprogramming/62_metaprogramming_intro.ipynb:1"
     ]
    }
   ],
   "source": [
    "gettime(println(\"Metaprogramming is nice\"))"
   ]
  },
  {
   "cell_type": "code",
   "execution_count": 5,
   "metadata": {},
   "outputs": [
    {
     "ename": "ErrorException",
     "evalue": "syntax: \"myfunction()\" is not a valid function argument name around /Users/sp/dev_root/my_learnings/Julia/section_9_metaprogramming/62_metaprogramming_intro.ipynb:2",
     "output_type": "error",
     "traceback": [
      "syntax: \"myfunction()\" is not a valid function argument name around /Users/sp/dev_root/my_learnings/Julia/section_9_metaprogramming/62_metaprogramming_intro.ipynb:2\n",
      "\n",
      "Stacktrace:\n",
      " [1] top-level scope\n",
      "   @ ~/dev_root/my_learnings/Julia/section_9_metaprogramming/62_metaprogramming_intro.ipynb:2"
     ]
    }
   ],
   "source": [
    "\n",
    "function gettime(myfunction())\n",
    "    t0 = Dates.now()\n",
    "    result = myfunction()\n",
    "    t1 = Dates.now()\n",
    "    duration = t1 - t0\n",
    "    println(\"Run time: \", duration)\n",
    "    return result\n",
    "end"
   ]
  },
  {
   "cell_type": "code",
   "execution_count": 6,
   "metadata": {},
   "outputs": [
    {
     "name": "stdout",
     "output_type": "stream",
     "text": [
      "Run time: 7 milliseconds\n"
     ]
    },
    {
     "data": {
      "text/plain": [
       "1000000-element Vector{Float64}:\n",
       " 0.2059609990130935\n",
       " 0.5170744683833298\n",
       " 0.912330836191912\n",
       " 0.8085228170353717\n",
       " 0.023131058787356662\n",
       " 0.4680188726091288\n",
       " 0.48660868452564265\n",
       " 0.7499433145724326\n",
       " 0.7292130681772133\n",
       " 0.7225812015626365\n",
       " ⋮\n",
       " 0.2978880262456781\n",
       " 0.8669361861365786\n",
       " 0.30200410527787913\n",
       " 0.1280324356048802\n",
       " 0.19348672910526765\n",
       " 0.9950043736683915\n",
       " 0.529858148863006\n",
       " 0.06771280238970911\n",
       " 0.8829524323549696"
      ]
     },
     "metadata": {},
     "output_type": "display_data"
    }
   ],
   "source": [
    "gettime( () -> rand(1_000_000))"
   ]
  },
  {
   "cell_type": "code",
   "execution_count": 7,
   "metadata": {},
   "outputs": [
    {
     "name": "stdout",
     "output_type": "stream",
     "text": [
      "Metaprogramming is nice.\n",
      "Run time: 0 milliseconds\n"
     ]
    }
   ],
   "source": [
    "gettime(() -> println(\"Metaprogramming is nice.\"))"
   ]
  },
  {
   "cell_type": "code",
   "execution_count": 8,
   "metadata": {},
   "outputs": [
    {
     "data": {
      "text/plain": [
       "func (generic function with 1 method)"
      ]
     },
     "metadata": {},
     "output_type": "display_data"
    }
   ],
   "source": [
    "func() = rand(1_000_000)"
   ]
  },
  {
   "cell_type": "code",
   "execution_count": 9,
   "metadata": {},
   "outputs": [
    {
     "name": "stdout",
     "output_type": "stream",
     "text": [
      "Run time: 1 millisecond\n"
     ]
    },
    {
     "data": {
      "text/plain": [
       "1000000-element Vector{Float64}:\n",
       " 0.34318018558061303\n",
       " 0.43919677345360075\n",
       " 0.9873144198908982\n",
       " 0.6371796082486763\n",
       " 0.6799734963831631\n",
       " 0.7252542833933607\n",
       " 0.9506745510426328\n",
       " 0.7002558447048343\n",
       " 0.8342681355219123\n",
       " 0.8236226513956817\n",
       " ⋮\n",
       " 0.039630594053821966\n",
       " 0.23277930457538354\n",
       " 0.2682116667873149\n",
       " 0.16643429766240314\n",
       " 0.38474192521649997\n",
       " 0.4026896053047655\n",
       " 0.9735130316434395\n",
       " 0.8958978835112102\n",
       " 0.6318153451468567"
      ]
     },
     "metadata": {},
     "output_type": "display_data"
    }
   ],
   "source": [
    "gettime(func)"
   ]
  },
  {
   "cell_type": "code",
   "execution_count": 10,
   "metadata": {},
   "outputs": [
    {
     "name": "stdout",
     "output_type": "stream",
     "text": [
      "  0.001305 seconds (2 allocations: 7.629 MiB)\n"
     ]
    },
    {
     "data": {
      "text/plain": [
       "1000000-element Vector{Float64}:\n",
       " 0.18997156713919705\n",
       " 0.9014987531403796\n",
       " 0.7641972966008467\n",
       " 0.24631779606606274\n",
       " 0.9554904956597614\n",
       " 0.7830977154461739\n",
       " 0.8080296027802023\n",
       " 0.39569728461741627\n",
       " 0.9828133359938485\n",
       " 0.8754862855491078\n",
       " ⋮\n",
       " 0.7244031211643\n",
       " 0.4692553819392691\n",
       " 0.68033415423587\n",
       " 0.07930312092408665\n",
       " 0.9346773188999047\n",
       " 0.02643098238123709\n",
       " 0.9391844398999256\n",
       " 0.9308665456532278\n",
       " 0.7792766472857824"
      ]
     },
     "metadata": {},
     "output_type": "display_data"
    }
   ],
   "source": [
    "@time rand(1_000_000)"
   ]
  },
  {
   "cell_type": "code",
   "execution_count": 11,
   "metadata": {},
   "outputs": [
    {
     "name": "stdout",
     "output_type": "stream",
     "text": [
      "Metaprogramming is nice\n",
      "  0.000184 seconds (25 allocations: 576 bytes)\n"
     ]
    }
   ],
   "source": [
    "@time println(\"Metaprogramming is nice\")"
   ]
  },
  {
   "cell_type": "code",
   "execution_count": null,
   "metadata": {},
   "outputs": [],
   "source": []
  }
 ],
 "metadata": {
  "kernelspec": {
   "display_name": "Julia 1.8.5",
   "language": "julia",
   "name": "julia-1.8"
  },
  "language_info": {
   "file_extension": ".jl",
   "mimetype": "application/julia",
   "name": "julia",
   "version": "1.8.5"
  },
  "orig_nbformat": 4,
  "vscode": {
   "interpreter": {
    "hash": "eeef6a99530cb63899099d6231a88d8de05e8e19a182849157a12119dd164547"
   }
  }
 },
 "nbformat": 4,
 "nbformat_minor": 2
}
