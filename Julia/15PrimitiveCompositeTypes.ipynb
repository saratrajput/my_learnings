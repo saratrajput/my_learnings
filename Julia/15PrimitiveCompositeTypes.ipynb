{
 "cells": [
  {
   "cell_type": "markdown",
   "id": "e7c79321",
   "metadata": {},
   "source": [
    "### Primitive Types\n",
    "\n",
    "* Syntax for primitive type: ```primitive type <<name>> <<bits>> end```\n",
    "* Syntax for primitive type: ```primitive type <<name>> <: <<supertype>> <<bits>> end```"
   ]
  },
  {
   "cell_type": "code",
   "execution_count": 1,
   "id": "794d1519",
   "metadata": {},
   "outputs": [],
   "source": [
    "struct Rectangle\n",
    "    width::Float64\n",
    "    length::Float64\n",
    "end"
   ]
  },
  {
   "cell_type": "code",
   "execution_count": 2,
   "id": "91596ed7",
   "metadata": {},
   "outputs": [
    {
     "data": {
      "text/plain": [
       "(:width, :length)"
      ]
     },
     "execution_count": 2,
     "metadata": {},
     "output_type": "execute_result"
    }
   ],
   "source": [
    "fieldnames(Rectangle)"
   ]
  },
  {
   "cell_type": "code",
   "execution_count": 3,
   "id": "4da71920",
   "metadata": {},
   "outputs": [
    {
     "data": {
      "text/plain": [
       "Rectangle(4.0, 7.0)"
      ]
     },
     "execution_count": 3,
     "metadata": {},
     "output_type": "execute_result"
    }
   ],
   "source": [
    "rectangle1 = Rectangle(4, 7)"
   ]
  },
  {
   "cell_type": "code",
   "execution_count": 4,
   "id": "18030929",
   "metadata": {},
   "outputs": [
    {
     "data": {
      "text/plain": [
       "7.0"
      ]
     },
     "execution_count": 4,
     "metadata": {},
     "output_type": "execute_result"
    }
   ],
   "source": [
    "rectangle1.length"
   ]
  },
  {
   "cell_type": "code",
   "execution_count": 5,
   "id": "bb364db3",
   "metadata": {},
   "outputs": [
    {
     "data": {
      "text/plain": [
       "4.0"
      ]
     },
     "execution_count": 5,
     "metadata": {},
     "output_type": "execute_result"
    }
   ],
   "source": [
    "rectangle1.width"
   ]
  },
  {
   "cell_type": "code",
   "execution_count": 6,
   "id": "b97e2d88",
   "metadata": {},
   "outputs": [
    {
     "ename": "LoadError",
     "evalue": "MethodError: no method matching Rectangle(::Float64)\n\u001b[0mClosest candidates are:\n\u001b[0m  Rectangle(::Float64, \u001b[91m::Float64\u001b[39m) at In[1]:2\n\u001b[0m  Rectangle(::Any, \u001b[91m::Any\u001b[39m) at In[1]:2",
     "output_type": "error",
     "traceback": [
      "MethodError: no method matching Rectangle(::Float64)\n\u001b[0mClosest candidates are:\n\u001b[0m  Rectangle(::Float64, \u001b[91m::Float64\u001b[39m) at In[1]:2\n\u001b[0m  Rectangle(::Any, \u001b[91m::Any\u001b[39m) at In[1]:2",
      "",
      "Stacktrace:",
      " [1] top-level scope",
      "   @ In[6]:1"
     ]
    }
   ],
   "source": [
    "rectangle1 = Rectangle(5.0)"
   ]
  },
  {
   "cell_type": "code",
   "execution_count": 7,
   "id": "d6153ca2",
   "metadata": {},
   "outputs": [
    {
     "ename": "LoadError",
     "evalue": "MethodError: no method matching Rectangle(::Float64, ::Float64, ::Float64)\n\u001b[0mClosest candidates are:\n\u001b[0m  Rectangle(::Float64, ::Float64) at In[1]:2\n\u001b[0m  Rectangle(::Any, ::Any) at In[1]:2",
     "output_type": "error",
     "traceback": [
      "MethodError: no method matching Rectangle(::Float64, ::Float64, ::Float64)\n\u001b[0mClosest candidates are:\n\u001b[0m  Rectangle(::Float64, ::Float64) at In[1]:2\n\u001b[0m  Rectangle(::Any, ::Any) at In[1]:2",
      "",
      "Stacktrace:",
      " [1] top-level scope",
      "   @ In[7]:1"
     ]
    }
   ],
   "source": [
    "rectangle1 = Rectangle(1.0, 2.0, 3.0)"
   ]
  },
  {
   "cell_type": "code",
   "execution_count": 8,
   "id": "8b5f7820",
   "metadata": {},
   "outputs": [
    {
     "ename": "LoadError",
     "evalue": "setfield!: immutable struct of type Rectangle cannot be changed",
     "output_type": "error",
     "traceback": [
      "setfield!: immutable struct of type Rectangle cannot be changed",
      "",
      "Stacktrace:",
      " [1] setproperty!(x::Rectangle, f::Symbol, v::Int64)",
      "   @ Base ./Base.jl:39",
      " [2] top-level scope",
      "   @ In[8]:1"
     ]
    }
   ],
   "source": [
    "rectangle1.length = 2"
   ]
  },
  {
   "cell_type": "code",
   "execution_count": 9,
   "id": "c06c6564",
   "metadata": {},
   "outputs": [],
   "source": [
    "mutable struct NewRectangle\n",
    "    width::Float64\n",
    "    height::Float64\n",
    "end"
   ]
  },
  {
   "cell_type": "code",
   "execution_count": 10,
   "id": "f9f1a3a1",
   "metadata": {},
   "outputs": [
    {
     "data": {
      "text/plain": [
       "NewRectangle(4.5, 7.8)"
      ]
     },
     "execution_count": 10,
     "metadata": {},
     "output_type": "execute_result"
    }
   ],
   "source": [
    "rectangle2 = NewRectangle(4.5, 7.8)"
   ]
  },
  {
   "cell_type": "code",
   "execution_count": 11,
   "id": "19d4687e",
   "metadata": {},
   "outputs": [
    {
     "data": {
      "text/plain": [
       "2.5"
      ]
     },
     "execution_count": 11,
     "metadata": {},
     "output_type": "execute_result"
    }
   ],
   "source": [
    "rectangle2.width = 2.5"
   ]
  },
  {
   "cell_type": "code",
   "execution_count": 12,
   "id": "e0021c3b",
   "metadata": {},
   "outputs": [
    {
     "data": {
      "text/plain": [
       "NewRectangle(2.5, 7.8)"
      ]
     },
     "execution_count": 12,
     "metadata": {},
     "output_type": "execute_result"
    }
   ],
   "source": [
    "rectangle2"
   ]
  },
  {
   "cell_type": "code",
   "execution_count": 13,
   "id": "4533824e",
   "metadata": {},
   "outputs": [
    {
     "data": {
      "text/plain": [
       "Any"
      ]
     },
     "execution_count": 13,
     "metadata": {},
     "output_type": "execute_result"
    }
   ],
   "source": [
    "supertype(Rectangle)"
   ]
  },
  {
   "cell_type": "code",
   "execution_count": 14,
   "id": "99cc7da4",
   "metadata": {},
   "outputs": [],
   "source": [
    "abstract type Shape end"
   ]
  },
  {
   "cell_type": "code",
   "execution_count": 15,
   "id": "61c5f195",
   "metadata": {},
   "outputs": [],
   "source": [
    "mutable struct RectangleShape <: Shape\n",
    "    width::Float64\n",
    "    height::Float64\n",
    "end"
   ]
  },
  {
   "cell_type": "code",
   "execution_count": 16,
   "id": "84bd0623",
   "metadata": {},
   "outputs": [],
   "source": [
    "mutable struct Square <: Shape\n",
    "    length::Float64\n",
    "end"
   ]
  },
  {
   "cell_type": "code",
   "execution_count": 18,
   "id": "3997fae2",
   "metadata": {},
   "outputs": [],
   "source": [
    "mutable struct Circle <: Shape\n",
    "    radius::Float64\n",
    "end"
   ]
  },
  {
   "cell_type": "code",
   "execution_count": 19,
   "id": "408da222",
   "metadata": {},
   "outputs": [
    {
     "data": {
      "text/plain": [
       "Union{AbstractString, Integer}"
      ]
     },
     "execution_count": 19,
     "metadata": {},
     "output_type": "execute_result"
    }
   ],
   "source": [
    "intstr = Union{Integer, AbstractString}"
   ]
  },
  {
   "cell_type": "code",
   "execution_count": 20,
   "id": "5b00913d",
   "metadata": {},
   "outputs": [],
   "source": [
    "x = 123; y = \"123\"; z = 123.0;"
   ]
  },
  {
   "cell_type": "code",
   "execution_count": 21,
   "id": "538e976c",
   "metadata": {},
   "outputs": [
    {
     "data": {
      "text/plain": [
       "123"
      ]
     },
     "execution_count": 21,
     "metadata": {},
     "output_type": "execute_result"
    }
   ],
   "source": [
    "x::intstr"
   ]
  },
  {
   "cell_type": "code",
   "execution_count": 22,
   "id": "22fe07b6",
   "metadata": {},
   "outputs": [
    {
     "data": {
      "text/plain": [
       "\"123\""
      ]
     },
     "execution_count": 22,
     "metadata": {},
     "output_type": "execute_result"
    }
   ],
   "source": [
    "y::intstr"
   ]
  },
  {
   "cell_type": "code",
   "execution_count": 23,
   "id": "86f617c3",
   "metadata": {},
   "outputs": [
    {
     "ename": "LoadError",
     "evalue": "TypeError: in typeassert, expected Union{AbstractString, Integer}, got a value of type Float64",
     "output_type": "error",
     "traceback": [
      "TypeError: in typeassert, expected Union{AbstractString, Integer}, got a value of type Float64",
      "",
      "Stacktrace:",
      " [1] top-level scope",
      "   @ In[23]:1"
     ]
    }
   ],
   "source": [
    "z::intstr"
   ]
  },
  {
   "cell_type": "code",
   "execution_count": null,
   "id": "16426a82",
   "metadata": {},
   "outputs": [],
   "source": []
  }
 ],
 "metadata": {
  "kernelspec": {
   "display_name": "Julia 1.8.5",
   "language": "julia",
   "name": "julia-1.8"
  },
  "language_info": {
   "file_extension": ".jl",
   "mimetype": "application/julia",
   "name": "julia",
   "version": "1.8.5"
  }
 },
 "nbformat": 4,
 "nbformat_minor": 5
}
