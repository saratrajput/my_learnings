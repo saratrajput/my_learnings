{
 "cells": [
  {
   "cell_type": "code",
   "execution_count": 1,
   "id": "13f75eff",
   "metadata": {},
   "outputs": [
    {
     "data": {
      "text/plain": [
       "1:10"
      ]
     },
     "execution_count": 1,
     "metadata": {},
     "output_type": "execute_result"
    }
   ],
   "source": [
    "1:10"
   ]
  },
  {
   "cell_type": "code",
   "execution_count": 2,
   "id": "d1cdbde5",
   "metadata": {},
   "outputs": [
    {
     "data": {
      "text/plain": [
       "1:10"
      ]
     },
     "execution_count": 2,
     "metadata": {},
     "output_type": "execute_result"
    }
   ],
   "source": [
    "rng = 1:10"
   ]
  },
  {
   "cell_type": "code",
   "execution_count": 3,
   "id": "62648ff9",
   "metadata": {},
   "outputs": [
    {
     "data": {
      "text/plain": [
       "10-element Vector{Int64}:\n",
       "  1\n",
       "  2\n",
       "  3\n",
       "  4\n",
       "  5\n",
       "  6\n",
       "  7\n",
       "  8\n",
       "  9\n",
       " 10"
      ]
     },
     "execution_count": 3,
     "metadata": {},
     "output_type": "execute_result"
    }
   ],
   "source": [
    "collect(rng)"
   ]
  },
  {
   "cell_type": "code",
   "execution_count": 4,
   "id": "fdde3e83",
   "metadata": {},
   "outputs": [
    {
     "data": {
      "text/plain": [
       "16"
      ]
     },
     "execution_count": 4,
     "metadata": {},
     "output_type": "execute_result"
    }
   ],
   "source": [
    "sizeof(1:10)"
   ]
  },
  {
   "cell_type": "code",
   "execution_count": 5,
   "id": "20313056",
   "metadata": {},
   "outputs": [
    {
     "data": {
      "text/plain": [
       "80"
      ]
     },
     "execution_count": 5,
     "metadata": {},
     "output_type": "execute_result"
    }
   ],
   "source": [
    "sizeof(collect(1:10))"
   ]
  },
  {
   "cell_type": "code",
   "execution_count": 6,
   "id": "7cb2ff1f",
   "metadata": {},
   "outputs": [
    {
     "data": {
      "text/plain": [
       "UnitRange{Int64}"
      ]
     },
     "execution_count": 6,
     "metadata": {},
     "output_type": "execute_result"
    }
   ],
   "source": [
    "typeof(rng)"
   ]
  },
  {
   "cell_type": "code",
   "execution_count": 7,
   "id": "10a2de5c",
   "metadata": {},
   "outputs": [
    {
     "data": {
      "text/plain": [
       "AbstractUnitRange{T} where T<:Real"
      ]
     },
     "execution_count": 7,
     "metadata": {},
     "output_type": "execute_result"
    }
   ],
   "source": [
    "supertype(UnitRange)"
   ]
  },
  {
   "cell_type": "code",
   "execution_count": 8,
   "id": "e1fefaa7",
   "metadata": {},
   "outputs": [
    {
     "data": {
      "text/plain": [
       "AbstractRange"
      ]
     },
     "execution_count": 8,
     "metadata": {},
     "output_type": "execute_result"
    }
   ],
   "source": [
    "supertype(OrdinalRange)"
   ]
  },
  {
   "cell_type": "code",
   "execution_count": 9,
   "id": "dea06e7b",
   "metadata": {},
   "outputs": [
    {
     "data": {
      "text/plain": [
       "AbstractVector\u001b[90m (alias for \u001b[39m\u001b[90mAbstractArray{T, 1} where T\u001b[39m\u001b[90m)\u001b[39m"
      ]
     },
     "execution_count": 9,
     "metadata": {},
     "output_type": "execute_result"
    }
   ],
   "source": [
    "supertype(AbstractRange)"
   ]
  },
  {
   "cell_type": "code",
   "execution_count": 10,
   "id": "e9225203",
   "metadata": {},
   "outputs": [
    {
     "data": {
      "text/plain": [
       "Any"
      ]
     },
     "execution_count": 10,
     "metadata": {},
     "output_type": "execute_result"
    }
   ],
   "source": [
    "supertype(AbstractVector)"
   ]
  },
  {
   "cell_type": "code",
   "execution_count": 11,
   "id": "6b9fc5b7",
   "metadata": {},
   "outputs": [
    {
     "data": {
      "text/plain": [
       "1:2:19"
      ]
     },
     "execution_count": 11,
     "metadata": {},
     "output_type": "execute_result"
    }
   ],
   "source": [
    "rng2 = 1:2:20"
   ]
  },
  {
   "cell_type": "code",
   "execution_count": 12,
   "id": "de754bb4",
   "metadata": {},
   "outputs": [
    {
     "data": {
      "text/plain": [
       "20:-2:2"
      ]
     },
     "execution_count": 12,
     "metadata": {},
     "output_type": "execute_result"
    }
   ],
   "source": [
    "rng3 = 20:-2:1"
   ]
  },
  {
   "cell_type": "code",
   "execution_count": 13,
   "id": "f25b0573",
   "metadata": {},
   "outputs": [
    {
     "data": {
      "text/plain": [
       "-3.0:0.1:3.0"
      ]
     },
     "execution_count": 13,
     "metadata": {},
     "output_type": "execute_result"
    }
   ],
   "source": [
    "-3:0.1:3"
   ]
  },
  {
   "cell_type": "code",
   "execution_count": 14,
   "id": "f2247646",
   "metadata": {},
   "outputs": [
    {
     "data": {
      "text/plain": [
       "0:2:20"
      ]
     },
     "execution_count": 14,
     "metadata": {},
     "output_type": "execute_result"
    }
   ],
   "source": [
    "range(start=0, step=2, stop=20)"
   ]
  },
  {
   "cell_type": "code",
   "execution_count": 15,
   "id": "3a34f47f",
   "metadata": {},
   "outputs": [
    {
     "data": {
      "text/plain": [
       "2:11"
      ]
     },
     "execution_count": 15,
     "metadata": {},
     "output_type": "execute_result"
    }
   ],
   "source": [
    "range(2, length=10)"
   ]
  },
  {
   "cell_type": "code",
   "execution_count": 16,
   "id": "512a014a",
   "metadata": {},
   "outputs": [
    {
     "data": {
      "text/plain": [
       "5:20"
      ]
     },
     "execution_count": 16,
     "metadata": {},
     "output_type": "execute_result"
    }
   ],
   "source": [
    "range(5, stop=20)"
   ]
  },
  {
   "cell_type": "code",
   "execution_count": 18,
   "id": "25dd50e8",
   "metadata": {},
   "outputs": [
    {
     "data": {
      "text/plain": [
       "2:11"
      ]
     },
     "execution_count": 18,
     "metadata": {},
     "output_type": "execute_result"
    }
   ],
   "source": [
    "range(2, length=10)"
   ]
  },
  {
   "cell_type": "code",
   "execution_count": 19,
   "id": "0434ad96",
   "metadata": {},
   "outputs": [
    {
     "data": {
      "text/plain": [
       "5:20"
      ]
     },
     "execution_count": 19,
     "metadata": {},
     "output_type": "execute_result"
    }
   ],
   "source": [
    "range(5, stop=20)"
   ]
  },
  {
   "cell_type": "code",
   "execution_count": 20,
   "id": "c89d871f",
   "metadata": {},
   "outputs": [
    {
     "data": {
      "text/plain": [
       "4:4:40"
      ]
     },
     "execution_count": 20,
     "metadata": {},
     "output_type": "execute_result"
    }
   ],
   "source": [
    "range(4, step=4, length=10)"
   ]
  },
  {
   "cell_type": "code",
   "execution_count": 21,
   "id": "ede715a1",
   "metadata": {},
   "outputs": [
    {
     "data": {
      "text/plain": [
       "-3.0:0.06:3.0"
      ]
     },
     "execution_count": 21,
     "metadata": {},
     "output_type": "execute_result"
    }
   ],
   "source": [
    "range(-3, 3, length=101)"
   ]
  },
  {
   "cell_type": "code",
   "execution_count": 22,
   "id": "4a709f7e",
   "metadata": {},
   "outputs": [
    {
     "data": {
      "text/plain": [
       "1:3:28"
      ]
     },
     "execution_count": 22,
     "metadata": {},
     "output_type": "execute_result"
    }
   ],
   "source": [
    "range(1, 30, step=3)"
   ]
  },
  {
   "cell_type": "code",
   "execution_count": 23,
   "id": "99bfae79",
   "metadata": {},
   "outputs": [
    {
     "data": {
      "text/plain": [
       "11:20"
      ]
     },
     "execution_count": 23,
     "metadata": {},
     "output_type": "execute_result"
    }
   ],
   "source": [
    "range(stop=20, length=10)"
   ]
  },
  {
   "cell_type": "code",
   "execution_count": 24,
   "id": "22ec2943",
   "metadata": {},
   "outputs": [
    {
     "data": {
      "text/plain": [
       "2:2:20"
      ]
     },
     "execution_count": 24,
     "metadata": {},
     "output_type": "execute_result"
    }
   ],
   "source": [
    "range(stop=20, step=2, length=10)"
   ]
  },
  {
   "cell_type": "code",
   "execution_count": 25,
   "id": "353f124d",
   "metadata": {},
   "outputs": [
    {
     "data": {
      "text/plain": [
       "100-element LinRange{Float64, Int64}:\n",
       " 10.0,18.9899,27.9798,36.9697,45.9596,…,864.04,873.03,882.02,891.01,900.0"
      ]
     },
     "execution_count": 25,
     "metadata": {},
     "output_type": "execute_result"
    }
   ],
   "source": [
    "LinRange(10, 900, 100)"
   ]
  },
  {
   "cell_type": "code",
   "execution_count": null,
   "id": "b590eb5f",
   "metadata": {},
   "outputs": [],
   "source": []
  }
 ],
 "metadata": {
  "kernelspec": {
   "display_name": "Julia 1.8.5",
   "language": "julia",
   "name": "julia-1.8"
  },
  "language_info": {
   "file_extension": ".jl",
   "mimetype": "application/julia",
   "name": "julia",
   "version": "1.8.5"
  }
 },
 "nbformat": 4,
 "nbformat_minor": 5
}
