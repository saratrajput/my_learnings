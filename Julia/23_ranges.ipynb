{
 "cells": [
  {
   "cell_type": "code",
   "execution_count": 1,
   "id": "2de6772a",
   "metadata": {},
   "outputs": [
    {
     "data": {
      "text/plain": [
       "1:10"
      ]
     },
     "execution_count": 1,
     "metadata": {},
     "output_type": "execute_result"
    }
   ],
   "source": [
    "1:10"
   ]
  },
  {
   "cell_type": "code",
   "execution_count": 2,
   "id": "eac20098",
   "metadata": {},
   "outputs": [
    {
     "data": {
      "text/plain": [
       "1:10"
      ]
     },
     "execution_count": 2,
     "metadata": {},
     "output_type": "execute_result"
    }
   ],
   "source": [
    "rng = 1:10"
   ]
  },
  {
   "cell_type": "code",
   "execution_count": 3,
   "id": "12d17f3c",
   "metadata": {},
   "outputs": [
    {
     "data": {
      "text/plain": [
       "10-element Vector{Int64}:\n",
       "  1\n",
       "  2\n",
       "  3\n",
       "  4\n",
       "  5\n",
       "  6\n",
       "  7\n",
       "  8\n",
       "  9\n",
       " 10"
      ]
     },
     "execution_count": 3,
     "metadata": {},
     "output_type": "execute_result"
    }
   ],
   "source": [
    "collect(rng)"
   ]
  },
  {
   "cell_type": "code",
   "execution_count": 4,
   "id": "d218c36d",
   "metadata": {},
   "outputs": [
    {
     "data": {
      "text/plain": [
       "16"
      ]
     },
     "execution_count": 4,
     "metadata": {},
     "output_type": "execute_result"
    }
   ],
   "source": [
    "sizeof(1:10)"
   ]
  },
  {
   "cell_type": "code",
   "execution_count": 5,
   "id": "99c2c430",
   "metadata": {},
   "outputs": [
    {
     "data": {
      "text/plain": [
       "80"
      ]
     },
     "execution_count": 5,
     "metadata": {},
     "output_type": "execute_result"
    }
   ],
   "source": [
    "sizeof(collect(1:10))"
   ]
  },
  {
   "cell_type": "code",
   "execution_count": 6,
   "id": "94012eb6",
   "metadata": {},
   "outputs": [
    {
     "data": {
      "text/plain": [
       "UnitRange{Int64}"
      ]
     },
     "execution_count": 6,
     "metadata": {},
     "output_type": "execute_result"
    }
   ],
   "source": [
    "typeof(rng)"
   ]
  },
  {
   "cell_type": "code",
   "execution_count": 7,
   "id": "10a9140b",
   "metadata": {},
   "outputs": [
    {
     "data": {
      "text/plain": [
       "AbstractUnitRange{T} where T<:Real"
      ]
     },
     "execution_count": 7,
     "metadata": {},
     "output_type": "execute_result"
    }
   ],
   "source": [
    "supertype(UnitRange)"
   ]
  },
  {
   "cell_type": "code",
   "execution_count": 8,
   "id": "36603447",
   "metadata": {},
   "outputs": [
    {
     "data": {
      "text/plain": [
       "AbstractRange"
      ]
     },
     "execution_count": 8,
     "metadata": {},
     "output_type": "execute_result"
    }
   ],
   "source": [
    "supertype(OrdinalRange)"
   ]
  },
  {
   "cell_type": "code",
   "execution_count": 9,
   "id": "5186be2b",
   "metadata": {},
   "outputs": [
    {
     "data": {
      "text/plain": [
       "AbstractVector\u001b[90m (alias for \u001b[39m\u001b[90mAbstractArray{T, 1} where T\u001b[39m\u001b[90m)\u001b[39m"
      ]
     },
     "execution_count": 9,
     "metadata": {},
     "output_type": "execute_result"
    }
   ],
   "source": [
    "supertype(AbstractRange)"
   ]
  },
  {
   "cell_type": "code",
   "execution_count": 10,
   "id": "750ac999",
   "metadata": {},
   "outputs": [
    {
     "data": {
      "text/plain": [
       "Any"
      ]
     },
     "execution_count": 10,
     "metadata": {},
     "output_type": "execute_result"
    }
   ],
   "source": [
    "supertype(AbstractVector)"
   ]
  },
  {
   "cell_type": "code",
   "execution_count": 11,
   "id": "4d7e9d4a",
   "metadata": {},
   "outputs": [
    {
     "data": {
      "text/plain": [
       "1:2:19"
      ]
     },
     "execution_count": 11,
     "metadata": {},
     "output_type": "execute_result"
    }
   ],
   "source": [
    "rng2 = 1:2:20"
   ]
  },
  {
   "cell_type": "code",
   "execution_count": 12,
   "id": "c1079644",
   "metadata": {},
   "outputs": [
    {
     "data": {
      "text/plain": [
       "20:-2:2"
      ]
     },
     "execution_count": 12,
     "metadata": {},
     "output_type": "execute_result"
    }
   ],
   "source": [
    "rng3 = 20:-2:1"
   ]
  },
  {
   "cell_type": "code",
   "execution_count": 13,
   "id": "28f13c91",
   "metadata": {},
   "outputs": [
    {
     "data": {
      "text/plain": [
       "-3.0:0.1:3.0"
      ]
     },
     "execution_count": 13,
     "metadata": {},
     "output_type": "execute_result"
    }
   ],
   "source": [
    "-3:0.1:3"
   ]
  },
  {
   "cell_type": "code",
   "execution_count": 14,
   "id": "b6af9487",
   "metadata": {},
   "outputs": [
    {
     "data": {
      "text/plain": [
       "0:2:20"
      ]
     },
     "execution_count": 14,
     "metadata": {},
     "output_type": "execute_result"
    }
   ],
   "source": [
    "range(start=0, step=2, stop=20)"
   ]
  },
  {
   "cell_type": "code",
   "execution_count": 15,
   "id": "3fc3bd44",
   "metadata": {},
   "outputs": [
    {
     "data": {
      "text/plain": [
       "2:11"
      ]
     },
     "execution_count": 15,
     "metadata": {},
     "output_type": "execute_result"
    }
   ],
   "source": [
    "range(2, length=10)"
   ]
  },
  {
   "cell_type": "code",
   "execution_count": 16,
   "id": "101b7baa",
   "metadata": {},
   "outputs": [
    {
     "data": {
      "text/plain": [
       "5:20"
      ]
     },
     "execution_count": 16,
     "metadata": {},
     "output_type": "execute_result"
    }
   ],
   "source": [
    "range(5, stop=20)"
   ]
  },
  {
   "cell_type": "code",
   "execution_count": 18,
   "id": "64f095a5",
   "metadata": {},
   "outputs": [
    {
     "data": {
      "text/plain": [
       "2:11"
      ]
     },
     "execution_count": 18,
     "metadata": {},
     "output_type": "execute_result"
    }
   ],
   "source": [
    "range(2, length=10)"
   ]
  },
  {
   "cell_type": "code",
   "execution_count": 19,
   "id": "9e7c2d84",
   "metadata": {},
   "outputs": [
    {
     "data": {
      "text/plain": [
       "5:20"
      ]
     },
     "execution_count": 19,
     "metadata": {},
     "output_type": "execute_result"
    }
   ],
   "source": [
    "range(5, stop=20)"
   ]
  },
  {
   "cell_type": "code",
   "execution_count": 20,
   "id": "00604290",
   "metadata": {},
   "outputs": [
    {
     "data": {
      "text/plain": [
       "4:4:40"
      ]
     },
     "execution_count": 20,
     "metadata": {},
     "output_type": "execute_result"
    }
   ],
   "source": [
    "range(4, step=4, length=10)"
   ]
  },
  {
   "cell_type": "code",
   "execution_count": 21,
   "id": "e4667a2e",
   "metadata": {},
   "outputs": [
    {
     "data": {
      "text/plain": [
       "-3.0:0.06:3.0"
      ]
     },
     "execution_count": 21,
     "metadata": {},
     "output_type": "execute_result"
    }
   ],
   "source": [
    "range(-3, 3, length=101)"
   ]
  },
  {
   "cell_type": "code",
   "execution_count": 22,
   "id": "ea67725f",
   "metadata": {},
   "outputs": [
    {
     "data": {
      "text/plain": [
       "1:3:28"
      ]
     },
     "execution_count": 22,
     "metadata": {},
     "output_type": "execute_result"
    }
   ],
   "source": [
    "range(1, 30, step=3)"
   ]
  },
  {
   "cell_type": "code",
   "execution_count": 23,
   "id": "f9b2529d",
   "metadata": {},
   "outputs": [
    {
     "data": {
      "text/plain": [
       "11:20"
      ]
     },
     "execution_count": 23,
     "metadata": {},
     "output_type": "execute_result"
    }
   ],
   "source": [
    "range(stop=20, length=10)"
   ]
  },
  {
   "cell_type": "code",
   "execution_count": null,
   "id": "4c647ebe",
   "metadata": {},
   "outputs": [],
   "source": []
  }
 ],
 "metadata": {
  "kernelspec": {
   "display_name": "Julia 1.8.5",
   "language": "julia",
   "name": "julia-1.8"
  },
  "language_info": {
   "file_extension": ".jl",
   "mimetype": "application/julia",
   "name": "julia",
   "version": "1.8.5"
  }
 },
 "nbformat": 4,
 "nbformat_minor": 5
}
