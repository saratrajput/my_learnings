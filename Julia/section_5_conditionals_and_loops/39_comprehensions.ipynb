{
 "cells": [
  {
   "cell_type": "code",
   "execution_count": 1,
   "id": "b9213c2a",
   "metadata": {},
   "outputs": [
    {
     "data": {
      "text/plain": [
       "6-element Vector{Int64}:\n",
       "  5\n",
       "  8\n",
       " 12\n",
       " 17\n",
       " 24\n",
       " 42"
      ]
     },
     "execution_count": 1,
     "metadata": {},
     "output_type": "execute_result"
    }
   ],
   "source": [
    "arr = [5, 8, 12, 17, 24, 42]"
   ]
  },
  {
   "cell_type": "code",
   "execution_count": 2,
   "id": "33bce42c",
   "metadata": {},
   "outputs": [
    {
     "data": {
      "text/plain": [
       "6-element Vector{Int64}:\n",
       "   25\n",
       "   64\n",
       "  144\n",
       "  289\n",
       "  576\n",
       " 1764"
      ]
     },
     "execution_count": 2,
     "metadata": {},
     "output_type": "execute_result"
    }
   ],
   "source": [
    "[x^2 for x in arr]"
   ]
  },
  {
   "cell_type": "code",
   "execution_count": 3,
   "id": "5c85c563",
   "metadata": {},
   "outputs": [
    {
     "data": {
      "text/plain": [
       "4×3 Matrix{Tuple{Int64, Int64}}:\n",
       " (1, 1)   (1, 4)   (1, 9)\n",
       " (4, 1)   (4, 4)   (4, 9)\n",
       " (9, 1)   (9, 4)   (9, 9)\n",
       " (16, 1)  (16, 4)  (16, 9)"
      ]
     },
     "execution_count": 3,
     "metadata": {},
     "output_type": "execute_result"
    }
   ],
   "source": [
    "[(x^2, y^2) for x∈ 1:4, y ∈ 1:3]"
   ]
  },
  {
   "cell_type": "code",
   "execution_count": 4,
   "id": "68ccedef",
   "metadata": {},
   "outputs": [
    {
     "data": {
      "text/plain": [
       "4-element Vector{Int64}:\n",
       "   64\n",
       "  144\n",
       "  576\n",
       " 1764"
      ]
     },
     "execution_count": 4,
     "metadata": {},
     "output_type": "execute_result"
    }
   ],
   "source": [
    "[x^2 for x in arr if iseven(x)]"
   ]
  },
  {
   "cell_type": "code",
   "execution_count": 5,
   "id": "c0cef5f4",
   "metadata": {},
   "outputs": [
    {
     "data": {
      "text/plain": [
       "15-element Vector{Tuple{Int64, Int64}}:\n",
       " (1, 1)\n",
       " (2, 1)\n",
       " (2, 2)\n",
       " (3, 1)\n",
       " (3, 2)\n",
       " (3, 3)\n",
       " (4, 1)\n",
       " (4, 2)\n",
       " (4, 3)\n",
       " (4, 4)\n",
       " (5, 1)\n",
       " (5, 2)\n",
       " (5, 3)\n",
       " (5, 4)\n",
       " (5, 5)"
      ]
     },
     "execution_count": 5,
     "metadata": {},
     "output_type": "execute_result"
    }
   ],
   "source": [
    "[(i, j) for i=1:5 for j=1:i]"
   ]
  },
  {
   "cell_type": "code",
   "execution_count": 6,
   "id": "0106e46f",
   "metadata": {},
   "outputs": [
    {
     "data": {
      "text/plain": [
       "Base.Generator{UnitRange{Int64}, var\"#13#14\"}(var\"#13#14\"(), 1:1000)"
      ]
     },
     "execution_count": 6,
     "metadata": {},
     "output_type": "execute_result"
    }
   ],
   "source": [
    "(x^2 for x ∈ 1:1000)"
   ]
  },
  {
   "cell_type": "code",
   "execution_count": 7,
   "id": "149bb54f",
   "metadata": {},
   "outputs": [
    {
     "data": {
      "text/plain": [
       "333833500"
      ]
     },
     "execution_count": 7,
     "metadata": {},
     "output_type": "execute_result"
    }
   ],
   "source": [
    "sum(x^2 for x ∈ 1:1000)"
   ]
  },
  {
   "cell_type": "code",
   "execution_count": 9,
   "id": "b2540eb4",
   "metadata": {},
   "outputs": [
    {
     "name": "stdout",
     "output_type": "stream",
     "text": [
      " 38.950688 seconds (2.00 G allocations: 29.802 GiB, 2.18% gc time)\n"
     ]
    }
   ],
   "source": [
    "s = 0\n",
    "@time for i = 1:1_000_000_000 s += i^2 end"
   ]
  },
  {
   "cell_type": "code",
   "execution_count": 10,
   "id": "3b3de854",
   "metadata": {},
   "outputs": [
    {
     "name": "stdout",
     "output_type": "stream",
     "text": [
      "  4.680222 seconds (49.25 k allocations: 7.453 GiB, 0.12% gc time, 0.82% compilation time)\n"
     ]
    },
    {
     "data": {
      "text/plain": [
       "4338615082255021824"
      ]
     },
     "execution_count": 10,
     "metadata": {},
     "output_type": "execute_result"
    }
   ],
   "source": [
    "@time sum([i^2 for i = 1:1_000_000_000])"
   ]
  },
  {
   "cell_type": "code",
   "execution_count": 11,
   "id": "74318ef2",
   "metadata": {},
   "outputs": [
    {
     "name": "stdout",
     "output_type": "stream",
     "text": [
      "  0.036659 seconds (83.62 k allocations: 4.539 MiB, 99.32% compilation time)\n"
     ]
    },
    {
     "data": {
      "text/plain": [
       "4338615082255021824"
      ]
     },
     "execution_count": 11,
     "metadata": {},
     "output_type": "execute_result"
    }
   ],
   "source": [
    "@time sum(i^2 for i ∈ 1:1_000_000_000)"
   ]
  },
  {
   "cell_type": "code",
   "execution_count": null,
   "id": "5678e28d",
   "metadata": {},
   "outputs": [],
   "source": []
  }
 ],
 "metadata": {
  "kernelspec": {
   "display_name": "Julia 1.8.5",
   "language": "julia",
   "name": "julia-1.8"
  },
  "language_info": {
   "file_extension": ".jl",
   "mimetype": "application/julia",
   "name": "julia",
   "version": "1.8.5"
  }
 },
 "nbformat": 4,
 "nbformat_minor": 5
}
