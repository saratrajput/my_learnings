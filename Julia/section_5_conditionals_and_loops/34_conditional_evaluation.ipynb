{
 "cells": [
  {
   "cell_type": "code",
   "execution_count": 1,
   "id": "1b17add5",
   "metadata": {},
   "outputs": [
    {
     "name": "stdout",
     "output_type": "stream",
     "text": [
      "passed\n"
     ]
    }
   ],
   "source": [
    "score = 70\n",
    "\n",
    "if score > 60\n",
    "    println(\"passed\")\n",
    "end"
   ]
  },
  {
   "cell_type": "code",
   "execution_count": 2,
   "id": "935d215f",
   "metadata": {},
   "outputs": [
    {
     "data": {
      "text/plain": [
       "true"
      ]
     },
     "execution_count": 2,
     "metadata": {},
     "output_type": "execute_result"
    }
   ],
   "source": [
    "score > 60"
   ]
  },
  {
   "cell_type": "code",
   "execution_count": 4,
   "id": "962de2ef",
   "metadata": {},
   "outputs": [
    {
     "name": "stdout",
     "output_type": "stream",
     "text": [
      "Congratulations, you passed!\n"
     ]
    }
   ],
   "source": [
    "if score > 60\n",
    "    println(\"Congratulations, you passed!\")\n",
    "else\n",
    "    println(\"I am sorry. You failed.\")\n",
    "end"
   ]
  },
  {
   "cell_type": "code",
   "execution_count": 5,
   "id": "8e5ef416",
   "metadata": {},
   "outputs": [
    {
     "name": "stdout",
     "output_type": "stream",
     "text": [
      "Your grade is B\n"
     ]
    }
   ],
   "source": [
    "if score ≥ 85\n",
    "    println(\"Your grade is A\")\n",
    "else\n",
    "    if score ≥ 70\n",
    "        println(\"Your grade is B\")\n",
    "    else\n",
    "        if score ≥ 60\n",
    "            println(\"Your grade is C\")\n",
    "        else\n",
    "            println(\"Your score is F\")\n",
    "        end\n",
    "    end\n",
    "end"
   ]
  },
  {
   "cell_type": "code",
   "execution_count": 7,
   "id": "afcdecc2",
   "metadata": {},
   "outputs": [
    {
     "name": "stdout",
     "output_type": "stream",
     "text": [
      "Your grade is B\n"
     ]
    }
   ],
   "source": [
    "if score ≥ 85\n",
    "    println(\"Your grade is A\")\n",
    "elseif score ≥ 70\n",
    "    println(\"Your grade is B\")\n",
    "elseif score ≥ 60\n",
    "    println(\"Your grade is C\")\n",
    "else\n",
    "    println(\"Your score is F\")\n",
    "end"
   ]
  },
  {
   "cell_type": "code",
   "execution_count": 8,
   "id": "739304cd",
   "metadata": {},
   "outputs": [
    {
     "ename": "LoadError",
     "evalue": "syntax: incomplete: premature end of input",
     "output_type": "error",
     "traceback": [
      "syntax: incomplete: premature end of input",
      "",
      "Stacktrace:",
      " [1] top-level scope",
      "   @ In[8]:2"
     ]
    }
   ],
   "source": [
    "# if score ≥ 85 && score < 100\n",
    "# if 85 ≤ score < 100"
   ]
  },
  {
   "cell_type": "code",
   "execution_count": 10,
   "id": "7e2a0cd1",
   "metadata": {},
   "outputs": [
    {
     "name": "stdout",
     "output_type": "stream",
     "text": [
      "Enter your score: \n",
      "stdin> 55\n",
      "Your score is F\n"
     ]
    }
   ],
   "source": [
    "println(\"Enter your score: \")\n",
    "score = readline();\n",
    "score = parse(Int64, score)\n",
    "\n",
    "if 85 ≤ score ≤ 100\n",
    "    println(\"Your grade is A\")\n",
    "elseif 70 ≤ score < 85\n",
    "    println(\"Your grade is B\")\n",
    "elseif 60 ≤ score < 70\n",
    "    println(\"Your score is C\")\n",
    "elseif 0 ≤ score < 60\n",
    "    println(\"Your score is F\")\n",
    "else\n",
    "    println(\"You haven't entered a valid score.\")\n",
    "end"
   ]
  },
  {
   "cell_type": "code",
   "execution_count": 11,
   "id": "0f494727",
   "metadata": {},
   "outputs": [
    {
     "data": {
      "text/plain": [
       "\"passed\""
      ]
     },
     "execution_count": 11,
     "metadata": {},
     "output_type": "execute_result"
    }
   ],
   "source": [
    "score = 70\n",
    "score > 50 ? \"passed\" : \"failed\""
   ]
  },
  {
   "cell_type": "code",
   "execution_count": 12,
   "id": "95724431",
   "metadata": {},
   "outputs": [
    {
     "data": {
      "text/plain": [
       "\"Grade: C\""
      ]
     },
     "execution_count": 12,
     "metadata": {},
     "output_type": "execute_result"
    }
   ],
   "source": [
    "score = 55;\n",
    "score > 85 ? \"Grade: A\" : score > 60 ? \"Grade: B\" : \"Grade: C\""
   ]
  },
  {
   "cell_type": "code",
   "execution_count": null,
   "id": "48677168",
   "metadata": {},
   "outputs": [],
   "source": []
  }
 ],
 "metadata": {
  "kernelspec": {
   "display_name": "Julia 1.8.5",
   "language": "julia",
   "name": "julia-1.8"
  },
  "language_info": {
   "file_extension": ".jl",
   "mimetype": "application/julia",
   "name": "julia",
   "version": "1.8.5"
  }
 },
 "nbformat": 4,
 "nbformat_minor": 5
}
