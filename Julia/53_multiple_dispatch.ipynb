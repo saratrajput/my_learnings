{
 "cells": [
  {
   "cell_type": "code",
   "execution_count": 2,
   "metadata": {},
   "outputs": [
    {
     "data": {
      "text/plain": [
       "* (generic function with 318 methods)"
      ]
     },
     "execution_count": 2,
     "metadata": {},
     "output_type": "execute_result"
    }
   ],
   "source": [
    "*"
   ]
  },
  {
   "cell_type": "code",
   "execution_count": 3,
   "metadata": {},
   "outputs": [
    {
     "data": {
      "text/html": [
       "# 318 methods for generic function <b>*</b>:<ul><li> *(x::<b>T</b>, y::<b>T</b>)<i> where T<:Union{Int128, UInt128}</i> in Base at <a href=\"https://github.com/JuliaLang/julia/tree/17cfb8e65ead377bf1b4598d8a9869144142c84e/base/int.jl#L976\" target=\"_blank\">int.jl:976</a></li> <li> *(x::<b>T</b>, y::<b>T</b>)<i> where T<:Union{Int128, Int16, Int32, Int64, Int8, UInt128, UInt16, UInt32, UInt64, UInt8}</i> in Base at <a href=\"https://github.com/JuliaLang/julia/tree/17cfb8e65ead377bf1b4598d8a9869144142c84e/base/int.jl#L88\" target=\"_blank\">int.jl:88</a></li> <li> *(x::<b>T</b>, y::<b>T</b>)<i> where T<:Union{Float16, Float32, Float64}</i> in Base at <a href=\"https://github.com/JuliaLang/julia/tree/17cfb8e65ead377bf1b4598d8a9869144142c84e/base/float.jl#L385\" target=\"_blank\">float.jl:385</a></li> <li> *(s1::<b>Union{AbstractChar, AbstractString}</b>, ss::<b>Union{AbstractChar, AbstractString}...</b>) in Base at <a href=\"https://github.com/JuliaLang/julia/tree/17cfb8e65ead377bf1b4598d8a9869144142c84e/base/strings/basic.jl#L260\" target=\"_blank\">strings/basic.jl:260</a></li> <li> *(d::<b>Union{AbstractChar, AbstractString}</b>, x::<b>Missing</b>) in Base at <a href=\"https://github.com/JuliaLang/julia/tree/17cfb8e65ead377bf1b4598d8a9869144142c84e/base/missing.jl#L183\" target=\"_blank\">missing.jl:183</a></li> <li> *(c::<b>Union{UInt16, UInt32, UInt64, UInt8}</b>, x::<b>BigInt</b>) in Base.GMP at <a href=\"https://github.com/JuliaLang/julia/tree/17cfb8e65ead377bf1b4598d8a9869144142c84e/base/gmp.jl#L542\" target=\"_blank\">gmp.jl:542</a></li> <li> *(c::<b>Union{Int16, Int32, Int64, Int8}</b>, x::<b>BigInt</b>) in Base.GMP at <a href=\"https://github.com/JuliaLang/julia/tree/17cfb8e65ead377bf1b4598d8a9869144142c84e/base/gmp.jl#L544\" target=\"_blank\">gmp.jl:544</a></li> <li> *(c::<b>Union{UInt16, UInt32, UInt64, UInt8}</b>, x::<b>BigFloat</b>) in Base.MPFR at <a href=\"https://github.com/JuliaLang/julia/tree/17cfb8e65ead377bf1b4598d8a9869144142c84e/base/mpfr.jl#L398\" target=\"_blank\">mpfr.jl:398</a></li> <li> *(c::<b>Union{Int16, Int32, Int64, Int8}</b>, x::<b>BigFloat</b>) in Base.MPFR at <a href=\"https://github.com/JuliaLang/julia/tree/17cfb8e65ead377bf1b4598d8a9869144142c84e/base/mpfr.jl#L406\" target=\"_blank\">mpfr.jl:406</a></li> <li> *(c::<b>Union{Float16, Float32, Float64}</b>, x::<b>BigFloat</b>) in Base.MPFR at <a href=\"https://github.com/JuliaLang/julia/tree/17cfb8e65ead377bf1b4598d8a9869144142c84e/base/mpfr.jl#L414\" target=\"_blank\">mpfr.jl:414</a></li> <li> *(A::<b>StridedMatrix{T}</b>, x::<b>StridedVector{S}</b>)<i> where {T<:Union{Float32, Float64, ComplexF32, ComplexF64}, S<:Real}</i> in LinearAlgebra at <a href=\"file:///cache/build/default-amdci4-2/julialang/julia-release-1-dot-8/usr/share/julia/stdlib/v1.8/LinearAlgebra/src/matmul.jl\" target=\"_blank\">/julia/julia-1.8.5/share/julia/stdlib/v1.8/LinearAlgebra/src/matmul.jl:49</a></li> <li> *(A::<b>Union{LinearAlgebra.Adjoint{var\"#s886\", <:StridedMatrix{T} where T}, LinearAlgebra.Transpose{var\"#s886\", <:StridedMatrix{T} where T}, StridedMatrix{var\"#s886\"}} where var\"#s886\"<:Union{Float32, Float64}</b>, B::<b>Union{LinearAlgebra.Adjoint{var\"#s885\", <:StridedMatrix{T} where T}, LinearAlgebra.Transpose{var\"#s885\", <:StridedMatrix{T} where T}, StridedMatrix{var\"#s885\"}} where var\"#s885\"<:Union{Float32, Float64}</b>) in LinearAlgebra at <a href=\"file:///cache/build/default-amdci4-2/julialang/julia-release-1-dot-8/usr/share/julia/stdlib/v1.8/LinearAlgebra/src/matmul.jl\" target=\"_blank\">/julia/julia-1.8.5/share/julia/stdlib/v1.8/LinearAlgebra/src/matmul.jl:146</a></li> <li> *(A::<b>Union{LinearAlgebra.Adjoint{var\"#s886\", <:StridedMatrix{T} where T}, LinearAlgebra.Transpose{var\"#s886\", <:StridedMatrix{T} where T}, StridedMatrix{var\"#s886\"}} where var\"#s886\"<:Union{ComplexF32, ComplexF64}</b>, B::<b>Union{LinearAlgebra.Adjoint{var\"#s885\", <:StridedMatrix{T} where T}, LinearAlgebra.Transpose{var\"#s885\", <:StridedMatrix{T} where T}, StridedMatrix{var\"#s885\"}} where var\"#s885\"<:Union{ComplexF32, ComplexF64}</b>) in LinearAlgebra at <a href=\"file:///cache/build/default-amdci4-2/julialang/julia-release-1-dot-8/usr/share/julia/stdlib/v1.8/LinearAlgebra/src/matmul.jl\" target=\"_blank\">/julia/julia-1.8.5/share/julia/stdlib/v1.8/LinearAlgebra/src/matmul.jl:152</a></li> <li> *(A::<b>StridedMatrix{var\"#s886\"} where var\"#s886\"<:Union{ComplexF32, ComplexF64}</b>, B::<b>Union{LinearAlgebra.Adjoint{var\"#s885\", <:StridedMatrix{T} where T}, LinearAlgebra.Transpose{var\"#s885\", <:StridedMatrix{T} where T}, StridedMatrix{var\"#s885\"}} where var\"#s885\"<:Union{Float32, Float64}</b>) in LinearAlgebra at <a href=\"file:///cache/build/default-amdci4-2/julialang/julia-release-1-dot-8/usr/share/julia/stdlib/v1.8/LinearAlgebra/src/matmul.jl\" target=\"_blank\">/julia/julia-1.8.5/share/julia/stdlib/v1.8/LinearAlgebra/src/matmul.jl:165</a></li> <li> *(A::<b>Union{LinearAlgebra.Adjoint{var\"#s886\", <:StridedMatrix{T} where T}, LinearAlgebra.Transpose{var\"#s886\", <:StridedMatrix{T} where T}} where var\"#s886\"<:Union{ComplexF32, ComplexF64}</b>, B::<b>Union{LinearAlgebra.Adjoint{var\"#s885\", <:StridedMatrix{T} where T}, LinearAlgebra.Transpose{var\"#s885\", <:StridedMatrix{T} where T}, StridedMatrix{var\"#s885\"}} where var\"#s885\"<:Union{Float32, Float64}</b>) in LinearAlgebra at <a href=\"file:///cache/build/default-amdci4-2/julialang/julia-release-1-dot-8/usr/share/julia/stdlib/v1.8/LinearAlgebra/src/matmul.jl\" target=\"_blank\">/julia/julia-1.8.5/share/julia/stdlib/v1.8/LinearAlgebra/src/matmul.jl:171</a></li> <li> *(A::<b>StridedMatrix{var\"#s886\"} where var\"#s886\"<:Union{Float32, Float64}</b>, B::<b>StridedMatrix{var\"#s885\"} where var\"#s885\"<:Union{ComplexF32, ComplexF64}</b>) in LinearAlgebra at <a href=\"file:///cache/build/default-amdci4-2/julialang/julia-release-1-dot-8/usr/share/julia/stdlib/v1.8/LinearAlgebra/src/matmul.jl\" target=\"_blank\">/julia/julia-1.8.5/share/julia/stdlib/v1.8/LinearAlgebra/src/matmul.jl:178</a></li> <li> *(A::<b>Union{LinearAlgebra.Adjoint{var\"#s886\", <:StridedMatrix{T} where T}, LinearAlgebra.Transpose{var\"#s886\", <:StridedMatrix{T} where T}} where var\"#s886\"<:Union{Float32, Float64}</b>, B::<b>StridedMatrix{var\"#s885\"} where var\"#s885\"<:Union{ComplexF32, ComplexF64}</b>) in LinearAlgebra at <a href=\"file:///cache/build/default-amdci4-2/julialang/julia-release-1-dot-8/usr/share/julia/stdlib/v1.8/LinearAlgebra/src/matmul.jl\" target=\"_blank\">/julia/julia-1.8.5/share/julia/stdlib/v1.8/LinearAlgebra/src/matmul.jl:185</a></li> <li> *(A::<b>Union{LinearAlgebra.Adjoint{var\"#s886\", <:StridedMatrix{T} where T}, LinearAlgebra.Transpose{var\"#s886\", <:StridedMatrix{T} where T}, StridedMatrix{var\"#s886\"}} where var\"#s886\"<:Union{Float32, Float64}</b>, B::<b>Union{LinearAlgebra.Adjoint{var\"#s885\", <:StridedMatrix{T} where T}, LinearAlgebra.Transpose{var\"#s885\", <:StridedMatrix{T} where T}} where var\"#s885\"<:Union{ComplexF32, ComplexF64}</b>) in LinearAlgebra at <a href=\"file:///cache/build/default-amdci4-2/julialang/julia-release-1-dot-8/usr/share/julia/stdlib/v1.8/LinearAlgebra/src/matmul.jl\" target=\"_blank\">/julia/julia-1.8.5/share/julia/stdlib/v1.8/LinearAlgebra/src/matmul.jl:186</a></li> <li> *(α::<b>Union{Real, Complex}</b>, vt::<b>Union{LinearAlgebra.Adjoint{var\"#s886\", var\"#s8861\"}, LinearAlgebra.Transpose{var\"#s886\", var\"#s8861\"}} where {var\"#s886\"<:Union{Real, Complex}, var\"#s8861\"<:(AbstractVector)}</b>, C::<b>AbstractMatrix{<:Union{Real, Complex}}</b>, D::<b>AbstractMatrix{<:Union{Real, Complex}}</b>) in LinearAlgebra at <a href=\"file:///cache/build/default-amdci4-2/julialang/julia-release-1-dot-8/usr/share/julia/stdlib/v1.8/LinearAlgebra/src/matmul.jl\" target=\"_blank\">/julia/julia-1.8.5/share/julia/stdlib/v1.8/LinearAlgebra/src/matmul.jl:1218</a></li> <li> *(A::<b>StridedMatrix{T} where T</b>, Q::<b>LinearAlgebra.AbstractQ</b>) in LinearAlgebra at <a href=\"file:///cache/build/default-amdci4-2/julialang/julia-release-1-dot-8/usr/share/julia/stdlib/v1.8/LinearAlgebra/src/qr.jl\" target=\"_blank\">/julia/julia-1.8.5/share/julia/stdlib/v1.8/LinearAlgebra/src/qr.jl:774</a></li> <li> *(A::<b>StridedMatrix{T} where T</b>, adjB::<b>LinearAlgebra.Adjoint{<:Any, <:LinearAlgebra.AbstractQ}</b>) in LinearAlgebra at <a href=\"file:///cache/build/default-amdci4-2/julialang/julia-release-1-dot-8/usr/share/julia/stdlib/v1.8/LinearAlgebra/src/qr.jl\" target=\"_blank\">/julia/julia-1.8.5/share/julia/stdlib/v1.8/LinearAlgebra/src/qr.jl:821</a></li> <li> *(A::<b>StridedVecOrMat</b>, adjQ::<b>LinearAlgebra.Adjoint{<:Any, <:LinearAlgebra.LQPackedQ}</b>) in LinearAlgebra at <a href=\"file:///cache/build/default-amdci4-2/julialang/julia-release-1-dot-8/usr/share/julia/stdlib/v1.8/LinearAlgebra/src/lq.jl\" target=\"_blank\">/julia/julia-1.8.5/share/julia/stdlib/v1.8/LinearAlgebra/src/lq.jl:269</a></li> <li> *(A::<b>StridedVecOrMat</b>, Q::<b>LinearAlgebra.LQPackedQ</b>) in LinearAlgebra at <a href=\"file:///cache/build/default-amdci4-2/julialang/julia-release-1-dot-8/usr/share/julia/stdlib/v1.8/LinearAlgebra/src/lq.jl\" target=\"_blank\">/julia/julia-1.8.5/share/julia/stdlib/v1.8/LinearAlgebra/src/lq.jl:293</a></li> <li> *(A::<b>Union{LinearAlgebra.Hermitian{T, S}, LinearAlgebra.Symmetric{T, S}} where {T, S}</b>, B::<b>Union{LinearAlgebra.Hermitian{T, S}, LinearAlgebra.Symmetric{T, S}} where {T, S}</b>) in LinearAlgebra at <a href=\"file:///cache/build/default-amdci4-2/julialang/julia-release-1-dot-8/usr/share/julia/stdlib/v1.8/LinearAlgebra/src/symmetric.jl\" target=\"_blank\">/julia/julia-1.8.5/share/julia/stdlib/v1.8/LinearAlgebra/src/symmetric.jl:576</a></li> <li> *(A::<b>Union{LinearAlgebra.UnitUpperTriangular{T, S} where S<:AbstractMatrix{T}, LinearAlgebra.UpperTriangular{T, S} where S<:AbstractMatrix{T}} where T</b>, B::<b>LinearAlgebra.Bidiagonal</b>) in LinearAlgebra at <a href=\"file:///cache/build/default-amdci4-2/julialang/julia-release-1-dot-8/usr/share/julia/stdlib/v1.8/LinearAlgebra/src/bidiag.jl\" target=\"_blank\">/julia/julia-1.8.5/share/julia/stdlib/v1.8/LinearAlgebra/src/bidiag.jl:647</a></li> <li> *(A::<b>Union{LinearAlgebra.LowerTriangular{T, S} where S<:AbstractMatrix{T}, LinearAlgebra.UnitLowerTriangular{T, S} where S<:AbstractMatrix{T}} where T</b>, B::<b>LinearAlgebra.Bidiagonal</b>) in LinearAlgebra at <a href=\"file:///cache/build/default-amdci4-2/julialang/julia-release-1-dot-8/usr/share/julia/stdlib/v1.8/LinearAlgebra/src/bidiag.jl\" target=\"_blank\">/julia/julia-1.8.5/share/julia/stdlib/v1.8/LinearAlgebra/src/bidiag.jl:653</a></li> <li> *(A::<b>Union{LinearAlgebra.SymTridiagonal, LinearAlgebra.Tridiagonal}</b>, B::<b>LinearAlgebra.AbstractTriangular</b>) in LinearAlgebra at <a href=\"file:///cache/build/default-amdci4-2/julialang/julia-release-1-dot-8/usr/share/julia/stdlib/v1.8/LinearAlgebra/src/bidiag.jl\" target=\"_blank\">/julia/julia-1.8.5/share/julia/stdlib/v1.8/LinearAlgebra/src/bidiag.jl:659</a></li> <li> *(A::<b>Union{LinearAlgebra.Bidiagonal, LinearAlgebra.Tridiagonal}</b>, B::<b>LinearAlgebra.Diagonal</b>) in LinearAlgebra at <a href=\"file:///cache/build/default-amdci4-2/julialang/julia-release-1-dot-8/usr/share/julia/stdlib/v1.8/LinearAlgebra/src/bidiag.jl\" target=\"_blank\">/julia/julia-1.8.5/share/julia/stdlib/v1.8/LinearAlgebra/src/bidiag.jl:676</a></li> <li> *(A::<b>Union{LinearAlgebra.Bidiagonal, LinearAlgebra.SymTridiagonal, LinearAlgebra.Tridiagonal}</b>, B::<b>Union{LinearAlgebra.Bidiagonal, LinearAlgebra.SymTridiagonal, LinearAlgebra.Tridiagonal}</b>) in LinearAlgebra at <a href=\"file:///cache/build/default-amdci4-2/julialang/julia-release-1-dot-8/usr/share/julia/stdlib/v1.8/LinearAlgebra/src/bidiag.jl\" target=\"_blank\">/julia/julia-1.8.5/share/julia/stdlib/v1.8/LinearAlgebra/src/bidiag.jl:696</a></li> <li> *(U::<b>Union{LinearAlgebra.UnitUpperTriangular{T, S} where S<:AbstractMatrix{T}, LinearAlgebra.UpperTriangular{T, S} where S<:AbstractMatrix{T}} where T</b>, H::<b>LinearAlgebra.UpperHessenberg</b>) in LinearAlgebra at <a href=\"file:///cache/build/default-amdci4-2/julialang/julia-release-1-dot-8/usr/share/julia/stdlib/v1.8/LinearAlgebra/src/hessenberg.jl\" target=\"_blank\">/julia/julia-1.8.5/share/julia/stdlib/v1.8/LinearAlgebra/src/hessenberg.jl:129</a></li> <li> *(A::<b>Union{LinearAlgebra.Bidiagonal, LinearAlgebra.SymTridiagonal, LinearAlgebra.Tridiagonal}</b>, Q::<b>LinearAlgebra.AbstractQ</b>) in LinearAlgebra at <a href=\"file:///cache/build/default-amdci4-2/julialang/julia-release-1-dot-8/usr/share/julia/stdlib/v1.8/LinearAlgebra/src/special.jl\" target=\"_blank\">/julia/julia-1.8.5/share/julia/stdlib/v1.8/LinearAlgebra/src/special.jl:345</a></li> <li> *(A::<b>Union{LinearAlgebra.Bidiagonal, LinearAlgebra.SymTridiagonal, LinearAlgebra.Tridiagonal}</b>, Q::<b>LinearAlgebra.Adjoint{<:Any, <:LinearAlgebra.AbstractQ}</b>) in LinearAlgebra at <a href=\"file:///cache/build/default-amdci4-2/julialang/julia-release-1-dot-8/usr/share/julia/stdlib/v1.8/LinearAlgebra/src/special.jl\" target=\"_blank\">/julia/julia-1.8.5/share/julia/stdlib/v1.8/LinearAlgebra/src/special.jl:346</a></li> <li> *(X::<b>StridedArray{P}</b>, y::<b>Real</b>)<i> where P<:Dates.Period</i> in Dates at <a href=\"file:///cache/build/default-amdci4-2/julialang/julia-release-1-dot-8/usr/share/julia/stdlib/v1.8/Dates/src/deprecated.jl\" target=\"_blank\">/julia/julia-1.8.5/share/julia/stdlib/v1.8/Dates/src/deprecated.jl:44</a></li> <li> *(x::<b>Union{SparseArrays.SparseVector{Tv, Ti}, SubArray{Tv, 1, <:SparseArrays.AbstractSparseMatrixCSC{Tv, Ti}, Tuple{Base.Slice{Base.OneTo{Int64}}, Int64}, false}, SubArray{Tv, 1, <:SparseArrays.AbstractSparseVector{Tv, Ti}, Tuple{Base.Slice{Base.OneTo{Int64}}}, false}} where {Tv, Ti}</b>, a::<b>Number</b>) in SparseArrays at <a href=\"file:///cache/build/default-amdci4-2/julialang/julia-release-1-dot-8/usr/share/julia/stdlib/v1.8/SparseArrays/src/sparsevector.jl\" target=\"_blank\">/julia/julia-1.8.5/share/julia/stdlib/v1.8/SparseArrays/src/sparsevector.jl:1519</a></li> <li> *(A::<b>Union{SparseArrays.AbstractSparseMatrixCSC{TA, Ti}, SubArray{TA, 2, <:SparseArrays.AbstractSparseMatrixCSC{TA, Ti}, Tuple{Base.Slice{Base.OneTo{Int64}}, I}} where I<:AbstractUnitRange} where Ti</b>, x::<b>Union{StridedVector, BitVector}</b>)<i> where TA</i> in SparseArrays at <a href=\"file:///cache/build/default-amdci4-2/julialang/julia-release-1-dot-8/usr/share/julia/stdlib/v1.8/SparseArrays/src/linalg.jl\" target=\"_blank\">/julia/julia-1.8.5/share/julia/stdlib/v1.8/SparseArrays/src/linalg.jl:50</a></li> <li> *(A::<b>Union{SparseArrays.AbstractSparseMatrixCSC{Tv, Ti}, SubArray{Tv, 2, <:SparseArrays.AbstractSparseMatrixCSC{Tv, Ti}, Tuple{Base.Slice{Base.OneTo{Int64}}, I}} where I<:AbstractUnitRange, LinearAlgebra.LowerTriangular{Tv, <:Union{SparseArrays.AbstractSparseMatrixCSC{Tv, Ti}, SubArray{Tv, 2, <:SparseArrays.AbstractSparseMatrixCSC{Tv, Ti}, Tuple{Base.Slice{Base.OneTo{Int64}}, I}} where I<:AbstractUnitRange}}, LinearAlgebra.UpperTriangular{Tv, <:Union{SparseArrays.AbstractSparseMatrixCSC{Tv, Ti}, SubArray{Tv, 2, <:SparseArrays.AbstractSparseMatrixCSC{Tv, Ti}, Tuple{Base.Slice{Base.OneTo{Int64}}, I}} where I<:AbstractUnitRange}}} where {Tv, Ti}</b>, B::<b>SubArray{Tv, 1, <:SparseArrays.AbstractSparseMatrixCSC{Tv, Ti}, Tuple{Base.Slice{Base.OneTo{Int64}}, Int64}, false} where {Tv, Ti}</b>) in SparseArrays at <a href=\"file:///cache/build/default-amdci4-2/julialang/julia-release-1-dot-8/usr/share/julia/stdlib/v1.8/SparseArrays/src/linalg.jl\" target=\"_blank\">/julia/julia-1.8.5/share/julia/stdlib/v1.8/SparseArrays/src/linalg.jl:151</a></li> <li> *(A::<b>Union{SparseArrays.AbstractSparseMatrixCSC{Tv, Ti}, SubArray{Tv, 2, <:SparseArrays.AbstractSparseMatrixCSC{Tv, Ti}, Tuple{Base.Slice{Base.OneTo{Int64}}, I}} where I<:AbstractUnitRange, LinearAlgebra.LowerTriangular{Tv, <:Union{SparseArrays.AbstractSparseMatrixCSC{Tv, Ti}, SubArray{Tv, 2, <:SparseArrays.AbstractSparseMatrixCSC{Tv, Ti}, Tuple{Base.Slice{Base.OneTo{Int64}}, I}} where I<:AbstractUnitRange}}, LinearAlgebra.UpperTriangular{Tv, <:Union{SparseArrays.AbstractSparseMatrixCSC{Tv, Ti}, SubArray{Tv, 2, <:SparseArrays.AbstractSparseMatrixCSC{Tv, Ti}, Tuple{Base.Slice{Base.OneTo{Int64}}, I}} where I<:AbstractUnitRange}}} where {Tv, Ti}</b>, B::<b>SubArray{Tv, 1, <:SparseArrays.AbstractSparseVector{Tv, Ti}, Tuple{Base.Slice{Base.OneTo{Int64}}}, false} where {Tv, Ti}</b>) in SparseArrays at <a href=\"file:///cache/build/default-amdci4-2/julialang/julia-release-1-dot-8/usr/share/julia/stdlib/v1.8/SparseArrays/src/linalg.jl\" target=\"_blank\">/julia/julia-1.8.5/share/julia/stdlib/v1.8/SparseArrays/src/linalg.jl:152</a></li> <li> *(A::<b>Union{SparseArrays.AbstractSparseMatrixCSC{Tv, Ti}, SubArray{Tv, 2, <:SparseArrays.AbstractSparseMatrixCSC{Tv, Ti}, Tuple{Base.Slice{Base.OneTo{Int64}}, I}} where I<:AbstractUnitRange} where {Tv, Ti}</b>, B::<b>Union{SparseArrays.AbstractSparseMatrixCSC{Tv, Ti}, SubArray{Tv, 2, <:SparseArrays.AbstractSparseMatrixCSC{Tv, Ti}, Tuple{Base.Slice{Base.OneTo{Int64}}, I}} where I<:AbstractUnitRange} where {Tv, Ti}</b>) in SparseArrays at <a href=\"file:///cache/build/default-amdci4-2/julialang/julia-release-1-dot-8/usr/share/julia/stdlib/v1.8/SparseArrays/src/linalg.jl\" target=\"_blank\">/julia/julia-1.8.5/share/julia/stdlib/v1.8/SparseArrays/src/linalg.jl:153</a></li> <li> *(A::<b>Union{LinearAlgebra.LowerTriangular{Tv, <:Union{SparseArrays.AbstractSparseMatrixCSC{Tv, Ti}, SubArray{Tv, 2, <:SparseArrays.AbstractSparseMatrixCSC{Tv, Ti}, Tuple{Base.Slice{Base.OneTo{Int64}}, I}} where I<:AbstractUnitRange}}, LinearAlgebra.UpperTriangular{Tv, <:Union{SparseArrays.AbstractSparseMatrixCSC{Tv, Ti}, SubArray{Tv, 2, <:SparseArrays.AbstractSparseMatrixCSC{Tv, Ti}, Tuple{Base.Slice{Base.OneTo{Int64}}, I}} where I<:AbstractUnitRange}}} where {Tv, Ti}</b>, B::<b>Union{SparseArrays.AbstractSparseMatrixCSC{Tv, Ti}, SubArray{Tv, 2, <:SparseArrays.AbstractSparseMatrixCSC{Tv, Ti}, Tuple{Base.Slice{Base.OneTo{Int64}}, I}} where I<:AbstractUnitRange} where {Tv, Ti}</b>) in SparseArrays at <a href=\"file:///cache/build/default-amdci4-2/julialang/julia-release-1-dot-8/usr/share/julia/stdlib/v1.8/SparseArrays/src/linalg.jl\" target=\"_blank\">/julia/julia-1.8.5/share/julia/stdlib/v1.8/SparseArrays/src/linalg.jl:154</a></li> <li> *(X::<b>Union{LinearAlgebra.Adjoint{<:Any, <:Union{LinearAlgebra.LowerTriangular, LinearAlgebra.UnitLowerTriangular, LinearAlgebra.UnitUpperTriangular, LinearAlgebra.UpperTriangular, StridedMatrix, BitMatrix}}, LinearAlgebra.LowerTriangular, LinearAlgebra.Transpose{<:Any, <:Union{LinearAlgebra.LowerTriangular, LinearAlgebra.UnitLowerTriangular, LinearAlgebra.UnitUpperTriangular, LinearAlgebra.UpperTriangular, StridedMatrix, BitMatrix}}, LinearAlgebra.UnitLowerTriangular, LinearAlgebra.UnitUpperTriangular, LinearAlgebra.UpperTriangular, StridedMatrix, BitMatrix}</b>, A::<b>Union{SparseArrays.AbstractSparseMatrixCSC{TvA, Ti}, SubArray{TvA, 2, <:SparseArrays.AbstractSparseMatrixCSC{TvA, Ti}, Tuple{Base.Slice{Base.OneTo{Int64}}, I}} where I<:AbstractUnitRange} where Ti</b>)<i> where TvA</i> in SparseArrays at <a href=\"file:///cache/build/default-amdci4-2/julialang/julia-release-1-dot-8/usr/share/julia/stdlib/v1.8/SparseArrays/src/linalg.jl\" target=\"_blank\">/julia/julia-1.8.5/share/julia/stdlib/v1.8/SparseArrays/src/linalg.jl:114</a></li> <li> *(A::<b>Union{SparseArrays.AbstractSparseMatrixCSC{Tv, Ti}, SubArray{Tv, 2, <:SparseArrays.AbstractSparseMatrixCSC{Tv, Ti}, Tuple{Base.Slice{Base.OneTo{Int64}}, I}} where I<:AbstractUnitRange} where {Tv, Ti}</b>, B::<b>Union{LinearAlgebra.LowerTriangular{Tv, <:Union{SparseArrays.AbstractSparseMatrixCSC{Tv, Ti}, SubArray{Tv, 2, <:SparseArrays.AbstractSparseMatrixCSC{Tv, Ti}, Tuple{Base.Slice{Base.OneTo{Int64}}, I}} where I<:AbstractUnitRange}}, LinearAlgebra.UpperTriangular{Tv, <:Union{SparseArrays.AbstractSparseMatrixCSC{Tv, Ti}, SubArray{Tv, 2, <:SparseArrays.AbstractSparseMatrixCSC{Tv, Ti}, Tuple{Base.Slice{Base.OneTo{Int64}}, I}} where I<:AbstractUnitRange}}} where {Tv, Ti}</b>) in SparseArrays at <a href=\"file:///cache/build/default-amdci4-2/julialang/julia-release-1-dot-8/usr/share/julia/stdlib/v1.8/SparseArrays/src/linalg.jl\" target=\"_blank\">/julia/julia-1.8.5/share/julia/stdlib/v1.8/SparseArrays/src/linalg.jl:155</a></li> <li> *(A::<b>Union{SparseArrays.AbstractSparseMatrixCSC{TA, Ti}, SubArray{TA, 2, <:SparseArrays.AbstractSparseMatrixCSC{TA, Ti}, Tuple{Base.Slice{Base.OneTo{Int64}}, I}} where I<:AbstractUnitRange} where Ti</b>, B::<b>Union{LinearAlgebra.Adjoint{<:Any, <:Union{LinearAlgebra.LowerTriangular, LinearAlgebra.UnitLowerTriangular, LinearAlgebra.UnitUpperTriangular, LinearAlgebra.UpperTriangular, StridedMatrix, BitMatrix}}, LinearAlgebra.LowerTriangular, LinearAlgebra.Transpose{<:Any, <:Union{LinearAlgebra.LowerTriangular, LinearAlgebra.UnitLowerTriangular, LinearAlgebra.UnitUpperTriangular, LinearAlgebra.UpperTriangular, StridedMatrix, BitMatrix}}, LinearAlgebra.UnitLowerTriangular, LinearAlgebra.UnitUpperTriangular, LinearAlgebra.UpperTriangular, StridedMatrix, BitMatrix}</b>)<i> where TA</i> in SparseArrays at <a href=\"file:///cache/build/default-amdci4-2/julialang/julia-release-1-dot-8/usr/share/julia/stdlib/v1.8/SparseArrays/src/linalg.jl\" target=\"_blank\">/julia/julia-1.8.5/share/julia/stdlib/v1.8/SparseArrays/src/linalg.jl:52</a></li> <li> *(A::<b>Union{LinearAlgebra.LowerTriangular{Tv, <:Union{SparseArrays.AbstractSparseMatrixCSC{Tv, Ti}, SubArray{Tv, 2, <:SparseArrays.AbstractSparseMatrixCSC{Tv, Ti}, Tuple{Base.Slice{Base.OneTo{Int64}}, I}} where I<:AbstractUnitRange}}, LinearAlgebra.UpperTriangular{Tv, <:Union{SparseArrays.AbstractSparseMatrixCSC{Tv, Ti}, SubArray{Tv, 2, <:SparseArrays.AbstractSparseMatrixCSC{Tv, Ti}, Tuple{Base.Slice{Base.OneTo{Int64}}, I}} where I<:AbstractUnitRange}}} where {Tv, Ti}</b>, B::<b>Union{LinearAlgebra.LowerTriangular{Tv, <:Union{SparseArrays.AbstractSparseMatrixCSC{Tv, Ti}, SubArray{Tv, 2, <:SparseArrays.AbstractSparseMatrixCSC{Tv, Ti}, Tuple{Base.Slice{Base.OneTo{Int64}}, I}} where I<:AbstractUnitRange}}, LinearAlgebra.UpperTriangular{Tv, <:Union{SparseArrays.AbstractSparseMatrixCSC{Tv, Ti}, SubArray{Tv, 2, <:SparseArrays.AbstractSparseMatrixCSC{Tv, Ti}, Tuple{Base.Slice{Base.OneTo{Int64}}, I}} where I<:AbstractUnitRange}}} where {Tv, Ti}</b>) in SparseArrays at <a href=\"file:///cache/build/default-amdci4-2/julialang/julia-release-1-dot-8/usr/share/julia/stdlib/v1.8/SparseArrays/src/linalg.jl\" target=\"_blank\">/julia/julia-1.8.5/share/julia/stdlib/v1.8/SparseArrays/src/linalg.jl:156</a></li> <li> *(A::<b>Union{SparseArrays.AbstractSparseMatrixCSC{Tv, Ti}, SubArray{Tv, 2, <:SparseArrays.AbstractSparseMatrixCSC{Tv, Ti}, Tuple{Base.Slice{Base.OneTo{Int64}}, I}} where I<:AbstractUnitRange, LinearAlgebra.LowerTriangular{Tv, <:Union{SparseArrays.AbstractSparseMatrixCSC{Tv, Ti}, SubArray{Tv, 2, <:SparseArrays.AbstractSparseMatrixCSC{Tv, Ti}, Tuple{Base.Slice{Base.OneTo{Int64}}, I}} where I<:AbstractUnitRange}}, LinearAlgebra.UpperTriangular{Tv, <:Union{SparseArrays.AbstractSparseMatrixCSC{Tv, Ti}, SubArray{Tv, 2, <:SparseArrays.AbstractSparseMatrixCSC{Tv, Ti}, Tuple{Base.Slice{Base.OneTo{Int64}}, I}} where I<:AbstractUnitRange}}} where {Tv, Ti}</b>, B::<b>LinearAlgebra.Adjoint{<:Any, <:SparseArrays.AbstractSparseMatrixCSC}</b>) in SparseArrays at <a href=\"file:///cache/build/default-amdci4-2/julialang/julia-release-1-dot-8/usr/share/julia/stdlib/v1.8/SparseArrays/src/linalg.jl\" target=\"_blank\">/julia/julia-1.8.5/share/julia/stdlib/v1.8/SparseArrays/src/linalg.jl:157</a></li> <li> *(X::<b>Union{LinearAlgebra.Adjoint{<:Any, <:Union{LinearAlgebra.LowerTriangular, LinearAlgebra.UnitLowerTriangular, LinearAlgebra.UnitUpperTriangular, LinearAlgebra.UpperTriangular, StridedMatrix, BitMatrix}}, LinearAlgebra.LowerTriangular, LinearAlgebra.Transpose{<:Any, <:Union{LinearAlgebra.LowerTriangular, LinearAlgebra.UnitLowerTriangular, LinearAlgebra.UnitUpperTriangular, LinearAlgebra.UpperTriangular, StridedMatrix, BitMatrix}}, LinearAlgebra.UnitLowerTriangular, LinearAlgebra.UnitUpperTriangular, LinearAlgebra.UpperTriangular, StridedMatrix, BitMatrix}</b>, adjA::<b>LinearAlgebra.Adjoint{<:Any, <:SparseArrays.AbstractSparseMatrixCSC}</b>) in SparseArrays at <a href=\"file:///cache/build/default-amdci4-2/julialang/julia-release-1-dot-8/usr/share/julia/stdlib/v1.8/SparseArrays/src/linalg.jl\" target=\"_blank\">/julia/julia-1.8.5/share/julia/stdlib/v1.8/SparseArrays/src/linalg.jl:139</a></li> <li> *(A::<b>Union{SparseArrays.AbstractSparseMatrixCSC{Tv, Ti}, SubArray{Tv, 2, <:SparseArrays.AbstractSparseMatrixCSC{Tv, Ti}, Tuple{Base.Slice{Base.OneTo{Int64}}, I}} where I<:AbstractUnitRange, LinearAlgebra.LowerTriangular{Tv, <:Union{SparseArrays.AbstractSparseMatrixCSC{Tv, Ti}, SubArray{Tv, 2, <:SparseArrays.AbstractSparseMatrixCSC{Tv, Ti}, Tuple{Base.Slice{Base.OneTo{Int64}}, I}} where I<:AbstractUnitRange}}, LinearAlgebra.UpperTriangular{Tv, <:Union{SparseArrays.AbstractSparseMatrixCSC{Tv, Ti}, SubArray{Tv, 2, <:SparseArrays.AbstractSparseMatrixCSC{Tv, Ti}, Tuple{Base.Slice{Base.OneTo{Int64}}, I}} where I<:AbstractUnitRange}}} where {Tv, Ti}</b>, B::<b>LinearAlgebra.Transpose{<:Any, <:SparseArrays.AbstractSparseMatrixCSC}</b>) in SparseArrays at <a href=\"file:///cache/build/default-amdci4-2/julialang/julia-release-1-dot-8/usr/share/julia/stdlib/v1.8/SparseArrays/src/linalg.jl\" target=\"_blank\">/julia/julia-1.8.5/share/julia/stdlib/v1.8/SparseArrays/src/linalg.jl:158</a></li> <li> *(X::<b>Union{LinearAlgebra.Adjoint{<:Any, <:Union{LinearAlgebra.LowerTriangular, LinearAlgebra.UnitLowerTriangular, LinearAlgebra.UnitUpperTriangular, LinearAlgebra.UpperTriangular, StridedMatrix, BitMatrix}}, LinearAlgebra.LowerTriangular, LinearAlgebra.Transpose{<:Any, <:Union{LinearAlgebra.LowerTriangular, LinearAlgebra.UnitLowerTriangular, LinearAlgebra.UnitUpperTriangular, LinearAlgebra.UpperTriangular, StridedMatrix, BitMatrix}}, LinearAlgebra.UnitLowerTriangular, LinearAlgebra.UnitUpperTriangular, LinearAlgebra.UpperTriangular, StridedMatrix, BitMatrix}</b>, tA::<b>LinearAlgebra.Transpose{<:Any, <:SparseArrays.AbstractSparseMatrixCSC}</b>) in SparseArrays at <a href=\"file:///cache/build/default-amdci4-2/julialang/julia-release-1-dot-8/usr/share/julia/stdlib/v1.8/SparseArrays/src/linalg.jl\" target=\"_blank\">/julia/julia-1.8.5/share/julia/stdlib/v1.8/SparseArrays/src/linalg.jl:141</a></li> <li> *(A::<b>Union{SparseArrays.SparseMatrixCSC{Float64, Ti}, SparseArrays.SparseVector{Float64, Ti}}</b>, B::<b>LinearAlgebra.Symmetric{Float64, SparseArrays.SparseMatrixCSC{Float64, Ti}}</b>)<i> where Ti</i> in SuiteSparse.CHOLMOD at <a href=\"file:///cache/build/default-amdci4-2/julialang/julia-release-1-dot-8/usr/share/julia/stdlib/v1.8/SuiteSparse/src/cholmod.jl\" target=\"_blank\">/julia/julia-1.8.5/share/julia/stdlib/v1.8/SuiteSparse/src/cholmod.jl:1687</a></li> <li> *(A::<b>Union{SparseArrays.SparseMatrixCSC{ComplexF64, Ti}, SparseArrays.SparseVector{ComplexF64, Ti}}</b>, B::<b>LinearAlgebra.Hermitian{ComplexF64, SparseArrays.SparseMatrixCSC{ComplexF64, Ti}}</b>)<i> where Ti</i> in SuiteSparse.CHOLMOD at <a href=\"file:///cache/build/default-amdci4-2/julialang/julia-release-1-dot-8/usr/share/julia/stdlib/v1.8/SuiteSparse/src/cholmod.jl\" target=\"_blank\">/julia/julia-1.8.5/share/julia/stdlib/v1.8/SuiteSparse/src/cholmod.jl:1689</a></li> <li> *(A::<b>Union{SparseArrays.SparseMatrixCSC{Float64, Ti}, SparseArrays.SparseVector{Float64, Ti}}</b>, B::<b>LinearAlgebra.Hermitian{Float64, SparseArrays.SparseMatrixCSC{Float64, Ti}}</b>)<i> where Ti</i> in SuiteSparse.CHOLMOD at <a href=\"file:///cache/build/default-amdci4-2/julialang/julia-release-1-dot-8/usr/share/julia/stdlib/v1.8/SuiteSparse/src/cholmod.jl\" target=\"_blank\">/julia/julia-1.8.5/share/julia/stdlib/v1.8/SuiteSparse/src/cholmod.jl:1691</a></li> <li> *(A::<b>LinearAlgebra.Symmetric</b>, x::<b>Number</b>) in LinearAlgebra at <a href=\"file:///cache/build/default-amdci4-2/julialang/julia-release-1-dot-8/usr/share/julia/stdlib/v1.8/LinearAlgebra/src/symmetric.jl\" target=\"_blank\">/julia/julia-1.8.5/share/julia/stdlib/v1.8/LinearAlgebra/src/symmetric.jl:604</a></li> <li> *(A::<b>LinearAlgebra.Symmetric{Float64, SparseArrays.SparseMatrixCSC{Float64, Ti}}</b>, B::<b>Union{SparseArrays.SparseMatrixCSC{Float64, Ti}, SparseArrays.SparseVector{Float64, Ti}}</b>)<i> where Ti</i> in SuiteSparse.CHOLMOD at <a href=\"file:///cache/build/default-amdci4-2/julialang/julia-release-1-dot-8/usr/share/julia/stdlib/v1.8/SuiteSparse/src/cholmod.jl\" target=\"_blank\">/julia/julia-1.8.5/share/julia/stdlib/v1.8/SuiteSparse/src/cholmod.jl:1680</a></li> <li> *(F::<b>LinearAlgebra.Hessenberg{<:Any, <:AbstractMatrix{T}}</b>, x::<b>S</b>)<i> where {T, S<:Number}</i> in LinearAlgebra at <a href=\"file:///cache/build/default-amdci4-2/julialang/julia-release-1-dot-8/usr/share/julia/stdlib/v1.8/LinearAlgebra/src/hessenberg.jl\" target=\"_blank\">/julia/julia-1.8.5/share/julia/stdlib/v1.8/LinearAlgebra/src/hessenberg.jl:622</a></li> <li> *(A::<b>LinearAlgebra.UpperTriangular</b>, x::<b>Number</b>) in LinearAlgebra at <a href=\"file:///cache/build/default-amdci4-2/julialang/julia-release-1-dot-8/usr/share/julia/stdlib/v1.8/LinearAlgebra/src/triangular.jl\" target=\"_blank\">/julia/julia-1.8.5/share/julia/stdlib/v1.8/LinearAlgebra/src/triangular.jl:851</a></li> <li> *(A::<b>LinearAlgebra.UpperTriangular</b>, B::<b>LinearAlgebra.UpperTriangular</b>) in LinearAlgebra at <a href=\"file:///cache/build/default-amdci4-2/julialang/julia-release-1-dot-8/usr/share/julia/stdlib/v1.8/LinearAlgebra/src/triangular.jl\" target=\"_blank\">/julia/julia-1.8.5/share/julia/stdlib/v1.8/LinearAlgebra/src/triangular.jl:1545</a></li> <li> *(A::<b>LinearAlgebra.UpperTriangular</b>, B::<b>LinearAlgebra.UnitUpperTriangular</b>) in LinearAlgebra at <a href=\"file:///cache/build/default-amdci4-2/julialang/julia-release-1-dot-8/usr/share/julia/stdlib/v1.8/LinearAlgebra/src/triangular.jl\" target=\"_blank\">/julia/julia-1.8.5/share/julia/stdlib/v1.8/LinearAlgebra/src/triangular.jl:1559</a></li> <li> *(A::<b>LinearAlgebra.UpperTriangular</b>, D::<b>LinearAlgebra.Diagonal</b>) in LinearAlgebra at <a href=\"file:///cache/build/default-amdci4-2/julialang/julia-release-1-dot-8/usr/share/julia/stdlib/v1.8/LinearAlgebra/src/diagonal.jl\" target=\"_blank\">/julia/julia-1.8.5/share/julia/stdlib/v1.8/LinearAlgebra/src/diagonal.jl:550</a></li> <li> *(A::<b>AbstractMatrix{T}</b>, R::<b>LinearAlgebra.AbstractRotation{S}</b>)<i> where {T, S}</i> in LinearAlgebra at <a href=\"file:///cache/build/default-amdci4-2/julialang/julia-release-1-dot-8/usr/share/julia/stdlib/v1.8/LinearAlgebra/src/givens.jl\" target=\"_blank\">/julia/julia-1.8.5/share/julia/stdlib/v1.8/LinearAlgebra/src/givens.jl:20</a></li> <li> *(A::<b>LinearAlgebra.Hermitian</b>, x::<b>Real</b>) in LinearAlgebra at <a href=\"file:///cache/build/default-amdci4-2/julialang/julia-release-1-dot-8/usr/share/julia/stdlib/v1.8/LinearAlgebra/src/symmetric.jl\" target=\"_blank\">/julia/julia-1.8.5/share/julia/stdlib/v1.8/LinearAlgebra/src/symmetric.jl:606</a></li> <li> *(A::<b>LinearAlgebra.Hermitian{ComplexF64, SparseArrays.SparseMatrixCSC{ComplexF64, Ti}}</b>, B::<b>Union{SparseArrays.SparseMatrixCSC{ComplexF64, Ti}, SparseArrays.SparseVector{ComplexF64, Ti}}</b>)<i> where Ti</i> in SuiteSparse.CHOLMOD at <a href=\"file:///cache/build/default-amdci4-2/julialang/julia-release-1-dot-8/usr/share/julia/stdlib/v1.8/SuiteSparse/src/cholmod.jl\" target=\"_blank\">/julia/julia-1.8.5/share/julia/stdlib/v1.8/SuiteSparse/src/cholmod.jl:1682</a></li> <li> *(A::<b>LinearAlgebra.Hermitian{Float64, SparseArrays.SparseMatrixCSC{Float64, Ti}}</b>, B::<b>Union{SparseArrays.SparseMatrixCSC{Float64, Ti}, SparseArrays.SparseVector{Float64, Ti}}</b>)<i> where Ti</i> in SuiteSparse.CHOLMOD at <a href=\"file:///cache/build/default-amdci4-2/julialang/julia-release-1-dot-8/usr/share/julia/stdlib/v1.8/SuiteSparse/src/cholmod.jl\" target=\"_blank\">/julia/julia-1.8.5/share/julia/stdlib/v1.8/SuiteSparse/src/cholmod.jl:1684</a></li> <li> *(J1::<b>LinearAlgebra.UniformScaling</b>, J2::<b>LinearAlgebra.UniformScaling</b>) in LinearAlgebra at <a href=\"file:///cache/build/default-amdci4-2/julialang/julia-release-1-dot-8/usr/share/julia/stdlib/v1.8/LinearAlgebra/src/uniformscaling.jl\" target=\"_blank\">/julia/julia-1.8.5/share/julia/stdlib/v1.8/LinearAlgebra/src/uniformscaling.jl:257</a></li> <li> *(J::<b>LinearAlgebra.UniformScaling</b>, B::<b>BitMatrix</b>) in LinearAlgebra at <a href=\"file:///cache/build/default-amdci4-2/julialang/julia-release-1-dot-8/usr/share/julia/stdlib/v1.8/LinearAlgebra/src/uniformscaling.jl\" target=\"_blank\">/julia/julia-1.8.5/share/julia/stdlib/v1.8/LinearAlgebra/src/uniformscaling.jl:259</a></li> <li> *(J::<b>LinearAlgebra.UniformScaling</b>, x::<b>Number</b>) in LinearAlgebra at <a href=\"file:///cache/build/default-amdci4-2/julialang/julia-release-1-dot-8/usr/share/julia/stdlib/v1.8/LinearAlgebra/src/uniformscaling.jl\" target=\"_blank\">/julia/julia-1.8.5/share/julia/stdlib/v1.8/LinearAlgebra/src/uniformscaling.jl:264</a></li> <li> *(x::<b>LinearAlgebra.UniformScaling</b>, H::<b>LinearAlgebra.UpperHessenberg</b>) in LinearAlgebra at <a href=\"file:///cache/build/default-amdci4-2/julialang/julia-release-1-dot-8/usr/share/julia/stdlib/v1.8/LinearAlgebra/src/hessenberg.jl\" target=\"_blank\">/julia/julia-1.8.5/share/julia/stdlib/v1.8/LinearAlgebra/src/hessenberg.jl:117</a></li> <li> *(J::<b>LinearAlgebra.UniformScaling</b>, A::<b>AbstractVecOrMat</b>) in LinearAlgebra at <a href=\"file:///cache/build/default-amdci4-2/julialang/julia-release-1-dot-8/usr/share/julia/stdlib/v1.8/LinearAlgebra/src/uniformscaling.jl\" target=\"_blank\">/julia/julia-1.8.5/share/julia/stdlib/v1.8/LinearAlgebra/src/uniformscaling.jl:262</a></li> <li> *(z::<b>Complex</b>, w::<b>Complex</b>) in Base at <a href=\"https://github.com/JuliaLang/julia/tree/17cfb8e65ead377bf1b4598d8a9869144142c84e/base/complex.jl#L290\" target=\"_blank\">complex.jl:290</a></li> <li> *(adjQ::<b>LinearAlgebra.Adjoint{<:Any, <:LinearAlgebra.AbstractQ}</b>, B::<b>StridedVecOrMat</b>) in LinearAlgebra at <a href=\"file:///cache/build/default-amdci4-2/julialang/julia-release-1-dot-8/usr/share/julia/stdlib/v1.8/LinearAlgebra/src/qr.jl\" target=\"_blank\">/julia/julia-1.8.5/share/julia/stdlib/v1.8/LinearAlgebra/src/qr.jl:722</a></li> <li> *(adjA::<b>LinearAlgebra.Adjoint{<:Any, <:StridedMatrix{T}}</b>, x::<b>StridedVector{S}</b>)<i> where {T<:Union{Float32, Float64, ComplexF32, ComplexF64}, S}</i> in LinearAlgebra at <a href=\"file:///cache/build/default-amdci4-2/julialang/julia-release-1-dot-8/usr/share/julia/stdlib/v1.8/LinearAlgebra/src/matmul.jl\" target=\"_blank\">/julia/julia-1.8.5/share/julia/stdlib/v1.8/LinearAlgebra/src/matmul.jl:99</a></li> <li> *(adjA::<b>LinearAlgebra.Adjoint{<:Any, <:LinearAlgebra.LQPackedQ}</b>, B::<b>StridedVecOrMat</b>) in LinearAlgebra at <a href=\"file:///cache/build/default-amdci4-2/julialang/julia-release-1-dot-8/usr/share/julia/stdlib/v1.8/LinearAlgebra/src/lq.jl\" target=\"_blank\">/julia/julia-1.8.5/share/julia/stdlib/v1.8/LinearAlgebra/src/lq.jl:217</a></li> <li> *(Q::<b>LinearAlgebra.Adjoint{<:Any, <:LinearAlgebra.AbstractQ}</b>, B::<b>Union{LinearAlgebra.Bidiagonal, LinearAlgebra.SymTridiagonal, LinearAlgebra.Tridiagonal}</b>) in LinearAlgebra at <a href=\"file:///cache/build/default-amdci4-2/julialang/julia-release-1-dot-8/usr/share/julia/stdlib/v1.8/LinearAlgebra/src/special.jl\" target=\"_blank\">/julia/julia-1.8.5/share/julia/stdlib/v1.8/LinearAlgebra/src/special.jl:319</a></li> <li> *(adjA::<b>LinearAlgebra.Adjoint{<:Any, <:SparseArrays.AbstractSparseMatrixCSC}</b>, x::<b>Union{StridedVector, BitVector}</b>) in SparseArrays at <a href=\"file:///cache/build/default-amdci4-2/julialang/julia-release-1-dot-8/usr/share/julia/stdlib/v1.8/SparseArrays/src/linalg.jl\" target=\"_blank\">/julia/julia-1.8.5/share/julia/stdlib/v1.8/SparseArrays/src/linalg.jl:78</a></li> <li> *(A::<b>LinearAlgebra.Adjoint{<:Any, <:SparseArrays.AbstractSparseMatrixCSC}</b>, B::<b>Union{SparseArrays.AbstractSparseMatrixCSC{Tv, Ti}, SubArray{Tv, 2, <:SparseArrays.AbstractSparseMatrixCSC{Tv, Ti}, Tuple{Base.Slice{Base.OneTo{Int64}}, I}} where I<:AbstractUnitRange, LinearAlgebra.LowerTriangular{Tv, <:Union{SparseArrays.AbstractSparseMatrixCSC{Tv, Ti}, SubArray{Tv, 2, <:SparseArrays.AbstractSparseMatrixCSC{Tv, Ti}, Tuple{Base.Slice{Base.OneTo{Int64}}, I}} where I<:AbstractUnitRange}}, LinearAlgebra.UpperTriangular{Tv, <:Union{SparseArrays.AbstractSparseMatrixCSC{Tv, Ti}, SubArray{Tv, 2, <:SparseArrays.AbstractSparseMatrixCSC{Tv, Ti}, Tuple{Base.Slice{Base.OneTo{Int64}}, I}} where I<:AbstractUnitRange}}} where {Tv, Ti}</b>) in SparseArrays at <a href=\"file:///cache/build/default-amdci4-2/julialang/julia-release-1-dot-8/usr/share/julia/stdlib/v1.8/SparseArrays/src/linalg.jl\" target=\"_blank\">/julia/julia-1.8.5/share/julia/stdlib/v1.8/SparseArrays/src/linalg.jl:160</a></li> <li> *(adjA::<b>LinearAlgebra.Adjoint{<:Any, <:SparseArrays.AbstractSparseMatrixCSC}</b>, B::<b>Union{LinearAlgebra.Adjoint{<:Any, <:Union{LinearAlgebra.LowerTriangular, LinearAlgebra.UnitLowerTriangular, LinearAlgebra.UnitUpperTriangular, LinearAlgebra.UpperTriangular, StridedMatrix, BitMatrix}}, LinearAlgebra.LowerTriangular, LinearAlgebra.Transpose{<:Any, <:Union{LinearAlgebra.LowerTriangular, LinearAlgebra.UnitLowerTriangular, LinearAlgebra.UnitUpperTriangular, LinearAlgebra.UpperTriangular, StridedMatrix, BitMatrix}}, LinearAlgebra.UnitLowerTriangular, LinearAlgebra.UnitUpperTriangular, LinearAlgebra.UpperTriangular, StridedMatrix, BitMatrix}</b>) in SparseArrays at <a href=\"file:///cache/build/default-amdci4-2/julialang/julia-release-1-dot-8/usr/share/julia/stdlib/v1.8/SparseArrays/src/linalg.jl\" target=\"_blank\">/julia/julia-1.8.5/share/julia/stdlib/v1.8/SparseArrays/src/linalg.jl:80</a></li> <li> *(u::<b>LinearAlgebra.Adjoint{<:Number, <:AbstractVector}</b>, v::<b>AbstractVector{<:Number}</b>) in LinearAlgebra at <a href=\"file:///cache/build/default-amdci4-2/julialang/julia-release-1-dot-8/usr/share/julia/stdlib/v1.8/LinearAlgebra/src/adjtrans.jl\" target=\"_blank\">/julia/julia-1.8.5/share/julia/stdlib/v1.8/LinearAlgebra/src/adjtrans.jl:309</a></li> <li> *(adjA::<b>LinearAlgebra.Adjoint{<:Any, <:Union{LinearAlgebra.LowerTriangular{Ta, S} where S<:AbstractMatrix{Ta}, LinearAlgebra.UnitLowerTriangular{Ta, S} where S<:AbstractMatrix{Ta}, LinearAlgebra.UnitUpperTriangular{Ta, S} where S<:AbstractMatrix{Ta}, LinearAlgebra.UpperTriangular{Ta, S} where S<:AbstractMatrix{Ta}, StridedArray{Ta, 2}}}</b>, x::<b>SparseArrays.AbstractSparseVector{Tx}</b>)<i> where {Ta, Tx}</i> in SparseArrays at <a href=\"file:///cache/build/default-amdci4-2/julialang/julia-release-1-dot-8/usr/share/julia/stdlib/v1.8/SparseArrays/src/sparsevector.jl\" target=\"_blank\">/julia/julia-1.8.5/share/julia/stdlib/v1.8/SparseArrays/src/sparsevector.jl:1681</a></li> <li> *(adjA::<b>LinearAlgebra.Adjoint{<:Any, <:SparseArrays.AbstractSparseMatrixCSC}</b>, x::<b>SparseArrays.AbstractSparseVector</b>) in SparseArrays at <a href=\"file:///cache/build/default-amdci4-2/julialang/julia-release-1-dot-8/usr/share/julia/stdlib/v1.8/SparseArrays/src/sparsevector.jl\" target=\"_blank\">/julia/julia-1.8.5/share/julia/stdlib/v1.8/SparseArrays/src/sparsevector.jl:1823</a></li> <li> *(adjA::<b>LinearAlgebra.Adjoint{<:Any, <:SuiteSparse.CHOLMOD.Sparse}</b>, B::<b>VecOrMat</b>) in SuiteSparse.CHOLMOD at <a href=\"file:///cache/build/default-amdci4-2/julialang/julia-release-1-dot-8/usr/share/julia/stdlib/v1.8/SuiteSparse/src/cholmod.jl\" target=\"_blank\">/julia/julia-1.8.5/share/julia/stdlib/v1.8/SuiteSparse/src/cholmod.jl:1114</a></li> <li> *(adjA::<b>LinearAlgebra.Adjoint{<:Any, <:StridedMatrix{T} where T}</b>, Q::<b>LinearAlgebra.LQPackedQ</b>) in LinearAlgebra at <a href=\"file:///cache/build/default-amdci4-2/julialang/julia-release-1-dot-8/usr/share/julia/stdlib/v1.8/LinearAlgebra/src/lq.jl\" target=\"_blank\">/julia/julia-1.8.5/share/julia/stdlib/v1.8/LinearAlgebra/src/lq.jl:305</a></li> <li> *(adjQ::<b>LinearAlgebra.Adjoint{<:Any, <:LinearAlgebra.AbstractQ}</b>, adjB::<b>LinearAlgebra.Adjoint{<:Any, <:StridedVecOrMat}</b>) in LinearAlgebra at <a href=\"file:///cache/build/default-amdci4-2/julialang/julia-release-1-dot-8/usr/share/julia/stdlib/v1.8/LinearAlgebra/src/qr.jl\" target=\"_blank\">/julia/julia-1.8.5/share/julia/stdlib/v1.8/LinearAlgebra/src/qr.jl:736</a></li> <li> *(u::<b>LinearAlgebra.Adjoint{T, <:AbstractVector} where T</b>, v::<b>LinearAlgebra.Adjoint{<:Any, <:LinearAlgebra.Transpose{T, <:AbstractVector} where T}</b>) in LinearAlgebra at <a href=\"file:///cache/build/default-amdci4-2/julialang/julia-release-1-dot-8/usr/share/julia/stdlib/v1.8/LinearAlgebra/src/adjtrans.jl\" target=\"_blank\">/julia/julia-1.8.5/share/julia/stdlib/v1.8/LinearAlgebra/src/adjtrans.jl:324</a></li> <li> *(adjA::<b>LinearAlgebra.Adjoint{<:Any, <:StridedVecOrMat}</b>, adjQ::<b>LinearAlgebra.Adjoint{<:Any, <:LinearAlgebra.AbstractQ}</b>) in LinearAlgebra at <a href=\"file:///cache/build/default-amdci4-2/julialang/julia-release-1-dot-8/usr/share/julia/stdlib/v1.8/LinearAlgebra/src/qr.jl\" target=\"_blank\">/julia/julia-1.8.5/share/julia/stdlib/v1.8/LinearAlgebra/src/qr.jl:845</a></li> <li> *(adjA::<b>LinearAlgebra.Adjoint{<:Any, <:LinearAlgebra.LQPackedQ}</b>, adjB::<b>LinearAlgebra.Adjoint{<:Any, <:StridedVecOrMat}</b>) in LinearAlgebra at <a href=\"file:///cache/build/default-amdci4-2/julialang/julia-release-1-dot-8/usr/share/julia/stdlib/v1.8/LinearAlgebra/src/lq.jl\" target=\"_blank\">/julia/julia-1.8.5/share/julia/stdlib/v1.8/LinearAlgebra/src/lq.jl:237</a></li> <li> *(adjA::<b>LinearAlgebra.Adjoint{<:Any, <:StridedMatrix{T} where T}</b>, adjQ::<b>LinearAlgebra.Adjoint{<:Any, <:LinearAlgebra.LQPackedQ}</b>) in LinearAlgebra at <a href=\"file:///cache/build/default-amdci4-2/julialang/julia-release-1-dot-8/usr/share/julia/stdlib/v1.8/LinearAlgebra/src/lq.jl\" target=\"_blank\">/julia/julia-1.8.5/share/julia/stdlib/v1.8/LinearAlgebra/src/lq.jl:274</a></li> <li> *(A::<b>LinearAlgebra.Adjoint{<:Any, <:AbstractVector}</b>, B::<b>LinearAlgebra.Adjoint{<:Any, <:LinearAlgebra.AbstractRotation}</b>) in LinearAlgebra at <a href=\"file:///cache/build/default-amdci4-2/julialang/julia-release-1-dot-8/usr/share/julia/stdlib/v1.8/LinearAlgebra/src/givens.jl\" target=\"_blank\">/julia/julia-1.8.5/share/julia/stdlib/v1.8/LinearAlgebra/src/givens.jl:402</a></li> <li> *(A::<b>LinearAlgebra.Adjoint{<:Any, <:AbstractMatrix}</b>, B::<b>LinearAlgebra.Adjoint{<:Any, <:LinearAlgebra.AbstractRotation}</b>) in LinearAlgebra at <a href=\"file:///cache/build/default-amdci4-2/julialang/julia-release-1-dot-8/usr/share/julia/stdlib/v1.8/LinearAlgebra/src/givens.jl\" target=\"_blank\">/julia/julia-1.8.5/share/julia/stdlib/v1.8/LinearAlgebra/src/givens.jl:403</a></li> <li> *(Q::<b>LinearAlgebra.Adjoint{<:Any, <:LinearAlgebra.AbstractQ}</b>, B::<b>LinearAlgebra.Adjoint{<:Any, <:LinearAlgebra.AbstractQ}</b>) in LinearAlgebra at <a href=\"file:///cache/build/default-amdci4-2/julialang/julia-release-1-dot-8/usr/share/julia/stdlib/v1.8/LinearAlgebra/src/special.jl\" target=\"_blank\">/julia/julia-1.8.5/share/julia/stdlib/v1.8/LinearAlgebra/src/special.jl:353</a></li> <li> *(u::<b>LinearAlgebra.Adjoint{T, <:AbstractVector} where T</b>, A::<b>LinearAlgebra.Adjoint{<:Any, <:LinearAlgebra.AbstractQ}</b>) in LinearAlgebra at <a href=\"file:///cache/build/default-amdci4-2/julialang/julia-release-1-dot-8/usr/share/julia/stdlib/v1.8/LinearAlgebra/src/qr.jl\" target=\"_blank\">/julia/julia-1.8.5/share/julia/stdlib/v1.8/LinearAlgebra/src/qr.jl:834</a></li> <li> *(A::<b>LinearAlgebra.Adjoint{<:Any, <:SparseArrays.AbstractSparseMatrixCSC}</b>, B::<b>LinearAlgebra.Adjoint{<:Any, <:SparseArrays.AbstractSparseMatrixCSC}</b>) in SparseArrays at <a href=\"file:///cache/build/default-amdci4-2/julialang/julia-release-1-dot-8/usr/share/julia/stdlib/v1.8/SparseArrays/src/linalg.jl\" target=\"_blank\">/julia/julia-1.8.5/share/julia/stdlib/v1.8/SparseArrays/src/linalg.jl:161</a></li> <li> *(u::<b>LinearAlgebra.Adjoint{T, <:AbstractVector} where T</b>, v::<b>LinearAlgebra.Adjoint{T, <:AbstractVector} where T</b>) in LinearAlgebra at <a href=\"file:///cache/build/default-amdci4-2/julialang/julia-release-1-dot-8/usr/share/julia/stdlib/v1.8/LinearAlgebra/src/adjtrans.jl\" target=\"_blank\">/julia/julia-1.8.5/share/julia/stdlib/v1.8/LinearAlgebra/src/adjtrans.jl:318</a></li> <li> *(adjA::<b>LinearAlgebra.Adjoint{<:Any, <:SuiteSparse.CHOLMOD.Sparse}</b>, B::<b>SuiteSparse.CHOLMOD.Sparse</b>) in SuiteSparse.CHOLMOD at <a href=\"file:///cache/build/default-amdci4-2/julialang/julia-release-1-dot-8/usr/share/julia/stdlib/v1.8/SuiteSparse/src/cholmod.jl\" target=\"_blank\">/julia/julia-1.8.5/share/julia/stdlib/v1.8/SuiteSparse/src/cholmod.jl:1102</a></li> <li> *(Q::<b>LinearAlgebra.Adjoint{<:Any, <:LinearAlgebra.AbstractQ}</b>, B::<b>LinearAlgebra.Diagonal</b>) in LinearAlgebra at <a href=\"file:///cache/build/default-amdci4-2/julialang/julia-release-1-dot-8/usr/share/julia/stdlib/v1.8/LinearAlgebra/src/special.jl\" target=\"_blank\">/julia/julia-1.8.5/share/julia/stdlib/v1.8/LinearAlgebra/src/special.jl:321</a></li> <li> *(adjA::<b>LinearAlgebra.Adjoint{<:Any, <:AbstractMatrix}</b>, D::<b>LinearAlgebra.Diagonal</b>) in LinearAlgebra at <a href=\"file:///cache/build/default-amdci4-2/julialang/julia-release-1-dot-8/usr/share/julia/stdlib/v1.8/LinearAlgebra/src/diagonal.jl\" target=\"_blank\">/julia/julia-1.8.5/share/julia/stdlib/v1.8/LinearAlgebra/src/diagonal.jl:256</a></li> <li> *(x::<b>LinearAlgebra.Adjoint{T, <:AbstractVector} where T</b>, D::<b>LinearAlgebra.Diagonal</b>) in LinearAlgebra at <a href=\"file:///cache/build/default-amdci4-2/julialang/julia-release-1-dot-8/usr/share/julia/stdlib/v1.8/LinearAlgebra/src/diagonal.jl\" target=\"_blank\">/julia/julia-1.8.5/share/julia/stdlib/v1.8/LinearAlgebra/src/diagonal.jl:752</a></li> <li> *(x::<b>LinearAlgebra.Adjoint{T, <:AbstractVector} where T</b>, D::<b>LinearAlgebra.Diagonal</b>, y::<b>AbstractVector</b>) in LinearAlgebra at <a href=\"file:///cache/build/default-amdci4-2/julialang/julia-release-1-dot-8/usr/share/julia/stdlib/v1.8/LinearAlgebra/src/diagonal.jl\" target=\"_blank\">/julia/julia-1.8.5/share/julia/stdlib/v1.8/LinearAlgebra/src/diagonal.jl:754</a></li> <li> *(adjA::<b>LinearAlgebra.Adjoint{<:Any, <:StridedVecOrMat}</b>, Q::<b>LinearAlgebra.AbstractQ</b>) in LinearAlgebra at <a href=\"file:///cache/build/default-amdci4-2/julialang/julia-release-1-dot-8/usr/share/julia/stdlib/v1.8/LinearAlgebra/src/qr.jl\" target=\"_blank\">/julia/julia-1.8.5/share/julia/stdlib/v1.8/LinearAlgebra/src/qr.jl:838</a></li> <li> *(Q::<b>LinearAlgebra.Adjoint{<:Any, <:LinearAlgebra.AbstractQ}</b>, B::<b>LinearAlgebra.AbstractQ</b>) in LinearAlgebra at <a href=\"file:///cache/build/default-amdci4-2/julialang/julia-release-1-dot-8/usr/share/julia/stdlib/v1.8/LinearAlgebra/src/special.jl\" target=\"_blank\">/julia/julia-1.8.5/share/julia/stdlib/v1.8/LinearAlgebra/src/special.jl:351</a></li> <li> *(adjA::<b>LinearAlgebra.Adjoint{<:Any, <:SuiteSparse.CHOLMOD.Sparse}</b>, B::<b>SuiteSparse.CHOLMOD.Dense</b>) in SuiteSparse.CHOLMOD at <a href=\"file:///cache/build/default-amdci4-2/julialang/julia-release-1-dot-8/usr/share/julia/stdlib/v1.8/SuiteSparse/src/cholmod.jl\" target=\"_blank\">/julia/julia-1.8.5/share/julia/stdlib/v1.8/SuiteSparse/src/cholmod.jl:1112</a></li> <li> *(u::<b>LinearAlgebra.Adjoint{T, <:AbstractVector} where T</b>, v::<b>LinearAlgebra.Transpose{<:Any, <:LinearAlgebra.Adjoint{T, <:AbstractVector} where T}</b>) in LinearAlgebra at <a href=\"file:///cache/build/default-amdci4-2/julialang/julia-release-1-dot-8/usr/share/julia/stdlib/v1.8/LinearAlgebra/src/adjtrans.jl\" target=\"_blank\">/julia/julia-1.8.5/share/julia/stdlib/v1.8/LinearAlgebra/src/adjtrans.jl:326</a></li> <li> *(Q::<b>LinearAlgebra.Adjoint{<:Any, <:LinearAlgebra.AbstractQ}</b>, B::<b>LinearAlgebra.AbstractTriangular</b>) in LinearAlgebra at <a href=\"file:///cache/build/default-amdci4-2/julialang/julia-release-1-dot-8/usr/share/julia/stdlib/v1.8/LinearAlgebra/src/special.jl\" target=\"_blank\">/julia/julia-1.8.5/share/julia/stdlib/v1.8/LinearAlgebra/src/special.jl:317</a></li> <li> *(adjA::<b>LinearAlgebra.Adjoint{<:Any, <:AbstractMatrix{T}}</b>, x::<b>AbstractVector{S}</b>)<i> where {T, S}</i> in LinearAlgebra at <a href=\"file:///cache/build/default-amdci4-2/julialang/julia-release-1-dot-8/usr/share/julia/stdlib/v1.8/LinearAlgebra/src/matmul.jl\" target=\"_blank\">/julia/julia-1.8.5/share/julia/stdlib/v1.8/LinearAlgebra/src/matmul.jl:103</a></li> <li> *(A::<b>LinearAlgebra.Adjoint{<:Any, <:AbstractMatrix}</b>, B::<b>LinearAlgebra.AbstractTriangular</b>) in LinearAlgebra at <a href=\"file:///cache/build/default-amdci4-2/julialang/julia-release-1-dot-8/usr/share/julia/stdlib/v1.8/LinearAlgebra/src/triangular.jl\" target=\"_blank\">/julia/julia-1.8.5/share/julia/stdlib/v1.8/LinearAlgebra/src/triangular.jl:1686</a></li> <li> *(v::<b>LinearAlgebra.Adjoint{T, <:AbstractVector} where T</b>, A::<b>LinearAlgebra.AbstractTriangular</b>) in LinearAlgebra at <a href=\"file:///cache/build/default-amdci4-2/julialang/julia-release-1-dot-8/usr/share/julia/stdlib/v1.8/LinearAlgebra/src/triangular.jl\" target=\"_blank\">/julia/julia-1.8.5/share/julia/stdlib/v1.8/LinearAlgebra/src/triangular.jl:1678</a></li> <li> *(x::<b>LinearAlgebra.Adjoint{T, <:AbstractVector} where T</b>, A::<b>AbstractMatrix</b>) in LinearAlgebra at <a href=\"file:///cache/build/default-amdci4-2/julialang/julia-release-1-dot-8/usr/share/julia/stdlib/v1.8/LinearAlgebra/src/matmul.jl\" target=\"_blank\">/julia/julia-1.8.5/share/julia/stdlib/v1.8/LinearAlgebra/src/matmul.jl:119</a></li> <li> *(A::<b>SuiteSparse.CHOLMOD.Sparse</b>, B::<b>SuiteSparse.CHOLMOD.Sparse</b>) in SuiteSparse.CHOLMOD at <a href=\"file:///cache/build/default-amdci4-2/julialang/julia-release-1-dot-8/usr/share/julia/stdlib/v1.8/SuiteSparse/src/cholmod.jl\" target=\"_blank\">/julia/julia-1.8.5/share/julia/stdlib/v1.8/SuiteSparse/src/cholmod.jl:1077</a></li> <li> *(A::<b>SuiteSparse.CHOLMOD.Sparse</b>, B::<b>SuiteSparse.CHOLMOD.Dense</b>) in SuiteSparse.CHOLMOD at <a href=\"file:///cache/build/default-amdci4-2/julialang/julia-release-1-dot-8/usr/share/julia/stdlib/v1.8/SuiteSparse/src/cholmod.jl\" target=\"_blank\">/julia/julia-1.8.5/share/julia/stdlib/v1.8/SuiteSparse/src/cholmod.jl:1078</a></li> <li> *(A::<b>SuiteSparse.CHOLMOD.Sparse</b>, B::<b>VecOrMat</b>) in SuiteSparse.CHOLMOD at <a href=\"file:///cache/build/default-amdci4-2/julialang/julia-release-1-dot-8/usr/share/julia/stdlib/v1.8/SuiteSparse/src/cholmod.jl\" target=\"_blank\">/julia/julia-1.8.5/share/julia/stdlib/v1.8/SuiteSparse/src/cholmod.jl:1079</a></li> <li> *(A::<b>SuiteSparse.CHOLMOD.Sparse{Tv}</b>, adjB::<b>LinearAlgebra.Adjoint{Tv, SuiteSparse.CHOLMOD.Sparse{Tv}}</b>)<i> where Tv<:Float64</i> in SuiteSparse.CHOLMOD at <a href=\"file:///cache/build/default-amdci4-2/julialang/julia-release-1-dot-8/usr/share/julia/stdlib/v1.8/SuiteSparse/src/cholmod.jl\" target=\"_blank\">/julia/julia-1.8.5/share/julia/stdlib/v1.8/SuiteSparse/src/cholmod.jl:1081</a></li> <li> *(A::<b>LinearAlgebra.AbstractQ</b>, b::<b>StridedVector{T} where T</b>) in LinearAlgebra at <a href=\"file:///cache/build/default-amdci4-2/julialang/julia-release-1-dot-8/usr/share/julia/stdlib/v1.8/LinearAlgebra/src/qr.jl\" target=\"_blank\">/julia/julia-1.8.5/share/julia/stdlib/v1.8/LinearAlgebra/src/qr.jl:655</a></li> <li> *(A::<b>LinearAlgebra.AbstractQ</b>, B::<b>StridedMatrix{T} where T</b>) in LinearAlgebra at <a href=\"file:///cache/build/default-amdci4-2/julialang/julia-release-1-dot-8/usr/share/julia/stdlib/v1.8/LinearAlgebra/src/qr.jl\" target=\"_blank\">/julia/julia-1.8.5/share/julia/stdlib/v1.8/LinearAlgebra/src/qr.jl:667</a></li> <li> *(A::<b>LinearAlgebra.AbstractQ</b>, b::<b>Number</b>) in LinearAlgebra at <a href=\"file:///cache/build/default-amdci4-2/julialang/julia-release-1-dot-8/usr/share/julia/stdlib/v1.8/LinearAlgebra/src/qr.jl\" target=\"_blank\">/julia/julia-1.8.5/share/julia/stdlib/v1.8/LinearAlgebra/src/qr.jl:680</a></li> <li> *(Q::<b>LinearAlgebra.AbstractQ</b>, adjB::<b>LinearAlgebra.Adjoint{<:Any, <:StridedVecOrMat}</b>) in LinearAlgebra at <a href=\"file:///cache/build/default-amdci4-2/julialang/julia-release-1-dot-8/usr/share/julia/stdlib/v1.8/LinearAlgebra/src/qr.jl\" target=\"_blank\">/julia/julia-1.8.5/share/julia/stdlib/v1.8/LinearAlgebra/src/qr.jl:729</a></li> <li> *(Q::<b>LinearAlgebra.AbstractQ</b>, B::<b>LinearAlgebra.AbstractTriangular</b>) in LinearAlgebra at <a href=\"file:///cache/build/default-amdci4-2/julialang/julia-release-1-dot-8/usr/share/julia/stdlib/v1.8/LinearAlgebra/src/special.jl\" target=\"_blank\">/julia/julia-1.8.5/share/julia/stdlib/v1.8/LinearAlgebra/src/special.jl:316</a></li> <li> *(Q::<b>LinearAlgebra.AbstractQ</b>, B::<b>Union{LinearAlgebra.Bidiagonal, LinearAlgebra.SymTridiagonal, LinearAlgebra.Tridiagonal}</b>) in LinearAlgebra at <a href=\"file:///cache/build/default-amdci4-2/julialang/julia-release-1-dot-8/usr/share/julia/stdlib/v1.8/LinearAlgebra/src/special.jl\" target=\"_blank\">/julia/julia-1.8.5/share/julia/stdlib/v1.8/LinearAlgebra/src/special.jl:318</a></li> <li> *(Q::<b>LinearAlgebra.AbstractQ</b>, B::<b>LinearAlgebra.Diagonal</b>) in LinearAlgebra at <a href=\"file:///cache/build/default-amdci4-2/julialang/julia-release-1-dot-8/usr/share/julia/stdlib/v1.8/LinearAlgebra/src/special.jl\" target=\"_blank\">/julia/julia-1.8.5/share/julia/stdlib/v1.8/LinearAlgebra/src/special.jl:320</a></li> <li> *(Q::<b>LinearAlgebra.AbstractQ</b>, B::<b>LinearAlgebra.AbstractQ</b>) in LinearAlgebra at <a href=\"file:///cache/build/default-amdci4-2/julialang/julia-release-1-dot-8/usr/share/julia/stdlib/v1.8/LinearAlgebra/src/special.jl\" target=\"_blank\">/julia/julia-1.8.5/share/julia/stdlib/v1.8/LinearAlgebra/src/special.jl:350</a></li> <li> *(Q::<b>LinearAlgebra.AbstractQ</b>, B::<b>LinearAlgebra.Adjoint{<:Any, <:LinearAlgebra.AbstractQ}</b>) in LinearAlgebra at <a href=\"file:///cache/build/default-amdci4-2/julialang/julia-release-1-dot-8/usr/share/julia/stdlib/v1.8/LinearAlgebra/src/special.jl\" target=\"_blank\">/julia/julia-1.8.5/share/julia/stdlib/v1.8/LinearAlgebra/src/special.jl:352</a></li> <li> *(y::<b>Integer</b>, x::<b>Rational</b>) in Base at <a href=\"https://github.com/JuliaLang/julia/tree/17cfb8e65ead377bf1b4598d8a9869144142c84e/base/rational.jl#L342\" target=\"_blank\">rational.jl:342</a></li> <li> *(a::<b>Integer</b>, index::<b>CartesianIndex{N}</b>)<i> where N</i> in Base.IteratorsMD at <a href=\"https://github.com/JuliaLang/julia/tree/17cfb8e65ead377bf1b4598d8a9869144142c84e/base/multidimensional.jl#L123\" target=\"_blank\">multidimensional.jl:123</a></li> <li> *(tA::<b>LinearAlgebra.Transpose{<:Any, <:StridedMatrix{T}}</b>, x::<b>StridedVector{S}</b>)<i> where {T<:Union{Float32, Float64, ComplexF32, ComplexF64}, S}</i> in LinearAlgebra at <a href=\"file:///cache/build/default-amdci4-2/julialang/julia-release-1-dot-8/usr/share/julia/stdlib/v1.8/LinearAlgebra/src/matmul.jl\" target=\"_blank\">/julia/julia-1.8.5/share/julia/stdlib/v1.8/LinearAlgebra/src/matmul.jl:84</a></li> <li> *(transx::<b>LinearAlgebra.Transpose{<:Any, <:StridedVector{T}}</b>, y::<b>StridedVector{T}</b>)<i> where T<:Union{ComplexF32, ComplexF64}</i> in LinearAlgebra at <a href=\"file:///cache/build/default-amdci4-2/julialang/julia-release-1-dot-8/usr/share/julia/stdlib/v1.8/LinearAlgebra/src/matmul.jl\" target=\"_blank\">/julia/julia-1.8.5/share/julia/stdlib/v1.8/LinearAlgebra/src/matmul.jl:43</a></li> <li> *(tA::<b>LinearAlgebra.Transpose{<:Any, <:SparseArrays.AbstractSparseMatrixCSC}</b>, x::<b>Union{StridedVector, BitVector}</b>) in SparseArrays at <a href=\"file:///cache/build/default-amdci4-2/julialang/julia-release-1-dot-8/usr/share/julia/stdlib/v1.8/SparseArrays/src/linalg.jl\" target=\"_blank\">/julia/julia-1.8.5/share/julia/stdlib/v1.8/SparseArrays/src/linalg.jl:82</a></li> <li> *(A::<b>LinearAlgebra.Transpose{<:Any, <:SparseArrays.AbstractSparseMatrixCSC}</b>, B::<b>Union{SparseArrays.AbstractSparseMatrixCSC{Tv, Ti}, SubArray{Tv, 2, <:SparseArrays.AbstractSparseMatrixCSC{Tv, Ti}, Tuple{Base.Slice{Base.OneTo{Int64}}, I}} where I<:AbstractUnitRange, LinearAlgebra.LowerTriangular{Tv, <:Union{SparseArrays.AbstractSparseMatrixCSC{Tv, Ti}, SubArray{Tv, 2, <:SparseArrays.AbstractSparseMatrixCSC{Tv, Ti}, Tuple{Base.Slice{Base.OneTo{Int64}}, I}} where I<:AbstractUnitRange}}, LinearAlgebra.UpperTriangular{Tv, <:Union{SparseArrays.AbstractSparseMatrixCSC{Tv, Ti}, SubArray{Tv, 2, <:SparseArrays.AbstractSparseMatrixCSC{Tv, Ti}, Tuple{Base.Slice{Base.OneTo{Int64}}, I}} where I<:AbstractUnitRange}}} where {Tv, Ti}</b>) in SparseArrays at <a href=\"file:///cache/build/default-amdci4-2/julialang/julia-release-1-dot-8/usr/share/julia/stdlib/v1.8/SparseArrays/src/linalg.jl\" target=\"_blank\">/julia/julia-1.8.5/share/julia/stdlib/v1.8/SparseArrays/src/linalg.jl:159</a></li> <li> *(tA::<b>LinearAlgebra.Transpose{<:Any, <:SparseArrays.AbstractSparseMatrixCSC}</b>, B::<b>Union{LinearAlgebra.Adjoint{<:Any, <:Union{LinearAlgebra.LowerTriangular, LinearAlgebra.UnitLowerTriangular, LinearAlgebra.UnitUpperTriangular, LinearAlgebra.UpperTriangular, StridedMatrix, BitMatrix}}, LinearAlgebra.LowerTriangular, LinearAlgebra.Transpose{<:Any, <:Union{LinearAlgebra.LowerTriangular, LinearAlgebra.UnitLowerTriangular, LinearAlgebra.UnitUpperTriangular, LinearAlgebra.UpperTriangular, StridedMatrix, BitMatrix}}, LinearAlgebra.UnitLowerTriangular, LinearAlgebra.UnitUpperTriangular, LinearAlgebra.UpperTriangular, StridedMatrix, BitMatrix}</b>) in SparseArrays at <a href=\"file:///cache/build/default-amdci4-2/julialang/julia-release-1-dot-8/usr/share/julia/stdlib/v1.8/SparseArrays/src/linalg.jl\" target=\"_blank\">/julia/julia-1.8.5/share/julia/stdlib/v1.8/SparseArrays/src/linalg.jl:84</a></li> <li> *(u::<b>LinearAlgebra.Transpose{T, <:AbstractVector} where T</b>, v::<b>LinearAlgebra.Adjoint{<:Any, <:LinearAlgebra.Transpose{T, <:AbstractVector} where T}</b>) in LinearAlgebra at <a href=\"file:///cache/build/default-amdci4-2/julialang/julia-release-1-dot-8/usr/share/julia/stdlib/v1.8/LinearAlgebra/src/adjtrans.jl\" target=\"_blank\">/julia/julia-1.8.5/share/julia/stdlib/v1.8/LinearAlgebra/src/adjtrans.jl:323</a></li> <li> *(A::<b>LinearAlgebra.Transpose{<:Any, <:AbstractVector}</b>, B::<b>LinearAlgebra.Adjoint{<:Any, <:LinearAlgebra.AbstractRotation}</b>) in LinearAlgebra at <a href=\"file:///cache/build/default-amdci4-2/julialang/julia-release-1-dot-8/usr/share/julia/stdlib/v1.8/LinearAlgebra/src/givens.jl\" target=\"_blank\">/julia/julia-1.8.5/share/julia/stdlib/v1.8/LinearAlgebra/src/givens.jl:404</a></li> <li> *(A::<b>LinearAlgebra.Transpose{<:Any, <:AbstractMatrix}</b>, B::<b>LinearAlgebra.Adjoint{<:Any, <:LinearAlgebra.AbstractRotation}</b>) in LinearAlgebra at <a href=\"file:///cache/build/default-amdci4-2/julialang/julia-release-1-dot-8/usr/share/julia/stdlib/v1.8/LinearAlgebra/src/givens.jl\" target=\"_blank\">/julia/julia-1.8.5/share/julia/stdlib/v1.8/LinearAlgebra/src/givens.jl:405</a></li> <li> *(tA::<b>LinearAlgebra.Transpose{<:Any, <:Union{LinearAlgebra.LowerTriangular{Ta, S} where S<:AbstractMatrix{Ta}, LinearAlgebra.UnitLowerTriangular{Ta, S} where S<:AbstractMatrix{Ta}, LinearAlgebra.UnitUpperTriangular{Ta, S} where S<:AbstractMatrix{Ta}, LinearAlgebra.UpperTriangular{Ta, S} where S<:AbstractMatrix{Ta}, StridedArray{Ta, 2}}}</b>, x::<b>SparseArrays.AbstractSparseVector{Tx}</b>)<i> where {Ta, Tx}</i> in SparseArrays at <a href=\"file:///cache/build/default-amdci4-2/julialang/julia-release-1-dot-8/usr/share/julia/stdlib/v1.8/SparseArrays/src/sparsevector.jl\" target=\"_blank\">/julia/julia-1.8.5/share/julia/stdlib/v1.8/SparseArrays/src/sparsevector.jl:1643</a></li> <li> *(tA::<b>LinearAlgebra.Transpose{<:Any, <:SparseArrays.AbstractSparseMatrixCSC}</b>, x::<b>SparseArrays.AbstractSparseVector</b>) in SparseArrays at <a href=\"file:///cache/build/default-amdci4-2/julialang/julia-release-1-dot-8/usr/share/julia/stdlib/v1.8/SparseArrays/src/sparsevector.jl\" target=\"_blank\">/julia/julia-1.8.5/share/julia/stdlib/v1.8/SparseArrays/src/sparsevector.jl:1820</a></li> <li> *(x::<b>LinearAlgebra.Transpose{T, <:AbstractVector} where T</b>, D::<b>LinearAlgebra.Diagonal</b>) in LinearAlgebra at <a href=\"file:///cache/build/default-amdci4-2/julialang/julia-release-1-dot-8/usr/share/julia/stdlib/v1.8/LinearAlgebra/src/diagonal.jl\" target=\"_blank\">/julia/julia-1.8.5/share/julia/stdlib/v1.8/LinearAlgebra/src/diagonal.jl:753</a></li> <li> *(x::<b>LinearAlgebra.Transpose{T, <:AbstractVector} where T</b>, D::<b>LinearAlgebra.Diagonal</b>, y::<b>AbstractVector</b>) in LinearAlgebra at <a href=\"file:///cache/build/default-amdci4-2/julialang/julia-release-1-dot-8/usr/share/julia/stdlib/v1.8/LinearAlgebra/src/diagonal.jl\" target=\"_blank\">/julia/julia-1.8.5/share/julia/stdlib/v1.8/LinearAlgebra/src/diagonal.jl:755</a></li> <li> *(transA::<b>LinearAlgebra.Transpose{<:Any, <:AbstractMatrix}</b>, D::<b>LinearAlgebra.Diagonal</b>) in LinearAlgebra at <a href=\"file:///cache/build/default-amdci4-2/julialang/julia-release-1-dot-8/usr/share/julia/stdlib/v1.8/LinearAlgebra/src/diagonal.jl\" target=\"_blank\">/julia/julia-1.8.5/share/julia/stdlib/v1.8/LinearAlgebra/src/diagonal.jl:263</a></li> <li> *(u::<b>LinearAlgebra.Transpose{T, <:AbstractVector}</b>, v::<b>AbstractVector{T}</b>)<i> where T<:Real</i> in LinearAlgebra at <a href=\"file:///cache/build/default-amdci4-2/julialang/julia-release-1-dot-8/usr/share/julia/stdlib/v1.8/LinearAlgebra/src/adjtrans.jl\" target=\"_blank\">/julia/julia-1.8.5/share/julia/stdlib/v1.8/LinearAlgebra/src/adjtrans.jl:310</a></li> <li> *(u::<b>LinearAlgebra.Transpose{T, <:AbstractVector} where T</b>, v::<b>LinearAlgebra.Transpose{<:Any, <:LinearAlgebra.Adjoint{T, <:AbstractVector} where T}</b>) in LinearAlgebra at <a href=\"file:///cache/build/default-amdci4-2/julialang/julia-release-1-dot-8/usr/share/julia/stdlib/v1.8/LinearAlgebra/src/adjtrans.jl\" target=\"_blank\">/julia/julia-1.8.5/share/julia/stdlib/v1.8/LinearAlgebra/src/adjtrans.jl:325</a></li> <li> *(A::<b>LinearAlgebra.Transpose{<:Any, <:SparseArrays.AbstractSparseMatrixCSC}</b>, B::<b>LinearAlgebra.Transpose{<:Any, <:SparseArrays.AbstractSparseMatrixCSC}</b>) in SparseArrays at <a href=\"file:///cache/build/default-amdci4-2/julialang/julia-release-1-dot-8/usr/share/julia/stdlib/v1.8/SparseArrays/src/linalg.jl\" target=\"_blank\">/julia/julia-1.8.5/share/julia/stdlib/v1.8/SparseArrays/src/linalg.jl:162</a></li> <li> *(tu::<b>Union{LinearAlgebra.Adjoint{T, var\"#s886\"}, LinearAlgebra.Transpose{T, var\"#s886\"}} where {T, var\"#s886\"<:(AbstractVector)}</b>, B::<b>Union{LinearAlgebra.Adjoint{T, var\"#s886\"}, LinearAlgebra.Transpose{T, var\"#s886\"}} where {T, var\"#s886\"<:(AbstractMatrix)}</b>, v::<b>AbstractVector</b>) in LinearAlgebra at <a href=\"file:///cache/build/default-amdci4-2/julialang/julia-release-1-dot-8/usr/share/julia/stdlib/v1.8/LinearAlgebra/src/matmul.jl\" target=\"_blank\">/julia/julia-1.8.5/share/julia/stdlib/v1.8/LinearAlgebra/src/matmul.jl:1153</a></li> <li> *(tA::<b>LinearAlgebra.Transpose{<:Any, <:AbstractMatrix{T}}</b>, x::<b>AbstractVector{S}</b>)<i> where {T, S}</i> in LinearAlgebra at <a href=\"file:///cache/build/default-amdci4-2/julialang/julia-release-1-dot-8/usr/share/julia/stdlib/v1.8/LinearAlgebra/src/matmul.jl\" target=\"_blank\">/julia/julia-1.8.5/share/julia/stdlib/v1.8/LinearAlgebra/src/matmul.jl:88</a></li> <li> *(u::<b>LinearAlgebra.Transpose{T, <:AbstractVector} where T</b>, v::<b>LinearAlgebra.Transpose{T, <:AbstractVector} where T</b>) in LinearAlgebra at <a href=\"file:///cache/build/default-amdci4-2/julialang/julia-release-1-dot-8/usr/share/julia/stdlib/v1.8/LinearAlgebra/src/adjtrans.jl\" target=\"_blank\">/julia/julia-1.8.5/share/julia/stdlib/v1.8/LinearAlgebra/src/adjtrans.jl:319</a></li> <li> *(A::<b>LinearAlgebra.Transpose{<:Any, <:AbstractMatrix}</b>, B::<b>LinearAlgebra.AbstractTriangular</b>) in LinearAlgebra at <a href=\"file:///cache/build/default-amdci4-2/julialang/julia-release-1-dot-8/usr/share/julia/stdlib/v1.8/LinearAlgebra/src/triangular.jl\" target=\"_blank\">/julia/julia-1.8.5/share/julia/stdlib/v1.8/LinearAlgebra/src/triangular.jl:1687</a></li> <li> *(v::<b>LinearAlgebra.Transpose{T, <:AbstractVector} where T</b>, A::<b>LinearAlgebra.AbstractTriangular</b>) in LinearAlgebra at <a href=\"file:///cache/build/default-amdci4-2/julialang/julia-release-1-dot-8/usr/share/julia/stdlib/v1.8/LinearAlgebra/src/triangular.jl\" target=\"_blank\">/julia/julia-1.8.5/share/julia/stdlib/v1.8/LinearAlgebra/src/triangular.jl:1679</a></li> <li> *(u::<b>Union{LinearAlgebra.Adjoint{T, var\"#s886\"}, LinearAlgebra.Transpose{T, var\"#s886\"}} where {T, var\"#s886\"<:(AbstractVector)}</b>, v::<b>AbstractVector</b>) in LinearAlgebra at <a href=\"file:///cache/build/default-amdci4-2/julialang/julia-release-1-dot-8/usr/share/julia/stdlib/v1.8/LinearAlgebra/src/adjtrans.jl\" target=\"_blank\">/julia/julia-1.8.5/share/julia/stdlib/v1.8/LinearAlgebra/src/adjtrans.jl:311</a></li> <li> *(x::<b>LinearAlgebra.Transpose{T, <:AbstractVector} where T</b>, A::<b>AbstractMatrix</b>) in LinearAlgebra at <a href=\"file:///cache/build/default-amdci4-2/julialang/julia-release-1-dot-8/usr/share/julia/stdlib/v1.8/LinearAlgebra/src/matmul.jl\" target=\"_blank\">/julia/julia-1.8.5/share/julia/stdlib/v1.8/LinearAlgebra/src/matmul.jl:120</a></li> <li> *(tu::<b>Union{LinearAlgebra.Adjoint{T, var\"#s886\"}, LinearAlgebra.Transpose{T, var\"#s886\"}} where {T, var\"#s886\"<:(AbstractVector)}</b>, B::<b>AbstractMatrix</b>, v::<b>AbstractVector</b>) in LinearAlgebra at <a href=\"file:///cache/build/default-amdci4-2/julialang/julia-release-1-dot-8/usr/share/julia/stdlib/v1.8/LinearAlgebra/src/matmul.jl\" target=\"_blank\">/julia/julia-1.8.5/share/julia/stdlib/v1.8/LinearAlgebra/src/matmul.jl:1152</a></li> <li> *(tv::<b>Union{LinearAlgebra.Adjoint{T, var\"#s886\"}, LinearAlgebra.Transpose{T, var\"#s886\"}} where {T, var\"#s886\"<:(AbstractVector)}</b>, B::<b>AbstractMatrix</b>, C::<b>AbstractMatrix</b>) in LinearAlgebra at <a href=\"file:///cache/build/default-amdci4-2/julialang/julia-release-1-dot-8/usr/share/julia/stdlib/v1.8/LinearAlgebra/src/matmul.jl\" target=\"_blank\">/julia/julia-1.8.5/share/julia/stdlib/v1.8/LinearAlgebra/src/matmul.jl:1167</a></li> <li> *(vt::<b>Union{LinearAlgebra.Adjoint{T, var\"#s886\"}, LinearAlgebra.Transpose{T, var\"#s886\"}} where {T, var\"#s886\"<:(AbstractVector)}</b>, B::<b>AbstractMatrix</b>, x::<b>AbstractVector</b>, δ::<b>Number</b>) in LinearAlgebra at <a href=\"file:///cache/build/default-amdci4-2/julialang/julia-release-1-dot-8/usr/share/julia/stdlib/v1.8/LinearAlgebra/src/matmul.jl\" target=\"_blank\">/julia/julia-1.8.5/share/julia/stdlib/v1.8/LinearAlgebra/src/matmul.jl:1224</a></li> <li> *(vt::<b>Union{LinearAlgebra.Adjoint{T, var\"#s886\"}, LinearAlgebra.Transpose{T, var\"#s886\"}} where {T, var\"#s886\"<:(AbstractVector)}</b>, B::<b>AbstractMatrix</b>, C::<b>AbstractMatrix</b>, δ::<b>Number</b>) in LinearAlgebra at <a href=\"file:///cache/build/default-amdci4-2/julialang/julia-release-1-dot-8/usr/share/julia/stdlib/v1.8/LinearAlgebra/src/matmul.jl\" target=\"_blank\">/julia/julia-1.8.5/share/julia/stdlib/v1.8/LinearAlgebra/src/matmul.jl:1225</a></li> <li> *(vt::<b>Union{LinearAlgebra.Adjoint{T, var\"#s886\"}, LinearAlgebra.Transpose{T, var\"#s886\"}} where {T, var\"#s886\"<:(AbstractVector)}</b>, B::<b>AbstractMatrix</b>, C::<b>AbstractMatrix</b>, D::<b>AbstractMatrix</b>) in LinearAlgebra at <a href=\"file:///cache/build/default-amdci4-2/julialang/julia-release-1-dot-8/usr/share/julia/stdlib/v1.8/LinearAlgebra/src/matmul.jl\" target=\"_blank\">/julia/julia-1.8.5/share/julia/stdlib/v1.8/LinearAlgebra/src/matmul.jl:1228</a></li> <li> *(vt::<b>Union{LinearAlgebra.Adjoint{T, var\"#s886\"}, LinearAlgebra.Transpose{T, var\"#s886\"}} where {T, var\"#s886\"<:(AbstractVector)}</b>, B::<b>AbstractMatrix</b>, C::<b>AbstractMatrix</b>, x::<b>AbstractVector</b>) in LinearAlgebra at <a href=\"file:///cache/build/default-amdci4-2/julialang/julia-release-1-dot-8/usr/share/julia/stdlib/v1.8/LinearAlgebra/src/matmul.jl\" target=\"_blank\">/julia/julia-1.8.5/share/julia/stdlib/v1.8/LinearAlgebra/src/matmul.jl:1229</a></li> <li> *(x::<b>Real</b>, r::<b>StepRangeLen{<:Real, <:Base.TwicePrecision}</b>) in Base at <a href=\"https://github.com/JuliaLang/julia/tree/17cfb8e65ead377bf1b4598d8a9869144142c84e/base/twiceprecision.jl#L552\" target=\"_blank\">twiceprecision.jl:552</a></li> <li> *(x::<b>Real</b>, A::<b>LinearAlgebra.Hermitian</b>) in LinearAlgebra at <a href=\"file:///cache/build/default-amdci4-2/julialang/julia-release-1-dot-8/usr/share/julia/stdlib/v1.8/LinearAlgebra/src/symmetric.jl\" target=\"_blank\">/julia/julia-1.8.5/share/julia/stdlib/v1.8/LinearAlgebra/src/symmetric.jl:607</a></li> <li> *(α::<b>Union{Real, Complex}</b>, B::<b>AbstractMatrix{<:Union{Real, Complex}}</b>, C::<b>AbstractVector{<:Union{Real, Complex}}</b>) in LinearAlgebra at <a href=\"file:///cache/build/default-amdci4-2/julialang/julia-release-1-dot-8/usr/share/julia/stdlib/v1.8/LinearAlgebra/src/matmul.jl\" target=\"_blank\">/julia/julia-1.8.5/share/julia/stdlib/v1.8/LinearAlgebra/src/matmul.jl:1157</a></li> <li> *(α::<b>Union{Real, Complex}</b>, B::<b>AbstractMatrix{<:Union{Real, Complex}}</b>, C::<b>AbstractMatrix{<:Union{Real, Complex}}</b>) in LinearAlgebra at <a href=\"file:///cache/build/default-amdci4-2/julialang/julia-release-1-dot-8/usr/share/julia/stdlib/v1.8/LinearAlgebra/src/matmul.jl\" target=\"_blank\">/julia/julia-1.8.5/share/julia/stdlib/v1.8/LinearAlgebra/src/matmul.jl:1159</a></li> <li> *(α::<b>Union{Real, Complex}</b>, B::<b>AbstractMatrix{<:Union{Real, Complex}}</b>, C::<b>AbstractMatrix{<:Union{Real, Complex}}</b>, D::<b>AbstractMatrix{<:Union{Real, Complex}}</b>) in LinearAlgebra at <a href=\"file:///cache/build/default-amdci4-2/julialang/julia-release-1-dot-8/usr/share/julia/stdlib/v1.8/LinearAlgebra/src/matmul.jl\" target=\"_blank\">/julia/julia-1.8.5/share/julia/stdlib/v1.8/LinearAlgebra/src/matmul.jl:1233</a></li> <li> *(y::<b>Real</b>, x::<b>Dates.Period</b>) in Dates at <a href=\"file:///cache/build/default-amdci4-2/julialang/julia-release-1-dot-8/usr/share/julia/stdlib/v1.8/Dates/src/periods.jl\" target=\"_blank\">/julia/julia-1.8.5/share/julia/stdlib/v1.8/Dates/src/periods.jl:93</a></li> <li> *(a::<b>Number</b>, x::<b>Union{SparseArrays.SparseVector{Tv, Ti}, SubArray{Tv, 1, <:SparseArrays.AbstractSparseMatrixCSC{Tv, Ti}, Tuple{Base.Slice{Base.OneTo{Int64}}, Int64}, false}, SubArray{Tv, 1, <:SparseArrays.AbstractSparseVector{Tv, Ti}, Tuple{Base.Slice{Base.OneTo{Int64}}}, false}} where {Tv, Ti}</b>) in SparseArrays at <a href=\"file:///cache/build/default-amdci4-2/julialang/julia-release-1-dot-8/usr/share/julia/stdlib/v1.8/SparseArrays/src/sparsevector.jl\" target=\"_blank\">/julia/julia-1.8.5/share/julia/stdlib/v1.8/SparseArrays/src/sparsevector.jl:1520</a></li> <li> *(x::<b>Number</b>, A::<b>LinearAlgebra.Symmetric</b>) in LinearAlgebra at <a href=\"file:///cache/build/default-amdci4-2/julialang/julia-release-1-dot-8/usr/share/julia/stdlib/v1.8/LinearAlgebra/src/symmetric.jl\" target=\"_blank\">/julia/julia-1.8.5/share/julia/stdlib/v1.8/LinearAlgebra/src/symmetric.jl:605</a></li> <li> *(x::<b>Number</b>, A::<b>LinearAlgebra.UpperTriangular</b>) in LinearAlgebra at <a href=\"file:///cache/build/default-amdci4-2/julialang/julia-release-1-dot-8/usr/share/julia/stdlib/v1.8/LinearAlgebra/src/triangular.jl\" target=\"_blank\">/julia/julia-1.8.5/share/julia/stdlib/v1.8/LinearAlgebra/src/triangular.jl:861</a></li> <li> *(v::<b>Number</b>, x::<b>Base.TwicePrecision</b>) in Base at <a href=\"https://github.com/JuliaLang/julia/tree/17cfb8e65ead377bf1b4598d8a9869144142c84e/base/twiceprecision.jl#L317\" target=\"_blank\">twiceprecision.jl:317</a></li> <li> *(x::<b>Number</b>, A::<b>LinearAlgebra.UnitUpperTriangular</b>) in LinearAlgebra at <a href=\"file:///cache/build/default-amdci4-2/julialang/julia-release-1-dot-8/usr/share/julia/stdlib/v1.8/LinearAlgebra/src/triangular.jl\" target=\"_blank\">/julia/julia-1.8.5/share/julia/stdlib/v1.8/LinearAlgebra/src/triangular.jl:863</a></li> <li> *(B::<b>Number</b>, A::<b>LinearAlgebra.SymTridiagonal</b>) in LinearAlgebra at <a href=\"file:///cache/build/default-amdci4-2/julialang/julia-release-1-dot-8/usr/share/julia/stdlib/v1.8/LinearAlgebra/src/tridiag.jl\" target=\"_blank\">/julia/julia-1.8.5/share/julia/stdlib/v1.8/LinearAlgebra/src/tridiag.jl:211</a></li> <li> *(x::<b>Number</b>, J::<b>LinearAlgebra.UniformScaling</b>) in LinearAlgebra at <a href=\"file:///cache/build/default-amdci4-2/julialang/julia-release-1-dot-8/usr/share/julia/stdlib/v1.8/LinearAlgebra/src/uniformscaling.jl\" target=\"_blank\">/julia/julia-1.8.5/share/julia/stdlib/v1.8/LinearAlgebra/src/uniformscaling.jl:263</a></li> <li> *(x::<b>Number</b>, A::<b>LinearAlgebra.UnitLowerTriangular</b>) in LinearAlgebra at <a href=\"file:///cache/build/default-amdci4-2/julialang/julia-release-1-dot-8/usr/share/julia/stdlib/v1.8/LinearAlgebra/src/triangular.jl\" target=\"_blank\">/julia/julia-1.8.5/share/julia/stdlib/v1.8/LinearAlgebra/src/triangular.jl:863</a></li> <li> *(x::<b>S</b>, F::<b>LinearAlgebra.Hessenberg{<:Any, <:AbstractMatrix{T}}</b>)<i> where {T, S<:Number}</i> in LinearAlgebra at <a href=\"file:///cache/build/default-amdci4-2/julialang/julia-release-1-dot-8/usr/share/julia/stdlib/v1.8/LinearAlgebra/src/hessenberg.jl\" target=\"_blank\">/julia/julia-1.8.5/share/julia/stdlib/v1.8/LinearAlgebra/src/hessenberg.jl:630</a></li> <li> *(x::<b>Number</b>, D::<b>LinearAlgebra.Diagonal</b>) in LinearAlgebra at <a href=\"file:///cache/build/default-amdci4-2/julialang/julia-release-1-dot-8/usr/share/julia/stdlib/v1.8/LinearAlgebra/src/diagonal.jl\" target=\"_blank\">/julia/julia-1.8.5/share/julia/stdlib/v1.8/LinearAlgebra/src/diagonal.jl:202</a></li> <li> *(a::<b>Number</b>, B::<b>LinearAlgebra.AbstractQ</b>) in LinearAlgebra at <a href=\"file:///cache/build/default-amdci4-2/julialang/julia-release-1-dot-8/usr/share/julia/stdlib/v1.8/LinearAlgebra/src/qr.jl\" target=\"_blank\">/julia/julia-1.8.5/share/julia/stdlib/v1.8/LinearAlgebra/src/qr.jl:780</a></li> <li> *(B::<b>Number</b>, A::<b>LinearAlgebra.Tridiagonal</b>) in LinearAlgebra at <a href=\"file:///cache/build/default-amdci4-2/julialang/julia-release-1-dot-8/usr/share/julia/stdlib/v1.8/LinearAlgebra/src/tridiag.jl\" target=\"_blank\">/julia/julia-1.8.5/share/julia/stdlib/v1.8/LinearAlgebra/src/tridiag.jl:745</a></li> <li> *(x::<b>Number</b>, A::<b>LinearAlgebra.LowerTriangular</b>) in LinearAlgebra at <a href=\"file:///cache/build/default-amdci4-2/julialang/julia-release-1-dot-8/usr/share/julia/stdlib/v1.8/LinearAlgebra/src/triangular.jl\" target=\"_blank\">/julia/julia-1.8.5/share/julia/stdlib/v1.8/LinearAlgebra/src/triangular.jl:861</a></li> <li> *(B::<b>Number</b>, A::<b>LinearAlgebra.Bidiagonal</b>) in LinearAlgebra at <a href=\"file:///cache/build/default-amdci4-2/julialang/julia-release-1-dot-8/usr/share/julia/stdlib/v1.8/LinearAlgebra/src/bidiag.jl\" target=\"_blank\">/julia/julia-1.8.5/share/julia/stdlib/v1.8/LinearAlgebra/src/bidiag.jl:385</a></li> <li> *(x::<b>Number</b>, H::<b>LinearAlgebra.UpperHessenberg</b>) in LinearAlgebra at <a href=\"file:///cache/build/default-amdci4-2/julialang/julia-release-1-dot-8/usr/share/julia/stdlib/v1.8/LinearAlgebra/src/hessenberg.jl\" target=\"_blank\">/julia/julia-1.8.5/share/julia/stdlib/v1.8/LinearAlgebra/src/hessenberg.jl:117</a></li> <li> *(α::<b>Number</b>, B::<b>AbstractMatrix</b>, C::<b>AbstractMatrix</b>, x::<b>AbstractVector</b>) in LinearAlgebra at <a href=\"file:///cache/build/default-amdci4-2/julialang/julia-release-1-dot-8/usr/share/julia/stdlib/v1.8/LinearAlgebra/src/matmul.jl\" target=\"_blank\">/julia/julia-1.8.5/share/julia/stdlib/v1.8/LinearAlgebra/src/matmul.jl:1216</a></li> <li> *(α::<b>Number</b>, u::<b>AbstractVector</b>, tv::<b>Union{LinearAlgebra.Adjoint{T, var\"#s886\"}, LinearAlgebra.Transpose{T, var\"#s886\"}} where {T, var\"#s886\"<:(AbstractVector)}</b>) in LinearAlgebra at <a href=\"file:///cache/build/default-amdci4-2/julialang/julia-release-1-dot-8/usr/share/julia/stdlib/v1.8/LinearAlgebra/src/matmul.jl\" target=\"_blank\">/julia/julia-1.8.5/share/julia/stdlib/v1.8/LinearAlgebra/src/matmul.jl:1162</a></li> <li> *(A::<b>Number</b>, B::<b>AbstractArray</b>) in Base at <a href=\"https://github.com/JuliaLang/julia/tree/17cfb8e65ead377bf1b4598d8a9869144142c84e/base/arraymath.jl#L21\" target=\"_blank\">arraymath.jl:21</a></li> <li> *(::<b>Number</b>, ::<b>Missing</b>) in Base at <a href=\"https://github.com/JuliaLang/julia/tree/17cfb8e65ead377bf1b4598d8a9869144142c84e/base/missing.jl#L124\" target=\"_blank\">missing.jl:124</a></li> <li> *(x::<b>Rational</b>, y::<b>Integer</b>) in Base at <a href=\"https://github.com/JuliaLang/julia/tree/17cfb8e65ead377bf1b4598d8a9869144142c84e/base/rational.jl#L338\" target=\"_blank\">rational.jl:338</a></li> <li> *(x::<b>P</b>, y::<b>Real</b>)<i> where P<:Dates.Period</i> in Dates at <a href=\"file:///cache/build/default-amdci4-2/julialang/julia-release-1-dot-8/usr/share/julia/stdlib/v1.8/Dates/src/periods.jl\" target=\"_blank\">/julia/julia-1.8.5/share/julia/stdlib/v1.8/Dates/src/periods.jl:92</a></li> <li> *(x::<b>Dates.Period</b>, r::<b>AbstractRange{<:Real}</b>) in Dates at <a href=\"file:///cache/build/default-amdci4-2/julialang/julia-release-1-dot-8/usr/share/julia/stdlib/v1.8/Dates/src/ranges.jl\" target=\"_blank\">/julia/julia-1.8.5/share/julia/stdlib/v1.8/Dates/src/ranges.jl:66</a></li> <li> *(A::<b>Dates.Period</b>, B::<b>AbstractArray</b>) in Dates at <a href=\"file:///cache/build/default-amdci4-2/julialang/julia-release-1-dot-8/usr/share/julia/stdlib/v1.8/Dates/src/periods.jl\" target=\"_blank\">/julia/julia-1.8.5/share/julia/stdlib/v1.8/Dates/src/periods.jl:95</a></li> <li> *(A::<b>LinearAlgebra.UnitUpperTriangular</b>, x::<b>Number</b>) in LinearAlgebra at <a href=\"file:///cache/build/default-amdci4-2/julialang/julia-release-1-dot-8/usr/share/julia/stdlib/v1.8/LinearAlgebra/src/triangular.jl\" target=\"_blank\">/julia/julia-1.8.5/share/julia/stdlib/v1.8/LinearAlgebra/src/triangular.jl:853</a></li> <li> *(A::<b>LinearAlgebra.UnitUpperTriangular</b>, B::<b>LinearAlgebra.UpperTriangular</b>) in LinearAlgebra at <a href=\"file:///cache/build/default-amdci4-2/julialang/julia-release-1-dot-8/usr/share/julia/stdlib/v1.8/LinearAlgebra/src/triangular.jl\" target=\"_blank\">/julia/julia-1.8.5/share/julia/stdlib/v1.8/LinearAlgebra/src/triangular.jl:1552</a></li> <li> *(A::<b>LinearAlgebra.UnitUpperTriangular</b>, B::<b>LinearAlgebra.UnitUpperTriangular</b>) in LinearAlgebra at <a href=\"file:///cache/build/default-amdci4-2/julialang/julia-release-1-dot-8/usr/share/julia/stdlib/v1.8/LinearAlgebra/src/triangular.jl\" target=\"_blank\">/julia/julia-1.8.5/share/julia/stdlib/v1.8/LinearAlgebra/src/triangular.jl:1566</a></li> <li> *(A::<b>LinearAlgebra.UnitUpperTriangular</b>, D::<b>LinearAlgebra.Diagonal</b>) in LinearAlgebra at <a href=\"file:///cache/build/default-amdci4-2/julialang/julia-release-1-dot-8/usr/share/julia/stdlib/v1.8/LinearAlgebra/src/diagonal.jl\" target=\"_blank\">/julia/julia-1.8.5/share/julia/stdlib/v1.8/LinearAlgebra/src/diagonal.jl:551</a></li> <li> *(A::<b>LinearAlgebra.SymTridiagonal</b>, B::<b>Number</b>) in LinearAlgebra at <a href=\"file:///cache/build/default-amdci4-2/julialang/julia-release-1-dot-8/usr/share/julia/stdlib/v1.8/LinearAlgebra/src/tridiag.jl\" target=\"_blank\">/julia/julia-1.8.5/share/julia/stdlib/v1.8/LinearAlgebra/src/tridiag.jl:210</a></li> <li> *(A::<b>LinearAlgebra.SymTridiagonal</b>, B::<b>LinearAlgebra.Diagonal</b>) in LinearAlgebra at <a href=\"file:///cache/build/default-amdci4-2/julialang/julia-release-1-dot-8/usr/share/julia/stdlib/v1.8/LinearAlgebra/src/bidiag.jl\" target=\"_blank\">/julia/julia-1.8.5/share/julia/stdlib/v1.8/LinearAlgebra/src/bidiag.jl:691</a></li> <li> *(r::<b>AbstractRange{<:Real}</b>, x::<b>Dates.Period</b>) in Dates at <a href=\"file:///cache/build/default-amdci4-2/julialang/julia-release-1-dot-8/usr/share/julia/stdlib/v1.8/Dates/src/ranges.jl\" target=\"_blank\">/julia/julia-1.8.5/share/julia/stdlib/v1.8/Dates/src/ranges.jl:67</a></li> <li> *(A::<b>AbstractArray</b>, B::<b>Dates.Period</b>) in Dates at <a href=\"file:///cache/build/default-amdci4-2/julialang/julia-release-1-dot-8/usr/share/julia/stdlib/v1.8/Dates/src/periods.jl\" target=\"_blank\">/julia/julia-1.8.5/share/julia/stdlib/v1.8/Dates/src/periods.jl:96</a></li> <li> *(A::<b>LinearAlgebra.AbstractTriangular</b>, B::<b>LinearAlgebra.Transpose{<:Any, <:AbstractMatrix}</b>) in LinearAlgebra at <a href=\"file:///cache/build/default-amdci4-2/julialang/julia-release-1-dot-8/usr/share/julia/stdlib/v1.8/LinearAlgebra/src/triangular.jl\" target=\"_blank\">/julia/julia-1.8.5/share/julia/stdlib/v1.8/LinearAlgebra/src/triangular.jl:1689</a></li> <li> *(A::<b>LinearAlgebra.AbstractTriangular</b>, B::<b>LinearAlgebra.Transpose{T, <:AbstractVector} where T</b>) in LinearAlgebra at <a href=\"file:///cache/build/default-amdci4-2/julialang/julia-release-1-dot-8/usr/share/julia/stdlib/v1.8/LinearAlgebra/src/triangular.jl\" target=\"_blank\">/julia/julia-1.8.5/share/julia/stdlib/v1.8/LinearAlgebra/src/triangular.jl:2663</a></li> <li> *(A::<b>LinearAlgebra.AbstractTriangular</b>, B::<b>Union{LinearAlgebra.SymTridiagonal, LinearAlgebra.Tridiagonal}</b>) in LinearAlgebra at <a href=\"file:///cache/build/default-amdci4-2/julialang/julia-release-1-dot-8/usr/share/julia/stdlib/v1.8/LinearAlgebra/src/bidiag.jl\" target=\"_blank\">/julia/julia-1.8.5/share/julia/stdlib/v1.8/LinearAlgebra/src/bidiag.jl:639</a></li> <li> *(A::<b>LinearAlgebra.AbstractTriangular</b>, B::<b>LinearAlgebra.Adjoint{<:Any, <:LinearAlgebra.AbstractRotation}</b>) in LinearAlgebra at <a href=\"file:///cache/build/default-amdci4-2/julialang/julia-release-1-dot-8/usr/share/julia/stdlib/v1.8/LinearAlgebra/src/givens.jl\" target=\"_blank\">/julia/julia-1.8.5/share/julia/stdlib/v1.8/LinearAlgebra/src/givens.jl:408</a></li> <li> *(A::<b>LinearAlgebra.AbstractTriangular</b>, Q::<b>LinearAlgebra.AbstractQ</b>) in LinearAlgebra at <a href=\"file:///cache/build/default-amdci4-2/julialang/julia-release-1-dot-8/usr/share/julia/stdlib/v1.8/LinearAlgebra/src/special.jl\" target=\"_blank\">/julia/julia-1.8.5/share/julia/stdlib/v1.8/LinearAlgebra/src/special.jl:343</a></li> <li> *(A::<b>LinearAlgebra.AbstractTriangular</b>, Q::<b>LinearAlgebra.Adjoint{<:Any, <:LinearAlgebra.AbstractQ}</b>) in LinearAlgebra at <a href=\"file:///cache/build/default-amdci4-2/julialang/julia-release-1-dot-8/usr/share/julia/stdlib/v1.8/LinearAlgebra/src/special.jl\" target=\"_blank\">/julia/julia-1.8.5/share/julia/stdlib/v1.8/LinearAlgebra/src/special.jl:344</a></li> <li> *(A::<b>LinearAlgebra.AbstractTriangular</b>, B::<b>LinearAlgebra.Adjoint{<:Any, <:AbstractMatrix}</b>) in LinearAlgebra at <a href=\"file:///cache/build/default-amdci4-2/julialang/julia-release-1-dot-8/usr/share/julia/stdlib/v1.8/LinearAlgebra/src/triangular.jl\" target=\"_blank\">/julia/julia-1.8.5/share/julia/stdlib/v1.8/LinearAlgebra/src/triangular.jl:1688</a></li> <li> *(A::<b>LinearAlgebra.AbstractTriangular</b>, B::<b>LinearAlgebra.Adjoint{T, <:AbstractVector} where T</b>) in LinearAlgebra at <a href=\"file:///cache/build/default-amdci4-2/julialang/julia-release-1-dot-8/usr/share/julia/stdlib/v1.8/LinearAlgebra/src/triangular.jl\" target=\"_blank\">/julia/julia-1.8.5/share/julia/stdlib/v1.8/LinearAlgebra/src/triangular.jl:2662</a></li> <li> *(A::<b>LinearAlgebra.Tridiagonal</b>, B::<b>Number</b>) in LinearAlgebra at <a href=\"file:///cache/build/default-amdci4-2/julialang/julia-release-1-dot-8/usr/share/julia/stdlib/v1.8/LinearAlgebra/src/tridiag.jl\" target=\"_blank\">/julia/julia-1.8.5/share/julia/stdlib/v1.8/LinearAlgebra/src/tridiag.jl:744</a></li> <li> *(x::<b>AbstractIrrational</b>, y::<b>AbstractIrrational</b>) in Base at <a href=\"https://github.com/JuliaLang/julia/tree/17cfb8e65ead377bf1b4598d8a9869144142c84e/base/irrationals.jl#L158\" target=\"_blank\">irrationals.jl:158</a></li> <li> *(A::<b>LinearAlgebra.Bidiagonal</b>, B::<b>Number</b>) in LinearAlgebra at <a href=\"file:///cache/build/default-amdci4-2/julialang/julia-release-1-dot-8/usr/share/julia/stdlib/v1.8/LinearAlgebra/src/bidiag.jl\" target=\"_blank\">/julia/julia-1.8.5/share/julia/stdlib/v1.8/LinearAlgebra/src/bidiag.jl:384</a></li> <li> *(A::<b>LinearAlgebra.Bidiagonal</b>, B::<b>Union{LinearAlgebra.UnitUpperTriangular{T, S} where S<:AbstractMatrix{T}, LinearAlgebra.UpperTriangular{T, S} where S<:AbstractMatrix{T}} where T</b>) in LinearAlgebra at <a href=\"file:///cache/build/default-amdci4-2/julialang/julia-release-1-dot-8/usr/share/julia/stdlib/v1.8/LinearAlgebra/src/bidiag.jl\" target=\"_blank\">/julia/julia-1.8.5/share/julia/stdlib/v1.8/LinearAlgebra/src/bidiag.jl:664</a></li> <li> *(A::<b>LinearAlgebra.Bidiagonal</b>, B::<b>Union{LinearAlgebra.LowerTriangular{T, S} where S<:AbstractMatrix{T}, LinearAlgebra.UnitLowerTriangular{T, S} where S<:AbstractMatrix{T}} where T</b>) in LinearAlgebra at <a href=\"file:///cache/build/default-amdci4-2/julialang/julia-release-1-dot-8/usr/share/julia/stdlib/v1.8/LinearAlgebra/src/bidiag.jl\" target=\"_blank\">/julia/julia-1.8.5/share/julia/stdlib/v1.8/LinearAlgebra/src/bidiag.jl:670</a></li> <li> *(B::<b>LinearAlgebra.Bidiagonal</b>, H::<b>LinearAlgebra.UpperHessenberg</b>) in LinearAlgebra at <a href=\"file:///cache/build/default-amdci4-2/julialang/julia-release-1-dot-8/usr/share/julia/stdlib/v1.8/LinearAlgebra/src/hessenberg.jl\" target=\"_blank\">/julia/julia-1.8.5/share/julia/stdlib/v1.8/LinearAlgebra/src/hessenberg.jl:167</a></li> <li> *(r::<b>StepRangeLen{<:Real, <:Base.TwicePrecision}</b>, x::<b>Real</b>) in Base at <a href=\"https://github.com/JuliaLang/julia/tree/17cfb8e65ead377bf1b4598d8a9869144142c84e/base/twiceprecision.jl#L554\" target=\"_blank\">twiceprecision.jl:554</a></li> <li> *(A::<b>LinearAlgebra.LQ{TA, S, C} where {S<:AbstractMatrix{TA}, C<:AbstractVector{TA}}</b>, B::<b>StridedVecOrMat{TB}</b>)<i> where {TA, TB}</i> in LinearAlgebra at <a href=\"file:///cache/build/default-amdci4-2/julialang/julia-release-1-dot-8/usr/share/julia/stdlib/v1.8/LinearAlgebra/src/lq.jl\" target=\"_blank\">/julia/julia-1.8.5/share/julia/stdlib/v1.8/LinearAlgebra/src/lq.jl:198</a></li> <li> *(index::<b>CartesianIndex</b>, a::<b>Integer</b>) in Base.IteratorsMD at <a href=\"https://github.com/JuliaLang/julia/tree/17cfb8e65ead377bf1b4598d8a9869144142c84e/base/multidimensional.jl#L124\" target=\"_blank\">multidimensional.jl:124</a></li> <li> *(H::<b>LinearAlgebra.UpperHessenberg</b>, x::<b>Number</b>) in LinearAlgebra at <a href=\"file:///cache/build/default-amdci4-2/julialang/julia-release-1-dot-8/usr/share/julia/stdlib/v1.8/LinearAlgebra/src/hessenberg.jl\" target=\"_blank\">/julia/julia-1.8.5/share/julia/stdlib/v1.8/LinearAlgebra/src/hessenberg.jl:116</a></li> <li> *(H::<b>LinearAlgebra.UpperHessenberg</b>, x::<b>LinearAlgebra.UniformScaling</b>) in LinearAlgebra at <a href=\"file:///cache/build/default-amdci4-2/julialang/julia-release-1-dot-8/usr/share/julia/stdlib/v1.8/LinearAlgebra/src/hessenberg.jl\" target=\"_blank\">/julia/julia-1.8.5/share/julia/stdlib/v1.8/LinearAlgebra/src/hessenberg.jl:116</a></li> <li> *(H::<b>LinearAlgebra.UpperHessenberg</b>, x::<b>LinearAlgebra.Diagonal</b>) in LinearAlgebra at <a href=\"file:///cache/build/default-amdci4-2/julialang/julia-release-1-dot-8/usr/share/julia/stdlib/v1.8/LinearAlgebra/src/hessenberg.jl\" target=\"_blank\">/julia/julia-1.8.5/share/julia/stdlib/v1.8/LinearAlgebra/src/hessenberg.jl:116</a></li> <li> *(H::<b>LinearAlgebra.UpperHessenberg</b>, U::<b>Union{LinearAlgebra.UnitUpperTriangular{T, S} where S<:AbstractMatrix{T}, LinearAlgebra.UpperTriangular{T, S} where S<:AbstractMatrix{T}} where T</b>) in LinearAlgebra at <a href=\"file:///cache/build/default-amdci4-2/julialang/julia-release-1-dot-8/usr/share/julia/stdlib/v1.8/LinearAlgebra/src/hessenberg.jl\" target=\"_blank\">/julia/julia-1.8.5/share/julia/stdlib/v1.8/LinearAlgebra/src/hessenberg.jl:123</a></li> <li> *(H::<b>LinearAlgebra.UpperHessenberg</b>, B::<b>LinearAlgebra.Bidiagonal</b>) in LinearAlgebra at <a href=\"file:///cache/build/default-amdci4-2/julialang/julia-release-1-dot-8/usr/share/julia/stdlib/v1.8/LinearAlgebra/src/hessenberg.jl\" target=\"_blank\">/julia/julia-1.8.5/share/julia/stdlib/v1.8/LinearAlgebra/src/hessenberg.jl:162</a></li> <li> *(R::<b>LinearAlgebra.AbstractRotation{T}</b>, A::<b>AbstractVecOrMat{S}</b>)<i> where {T, S}</i> in LinearAlgebra at <a href=\"file:///cache/build/default-amdci4-2/julialang/julia-release-1-dot-8/usr/share/julia/stdlib/v1.8/LinearAlgebra/src/givens.jl\" target=\"_blank\">/julia/julia-1.8.5/share/julia/stdlib/v1.8/LinearAlgebra/src/givens.jl:9</a></li> <li> *(x::<b>Base.TwicePrecision{<:Union{Float16, Float32, Float64}}</b>, v::<b>Integer</b>) in Base at <a href=\"https://github.com/JuliaLang/julia/tree/17cfb8e65ead377bf1b4598d8a9869144142c84e/base/twiceprecision.jl#L311\" target=\"_blank\">twiceprecision.jl:311</a></li> <li> *(x::<b>Base.TwicePrecision</b>, v::<b>Number</b>) in Base at <a href=\"https://github.com/JuliaLang/julia/tree/17cfb8e65ead377bf1b4598d8a9869144142c84e/base/twiceprecision.jl#L307\" target=\"_blank\">twiceprecision.jl:307</a></li> <li> *(x::<b>Base.TwicePrecision{T}</b>, y::<b>Base.TwicePrecision{T}</b>)<i> where T</i> in Base at <a href=\"https://github.com/JuliaLang/julia/tree/17cfb8e65ead377bf1b4598d8a9869144142c84e/base/twiceprecision.jl#L319\" target=\"_blank\">twiceprecision.jl:319</a></li> <li> *(x::<b>Base.TwicePrecision</b>, y::<b>Base.TwicePrecision</b>) in Base at <a href=\"https://github.com/JuliaLang/julia/tree/17cfb8e65ead377bf1b4598d8a9869144142c84e/base/twiceprecision.jl#L324\" target=\"_blank\">twiceprecision.jl:324</a></li> <li> *(A::<b>LinearAlgebra.LQPackedQ</b>, B::<b>StridedVecOrMat</b>) in LinearAlgebra at <a href=\"file:///cache/build/default-amdci4-2/julialang/julia-release-1-dot-8/usr/share/julia/stdlib/v1.8/LinearAlgebra/src/lq.jl\" target=\"_blank\">/julia/julia-1.8.5/share/julia/stdlib/v1.8/LinearAlgebra/src/lq.jl:206</a></li> <li> *(A::<b>LinearAlgebra.LQPackedQ</b>, adjB::<b>LinearAlgebra.Adjoint{<:Any, <:StridedVecOrMat}</b>) in LinearAlgebra at <a href=\"file:///cache/build/default-amdci4-2/julialang/julia-release-1-dot-8/usr/share/julia/stdlib/v1.8/LinearAlgebra/src/lq.jl\" target=\"_blank\">/julia/julia-1.8.5/share/julia/stdlib/v1.8/LinearAlgebra/src/lq.jl:230</a></li> <li> *(A::<b>LinearAlgebra.UnitLowerTriangular</b>, x::<b>Number</b>) in LinearAlgebra at <a href=\"file:///cache/build/default-amdci4-2/julialang/julia-release-1-dot-8/usr/share/julia/stdlib/v1.8/LinearAlgebra/src/triangular.jl\" target=\"_blank\">/julia/julia-1.8.5/share/julia/stdlib/v1.8/LinearAlgebra/src/triangular.jl:853</a></li> <li> *(A::<b>LinearAlgebra.UnitLowerTriangular</b>, B::<b>LinearAlgebra.LowerTriangular</b>) in LinearAlgebra at <a href=\"file:///cache/build/default-amdci4-2/julialang/julia-release-1-dot-8/usr/share/julia/stdlib/v1.8/LinearAlgebra/src/triangular.jl\" target=\"_blank\">/julia/julia-1.8.5/share/julia/stdlib/v1.8/LinearAlgebra/src/triangular.jl:1524</a></li> <li> *(A::<b>LinearAlgebra.UnitLowerTriangular</b>, B::<b>LinearAlgebra.UnitLowerTriangular</b>) in LinearAlgebra at <a href=\"file:///cache/build/default-amdci4-2/julialang/julia-release-1-dot-8/usr/share/julia/stdlib/v1.8/LinearAlgebra/src/triangular.jl\" target=\"_blank\">/julia/julia-1.8.5/share/julia/stdlib/v1.8/LinearAlgebra/src/triangular.jl:1538</a></li> <li> *(A::<b>LinearAlgebra.UnitLowerTriangular</b>, D::<b>LinearAlgebra.Diagonal</b>) in LinearAlgebra at <a href=\"file:///cache/build/default-amdci4-2/julialang/julia-release-1-dot-8/usr/share/julia/stdlib/v1.8/LinearAlgebra/src/diagonal.jl\" target=\"_blank\">/julia/julia-1.8.5/share/julia/stdlib/v1.8/LinearAlgebra/src/diagonal.jl:551</a></li> <li> *(A::<b>SparseArrays.AbstractSparseMatrixCSC</b>, x::<b>SparseArrays.AbstractSparseVector</b>) in SparseArrays at <a href=\"file:///cache/build/default-amdci4-2/julialang/julia-release-1-dot-8/usr/share/julia/stdlib/v1.8/SparseArrays/src/sparsevector.jl\" target=\"_blank\">/julia/julia-1.8.5/share/julia/stdlib/v1.8/SparseArrays/src/sparsevector.jl:1813</a></li> <li> *(A::<b>Union{SparseArrays.AbstractSparseMatrixCSC{Tv, Ti}, SubArray{Tv, 2, <:SparseArrays.AbstractSparseMatrixCSC{Tv, Ti}, Tuple{Base.Slice{Base.OneTo{Int64}}, I}} where I<:AbstractUnitRange, LinearAlgebra.LowerTriangular{Tv, <:Union{SparseArrays.AbstractSparseMatrixCSC{Tv, Ti}, SubArray{Tv, 2, <:SparseArrays.AbstractSparseMatrixCSC{Tv, Ti}, Tuple{Base.Slice{Base.OneTo{Int64}}, I}} where I<:AbstractUnitRange}}, LinearAlgebra.UpperTriangular{Tv, <:Union{SparseArrays.AbstractSparseMatrixCSC{Tv, Ti}, SubArray{Tv, 2, <:SparseArrays.AbstractSparseMatrixCSC{Tv, Ti}, Tuple{Base.Slice{Base.OneTo{Int64}}, I}} where I<:AbstractUnitRange}}} where {Tv, Ti}</b>, B::<b>SparseArrays.AbstractSparseVector</b>) in SparseArrays at <a href=\"file:///cache/build/default-amdci4-2/julialang/julia-release-1-dot-8/usr/share/julia/stdlib/v1.8/SparseArrays/src/linalg.jl\" target=\"_blank\">/julia/julia-1.8.5/share/julia/stdlib/v1.8/SparseArrays/src/linalg.jl:150</a></li> <li> *(A::<b>Union{LinearAlgebra.LowerTriangular{Ta, S} where S<:AbstractMatrix{Ta}, LinearAlgebra.UnitLowerTriangular{Ta, S} where S<:AbstractMatrix{Ta}, LinearAlgebra.UnitUpperTriangular{Ta, S} where S<:AbstractMatrix{Ta}, LinearAlgebra.UpperTriangular{Ta, S} where S<:AbstractMatrix{Ta}, StridedArray{Ta, 2}}</b>, x::<b>SparseArrays.AbstractSparseVector{Tx}</b>)<i> where {Ta, Tx}</i> in SparseArrays at <a href=\"file:///cache/build/default-amdci4-2/julialang/julia-release-1-dot-8/usr/share/julia/stdlib/v1.8/SparseArrays/src/sparsevector.jl\" target=\"_blank\">/julia/julia-1.8.5/share/julia/stdlib/v1.8/SparseArrays/src/sparsevector.jl:1607</a></li> <li> *(G1::<b>LinearAlgebra.Givens{T}</b>, G2::<b>LinearAlgebra.Givens{T}</b>)<i> where T</i> in LinearAlgebra at <a href=\"file:///cache/build/default-amdci4-2/julialang/julia-release-1-dot-8/usr/share/julia/stdlib/v1.8/LinearAlgebra/src/givens.jl\" target=\"_blank\">/julia/julia-1.8.5/share/julia/stdlib/v1.8/LinearAlgebra/src/givens.jl:396</a></li> <li> *(A::<b>LinearAlgebra.Diagonal</b>, B::<b>Union{LinearAlgebra.Bidiagonal, LinearAlgebra.Tridiagonal}</b>) in LinearAlgebra at <a href=\"file:///cache/build/default-amdci4-2/julialang/julia-release-1-dot-8/usr/share/julia/stdlib/v1.8/LinearAlgebra/src/bidiag.jl\" target=\"_blank\">/julia/julia-1.8.5/share/julia/stdlib/v1.8/LinearAlgebra/src/bidiag.jl:681</a></li> <li> *(x::<b>LinearAlgebra.Diagonal</b>, H::<b>LinearAlgebra.UpperHessenberg</b>) in LinearAlgebra at <a href=\"file:///cache/build/default-amdci4-2/julialang/julia-release-1-dot-8/usr/share/julia/stdlib/v1.8/LinearAlgebra/src/hessenberg.jl\" target=\"_blank\">/julia/julia-1.8.5/share/julia/stdlib/v1.8/LinearAlgebra/src/hessenberg.jl:117</a></li> <li> *(D::<b>LinearAlgebra.Diagonal</b>, A::<b>LinearAlgebra.UpperTriangular</b>) in LinearAlgebra at <a href=\"file:///cache/build/default-amdci4-2/julialang/julia-release-1-dot-8/usr/share/julia/stdlib/v1.8/LinearAlgebra/src/diagonal.jl\" target=\"_blank\">/julia/julia-1.8.5/share/julia/stdlib/v1.8/LinearAlgebra/src/diagonal.jl:554</a></li> <li> *(D::<b>LinearAlgebra.Diagonal</b>, A::<b>LinearAlgebra.UnitUpperTriangular</b>) in LinearAlgebra at <a href=\"file:///cache/build/default-amdci4-2/julialang/julia-release-1-dot-8/usr/share/julia/stdlib/v1.8/LinearAlgebra/src/diagonal.jl\" target=\"_blank\">/julia/julia-1.8.5/share/julia/stdlib/v1.8/LinearAlgebra/src/diagonal.jl:555</a></li> <li> *(A::<b>LinearAlgebra.Diagonal</b>, B::<b>LinearAlgebra.SymTridiagonal</b>) in LinearAlgebra at <a href=\"file:///cache/build/default-amdci4-2/julialang/julia-release-1-dot-8/usr/share/julia/stdlib/v1.8/LinearAlgebra/src/bidiag.jl\" target=\"_blank\">/julia/julia-1.8.5/share/julia/stdlib/v1.8/LinearAlgebra/src/bidiag.jl:686</a></li> <li> *(D::<b>LinearAlgebra.Diagonal</b>, A::<b>LinearAlgebra.UnitLowerTriangular</b>) in LinearAlgebra at <a href=\"file:///cache/build/default-amdci4-2/julialang/julia-release-1-dot-8/usr/share/julia/stdlib/v1.8/LinearAlgebra/src/diagonal.jl\" target=\"_blank\">/julia/julia-1.8.5/share/julia/stdlib/v1.8/LinearAlgebra/src/diagonal.jl:555</a></li> <li> *(D::<b>LinearAlgebra.Diagonal</b>, adjQ::<b>LinearAlgebra.Adjoint{<:Any, <:Union{LinearAlgebra.QRCompactWYQ, LinearAlgebra.QRPackedQ}}</b>) in LinearAlgebra at <a href=\"file:///cache/build/default-amdci4-2/julialang/julia-release-1-dot-8/usr/share/julia/stdlib/v1.8/LinearAlgebra/src/diagonal.jl\" target=\"_blank\">/julia/julia-1.8.5/share/julia/stdlib/v1.8/LinearAlgebra/src/diagonal.jl:270</a></li> <li> *(A::<b>LinearAlgebra.Diagonal</b>, B::<b>LinearAlgebra.Adjoint{<:Any, <:LinearAlgebra.AbstractRotation}</b>) in LinearAlgebra at <a href=\"file:///cache/build/default-amdci4-2/julialang/julia-release-1-dot-8/usr/share/julia/stdlib/v1.8/LinearAlgebra/src/givens.jl\" target=\"_blank\">/julia/julia-1.8.5/share/julia/stdlib/v1.8/LinearAlgebra/src/givens.jl:407</a></li> <li> *(A::<b>AbstractVector</b>, adjR::<b>LinearAlgebra.Adjoint{<:Any, <:LinearAlgebra.AbstractRotation}</b>) in LinearAlgebra at <a href=\"file:///cache/build/default-amdci4-2/julialang/julia-release-1-dot-8/usr/share/julia/stdlib/v1.8/LinearAlgebra/src/givens.jl\" target=\"_blank\">/julia/julia-1.8.5/share/julia/stdlib/v1.8/LinearAlgebra/src/givens.jl:13</a></li> <li> *(A::<b>AbstractMatrix</b>, adjR::<b>LinearAlgebra.Adjoint{<:Any, <:LinearAlgebra.AbstractRotation}</b>) in LinearAlgebra at <a href=\"file:///cache/build/default-amdci4-2/julialang/julia-release-1-dot-8/usr/share/julia/stdlib/v1.8/LinearAlgebra/src/givens.jl\" target=\"_blank\">/julia/julia-1.8.5/share/julia/stdlib/v1.8/LinearAlgebra/src/givens.jl:14</a></li> <li> *(A::<b>LinearAlgebra.Diagonal</b>, Q::<b>LinearAlgebra.Adjoint{<:Any, <:LinearAlgebra.AbstractQ}</b>) in LinearAlgebra at <a href=\"file:///cache/build/default-amdci4-2/julialang/julia-release-1-dot-8/usr/share/julia/stdlib/v1.8/LinearAlgebra/src/special.jl\" target=\"_blank\">/julia/julia-1.8.5/share/julia/stdlib/v1.8/LinearAlgebra/src/special.jl:348</a></li> <li> *(u::<b>AbstractVector</b>, v::<b>Union{LinearAlgebra.Adjoint{T, var\"#s886\"}, LinearAlgebra.Transpose{T, var\"#s886\"}} where {T, var\"#s886\"<:(AbstractVector)}</b>) in LinearAlgebra at <a href=\"file:///cache/build/default-amdci4-2/julialang/julia-release-1-dot-8/usr/share/julia/stdlib/v1.8/LinearAlgebra/src/adjtrans.jl\" target=\"_blank\">/julia/julia-1.8.5/share/julia/stdlib/v1.8/LinearAlgebra/src/adjtrans.jl:315</a></li> <li> *(u::<b>AbstractVector</b>, tv::<b>Union{LinearAlgebra.Adjoint{T, var\"#s886\"}, LinearAlgebra.Transpose{T, var\"#s886\"}} where {T, var\"#s886\"<:(AbstractVector)}</b>, C::<b>AbstractMatrix</b>) in LinearAlgebra at <a href=\"file:///cache/build/default-amdci4-2/julialang/julia-release-1-dot-8/usr/share/julia/stdlib/v1.8/LinearAlgebra/src/matmul.jl\" target=\"_blank\">/julia/julia-1.8.5/share/julia/stdlib/v1.8/LinearAlgebra/src/matmul.jl:1164</a></li> <li> *(u::<b>AbstractVector</b>, tv::<b>Union{LinearAlgebra.Adjoint{T, var\"#s886\"}, LinearAlgebra.Transpose{T, var\"#s886\"}} where {T, var\"#s886\"<:(AbstractVector)}</b>, γ::<b>Number</b>) in LinearAlgebra at <a href=\"file:///cache/build/default-amdci4-2/julialang/julia-release-1-dot-8/usr/share/julia/stdlib/v1.8/LinearAlgebra/src/matmul.jl\" target=\"_blank\">/julia/julia-1.8.5/share/julia/stdlib/v1.8/LinearAlgebra/src/matmul.jl:1163</a></li> <li> *(D::<b>LinearAlgebra.Diagonal</b>, adjA::<b>LinearAlgebra.Adjoint{<:Any, <:AbstractMatrix}</b>) in LinearAlgebra at <a href=\"file:///cache/build/default-amdci4-2/julialang/julia-release-1-dot-8/usr/share/julia/stdlib/v1.8/LinearAlgebra/src/diagonal.jl\" target=\"_blank\">/julia/julia-1.8.5/share/julia/stdlib/v1.8/LinearAlgebra/src/diagonal.jl:273</a></li> <li> *(a::<b>AbstractVector</b>, adjB::<b>LinearAlgebra.Adjoint{<:Any, <:AbstractMatrix}</b>) in LinearAlgebra at <a href=\"file:///cache/build/default-amdci4-2/julialang/julia-release-1-dot-8/usr/share/julia/stdlib/v1.8/LinearAlgebra/src/matmul.jl\" target=\"_blank\">/julia/julia-1.8.5/share/julia/stdlib/v1.8/LinearAlgebra/src/matmul.jl:61</a></li> <li> *(A::<b>LinearAlgebra.Diagonal</b>, Q::<b>LinearAlgebra.AbstractQ</b>) in LinearAlgebra at <a href=\"file:///cache/build/default-amdci4-2/julialang/julia-release-1-dot-8/usr/share/julia/stdlib/v1.8/LinearAlgebra/src/special.jl\" target=\"_blank\">/julia/julia-1.8.5/share/julia/stdlib/v1.8/LinearAlgebra/src/special.jl:347</a></li> <li> *(Da::<b>LinearAlgebra.Diagonal</b>, Db::<b>LinearAlgebra.Diagonal</b>) in LinearAlgebra at <a href=\"file:///cache/build/default-amdci4-2/julialang/julia-release-1-dot-8/usr/share/julia/stdlib/v1.8/LinearAlgebra/src/diagonal.jl\" target=\"_blank\">/julia/julia-1.8.5/share/julia/stdlib/v1.8/LinearAlgebra/src/diagonal.jl:237</a></li> <li> *(D::<b>LinearAlgebra.Diagonal</b>, x::<b>Number</b>) in LinearAlgebra at <a href=\"file:///cache/build/default-amdci4-2/julialang/julia-release-1-dot-8/usr/share/julia/stdlib/v1.8/LinearAlgebra/src/diagonal.jl\" target=\"_blank\">/julia/julia-1.8.5/share/julia/stdlib/v1.8/LinearAlgebra/src/diagonal.jl:203</a></li> <li> *(D::<b>LinearAlgebra.Diagonal</b>, transA::<b>LinearAlgebra.Transpose{<:Any, <:AbstractMatrix}</b>) in LinearAlgebra at <a href=\"file:///cache/build/default-amdci4-2/julialang/julia-release-1-dot-8/usr/share/julia/stdlib/v1.8/LinearAlgebra/src/diagonal.jl\" target=\"_blank\">/julia/julia-1.8.5/share/julia/stdlib/v1.8/LinearAlgebra/src/diagonal.jl:280</a></li> <li> *(a::<b>AbstractVector</b>, tB::<b>LinearAlgebra.Transpose{<:Any, <:AbstractMatrix}</b>) in LinearAlgebra at <a href=\"file:///cache/build/default-amdci4-2/julialang/julia-release-1-dot-8/usr/share/julia/stdlib/v1.8/LinearAlgebra/src/matmul.jl\" target=\"_blank\">/julia/julia-1.8.5/share/julia/stdlib/v1.8/LinearAlgebra/src/matmul.jl:60</a></li> <li> *(D::<b>LinearAlgebra.Diagonal</b>, A::<b>LinearAlgebra.LowerTriangular</b>) in LinearAlgebra at <a href=\"file:///cache/build/default-amdci4-2/julialang/julia-release-1-dot-8/usr/share/julia/stdlib/v1.8/LinearAlgebra/src/diagonal.jl\" target=\"_blank\">/julia/julia-1.8.5/share/julia/stdlib/v1.8/LinearAlgebra/src/diagonal.jl:554</a></li> <li> *(D::<b>LinearAlgebra.Diagonal</b>, A::<b>LinearAlgebra.AbstractTriangular</b>) in LinearAlgebra at <a href=\"file:///cache/build/default-amdci4-2/julialang/julia-release-1-dot-8/usr/share/julia/stdlib/v1.8/LinearAlgebra/src/diagonal.jl\" target=\"_blank\">/julia/julia-1.8.5/share/julia/stdlib/v1.8/LinearAlgebra/src/diagonal.jl:760</a></li> <li> *(D::<b>LinearAlgebra.Diagonal</b>, A::<b>AbstractMatrix</b>) in LinearAlgebra at <a href=\"file:///cache/build/default-amdci4-2/julialang/julia-release-1-dot-8/usr/share/julia/stdlib/v1.8/LinearAlgebra/src/diagonal.jl\" target=\"_blank\">/julia/julia-1.8.5/share/julia/stdlib/v1.8/LinearAlgebra/src/diagonal.jl:249</a></li> <li> *(D::<b>LinearAlgebra.Diagonal</b>, V::<b>AbstractVector</b>) in LinearAlgebra at <a href=\"file:///cache/build/default-amdci4-2/julialang/julia-release-1-dot-8/usr/share/julia/stdlib/v1.8/LinearAlgebra/src/diagonal.jl\" target=\"_blank\">/julia/julia-1.8.5/share/julia/stdlib/v1.8/LinearAlgebra/src/diagonal.jl:242</a></li> <li> *(A::<b>LinearAlgebra.LowerTriangular</b>, x::<b>Number</b>) in LinearAlgebra at <a href=\"file:///cache/build/default-amdci4-2/julialang/julia-release-1-dot-8/usr/share/julia/stdlib/v1.8/LinearAlgebra/src/triangular.jl\" target=\"_blank\">/julia/julia-1.8.5/share/julia/stdlib/v1.8/LinearAlgebra/src/triangular.jl:851</a></li> <li> *(A::<b>AbstractArray</b>, B::<b>Number</b>) in Base at <a href=\"https://github.com/JuliaLang/julia/tree/17cfb8e65ead377bf1b4598d8a9869144142c84e/base/arraymath.jl#L24\" target=\"_blank\">arraymath.jl:24</a></li> <li> *(A::<b>LinearAlgebra.LowerTriangular</b>, B::<b>LinearAlgebra.LowerTriangular</b>) in LinearAlgebra at <a href=\"file:///cache/build/default-amdci4-2/julialang/julia-release-1-dot-8/usr/share/julia/stdlib/v1.8/LinearAlgebra/src/triangular.jl\" target=\"_blank\">/julia/julia-1.8.5/share/julia/stdlib/v1.8/LinearAlgebra/src/triangular.jl:1517</a></li> <li> *(A::<b>LinearAlgebra.LowerTriangular</b>, B::<b>LinearAlgebra.UnitLowerTriangular</b>) in LinearAlgebra at <a href=\"file:///cache/build/default-amdci4-2/julialang/julia-release-1-dot-8/usr/share/julia/stdlib/v1.8/LinearAlgebra/src/triangular.jl\" target=\"_blank\">/julia/julia-1.8.5/share/julia/stdlib/v1.8/LinearAlgebra/src/triangular.jl:1531</a></li> <li> *(A::<b>LinearAlgebra.AbstractTriangular</b>, B::<b>LinearAlgebra.AbstractTriangular</b>) in LinearAlgebra at <a href=\"file:///cache/build/default-amdci4-2/julialang/julia-release-1-dot-8/usr/share/julia/stdlib/v1.8/LinearAlgebra/src/triangular.jl\" target=\"_blank\">/julia/julia-1.8.5/share/julia/stdlib/v1.8/LinearAlgebra/src/triangular.jl:1626</a></li> <li> *(A::<b>AbstractMatrix</b>, B::<b>LinearAlgebra.AbstractTriangular</b>) in LinearAlgebra at <a href=\"file:///cache/build/default-amdci4-2/julialang/julia-release-1-dot-8/usr/share/julia/stdlib/v1.8/LinearAlgebra/src/triangular.jl\" target=\"_blank\">/julia/julia-1.8.5/share/julia/stdlib/v1.8/LinearAlgebra/src/triangular.jl:1671</a></li> <li> *(A::<b>LinearAlgebra.LowerTriangular</b>, D::<b>LinearAlgebra.Diagonal</b>) in LinearAlgebra at <a href=\"file:///cache/build/default-amdci4-2/julialang/julia-release-1-dot-8/usr/share/julia/stdlib/v1.8/LinearAlgebra/src/diagonal.jl\" target=\"_blank\">/julia/julia-1.8.5/share/julia/stdlib/v1.8/LinearAlgebra/src/diagonal.jl:550</a></li> <li> *(A::<b>LinearAlgebra.AbstractTriangular</b>, D::<b>LinearAlgebra.Diagonal</b>) in LinearAlgebra at <a href=\"file:///cache/build/default-amdci4-2/julialang/julia-release-1-dot-8/usr/share/julia/stdlib/v1.8/LinearAlgebra/src/diagonal.jl\" target=\"_blank\">/julia/julia-1.8.5/share/julia/stdlib/v1.8/LinearAlgebra/src/diagonal.jl:759</a></li> <li> *(A::<b>AbstractMatrix</b>, D::<b>LinearAlgebra.Diagonal</b>) in LinearAlgebra at <a href=\"file:///cache/build/default-amdci4-2/julialang/julia-release-1-dot-8/usr/share/julia/stdlib/v1.8/LinearAlgebra/src/diagonal.jl\" target=\"_blank\">/julia/julia-1.8.5/share/julia/stdlib/v1.8/LinearAlgebra/src/diagonal.jl:247</a></li> <li> *(A::<b>LinearAlgebra.AbstractTriangular</b>, B::<b>AbstractVector</b>) in LinearAlgebra at <a href=\"file:///cache/build/default-amdci4-2/julialang/julia-release-1-dot-8/usr/share/julia/stdlib/v1.8/LinearAlgebra/src/triangular.jl\" target=\"_blank\">/julia/julia-1.8.5/share/julia/stdlib/v1.8/LinearAlgebra/src/triangular.jl:1634</a></li> <li> *(A::<b>AbstractMatrix{T}</b>, x::<b>AbstractVector{S}</b>)<i> where {T, S}</i> in LinearAlgebra at <a href=\"file:///cache/build/default-amdci4-2/julialang/julia-release-1-dot-8/usr/share/julia/stdlib/v1.8/LinearAlgebra/src/matmul.jl\" target=\"_blank\">/julia/julia-1.8.5/share/julia/stdlib/v1.8/LinearAlgebra/src/matmul.jl:54</a></li> <li> *(A::<b>AbstractMatrix</b>, x::<b>AbstractVector</b>, γ::<b>Number</b>) in LinearAlgebra at <a href=\"file:///cache/build/default-amdci4-2/julialang/julia-release-1-dot-8/usr/share/julia/stdlib/v1.8/LinearAlgebra/src/matmul.jl\" target=\"_blank\">/julia/julia-1.8.5/share/julia/stdlib/v1.8/LinearAlgebra/src/matmul.jl:1155</a></li> <li> *(A::<b>AbstractMatrix</b>, x::<b>AbstractVector</b>, γ::<b>Number</b>, δ::<b>Number</b>) in LinearAlgebra at <a href=\"file:///cache/build/default-amdci4-2/julialang/julia-release-1-dot-8/usr/share/julia/stdlib/v1.8/LinearAlgebra/src/matmul.jl\" target=\"_blank\">/julia/julia-1.8.5/share/julia/stdlib/v1.8/LinearAlgebra/src/matmul.jl:1221</a></li> <li> *(A::<b>LinearAlgebra.AbstractTriangular</b>, B::<b>AbstractMatrix</b>) in LinearAlgebra at <a href=\"file:///cache/build/default-amdci4-2/julialang/julia-release-1-dot-8/usr/share/julia/stdlib/v1.8/LinearAlgebra/src/triangular.jl\" target=\"_blank\">/julia/julia-1.8.5/share/julia/stdlib/v1.8/LinearAlgebra/src/triangular.jl:1634</a></li> <li> *(A::<b>AbstractMatrix</b>, B::<b>AbstractMatrix</b>) in LinearAlgebra at <a href=\"file:///cache/build/default-amdci4-2/julialang/julia-release-1-dot-8/usr/share/julia/stdlib/v1.8/LinearAlgebra/src/matmul.jl\" target=\"_blank\">/julia/julia-1.8.5/share/julia/stdlib/v1.8/LinearAlgebra/src/matmul.jl:139</a></li> <li> *(A::<b>AbstractMatrix</b>, B::<b>AbstractMatrix</b>, γ::<b>Number</b>) in LinearAlgebra at <a href=\"file:///cache/build/default-amdci4-2/julialang/julia-release-1-dot-8/usr/share/julia/stdlib/v1.8/LinearAlgebra/src/matmul.jl\" target=\"_blank\">/julia/julia-1.8.5/share/julia/stdlib/v1.8/LinearAlgebra/src/matmul.jl:1156</a></li> <li> *(A::<b>AbstractMatrix</b>, B::<b>AbstractMatrix</b>, x::<b>AbstractVector</b>) in LinearAlgebra at <a href=\"file:///cache/build/default-amdci4-2/julialang/julia-release-1-dot-8/usr/share/julia/stdlib/v1.8/LinearAlgebra/src/matmul.jl\" target=\"_blank\">/julia/julia-1.8.5/share/julia/stdlib/v1.8/LinearAlgebra/src/matmul.jl:1150</a></li> <li> *(a::<b>AbstractVector</b>, B::<b>AbstractMatrix</b>) in LinearAlgebra at <a href=\"file:///cache/build/default-amdci4-2/julialang/julia-release-1-dot-8/usr/share/julia/stdlib/v1.8/LinearAlgebra/src/matmul.jl\" target=\"_blank\">/julia/julia-1.8.5/share/julia/stdlib/v1.8/LinearAlgebra/src/matmul.jl:62</a></li> <li> *(A::<b>AbstractMatrix</b>, B::<b>AbstractMatrix</b>, C::<b>AbstractMatrix</b>) in LinearAlgebra at <a href=\"file:///cache/build/default-amdci4-2/julialang/julia-release-1-dot-8/usr/share/julia/stdlib/v1.8/LinearAlgebra/src/matmul.jl\" target=\"_blank\">/julia/julia-1.8.5/share/julia/stdlib/v1.8/LinearAlgebra/src/matmul.jl:1166</a></li> <li> *(A::<b>AbstractMatrix</b>, B::<b>AbstractMatrix</b>, γ::<b>Number</b>, δ::<b>Number</b>) in LinearAlgebra at <a href=\"file:///cache/build/default-amdci4-2/julialang/julia-release-1-dot-8/usr/share/julia/stdlib/v1.8/LinearAlgebra/src/matmul.jl\" target=\"_blank\">/julia/julia-1.8.5/share/julia/stdlib/v1.8/LinearAlgebra/src/matmul.jl:1222</a></li> <li> *(A::<b>AbstractMatrix</b>, B::<b>AbstractMatrix</b>, x::<b>AbstractVector</b>, δ::<b>Number</b>) in LinearAlgebra at <a href=\"file:///cache/build/default-amdci4-2/julialang/julia-release-1-dot-8/usr/share/julia/stdlib/v1.8/LinearAlgebra/src/matmul.jl\" target=\"_blank\">/julia/julia-1.8.5/share/julia/stdlib/v1.8/LinearAlgebra/src/matmul.jl:1223</a></li> <li> *(A::<b>AbstractMatrix</b>, B::<b>AbstractMatrix</b>, C::<b>AbstractMatrix</b>, x::<b>AbstractVector</b>) in LinearAlgebra at <a href=\"file:///cache/build/default-amdci4-2/julialang/julia-release-1-dot-8/usr/share/julia/stdlib/v1.8/LinearAlgebra/src/matmul.jl\" target=\"_blank\">/julia/julia-1.8.5/share/julia/stdlib/v1.8/LinearAlgebra/src/matmul.jl:1227</a></li> <li> *(A::<b>AbstractMatrix</b>, B::<b>AbstractMatrix</b>, C::<b>AbstractMatrix</b>, δ::<b>Number</b>) in LinearAlgebra at <a href=\"file:///cache/build/default-amdci4-2/julialang/julia-release-1-dot-8/usr/share/julia/stdlib/v1.8/LinearAlgebra/src/matmul.jl\" target=\"_blank\">/julia/julia-1.8.5/share/julia/stdlib/v1.8/LinearAlgebra/src/matmul.jl:1232</a></li> <li> *(A::<b>AbstractMatrix</b>, B::<b>AbstractMatrix</b>, C::<b>AbstractMatrix</b>, D::<b>AbstractMatrix</b>) in LinearAlgebra at <a href=\"file:///cache/build/default-amdci4-2/julialang/julia-release-1-dot-8/usr/share/julia/stdlib/v1.8/LinearAlgebra/src/matmul.jl\" target=\"_blank\">/julia/julia-1.8.5/share/julia/stdlib/v1.8/LinearAlgebra/src/matmul.jl:1235</a></li> <li> *(y::<b>AbstractFloat</b>, x::<b>Bool</b>) in Base at <a href=\"https://github.com/JuliaLang/julia/tree/17cfb8e65ead377bf1b4598d8a9869144142c84e/base/bool.jl#L178\" target=\"_blank\">bool.jl:178</a></li> <li> *(x::<b>BigInt</b>, c::<b>Union{UInt16, UInt32, UInt64, UInt8}</b>) in Base.GMP at <a href=\"https://github.com/JuliaLang/julia/tree/17cfb8e65ead377bf1b4598d8a9869144142c84e/base/gmp.jl#L541\" target=\"_blank\">gmp.jl:541</a></li> <li> *(x::<b>BigInt</b>, c::<b>Union{Int16, Int32, Int64, Int8}</b>) in Base.GMP at <a href=\"https://github.com/JuliaLang/julia/tree/17cfb8e65ead377bf1b4598d8a9869144142c84e/base/gmp.jl#L543\" target=\"_blank\">gmp.jl:543</a></li> <li> *(x::<b>BigInt</b>, y::<b>BigInt</b>) in Base.GMP at <a href=\"https://github.com/JuliaLang/julia/tree/17cfb8e65ead377bf1b4598d8a9869144142c84e/base/gmp.jl#L482\" target=\"_blank\">gmp.jl:482</a></li> <li> *(a::<b>BigInt</b>, b::<b>BigInt</b>, c::<b>BigInt</b>) in Base.GMP at <a href=\"https://github.com/JuliaLang/julia/tree/17cfb8e65ead377bf1b4598d8a9869144142c84e/base/gmp.jl#L522\" target=\"_blank\">gmp.jl:522</a></li> <li> *(a::<b>BigInt</b>, b::<b>BigInt</b>, c::<b>BigInt</b>, d::<b>BigInt</b>) in Base.GMP at <a href=\"https://github.com/JuliaLang/julia/tree/17cfb8e65ead377bf1b4598d8a9869144142c84e/base/gmp.jl#L523\" target=\"_blank\">gmp.jl:523</a></li> <li> *(a::<b>BigInt</b>, b::<b>BigInt</b>, c::<b>BigInt</b>, d::<b>BigInt</b>, e::<b>BigInt</b>) in Base.GMP at <a href=\"https://github.com/JuliaLang/julia/tree/17cfb8e65ead377bf1b4598d8a9869144142c84e/base/gmp.jl#L524\" target=\"_blank\">gmp.jl:524</a></li> <li> *(c::<b>BigInt</b>, x::<b>BigFloat</b>) in Base.MPFR at <a href=\"https://github.com/JuliaLang/julia/tree/17cfb8e65ead377bf1b4598d8a9869144142c84e/base/mpfr.jl#L422\" target=\"_blank\">mpfr.jl:422</a></li> <li> *(B::<b>BitMatrix</b>, J::<b>LinearAlgebra.UniformScaling</b>) in LinearAlgebra at <a href=\"file:///cache/build/default-amdci4-2/julialang/julia-release-1-dot-8/usr/share/julia/stdlib/v1.8/LinearAlgebra/src/uniformscaling.jl\" target=\"_blank\">/julia/julia-1.8.5/share/julia/stdlib/v1.8/LinearAlgebra/src/uniformscaling.jl:258</a></li> <li> *(x::<b>AbstractMatrix{<:Number}</b>) in Base at <a href=\"https://github.com/JuliaLang/julia/tree/17cfb8e65ead377bf1b4598d8a9869144142c84e/base/abstractarraymath.jl#L221\" target=\"_blank\">abstractarraymath.jl:221</a></li> <li> *(A::<b>AbstractMatrix</b>, J::<b>LinearAlgebra.UniformScaling</b>) in LinearAlgebra at <a href=\"file:///cache/build/default-amdci4-2/julialang/julia-release-1-dot-8/usr/share/julia/stdlib/v1.8/LinearAlgebra/src/uniformscaling.jl\" target=\"_blank\">/julia/julia-1.8.5/share/julia/stdlib/v1.8/LinearAlgebra/src/uniformscaling.jl:260</a></li> <li> *(v::<b>AbstractVector</b>, J::<b>LinearAlgebra.UniformScaling</b>) in LinearAlgebra at <a href=\"file:///cache/build/default-amdci4-2/julialang/julia-release-1-dot-8/usr/share/julia/stdlib/v1.8/LinearAlgebra/src/uniformscaling.jl\" target=\"_blank\">/julia/julia-1.8.5/share/julia/stdlib/v1.8/LinearAlgebra/src/uniformscaling.jl:261</a></li> <li> *(::<b>Missing</b>) in Base at <a href=\"https://github.com/JuliaLang/julia/tree/17cfb8e65ead377bf1b4598d8a9869144142c84e/base/missing.jl#L101\" target=\"_blank\">missing.jl:101</a></li> <li> *(::<b>Missing</b>, ::<b>Number</b>) in Base at <a href=\"https://github.com/JuliaLang/julia/tree/17cfb8e65ead377bf1b4598d8a9869144142c84e/base/missing.jl#L123\" target=\"_blank\">missing.jl:123</a></li> <li> *(d::<b>Missing</b>, x::<b>Union{AbstractChar, AbstractString}</b>) in Base at <a href=\"https://github.com/JuliaLang/julia/tree/17cfb8e65ead377bf1b4598d8a9869144142c84e/base/missing.jl#L182\" target=\"_blank\">missing.jl:182</a></li> <li> *(::<b>Missing</b>, ::<b>Missing</b>) in Base at <a href=\"https://github.com/JuliaLang/julia/tree/17cfb8e65ead377bf1b4598d8a9869144142c84e/base/missing.jl#L122\" target=\"_blank\">missing.jl:122</a></li> <li> *(x::<b>BigFloat</b>, c::<b>Union{UInt16, UInt32, UInt64, UInt8}</b>) in Base.MPFR at <a href=\"https://github.com/JuliaLang/julia/tree/17cfb8e65ead377bf1b4598d8a9869144142c84e/base/mpfr.jl#L393\" target=\"_blank\">mpfr.jl:393</a></li> <li> *(x::<b>BigFloat</b>, c::<b>Union{Int16, Int32, Int64, Int8}</b>) in Base.MPFR at <a href=\"https://github.com/JuliaLang/julia/tree/17cfb8e65ead377bf1b4598d8a9869144142c84e/base/mpfr.jl#L401\" target=\"_blank\">mpfr.jl:401</a></li> <li> *(x::<b>BigFloat</b>, c::<b>Union{Float16, Float32, Float64}</b>) in Base.MPFR at <a href=\"https://github.com/JuliaLang/julia/tree/17cfb8e65ead377bf1b4598d8a9869144142c84e/base/mpfr.jl#L409\" target=\"_blank\">mpfr.jl:409</a></li> <li> *(x::<b>BigFloat</b>, y::<b>BigFloat</b>) in Base.MPFR at <a href=\"https://github.com/JuliaLang/julia/tree/17cfb8e65ead377bf1b4598d8a9869144142c84e/base/mpfr.jl#L386\" target=\"_blank\">mpfr.jl:386</a></li> <li> *(x::<b>BigFloat</b>, c::<b>BigInt</b>) in Base.MPFR at <a href=\"https://github.com/JuliaLang/julia/tree/17cfb8e65ead377bf1b4598d8a9869144142c84e/base/mpfr.jl#L417\" target=\"_blank\">mpfr.jl:417</a></li> <li> *(a::<b>BigFloat</b>, b::<b>BigFloat</b>, c::<b>BigFloat</b>) in Base.MPFR at <a href=\"https://github.com/JuliaLang/julia/tree/17cfb8e65ead377bf1b4598d8a9869144142c84e/base/mpfr.jl#L558\" target=\"_blank\">mpfr.jl:558</a></li> <li> *(a::<b>BigFloat</b>, b::<b>BigFloat</b>, c::<b>BigFloat</b>, d::<b>BigFloat</b>) in Base.MPFR at <a href=\"https://github.com/JuliaLang/julia/tree/17cfb8e65ead377bf1b4598d8a9869144142c84e/base/mpfr.jl#L564\" target=\"_blank\">mpfr.jl:564</a></li> <li> *(a::<b>BigFloat</b>, b::<b>BigFloat</b>, c::<b>BigFloat</b>, d::<b>BigFloat</b>, e::<b>BigFloat</b>) in Base.MPFR at <a href=\"https://github.com/JuliaLang/julia/tree/17cfb8e65ead377bf1b4598d8a9869144142c84e/base/mpfr.jl#L571\" target=\"_blank\">mpfr.jl:571</a></li> <li> *(x::<b>Bool</b>, y::<b>T</b>)<i> where T<:AbstractFloat</i> in Base at <a href=\"https://github.com/JuliaLang/julia/tree/17cfb8e65ead377bf1b4598d8a9869144142c84e/base/bool.jl#L175\" target=\"_blank\">bool.jl:175</a></li> <li> *(x::<b>Bool</b>, y::<b>AbstractIrrational</b>) in Base at <a href=\"https://github.com/JuliaLang/julia/tree/17cfb8e65ead377bf1b4598d8a9869144142c84e/base/irrationals.jl#L160\" target=\"_blank\">irrationals.jl:160</a></li> <li> *(x::<b>Bool</b>, y::<b>Bool</b>) in Base at <a href=\"https://github.com/JuliaLang/julia/tree/17cfb8e65ead377bf1b4598d8a9869144142c84e/base/bool.jl#L164\" target=\"_blank\">bool.jl:164</a></li> <li> *(a::<b>Integer</b>, b::<b>Integer</b>) in Base at <a href=\"https://github.com/JuliaLang/julia/tree/17cfb8e65ead377bf1b4598d8a9869144142c84e/base/int.jl#L987\" target=\"_blank\">int.jl:987</a></li> <li> *(x::<b>Bool</b>, z::<b>Complex{Bool}</b>) in Base at <a href=\"https://github.com/JuliaLang/julia/tree/17cfb8e65ead377bf1b4598d8a9869144142c84e/base/complex.jl#L303\" target=\"_blank\">complex.jl:303</a></li> <li> *(x::<b>Real</b>, z::<b>Complex{Bool}</b>) in Base at <a href=\"https://github.com/JuliaLang/julia/tree/17cfb8e65ead377bf1b4598d8a9869144142c84e/base/complex.jl#L321\" target=\"_blank\">complex.jl:321</a></li> <li> *(x::<b>Bool</b>, z::<b>Complex</b>) in Base at <a href=\"https://github.com/JuliaLang/julia/tree/17cfb8e65ead377bf1b4598d8a9869144142c84e/base/complex.jl#L310\" target=\"_blank\">complex.jl:310</a></li> <li> *(x::<b>Real</b>, z::<b>Complex</b>) in Base at <a href=\"https://github.com/JuliaLang/julia/tree/17cfb8e65ead377bf1b4598d8a9869144142c84e/base/complex.jl#L333\" target=\"_blank\">complex.jl:333</a></li> <li> *(r::<b>Regex</b>) in Base at <a href=\"https://github.com/JuliaLang/julia/tree/17cfb8e65ead377bf1b4598d8a9869144142c84e/base/regex.jl#L825\" target=\"_blank\">regex.jl:825</a></li> <li> *(r1::<b>Union{Regex, AbstractChar, AbstractString}</b>, rs::<b>Union{Regex, AbstractChar, AbstractString}...</b>) in Base at <a href=\"https://github.com/JuliaLang/julia/tree/17cfb8e65ead377bf1b4598d8a9869144142c84e/base/regex.jl#L804\" target=\"_blank\">regex.jl:804</a></li> <li> *(z::<b>Complex{Bool}</b>, x::<b>Bool</b>) in Base at <a href=\"https://github.com/JuliaLang/julia/tree/17cfb8e65ead377bf1b4598d8a9869144142c84e/base/complex.jl#L304\" target=\"_blank\">complex.jl:304</a></li> <li> *(z::<b>Complex</b>, x::<b>Bool</b>) in Base at <a href=\"https://github.com/JuliaLang/julia/tree/17cfb8e65ead377bf1b4598d8a9869144142c84e/base/complex.jl#L311\" target=\"_blank\">complex.jl:311</a></li> <li> *(z::<b>Complex{Bool}</b>, x::<b>Real</b>) in Base at <a href=\"https://github.com/JuliaLang/julia/tree/17cfb8e65ead377bf1b4598d8a9869144142c84e/base/complex.jl#L322\" target=\"_blank\">complex.jl:322</a></li> <li> *(z::<b>Complex</b>, x::<b>Real</b>) in Base at <a href=\"https://github.com/JuliaLang/julia/tree/17cfb8e65ead377bf1b4598d8a9869144142c84e/base/complex.jl#L334\" target=\"_blank\">complex.jl:334</a></li> <li> *(x::<b>Rational{BigInt}</b>, y::<b>Rational{BigInt}</b>) in Base.GMP.MPQ at <a href=\"https://github.com/JuliaLang/julia/tree/17cfb8e65ead377bf1b4598d8a9869144142c84e/base/gmp.jl#L946\" target=\"_blank\">gmp.jl:946</a></li> <li> *(x::<b>Rational</b>, y::<b>Rational</b>) in Base at <a href=\"https://github.com/JuliaLang/julia/tree/17cfb8e65ead377bf1b4598d8a9869144142c84e/base/rational.jl#L333\" target=\"_blank\">rational.jl:333</a></li> <li> *(x::<b>Number</b>) in Base at <a href=\"https://github.com/JuliaLang/julia/tree/17cfb8e65ead377bf1b4598d8a9869144142c84e/base/operators.jl#L529\" target=\"_blank\">operators.jl:529</a></li> <li> *(α::<b>Number</b>, vt::<b>Union{LinearAlgebra.Adjoint{T, var\"#s886\"}, LinearAlgebra.Transpose{T, var\"#s886\"}} where {T, var\"#s886\"<:(AbstractVector)}</b>, C::<b>AbstractMatrix</b>, x::<b>AbstractVector</b>) in LinearAlgebra at <a href=\"file:///cache/build/default-amdci4-2/julialang/julia-release-1-dot-8/usr/share/julia/stdlib/v1.8/LinearAlgebra/src/matmul.jl\" target=\"_blank\">/julia/julia-1.8.5/share/julia/stdlib/v1.8/LinearAlgebra/src/matmul.jl:1217</a></li> <li> *(x::<b>T</b>, y::<b>T</b>)<i> where T<:Number</i> in Base at <a href=\"https://github.com/JuliaLang/julia/tree/17cfb8e65ead377bf1b4598d8a9869144142c84e/base/promotion.jl#L464\" target=\"_blank\">promotion.jl:464</a></li> <li> *(x::<b>Number</b>, y::<b>Number</b>) in Base at <a href=\"https://github.com/JuliaLang/julia/tree/17cfb8e65ead377bf1b4598d8a9869144142c84e/base/promotion.jl#L389\" target=\"_blank\">promotion.jl:389</a></li> <li> *(α::<b>Number</b>, β::<b>Number</b>, C::<b>AbstractMatrix</b>, D::<b>AbstractMatrix</b>) in LinearAlgebra at <a href=\"file:///cache/build/default-amdci4-2/julialang/julia-release-1-dot-8/usr/share/julia/stdlib/v1.8/LinearAlgebra/src/matmul.jl\" target=\"_blank\">/julia/julia-1.8.5/share/julia/stdlib/v1.8/LinearAlgebra/src/matmul.jl:1215</a></li> <li> *(α::<b>Number</b>, β::<b>Number</b>, C::<b>AbstractMatrix</b>, x::<b>AbstractVector</b>) in LinearAlgebra at <a href=\"file:///cache/build/default-amdci4-2/julialang/julia-release-1-dot-8/usr/share/julia/stdlib/v1.8/LinearAlgebra/src/matmul.jl\" target=\"_blank\">/julia/julia-1.8.5/share/julia/stdlib/v1.8/LinearAlgebra/src/matmul.jl:1214</a></li> <li> *(a, b, c, xs...) in Base at <a href=\"https://github.com/JuliaLang/julia/tree/17cfb8e65ead377bf1b4598d8a9869144142c84e/base/operators.jl#L591\" target=\"_blank\">operators.jl:591</a></li> </ul>"
      ],
      "text/plain": [
       "# 318 methods for generic function \"*\":\n",
       "[1] *(x::T, y::T) where T<:Union{Int128, UInt128} in Base at int.jl:976\n",
       "[2] *(x::T, y::T) where T<:Union{Int128, Int16, Int32, Int64, Int8, UInt128, UInt16, UInt32, UInt64, UInt8} in Base at int.jl:88\n",
       "[3] *(x::T, y::T) where T<:Union{Float16, Float32, Float64} in Base at float.jl:385\n",
       "[4] *(s1::Union{AbstractChar, AbstractString}, ss::Union{AbstractChar, AbstractString}...) in Base at strings/basic.jl:260\n",
       "[5] *(d::Union{AbstractChar, AbstractString}, x::Missing) in Base at missing.jl:183\n",
       "[6] *(c::Union{UInt16, UInt32, UInt64, UInt8}, x::BigInt) in Base.GMP at gmp.jl:542\n",
       "[7] *(c::Union{Int16, Int32, Int64, Int8}, x::BigInt) in Base.GMP at gmp.jl:544\n",
       "[8] *(c::Union{UInt16, UInt32, UInt64, UInt8}, x::BigFloat) in Base.MPFR at mpfr.jl:398\n",
       "[9] *(c::Union{Int16, Int32, Int64, Int8}, x::BigFloat) in Base.MPFR at mpfr.jl:406\n",
       "[10] *(c::Union{Float16, Float32, Float64}, x::BigFloat) in Base.MPFR at mpfr.jl:414\n",
       "[11] *(A::StridedMatrix{T}, x::StridedVector{S}) where {T<:Union{Float32, Float64, ComplexF32, ComplexF64}, S<:Real} in LinearAlgebra at /julia/julia-1.8.5/share/julia/stdlib/v1.8/LinearAlgebra/src/matmul.jl:49\n",
       "[12] *(A::Union{LinearAlgebra.Adjoint{var\"#s886\", <:StridedMatrix{T} where T}, LinearAlgebra.Transpose{var\"#s886\", <:StridedMatrix{T} where T}, StridedMatrix{var\"#s886\"}} where var\"#s886\"<:Union{Float32, Float64}, B::Union{LinearAlgebra.Adjoint{var\"#s885\", <:StridedMatrix{T} where T}, LinearAlgebra.Transpose{var\"#s885\", <:StridedMatrix{T} where T}, StridedMatrix{var\"#s885\"}} where var\"#s885\"<:Union{Float32, Float64}) in LinearAlgebra at /julia/julia-1.8.5/share/julia/stdlib/v1.8/LinearAlgebra/src/matmul.jl:146\n",
       "[13] *(A::Union{LinearAlgebra.Adjoint{var\"#s886\", <:StridedMatrix{T} where T}, LinearAlgebra.Transpose{var\"#s886\", <:StridedMatrix{T} where T}, StridedMatrix{var\"#s886\"}} where var\"#s886\"<:Union{ComplexF32, ComplexF64}, B::Union{LinearAlgebra.Adjoint{var\"#s885\", <:StridedMatrix{T} where T}, LinearAlgebra.Transpose{var\"#s885\", <:StridedMatrix{T} where T}, StridedMatrix{var\"#s885\"}} where var\"#s885\"<:Union{ComplexF32, ComplexF64}) in LinearAlgebra at /julia/julia-1.8.5/share/julia/stdlib/v1.8/LinearAlgebra/src/matmul.jl:152\n",
       "[14] *(A::StridedMatrix{var\"#s886\"} where var\"#s886\"<:Union{ComplexF32, ComplexF64}, B::Union{LinearAlgebra.Adjoint{var\"#s885\", <:StridedMatrix{T} where T}, LinearAlgebra.Transpose{var\"#s885\", <:StridedMatrix{T} where T}, StridedMatrix{var\"#s885\"}} where var\"#s885\"<:Union{Float32, Float64}) in LinearAlgebra at /julia/julia-1.8.5/share/julia/stdlib/v1.8/LinearAlgebra/src/matmul.jl:165\n",
       "[15] *(A::Union{LinearAlgebra.Adjoint{var\"#s886\", <:StridedMatrix{T} where T}, LinearAlgebra.Transpose{var\"#s886\", <:StridedMatrix{T} where T}} where var\"#s886\"<:Union{ComplexF32, ComplexF64}, B::Union{LinearAlgebra.Adjoint{var\"#s885\", <:StridedMatrix{T} where T}, LinearAlgebra.Transpose{var\"#s885\", <:StridedMatrix{T} where T}, StridedMatrix{var\"#s885\"}} where var\"#s885\"<:Union{Float32, Float64}) in LinearAlgebra at /julia/julia-1.8.5/share/julia/stdlib/v1.8/LinearAlgebra/src/matmul.jl:171\n",
       "[16] *(A::StridedMatrix{var\"#s886\"} where var\"#s886\"<:Union{Float32, Float64}, B::StridedMatrix{var\"#s885\"} where var\"#s885\"<:Union{ComplexF32, ComplexF64}) in LinearAlgebra at /julia/julia-1.8.5/share/julia/stdlib/v1.8/LinearAlgebra/src/matmul.jl:178\n",
       "[17] *(A::Union{LinearAlgebra.Adjoint{var\"#s886\", <:StridedMatrix{T} where T}, LinearAlgebra.Transpose{var\"#s886\", <:StridedMatrix{T} where T}} where var\"#s886\"<:Union{Float32, Float64}, B::StridedMatrix{var\"#s885\"} where var\"#s885\"<:Union{ComplexF32, ComplexF64}) in LinearAlgebra at /julia/julia-1.8.5/share/julia/stdlib/v1.8/LinearAlgebra/src/matmul.jl:185\n",
       "[18] *(A::Union{LinearAlgebra.Adjoint{var\"#s886\", <:StridedMatrix{T} where T}, LinearAlgebra.Transpose{var\"#s886\", <:StridedMatrix{T} where T}, StridedMatrix{var\"#s886\"}} where var\"#s886\"<:Union{Float32, Float64}, B::Union{LinearAlgebra.Adjoint{var\"#s885\", <:StridedMatrix{T} where T}, LinearAlgebra.Transpose{var\"#s885\", <:StridedMatrix{T} where T}} where var\"#s885\"<:Union{ComplexF32, ComplexF64}) in LinearAlgebra at /julia/julia-1.8.5/share/julia/stdlib/v1.8/LinearAlgebra/src/matmul.jl:186\n",
       "[19] *(α::Union{Real, Complex}, vt::Union{LinearAlgebra.Adjoint{var\"#s886\", var\"#s8861\"}, LinearAlgebra.Transpose{var\"#s886\", var\"#s8861\"}} where {var\"#s886\"<:Union{Real, Complex}, var\"#s8861\"<:(AbstractVector)}, C::AbstractMatrix{<:Union{Real, Complex}}, D::AbstractMatrix{<:Union{Real, Complex}}) in LinearAlgebra at /julia/julia-1.8.5/share/julia/stdlib/v1.8/LinearAlgebra/src/matmul.jl:1218\n",
       "[20] *(A::StridedMatrix{T} where T, Q::LinearAlgebra.AbstractQ) in LinearAlgebra at /julia/julia-1.8.5/share/julia/stdlib/v1.8/LinearAlgebra/src/qr.jl:774\n",
       "[21] *(A::StridedMatrix{T} where T, adjB::LinearAlgebra.Adjoint{<:Any, <:LinearAlgebra.AbstractQ}) in LinearAlgebra at /julia/julia-1.8.5/share/julia/stdlib/v1.8/LinearAlgebra/src/qr.jl:821\n",
       "[22] *(A::StridedVecOrMat, adjQ::LinearAlgebra.Adjoint{<:Any, <:LinearAlgebra.LQPackedQ}) in LinearAlgebra at /julia/julia-1.8.5/share/julia/stdlib/v1.8/LinearAlgebra/src/lq.jl:269\n",
       "[23] *(A::StridedVecOrMat, Q::LinearAlgebra.LQPackedQ) in LinearAlgebra at /julia/julia-1.8.5/share/julia/stdlib/v1.8/LinearAlgebra/src/lq.jl:293\n",
       "[24] *(A::Union{LinearAlgebra.Hermitian{T, S}, LinearAlgebra.Symmetric{T, S}} where {T, S}, B::Union{LinearAlgebra.Hermitian{T, S}, LinearAlgebra.Symmetric{T, S}} where {T, S}) in LinearAlgebra at /julia/julia-1.8.5/share/julia/stdlib/v1.8/LinearAlgebra/src/symmetric.jl:576\n",
       "[25] *(A::Union{LinearAlgebra.UnitUpperTriangular{T, S} where S<:AbstractMatrix{T}, LinearAlgebra.UpperTriangular{T, S} where S<:AbstractMatrix{T}} where T, B::LinearAlgebra.Bidiagonal) in LinearAlgebra at /julia/julia-1.8.5/share/julia/stdlib/v1.8/LinearAlgebra/src/bidiag.jl:647\n",
       "[26] *(A::Union{LinearAlgebra.LowerTriangular{T, S} where S<:AbstractMatrix{T}, LinearAlgebra.UnitLowerTriangular{T, S} where S<:AbstractMatrix{T}} where T, B::LinearAlgebra.Bidiagonal) in LinearAlgebra at /julia/julia-1.8.5/share/julia/stdlib/v1.8/LinearAlgebra/src/bidiag.jl:653\n",
       "[27] *(A::Union{LinearAlgebra.SymTridiagonal, LinearAlgebra.Tridiagonal}, B::LinearAlgebra.AbstractTriangular) in LinearAlgebra at /julia/julia-1.8.5/share/julia/stdlib/v1.8/LinearAlgebra/src/bidiag.jl:659\n",
       "[28] *(A::Union{LinearAlgebra.Bidiagonal, LinearAlgebra.Tridiagonal}, B::LinearAlgebra.Diagonal) in LinearAlgebra at /julia/julia-1.8.5/share/julia/stdlib/v1.8/LinearAlgebra/src/bidiag.jl:676\n",
       "[29] *(A::Union{LinearAlgebra.Bidiagonal, LinearAlgebra.SymTridiagonal, LinearAlgebra.Tridiagonal}, B::Union{LinearAlgebra.Bidiagonal, LinearAlgebra.SymTridiagonal, LinearAlgebra.Tridiagonal}) in LinearAlgebra at /julia/julia-1.8.5/share/julia/stdlib/v1.8/LinearAlgebra/src/bidiag.jl:696\n",
       "[30] *(U::Union{LinearAlgebra.UnitUpperTriangular{T, S} where S<:AbstractMatrix{T}, LinearAlgebra.UpperTriangular{T, S} where S<:AbstractMatrix{T}} where T, H::LinearAlgebra.UpperHessenberg) in LinearAlgebra at /julia/julia-1.8.5/share/julia/stdlib/v1.8/LinearAlgebra/src/hessenberg.jl:129\n",
       "[31] *(A::Union{LinearAlgebra.Bidiagonal, LinearAlgebra.SymTridiagonal, LinearAlgebra.Tridiagonal}, Q::LinearAlgebra.AbstractQ) in LinearAlgebra at /julia/julia-1.8.5/share/julia/stdlib/v1.8/LinearAlgebra/src/special.jl:345\n",
       "[32] *(A::Union{LinearAlgebra.Bidiagonal, LinearAlgebra.SymTridiagonal, LinearAlgebra.Tridiagonal}, Q::LinearAlgebra.Adjoint{<:Any, <:LinearAlgebra.AbstractQ}) in LinearAlgebra at /julia/julia-1.8.5/share/julia/stdlib/v1.8/LinearAlgebra/src/special.jl:346\n",
       "[33] *(X::StridedArray{P}, y::Real) where P<:Dates.Period in Dates at /julia/julia-1.8.5/share/julia/stdlib/v1.8/Dates/src/deprecated.jl:44\n",
       "[34] *(x::Union{SparseArrays.SparseVector{Tv, Ti}, SubArray{Tv, 1, <:SparseArrays.AbstractSparseMatrixCSC{Tv, Ti}, Tuple{Base.Slice{Base.OneTo{Int64}}, Int64}, false}, SubArray{Tv, 1, <:SparseArrays.AbstractSparseVector{Tv, Ti}, Tuple{Base.Slice{Base.OneTo{Int64}}}, false}} where {Tv, Ti}, a::Number) in SparseArrays at /julia/julia-1.8.5/share/julia/stdlib/v1.8/SparseArrays/src/sparsevector.jl:1519\n",
       "[35] *(A::Union{SparseArrays.AbstractSparseMatrixCSC{TA, Ti}, SubArray{TA, 2, <:SparseArrays.AbstractSparseMatrixCSC{TA, Ti}, Tuple{Base.Slice{Base.OneTo{Int64}}, I}} where I<:AbstractUnitRange} where Ti, x::Union{StridedVector, BitVector}) where TA in SparseArrays at /julia/julia-1.8.5/share/julia/stdlib/v1.8/SparseArrays/src/linalg.jl:50\n",
       "[36] *(A::Union{SparseArrays.AbstractSparseMatrixCSC{Tv, Ti}, SubArray{Tv, 2, <:SparseArrays.AbstractSparseMatrixCSC{Tv, Ti}, Tuple{Base.Slice{Base.OneTo{Int64}}, I}} where I<:AbstractUnitRange, LinearAlgebra.LowerTriangular{Tv, <:Union{SparseArrays.AbstractSparseMatrixCSC{Tv, Ti}, SubArray{Tv, 2, <:SparseArrays.AbstractSparseMatrixCSC{Tv, Ti}, Tuple{Base.Slice{Base.OneTo{Int64}}, I}} where I<:AbstractUnitRange}}, LinearAlgebra.UpperTriangular{Tv, <:Union{SparseArrays.AbstractSparseMatrixCSC{Tv, Ti}, SubArray{Tv, 2, <:SparseArrays.AbstractSparseMatrixCSC{Tv, Ti}, Tuple{Base.Slice{Base.OneTo{Int64}}, I}} where I<:AbstractUnitRange}}} where {Tv, Ti}, B::SubArray{Tv, 1, <:SparseArrays.AbstractSparseMatrixCSC{Tv, Ti}, Tuple{Base.Slice{Base.OneTo{Int64}}, Int64}, false} where {Tv, Ti}) in SparseArrays at /julia/julia-1.8.5/share/julia/stdlib/v1.8/SparseArrays/src/linalg.jl:151\n",
       "[37] *(A::Union{SparseArrays.AbstractSparseMatrixCSC{Tv, Ti}, SubArray{Tv, 2, <:SparseArrays.AbstractSparseMatrixCSC{Tv, Ti}, Tuple{Base.Slice{Base.OneTo{Int64}}, I}} where I<:AbstractUnitRange, LinearAlgebra.LowerTriangular{Tv, <:Union{SparseArrays.AbstractSparseMatrixCSC{Tv, Ti}, SubArray{Tv, 2, <:SparseArrays.AbstractSparseMatrixCSC{Tv, Ti}, Tuple{Base.Slice{Base.OneTo{Int64}}, I}} where I<:AbstractUnitRange}}, LinearAlgebra.UpperTriangular{Tv, <:Union{SparseArrays.AbstractSparseMatrixCSC{Tv, Ti}, SubArray{Tv, 2, <:SparseArrays.AbstractSparseMatrixCSC{Tv, Ti}, Tuple{Base.Slice{Base.OneTo{Int64}}, I}} where I<:AbstractUnitRange}}} where {Tv, Ti}, B::SubArray{Tv, 1, <:SparseArrays.AbstractSparseVector{Tv, Ti}, Tuple{Base.Slice{Base.OneTo{Int64}}}, false} where {Tv, Ti}) in SparseArrays at /julia/julia-1.8.5/share/julia/stdlib/v1.8/SparseArrays/src/linalg.jl:152\n",
       "[38] *(A::Union{SparseArrays.AbstractSparseMatrixCSC{Tv, Ti}, SubArray{Tv, 2, <:SparseArrays.AbstractSparseMatrixCSC{Tv, Ti}, Tuple{Base.Slice{Base.OneTo{Int64}}, I}} where I<:AbstractUnitRange} where {Tv, Ti}, B::Union{SparseArrays.AbstractSparseMatrixCSC{Tv, Ti}, SubArray{Tv, 2, <:SparseArrays.AbstractSparseMatrixCSC{Tv, Ti}, Tuple{Base.Slice{Base.OneTo{Int64}}, I}} where I<:AbstractUnitRange} where {Tv, Ti}) in SparseArrays at /julia/julia-1.8.5/share/julia/stdlib/v1.8/SparseArrays/src/linalg.jl:153\n",
       "[39] *(A::Union{LinearAlgebra.LowerTriangular{Tv, <:Union{SparseArrays.AbstractSparseMatrixCSC{Tv, Ti}, SubArray{Tv, 2, <:SparseArrays.AbstractSparseMatrixCSC{Tv, Ti}, Tuple{Base.Slice{Base.OneTo{Int64}}, I}} where I<:AbstractUnitRange}}, LinearAlgebra.UpperTriangular{Tv, <:Union{SparseArrays.AbstractSparseMatrixCSC{Tv, Ti}, SubArray{Tv, 2, <:SparseArrays.AbstractSparseMatrixCSC{Tv, Ti}, Tuple{Base.Slice{Base.OneTo{Int64}}, I}} where I<:AbstractUnitRange}}} where {Tv, Ti}, B::Union{SparseArrays.AbstractSparseMatrixCSC{Tv, Ti}, SubArray{Tv, 2, <:SparseArrays.AbstractSparseMatrixCSC{Tv, Ti}, Tuple{Base.Slice{Base.OneTo{Int64}}, I}} where I<:AbstractUnitRange} where {Tv, Ti}) in SparseArrays at /julia/julia-1.8.5/share/julia/stdlib/v1.8/SparseArrays/src/linalg.jl:154\n",
       "[40] *(X::Union{LinearAlgebra.Adjoint{<:Any, <:Union{LinearAlgebra.LowerTriangular, LinearAlgebra.UnitLowerTriangular, LinearAlgebra.UnitUpperTriangular, LinearAlgebra.UpperTriangular, StridedMatrix, BitMatrix}}, LinearAlgebra.LowerTriangular, LinearAlgebra.Transpose{<:Any, <:Union{LinearAlgebra.LowerTriangular, LinearAlgebra.UnitLowerTriangular, LinearAlgebra.UnitUpperTriangular, LinearAlgebra.UpperTriangular, StridedMatrix, BitMatrix}}, LinearAlgebra.UnitLowerTriangular, LinearAlgebra.UnitUpperTriangular, LinearAlgebra.UpperTriangular, StridedMatrix, BitMatrix}, A::Union{SparseArrays.AbstractSparseMatrixCSC{TvA, Ti}, SubArray{TvA, 2, <:SparseArrays.AbstractSparseMatrixCSC{TvA, Ti}, Tuple{Base.Slice{Base.OneTo{Int64}}, I}} where I<:AbstractUnitRange} where Ti) where TvA in SparseArrays at /julia/julia-1.8.5/share/julia/stdlib/v1.8/SparseArrays/src/linalg.jl:114\n",
       "[41] *(A::Union{SparseArrays.AbstractSparseMatrixCSC{Tv, Ti}, SubArray{Tv, 2, <:SparseArrays.AbstractSparseMatrixCSC{Tv, Ti}, Tuple{Base.Slice{Base.OneTo{Int64}}, I}} where I<:AbstractUnitRange} where {Tv, Ti}, B::Union{LinearAlgebra.LowerTriangular{Tv, <:Union{SparseArrays.AbstractSparseMatrixCSC{Tv, Ti}, SubArray{Tv, 2, <:SparseArrays.AbstractSparseMatrixCSC{Tv, Ti}, Tuple{Base.Slice{Base.OneTo{Int64}}, I}} where I<:AbstractUnitRange}}, LinearAlgebra.UpperTriangular{Tv, <:Union{SparseArrays.AbstractSparseMatrixCSC{Tv, Ti}, SubArray{Tv, 2, <:SparseArrays.AbstractSparseMatrixCSC{Tv, Ti}, Tuple{Base.Slice{Base.OneTo{Int64}}, I}} where I<:AbstractUnitRange}}} where {Tv, Ti}) in SparseArrays at /julia/julia-1.8.5/share/julia/stdlib/v1.8/SparseArrays/src/linalg.jl:155\n",
       "[42] *(A::Union{SparseArrays.AbstractSparseMatrixCSC{TA, Ti}, SubArray{TA, 2, <:SparseArrays.AbstractSparseMatrixCSC{TA, Ti}, Tuple{Base.Slice{Base.OneTo{Int64}}, I}} where I<:AbstractUnitRange} where Ti, B::Union{LinearAlgebra.Adjoint{<:Any, <:Union{LinearAlgebra.LowerTriangular, LinearAlgebra.UnitLowerTriangular, LinearAlgebra.UnitUpperTriangular, LinearAlgebra.UpperTriangular, StridedMatrix, BitMatrix}}, LinearAlgebra.LowerTriangular, LinearAlgebra.Transpose{<:Any, <:Union{LinearAlgebra.LowerTriangular, LinearAlgebra.UnitLowerTriangular, LinearAlgebra.UnitUpperTriangular, LinearAlgebra.UpperTriangular, StridedMatrix, BitMatrix}}, LinearAlgebra.UnitLowerTriangular, LinearAlgebra.UnitUpperTriangular, LinearAlgebra.UpperTriangular, StridedMatrix, BitMatrix}) where TA in SparseArrays at /julia/julia-1.8.5/share/julia/stdlib/v1.8/SparseArrays/src/linalg.jl:52\n",
       "[43] *(A::Union{LinearAlgebra.LowerTriangular{Tv, <:Union{SparseArrays.AbstractSparseMatrixCSC{Tv, Ti}, SubArray{Tv, 2, <:SparseArrays.AbstractSparseMatrixCSC{Tv, Ti}, Tuple{Base.Slice{Base.OneTo{Int64}}, I}} where I<:AbstractUnitRange}}, LinearAlgebra.UpperTriangular{Tv, <:Union{SparseArrays.AbstractSparseMatrixCSC{Tv, Ti}, SubArray{Tv, 2, <:SparseArrays.AbstractSparseMatrixCSC{Tv, Ti}, Tuple{Base.Slice{Base.OneTo{Int64}}, I}} where I<:AbstractUnitRange}}} where {Tv, Ti}, B::Union{LinearAlgebra.LowerTriangular{Tv, <:Union{SparseArrays.AbstractSparseMatrixCSC{Tv, Ti}, SubArray{Tv, 2, <:SparseArrays.AbstractSparseMatrixCSC{Tv, Ti}, Tuple{Base.Slice{Base.OneTo{Int64}}, I}} where I<:AbstractUnitRange}}, LinearAlgebra.UpperTriangular{Tv, <:Union{SparseArrays.AbstractSparseMatrixCSC{Tv, Ti}, SubArray{Tv, 2, <:SparseArrays.AbstractSparseMatrixCSC{Tv, Ti}, Tuple{Base.Slice{Base.OneTo{Int64}}, I}} where I<:AbstractUnitRange}}} where {Tv, Ti}) in SparseArrays at /julia/julia-1.8.5/share/julia/stdlib/v1.8/SparseArrays/src/linalg.jl:156\n",
       "[44] *(A::Union{SparseArrays.AbstractSparseMatrixCSC{Tv, Ti}, SubArray{Tv, 2, <:SparseArrays.AbstractSparseMatrixCSC{Tv, Ti}, Tuple{Base.Slice{Base.OneTo{Int64}}, I}} where I<:AbstractUnitRange, LinearAlgebra.LowerTriangular{Tv, <:Union{SparseArrays.AbstractSparseMatrixCSC{Tv, Ti}, SubArray{Tv, 2, <:SparseArrays.AbstractSparseMatrixCSC{Tv, Ti}, Tuple{Base.Slice{Base.OneTo{Int64}}, I}} where I<:AbstractUnitRange}}, LinearAlgebra.UpperTriangular{Tv, <:Union{SparseArrays.AbstractSparseMatrixCSC{Tv, Ti}, SubArray{Tv, 2, <:SparseArrays.AbstractSparseMatrixCSC{Tv, Ti}, Tuple{Base.Slice{Base.OneTo{Int64}}, I}} where I<:AbstractUnitRange}}} where {Tv, Ti}, B::LinearAlgebra.Adjoint{<:Any, <:SparseArrays.AbstractSparseMatrixCSC}) in SparseArrays at /julia/julia-1.8.5/share/julia/stdlib/v1.8/SparseArrays/src/linalg.jl:157\n",
       "[45] *(X::Union{LinearAlgebra.Adjoint{<:Any, <:Union{LinearAlgebra.LowerTriangular, LinearAlgebra.UnitLowerTriangular, LinearAlgebra.UnitUpperTriangular, LinearAlgebra.UpperTriangular, StridedMatrix, BitMatrix}}, LinearAlgebra.LowerTriangular, LinearAlgebra.Transpose{<:Any, <:Union{LinearAlgebra.LowerTriangular, LinearAlgebra.UnitLowerTriangular, LinearAlgebra.UnitUpperTriangular, LinearAlgebra.UpperTriangular, StridedMatrix, BitMatrix}}, LinearAlgebra.UnitLowerTriangular, LinearAlgebra.UnitUpperTriangular, LinearAlgebra.UpperTriangular, StridedMatrix, BitMatrix}, adjA::LinearAlgebra.Adjoint{<:Any, <:SparseArrays.AbstractSparseMatrixCSC}) in SparseArrays at /julia/julia-1.8.5/share/julia/stdlib/v1.8/SparseArrays/src/linalg.jl:139\n",
       "[46] *(A::Union{SparseArrays.AbstractSparseMatrixCSC{Tv, Ti}, SubArray{Tv, 2, <:SparseArrays.AbstractSparseMatrixCSC{Tv, Ti}, Tuple{Base.Slice{Base.OneTo{Int64}}, I}} where I<:AbstractUnitRange, LinearAlgebra.LowerTriangular{Tv, <:Union{SparseArrays.AbstractSparseMatrixCSC{Tv, Ti}, SubArray{Tv, 2, <:SparseArrays.AbstractSparseMatrixCSC{Tv, Ti}, Tuple{Base.Slice{Base.OneTo{Int64}}, I}} where I<:AbstractUnitRange}}, LinearAlgebra.UpperTriangular{Tv, <:Union{SparseArrays.AbstractSparseMatrixCSC{Tv, Ti}, SubArray{Tv, 2, <:SparseArrays.AbstractSparseMatrixCSC{Tv, Ti}, Tuple{Base.Slice{Base.OneTo{Int64}}, I}} where I<:AbstractUnitRange}}} where {Tv, Ti}, B::LinearAlgebra.Transpose{<:Any, <:SparseArrays.AbstractSparseMatrixCSC}) in SparseArrays at /julia/julia-1.8.5/share/julia/stdlib/v1.8/SparseArrays/src/linalg.jl:158\n",
       "[47] *(X::Union{LinearAlgebra.Adjoint{<:Any, <:Union{LinearAlgebra.LowerTriangular, LinearAlgebra.UnitLowerTriangular, LinearAlgebra.UnitUpperTriangular, LinearAlgebra.UpperTriangular, StridedMatrix, BitMatrix}}, LinearAlgebra.LowerTriangular, LinearAlgebra.Transpose{<:Any, <:Union{LinearAlgebra.LowerTriangular, LinearAlgebra.UnitLowerTriangular, LinearAlgebra.UnitUpperTriangular, LinearAlgebra.UpperTriangular, StridedMatrix, BitMatrix}}, LinearAlgebra.UnitLowerTriangular, LinearAlgebra.UnitUpperTriangular, LinearAlgebra.UpperTriangular, StridedMatrix, BitMatrix}, tA::LinearAlgebra.Transpose{<:Any, <:SparseArrays.AbstractSparseMatrixCSC}) in SparseArrays at /julia/julia-1.8.5/share/julia/stdlib/v1.8/SparseArrays/src/linalg.jl:141\n",
       "[48] *(A::Union{SparseArrays.SparseMatrixCSC{Float64, Ti}, SparseArrays.SparseVector{Float64, Ti}}, B::LinearAlgebra.Symmetric{Float64, SparseArrays.SparseMatrixCSC{Float64, Ti}}) where Ti in SuiteSparse.CHOLMOD at /julia/julia-1.8.5/share/julia/stdlib/v1.8/SuiteSparse/src/cholmod.jl:1687\n",
       "[49] *(A::Union{SparseArrays.SparseMatrixCSC{ComplexF64, Ti}, SparseArrays.SparseVector{ComplexF64, Ti}}, B::LinearAlgebra.Hermitian{ComplexF64, SparseArrays.SparseMatrixCSC{ComplexF64, Ti}}) where Ti in SuiteSparse.CHOLMOD at /julia/julia-1.8.5/share/julia/stdlib/v1.8/SuiteSparse/src/cholmod.jl:1689\n",
       "[50] *(A::Union{SparseArrays.SparseMatrixCSC{Float64, Ti}, SparseArrays.SparseVector{Float64, Ti}}, B::LinearAlgebra.Hermitian{Float64, SparseArrays.SparseMatrixCSC{Float64, Ti}}) where Ti in SuiteSparse.CHOLMOD at /julia/julia-1.8.5/share/julia/stdlib/v1.8/SuiteSparse/src/cholmod.jl:1691\n",
       "[51] *(A::LinearAlgebra.Symmetric, x::Number) in LinearAlgebra at /julia/julia-1.8.5/share/julia/stdlib/v1.8/LinearAlgebra/src/symmetric.jl:604\n",
       "[52] *(A::LinearAlgebra.Symmetric{Float64, SparseArrays.SparseMatrixCSC{Float64, Ti}}, B::Union{SparseArrays.SparseMatrixCSC{Float64, Ti}, SparseArrays.SparseVector{Float64, Ti}}) where Ti in SuiteSparse.CHOLMOD at /julia/julia-1.8.5/share/julia/stdlib/v1.8/SuiteSparse/src/cholmod.jl:1680\n",
       "[53] *(F::LinearAlgebra.Hessenberg{<:Any, <:AbstractMatrix{T}}, x::S) where {T, S<:Number} in LinearAlgebra at /julia/julia-1.8.5/share/julia/stdlib/v1.8/LinearAlgebra/src/hessenberg.jl:622\n",
       "[54] *(A::LinearAlgebra.UpperTriangular, x::Number) in LinearAlgebra at /julia/julia-1.8.5/share/julia/stdlib/v1.8/LinearAlgebra/src/triangular.jl:851\n",
       "[55] *(A::LinearAlgebra.UpperTriangular, B::LinearAlgebra.UpperTriangular) in LinearAlgebra at /julia/julia-1.8.5/share/julia/stdlib/v1.8/LinearAlgebra/src/triangular.jl:1545\n",
       "[56] *(A::LinearAlgebra.UpperTriangular, B::LinearAlgebra.UnitUpperTriangular) in LinearAlgebra at /julia/julia-1.8.5/share/julia/stdlib/v1.8/LinearAlgebra/src/triangular.jl:1559\n",
       "[57] *(A::LinearAlgebra.UpperTriangular, D::LinearAlgebra.Diagonal) in LinearAlgebra at /julia/julia-1.8.5/share/julia/stdlib/v1.8/LinearAlgebra/src/diagonal.jl:550\n",
       "[58] *(A::AbstractMatrix{T}, R::LinearAlgebra.AbstractRotation{S}) where {T, S} in LinearAlgebra at /julia/julia-1.8.5/share/julia/stdlib/v1.8/LinearAlgebra/src/givens.jl:20\n",
       "[59] *(A::LinearAlgebra.Hermitian, x::Real) in LinearAlgebra at /julia/julia-1.8.5/share/julia/stdlib/v1.8/LinearAlgebra/src/symmetric.jl:606\n",
       "[60] *(A::LinearAlgebra.Hermitian{ComplexF64, SparseArrays.SparseMatrixCSC{ComplexF64, Ti}}, B::Union{SparseArrays.SparseMatrixCSC{ComplexF64, Ti}, SparseArrays.SparseVector{ComplexF64, Ti}}) where Ti in SuiteSparse.CHOLMOD at /julia/julia-1.8.5/share/julia/stdlib/v1.8/SuiteSparse/src/cholmod.jl:1682\n",
       "[61] *(A::LinearAlgebra.Hermitian{Float64, SparseArrays.SparseMatrixCSC{Float64, Ti}}, B::Union{SparseArrays.SparseMatrixCSC{Float64, Ti}, SparseArrays.SparseVector{Float64, Ti}}) where Ti in SuiteSparse.CHOLMOD at /julia/julia-1.8.5/share/julia/stdlib/v1.8/SuiteSparse/src/cholmod.jl:1684\n",
       "[62] *(J1::LinearAlgebra.UniformScaling, J2::LinearAlgebra.UniformScaling) in LinearAlgebra at /julia/julia-1.8.5/share/julia/stdlib/v1.8/LinearAlgebra/src/uniformscaling.jl:257\n",
       "[63] *(J::LinearAlgebra.UniformScaling, B::BitMatrix) in LinearAlgebra at /julia/julia-1.8.5/share/julia/stdlib/v1.8/LinearAlgebra/src/uniformscaling.jl:259\n",
       "[64] *(J::LinearAlgebra.UniformScaling, x::Number) in LinearAlgebra at /julia/julia-1.8.5/share/julia/stdlib/v1.8/LinearAlgebra/src/uniformscaling.jl:264\n",
       "[65] *(x::LinearAlgebra.UniformScaling, H::LinearAlgebra.UpperHessenberg) in LinearAlgebra at /julia/julia-1.8.5/share/julia/stdlib/v1.8/LinearAlgebra/src/hessenberg.jl:117\n",
       "[66] *(J::LinearAlgebra.UniformScaling, A::AbstractVecOrMat) in LinearAlgebra at /julia/julia-1.8.5/share/julia/stdlib/v1.8/LinearAlgebra/src/uniformscaling.jl:262\n",
       "[67] *(z::Complex, w::Complex) in Base at complex.jl:290\n",
       "[68] *(adjQ::LinearAlgebra.Adjoint{<:Any, <:LinearAlgebra.AbstractQ}, B::StridedVecOrMat) in LinearAlgebra at /julia/julia-1.8.5/share/julia/stdlib/v1.8/LinearAlgebra/src/qr.jl:722\n",
       "[69] *(adjA::LinearAlgebra.Adjoint{<:Any, <:StridedMatrix{T}}, x::StridedVector{S}) where {T<:Union{Float32, Float64, ComplexF32, ComplexF64}, S} in LinearAlgebra at /julia/julia-1.8.5/share/julia/stdlib/v1.8/LinearAlgebra/src/matmul.jl:99\n",
       "[70] *(adjA::LinearAlgebra.Adjoint{<:Any, <:LinearAlgebra.LQPackedQ}, B::StridedVecOrMat) in LinearAlgebra at /julia/julia-1.8.5/share/julia/stdlib/v1.8/LinearAlgebra/src/lq.jl:217\n",
       "[71] *(Q::LinearAlgebra.Adjoint{<:Any, <:LinearAlgebra.AbstractQ}, B::Union{LinearAlgebra.Bidiagonal, LinearAlgebra.SymTridiagonal, LinearAlgebra.Tridiagonal}) in LinearAlgebra at /julia/julia-1.8.5/share/julia/stdlib/v1.8/LinearAlgebra/src/special.jl:319\n",
       "[72] *(adjA::LinearAlgebra.Adjoint{<:Any, <:SparseArrays.AbstractSparseMatrixCSC}, x::Union{StridedVector, BitVector}) in SparseArrays at /julia/julia-1.8.5/share/julia/stdlib/v1.8/SparseArrays/src/linalg.jl:78\n",
       "[73] *(A::LinearAlgebra.Adjoint{<:Any, <:SparseArrays.AbstractSparseMatrixCSC}, B::Union{SparseArrays.AbstractSparseMatrixCSC{Tv, Ti}, SubArray{Tv, 2, <:SparseArrays.AbstractSparseMatrixCSC{Tv, Ti}, Tuple{Base.Slice{Base.OneTo{Int64}}, I}} where I<:AbstractUnitRange, LinearAlgebra.LowerTriangular{Tv, <:Union{SparseArrays.AbstractSparseMatrixCSC{Tv, Ti}, SubArray{Tv, 2, <:SparseArrays.AbstractSparseMatrixCSC{Tv, Ti}, Tuple{Base.Slice{Base.OneTo{Int64}}, I}} where I<:AbstractUnitRange}}, LinearAlgebra.UpperTriangular{Tv, <:Union{SparseArrays.AbstractSparseMatrixCSC{Tv, Ti}, SubArray{Tv, 2, <:SparseArrays.AbstractSparseMatrixCSC{Tv, Ti}, Tuple{Base.Slice{Base.OneTo{Int64}}, I}} where I<:AbstractUnitRange}}} where {Tv, Ti}) in SparseArrays at /julia/julia-1.8.5/share/julia/stdlib/v1.8/SparseArrays/src/linalg.jl:160\n",
       "[74] *(adjA::LinearAlgebra.Adjoint{<:Any, <:SparseArrays.AbstractSparseMatrixCSC}, B::Union{LinearAlgebra.Adjoint{<:Any, <:Union{LinearAlgebra.LowerTriangular, LinearAlgebra.UnitLowerTriangular, LinearAlgebra.UnitUpperTriangular, LinearAlgebra.UpperTriangular, StridedMatrix, BitMatrix}}, LinearAlgebra.LowerTriangular, LinearAlgebra.Transpose{<:Any, <:Union{LinearAlgebra.LowerTriangular, LinearAlgebra.UnitLowerTriangular, LinearAlgebra.UnitUpperTriangular, LinearAlgebra.UpperTriangular, StridedMatrix, BitMatrix}}, LinearAlgebra.UnitLowerTriangular, LinearAlgebra.UnitUpperTriangular, LinearAlgebra.UpperTriangular, StridedMatrix, BitMatrix}) in SparseArrays at /julia/julia-1.8.5/share/julia/stdlib/v1.8/SparseArrays/src/linalg.jl:80\n",
       "[75] *(u::LinearAlgebra.Adjoint{<:Number, <:AbstractVector}, v::AbstractVector{<:Number}) in LinearAlgebra at /julia/julia-1.8.5/share/julia/stdlib/v1.8/LinearAlgebra/src/adjtrans.jl:309\n",
       "[76] *(adjA::LinearAlgebra.Adjoint{<:Any, <:Union{LinearAlgebra.LowerTriangular{Ta, S} where S<:AbstractMatrix{Ta}, LinearAlgebra.UnitLowerTriangular{Ta, S} where S<:AbstractMatrix{Ta}, LinearAlgebra.UnitUpperTriangular{Ta, S} where S<:AbstractMatrix{Ta}, LinearAlgebra.UpperTriangular{Ta, S} where S<:AbstractMatrix{Ta}, StridedArray{Ta, 2}}}, x::SparseArrays.AbstractSparseVector{Tx}) where {Ta, Tx} in SparseArrays at /julia/julia-1.8.5/share/julia/stdlib/v1.8/SparseArrays/src/sparsevector.jl:1681\n",
       "[77] *(adjA::LinearAlgebra.Adjoint{<:Any, <:SparseArrays.AbstractSparseMatrixCSC}, x::SparseArrays.AbstractSparseVector) in SparseArrays at /julia/julia-1.8.5/share/julia/stdlib/v1.8/SparseArrays/src/sparsevector.jl:1823\n",
       "[78] *(adjA::LinearAlgebra.Adjoint{<:Any, <:SuiteSparse.CHOLMOD.Sparse}, B::VecOrMat) in SuiteSparse.CHOLMOD at /julia/julia-1.8.5/share/julia/stdlib/v1.8/SuiteSparse/src/cholmod.jl:1114\n",
       "[79] *(adjA::LinearAlgebra.Adjoint{<:Any, <:StridedMatrix{T} where T}, Q::LinearAlgebra.LQPackedQ) in LinearAlgebra at /julia/julia-1.8.5/share/julia/stdlib/v1.8/LinearAlgebra/src/lq.jl:305\n",
       "[80] *(adjQ::LinearAlgebra.Adjoint{<:Any, <:LinearAlgebra.AbstractQ}, adjB::LinearAlgebra.Adjoint{<:Any, <:StridedVecOrMat}) in LinearAlgebra at /julia/julia-1.8.5/share/julia/stdlib/v1.8/LinearAlgebra/src/qr.jl:736\n",
       "[81] *(u::LinearAlgebra.Adjoint{T, <:AbstractVector} where T, v::LinearAlgebra.Adjoint{<:Any, <:LinearAlgebra.Transpose{T, <:AbstractVector} where T}) in LinearAlgebra at /julia/julia-1.8.5/share/julia/stdlib/v1.8/LinearAlgebra/src/adjtrans.jl:324\n",
       "[82] *(adjA::LinearAlgebra.Adjoint{<:Any, <:StridedVecOrMat}, adjQ::LinearAlgebra.Adjoint{<:Any, <:LinearAlgebra.AbstractQ}) in LinearAlgebra at /julia/julia-1.8.5/share/julia/stdlib/v1.8/LinearAlgebra/src/qr.jl:845\n",
       "[83] *(adjA::LinearAlgebra.Adjoint{<:Any, <:LinearAlgebra.LQPackedQ}, adjB::LinearAlgebra.Adjoint{<:Any, <:StridedVecOrMat}) in LinearAlgebra at /julia/julia-1.8.5/share/julia/stdlib/v1.8/LinearAlgebra/src/lq.jl:237\n",
       "[84] *(adjA::LinearAlgebra.Adjoint{<:Any, <:StridedMatrix{T} where T}, adjQ::LinearAlgebra.Adjoint{<:Any, <:LinearAlgebra.LQPackedQ}) in LinearAlgebra at /julia/julia-1.8.5/share/julia/stdlib/v1.8/LinearAlgebra/src/lq.jl:274\n",
       "[85] *(A::LinearAlgebra.Adjoint{<:Any, <:AbstractVector}, B::LinearAlgebra.Adjoint{<:Any, <:LinearAlgebra.AbstractRotation}) in LinearAlgebra at /julia/julia-1.8.5/share/julia/stdlib/v1.8/LinearAlgebra/src/givens.jl:402\n",
       "[86] *(A::LinearAlgebra.Adjoint{<:Any, <:AbstractMatrix}, B::LinearAlgebra.Adjoint{<:Any, <:LinearAlgebra.AbstractRotation}) in LinearAlgebra at /julia/julia-1.8.5/share/julia/stdlib/v1.8/LinearAlgebra/src/givens.jl:403\n",
       "[87] *(Q::LinearAlgebra.Adjoint{<:Any, <:LinearAlgebra.AbstractQ}, B::LinearAlgebra.Adjoint{<:Any, <:LinearAlgebra.AbstractQ}) in LinearAlgebra at /julia/julia-1.8.5/share/julia/stdlib/v1.8/LinearAlgebra/src/special.jl:353\n",
       "[88] *(u::LinearAlgebra.Adjoint{T, <:AbstractVector} where T, A::LinearAlgebra.Adjoint{<:Any, <:LinearAlgebra.AbstractQ}) in LinearAlgebra at /julia/julia-1.8.5/share/julia/stdlib/v1.8/LinearAlgebra/src/qr.jl:834\n",
       "[89] *(A::LinearAlgebra.Adjoint{<:Any, <:SparseArrays.AbstractSparseMatrixCSC}, B::LinearAlgebra.Adjoint{<:Any, <:SparseArrays.AbstractSparseMatrixCSC}) in SparseArrays at /julia/julia-1.8.5/share/julia/stdlib/v1.8/SparseArrays/src/linalg.jl:161\n",
       "[90] *(u::LinearAlgebra.Adjoint{T, <:AbstractVector} where T, v::LinearAlgebra.Adjoint{T, <:AbstractVector} where T) in LinearAlgebra at /julia/julia-1.8.5/share/julia/stdlib/v1.8/LinearAlgebra/src/adjtrans.jl:318\n",
       "[91] *(adjA::LinearAlgebra.Adjoint{<:Any, <:SuiteSparse.CHOLMOD.Sparse}, B::SuiteSparse.CHOLMOD.Sparse) in SuiteSparse.CHOLMOD at /julia/julia-1.8.5/share/julia/stdlib/v1.8/SuiteSparse/src/cholmod.jl:1102\n",
       "[92] *(Q::LinearAlgebra.Adjoint{<:Any, <:LinearAlgebra.AbstractQ}, B::LinearAlgebra.Diagonal) in LinearAlgebra at /julia/julia-1.8.5/share/julia/stdlib/v1.8/LinearAlgebra/src/special.jl:321\n",
       "[93] *(adjA::LinearAlgebra.Adjoint{<:Any, <:AbstractMatrix}, D::LinearAlgebra.Diagonal) in LinearAlgebra at /julia/julia-1.8.5/share/julia/stdlib/v1.8/LinearAlgebra/src/diagonal.jl:256\n",
       "[94] *(x::LinearAlgebra.Adjoint{T, <:AbstractVector} where T, D::LinearAlgebra.Diagonal) in LinearAlgebra at /julia/julia-1.8.5/share/julia/stdlib/v1.8/LinearAlgebra/src/diagonal.jl:752\n",
       "[95] *(x::LinearAlgebra.Adjoint{T, <:AbstractVector} where T, D::LinearAlgebra.Diagonal, y::AbstractVector) in LinearAlgebra at /julia/julia-1.8.5/share/julia/stdlib/v1.8/LinearAlgebra/src/diagonal.jl:754\n",
       "[96] *(adjA::LinearAlgebra.Adjoint{<:Any, <:StridedVecOrMat}, Q::LinearAlgebra.AbstractQ) in LinearAlgebra at /julia/julia-1.8.5/share/julia/stdlib/v1.8/LinearAlgebra/src/qr.jl:838\n",
       "[97] *(Q::LinearAlgebra.Adjoint{<:Any, <:LinearAlgebra.AbstractQ}, B::LinearAlgebra.AbstractQ) in LinearAlgebra at /julia/julia-1.8.5/share/julia/stdlib/v1.8/LinearAlgebra/src/special.jl:351\n",
       "[98] *(adjA::LinearAlgebra.Adjoint{<:Any, <:SuiteSparse.CHOLMOD.Sparse}, B::SuiteSparse.CHOLMOD.Dense) in SuiteSparse.CHOLMOD at /julia/julia-1.8.5/share/julia/stdlib/v1.8/SuiteSparse/src/cholmod.jl:1112\n",
       "[99] *(u::LinearAlgebra.Adjoint{T, <:AbstractVector} where T, v::LinearAlgebra.Transpose{<:Any, <:LinearAlgebra.Adjoint{T, <:AbstractVector} where T}) in LinearAlgebra at /julia/julia-1.8.5/share/julia/stdlib/v1.8/LinearAlgebra/src/adjtrans.jl:326\n",
       "[100] *(Q::LinearAlgebra.Adjoint{<:Any, <:LinearAlgebra.AbstractQ}, B::LinearAlgebra.AbstractTriangular) in LinearAlgebra at /julia/julia-1.8.5/share/julia/stdlib/v1.8/LinearAlgebra/src/special.jl:317\n",
       "[101] *(adjA::LinearAlgebra.Adjoint{<:Any, <:AbstractMatrix{T}}, x::AbstractVector{S}) where {T, S} in LinearAlgebra at /julia/julia-1.8.5/share/julia/stdlib/v1.8/LinearAlgebra/src/matmul.jl:103\n",
       "[102] *(A::LinearAlgebra.Adjoint{<:Any, <:AbstractMatrix}, B::LinearAlgebra.AbstractTriangular) in LinearAlgebra at /julia/julia-1.8.5/share/julia/stdlib/v1.8/LinearAlgebra/src/triangular.jl:1686\n",
       "[103] *(v::LinearAlgebra.Adjoint{T, <:AbstractVector} where T, A::LinearAlgebra.AbstractTriangular) in LinearAlgebra at /julia/julia-1.8.5/share/julia/stdlib/v1.8/LinearAlgebra/src/triangular.jl:1678\n",
       "[104] *(x::LinearAlgebra.Adjoint{T, <:AbstractVector} where T, A::AbstractMatrix) in LinearAlgebra at /julia/julia-1.8.5/share/julia/stdlib/v1.8/LinearAlgebra/src/matmul.jl:119\n",
       "[105] *(A::SuiteSparse.CHOLMOD.Sparse, B::SuiteSparse.CHOLMOD.Sparse) in SuiteSparse.CHOLMOD at /julia/julia-1.8.5/share/julia/stdlib/v1.8/SuiteSparse/src/cholmod.jl:1077\n",
       "[106] *(A::SuiteSparse.CHOLMOD.Sparse, B::SuiteSparse.CHOLMOD.Dense) in SuiteSparse.CHOLMOD at /julia/julia-1.8.5/share/julia/stdlib/v1.8/SuiteSparse/src/cholmod.jl:1078\n",
       "[107] *(A::SuiteSparse.CHOLMOD.Sparse, B::VecOrMat) in SuiteSparse.CHOLMOD at /julia/julia-1.8.5/share/julia/stdlib/v1.8/SuiteSparse/src/cholmod.jl:1079\n",
       "[108] *(A::SuiteSparse.CHOLMOD.Sparse{Tv}, adjB::LinearAlgebra.Adjoint{Tv, SuiteSparse.CHOLMOD.Sparse{Tv}}) where Tv<:Float64 in SuiteSparse.CHOLMOD at /julia/julia-1.8.5/share/julia/stdlib/v1.8/SuiteSparse/src/cholmod.jl:1081\n",
       "[109] *(A::LinearAlgebra.AbstractQ, b::StridedVector{T} where T) in LinearAlgebra at /julia/julia-1.8.5/share/julia/stdlib/v1.8/LinearAlgebra/src/qr.jl:655\n",
       "[110] *(A::LinearAlgebra.AbstractQ, B::StridedMatrix{T} where T) in LinearAlgebra at /julia/julia-1.8.5/share/julia/stdlib/v1.8/LinearAlgebra/src/qr.jl:667\n",
       "[111] *(A::LinearAlgebra.AbstractQ, b::Number) in LinearAlgebra at /julia/julia-1.8.5/share/julia/stdlib/v1.8/LinearAlgebra/src/qr.jl:680\n",
       "[112] *(Q::LinearAlgebra.AbstractQ, adjB::LinearAlgebra.Adjoint{<:Any, <:StridedVecOrMat}) in LinearAlgebra at /julia/julia-1.8.5/share/julia/stdlib/v1.8/LinearAlgebra/src/qr.jl:729\n",
       "[113] *(Q::LinearAlgebra.AbstractQ, B::LinearAlgebra.AbstractTriangular) in LinearAlgebra at /julia/julia-1.8.5/share/julia/stdlib/v1.8/LinearAlgebra/src/special.jl:316\n",
       "[114] *(Q::LinearAlgebra.AbstractQ, B::Union{LinearAlgebra.Bidiagonal, LinearAlgebra.SymTridiagonal, LinearAlgebra.Tridiagonal}) in LinearAlgebra at /julia/julia-1.8.5/share/julia/stdlib/v1.8/LinearAlgebra/src/special.jl:318\n",
       "[115] *(Q::LinearAlgebra.AbstractQ, B::LinearAlgebra.Diagonal) in LinearAlgebra at /julia/julia-1.8.5/share/julia/stdlib/v1.8/LinearAlgebra/src/special.jl:320\n",
       "[116] *(Q::LinearAlgebra.AbstractQ, B::LinearAlgebra.AbstractQ) in LinearAlgebra at /julia/julia-1.8.5/share/julia/stdlib/v1.8/LinearAlgebra/src/special.jl:350\n",
       "[117] *(Q::LinearAlgebra.AbstractQ, B::LinearAlgebra.Adjoint{<:Any, <:LinearAlgebra.AbstractQ}) in LinearAlgebra at /julia/julia-1.8.5/share/julia/stdlib/v1.8/LinearAlgebra/src/special.jl:352\n",
       "[118] *(y::Integer, x::Rational) in Base at rational.jl:342\n",
       "[119] *(a::Integer, index::CartesianIndex{N}) where N in Base.IteratorsMD at multidimensional.jl:123\n",
       "[120] *(tA::LinearAlgebra.Transpose{<:Any, <:StridedMatrix{T}}, x::StridedVector{S}) where {T<:Union{Float32, Float64, ComplexF32, ComplexF64}, S} in LinearAlgebra at /julia/julia-1.8.5/share/julia/stdlib/v1.8/LinearAlgebra/src/matmul.jl:84\n",
       "[121] *(transx::LinearAlgebra.Transpose{<:Any, <:StridedVector{T}}, y::StridedVector{T}) where T<:Union{ComplexF32, ComplexF64} in LinearAlgebra at /julia/julia-1.8.5/share/julia/stdlib/v1.8/LinearAlgebra/src/matmul.jl:43\n",
       "[122] *(tA::LinearAlgebra.Transpose{<:Any, <:SparseArrays.AbstractSparseMatrixCSC}, x::Union{StridedVector, BitVector}) in SparseArrays at /julia/julia-1.8.5/share/julia/stdlib/v1.8/SparseArrays/src/linalg.jl:82\n",
       "[123] *(A::LinearAlgebra.Transpose{<:Any, <:SparseArrays.AbstractSparseMatrixCSC}, B::Union{SparseArrays.AbstractSparseMatrixCSC{Tv, Ti}, SubArray{Tv, 2, <:SparseArrays.AbstractSparseMatrixCSC{Tv, Ti}, Tuple{Base.Slice{Base.OneTo{Int64}}, I}} where I<:AbstractUnitRange, LinearAlgebra.LowerTriangular{Tv, <:Union{SparseArrays.AbstractSparseMatrixCSC{Tv, Ti}, SubArray{Tv, 2, <:SparseArrays.AbstractSparseMatrixCSC{Tv, Ti}, Tuple{Base.Slice{Base.OneTo{Int64}}, I}} where I<:AbstractUnitRange}}, LinearAlgebra.UpperTriangular{Tv, <:Union{SparseArrays.AbstractSparseMatrixCSC{Tv, Ti}, SubArray{Tv, 2, <:SparseArrays.AbstractSparseMatrixCSC{Tv, Ti}, Tuple{Base.Slice{Base.OneTo{Int64}}, I}} where I<:AbstractUnitRange}}} where {Tv, Ti}) in SparseArrays at /julia/julia-1.8.5/share/julia/stdlib/v1.8/SparseArrays/src/linalg.jl:159\n",
       "[124] *(tA::LinearAlgebra.Transpose{<:Any, <:SparseArrays.AbstractSparseMatrixCSC}, B::Union{LinearAlgebra.Adjoint{<:Any, <:Union{LinearAlgebra.LowerTriangular, LinearAlgebra.UnitLowerTriangular, LinearAlgebra.UnitUpperTriangular, LinearAlgebra.UpperTriangular, StridedMatrix, BitMatrix}}, LinearAlgebra.LowerTriangular, LinearAlgebra.Transpose{<:Any, <:Union{LinearAlgebra.LowerTriangular, LinearAlgebra.UnitLowerTriangular, LinearAlgebra.UnitUpperTriangular, LinearAlgebra.UpperTriangular, StridedMatrix, BitMatrix}}, LinearAlgebra.UnitLowerTriangular, LinearAlgebra.UnitUpperTriangular, LinearAlgebra.UpperTriangular, StridedMatrix, BitMatrix}) in SparseArrays at /julia/julia-1.8.5/share/julia/stdlib/v1.8/SparseArrays/src/linalg.jl:84\n",
       "[125] *(u::LinearAlgebra.Transpose{T, <:AbstractVector} where T, v::LinearAlgebra.Adjoint{<:Any, <:LinearAlgebra.Transpose{T, <:AbstractVector} where T}) in LinearAlgebra at /julia/julia-1.8.5/share/julia/stdlib/v1.8/LinearAlgebra/src/adjtrans.jl:323\n",
       "[126] *(A::LinearAlgebra.Transpose{<:Any, <:AbstractVector}, B::LinearAlgebra.Adjoint{<:Any, <:LinearAlgebra.AbstractRotation}) in LinearAlgebra at /julia/julia-1.8.5/share/julia/stdlib/v1.8/LinearAlgebra/src/givens.jl:404\n",
       "[127] *(A::LinearAlgebra.Transpose{<:Any, <:AbstractMatrix}, B::LinearAlgebra.Adjoint{<:Any, <:LinearAlgebra.AbstractRotation}) in LinearAlgebra at /julia/julia-1.8.5/share/julia/stdlib/v1.8/LinearAlgebra/src/givens.jl:405\n",
       "[128] *(tA::LinearAlgebra.Transpose{<:Any, <:Union{LinearAlgebra.LowerTriangular{Ta, S} where S<:AbstractMatrix{Ta}, LinearAlgebra.UnitLowerTriangular{Ta, S} where S<:AbstractMatrix{Ta}, LinearAlgebra.UnitUpperTriangular{Ta, S} where S<:AbstractMatrix{Ta}, LinearAlgebra.UpperTriangular{Ta, S} where S<:AbstractMatrix{Ta}, StridedArray{Ta, 2}}}, x::SparseArrays.AbstractSparseVector{Tx}) where {Ta, Tx} in SparseArrays at /julia/julia-1.8.5/share/julia/stdlib/v1.8/SparseArrays/src/sparsevector.jl:1643\n",
       "[129] *(tA::LinearAlgebra.Transpose{<:Any, <:SparseArrays.AbstractSparseMatrixCSC}, x::SparseArrays.AbstractSparseVector) in SparseArrays at /julia/julia-1.8.5/share/julia/stdlib/v1.8/SparseArrays/src/sparsevector.jl:1820\n",
       "[130] *(x::LinearAlgebra.Transpose{T, <:AbstractVector} where T, D::LinearAlgebra.Diagonal) in LinearAlgebra at /julia/julia-1.8.5/share/julia/stdlib/v1.8/LinearAlgebra/src/diagonal.jl:753\n",
       "[131] *(x::LinearAlgebra.Transpose{T, <:AbstractVector} where T, D::LinearAlgebra.Diagonal, y::AbstractVector) in LinearAlgebra at /julia/julia-1.8.5/share/julia/stdlib/v1.8/LinearAlgebra/src/diagonal.jl:755\n",
       "[132] *(transA::LinearAlgebra.Transpose{<:Any, <:AbstractMatrix}, D::LinearAlgebra.Diagonal) in LinearAlgebra at /julia/julia-1.8.5/share/julia/stdlib/v1.8/LinearAlgebra/src/diagonal.jl:263\n",
       "[133] *(u::LinearAlgebra.Transpose{T, <:AbstractVector}, v::AbstractVector{T}) where T<:Real in LinearAlgebra at /julia/julia-1.8.5/share/julia/stdlib/v1.8/LinearAlgebra/src/adjtrans.jl:310\n",
       "[134] *(u::LinearAlgebra.Transpose{T, <:AbstractVector} where T, v::LinearAlgebra.Transpose{<:Any, <:LinearAlgebra.Adjoint{T, <:AbstractVector} where T}) in LinearAlgebra at /julia/julia-1.8.5/share/julia/stdlib/v1.8/LinearAlgebra/src/adjtrans.jl:325\n",
       "[135] *(A::LinearAlgebra.Transpose{<:Any, <:SparseArrays.AbstractSparseMatrixCSC}, B::LinearAlgebra.Transpose{<:Any, <:SparseArrays.AbstractSparseMatrixCSC}) in SparseArrays at /julia/julia-1.8.5/share/julia/stdlib/v1.8/SparseArrays/src/linalg.jl:162\n",
       "[136] *(tu::Union{LinearAlgebra.Adjoint{T, var\"#s886\"}, LinearAlgebra.Transpose{T, var\"#s886\"}} where {T, var\"#s886\"<:(AbstractVector)}, B::Union{LinearAlgebra.Adjoint{T, var\"#s886\"}, LinearAlgebra.Transpose{T, var\"#s886\"}} where {T, var\"#s886\"<:(AbstractMatrix)}, v::AbstractVector) in LinearAlgebra at /julia/julia-1.8.5/share/julia/stdlib/v1.8/LinearAlgebra/src/matmul.jl:1153\n",
       "[137] *(tA::LinearAlgebra.Transpose{<:Any, <:AbstractMatrix{T}}, x::AbstractVector{S}) where {T, S} in LinearAlgebra at /julia/julia-1.8.5/share/julia/stdlib/v1.8/LinearAlgebra/src/matmul.jl:88\n",
       "[138] *(u::LinearAlgebra.Transpose{T, <:AbstractVector} where T, v::LinearAlgebra.Transpose{T, <:AbstractVector} where T) in LinearAlgebra at /julia/julia-1.8.5/share/julia/stdlib/v1.8/LinearAlgebra/src/adjtrans.jl:319\n",
       "[139] *(A::LinearAlgebra.Transpose{<:Any, <:AbstractMatrix}, B::LinearAlgebra.AbstractTriangular) in LinearAlgebra at /julia/julia-1.8.5/share/julia/stdlib/v1.8/LinearAlgebra/src/triangular.jl:1687\n",
       "[140] *(v::LinearAlgebra.Transpose{T, <:AbstractVector} where T, A::LinearAlgebra.AbstractTriangular) in LinearAlgebra at /julia/julia-1.8.5/share/julia/stdlib/v1.8/LinearAlgebra/src/triangular.jl:1679\n",
       "[141] *(u::Union{LinearAlgebra.Adjoint{T, var\"#s886\"}, LinearAlgebra.Transpose{T, var\"#s886\"}} where {T, var\"#s886\"<:(AbstractVector)}, v::AbstractVector) in LinearAlgebra at /julia/julia-1.8.5/share/julia/stdlib/v1.8/LinearAlgebra/src/adjtrans.jl:311\n",
       "[142] *(x::LinearAlgebra.Transpose{T, <:AbstractVector} where T, A::AbstractMatrix) in LinearAlgebra at /julia/julia-1.8.5/share/julia/stdlib/v1.8/LinearAlgebra/src/matmul.jl:120\n",
       "[143] *(tu::Union{LinearAlgebra.Adjoint{T, var\"#s886\"}, LinearAlgebra.Transpose{T, var\"#s886\"}} where {T, var\"#s886\"<:(AbstractVector)}, B::AbstractMatrix, v::AbstractVector) in LinearAlgebra at /julia/julia-1.8.5/share/julia/stdlib/v1.8/LinearAlgebra/src/matmul.jl:1152\n",
       "[144] *(tv::Union{LinearAlgebra.Adjoint{T, var\"#s886\"}, LinearAlgebra.Transpose{T, var\"#s886\"}} where {T, var\"#s886\"<:(AbstractVector)}, B::AbstractMatrix, C::AbstractMatrix) in LinearAlgebra at /julia/julia-1.8.5/share/julia/stdlib/v1.8/LinearAlgebra/src/matmul.jl:1167\n",
       "[145] *(vt::Union{LinearAlgebra.Adjoint{T, var\"#s886\"}, LinearAlgebra.Transpose{T, var\"#s886\"}} where {T, var\"#s886\"<:(AbstractVector)}, B::AbstractMatrix, x::AbstractVector, δ::Number) in LinearAlgebra at /julia/julia-1.8.5/share/julia/stdlib/v1.8/LinearAlgebra/src/matmul.jl:1224\n",
       "[146] *(vt::Union{LinearAlgebra.Adjoint{T, var\"#s886\"}, LinearAlgebra.Transpose{T, var\"#s886\"}} where {T, var\"#s886\"<:(AbstractVector)}, B::AbstractMatrix, C::AbstractMatrix, δ::Number) in LinearAlgebra at /julia/julia-1.8.5/share/julia/stdlib/v1.8/LinearAlgebra/src/matmul.jl:1225\n",
       "[147] *(vt::Union{LinearAlgebra.Adjoint{T, var\"#s886\"}, LinearAlgebra.Transpose{T, var\"#s886\"}} where {T, var\"#s886\"<:(AbstractVector)}, B::AbstractMatrix, C::AbstractMatrix, D::AbstractMatrix) in LinearAlgebra at /julia/julia-1.8.5/share/julia/stdlib/v1.8/LinearAlgebra/src/matmul.jl:1228\n",
       "[148] *(vt::Union{LinearAlgebra.Adjoint{T, var\"#s886\"}, LinearAlgebra.Transpose{T, var\"#s886\"}} where {T, var\"#s886\"<:(AbstractVector)}, B::AbstractMatrix, C::AbstractMatrix, x::AbstractVector) in LinearAlgebra at /julia/julia-1.8.5/share/julia/stdlib/v1.8/LinearAlgebra/src/matmul.jl:1229\n",
       "[149] *(x::Real, r::StepRangeLen{<:Real, <:Base.TwicePrecision}) in Base at twiceprecision.jl:552\n",
       "[150] *(x::Real, A::LinearAlgebra.Hermitian) in LinearAlgebra at /julia/julia-1.8.5/share/julia/stdlib/v1.8/LinearAlgebra/src/symmetric.jl:607\n",
       "[151] *(α::Union{Real, Complex}, B::AbstractMatrix{<:Union{Real, Complex}}, C::AbstractVector{<:Union{Real, Complex}}) in LinearAlgebra at /julia/julia-1.8.5/share/julia/stdlib/v1.8/LinearAlgebra/src/matmul.jl:1157\n",
       "[152] *(α::Union{Real, Complex}, B::AbstractMatrix{<:Union{Real, Complex}}, C::AbstractMatrix{<:Union{Real, Complex}}) in LinearAlgebra at /julia/julia-1.8.5/share/julia/stdlib/v1.8/LinearAlgebra/src/matmul.jl:1159\n",
       "[153] *(α::Union{Real, Complex}, B::AbstractMatrix{<:Union{Real, Complex}}, C::AbstractMatrix{<:Union{Real, Complex}}, D::AbstractMatrix{<:Union{Real, Complex}}) in LinearAlgebra at /julia/julia-1.8.5/share/julia/stdlib/v1.8/LinearAlgebra/src/matmul.jl:1233\n",
       "[154] *(y::Real, x::Dates.Period) in Dates at /julia/julia-1.8.5/share/julia/stdlib/v1.8/Dates/src/periods.jl:93\n",
       "[155] *(a::Number, x::Union{SparseArrays.SparseVector{Tv, Ti}, SubArray{Tv, 1, <:SparseArrays.AbstractSparseMatrixCSC{Tv, Ti}, Tuple{Base.Slice{Base.OneTo{Int64}}, Int64}, false}, SubArray{Tv, 1, <:SparseArrays.AbstractSparseVector{Tv, Ti}, Tuple{Base.Slice{Base.OneTo{Int64}}}, false}} where {Tv, Ti}) in SparseArrays at /julia/julia-1.8.5/share/julia/stdlib/v1.8/SparseArrays/src/sparsevector.jl:1520\n",
       "[156] *(x::Number, A::LinearAlgebra.Symmetric) in LinearAlgebra at /julia/julia-1.8.5/share/julia/stdlib/v1.8/LinearAlgebra/src/symmetric.jl:605\n",
       "[157] *(x::Number, A::LinearAlgebra.UpperTriangular) in LinearAlgebra at /julia/julia-1.8.5/share/julia/stdlib/v1.8/LinearAlgebra/src/triangular.jl:861\n",
       "[158] *(v::Number, x::Base.TwicePrecision) in Base at twiceprecision.jl:317\n",
       "[159] *(x::Number, A::LinearAlgebra.UnitUpperTriangular) in LinearAlgebra at /julia/julia-1.8.5/share/julia/stdlib/v1.8/LinearAlgebra/src/triangular.jl:863\n",
       "[160] *(B::Number, A::LinearAlgebra.SymTridiagonal) in LinearAlgebra at /julia/julia-1.8.5/share/julia/stdlib/v1.8/LinearAlgebra/src/tridiag.jl:211\n",
       "[161] *(x::Number, J::LinearAlgebra.UniformScaling) in LinearAlgebra at /julia/julia-1.8.5/share/julia/stdlib/v1.8/LinearAlgebra/src/uniformscaling.jl:263\n",
       "[162] *(x::Number, A::LinearAlgebra.UnitLowerTriangular) in LinearAlgebra at /julia/julia-1.8.5/share/julia/stdlib/v1.8/LinearAlgebra/src/triangular.jl:863\n",
       "[163] *(x::S, F::LinearAlgebra.Hessenberg{<:Any, <:AbstractMatrix{T}}) where {T, S<:Number} in LinearAlgebra at /julia/julia-1.8.5/share/julia/stdlib/v1.8/LinearAlgebra/src/hessenberg.jl:630\n",
       "[164] *(x::Number, D::LinearAlgebra.Diagonal) in LinearAlgebra at /julia/julia-1.8.5/share/julia/stdlib/v1.8/LinearAlgebra/src/diagonal.jl:202\n",
       "[165] *(a::Number, B::LinearAlgebra.AbstractQ) in LinearAlgebra at /julia/julia-1.8.5/share/julia/stdlib/v1.8/LinearAlgebra/src/qr.jl:780\n",
       "[166] *(B::Number, A::LinearAlgebra.Tridiagonal) in LinearAlgebra at /julia/julia-1.8.5/share/julia/stdlib/v1.8/LinearAlgebra/src/tridiag.jl:745\n",
       "[167] *(x::Number, A::LinearAlgebra.LowerTriangular) in LinearAlgebra at /julia/julia-1.8.5/share/julia/stdlib/v1.8/LinearAlgebra/src/triangular.jl:861\n",
       "[168] *(B::Number, A::LinearAlgebra.Bidiagonal) in LinearAlgebra at /julia/julia-1.8.5/share/julia/stdlib/v1.8/LinearAlgebra/src/bidiag.jl:385\n",
       "[169] *(x::Number, H::LinearAlgebra.UpperHessenberg) in LinearAlgebra at /julia/julia-1.8.5/share/julia/stdlib/v1.8/LinearAlgebra/src/hessenberg.jl:117\n",
       "[170] *(α::Number, B::AbstractMatrix, C::AbstractMatrix, x::AbstractVector) in LinearAlgebra at /julia/julia-1.8.5/share/julia/stdlib/v1.8/LinearAlgebra/src/matmul.jl:1216\n",
       "[171] *(α::Number, u::AbstractVector, tv::Union{LinearAlgebra.Adjoint{T, var\"#s886\"}, LinearAlgebra.Transpose{T, var\"#s886\"}} where {T, var\"#s886\"<:(AbstractVector)}) in LinearAlgebra at /julia/julia-1.8.5/share/julia/stdlib/v1.8/LinearAlgebra/src/matmul.jl:1162\n",
       "[172] *(A::Number, B::AbstractArray) in Base at arraymath.jl:21\n",
       "[173] *(::Number, ::Missing) in Base at missing.jl:124\n",
       "[174] *(x::Rational, y::Integer) in Base at rational.jl:338\n",
       "[175] *(x::P, y::Real) where P<:Dates.Period in Dates at /julia/julia-1.8.5/share/julia/stdlib/v1.8/Dates/src/periods.jl:92\n",
       "[176] *(x::Dates.Period, r::AbstractRange{<:Real}) in Dates at /julia/julia-1.8.5/share/julia/stdlib/v1.8/Dates/src/ranges.jl:66\n",
       "[177] *(A::Dates.Period, B::AbstractArray) in Dates at /julia/julia-1.8.5/share/julia/stdlib/v1.8/Dates/src/periods.jl:95\n",
       "[178] *(A::LinearAlgebra.UnitUpperTriangular, x::Number) in LinearAlgebra at /julia/julia-1.8.5/share/julia/stdlib/v1.8/LinearAlgebra/src/triangular.jl:853\n",
       "[179] *(A::LinearAlgebra.UnitUpperTriangular, B::LinearAlgebra.UpperTriangular) in LinearAlgebra at /julia/julia-1.8.5/share/julia/stdlib/v1.8/LinearAlgebra/src/triangular.jl:1552\n",
       "[180] *(A::LinearAlgebra.UnitUpperTriangular, B::LinearAlgebra.UnitUpperTriangular) in LinearAlgebra at /julia/julia-1.8.5/share/julia/stdlib/v1.8/LinearAlgebra/src/triangular.jl:1566\n",
       "[181] *(A::LinearAlgebra.UnitUpperTriangular, D::LinearAlgebra.Diagonal) in LinearAlgebra at /julia/julia-1.8.5/share/julia/stdlib/v1.8/LinearAlgebra/src/diagonal.jl:551\n",
       "[182] *(A::LinearAlgebra.SymTridiagonal, B::Number) in LinearAlgebra at /julia/julia-1.8.5/share/julia/stdlib/v1.8/LinearAlgebra/src/tridiag.jl:210\n",
       "[183] *(A::LinearAlgebra.SymTridiagonal, B::LinearAlgebra.Diagonal) in LinearAlgebra at /julia/julia-1.8.5/share/julia/stdlib/v1.8/LinearAlgebra/src/bidiag.jl:691\n",
       "[184] *(r::AbstractRange{<:Real}, x::Dates.Period) in Dates at /julia/julia-1.8.5/share/julia/stdlib/v1.8/Dates/src/ranges.jl:67\n",
       "[185] *(A::AbstractArray, B::Dates.Period) in Dates at /julia/julia-1.8.5/share/julia/stdlib/v1.8/Dates/src/periods.jl:96\n",
       "[186] *(A::LinearAlgebra.AbstractTriangular, B::LinearAlgebra.Transpose{<:Any, <:AbstractMatrix}) in LinearAlgebra at /julia/julia-1.8.5/share/julia/stdlib/v1.8/LinearAlgebra/src/triangular.jl:1689\n",
       "[187] *(A::LinearAlgebra.AbstractTriangular, B::LinearAlgebra.Transpose{T, <:AbstractVector} where T) in LinearAlgebra at /julia/julia-1.8.5/share/julia/stdlib/v1.8/LinearAlgebra/src/triangular.jl:2663\n",
       "[188] *(A::LinearAlgebra.AbstractTriangular, B::Union{LinearAlgebra.SymTridiagonal, LinearAlgebra.Tridiagonal}) in LinearAlgebra at /julia/julia-1.8.5/share/julia/stdlib/v1.8/LinearAlgebra/src/bidiag.jl:639\n",
       "[189] *(A::LinearAlgebra.AbstractTriangular, B::LinearAlgebra.Adjoint{<:Any, <:LinearAlgebra.AbstractRotation}) in LinearAlgebra at /julia/julia-1.8.5/share/julia/stdlib/v1.8/LinearAlgebra/src/givens.jl:408\n",
       "[190] *(A::LinearAlgebra.AbstractTriangular, Q::LinearAlgebra.AbstractQ) in LinearAlgebra at /julia/julia-1.8.5/share/julia/stdlib/v1.8/LinearAlgebra/src/special.jl:343\n",
       "[191] *(A::LinearAlgebra.AbstractTriangular, Q::LinearAlgebra.Adjoint{<:Any, <:LinearAlgebra.AbstractQ}) in LinearAlgebra at /julia/julia-1.8.5/share/julia/stdlib/v1.8/LinearAlgebra/src/special.jl:344\n",
       "[192] *(A::LinearAlgebra.AbstractTriangular, B::LinearAlgebra.Adjoint{<:Any, <:AbstractMatrix}) in LinearAlgebra at /julia/julia-1.8.5/share/julia/stdlib/v1.8/LinearAlgebra/src/triangular.jl:1688\n",
       "[193] *(A::LinearAlgebra.AbstractTriangular, B::LinearAlgebra.Adjoint{T, <:AbstractVector} where T) in LinearAlgebra at /julia/julia-1.8.5/share/julia/stdlib/v1.8/LinearAlgebra/src/triangular.jl:2662\n",
       "[194] *(A::LinearAlgebra.Tridiagonal, B::Number) in LinearAlgebra at /julia/julia-1.8.5/share/julia/stdlib/v1.8/LinearAlgebra/src/tridiag.jl:744\n",
       "[195] *(x::AbstractIrrational, y::AbstractIrrational) in Base at irrationals.jl:158\n",
       "[196] *(A::LinearAlgebra.Bidiagonal, B::Number) in LinearAlgebra at /julia/julia-1.8.5/share/julia/stdlib/v1.8/LinearAlgebra/src/bidiag.jl:384\n",
       "[197] *(A::LinearAlgebra.Bidiagonal, B::Union{LinearAlgebra.UnitUpperTriangular{T, S} where S<:AbstractMatrix{T}, LinearAlgebra.UpperTriangular{T, S} where S<:AbstractMatrix{T}} where T) in LinearAlgebra at /julia/julia-1.8.5/share/julia/stdlib/v1.8/LinearAlgebra/src/bidiag.jl:664\n",
       "[198] *(A::LinearAlgebra.Bidiagonal, B::Union{LinearAlgebra.LowerTriangular{T, S} where S<:AbstractMatrix{T}, LinearAlgebra.UnitLowerTriangular{T, S} where S<:AbstractMatrix{T}} where T) in LinearAlgebra at /julia/julia-1.8.5/share/julia/stdlib/v1.8/LinearAlgebra/src/bidiag.jl:670\n",
       "[199] *(B::LinearAlgebra.Bidiagonal, H::LinearAlgebra.UpperHessenberg) in LinearAlgebra at /julia/julia-1.8.5/share/julia/stdlib/v1.8/LinearAlgebra/src/hessenberg.jl:167\n",
       "[200] *(r::StepRangeLen{<:Real, <:Base.TwicePrecision}, x::Real) in Base at twiceprecision.jl:554\n",
       "[201] *(A::LinearAlgebra.LQ{TA, S, C} where {S<:AbstractMatrix{TA}, C<:AbstractVector{TA}}, B::StridedVecOrMat{TB}) where {TA, TB} in LinearAlgebra at /julia/julia-1.8.5/share/julia/stdlib/v1.8/LinearAlgebra/src/lq.jl:198\n",
       "[202] *(index::CartesianIndex, a::Integer) in Base.IteratorsMD at multidimensional.jl:124\n",
       "[203] *(H::LinearAlgebra.UpperHessenberg, x::Number) in LinearAlgebra at /julia/julia-1.8.5/share/julia/stdlib/v1.8/LinearAlgebra/src/hessenberg.jl:116\n",
       "[204] *(H::LinearAlgebra.UpperHessenberg, x::LinearAlgebra.UniformScaling) in LinearAlgebra at /julia/julia-1.8.5/share/julia/stdlib/v1.8/LinearAlgebra/src/hessenberg.jl:116\n",
       "[205] *(H::LinearAlgebra.UpperHessenberg, x::LinearAlgebra.Diagonal) in LinearAlgebra at /julia/julia-1.8.5/share/julia/stdlib/v1.8/LinearAlgebra/src/hessenberg.jl:116\n",
       "[206] *(H::LinearAlgebra.UpperHessenberg, U::Union{LinearAlgebra.UnitUpperTriangular{T, S} where S<:AbstractMatrix{T}, LinearAlgebra.UpperTriangular{T, S} where S<:AbstractMatrix{T}} where T) in LinearAlgebra at /julia/julia-1.8.5/share/julia/stdlib/v1.8/LinearAlgebra/src/hessenberg.jl:123\n",
       "[207] *(H::LinearAlgebra.UpperHessenberg, B::LinearAlgebra.Bidiagonal) in LinearAlgebra at /julia/julia-1.8.5/share/julia/stdlib/v1.8/LinearAlgebra/src/hessenberg.jl:162\n",
       "[208] *(R::LinearAlgebra.AbstractRotation{T}, A::AbstractVecOrMat{S}) where {T, S} in LinearAlgebra at /julia/julia-1.8.5/share/julia/stdlib/v1.8/LinearAlgebra/src/givens.jl:9\n",
       "[209] *(x::Base.TwicePrecision{<:Union{Float16, Float32, Float64}}, v::Integer) in Base at twiceprecision.jl:311\n",
       "[210] *(x::Base.TwicePrecision, v::Number) in Base at twiceprecision.jl:307\n",
       "[211] *(x::Base.TwicePrecision{T}, y::Base.TwicePrecision{T}) where T in Base at twiceprecision.jl:319\n",
       "[212] *(x::Base.TwicePrecision, y::Base.TwicePrecision) in Base at twiceprecision.jl:324\n",
       "[213] *(A::LinearAlgebra.LQPackedQ, B::StridedVecOrMat) in LinearAlgebra at /julia/julia-1.8.5/share/julia/stdlib/v1.8/LinearAlgebra/src/lq.jl:206\n",
       "[214] *(A::LinearAlgebra.LQPackedQ, adjB::LinearAlgebra.Adjoint{<:Any, <:StridedVecOrMat}) in LinearAlgebra at /julia/julia-1.8.5/share/julia/stdlib/v1.8/LinearAlgebra/src/lq.jl:230\n",
       "[215] *(A::LinearAlgebra.UnitLowerTriangular, x::Number) in LinearAlgebra at /julia/julia-1.8.5/share/julia/stdlib/v1.8/LinearAlgebra/src/triangular.jl:853\n",
       "[216] *(A::LinearAlgebra.UnitLowerTriangular, B::LinearAlgebra.LowerTriangular) in LinearAlgebra at /julia/julia-1.8.5/share/julia/stdlib/v1.8/LinearAlgebra/src/triangular.jl:1524\n",
       "[217] *(A::LinearAlgebra.UnitLowerTriangular, B::LinearAlgebra.UnitLowerTriangular) in LinearAlgebra at /julia/julia-1.8.5/share/julia/stdlib/v1.8/LinearAlgebra/src/triangular.jl:1538\n",
       "[218] *(A::LinearAlgebra.UnitLowerTriangular, D::LinearAlgebra.Diagonal) in LinearAlgebra at /julia/julia-1.8.5/share/julia/stdlib/v1.8/LinearAlgebra/src/diagonal.jl:551\n",
       "[219] *(A::SparseArrays.AbstractSparseMatrixCSC, x::SparseArrays.AbstractSparseVector) in SparseArrays at /julia/julia-1.8.5/share/julia/stdlib/v1.8/SparseArrays/src/sparsevector.jl:1813\n",
       "[220] *(A::Union{SparseArrays.AbstractSparseMatrixCSC{Tv, Ti}, SubArray{Tv, 2, <:SparseArrays.AbstractSparseMatrixCSC{Tv, Ti}, Tuple{Base.Slice{Base.OneTo{Int64}}, I}} where I<:AbstractUnitRange, LinearAlgebra.LowerTriangular{Tv, <:Union{SparseArrays.AbstractSparseMatrixCSC{Tv, Ti}, SubArray{Tv, 2, <:SparseArrays.AbstractSparseMatrixCSC{Tv, Ti}, Tuple{Base.Slice{Base.OneTo{Int64}}, I}} where I<:AbstractUnitRange}}, LinearAlgebra.UpperTriangular{Tv, <:Union{SparseArrays.AbstractSparseMatrixCSC{Tv, Ti}, SubArray{Tv, 2, <:SparseArrays.AbstractSparseMatrixCSC{Tv, Ti}, Tuple{Base.Slice{Base.OneTo{Int64}}, I}} where I<:AbstractUnitRange}}} where {Tv, Ti}, B::SparseArrays.AbstractSparseVector) in SparseArrays at /julia/julia-1.8.5/share/julia/stdlib/v1.8/SparseArrays/src/linalg.jl:150\n",
       "[221] *(A::Union{LinearAlgebra.LowerTriangular{Ta, S} where S<:AbstractMatrix{Ta}, LinearAlgebra.UnitLowerTriangular{Ta, S} where S<:AbstractMatrix{Ta}, LinearAlgebra.UnitUpperTriangular{Ta, S} where S<:AbstractMatrix{Ta}, LinearAlgebra.UpperTriangular{Ta, S} where S<:AbstractMatrix{Ta}, StridedArray{Ta, 2}}, x::SparseArrays.AbstractSparseVector{Tx}) where {Ta, Tx} in SparseArrays at /julia/julia-1.8.5/share/julia/stdlib/v1.8/SparseArrays/src/sparsevector.jl:1607\n",
       "[222] *(G1::LinearAlgebra.Givens{T}, G2::LinearAlgebra.Givens{T}) where T in LinearAlgebra at /julia/julia-1.8.5/share/julia/stdlib/v1.8/LinearAlgebra/src/givens.jl:396\n",
       "[223] *(A::LinearAlgebra.Diagonal, B::Union{LinearAlgebra.Bidiagonal, LinearAlgebra.Tridiagonal}) in LinearAlgebra at /julia/julia-1.8.5/share/julia/stdlib/v1.8/LinearAlgebra/src/bidiag.jl:681\n",
       "[224] *(x::LinearAlgebra.Diagonal, H::LinearAlgebra.UpperHessenberg) in LinearAlgebra at /julia/julia-1.8.5/share/julia/stdlib/v1.8/LinearAlgebra/src/hessenberg.jl:117\n",
       "[225] *(D::LinearAlgebra.Diagonal, A::LinearAlgebra.UpperTriangular) in LinearAlgebra at /julia/julia-1.8.5/share/julia/stdlib/v1.8/LinearAlgebra/src/diagonal.jl:554\n",
       "[226] *(D::LinearAlgebra.Diagonal, A::LinearAlgebra.UnitUpperTriangular) in LinearAlgebra at /julia/julia-1.8.5/share/julia/stdlib/v1.8/LinearAlgebra/src/diagonal.jl:555\n",
       "[227] *(A::LinearAlgebra.Diagonal, B::LinearAlgebra.SymTridiagonal) in LinearAlgebra at /julia/julia-1.8.5/share/julia/stdlib/v1.8/LinearAlgebra/src/bidiag.jl:686\n",
       "[228] *(D::LinearAlgebra.Diagonal, A::LinearAlgebra.UnitLowerTriangular) in LinearAlgebra at /julia/julia-1.8.5/share/julia/stdlib/v1.8/LinearAlgebra/src/diagonal.jl:555\n",
       "[229] *(D::LinearAlgebra.Diagonal, adjQ::LinearAlgebra.Adjoint{<:Any, <:Union{LinearAlgebra.QRCompactWYQ, LinearAlgebra.QRPackedQ}}) in LinearAlgebra at /julia/julia-1.8.5/share/julia/stdlib/v1.8/LinearAlgebra/src/diagonal.jl:270\n",
       "[230] *(A::LinearAlgebra.Diagonal, B::LinearAlgebra.Adjoint{<:Any, <:LinearAlgebra.AbstractRotation}) in LinearAlgebra at /julia/julia-1.8.5/share/julia/stdlib/v1.8/LinearAlgebra/src/givens.jl:407\n",
       "[231] *(A::AbstractVector, adjR::LinearAlgebra.Adjoint{<:Any, <:LinearAlgebra.AbstractRotation}) in LinearAlgebra at /julia/julia-1.8.5/share/julia/stdlib/v1.8/LinearAlgebra/src/givens.jl:13\n",
       "[232] *(A::AbstractMatrix, adjR::LinearAlgebra.Adjoint{<:Any, <:LinearAlgebra.AbstractRotation}) in LinearAlgebra at /julia/julia-1.8.5/share/julia/stdlib/v1.8/LinearAlgebra/src/givens.jl:14\n",
       "[233] *(A::LinearAlgebra.Diagonal, Q::LinearAlgebra.Adjoint{<:Any, <:LinearAlgebra.AbstractQ}) in LinearAlgebra at /julia/julia-1.8.5/share/julia/stdlib/v1.8/LinearAlgebra/src/special.jl:348\n",
       "[234] *(u::AbstractVector, v::Union{LinearAlgebra.Adjoint{T, var\"#s886\"}, LinearAlgebra.Transpose{T, var\"#s886\"}} where {T, var\"#s886\"<:(AbstractVector)}) in LinearAlgebra at /julia/julia-1.8.5/share/julia/stdlib/v1.8/LinearAlgebra/src/adjtrans.jl:315\n",
       "[235] *(u::AbstractVector, tv::Union{LinearAlgebra.Adjoint{T, var\"#s886\"}, LinearAlgebra.Transpose{T, var\"#s886\"}} where {T, var\"#s886\"<:(AbstractVector)}, C::AbstractMatrix) in LinearAlgebra at /julia/julia-1.8.5/share/julia/stdlib/v1.8/LinearAlgebra/src/matmul.jl:1164\n",
       "[236] *(u::AbstractVector, tv::Union{LinearAlgebra.Adjoint{T, var\"#s886\"}, LinearAlgebra.Transpose{T, var\"#s886\"}} where {T, var\"#s886\"<:(AbstractVector)}, γ::Number) in LinearAlgebra at /julia/julia-1.8.5/share/julia/stdlib/v1.8/LinearAlgebra/src/matmul.jl:1163\n",
       "[237] *(D::LinearAlgebra.Diagonal, adjA::LinearAlgebra.Adjoint{<:Any, <:AbstractMatrix}) in LinearAlgebra at /julia/julia-1.8.5/share/julia/stdlib/v1.8/LinearAlgebra/src/diagonal.jl:273\n",
       "[238] *(a::AbstractVector, adjB::LinearAlgebra.Adjoint{<:Any, <:AbstractMatrix}) in LinearAlgebra at /julia/julia-1.8.5/share/julia/stdlib/v1.8/LinearAlgebra/src/matmul.jl:61\n",
       "[239] *(A::LinearAlgebra.Diagonal, Q::LinearAlgebra.AbstractQ) in LinearAlgebra at /julia/julia-1.8.5/share/julia/stdlib/v1.8/LinearAlgebra/src/special.jl:347\n",
       "[240] *(Da::LinearAlgebra.Diagonal, Db::LinearAlgebra.Diagonal) in LinearAlgebra at /julia/julia-1.8.5/share/julia/stdlib/v1.8/LinearAlgebra/src/diagonal.jl:237\n",
       "[241] *(D::LinearAlgebra.Diagonal, x::Number) in LinearAlgebra at /julia/julia-1.8.5/share/julia/stdlib/v1.8/LinearAlgebra/src/diagonal.jl:203\n",
       "[242] *(D::LinearAlgebra.Diagonal, transA::LinearAlgebra.Transpose{<:Any, <:AbstractMatrix}) in LinearAlgebra at /julia/julia-1.8.5/share/julia/stdlib/v1.8/LinearAlgebra/src/diagonal.jl:280\n",
       "[243] *(a::AbstractVector, tB::LinearAlgebra.Transpose{<:Any, <:AbstractMatrix}) in LinearAlgebra at /julia/julia-1.8.5/share/julia/stdlib/v1.8/LinearAlgebra/src/matmul.jl:60\n",
       "[244] *(D::LinearAlgebra.Diagonal, A::LinearAlgebra.LowerTriangular) in LinearAlgebra at /julia/julia-1.8.5/share/julia/stdlib/v1.8/LinearAlgebra/src/diagonal.jl:554\n",
       "[245] *(D::LinearAlgebra.Diagonal, A::LinearAlgebra.AbstractTriangular) in LinearAlgebra at /julia/julia-1.8.5/share/julia/stdlib/v1.8/LinearAlgebra/src/diagonal.jl:760\n",
       "[246] *(D::LinearAlgebra.Diagonal, A::AbstractMatrix) in LinearAlgebra at /julia/julia-1.8.5/share/julia/stdlib/v1.8/LinearAlgebra/src/diagonal.jl:249\n",
       "[247] *(D::LinearAlgebra.Diagonal, V::AbstractVector) in LinearAlgebra at /julia/julia-1.8.5/share/julia/stdlib/v1.8/LinearAlgebra/src/diagonal.jl:242\n",
       "[248] *(A::LinearAlgebra.LowerTriangular, x::Number) in LinearAlgebra at /julia/julia-1.8.5/share/julia/stdlib/v1.8/LinearAlgebra/src/triangular.jl:851\n",
       "[249] *(A::AbstractArray, B::Number) in Base at arraymath.jl:24\n",
       "[250] *(A::LinearAlgebra.LowerTriangular, B::LinearAlgebra.LowerTriangular) in LinearAlgebra at /julia/julia-1.8.5/share/julia/stdlib/v1.8/LinearAlgebra/src/triangular.jl:1517\n",
       "[251] *(A::LinearAlgebra.LowerTriangular, B::LinearAlgebra.UnitLowerTriangular) in LinearAlgebra at /julia/julia-1.8.5/share/julia/stdlib/v1.8/LinearAlgebra/src/triangular.jl:1531\n",
       "[252] *(A::LinearAlgebra.AbstractTriangular, B::LinearAlgebra.AbstractTriangular) in LinearAlgebra at /julia/julia-1.8.5/share/julia/stdlib/v1.8/LinearAlgebra/src/triangular.jl:1626\n",
       "[253] *(A::AbstractMatrix, B::LinearAlgebra.AbstractTriangular) in LinearAlgebra at /julia/julia-1.8.5/share/julia/stdlib/v1.8/LinearAlgebra/src/triangular.jl:1671\n",
       "[254] *(A::LinearAlgebra.LowerTriangular, D::LinearAlgebra.Diagonal) in LinearAlgebra at /julia/julia-1.8.5/share/julia/stdlib/v1.8/LinearAlgebra/src/diagonal.jl:550\n",
       "[255] *(A::LinearAlgebra.AbstractTriangular, D::LinearAlgebra.Diagonal) in LinearAlgebra at /julia/julia-1.8.5/share/julia/stdlib/v1.8/LinearAlgebra/src/diagonal.jl:759\n",
       "[256] *(A::AbstractMatrix, D::LinearAlgebra.Diagonal) in LinearAlgebra at /julia/julia-1.8.5/share/julia/stdlib/v1.8/LinearAlgebra/src/diagonal.jl:247\n",
       "[257] *(A::LinearAlgebra.AbstractTriangular, B::AbstractVector) in LinearAlgebra at /julia/julia-1.8.5/share/julia/stdlib/v1.8/LinearAlgebra/src/triangular.jl:1634\n",
       "[258] *(A::AbstractMatrix{T}, x::AbstractVector{S}) where {T, S} in LinearAlgebra at /julia/julia-1.8.5/share/julia/stdlib/v1.8/LinearAlgebra/src/matmul.jl:54\n",
       "[259] *(A::AbstractMatrix, x::AbstractVector, γ::Number) in LinearAlgebra at /julia/julia-1.8.5/share/julia/stdlib/v1.8/LinearAlgebra/src/matmul.jl:1155\n",
       "[260] *(A::AbstractMatrix, x::AbstractVector, γ::Number, δ::Number) in LinearAlgebra at /julia/julia-1.8.5/share/julia/stdlib/v1.8/LinearAlgebra/src/matmul.jl:1221\n",
       "[261] *(A::LinearAlgebra.AbstractTriangular, B::AbstractMatrix) in LinearAlgebra at /julia/julia-1.8.5/share/julia/stdlib/v1.8/LinearAlgebra/src/triangular.jl:1634\n",
       "[262] *(A::AbstractMatrix, B::AbstractMatrix) in LinearAlgebra at /julia/julia-1.8.5/share/julia/stdlib/v1.8/LinearAlgebra/src/matmul.jl:139\n",
       "[263] *(A::AbstractMatrix, B::AbstractMatrix, γ::Number) in LinearAlgebra at /julia/julia-1.8.5/share/julia/stdlib/v1.8/LinearAlgebra/src/matmul.jl:1156\n",
       "[264] *(A::AbstractMatrix, B::AbstractMatrix, x::AbstractVector) in LinearAlgebra at /julia/julia-1.8.5/share/julia/stdlib/v1.8/LinearAlgebra/src/matmul.jl:1150\n",
       "[265] *(a::AbstractVector, B::AbstractMatrix) in LinearAlgebra at /julia/julia-1.8.5/share/julia/stdlib/v1.8/LinearAlgebra/src/matmul.jl:62\n",
       "[266] *(A::AbstractMatrix, B::AbstractMatrix, C::AbstractMatrix) in LinearAlgebra at /julia/julia-1.8.5/share/julia/stdlib/v1.8/LinearAlgebra/src/matmul.jl:1166\n",
       "[267] *(A::AbstractMatrix, B::AbstractMatrix, γ::Number, δ::Number) in LinearAlgebra at /julia/julia-1.8.5/share/julia/stdlib/v1.8/LinearAlgebra/src/matmul.jl:1222\n",
       "[268] *(A::AbstractMatrix, B::AbstractMatrix, x::AbstractVector, δ::Number) in LinearAlgebra at /julia/julia-1.8.5/share/julia/stdlib/v1.8/LinearAlgebra/src/matmul.jl:1223\n",
       "[269] *(A::AbstractMatrix, B::AbstractMatrix, C::AbstractMatrix, x::AbstractVector) in LinearAlgebra at /julia/julia-1.8.5/share/julia/stdlib/v1.8/LinearAlgebra/src/matmul.jl:1227\n",
       "[270] *(A::AbstractMatrix, B::AbstractMatrix, C::AbstractMatrix, δ::Number) in LinearAlgebra at /julia/julia-1.8.5/share/julia/stdlib/v1.8/LinearAlgebra/src/matmul.jl:1232\n",
       "[271] *(A::AbstractMatrix, B::AbstractMatrix, C::AbstractMatrix, D::AbstractMatrix) in LinearAlgebra at /julia/julia-1.8.5/share/julia/stdlib/v1.8/LinearAlgebra/src/matmul.jl:1235\n",
       "[272] *(y::AbstractFloat, x::Bool) in Base at bool.jl:178\n",
       "[273] *(x::BigInt, c::Union{UInt16, UInt32, UInt64, UInt8}) in Base.GMP at gmp.jl:541\n",
       "[274] *(x::BigInt, c::Union{Int16, Int32, Int64, Int8}) in Base.GMP at gmp.jl:543\n",
       "[275] *(x::BigInt, y::BigInt) in Base.GMP at gmp.jl:482\n",
       "[276] *(a::BigInt, b::BigInt, c::BigInt) in Base.GMP at gmp.jl:522\n",
       "[277] *(a::BigInt, b::BigInt, c::BigInt, d::BigInt) in Base.GMP at gmp.jl:523\n",
       "[278] *(a::BigInt, b::BigInt, c::BigInt, d::BigInt, e::BigInt) in Base.GMP at gmp.jl:524\n",
       "[279] *(c::BigInt, x::BigFloat) in Base.MPFR at mpfr.jl:422\n",
       "[280] *(B::BitMatrix, J::LinearAlgebra.UniformScaling) in LinearAlgebra at /julia/julia-1.8.5/share/julia/stdlib/v1.8/LinearAlgebra/src/uniformscaling.jl:258\n",
       "[281] *(x::AbstractMatrix{<:Number}) in Base at abstractarraymath.jl:221\n",
       "[282] *(A::AbstractMatrix, J::LinearAlgebra.UniformScaling) in LinearAlgebra at /julia/julia-1.8.5/share/julia/stdlib/v1.8/LinearAlgebra/src/uniformscaling.jl:260\n",
       "[283] *(v::AbstractVector, J::LinearAlgebra.UniformScaling) in LinearAlgebra at /julia/julia-1.8.5/share/julia/stdlib/v1.8/LinearAlgebra/src/uniformscaling.jl:261\n",
       "[284] *(::Missing) in Base at missing.jl:101\n",
       "[285] *(::Missing, ::Number) in Base at missing.jl:123\n",
       "[286] *(d::Missing, x::Union{AbstractChar, AbstractString}) in Base at missing.jl:182\n",
       "[287] *(::Missing, ::Missing) in Base at missing.jl:122\n",
       "[288] *(x::BigFloat, c::Union{UInt16, UInt32, UInt64, UInt8}) in Base.MPFR at mpfr.jl:393\n",
       "[289] *(x::BigFloat, c::Union{Int16, Int32, Int64, Int8}) in Base.MPFR at mpfr.jl:401\n",
       "[290] *(x::BigFloat, c::Union{Float16, Float32, Float64}) in Base.MPFR at mpfr.jl:409\n",
       "[291] *(x::BigFloat, y::BigFloat) in Base.MPFR at mpfr.jl:386\n",
       "[292] *(x::BigFloat, c::BigInt) in Base.MPFR at mpfr.jl:417\n",
       "[293] *(a::BigFloat, b::BigFloat, c::BigFloat) in Base.MPFR at mpfr.jl:558\n",
       "[294] *(a::BigFloat, b::BigFloat, c::BigFloat, d::BigFloat) in Base.MPFR at mpfr.jl:564\n",
       "[295] *(a::BigFloat, b::BigFloat, c::BigFloat, d::BigFloat, e::BigFloat) in Base.MPFR at mpfr.jl:571\n",
       "[296] *(x::Bool, y::T) where T<:AbstractFloat in Base at bool.jl:175\n",
       "[297] *(x::Bool, y::AbstractIrrational) in Base at irrationals.jl:160\n",
       "[298] *(x::Bool, y::Bool) in Base at bool.jl:164\n",
       "[299] *(a::Integer, b::Integer) in Base at int.jl:987\n",
       "[300] *(x::Bool, z::Complex{Bool}) in Base at complex.jl:303\n",
       "[301] *(x::Real, z::Complex{Bool}) in Base at complex.jl:321\n",
       "[302] *(x::Bool, z::Complex) in Base at complex.jl:310\n",
       "[303] *(x::Real, z::Complex) in Base at complex.jl:333\n",
       "[304] *(r::Regex) in Base at regex.jl:825\n",
       "[305] *(r1::Union{Regex, AbstractChar, AbstractString}, rs::Union{Regex, AbstractChar, AbstractString}...) in Base at regex.jl:804\n",
       "[306] *(z::Complex{Bool}, x::Bool) in Base at complex.jl:304\n",
       "[307] *(z::Complex, x::Bool) in Base at complex.jl:311\n",
       "[308] *(z::Complex{Bool}, x::Real) in Base at complex.jl:322\n",
       "[309] *(z::Complex, x::Real) in Base at complex.jl:334\n",
       "[310] *(x::Rational{BigInt}, y::Rational{BigInt}) in Base.GMP.MPQ at gmp.jl:946\n",
       "[311] *(x::Rational, y::Rational) in Base at rational.jl:333\n",
       "[312] *(x::Number) in Base at operators.jl:529\n",
       "[313] *(α::Number, vt::Union{LinearAlgebra.Adjoint{T, var\"#s886\"}, LinearAlgebra.Transpose{T, var\"#s886\"}} where {T, var\"#s886\"<:(AbstractVector)}, C::AbstractMatrix, x::AbstractVector) in LinearAlgebra at /julia/julia-1.8.5/share/julia/stdlib/v1.8/LinearAlgebra/src/matmul.jl:1217\n",
       "[314] *(x::T, y::T) where T<:Number in Base at promotion.jl:464\n",
       "[315] *(x::Number, y::Number) in Base at promotion.jl:389\n",
       "[316] *(α::Number, β::Number, C::AbstractMatrix, D::AbstractMatrix) in LinearAlgebra at /julia/julia-1.8.5/share/julia/stdlib/v1.8/LinearAlgebra/src/matmul.jl:1215\n",
       "[317] *(α::Number, β::Number, C::AbstractMatrix, x::AbstractVector) in LinearAlgebra at /julia/julia-1.8.5/share/julia/stdlib/v1.8/LinearAlgebra/src/matmul.jl:1214\n",
       "[318] *(a, b, c, xs...) in Base at operators.jl:591"
      ]
     },
     "execution_count": 3,
     "metadata": {},
     "output_type": "execute_result"
    }
   ],
   "source": [
    "methods(*)"
   ]
  },
  {
   "attachments": {},
   "cell_type": "markdown",
   "metadata": {},
   "source": [
    "### Each of the following '*' methods is different."
   ]
  },
  {
   "cell_type": "code",
   "execution_count": 4,
   "metadata": {},
   "outputs": [
    {
     "data": {
      "text/plain": [
       "12"
      ]
     },
     "execution_count": 4,
     "metadata": {},
     "output_type": "execute_result"
    }
   ],
   "source": [
    "*(3, 4)"
   ]
  },
  {
   "cell_type": "code",
   "execution_count": 5,
   "metadata": {},
   "outputs": [
    {
     "data": {
      "text/plain": [
       "49.5"
      ]
     },
     "execution_count": 5,
     "metadata": {},
     "output_type": "execute_result"
    }
   ],
   "source": [
    "*(7.5, 6.6)"
   ]
  },
  {
   "cell_type": "code",
   "execution_count": 6,
   "metadata": {},
   "outputs": [
    {
     "data": {
      "text/plain": [
       "27.6"
      ]
     },
     "execution_count": 6,
     "metadata": {},
     "output_type": "execute_result"
    }
   ],
   "source": [
    "*(4, 6.9)"
   ]
  },
  {
   "cell_type": "code",
   "execution_count": 7,
   "metadata": {},
   "outputs": [
    {
     "data": {
      "text/plain": [
       "3×4 Matrix{Int64}:\n",
       " 1  4  7  10\n",
       " 2  5  8  11\n",
       " 3  6  9  12"
      ]
     },
     "execution_count": 7,
     "metadata": {},
     "output_type": "execute_result"
    }
   ],
   "source": [
    "mat1 = reshape(Vector(1:12), (3, 4))"
   ]
  },
  {
   "cell_type": "code",
   "execution_count": 8,
   "metadata": {},
   "outputs": [
    {
     "data": {
      "text/plain": [
       "4×3 Matrix{Int64}:\n",
       " 11  15  19\n",
       " 12  16  20\n",
       " 13  17  21\n",
       " 14  18  22"
      ]
     },
     "execution_count": 8,
     "metadata": {},
     "output_type": "execute_result"
    }
   ],
   "source": [
    "mat2 = reshape(Vector(11:22), (4, 3))"
   ]
  },
  {
   "cell_type": "code",
   "execution_count": 9,
   "metadata": {},
   "outputs": [
    {
     "data": {
      "text/plain": [
       "3×3 Matrix{Int64}:\n",
       " 290  378  466\n",
       " 340  444  548\n",
       " 390  510  630"
      ]
     },
     "execution_count": 9,
     "metadata": {},
     "output_type": "execute_result"
    }
   ],
   "source": [
    "*(mat1, mat2)"
   ]
  },
  {
   "cell_type": "code",
   "execution_count": 10,
   "metadata": {},
   "outputs": [
    {
     "data": {
      "text/plain": [
       "\"Julia Programming\""
      ]
     },
     "execution_count": 10,
     "metadata": {},
     "output_type": "execute_result"
    }
   ],
   "source": [
    "*(\"Julia\", \" Programming\")"
   ]
  },
  {
   "cell_type": "code",
   "execution_count": 11,
   "metadata": {},
   "outputs": [
    {
     "data": {
      "text/plain": [
       "f (generic function with 1 method)"
      ]
     },
     "execution_count": 11,
     "metadata": {},
     "output_type": "execute_result"
    }
   ],
   "source": [
    "f(x::Float64, y::Float64) = x^2 + y^2"
   ]
  },
  {
   "cell_type": "code",
   "execution_count": 12,
   "metadata": {},
   "outputs": [
    {
     "data": {
      "text/plain": [
       "45.0"
      ]
     },
     "execution_count": 12,
     "metadata": {},
     "output_type": "execute_result"
    }
   ],
   "source": [
    "f(3.0, 6.0)"
   ]
  },
  {
   "cell_type": "code",
   "execution_count": 13,
   "metadata": {},
   "outputs": [
    {
     "ename": "LoadError",
     "evalue": "MethodError: no method matching f(::Int64, ::Int64)",
     "output_type": "error",
     "traceback": [
      "MethodError: no method matching f(::Int64, ::Int64)",
      "",
      "Stacktrace:",
      " [1] top-level scope",
      "   @ In[13]:1"
     ]
    }
   ],
   "source": [
    "f(3, 6)"
   ]
  },
  {
   "cell_type": "code",
   "execution_count": 14,
   "metadata": {},
   "outputs": [
    {
     "ename": "LoadError",
     "evalue": "MethodError: no method matching f(::Float32, ::Float32)",
     "output_type": "error",
     "traceback": [
      "MethodError: no method matching f(::Float32, ::Float32)",
      "",
      "Stacktrace:",
      " [1] top-level scope",
      "   @ In[14]:1"
     ]
    }
   ],
   "source": [
    "f(3f0, 6f0)"
   ]
  },
  {
   "cell_type": "code",
   "execution_count": 15,
   "metadata": {},
   "outputs": [
    {
     "data": {
      "text/plain": [
       "f (generic function with 2 methods)"
      ]
     },
     "execution_count": 15,
     "metadata": {},
     "output_type": "execute_result"
    }
   ],
   "source": [
    "f(x::Number, y::Number) = x^2 - y^2"
   ]
  },
  {
   "cell_type": "code",
   "execution_count": 16,
   "metadata": {},
   "outputs": [
    {
     "data": {
      "text/plain": [
       "33.0"
      ]
     },
     "execution_count": 16,
     "metadata": {},
     "output_type": "execute_result"
    }
   ],
   "source": [
    "f(7.0, 4)"
   ]
  },
  {
   "cell_type": "code",
   "execution_count": 17,
   "metadata": {},
   "outputs": [
    {
     "data": {
      "text/plain": [
       "28"
      ]
     },
     "execution_count": 17,
     "metadata": {},
     "output_type": "execute_result"
    }
   ],
   "source": [
    "f(8, 6)"
   ]
  },
  {
   "cell_type": "code",
   "execution_count": 18,
   "metadata": {},
   "outputs": [
    {
     "data": {
      "text/plain": [
       "-49.64"
      ]
     },
     "execution_count": 18,
     "metadata": {},
     "output_type": "execute_result"
    }
   ],
   "source": [
    "f(5.6, 9)"
   ]
  },
  {
   "cell_type": "code",
   "execution_count": 19,
   "metadata": {},
   "outputs": [
    {
     "data": {
      "text/plain": [
       "25.0"
      ]
     },
     "execution_count": 19,
     "metadata": {},
     "output_type": "execute_result"
    }
   ],
   "source": [
    "f(3.0, 4.0)"
   ]
  },
  {
   "cell_type": "code",
   "execution_count": 20,
   "metadata": {},
   "outputs": [
    {
     "ename": "LoadError",
     "evalue": "MethodError: no method matching f(::String, ::Float64)\n\u001b[0mClosest candidates are:\n\u001b[0m  f(\u001b[91m::Float64\u001b[39m, ::Float64) at In[11]:1\n\u001b[0m  f(\u001b[91m::Number\u001b[39m, ::Number) at In[15]:1",
     "output_type": "error",
     "traceback": [
      "MethodError: no method matching f(::String, ::Float64)\n\u001b[0mClosest candidates are:\n\u001b[0m  f(\u001b[91m::Float64\u001b[39m, ::Float64) at In[11]:1\n\u001b[0m  f(\u001b[91m::Number\u001b[39m, ::Number) at In[15]:1",
      "",
      "Stacktrace:",
      " [1] top-level scope",
      "   @ In[20]:1"
     ]
    }
   ],
   "source": [
    "f(\"xyz\", 4.5)"
   ]
  },
  {
   "cell_type": "code",
   "execution_count": 21,
   "metadata": {},
   "outputs": [
    {
     "data": {
      "text/plain": [
       "f (generic function with 2 methods)"
      ]
     },
     "execution_count": 21,
     "metadata": {},
     "output_type": "execute_result"
    }
   ],
   "source": [
    "f"
   ]
  },
  {
   "cell_type": "code",
   "execution_count": 22,
   "metadata": {},
   "outputs": [
    {
     "data": {
      "text/html": [
       "# 2 methods for generic function <b>f</b>:<ul><li> f(x::<b>Float64</b>, y::<b>Float64</b>) in Main at In[11]:1</li> <li> f(x::<b>Number</b>, y::<b>Number</b>) in Main at In[15]:1</li> </ul>"
      ],
      "text/plain": [
       "# 2 methods for generic function \"f\":\n",
       "[1] f(x::Float64, y::Float64) in Main at In[11]:1\n",
       "[2] f(x::Number, y::Number) in Main at In[15]:1"
      ]
     },
     "execution_count": 22,
     "metadata": {},
     "output_type": "execute_result"
    }
   ],
   "source": [
    "methods(f)"
   ]
  },
  {
   "cell_type": "code",
   "execution_count": 23,
   "metadata": {},
   "outputs": [
    {
     "data": {
      "text/plain": [
       "f (generic function with 3 methods)"
      ]
     },
     "execution_count": 23,
     "metadata": {},
     "output_type": "execute_result"
    }
   ],
   "source": [
    "f(x, y) = \"I couldn't find the correct method.\""
   ]
  },
  {
   "cell_type": "code",
   "execution_count": 24,
   "metadata": {},
   "outputs": [
    {
     "data": {
      "text/plain": [
       "f (generic function with 3 methods)"
      ]
     },
     "execution_count": 24,
     "metadata": {},
     "output_type": "execute_result"
    }
   ],
   "source": [
    "f(x::Any, y::Any) = \"I couldn't find the correct method.\""
   ]
  },
  {
   "cell_type": "code",
   "execution_count": 25,
   "metadata": {},
   "outputs": [
    {
     "data": {
      "text/html": [
       "# 3 methods for generic function <b>f</b>:<ul><li> f(x::<b>Float64</b>, y::<b>Float64</b>) in Main at In[11]:1</li> <li> f(x::<b>Number</b>, y::<b>Number</b>) in Main at In[15]:1</li> <li> f(x, y) in Main at In[24]:1</li> </ul>"
      ],
      "text/plain": [
       "# 3 methods for generic function \"f\":\n",
       "[1] f(x::Float64, y::Float64) in Main at In[11]:1\n",
       "[2] f(x::Number, y::Number) in Main at In[15]:1\n",
       "[3] f(x, y) in Main at In[24]:1"
      ]
     },
     "execution_count": 25,
     "metadata": {},
     "output_type": "execute_result"
    }
   ],
   "source": [
    "methods(f)"
   ]
  },
  {
   "cell_type": "code",
   "execution_count": 26,
   "metadata": {},
   "outputs": [
    {
     "data": {
      "text/plain": [
       "\"I couldn't find the correct method.\""
      ]
     },
     "execution_count": 26,
     "metadata": {},
     "output_type": "execute_result"
    }
   ],
   "source": [
    "f(\"xyz\", 5)"
   ]
  },
  {
   "cell_type": "code",
   "execution_count": 27,
   "metadata": {},
   "outputs": [
    {
     "data": {
      "text/plain": [
       "g (generic function with 1 method)"
      ]
     },
     "execution_count": 27,
     "metadata": {},
     "output_type": "execute_result"
    }
   ],
   "source": [
    "g(x::Int64, y) = x * y"
   ]
  },
  {
   "cell_type": "code",
   "execution_count": 28,
   "metadata": {},
   "outputs": [
    {
     "data": {
      "text/plain": [
       "g (generic function with 2 methods)"
      ]
     },
     "execution_count": 28,
     "metadata": {},
     "output_type": "execute_result"
    }
   ],
   "source": [
    "g(x, y::Int64) = x / y"
   ]
  },
  {
   "cell_type": "code",
   "execution_count": 29,
   "metadata": {},
   "outputs": [
    {
     "data": {
      "text/plain": [
       "18.0"
      ]
     },
     "execution_count": 29,
     "metadata": {},
     "output_type": "execute_result"
    }
   ],
   "source": [
    "g(4, 4.5)"
   ]
  },
  {
   "cell_type": "code",
   "execution_count": 30,
   "metadata": {},
   "outputs": [
    {
     "data": {
      "text/plain": [
       "1.125"
      ]
     },
     "execution_count": 30,
     "metadata": {},
     "output_type": "execute_result"
    }
   ],
   "source": [
    "g(4.5, 4)"
   ]
  },
  {
   "cell_type": "code",
   "execution_count": 31,
   "metadata": {},
   "outputs": [
    {
     "ename": "LoadError",
     "evalue": "MethodError: g(::Int64, ::Int64) is ambiguous. Candidates:\n  g(x::Int64, y) in Main at In[27]:1\n  g(x, y::Int64) in Main at In[28]:1\nPossible fix, define\n  g(::Int64, ::Int64)",
     "output_type": "error",
     "traceback": [
      "MethodError: g(::Int64, ::Int64) is ambiguous. Candidates:\n  g(x::Int64, y) in Main at In[27]:1\n  g(x, y::Int64) in Main at In[28]:1\nPossible fix, define\n  g(::Int64, ::Int64)",
      "",
      "Stacktrace:",
      " [1] top-level scope",
      "   @ In[31]:1"
     ]
    }
   ],
   "source": [
    "g(4, 5)"
   ]
  },
  {
   "cell_type": "code",
   "execution_count": 32,
   "metadata": {},
   "outputs": [
    {
     "data": {
      "text/plain": [
       "g (generic function with 3 methods)"
      ]
     },
     "execution_count": 32,
     "metadata": {},
     "output_type": "execute_result"
    }
   ],
   "source": [
    "g(x::Int64, y::Int64) = x + y"
   ]
  },
  {
   "cell_type": "code",
   "execution_count": 33,
   "metadata": {},
   "outputs": [
    {
     "data": {
      "text/plain": [
       "h (generic function with 3 methods)"
      ]
     },
     "execution_count": 33,
     "metadata": {},
     "output_type": "execute_result"
    }
   ],
   "source": [
    "h(x=3, y=4) = x + y"
   ]
  },
  {
   "cell_type": "code",
   "execution_count": 35,
   "metadata": {},
   "outputs": [
    {
     "data": {
      "text/plain": [
       "7"
      ]
     },
     "execution_count": 35,
     "metadata": {},
     "output_type": "execute_result"
    }
   ],
   "source": [
    "h()"
   ]
  },
  {
   "cell_type": "code",
   "execution_count": 36,
   "metadata": {},
   "outputs": [
    {
     "data": {
      "text/plain": [
       "h (generic function with 4 methods)"
      ]
     },
     "execution_count": 36,
     "metadata": {},
     "output_type": "execute_result"
    }
   ],
   "source": [
    "h(x::Int, y::Int) = x - y"
   ]
  },
  {
   "cell_type": "code",
   "execution_count": 37,
   "metadata": {},
   "outputs": [
    {
     "data": {
      "text/plain": [
       "-1"
      ]
     },
     "execution_count": 37,
     "metadata": {},
     "output_type": "execute_result"
    }
   ],
   "source": [
    "h()"
   ]
  },
  {
   "cell_type": "code",
   "execution_count": null,
   "metadata": {},
   "outputs": [],
   "source": []
  }
 ],
 "metadata": {
  "kernelspec": {
   "display_name": "Julia 1.8.5",
   "language": "julia",
   "name": "julia-1.8"
  },
  "language_info": {
   "file_extension": ".jl",
   "mimetype": "application/julia",
   "name": "julia",
   "version": "1.8.5"
  },
  "orig_nbformat": 4,
  "vscode": {
   "interpreter": {
    "hash": "f9f85f796d01129d0dd105a088854619f454435301f6ffec2fea96ecbd9be4ac"
   }
  }
 },
 "nbformat": 4,
 "nbformat_minor": 2
}
