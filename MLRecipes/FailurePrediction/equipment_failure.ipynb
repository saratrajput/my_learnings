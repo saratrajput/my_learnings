{
 "cells": [
  {
   "cell_type": "markdown",
   "id": "2f7145bd-8cd5-407b-be5e-bd9413f3ec83",
   "metadata": {},
   "source": [
    "# Machine learning for equipment failure\n",
    "https://medium.com/swlh/machine-learning-for-equipment-failure-prediction-and-predictive-maintenance-pm-e72b1ce42da1"
   ]
  },
  {
   "cell_type": "code",
   "execution_count": 3,
   "id": "416b6552-3488-495c-8f79-deb12d82f637",
   "metadata": {},
   "outputs": [
    {
     "name": "stdout",
     "output_type": "stream",
     "text": [
      "Collecting xgboost\n",
      "  Downloading xgboost-1.5.2-py3-none-win_amd64.whl (106.6 MB)\n",
      "Requirement already satisfied: scipy in c:\\users\\patta\\anaconda3\\envs\\py37\\lib\\site-packages (from xgboost) (1.7.3)\n",
      "Requirement already satisfied: numpy in c:\\users\\patta\\anaconda3\\envs\\py37\\lib\\site-packages (from xgboost) (1.20.3)\n",
      "Installing collected packages: xgboost\n",
      "Successfully installed xgboost-1.5.2\n"
     ]
    }
   ],
   "source": [
    "import sys\n",
    "!{sys.executable} -m pip install xgboost"
   ]
  },
  {
   "cell_type": "code",
   "execution_count": 4,
   "id": "43da4ab0-9334-4110-932c-d1ed413f4daf",
   "metadata": {},
   "outputs": [],
   "source": [
    "import chart_studio.plotly as py\n",
    "import plotly.graph_objs as go\n",
    "import plotly as plotly\n",
    "import pandas as pd\n",
    "import numpy as np\n",
    "from imblearn.over_sampling import SMOTE\n",
    "from imblearn.over_sampling import SMOTENC\n",
    "from sklearn import metrics\n",
    "\n",
    "from sklearn.preprocessing import LabelEncoder\n",
    "\n",
    "import xgboost as xgb\n",
    "from xgboost.sklearn import XGBClassifier\n",
    "\n",
    "import types\n",
    "import pandas as pd\n",
    "\n",
    "# def __iter__(self): return 0"
   ]
  },
  {
   "cell_type": "markdown",
   "id": "5c9e5572-35d3-48cf-a9e1-b639d57128e6",
   "metadata": {},
   "source": [
    "## Import data"
   ]
  },
  {
   "cell_type": "code",
   "execution_count": 5,
   "id": "962f4bd3-0351-463d-a3cb-075a0895214b",
   "metadata": {},
   "outputs": [
    {
     "name": "stderr",
     "output_type": "stream",
     "text": [
      "'wget' is not recognized as an internal or external command,\n",
      "operable program or batch file.\n"
     ]
    }
   ],
   "source": [
    "# Remove the data if you run this notebook more than once\n",
    "# !rm equipment_failure_data_1.csv\n",
    "\n",
    "# import first half fom github\n",
    "!wget https://raw.githubusercontent.com/shadgriffin/machine_failure/master/equipment_failure_data_1.csv"
   ]
  },
  {
   "cell_type": "code",
   "execution_count": 6,
   "id": "8fe3e25a-cc49-4831-909c-6a05f3306f36",
   "metadata": {},
   "outputs": [],
   "source": [
    "# Convert csv to pandas\n",
    "pd_data_1 = pd.read_csv(\"equipment_failure_data_1.csv\", sep=\",\", header=0)\n",
    "\n",
    "# Remove the data if you run this notebook more than once\n",
    "# !rm equipment_failure_data_2.csv\n",
    "\n",
    "# Import the second half from github\n",
    "# !wget https://raw.githubusercontent.com/shadgriffin/machine_failure/master/equipment_failure_data_2.csv\n",
    "\n",
    "# convert to pandas dataframe\n",
    "pd_data_2 = pd.read_csv(\"equipment_failure_data_2.csv\", sep=\",\", header=0)\n",
    "\n",
    "# Concatenate the two data files into one dataframe\n",
    "pd_data = pd.concat([pd_data_1, pd_data_2])"
   ]
  },
  {
   "cell_type": "markdown",
   "id": "a85cab82-c7f7-4f45-a227-8149a716154a",
   "metadata": {},
   "source": [
    "## Data exploration"
   ]
  },
  {
   "cell_type": "code",
   "execution_count": 7,
   "id": "f41d5b4a-2953-4574-83d7-43b6ef4a7957",
   "metadata": {},
   "outputs": [
    {
     "data": {
      "text/html": [
       "<div>\n",
       "<style scoped>\n",
       "    .dataframe tbody tr th:only-of-type {\n",
       "        vertical-align: middle;\n",
       "    }\n",
       "\n",
       "    .dataframe tbody tr th {\n",
       "        vertical-align: top;\n",
       "    }\n",
       "\n",
       "    .dataframe thead th {\n",
       "        text-align: right;\n",
       "    }\n",
       "</style>\n",
       "<table border=\"1\" class=\"dataframe\">\n",
       "  <thead>\n",
       "    <tr style=\"text-align: right;\">\n",
       "      <th></th>\n",
       "      <th>ID</th>\n",
       "      <th>DATE</th>\n",
       "      <th>REGION_CLUSTER</th>\n",
       "      <th>MAINTENANCE_VENDOR</th>\n",
       "      <th>MANUFACTURER</th>\n",
       "      <th>WELL_GROUP</th>\n",
       "      <th>S15</th>\n",
       "      <th>S17</th>\n",
       "      <th>S13</th>\n",
       "      <th>S5</th>\n",
       "      <th>S16</th>\n",
       "      <th>S19</th>\n",
       "      <th>S18</th>\n",
       "      <th>EQUIPMENT_FAILURE</th>\n",
       "      <th>S8</th>\n",
       "      <th>AGE_OF_EQUIPMENT</th>\n",
       "    </tr>\n",
       "  </thead>\n",
       "  <tbody>\n",
       "    <tr>\n",
       "      <th>0</th>\n",
       "      <td>100001</td>\n",
       "      <td>12/2/14</td>\n",
       "      <td>G</td>\n",
       "      <td>O</td>\n",
       "      <td>Y</td>\n",
       "      <td>1</td>\n",
       "      <td>11.088000</td>\n",
       "      <td>145.223448</td>\n",
       "      <td>39.34</td>\n",
       "      <td>3501.0</td>\n",
       "      <td>8.426869</td>\n",
       "      <td>1.9</td>\n",
       "      <td>24.610345</td>\n",
       "      <td>0</td>\n",
       "      <td>0.0</td>\n",
       "      <td>880</td>\n",
       "    </tr>\n",
       "    <tr>\n",
       "      <th>1</th>\n",
       "      <td>100001</td>\n",
       "      <td>12/3/14</td>\n",
       "      <td>G</td>\n",
       "      <td>O</td>\n",
       "      <td>Y</td>\n",
       "      <td>1</td>\n",
       "      <td>8.877943</td>\n",
       "      <td>187.573214</td>\n",
       "      <td>39.20</td>\n",
       "      <td>3489.0</td>\n",
       "      <td>6.483714</td>\n",
       "      <td>1.9</td>\n",
       "      <td>24.671429</td>\n",
       "      <td>0</td>\n",
       "      <td>0.0</td>\n",
       "      <td>881</td>\n",
       "    </tr>\n",
       "    <tr>\n",
       "      <th>2</th>\n",
       "      <td>100001</td>\n",
       "      <td>12/4/14</td>\n",
       "      <td>G</td>\n",
       "      <td>O</td>\n",
       "      <td>Y</td>\n",
       "      <td>1</td>\n",
       "      <td>8.676444</td>\n",
       "      <td>148.363704</td>\n",
       "      <td>38.87</td>\n",
       "      <td>3459.0</td>\n",
       "      <td>6.159659</td>\n",
       "      <td>2.0</td>\n",
       "      <td>24.733333</td>\n",
       "      <td>0</td>\n",
       "      <td>0.0</td>\n",
       "      <td>882</td>\n",
       "    </tr>\n",
       "    <tr>\n",
       "      <th>3</th>\n",
       "      <td>100001</td>\n",
       "      <td>12/5/14</td>\n",
       "      <td>G</td>\n",
       "      <td>O</td>\n",
       "      <td>Y</td>\n",
       "      <td>1</td>\n",
       "      <td>9.988338</td>\n",
       "      <td>133.660000</td>\n",
       "      <td>39.47</td>\n",
       "      <td>3513.0</td>\n",
       "      <td>9.320308</td>\n",
       "      <td>2.0</td>\n",
       "      <td>24.773077</td>\n",
       "      <td>0</td>\n",
       "      <td>0.0</td>\n",
       "      <td>883</td>\n",
       "    </tr>\n",
       "    <tr>\n",
       "      <th>4</th>\n",
       "      <td>100001</td>\n",
       "      <td>12/6/14</td>\n",
       "      <td>G</td>\n",
       "      <td>O</td>\n",
       "      <td>Y</td>\n",
       "      <td>1</td>\n",
       "      <td>8.475264</td>\n",
       "      <td>197.181600</td>\n",
       "      <td>40.33</td>\n",
       "      <td>3589.0</td>\n",
       "      <td>8.022960</td>\n",
       "      <td>1.5</td>\n",
       "      <td>24.808000</td>\n",
       "      <td>0</td>\n",
       "      <td>0.0</td>\n",
       "      <td>884</td>\n",
       "    </tr>\n",
       "  </tbody>\n",
       "</table>\n",
       "</div>"
      ],
      "text/plain": [
       "       ID     DATE REGION_CLUSTER MAINTENANCE_VENDOR MANUFACTURER  WELL_GROUP  \\\n",
       "0  100001  12/2/14              G                  O            Y           1   \n",
       "1  100001  12/3/14              G                  O            Y           1   \n",
       "2  100001  12/4/14              G                  O            Y           1   \n",
       "3  100001  12/5/14              G                  O            Y           1   \n",
       "4  100001  12/6/14              G                  O            Y           1   \n",
       "\n",
       "         S15         S17    S13      S5       S16  S19        S18  \\\n",
       "0  11.088000  145.223448  39.34  3501.0  8.426869  1.9  24.610345   \n",
       "1   8.877943  187.573214  39.20  3489.0  6.483714  1.9  24.671429   \n",
       "2   8.676444  148.363704  38.87  3459.0  6.159659  2.0  24.733333   \n",
       "3   9.988338  133.660000  39.47  3513.0  9.320308  2.0  24.773077   \n",
       "4   8.475264  197.181600  40.33  3589.0  8.022960  1.5  24.808000   \n",
       "\n",
       "   EQUIPMENT_FAILURE   S8  AGE_OF_EQUIPMENT  \n",
       "0                  0  0.0               880  \n",
       "1                  0  0.0               881  \n",
       "2                  0  0.0               882  \n",
       "3                  0  0.0               883  \n",
       "4                  0  0.0               884  "
      ]
     },
     "execution_count": 7,
     "metadata": {},
     "output_type": "execute_result"
    }
   ],
   "source": [
    "pd_data.head()"
   ]
  },
  {
   "cell_type": "markdown",
   "id": "f26d4766-477a-4519-9f38-97ca811a04e5",
   "metadata": {},
   "source": [
    "* ID - ID field that represents a specific machine.\n",
    "* DATE - The date of the observation.\n",
    "* REGION_CLUSTER - A field that represents the region in which the machine resides.\n",
    "* MAINTENANCE_VENDOR - A field that represents the company that provides maintenance and service to the machine.\n",
    "* MANUFACTURER - The company that manufactured the equipment in question.\n",
    "* WELL_GROUP - A field representing the type of machine.\n",
    "* EQUIPMENT_AGE - Age of the machine, in days.\n",
    "* Sxx - Sensor values.\n",
    "* EQUIPMENT_FAILURE - A '1' means that the equipment failed. A '0' means the equipment did not fail."
   ]
  },
  {
   "cell_type": "code",
   "execution_count": 8,
   "id": "1e75ce76-ece7-4dcd-b9e6-29c1de8d578b",
   "metadata": {},
   "outputs": [
    {
     "data": {
      "text/plain": [
       "(307751, 16)"
      ]
     },
     "execution_count": 8,
     "metadata": {},
     "output_type": "execute_result"
    }
   ],
   "source": [
    "# Shape of the data\n",
    "pd_data.shape"
   ]
  },
  {
   "cell_type": "markdown",
   "id": "0ced5d6f-51e9-4d87-abb2-f02a950f8681",
   "metadata": {},
   "source": [
    "Num of machines: 421"
   ]
  },
  {
   "cell_type": "code",
   "execution_count": null,
   "id": "2f3b31ed-f0c2-4b12-a033-fe24c347714d",
   "metadata": {},
   "outputs": [],
   "source": [
    "xxxx = pd"
   ]
  }
 ],
 "metadata": {
  "kernelspec": {
   "display_name": "Python 3 (ipykernel)",
   "language": "python",
   "name": "python3"
  },
  "language_info": {
   "codemirror_mode": {
    "name": "ipython",
    "version": 3
   },
   "file_extension": ".py",
   "mimetype": "text/x-python",
   "name": "python",
   "nbconvert_exporter": "python",
   "pygments_lexer": "ipython3",
   "version": "3.7.11"
  }
 },
 "nbformat": 4,
 "nbformat_minor": 5
}
