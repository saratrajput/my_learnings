{
 "cells": [
  {
   "cell_type": "markdown",
   "id": "2f7145bd-8cd5-407b-be5e-bd9413f3ec83",
   "metadata": {},
   "source": [
    "# Machine learning for equipment failure\n",
    "https://medium.com/swlh/machine-learning-for-equipment-failure-prediction-and-predictive-maintenance-pm-e72b1ce42da1"
   ]
  },
  {
   "cell_type": "code",
   "execution_count": 1,
   "id": "416b6552-3488-495c-8f79-deb12d82f637",
   "metadata": {},
   "outputs": [],
   "source": [
    "# import sys\n",
    "# !{sys.executable} -m pip install xgboost imblearn plotly chart-studio"
   ]
  },
  {
   "cell_type": "code",
   "execution_count": 2,
   "id": "43da4ab0-9334-4110-932c-d1ed413f4daf",
   "metadata": {},
   "outputs": [],
   "source": [
    "import chart_studio.plotly as py\n",
    "import plotly.graph_objs as go\n",
    "import plotly as plotly\n",
    "import pandas as pd\n",
    "import numpy as np\n",
    "from imblearn.over_sampling import SMOTE\n",
    "from imblearn.over_sampling import SMOTENC\n",
    "from sklearn import metrics\n",
    "\n",
    "from sklearn.preprocessing import LabelEncoder\n",
    "\n",
    "import xgboost as xgb\n",
    "from xgboost.sklearn import XGBClassifier\n",
    "\n",
    "import types\n",
    "import pandas as pd\n",
    "\n",
    "# def __iter__(self): return 0"
   ]
  },
  {
   "cell_type": "markdown",
   "id": "5c9e5572-35d3-48cf-a9e1-b639d57128e6",
   "metadata": {},
   "source": [
    "## Import data"
   ]
  },
  {
   "cell_type": "markdown",
   "id": "b2e4a7cf-f928-43ab-8b23-2eabc0c08794",
   "metadata": {},
   "source": [
    "### Download data"
   ]
  },
  {
   "cell_type": "code",
   "execution_count": 3,
   "id": "962f4bd3-0351-463d-a3cb-075a0895214b",
   "metadata": {},
   "outputs": [],
   "source": [
    "# Remove the data if you run this notebook more than once\n",
    "# !rm equipment_failure_data_1.csv\n",
    "\n",
    "# import first half fom github\n",
    "# !wget https://raw.githubusercontent.com/shadgriffin/machine_failure/master/equipment_failure_data_1.csv\n",
    "\n",
    "# Remove the data if you run this notebook more than once\n",
    "# !rm equipment_failure_data_2.csv\n",
    "\n",
    "# Import the second half from github\n",
    "# !wget https://raw.githubusercontent.com/shadgriffin/machine_failure/master/equipment_failure_data_2.csv"
   ]
  },
  {
   "cell_type": "markdown",
   "id": "9ec2b5d6-349e-46de-9823-a08504d3ae3d",
   "metadata": {},
   "source": [
    "### Load data"
   ]
  },
  {
   "cell_type": "code",
   "execution_count": 4,
   "id": "8fe3e25a-cc49-4831-909c-6a05f3306f36",
   "metadata": {},
   "outputs": [],
   "source": [
    "# Convert csv to pandas\n",
    "pd_data_1 = pd.read_csv(\"equipment_failure_data_1.csv\", sep=\",\", header=0)\n",
    "\n",
    "# convert to pandas dataframe\n",
    "pd_data_2 = pd.read_csv(\"equipment_failure_data_2.csv\", sep=\",\", header=0)\n",
    "\n",
    "# Concatenate the two data files into one dataframe\n",
    "pd_data = pd.concat([pd_data_1, pd_data_2])"
   ]
  },
  {
   "cell_type": "markdown",
   "id": "a85cab82-c7f7-4f45-a227-8149a716154a",
   "metadata": {},
   "source": [
    "## Data exploration"
   ]
  },
  {
   "cell_type": "code",
   "execution_count": 5,
   "id": "f41d5b4a-2953-4574-83d7-43b6ef4a7957",
   "metadata": {},
   "outputs": [
    {
     "data": {
      "text/html": [
       "<div>\n",
       "<style scoped>\n",
       "    .dataframe tbody tr th:only-of-type {\n",
       "        vertical-align: middle;\n",
       "    }\n",
       "\n",
       "    .dataframe tbody tr th {\n",
       "        vertical-align: top;\n",
       "    }\n",
       "\n",
       "    .dataframe thead th {\n",
       "        text-align: right;\n",
       "    }\n",
       "</style>\n",
       "<table border=\"1\" class=\"dataframe\">\n",
       "  <thead>\n",
       "    <tr style=\"text-align: right;\">\n",
       "      <th></th>\n",
       "      <th>ID</th>\n",
       "      <th>DATE</th>\n",
       "      <th>REGION_CLUSTER</th>\n",
       "      <th>MAINTENANCE_VENDOR</th>\n",
       "      <th>MANUFACTURER</th>\n",
       "      <th>WELL_GROUP</th>\n",
       "      <th>S15</th>\n",
       "      <th>S17</th>\n",
       "      <th>S13</th>\n",
       "      <th>S5</th>\n",
       "      <th>S16</th>\n",
       "      <th>S19</th>\n",
       "      <th>S18</th>\n",
       "      <th>EQUIPMENT_FAILURE</th>\n",
       "      <th>S8</th>\n",
       "      <th>AGE_OF_EQUIPMENT</th>\n",
       "    </tr>\n",
       "  </thead>\n",
       "  <tbody>\n",
       "    <tr>\n",
       "      <th>0</th>\n",
       "      <td>100001</td>\n",
       "      <td>12/2/14</td>\n",
       "      <td>G</td>\n",
       "      <td>O</td>\n",
       "      <td>Y</td>\n",
       "      <td>1</td>\n",
       "      <td>11.088000</td>\n",
       "      <td>145.223448</td>\n",
       "      <td>39.34</td>\n",
       "      <td>3501.0</td>\n",
       "      <td>8.426869</td>\n",
       "      <td>1.9</td>\n",
       "      <td>24.610345</td>\n",
       "      <td>0</td>\n",
       "      <td>0.0</td>\n",
       "      <td>880</td>\n",
       "    </tr>\n",
       "    <tr>\n",
       "      <th>1</th>\n",
       "      <td>100001</td>\n",
       "      <td>12/3/14</td>\n",
       "      <td>G</td>\n",
       "      <td>O</td>\n",
       "      <td>Y</td>\n",
       "      <td>1</td>\n",
       "      <td>8.877943</td>\n",
       "      <td>187.573214</td>\n",
       "      <td>39.20</td>\n",
       "      <td>3489.0</td>\n",
       "      <td>6.483714</td>\n",
       "      <td>1.9</td>\n",
       "      <td>24.671429</td>\n",
       "      <td>0</td>\n",
       "      <td>0.0</td>\n",
       "      <td>881</td>\n",
       "    </tr>\n",
       "    <tr>\n",
       "      <th>2</th>\n",
       "      <td>100001</td>\n",
       "      <td>12/4/14</td>\n",
       "      <td>G</td>\n",
       "      <td>O</td>\n",
       "      <td>Y</td>\n",
       "      <td>1</td>\n",
       "      <td>8.676444</td>\n",
       "      <td>148.363704</td>\n",
       "      <td>38.87</td>\n",
       "      <td>3459.0</td>\n",
       "      <td>6.159659</td>\n",
       "      <td>2.0</td>\n",
       "      <td>24.733333</td>\n",
       "      <td>0</td>\n",
       "      <td>0.0</td>\n",
       "      <td>882</td>\n",
       "    </tr>\n",
       "    <tr>\n",
       "      <th>3</th>\n",
       "      <td>100001</td>\n",
       "      <td>12/5/14</td>\n",
       "      <td>G</td>\n",
       "      <td>O</td>\n",
       "      <td>Y</td>\n",
       "      <td>1</td>\n",
       "      <td>9.988338</td>\n",
       "      <td>133.660000</td>\n",
       "      <td>39.47</td>\n",
       "      <td>3513.0</td>\n",
       "      <td>9.320308</td>\n",
       "      <td>2.0</td>\n",
       "      <td>24.773077</td>\n",
       "      <td>0</td>\n",
       "      <td>0.0</td>\n",
       "      <td>883</td>\n",
       "    </tr>\n",
       "    <tr>\n",
       "      <th>4</th>\n",
       "      <td>100001</td>\n",
       "      <td>12/6/14</td>\n",
       "      <td>G</td>\n",
       "      <td>O</td>\n",
       "      <td>Y</td>\n",
       "      <td>1</td>\n",
       "      <td>8.475264</td>\n",
       "      <td>197.181600</td>\n",
       "      <td>40.33</td>\n",
       "      <td>3589.0</td>\n",
       "      <td>8.022960</td>\n",
       "      <td>1.5</td>\n",
       "      <td>24.808000</td>\n",
       "      <td>0</td>\n",
       "      <td>0.0</td>\n",
       "      <td>884</td>\n",
       "    </tr>\n",
       "  </tbody>\n",
       "</table>\n",
       "</div>"
      ],
      "text/plain": [
       "       ID     DATE REGION_CLUSTER MAINTENANCE_VENDOR MANUFACTURER  WELL_GROUP  \\\n",
       "0  100001  12/2/14              G                  O            Y           1   \n",
       "1  100001  12/3/14              G                  O            Y           1   \n",
       "2  100001  12/4/14              G                  O            Y           1   \n",
       "3  100001  12/5/14              G                  O            Y           1   \n",
       "4  100001  12/6/14              G                  O            Y           1   \n",
       "\n",
       "         S15         S17    S13      S5       S16  S19        S18  \\\n",
       "0  11.088000  145.223448  39.34  3501.0  8.426869  1.9  24.610345   \n",
       "1   8.877943  187.573214  39.20  3489.0  6.483714  1.9  24.671429   \n",
       "2   8.676444  148.363704  38.87  3459.0  6.159659  2.0  24.733333   \n",
       "3   9.988338  133.660000  39.47  3513.0  9.320308  2.0  24.773077   \n",
       "4   8.475264  197.181600  40.33  3589.0  8.022960  1.5  24.808000   \n",
       "\n",
       "   EQUIPMENT_FAILURE   S8  AGE_OF_EQUIPMENT  \n",
       "0                  0  0.0               880  \n",
       "1                  0  0.0               881  \n",
       "2                  0  0.0               882  \n",
       "3                  0  0.0               883  \n",
       "4                  0  0.0               884  "
      ]
     },
     "execution_count": 5,
     "metadata": {},
     "output_type": "execute_result"
    }
   ],
   "source": [
    "pd_data.head()"
   ]
  },
  {
   "cell_type": "markdown",
   "id": "f26d4766-477a-4519-9f38-97ca811a04e5",
   "metadata": {},
   "source": [
    "* ID - ID field that represents a specific machine.\n",
    "* DATE - The date of the observation.\n",
    "* REGION_CLUSTER - A field that represents the region in which the machine resides.\n",
    "* MAINTENANCE_VENDOR - A field that represents the company that provides maintenance and service to the machine.\n",
    "* MANUFACTURER - The company that manufactured the equipment in question.\n",
    "* WELL_GROUP - A field representing the type of machine.\n",
    "* EQUIPMENT_AGE - Age of the machine, in days.\n",
    "* Sxx - Sensor values.\n",
    "* EQUIPMENT_FAILURE - A '1' means that the equipment failed. A '0' means the equipment did not fail."
   ]
  },
  {
   "cell_type": "code",
   "execution_count": 8,
   "id": "1e75ce76-ece7-4dcd-b9e6-29c1de8d578b",
   "metadata": {},
   "outputs": [
    {
     "data": {
      "text/plain": [
       "(307751, 16)"
      ]
     },
     "execution_count": 8,
     "metadata": {},
     "output_type": "execute_result"
    }
   ],
   "source": [
    "# Shape of the data\n",
    "pd_data.shape"
   ]
  },
  {
   "cell_type": "markdown",
   "id": "0ced5d6f-51e9-4d87-abb2-f02a950f8681",
   "metadata": {},
   "source": [
    "Num of machines: 421"
   ]
  },
  {
   "cell_type": "code",
   "execution_count": 7,
   "id": "2f3b31ed-f0c2-4b12-a033-fe24c347714d",
   "metadata": {},
   "outputs": [
    {
     "data": {
      "text/plain": [
       "(421, 15)"
      ]
     },
     "execution_count": 7,
     "metadata": {},
     "output_type": "execute_result"
    }
   ],
   "source": [
    "num_machines = pd.DataFrame(pd_data.groupby(['ID']).agg(['count']))\n",
    "num_machines.shape"
   ]
  },
  {
   "cell_type": "markdown",
   "id": "6fd51c49-f27e-4d59-a41b-aff199952013",
   "metadata": {},
   "source": [
    "Num of unique datasets: 721"
   ]
  },
  {
   "cell_type": "code",
   "execution_count": 8,
   "id": "75e7e17d-194f-40d4-a955-2f575e2a8196",
   "metadata": {},
   "outputs": [
    {
     "data": {
      "text/plain": [
       "(731, 15)"
      ]
     },
     "execution_count": 8,
     "metadata": {},
     "output_type": "execute_result"
    }
   ],
   "source": [
    "unique_datasets = pd.DataFrame(pd_data.groupby(['DATE']).agg(['count']))\n",
    "unique_datasets.shape"
   ]
  },
  {
   "cell_type": "markdown",
   "id": "9ed1f56a-6efb-4869-b65c-113b85c91a16",
   "metadata": {},
   "source": [
    "### Drop duplicates"
   ]
  },
  {
   "cell_type": "code",
   "execution_count": 9,
   "id": "ff6b30da-8fc3-44ed-9e2d-9b1ab795669f",
   "metadata": {},
   "outputs": [
    {
     "data": {
      "text/plain": [
       "(307751, 16)"
      ]
     },
     "execution_count": 9,
     "metadata": {},
     "output_type": "execute_result"
    }
   ],
   "source": [
    "df_failure = pd_data.copy()\n",
    "df_failure = df_failure.drop_duplicates(subset=['ID', 'DATE'])\n",
    "df_failure.shape"
   ]
  },
  {
   "cell_type": "code",
   "execution_count": 10,
   "id": "2bfe3dab-c611-49ff-b7d9-d6cd740074ae",
   "metadata": {},
   "outputs": [
    {
     "data": {
      "text/plain": [
       "ID                    0\n",
       "DATE                  0\n",
       "REGION_CLUSTER        0\n",
       "MAINTENANCE_VENDOR    0\n",
       "MANUFACTURER          0\n",
       "WELL_GROUP            0\n",
       "S15                   0\n",
       "S17                   0\n",
       "S13                   0\n",
       "S5                    0\n",
       "S16                   0\n",
       "S19                   0\n",
       "S18                   0\n",
       "EQUIPMENT_FAILURE     0\n",
       "S8                    0\n",
       "AGE_OF_EQUIPMENT      0\n",
       "dtype: int64"
      ]
     },
     "execution_count": 10,
     "metadata": {},
     "output_type": "execute_result"
    }
   ],
   "source": [
    "# Check for null values\n",
    "pd_data.isnull().sum(axis=0)"
   ]
  },
  {
   "cell_type": "code",
   "execution_count": 12,
   "id": "a7a9563d-04ee-41ba-8b3f-69f3b65a4299",
   "metadata": {},
   "outputs": [
    {
     "data": {
      "text/html": [
       "<div>\n",
       "<style scoped>\n",
       "    .dataframe tbody tr th:only-of-type {\n",
       "        vertical-align: middle;\n",
       "    }\n",
       "\n",
       "    .dataframe tbody tr th {\n",
       "        vertical-align: top;\n",
       "    }\n",
       "\n",
       "    .dataframe thead th {\n",
       "        text-align: right;\n",
       "    }\n",
       "</style>\n",
       "<table border=\"1\" class=\"dataframe\">\n",
       "  <thead>\n",
       "    <tr style=\"text-align: right;\">\n",
       "      <th></th>\n",
       "      <th>ID</th>\n",
       "    </tr>\n",
       "    <tr>\n",
       "      <th>EQUIPMENT_FAILURE</th>\n",
       "      <th></th>\n",
       "    </tr>\n",
       "  </thead>\n",
       "  <tbody>\n",
       "    <tr>\n",
       "      <th>0</th>\n",
       "      <td>307330</td>\n",
       "    </tr>\n",
       "    <tr>\n",
       "      <th>1</th>\n",
       "      <td>421</td>\n",
       "    </tr>\n",
       "  </tbody>\n",
       "</table>\n",
       "</div>"
      ],
      "text/plain": [
       "                       ID\n",
       "EQUIPMENT_FAILURE        \n",
       "0                  307330\n",
       "1                     421"
      ]
     },
     "execution_count": 12,
     "metadata": {},
     "output_type": "execute_result"
    }
   ],
   "source": [
    "labels = pd.DataFrame(pd_data.groupby(['EQUIPMENT_FAILURE'])\n",
    "                            ['ID'].agg('count'))\n",
    "labels"
   ]
  },
  {
   "cell_type": "code",
   "execution_count": 13,
   "id": "7dee27e1-8a71-4c39-acfc-2a214791c724",
   "metadata": {},
   "outputs": [
    {
     "data": {
      "text/html": [
       "<div>\n",
       "<style scoped>\n",
       "    .dataframe tbody tr th:only-of-type {\n",
       "        vertical-align: middle;\n",
       "    }\n",
       "\n",
       "    .dataframe tbody tr th {\n",
       "        vertical-align: top;\n",
       "    }\n",
       "\n",
       "    .dataframe thead th {\n",
       "        text-align: right;\n",
       "    }\n",
       "</style>\n",
       "<table border=\"1\" class=\"dataframe\">\n",
       "  <thead>\n",
       "    <tr style=\"text-align: right;\">\n",
       "      <th></th>\n",
       "      <th>ID</th>\n",
       "      <th>WELL_GROUP</th>\n",
       "      <th>S15</th>\n",
       "      <th>S17</th>\n",
       "      <th>S13</th>\n",
       "      <th>S5</th>\n",
       "      <th>S16</th>\n",
       "      <th>S19</th>\n",
       "      <th>S18</th>\n",
       "      <th>EQUIPMENT_FAILURE</th>\n",
       "      <th>S8</th>\n",
       "      <th>AGE_OF_EQUIPMENT</th>\n",
       "    </tr>\n",
       "  </thead>\n",
       "  <tbody>\n",
       "    <tr>\n",
       "      <th>count</th>\n",
       "      <td>307751.000000</td>\n",
       "      <td>307751.000000</td>\n",
       "      <td>307751.000000</td>\n",
       "      <td>307751.000000</td>\n",
       "      <td>307751.000000</td>\n",
       "      <td>307751.000000</td>\n",
       "      <td>307751.000000</td>\n",
       "      <td>307751.000000</td>\n",
       "      <td>307751.000000</td>\n",
       "      <td>307751.000000</td>\n",
       "      <td>307751.000000</td>\n",
       "      <td>307751.000000</td>\n",
       "    </tr>\n",
       "    <tr>\n",
       "      <th>mean</th>\n",
       "      <td>100310.826603</td>\n",
       "      <td>4.543943</td>\n",
       "      <td>14.585192</td>\n",
       "      <td>80.265541</td>\n",
       "      <td>35.018249</td>\n",
       "      <td>4675.848252</td>\n",
       "      <td>7.972097</td>\n",
       "      <td>9.069123</td>\n",
       "      <td>137.963064</td>\n",
       "      <td>0.001368</td>\n",
       "      <td>144.665715</td>\n",
       "      <td>2524.192399</td>\n",
       "    </tr>\n",
       "    <tr>\n",
       "      <th>std</th>\n",
       "      <td>177.574390</td>\n",
       "      <td>2.284121</td>\n",
       "      <td>8.817056</td>\n",
       "      <td>85.804273</td>\n",
       "      <td>14.446585</td>\n",
       "      <td>2521.074632</td>\n",
       "      <td>2.321949</td>\n",
       "      <td>16.898887</td>\n",
       "      <td>238.890128</td>\n",
       "      <td>0.036961</td>\n",
       "      <td>240.773926</td>\n",
       "      <td>3158.930976</td>\n",
       "    </tr>\n",
       "    <tr>\n",
       "      <th>min</th>\n",
       "      <td>100001.000000</td>\n",
       "      <td>1.000000</td>\n",
       "      <td>0.000000</td>\n",
       "      <td>0.000000</td>\n",
       "      <td>0.000000</td>\n",
       "      <td>0.000000</td>\n",
       "      <td>0.000000</td>\n",
       "      <td>0.000000</td>\n",
       "      <td>0.000000</td>\n",
       "      <td>0.000000</td>\n",
       "      <td>-16.490000</td>\n",
       "      <td>0.000000</td>\n",
       "    </tr>\n",
       "    <tr>\n",
       "      <th>25%</th>\n",
       "      <td>100161.000000</td>\n",
       "      <td>3.000000</td>\n",
       "      <td>7.694100</td>\n",
       "      <td>0.000000</td>\n",
       "      <td>28.200000</td>\n",
       "      <td>3209.000000</td>\n",
       "      <td>6.621500</td>\n",
       "      <td>0.900000</td>\n",
       "      <td>11.798276</td>\n",
       "      <td>0.000000</td>\n",
       "      <td>9.250000</td>\n",
       "      <td>721.000000</td>\n",
       "    </tr>\n",
       "    <tr>\n",
       "      <th>50%</th>\n",
       "      <td>100311.000000</td>\n",
       "      <td>5.000000</td>\n",
       "      <td>11.661600</td>\n",
       "      <td>31.680000</td>\n",
       "      <td>34.940000</td>\n",
       "      <td>4237.047619</td>\n",
       "      <td>8.004000</td>\n",
       "      <td>4.200000</td>\n",
       "      <td>38.200000</td>\n",
       "      <td>0.000000</td>\n",
       "      <td>53.080000</td>\n",
       "      <td>1113.000000</td>\n",
       "    </tr>\n",
       "    <tr>\n",
       "      <th>75%</th>\n",
       "      <td>100467.000000</td>\n",
       "      <td>6.000000</td>\n",
       "      <td>22.560000</td>\n",
       "      <td>160.080000</td>\n",
       "      <td>41.610000</td>\n",
       "      <td>5743.000000</td>\n",
       "      <td>9.460000</td>\n",
       "      <td>10.600000</td>\n",
       "      <td>150.900000</td>\n",
       "      <td>0.000000</td>\n",
       "      <td>165.092608</td>\n",
       "      <td>2784.000000</td>\n",
       "    </tr>\n",
       "    <tr>\n",
       "      <th>max</th>\n",
       "      <td>100617.000000</td>\n",
       "      <td>8.000000</td>\n",
       "      <td>59.040000</td>\n",
       "      <td>2555.520000</td>\n",
       "      <td>592.890000</td>\n",
       "      <td>52767.000000</td>\n",
       "      <td>24.600000</td>\n",
       "      <td>511.000000</td>\n",
       "      <td>4151.700000</td>\n",
       "      <td>1.000000</td>\n",
       "      <td>2068.110000</td>\n",
       "      <td>15170.000000</td>\n",
       "    </tr>\n",
       "  </tbody>\n",
       "</table>\n",
       "</div>"
      ],
      "text/plain": [
       "                  ID     WELL_GROUP            S15            S17  \\\n",
       "count  307751.000000  307751.000000  307751.000000  307751.000000   \n",
       "mean   100310.826603       4.543943      14.585192      80.265541   \n",
       "std       177.574390       2.284121       8.817056      85.804273   \n",
       "min    100001.000000       1.000000       0.000000       0.000000   \n",
       "25%    100161.000000       3.000000       7.694100       0.000000   \n",
       "50%    100311.000000       5.000000      11.661600      31.680000   \n",
       "75%    100467.000000       6.000000      22.560000     160.080000   \n",
       "max    100617.000000       8.000000      59.040000    2555.520000   \n",
       "\n",
       "                 S13             S5            S16            S19  \\\n",
       "count  307751.000000  307751.000000  307751.000000  307751.000000   \n",
       "mean       35.018249    4675.848252       7.972097       9.069123   \n",
       "std        14.446585    2521.074632       2.321949      16.898887   \n",
       "min         0.000000       0.000000       0.000000       0.000000   \n",
       "25%        28.200000    3209.000000       6.621500       0.900000   \n",
       "50%        34.940000    4237.047619       8.004000       4.200000   \n",
       "75%        41.610000    5743.000000       9.460000      10.600000   \n",
       "max       592.890000   52767.000000      24.600000     511.000000   \n",
       "\n",
       "                 S18  EQUIPMENT_FAILURE             S8  AGE_OF_EQUIPMENT  \n",
       "count  307751.000000      307751.000000  307751.000000     307751.000000  \n",
       "mean      137.963064           0.001368     144.665715       2524.192399  \n",
       "std       238.890128           0.036961     240.773926       3158.930976  \n",
       "min         0.000000           0.000000     -16.490000          0.000000  \n",
       "25%        11.798276           0.000000       9.250000        721.000000  \n",
       "50%        38.200000           0.000000      53.080000       1113.000000  \n",
       "75%       150.900000           0.000000     165.092608       2784.000000  \n",
       "max      4151.700000           1.000000    2068.110000      15170.000000  "
      ]
     },
     "execution_count": 13,
     "metadata": {},
     "output_type": "execute_result"
    }
   ],
   "source": [
    "# Describe dataset\n",
    "pd_data.describe()"
   ]
  },
  {
   "cell_type": "markdown",
   "id": "2495f634-a716-42a0-a427-1404b474903c",
   "metadata": {},
   "source": [
    "## Data transformations and Feature engineering"
   ]
  },
  {
   "cell_type": "markdown",
   "id": "38ed7780-9db2-4027-a2ca-8fe8bf1f8feb",
   "metadata": {},
   "source": [
    "### Create running summaries"
   ]
  },
  {
   "cell_type": "code",
   "execution_count": 14,
   "id": "4a563c20-97b9-4877-8d24-37bc19815c2c",
   "metadata": {},
   "outputs": [],
   "source": [
    "# Convert dates from character to date\n",
    "pd_data['DATE'] = pd.to_datetime(pd_data['DATE'])"
   ]
  },
  {
   "cell_type": "code",
   "execution_count": 15,
   "id": "911bdd66-5b0b-41c6-ae4b-095f8d49fb20",
   "metadata": {},
   "outputs": [
    {
     "data": {
      "text/html": [
       "<div>\n",
       "<style scoped>\n",
       "    .dataframe tbody tr th:only-of-type {\n",
       "        vertical-align: middle;\n",
       "    }\n",
       "\n",
       "    .dataframe tbody tr th {\n",
       "        vertical-align: top;\n",
       "    }\n",
       "\n",
       "    .dataframe thead th {\n",
       "        text-align: right;\n",
       "    }\n",
       "</style>\n",
       "<table border=\"1\" class=\"dataframe\">\n",
       "  <thead>\n",
       "    <tr style=\"text-align: right;\">\n",
       "      <th></th>\n",
       "      <th>ID</th>\n",
       "      <th>DATE</th>\n",
       "      <th>REGION_CLUSTER</th>\n",
       "      <th>MAINTENANCE_VENDOR</th>\n",
       "      <th>MANUFACTURER</th>\n",
       "      <th>WELL_GROUP</th>\n",
       "      <th>S15</th>\n",
       "      <th>S17</th>\n",
       "      <th>S13</th>\n",
       "      <th>S5</th>\n",
       "      <th>S16</th>\n",
       "      <th>S19</th>\n",
       "      <th>S18</th>\n",
       "      <th>EQUIPMENT_FAILURE</th>\n",
       "      <th>S8</th>\n",
       "      <th>AGE_OF_EQUIPMENT</th>\n",
       "      <th>flipper</th>\n",
       "    </tr>\n",
       "  </thead>\n",
       "  <tbody>\n",
       "    <tr>\n",
       "      <th>0</th>\n",
       "      <td>100001</td>\n",
       "      <td>2014-12-02</td>\n",
       "      <td>G</td>\n",
       "      <td>O</td>\n",
       "      <td>Y</td>\n",
       "      <td>1</td>\n",
       "      <td>11.088000</td>\n",
       "      <td>145.223448</td>\n",
       "      <td>39.34</td>\n",
       "      <td>3501.0</td>\n",
       "      <td>8.426869</td>\n",
       "      <td>1.9</td>\n",
       "      <td>24.610345</td>\n",
       "      <td>0</td>\n",
       "      <td>0.0</td>\n",
       "      <td>880</td>\n",
       "      <td>1</td>\n",
       "    </tr>\n",
       "    <tr>\n",
       "      <th>1</th>\n",
       "      <td>100001</td>\n",
       "      <td>2014-12-03</td>\n",
       "      <td>G</td>\n",
       "      <td>O</td>\n",
       "      <td>Y</td>\n",
       "      <td>1</td>\n",
       "      <td>8.877943</td>\n",
       "      <td>187.573214</td>\n",
       "      <td>39.20</td>\n",
       "      <td>3489.0</td>\n",
       "      <td>6.483714</td>\n",
       "      <td>1.9</td>\n",
       "      <td>24.671429</td>\n",
       "      <td>0</td>\n",
       "      <td>0.0</td>\n",
       "      <td>881</td>\n",
       "      <td>0</td>\n",
       "    </tr>\n",
       "    <tr>\n",
       "      <th>2</th>\n",
       "      <td>100001</td>\n",
       "      <td>2014-12-04</td>\n",
       "      <td>G</td>\n",
       "      <td>O</td>\n",
       "      <td>Y</td>\n",
       "      <td>1</td>\n",
       "      <td>8.676444</td>\n",
       "      <td>148.363704</td>\n",
       "      <td>38.87</td>\n",
       "      <td>3459.0</td>\n",
       "      <td>6.159659</td>\n",
       "      <td>2.0</td>\n",
       "      <td>24.733333</td>\n",
       "      <td>0</td>\n",
       "      <td>0.0</td>\n",
       "      <td>882</td>\n",
       "      <td>0</td>\n",
       "    </tr>\n",
       "    <tr>\n",
       "      <th>3</th>\n",
       "      <td>100001</td>\n",
       "      <td>2014-12-05</td>\n",
       "      <td>G</td>\n",
       "      <td>O</td>\n",
       "      <td>Y</td>\n",
       "      <td>1</td>\n",
       "      <td>9.988338</td>\n",
       "      <td>133.660000</td>\n",
       "      <td>39.47</td>\n",
       "      <td>3513.0</td>\n",
       "      <td>9.320308</td>\n",
       "      <td>2.0</td>\n",
       "      <td>24.773077</td>\n",
       "      <td>0</td>\n",
       "      <td>0.0</td>\n",
       "      <td>883</td>\n",
       "      <td>0</td>\n",
       "    </tr>\n",
       "    <tr>\n",
       "      <th>4</th>\n",
       "      <td>100001</td>\n",
       "      <td>2014-12-06</td>\n",
       "      <td>G</td>\n",
       "      <td>O</td>\n",
       "      <td>Y</td>\n",
       "      <td>1</td>\n",
       "      <td>8.475264</td>\n",
       "      <td>197.181600</td>\n",
       "      <td>40.33</td>\n",
       "      <td>3589.0</td>\n",
       "      <td>8.022960</td>\n",
       "      <td>1.5</td>\n",
       "      <td>24.808000</td>\n",
       "      <td>0</td>\n",
       "      <td>0.0</td>\n",
       "      <td>884</td>\n",
       "      <td>0</td>\n",
       "    </tr>\n",
       "  </tbody>\n",
       "</table>\n",
       "</div>"
      ],
      "text/plain": [
       "       ID       DATE REGION_CLUSTER MAINTENANCE_VENDOR MANUFACTURER  \\\n",
       "0  100001 2014-12-02              G                  O            Y   \n",
       "1  100001 2014-12-03              G                  O            Y   \n",
       "2  100001 2014-12-04              G                  O            Y   \n",
       "3  100001 2014-12-05              G                  O            Y   \n",
       "4  100001 2014-12-06              G                  O            Y   \n",
       "\n",
       "   WELL_GROUP        S15         S17    S13      S5       S16  S19        S18  \\\n",
       "0           1  11.088000  145.223448  39.34  3501.0  8.426869  1.9  24.610345   \n",
       "1           1   8.877943  187.573214  39.20  3489.0  6.483714  1.9  24.671429   \n",
       "2           1   8.676444  148.363704  38.87  3459.0  6.159659  2.0  24.733333   \n",
       "3           1   9.988338  133.660000  39.47  3513.0  9.320308  2.0  24.773077   \n",
       "4           1   8.475264  197.181600  40.33  3589.0  8.022960  1.5  24.808000   \n",
       "\n",
       "   EQUIPMENT_FAILURE   S8  AGE_OF_EQUIPMENT  flipper  \n",
       "0                  0  0.0               880        1  \n",
       "1                  0  0.0               881        0  \n",
       "2                  0  0.0               882        0  \n",
       "3                  0  0.0               883        0  \n",
       "4                  0  0.0               884        0  "
      ]
     },
     "execution_count": 15,
     "metadata": {},
     "output_type": "execute_result"
    }
   ],
   "source": [
    "# Flipper: Indicates when the ID changes as the data are sorted by ID and DATE in ascending order.\n",
    "pd_data = pd_data.sort_values(by=['ID', 'DATE'], ascending=[True, True])\n",
    "\n",
    "pd_data['flipper'] = np.where((pd_data.ID != pd_data.ID.shift(1)), 1, 0)\n",
    "pd_data.head()"
   ]
  },
  {
   "cell_type": "code",
   "execution_count": 19,
   "id": "09e0ac98-cd26-4c8c-b799-ca52421abab1",
   "metadata": {},
   "outputs": [],
   "source": [
    "# define your feature window. This is the window by which we will aggregate our sensor values\n",
    "feature_window = 21"
   ]
  },
  {
   "cell_type": "code",
   "execution_count": 20,
   "id": "500bc88d-e8e3-48e4-8642-74e500fe1ee6",
   "metadata": {},
   "outputs": [],
   "source": [
    "dfx = pd_data.copy()\n",
    "\n",
    "# Select the first record of each machine\n",
    "starter = dfx[dfx['flipper'] == 1]\n",
    "starter = starter[['DATE', 'ID']]\n",
    "\n",
    "# Rename date to start_date\n",
    "starter = starter.rename(index=str, columns={\"DATE\": \"START_DATE\"})\n",
    "\n",
    "# Convert START_DATE to date\n",
    "starter['START_DATE'] = pd.to_datetime(starter['START_DATE'])\n",
    "\n",
    "# Merge START_DATE to the original data set\n",
    "dfx = dfx.sort_values(by=['ID', 'DATE'], ascending=[True, True])\n",
    "starter = starter.sort_values(by=['ID'], ascending=[True])\n",
    "dfx = dfx.merge(starter, on=['ID'], how='left')\n",
    "\n",
    "# Calculate the number of days since the beginning of each well.\n",
    "dfx['C'] = dfx['DATE'] - dfx['START_DATE']\n",
    "dfx['TIME_SINCE_START'] = dfx['C'] / np.timedelta64(1, 'D')\n",
    "dfx = dfx.drop(columns=['C'])\n",
    "dfx['too_soon'] = np.where((dfx.TIME_SINCE_START < feature_window), 1, 0)"
   ]
  },
  {
   "cell_type": "code",
   "execution_count": null,
   "id": "41e2da41-5dd8-41d3-9491-606ec38f81c8",
   "metadata": {},
   "outputs": [],
   "source": [
    "# Create a running mean, max, min and median for the sensor variables.\n",
    "dfx['S5_mean'] = np.where((dfx.too_soon == 0),\n",
    "                          (dfx['S5'].rolling(min_periods=1, window=feature_window).mean(),\n",
    "                           dfx.S5)\n",
    "                          dfx"
   ]
  }
 ],
 "metadata": {
  "kernelspec": {
   "display_name": "Python 3 (ipykernel)",
   "language": "python",
   "name": "python3"
  },
  "language_info": {
   "codemirror_mode": {
    "name": "ipython",
    "version": 3
   },
   "file_extension": ".py",
   "mimetype": "text/x-python",
   "name": "python",
   "nbconvert_exporter": "python",
   "pygments_lexer": "ipython3",
   "version": "3.7.11"
  }
 },
 "nbformat": 4,
 "nbformat_minor": 5
}
