{
 "cells": [
  {
   "cell_type": "markdown",
   "id": "ed55373a-e5ad-4afc-9e04-67813daf50bf",
   "metadata": {},
   "source": [
    "# Clash of Clans Automation"
   ]
  },
  {
   "cell_type": "markdown",
   "id": "8971b965-1fb2-468b-ae42-a7b9da4cc7cb",
   "metadata": {},
   "source": [
    "This is a work in progress to automate the clash of clans game.\n",
    "You'll need:\n",
    "* Windows\n",
    "* Bluestacks app: https://www.bluestacks.com/download.html"
   ]
  },
  {
   "cell_type": "markdown",
   "id": "b97932ae-a476-4a9d-a707-8640e90ef9e5",
   "metadata": {},
   "source": [
    "## Grab screen"
   ]
  },
  {
   "cell_type": "markdown",
   "id": "4063d36a-2e2b-4b92-89f2-62ee63a91164",
   "metadata": {},
   "source": [
    "Got the script from pygta5 sentdex: https://github.com/Sentdex/pygta5/blob/master/grabscreen.py"
   ]
  },
  {
   "cell_type": "code",
   "execution_count": 1,
   "id": "f02835fd-f6dc-4d31-bdeb-6a91c5be8208",
   "metadata": {},
   "outputs": [],
   "source": [
    "# Done by Frannecklp\n",
    "\n",
    "import cv2\n",
    "import numpy as np\n",
    "import win32gui\n",
    "import win32ui\n",
    "import win32con\n",
    "import win32api"
   ]
  },
  {
   "cell_type": "code",
   "execution_count": 2,
   "id": "60587f80-ad1e-46f9-a777-bf6d64d258be",
   "metadata": {},
   "outputs": [],
   "source": [
    "def grab_screen(region=None):\n",
    "    hwin = win32gui.GetDesktopWindow()\n",
    "\n",
    "    if region:\n",
    "        left, top, x2, y2 = region\n",
    "        width = x2 - left + 1\n",
    "        height = y2 - top + 1\n",
    "    else:\n",
    "        width = win32api.GetSystemMetrics(win32con.SM_CXVIRTUALSCREEN)\n",
    "        height = win32api.GetSystemMetrics(win32con.SM_CYVIRTUALSCREEN)\n",
    "        left = win32api.GetSystemMetrics(win32con.SM_XVIRTUALSCREEN)\n",
    "        top = win32api.GetSystemMetrics(win32con.SM_YVIRTUALSCREEN)\n",
    "\n",
    "    hwindc = win32gui.GetWindowDC(hwin)\n",
    "    srcdc = win32ui.CreateDCFromHandle(hwindc)\n",
    "    memdc = srcdc.CreateCompatibleDC()\n",
    "    bmp = win32ui.CreateBitmap()\n",
    "    bmp.CreateCompatibleBitmap(srcdc, width, height)\n",
    "    memdc.SelectObject(bmp)\n",
    "    memdc.BitBlt((0, 0), (width, height), srcdc, (left, top), win32con.SRCCOPY)\n",
    "\n",
    "    signedIntsArray = bmp.GetBitmapBits(True)\n",
    "    img = np.fromstring(signedIntsArray, dtype='uint8')\n",
    "    img.shape = (height, width, 4)\n",
    "\n",
    "    srcdc.DeleteDC()\n",
    "    memdc.DeleteDC()\n",
    "    win32gui.ReleaseDC(hwin, hwindc)\n",
    "    win32gui.DeleteObject(bmp.GetHandle())\n",
    "\n",
    "    return cv2.cvtColor(img, cv2.COLOR_BGRA2BGR)"
   ]
  },
  {
   "cell_type": "code",
   "execution_count": 3,
   "id": "eb1adfd0-cf3e-487b-80cb-b7173bbadf96",
   "metadata": {},
   "outputs": [],
   "source": [
    "def show_image(image):\n",
    "    cv2.imshow(\"Image\", image)\n",
    "    cv2.waitKey(0)\n",
    "    cv2.destroyAllWindows()"
   ]
  },
  {
   "cell_type": "code",
   "execution_count": 33,
   "id": "6370ba38-89ab-4446-a508-da0b1d673c41",
   "metadata": {},
   "outputs": [],
   "source": [
    "def grab_coc():\n",
    "    image = grab_screen()\n",
    "    # Use MPos to get the coordinates: https://sourceforge.net/projects/mpos/\n",
    "    # Top-left\n",
    "    # 265, 106\n",
    "    # Bottom-right\n",
    "    # 1718, 938\n",
    "    # Add 1920 to width slices because of dual monitors\n",
    "    # Crop width and height\n",
    "    width = slice(2185, 3638)\n",
    "    height = slice(106, 938)\n",
    "\n",
    "    image = image[height, width]\n",
    "    return image"
   ]
  },
  {
   "cell_type": "code",
   "execution_count": 24,
   "id": "aec91245-6098-49f1-90f9-4f7be429f73c",
   "metadata": {},
   "outputs": [
    {
     "name": "stderr",
     "output_type": "stream",
     "text": [
      "C:\\Users\\patta\\anaconda3\\envs\\py37\\lib\\site-packages\\ipykernel_launcher.py:23: DeprecationWarning: The binary mode of fromstring is deprecated, as it behaves surprisingly on unicode inputs. Use frombuffer instead\n"
     ]
    }
   ],
   "source": [
    "show_image(image)"
   ]
  },
  {
   "cell_type": "code",
   "execution_count": 9,
   "id": "da756b6a-3a9f-41e4-8f0a-0c252384bd4c",
   "metadata": {
    "collapsed": true,
    "jupyter": {
     "outputs_hidden": true
    },
    "tags": []
   },
   "outputs": [
    {
     "name": "stderr",
     "output_type": "stream",
     "text": [
      "C:\\Users\\patta\\anaconda3\\envs\\py37\\lib\\site-packages\\ipykernel_launcher.py:23: DeprecationWarning: The binary mode of fromstring is deprecated, as it behaves surprisingly on unicode inputs. Use frombuffer instead\n"
     ]
    },
    {
     "ename": "KeyboardInterrupt",
     "evalue": "",
     "output_type": "error",
     "traceback": [
      "\u001b[1;31m---------------------------------------------------------------------------\u001b[0m",
      "\u001b[1;31mKeyboardInterrupt\u001b[0m                         Traceback (most recent call last)",
      "\u001b[1;32m~\\AppData\\Local\\Temp/ipykernel_36760/3284382350.py\u001b[0m in \u001b[0;36m<module>\u001b[1;34m\u001b[0m\n\u001b[0;32m      1\u001b[0m \u001b[1;32mwhile\u001b[0m \u001b[1;32mTrue\u001b[0m\u001b[1;33m:\u001b[0m\u001b[1;33m\u001b[0m\u001b[1;33m\u001b[0m\u001b[0m\n\u001b[1;32m----> 2\u001b[1;33m     \u001b[0mimage\u001b[0m \u001b[1;33m=\u001b[0m \u001b[0mgrab_screen\u001b[0m\u001b[1;33m(\u001b[0m\u001b[1;33m)\u001b[0m\u001b[1;33m\u001b[0m\u001b[1;33m\u001b[0m\u001b[0m\n\u001b[0m\u001b[0;32m      3\u001b[0m \u001b[1;33m\u001b[0m\u001b[0m\n\u001b[0;32m      4\u001b[0m     \u001b[0mcv2\u001b[0m\u001b[1;33m.\u001b[0m\u001b[0mimshow\u001b[0m\u001b[1;33m(\u001b[0m\u001b[1;34m\"Image\"\u001b[0m\u001b[1;33m,\u001b[0m \u001b[0mimage\u001b[0m\u001b[1;33m)\u001b[0m\u001b[1;33m\u001b[0m\u001b[1;33m\u001b[0m\u001b[0m\n\u001b[0;32m      5\u001b[0m     \u001b[0mcv2\u001b[0m\u001b[1;33m.\u001b[0m\u001b[0mwaitKey\u001b[0m\u001b[1;33m(\u001b[0m\u001b[1;36m15\u001b[0m\u001b[1;33m)\u001b[0m\u001b[1;33m\u001b[0m\u001b[1;33m\u001b[0m\u001b[0m\n",
      "\u001b[1;32m~\\AppData\\Local\\Temp/ipykernel_36760/3379986166.py\u001b[0m in \u001b[0;36mgrab_screen\u001b[1;34m(region)\u001b[0m\n\u001b[0;32m     18\u001b[0m     \u001b[0mbmp\u001b[0m\u001b[1;33m.\u001b[0m\u001b[0mCreateCompatibleBitmap\u001b[0m\u001b[1;33m(\u001b[0m\u001b[0msrcdc\u001b[0m\u001b[1;33m,\u001b[0m \u001b[0mwidth\u001b[0m\u001b[1;33m,\u001b[0m \u001b[0mheight\u001b[0m\u001b[1;33m)\u001b[0m\u001b[1;33m\u001b[0m\u001b[1;33m\u001b[0m\u001b[0m\n\u001b[0;32m     19\u001b[0m     \u001b[0mmemdc\u001b[0m\u001b[1;33m.\u001b[0m\u001b[0mSelectObject\u001b[0m\u001b[1;33m(\u001b[0m\u001b[0mbmp\u001b[0m\u001b[1;33m)\u001b[0m\u001b[1;33m\u001b[0m\u001b[1;33m\u001b[0m\u001b[0m\n\u001b[1;32m---> 20\u001b[1;33m     \u001b[0mmemdc\u001b[0m\u001b[1;33m.\u001b[0m\u001b[0mBitBlt\u001b[0m\u001b[1;33m(\u001b[0m\u001b[1;33m(\u001b[0m\u001b[1;36m0\u001b[0m\u001b[1;33m,\u001b[0m \u001b[1;36m0\u001b[0m\u001b[1;33m)\u001b[0m\u001b[1;33m,\u001b[0m \u001b[1;33m(\u001b[0m\u001b[0mwidth\u001b[0m\u001b[1;33m,\u001b[0m \u001b[0mheight\u001b[0m\u001b[1;33m)\u001b[0m\u001b[1;33m,\u001b[0m \u001b[0msrcdc\u001b[0m\u001b[1;33m,\u001b[0m \u001b[1;33m(\u001b[0m\u001b[0mleft\u001b[0m\u001b[1;33m,\u001b[0m \u001b[0mtop\u001b[0m\u001b[1;33m)\u001b[0m\u001b[1;33m,\u001b[0m \u001b[0mwin32con\u001b[0m\u001b[1;33m.\u001b[0m\u001b[0mSRCCOPY\u001b[0m\u001b[1;33m)\u001b[0m\u001b[1;33m\u001b[0m\u001b[1;33m\u001b[0m\u001b[0m\n\u001b[0m\u001b[0;32m     21\u001b[0m \u001b[1;33m\u001b[0m\u001b[0m\n\u001b[0;32m     22\u001b[0m     \u001b[0msignedIntsArray\u001b[0m \u001b[1;33m=\u001b[0m \u001b[0mbmp\u001b[0m\u001b[1;33m.\u001b[0m\u001b[0mGetBitmapBits\u001b[0m\u001b[1;33m(\u001b[0m\u001b[1;32mTrue\u001b[0m\u001b[1;33m)\u001b[0m\u001b[1;33m\u001b[0m\u001b[1;33m\u001b[0m\u001b[0m\n",
      "\u001b[1;31mKeyboardInterrupt\u001b[0m: "
     ]
    }
   ],
   "source": [
    "# while True:\n",
    "#     image = grab_screen()\n",
    "\n",
    "#     cv2.imshow(\"Image\", image)\n",
    "#     cv2.waitKey(15)"
   ]
  },
  {
   "cell_type": "markdown",
   "id": "a8b4608e-baf1-4ffd-8de2-7f9e6ef07d3d",
   "metadata": {},
   "source": [
    "## Move Mouse"
   ]
  },
  {
   "cell_type": "code",
   "execution_count": 19,
   "id": "18813198-fa5d-46be-af8c-028db44203e4",
   "metadata": {},
   "outputs": [],
   "source": [
    "import pyautogui\n",
    "import time"
   ]
  },
  {
   "cell_type": "code",
   "execution_count": 9,
   "id": "99ab63ac-2779-42a5-9ba7-52c73fd73539",
   "metadata": {},
   "outputs": [],
   "source": [
    "pyautogui.moveTo(100, 150)"
   ]
  },
  {
   "cell_type": "code",
   "execution_count": 18,
   "id": "e697282f-8a33-4cce-805c-9e41ad6c90d5",
   "metadata": {},
   "outputs": [],
   "source": [
    "clash_of_clans_loc = (1100, 280)\n",
    "okay_loc = (1050, 650)"
   ]
  },
  {
   "cell_type": "code",
   "execution_count": 11,
   "id": "38530913-fb30-4408-9848-98ce47ccd261",
   "metadata": {},
   "outputs": [],
   "source": [
    "pyautogui.moveTo(clash_of_clans_loc)"
   ]
  },
  {
   "cell_type": "code",
   "execution_count": 23,
   "id": "1ad8ae66-cb53-47cb-b1a6-7b06d834951d",
   "metadata": {},
   "outputs": [],
   "source": [
    "pyautogui.click(clash_of_clans_loc)"
   ]
  },
  {
   "cell_type": "code",
   "execution_count": 22,
   "id": "2d01bc3a-fa28-47f6-baf1-2dedc48832c5",
   "metadata": {},
   "outputs": [],
   "source": [
    "pyautogui.click(clash_of_clans_loc)\n",
    "\n",
    "pyautogui.hotkey('ctrl','shift','2')\n",
    "time.sleep(0.5)\n",
    "pyautogui.click(okay_loc)"
   ]
  },
  {
   "cell_type": "markdown",
   "id": "b6c391f0-de6b-4b9a-97b8-8618e578bc3d",
   "metadata": {},
   "source": [
    "## Template matching"
   ]
  },
  {
   "cell_type": "markdown",
   "id": "a5bd2f8b-84bf-4690-9e69-cca1fd4f783e",
   "metadata": {},
   "source": [
    "https://docs.opencv.org/4.x/d4/dc6/tutorial_py_template_matching.html"
   ]
  },
  {
   "cell_type": "code",
   "execution_count": 25,
   "id": "5882b151-f82d-45b5-a36f-15a3b8399af8",
   "metadata": {},
   "outputs": [],
   "source": [
    "import cv2"
   ]
  },
  {
   "cell_type": "code",
   "execution_count": 26,
   "id": "2a023e42-4b56-4e2c-80ea-a29110baaedb",
   "metadata": {},
   "outputs": [],
   "source": [
    "import numpy as np"
   ]
  },
  {
   "cell_type": "code",
   "execution_count": 34,
   "id": "149369e6-7103-4402-b859-f9b662817f20",
   "metadata": {},
   "outputs": [
    {
     "name": "stderr",
     "output_type": "stream",
     "text": [
      "C:\\Users\\patta\\anaconda3\\envs\\py37\\lib\\site-packages\\ipykernel_launcher.py:23: DeprecationWarning: The binary mode of fromstring is deprecated, as it behaves surprisingly on unicode inputs. Use frombuffer instead\n"
     ]
    },
    {
     "data": {
      "text/plain": [
       "True"
      ]
     },
     "execution_count": 34,
     "metadata": {},
     "output_type": "execute_result"
    }
   ],
   "source": [
    "img_rgb = grab_coc()\n",
    "img_gray = cv2.cvtColor(img_rgb, cv2.COLOR_BGR2GRAY)\n",
    "template = cv2.imread('images/elixir_collector.jpg', 0)\n",
    "w, h = template.shape[::-1]\n",
    "\n",
    "result = cv2.matchTemplate(img_gray, template, cv2.TM_CCOEFF_NORMED)\n",
    "# print(result)\n",
    "threshold = 0.8\n",
    "loc = np.where(result >= threshold)\n",
    "# print(loc)\n",
    "for pt in zip(*loc[::-1]):\n",
    "    cv2.rectangle(img_rgb, pt, (pt[0] + w, pt[1] + h), (0,0,255), 2)\n",
    "cv2.imwrite('images/res.png',img_rgb)"
   ]
  },
  {
   "cell_type": "code",
   "execution_count": null,
   "id": "7b7e97c4-cde9-4244-94f8-c76e3caab04b",
   "metadata": {},
   "outputs": [],
   "source": []
  }
 ],
 "metadata": {
  "kernelspec": {
   "display_name": "Python 3 (ipykernel)",
   "language": "python",
   "name": "python3"
  },
  "language_info": {
   "codemirror_mode": {
    "name": "ipython",
    "version": 3
   },
   "file_extension": ".py",
   "mimetype": "text/x-python",
   "name": "python",
   "nbconvert_exporter": "python",
   "pygments_lexer": "ipython3",
   "version": "3.7.11"
  }
 },
 "nbformat": 4,
 "nbformat_minor": 5
}
