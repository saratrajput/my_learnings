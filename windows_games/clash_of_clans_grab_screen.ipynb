{
 "cells": [
  {
   "cell_type": "code",
   "execution_count": 3,
   "id": "f02835fd-f6dc-4d31-bdeb-6a91c5be8208",
   "metadata": {},
   "outputs": [],
   "source": [
    "# Done by Frannecklp\n",
    "\n",
    "import cv2\n",
    "import numpy as np\n",
    "import win32gui\n",
    "import win32ui\n",
    "import win32con\n",
    "import win32api"
   ]
  },
  {
   "cell_type": "code",
   "execution_count": 4,
   "id": "60587f80-ad1e-46f9-a777-bf6d64d258be",
   "metadata": {},
   "outputs": [],
   "source": [
    "def grab_screen(region=None):\n",
    "    hwin = win32gui.GetDesktopWindow()\n",
    "\n",
    "    if region:\n",
    "        left, top, x2, y2 = region\n",
    "        width = x2 - left + 1\n",
    "        height = y2 - top + 1\n",
    "    else:\n",
    "        width = win32api.GetSystemMetrics(win32con.SM_CXVIRTUALSCREEN)\n",
    "        height = win32api.GetSystemMetrics(win32con.SM_CYVIRTUALSCREEN)\n",
    "        left = win32api.GetSystemMetrics(win32con.SM_XVIRTUALSCREEN)\n",
    "        top = win32api.GetSystemMetrics(win32con.SM_YVIRTUALSCREEN)\n",
    "\n",
    "    hwindc = win32gui.GetWindowDC(hwin)\n",
    "    srcdc = win32ui.CreateDCFromHandle(hwindc)\n",
    "    memdc = srcdc.CreateCompatibleDC()\n",
    "    bmp = win32ui.CreateBitmap()\n",
    "    bmp.CreateCompatibleBitmap(srcdc, width, height)\n",
    "    memdc.SelectObject(bmp)\n",
    "    memdc.BitBlt((0, 0), (width, height), srcdc, (left, top), win32con.SRCCOPY)\n",
    "\n",
    "    signedIntsArray = bmp.GetBitmapBits(True)\n",
    "    img = np.fromstring(signedIntsArray, dtype='uint8')\n",
    "    img.shape = (height, width, 4)\n",
    "\n",
    "    srcdc.DeleteDC()\n",
    "    memdc.DeleteDC()\n",
    "    win32gui.ReleaseDC(hwin, hwindc)\n",
    "    win32gui.DeleteObject(bmp.GetHandle())\n",
    "\n",
    "    return cv2.cvtColor(img, cv2.COLOR_BGRA2BGR)"
   ]
  },
  {
   "cell_type": "code",
   "execution_count": 6,
   "id": "eb1adfd0-cf3e-487b-80cb-b7173bbadf96",
   "metadata": {},
   "outputs": [],
   "source": [
    "def show_image(image):\n",
    "    cv2.imshow(\"Image\", image)\n",
    "    cv2.waitKey(0)\n",
    "    cv2.destroyAllWindows()"
   ]
  },
  {
   "cell_type": "code",
   "execution_count": 31,
   "id": "b2a316a1-fac4-45c5-b954-355e8006600f",
   "metadata": {},
   "outputs": [
    {
     "name": "stderr",
     "output_type": "stream",
     "text": [
      "C:\\Users\\patta\\anaconda3\\envs\\py37\\lib\\site-packages\\ipykernel_launcher.py:23: DeprecationWarning: The binary mode of fromstring is deprecated, as it behaves surprisingly on unicode inputs. Use frombuffer instead\n"
     ]
    }
   ],
   "source": [
    "image = grab_screen()\n",
    "\n",
    "# Crop width and height\n",
    "width = slice(0,960)\n",
    "height = slice(38, 464)\n",
    "\n",
    "image = image[height, width]\n",
    "show_image(image)"
   ]
  },
  {
   "cell_type": "code",
   "execution_count": null,
   "id": "da756b6a-3a9f-41e4-8f0a-0c252384bd4c",
   "metadata": {},
   "outputs": [],
   "source": [
    "while True:\n",
    "    image = grab_screen()\n",
    "\n",
    "    cv2.imshow(\"Image\", image)\n",
    "    cv2.waitKey(15)"
   ]
  }
 ],
 "metadata": {
  "kernelspec": {
   "display_name": "Python 3 (ipykernel)",
   "language": "python",
   "name": "python3"
  },
  "language_info": {
   "codemirror_mode": {
    "name": "ipython",
    "version": 3
   },
   "file_extension": ".py",
   "mimetype": "text/x-python",
   "name": "python",
   "nbconvert_exporter": "python",
   "pygments_lexer": "ipython3",
   "version": "3.7.11"
  }
 },
 "nbformat": 4,
 "nbformat_minor": 5
}
