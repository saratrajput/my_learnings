{
 "cells": [
  {
   "cell_type": "markdown",
   "id": "ed55373a-e5ad-4afc-9e04-67813daf50bf",
   "metadata": {},
   "source": [
    "# Clash of Clans Automation"
   ]
  },
  {
   "cell_type": "markdown",
   "id": "8971b965-1fb2-468b-ae42-a7b9da4cc7cb",
   "metadata": {},
   "source": [
    "This is a work in progress to automate the clash of clans game.\n",
    "You'll need:\n",
    "* Windows\n",
    "* Bluestacks app: https://www.bluestacks.com/download.html"
   ]
  },
  {
   "cell_type": "markdown",
   "id": "b97932ae-a476-4a9d-a707-8640e90ef9e5",
   "metadata": {},
   "source": [
    "## Grab screen"
   ]
  },
  {
   "cell_type": "markdown",
   "id": "4063d36a-2e2b-4b92-89f2-62ee63a91164",
   "metadata": {},
   "source": [
    "Got the script from pygta5 sentdex: https://github.com/Sentdex/pygta5/blob/master/grabscreen.py"
   ]
  },
  {
   "cell_type": "code",
   "execution_count": 1,
   "id": "f02835fd-f6dc-4d31-bdeb-6a91c5be8208",
   "metadata": {},
   "outputs": [],
   "source": [
    "# Done by Frannecklp\n",
    "import cv2\n",
    "import numpy as np\n",
    "import win32gui\n",
    "import win32ui\n",
    "import win32con\n",
    "import win32api"
   ]
  },
  {
   "cell_type": "code",
   "execution_count": 2,
   "id": "60587f80-ad1e-46f9-a777-bf6d64d258be",
   "metadata": {},
   "outputs": [],
   "source": [
    "def grab_screen(region=None):\n",
    "    hwin = win32gui.GetDesktopWindow()\n",
    "\n",
    "    if region:\n",
    "        left, top, x2, y2 = region\n",
    "        width = x2 - left + 1\n",
    "        height = y2 - top + 1\n",
    "    else:\n",
    "        width = win32api.GetSystemMetrics(win32con.SM_CXVIRTUALSCREEN)\n",
    "        height = win32api.GetSystemMetrics(win32con.SM_CYVIRTUALSCREEN)\n",
    "        left = win32api.GetSystemMetrics(win32con.SM_XVIRTUALSCREEN)\n",
    "        top = win32api.GetSystemMetrics(win32con.SM_YVIRTUALSCREEN)\n",
    "\n",
    "    hwindc = win32gui.GetWindowDC(hwin)\n",
    "    srcdc = win32ui.CreateDCFromHandle(hwindc)\n",
    "    memdc = srcdc.CreateCompatibleDC()\n",
    "    bmp = win32ui.CreateBitmap()\n",
    "    bmp.CreateCompatibleBitmap(srcdc, width, height)\n",
    "    memdc.SelectObject(bmp)\n",
    "    memdc.BitBlt((0, 0), (width, height), srcdc, (left, top), win32con.SRCCOPY)\n",
    "\n",
    "    signedIntsArray = bmp.GetBitmapBits(True)\n",
    "    img = np.fromstring(signedIntsArray, dtype='uint8')\n",
    "    img.shape = (height, width, 4)\n",
    "\n",
    "    srcdc.DeleteDC()\n",
    "    memdc.DeleteDC()\n",
    "    win32gui.ReleaseDC(hwin, hwindc)\n",
    "    win32gui.DeleteObject(bmp.GetHandle())\n",
    "\n",
    "    return cv2.cvtColor(img, cv2.COLOR_BGRA2BGR)"
   ]
  },
  {
   "cell_type": "code",
   "execution_count": 3,
   "id": "eb1adfd0-cf3e-487b-80cb-b7173bbadf96",
   "metadata": {},
   "outputs": [],
   "source": [
    "def show_image(image):\n",
    "    cv2.imshow(\"Image\", image)\n",
    "    cv2.waitKey(0)\n",
    "    cv2.destroyAllWindows()"
   ]
  },
  {
   "cell_type": "code",
   "execution_count": 4,
   "id": "6370ba38-89ab-4446-a508-da0b1d673c41",
   "metadata": {},
   "outputs": [],
   "source": [
    "def grab_coc():\n",
    "    image = grab_screen()\n",
    "    # Use MPos to get the coordinates: https://sourceforge.net/projects/mpos/\n",
    "    # Top-left\n",
    "    # 265, 106\n",
    "    # Bottom-right\n",
    "    # 1718, 938\n",
    "    # Add 1920 to width slices because of dual monitors\n",
    "    # Crop width and height\n",
    "    width = slice(2185, 3638)\n",
    "    height = slice(106, 938)\n",
    "\n",
    "    image = image[height, width]\n",
    "    return image"
   ]
  },
  {
   "cell_type": "code",
   "execution_count": 24,
   "id": "aec91245-6098-49f1-90f9-4f7be429f73c",
   "metadata": {},
   "outputs": [
    {
     "name": "stderr",
     "output_type": "stream",
     "text": [
      "C:\\Users\\patta\\anaconda3\\envs\\py37\\lib\\site-packages\\ipykernel_launcher.py:23: DeprecationWarning: The binary mode of fromstring is deprecated, as it behaves surprisingly on unicode inputs. Use frombuffer instead\n"
     ]
    }
   ],
   "source": [
    "show_image(image)"
   ]
  },
  {
   "cell_type": "code",
   "execution_count": 9,
   "id": "da756b6a-3a9f-41e4-8f0a-0c252384bd4c",
   "metadata": {
    "collapsed": true,
    "jupyter": {
     "outputs_hidden": true
    },
    "tags": []
   },
   "outputs": [
    {
     "name": "stderr",
     "output_type": "stream",
     "text": [
      "C:\\Users\\patta\\anaconda3\\envs\\py37\\lib\\site-packages\\ipykernel_launcher.py:23: DeprecationWarning: The binary mode of fromstring is deprecated, as it behaves surprisingly on unicode inputs. Use frombuffer instead\n"
     ]
    },
    {
     "ename": "KeyboardInterrupt",
     "evalue": "",
     "output_type": "error",
     "traceback": [
      "\u001b[1;31m---------------------------------------------------------------------------\u001b[0m",
      "\u001b[1;31mKeyboardInterrupt\u001b[0m                         Traceback (most recent call last)",
      "\u001b[1;32m~\\AppData\\Local\\Temp/ipykernel_36760/3284382350.py\u001b[0m in \u001b[0;36m<module>\u001b[1;34m\u001b[0m\n\u001b[0;32m      1\u001b[0m \u001b[1;32mwhile\u001b[0m \u001b[1;32mTrue\u001b[0m\u001b[1;33m:\u001b[0m\u001b[1;33m\u001b[0m\u001b[1;33m\u001b[0m\u001b[0m\n\u001b[1;32m----> 2\u001b[1;33m     \u001b[0mimage\u001b[0m \u001b[1;33m=\u001b[0m \u001b[0mgrab_screen\u001b[0m\u001b[1;33m(\u001b[0m\u001b[1;33m)\u001b[0m\u001b[1;33m\u001b[0m\u001b[1;33m\u001b[0m\u001b[0m\n\u001b[0m\u001b[0;32m      3\u001b[0m \u001b[1;33m\u001b[0m\u001b[0m\n\u001b[0;32m      4\u001b[0m     \u001b[0mcv2\u001b[0m\u001b[1;33m.\u001b[0m\u001b[0mimshow\u001b[0m\u001b[1;33m(\u001b[0m\u001b[1;34m\"Image\"\u001b[0m\u001b[1;33m,\u001b[0m \u001b[0mimage\u001b[0m\u001b[1;33m)\u001b[0m\u001b[1;33m\u001b[0m\u001b[1;33m\u001b[0m\u001b[0m\n\u001b[0;32m      5\u001b[0m     \u001b[0mcv2\u001b[0m\u001b[1;33m.\u001b[0m\u001b[0mwaitKey\u001b[0m\u001b[1;33m(\u001b[0m\u001b[1;36m15\u001b[0m\u001b[1;33m)\u001b[0m\u001b[1;33m\u001b[0m\u001b[1;33m\u001b[0m\u001b[0m\n",
      "\u001b[1;32m~\\AppData\\Local\\Temp/ipykernel_36760/3379986166.py\u001b[0m in \u001b[0;36mgrab_screen\u001b[1;34m(region)\u001b[0m\n\u001b[0;32m     18\u001b[0m     \u001b[0mbmp\u001b[0m\u001b[1;33m.\u001b[0m\u001b[0mCreateCompatibleBitmap\u001b[0m\u001b[1;33m(\u001b[0m\u001b[0msrcdc\u001b[0m\u001b[1;33m,\u001b[0m \u001b[0mwidth\u001b[0m\u001b[1;33m,\u001b[0m \u001b[0mheight\u001b[0m\u001b[1;33m)\u001b[0m\u001b[1;33m\u001b[0m\u001b[1;33m\u001b[0m\u001b[0m\n\u001b[0;32m     19\u001b[0m     \u001b[0mmemdc\u001b[0m\u001b[1;33m.\u001b[0m\u001b[0mSelectObject\u001b[0m\u001b[1;33m(\u001b[0m\u001b[0mbmp\u001b[0m\u001b[1;33m)\u001b[0m\u001b[1;33m\u001b[0m\u001b[1;33m\u001b[0m\u001b[0m\n\u001b[1;32m---> 20\u001b[1;33m     \u001b[0mmemdc\u001b[0m\u001b[1;33m.\u001b[0m\u001b[0mBitBlt\u001b[0m\u001b[1;33m(\u001b[0m\u001b[1;33m(\u001b[0m\u001b[1;36m0\u001b[0m\u001b[1;33m,\u001b[0m \u001b[1;36m0\u001b[0m\u001b[1;33m)\u001b[0m\u001b[1;33m,\u001b[0m \u001b[1;33m(\u001b[0m\u001b[0mwidth\u001b[0m\u001b[1;33m,\u001b[0m \u001b[0mheight\u001b[0m\u001b[1;33m)\u001b[0m\u001b[1;33m,\u001b[0m \u001b[0msrcdc\u001b[0m\u001b[1;33m,\u001b[0m \u001b[1;33m(\u001b[0m\u001b[0mleft\u001b[0m\u001b[1;33m,\u001b[0m \u001b[0mtop\u001b[0m\u001b[1;33m)\u001b[0m\u001b[1;33m,\u001b[0m \u001b[0mwin32con\u001b[0m\u001b[1;33m.\u001b[0m\u001b[0mSRCCOPY\u001b[0m\u001b[1;33m)\u001b[0m\u001b[1;33m\u001b[0m\u001b[1;33m\u001b[0m\u001b[0m\n\u001b[0m\u001b[0;32m     21\u001b[0m \u001b[1;33m\u001b[0m\u001b[0m\n\u001b[0;32m     22\u001b[0m     \u001b[0msignedIntsArray\u001b[0m \u001b[1;33m=\u001b[0m \u001b[0mbmp\u001b[0m\u001b[1;33m.\u001b[0m\u001b[0mGetBitmapBits\u001b[0m\u001b[1;33m(\u001b[0m\u001b[1;32mTrue\u001b[0m\u001b[1;33m)\u001b[0m\u001b[1;33m\u001b[0m\u001b[1;33m\u001b[0m\u001b[0m\n",
      "\u001b[1;31mKeyboardInterrupt\u001b[0m: "
     ]
    }
   ],
   "source": [
    "# while True:\n",
    "#     image = grab_screen()\n",
    "\n",
    "#     cv2.imshow(\"Image\", image)\n",
    "#     cv2.waitKey(15)"
   ]
  },
  {
   "cell_type": "markdown",
   "id": "a8b4608e-baf1-4ffd-8de2-7f9e6ef07d3d",
   "metadata": {},
   "source": [
    "## Move Mouse"
   ]
  },
  {
   "cell_type": "code",
   "execution_count": 5,
   "id": "18813198-fa5d-46be-af8c-028db44203e4",
   "metadata": {},
   "outputs": [],
   "source": [
    "import pyautogui\n",
    "import time"
   ]
  },
  {
   "cell_type": "code",
   "execution_count": 7,
   "id": "99ab63ac-2779-42a5-9ba7-52c73fd73539",
   "metadata": {},
   "outputs": [],
   "source": [
    "pyautogui.moveTo(100, 150)"
   ]
  },
  {
   "cell_type": "code",
   "execution_count": 18,
   "id": "e697282f-8a33-4cce-805c-9e41ad6c90d5",
   "metadata": {},
   "outputs": [],
   "source": [
    "clash_of_clans_loc = (1100, 280)\n",
    "okay_loc = (1050, 650)"
   ]
  },
  {
   "cell_type": "code",
   "execution_count": 56,
   "id": "9ecb4d80-9cd0-45d0-b9b3-de8c3acfb988",
   "metadata": {},
   "outputs": [],
   "source": [
    "def open_coc():\n",
    "    \"\"\"\n",
    "    Open clash of clans on bluestacks.\n",
    "    \"\"\"\n",
    "    pyautogui.moveTo(clash_of_clans_loc)\n",
    "    pyautogui.click(clash_of_clans_loc)"
   ]
  },
  {
   "cell_type": "code",
   "execution_count": 57,
   "id": "2d01bc3a-fa28-47f6-baf1-2dedc48832c5",
   "metadata": {},
   "outputs": [],
   "source": [
    "def exit_game():\n",
    "    \"\"\"\n",
    "    Exit clash of clans on bluestacks.\n",
    "    \"\"\"\n",
    "    # Click somewhere on the app\n",
    "    pyautogui.click(clash_of_clans_loc)\n",
    "    # Use the bluestacks hotkey to quit\n",
    "    pyautogui.hotkey('ctrl','shift','2')\n",
    "    # Click on Okay\n",
    "    time.sleep(0.5)\n",
    "    pyautogui.click(okay_loc)"
   ]
  },
  {
   "cell_type": "markdown",
   "id": "b6c391f0-de6b-4b9a-97b8-8618e578bc3d",
   "metadata": {},
   "source": [
    "## Template matching"
   ]
  },
  {
   "cell_type": "markdown",
   "id": "a5bd2f8b-84bf-4690-9e69-cca1fd4f783e",
   "metadata": {},
   "source": [
    "https://docs.opencv.org/4.x/d4/dc6/tutorial_py_template_matching.html"
   ]
  },
  {
   "cell_type": "code",
   "execution_count": 8,
   "id": "5882b151-f82d-45b5-a36f-15a3b8399af8",
   "metadata": {},
   "outputs": [],
   "source": [
    "import cv2"
   ]
  },
  {
   "cell_type": "code",
   "execution_count": 9,
   "id": "2a023e42-4b56-4e2c-80ea-a29110baaedb",
   "metadata": {},
   "outputs": [],
   "source": [
    "import numpy as np"
   ]
  },
  {
   "cell_type": "code",
   "execution_count": 29,
   "id": "9ccd563a-04b9-4d41-98f7-37098f2f3c67",
   "metadata": {},
   "outputs": [
    {
     "name": "stderr",
     "output_type": "stream",
     "text": [
      "C:\\Users\\patta\\anaconda3\\envs\\py37\\lib\\site-packages\\ipykernel_launcher.py:23: DeprecationWarning: The binary mode of fromstring is deprecated, as it behaves surprisingly on unicode inputs. Use frombuffer instead\n"
     ]
    }
   ],
   "source": [
    "img_rgb = grab_coc()\n",
    "img_gray = cv2.cvtColor(img_rgb, cv2.COLOR_BGR2GRAY)"
   ]
  },
  {
   "cell_type": "code",
   "execution_count": 38,
   "id": "314498d9-3496-41af-86a3-4353449b2b19",
   "metadata": {},
   "outputs": [],
   "source": [
    "show_image(img_rgb)"
   ]
  },
  {
   "cell_type": "code",
   "execution_count": 31,
   "id": "e3bfa022-6f48-4459-ae0e-51b3081af0eb",
   "metadata": {},
   "outputs": [],
   "source": [
    "template = cv2.imread('images/elixir_collector_real.png', 0)\n",
    "w, h = template.shape[::-1]"
   ]
  },
  {
   "cell_type": "code",
   "execution_count": 32,
   "id": "afcb32fc-a06e-429c-a42b-c084c1f04659",
   "metadata": {},
   "outputs": [],
   "source": [
    "show_image(template)"
   ]
  },
  {
   "cell_type": "code",
   "execution_count": 33,
   "id": "2ea1ddda-e1dd-4726-80e8-4f823f2ae641",
   "metadata": {},
   "outputs": [],
   "source": [
    "result = cv2.matchTemplate(img_gray, template, cv2.TM_CCOEFF_NORMED)"
   ]
  },
  {
   "cell_type": "code",
   "execution_count": 37,
   "id": "13d6d41b-d8c1-45fd-8c2b-5d49cf9e8a7e",
   "metadata": {},
   "outputs": [
    {
     "name": "stdout",
     "output_type": "stream",
     "text": [
      "(array([151, 151, 151, 152, 152, 152, 152, 152, 153, 153, 153, 153, 153,\n",
      "       154, 154, 154, 154, 154, 155, 155, 155, 211, 211, 212, 212, 269,\n",
      "       269, 270, 270, 540, 541], dtype=int64), array([ 813,  814,  815,  812,  813,  814,  815,  816,  812,  813,  814,\n",
      "        815,  816,  812,  813,  814,  815,  816,  813,  814,  815,  400,\n",
      "        401,  400,  401, 1072, 1073, 1072, 1073,  530,  530], dtype=int64))\n"
     ]
    }
   ],
   "source": [
    "print(loc)"
   ]
  },
  {
   "cell_type": "code",
   "execution_count": 39,
   "id": "f197d322-fd90-4c10-87b6-af29f2d2888b",
   "metadata": {},
   "outputs": [
    {
     "name": "stdout",
     "output_type": "stream",
     "text": [
      "(813, 151)\n",
      "(814, 151)\n",
      "(815, 151)\n",
      "(812, 152)\n",
      "(813, 152)\n",
      "(814, 152)\n",
      "(815, 152)\n",
      "(816, 152)\n",
      "(812, 153)\n",
      "(813, 153)\n",
      "(814, 153)\n",
      "(815, 153)\n",
      "(816, 153)\n",
      "(812, 154)\n",
      "(813, 154)\n",
      "(814, 154)\n",
      "(815, 154)\n",
      "(816, 154)\n",
      "(813, 155)\n",
      "(814, 155)\n",
      "(815, 155)\n",
      "(400, 211)\n",
      "(401, 211)\n",
      "(400, 212)\n",
      "(401, 212)\n",
      "(1072, 269)\n",
      "(1073, 269)\n",
      "(1072, 270)\n",
      "(1073, 270)\n",
      "(530, 540)\n",
      "(530, 541)\n"
     ]
    }
   ],
   "source": [
    "# print(result)\n",
    "demo_img = img_rgb.copy()\n",
    "threshold = 0.5\n",
    "loc = np.where(result >= threshold)\n",
    "# print(loc)\n",
    "for pt in zip(*loc[::-1]):\n",
    "    print(pt)\n",
    "    cv2.rectangle(demo_img, pt, (pt[0] + w, pt[1] + h), (0,0,255), 2)\n",
    "    \n",
    "show_image(demo_img)\n",
    "# cv2.imwrite('images/res.png', img_rgb)"
   ]
  },
  {
   "cell_type": "code",
   "execution_count": 40,
   "id": "a7b65046-f65f-494f-a46a-1e7f635acb39",
   "metadata": {},
   "outputs": [],
   "source": [
    "blue_stack_win_top_left = (267, 107)"
   ]
  },
  {
   "cell_type": "code",
   "execution_count": 44,
   "id": "a88001b6-ca9e-4f0b-8371-e5add70514ce",
   "metadata": {},
   "outputs": [],
   "source": [
    "pyautogui.moveTo(267+813+w/2, 107+151+h/2)"
   ]
  },
  {
   "cell_type": "code",
   "execution_count": 42,
   "id": "5ae8bfa5-1fb8-4373-9858-17a8d7d428e7",
   "metadata": {},
   "outputs": [
    {
     "data": {
      "text/plain": [
       "1013"
      ]
     },
     "execution_count": 42,
     "metadata": {},
     "output_type": "execute_result"
    }
   ],
   "source": [
    "813+200"
   ]
  },
  {
   "cell_type": "code",
   "execution_count": 55,
   "id": "4d6a864d-f60c-45c1-be82-ebd9b9186e67",
   "metadata": {},
   "outputs": [],
   "source": [
    "img_rgb = grab_coc()\n",
    "img_gray = cv2.cvtColor(img_rgb, cv2.COLOR_BGR2GRAY)"
   ]
  },
  {
   "cell_type": "code",
   "execution_count": 58,
   "id": "d71e7f5a-592e-4c10-b75f-00e868a4f936",
   "metadata": {},
   "outputs": [],
   "source": [
    "elixir_template = cv2.imread('images/elixir_collector_real.png', 0)\n",
    "gold_template = cv2.imread('images/gold_collector_real.png', 0)\n",
    "dark_elixir_template = cv2.imread('images/dark_elixir_collector_real.png', 0)"
   ]
  },
  {
   "cell_type": "code",
   "execution_count": 60,
   "id": "141d7057-469b-4526-aa5a-32927ca91be4",
   "metadata": {},
   "outputs": [],
   "source": [
    "blue_stack_win_top_left = (267, 107)"
   ]
  },
  {
   "cell_type": "code",
   "execution_count": 59,
   "id": "59aeffc9-e74f-43fa-94cd-a59d2480a585",
   "metadata": {},
   "outputs": [],
   "source": [
    "def collect_resource(template):\n",
    "    \"\"\"\n",
    "    Match the resource template and click on resource to collect it.\n",
    "    \"\"\"\n",
    "    w, h = template.shape[::-1]\n",
    "    result = cv2.matchTemplate(img_gray, template, cv2.TM_CCOEFF_NORMED)\n",
    "    threshold = 0.5\n",
    "    loc = np.where(result >= threshold)\n",
    "\n",
    "    loc_pos = [pt for pt in zip(*loc[::-1])]\n",
    "\n",
    "    resource_loc = (loc_pos[0][0] + blue_stack_win_top_left[0] + w/2, loc_pos[0][1] + blue_stack_win_top_left[1] + h/2)\n",
    "\n",
    "    pyautogui.moveTo(resource_loc)\n",
    "\n",
    "    pyautogui.click(resource_loc)\n",
    "    time.sleep(1)"
   ]
  },
  {
   "cell_type": "code",
   "execution_count": 61,
   "id": "0dc8cabb-fa47-4999-ad78-a29567ddef63",
   "metadata": {},
   "outputs": [],
   "source": [
    "for template in [elixir_template, gold_template, dark_elixir_template]:\n",
    "    collect_resource(template)"
   ]
  },
  {
   "cell_type": "code",
   "execution_count": null,
   "id": "fea58365-0cd3-441a-b798-0234e2b46a15",
   "metadata": {},
   "outputs": [],
   "source": []
  }
 ],
 "metadata": {
  "kernelspec": {
   "display_name": "Python 3 (ipykernel)",
   "language": "python",
   "name": "python3"
  },
  "language_info": {
   "codemirror_mode": {
    "name": "ipython",
    "version": 3
   },
   "file_extension": ".py",
   "mimetype": "text/x-python",
   "name": "python",
   "nbconvert_exporter": "python",
   "pygments_lexer": "ipython3",
   "version": "3.7.11"
  }
 },
 "nbformat": 4,
 "nbformat_minor": 5
}
